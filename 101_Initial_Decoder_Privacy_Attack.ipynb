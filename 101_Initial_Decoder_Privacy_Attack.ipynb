{
 "cells": [
  {
   "cell_type": "markdown",
   "id": "d17f193d",
   "metadata": {},
   "source": [
    "> __Purpose:__ Implement an initial privacy attack to quantify how much re-identiifcation and linkability risk exists from personalization parameters (the decoder used in the co-adaptation algorithm). Thus, implement a basic ML model to link the decoder matrices back to the corresponding subject.  \n",
    "\n",
    "-- 7 Subjects, therefore pure guessing would be 14.28% correct on average"
   ]
  },
  {
   "cell_type": "code",
   "execution_count": 1,
   "id": "a61b3128",
   "metadata": {},
   "outputs": [],
   "source": [
    "import numpy as np\n",
    "import matplotlib.pyplot as plt\n",
    "# import seaborn\n",
    "import time\n",
    "import pandas as pd\n",
    "import pickle\n",
    "import random\n",
    "from kcs_ml_infr import *\n",
    "\n",
    "random.seed(a=1)"
   ]
  },
  {
   "cell_type": "markdown",
   "id": "a850bb15",
   "metadata": {},
   "source": [
    "# Load In Data"
   ]
  },
  {
   "cell_type": "code",
   "execution_count": 2,
   "id": "f141f3e9",
   "metadata": {},
   "outputs": [],
   "source": [
    "keys = ['METACPHS_S106', 'METACPHS_S107','METACPHS_S108', 'METACPHS_S109', 'METACPHS_S110', 'METACPHS_S111', 'METACPHS_S112']\n",
    "\n",
    "with open('Data\\cphs_data_block1.pickle', 'rb') as handle:\n",
    "    #refs_block1, poss_block1, dec_vels_block1, int_vel_block1, emgs_block1, Ws_block1, Hs_block1, alphas_block1, pDs_block1, times_block1, conditions_block1 = pickle.load(handle)\n",
    "    _, _, _, _, _, Ws_block1, _, _, _, times_block1, _ = pickle.load(handle)\n",
    "\n",
    "with open('Data\\cphs_data_block2.pickle', 'rb') as handle:\n",
    "    #refs_block2, poss_block2, dec_vels_block2, int_vel_block2, emgs_block2, Ws_block2, Hs_block2, alphas_block2, pDs_block2, times_block2, conditions_block2 = pickle.load(handle)\n",
    "    _, _, _, _, _, Ws_block2, _, _, _, times_block2, _ = pickle.load(handle)"
   ]
  },
  {
   "cell_type": "code",
   "execution_count": 3,
   "id": "7a57ed11",
   "metadata": {},
   "outputs": [
    {
     "name": "stdout",
     "output_type": "stream",
     "text": [
      "(19,)\n",
      "[    0  1200  2402  3604  4806  6008  7210  8412  9614 10816 12018 13220\n",
      " 14422 15624 16826 18028 19230 20432 20769]\n"
     ]
    }
   ],
   "source": [
    "# Decoder updates\n",
    "W = Ws_block1[keys[0]][0]\n",
    "W[1:,:,:].shape # 7199 time points x (decoder dimensions is 2 x 6)\n",
    "dold = W[0]\n",
    "update_ix = []\n",
    "for ix,d in enumerate(W[1:]):\n",
    "  if (np.array_equal(dold,d)==False):\n",
    "    update_ix.append(ix)\n",
    "    dold = d\n",
    "\n",
    "update_ix.append(len(W) - 1) \n",
    "update_ix = np.asarray(update_ix)\n",
    "update_ix = np.hstack([[0],update_ix])\n",
    "\n",
    "print(update_ix.shape)\n",
    "print(update_ix)"
   ]
  },
  {
   "cell_type": "markdown",
   "id": "fe2c31d3",
   "metadata": {},
   "source": [
    "I'm just making the flatten array input DF here"
   ]
  },
  {
   "cell_type": "code",
   "execution_count": 4,
   "id": "68df6d9d",
   "metadata": {},
   "outputs": [
    {
     "data": {
      "text/html": [
       "<div>\n",
       "<style scoped>\n",
       "    .dataframe tbody tr th:only-of-type {\n",
       "        vertical-align: middle;\n",
       "    }\n",
       "\n",
       "    .dataframe tbody tr th {\n",
       "        vertical-align: top;\n",
       "    }\n",
       "\n",
       "    .dataframe thead th {\n",
       "        text-align: right;\n",
       "    }\n",
       "</style>\n",
       "<table border=\"1\" class=\"dataframe\">\n",
       "  <thead>\n",
       "    <tr style=\"text-align: right;\">\n",
       "      <th></th>\n",
       "      <th>Subject</th>\n",
       "      <th>Condition</th>\n",
       "      <th>Update Number</th>\n",
       "      <th>Flattened Decoder</th>\n",
       "    </tr>\n",
       "  </thead>\n",
       "  <tbody>\n",
       "  </tbody>\n",
       "</table>\n",
       "</div>"
      ],
      "text/plain": [
       "Empty DataFrame\n",
       "Columns: [Subject, Condition, Update Number, Flattened Decoder]\n",
       "Index: []"
      ]
     },
     "execution_count": 4,
     "metadata": {},
     "output_type": "execute_result"
    }
   ],
   "source": [
    "dec_flattened_df1 = pd.DataFrame(columns=[\"Subject\", \"Condition\", \"Update Number\", \"Flattened Decoder\"])\n",
    "dec_flattened_df2 = pd.DataFrame(columns=[\"Subject\", \"Condition\", \"Update Number\", \"Flattened Decoder\"])\n",
    "\n",
    "dec_flattened_df1.head()"
   ]
  },
  {
   "cell_type": "code",
   "execution_count": 5,
   "id": "b5ae40cd",
   "metadata": {},
   "outputs": [
    {
     "name": "stdout",
     "output_type": "stream",
     "text": [
      "3.9847707748413086\n"
     ]
    }
   ],
   "source": [
    "num_conds = 8\n",
    "\n",
    "t0 = time.time()\n",
    "\n",
    "for key in keys:\n",
    "    participant_dec1 = Ws_block1[key]\n",
    "    participant_dec2 = Ws_block2[key]\n",
    "    \n",
    "    for my_cond in range(num_conds):\n",
    "        for update_number, update_idx in enumerate(update_ix):\n",
    "            dec_flattened_df1.loc[len(dec_flattened_df1)] = [key, my_cond, update_number, np.ravel(participant_dec1[my_cond, update_idx, :, :])]\n",
    "            dec_flattened_df2.loc[len(dec_flattened_df2)] = [key, my_cond, update_number, np.ravel(participant_dec2[my_cond, update_idx, :, :])]\n",
    "        \n",
    "t1 = time.time()\n",
    "total = t1-t0  \n",
    "print(total)"
   ]
  },
  {
   "cell_type": "markdown",
   "id": "170f7f50",
   "metadata": {},
   "source": [
    "Also make a DF of vector of norms (wrt ending point)"
   ]
  },
  {
   "cell_type": "code",
   "execution_count": 6,
   "id": "9483fdaa",
   "metadata": {},
   "outputs": [],
   "source": [
    "#dec_vec_norm_df1 = pd.DataFrame(columns=[\"Subject\", \"Condition\", \"Norm Vector\"])\n",
    "#dec_vec_norm_df2 = pd.DataFrame(columns=[\"Subject\", \"Condition\", \"Norm Vector\"])\n",
    "\n",
    "#dec_vec_norm_df1.head()"
   ]
  },
  {
   "cell_type": "code",
   "execution_count": 7,
   "id": "2b364552",
   "metadata": {},
   "outputs": [
    {
     "data": {
      "text/plain": [
       "0"
      ]
     },
     "execution_count": 7,
     "metadata": {},
     "output_type": "execute_result"
    }
   ],
   "source": [
    "# Not working like it's supposed to \n",
    "'''\n",
    "#\n",
    "dec_per_cond_b1 = [0]*num_conds\n",
    "dec_per_cond_b2 = [0]*num_conds\n",
    "#\n",
    "norm_per_cond_b1 = [0]*num_conds\n",
    "norm_per_cond_b2 = [0]*num_conds\n",
    "for cond in range(num_conds):  \n",
    "    dec_per_cond_b1[cond] = [0]*len(update_ix)\n",
    "    dec_per_cond_b2[cond] = [0]*len(update_ix)\n",
    "    #\n",
    "    norm_per_cond_b1[cond] = [0]*len(update_ix)\n",
    "    norm_per_cond_b2[cond] = [0]*len(update_ix)\n",
    "\n",
    "for key in keys:\n",
    "    participant_dec1 = Ws_block1[key]\n",
    "    participant_dec2 = Ws_block2[key]\n",
    "    \n",
    "    for my_cond in range(num_conds):\n",
    "        for idx, my_update in enumerate(update_ix):\n",
    "            dec_per_cond_b1[my_cond][idx] = participant_dec1[my_cond, my_update, :, :]\n",
    "            dec_per_cond_b2[my_cond][idx] = participant_dec2[my_cond, my_update, :, :]\n",
    "    \n",
    "#################################\n",
    "for my_cond in range(num_conds):\n",
    "    for dec_num in range(len(update_ix)):\n",
    "        norm_per_cond_b1[my_cond][dec_num] = np.linalg.norm(dec_per_cond_b1[my_cond][dec_num] - dec_per_cond_b1[my_cond][-1])\n",
    "        norm_per_cond_b2[my_cond][dec_num] = np.linalg.norm(dec_per_cond_b2[my_cond][dec_num] - dec_per_cond_b2[my_cond][-1])\n",
    "        \n",
    "#################################\n",
    "for key in keys:\n",
    "    participant_dec1 = Ws_block1[key]\n",
    "    participant_dec2 = Ws_block2[key]\n",
    "    \n",
    "    for my_cond in range(num_conds):\n",
    "        for idx, my_update in enumerate(update_ix):\n",
    "            dec_vec_norm_df1.loc[len(dec_vec_norm_df1)] = [key, my_cond, norm_per_cond_b1[my_cond]]\n",
    "            dec_vec_norm_df2.loc[len(dec_vec_norm_df2)] = [key, my_cond, norm_per_cond_b2[my_cond]]\n",
    "'''\n",
    "0"
   ]
  },
  {
   "cell_type": "markdown",
   "id": "04a97330",
   "metadata": {},
   "source": [
    "Load in the other data\n",
    "> This cell takes forever to run... not sure if it was actually any quicker to import vs just make it all over again"
   ]
  },
  {
   "cell_type": "code",
   "execution_count": 8,
   "id": "30b50886",
   "metadata": {},
   "outputs": [
    {
     "name": "stdout",
     "output_type": "stream",
     "text": [
      "0.011649608612060547\n"
     ]
    }
   ],
   "source": [
    "t0 = time.time()\n",
    "\n",
    "dec_norms_df1 = pd.read_csv(\"Data\\decoder_norms1.csv\")\n",
    "dec_norms_df2 = pd.read_csv(\"Data\\decoder_norms2.csv\")\n",
    "\n",
    "t1 = time.time()\n",
    "total = t1-t0  \n",
    "print(total)"
   ]
  },
  {
   "cell_type": "code",
   "execution_count": 9,
   "id": "d045a760",
   "metadata": {},
   "outputs": [],
   "source": [
    "dec_norms_df = pd.concat((dec_norms_df1, dec_norms_df2))\n",
    "dec_flattened_df = pd.concat((dec_flattened_df1, dec_flattened_df2))\n",
    "# This one isn't working yet\n",
    "#dec_vec_norm_df = pd.concat((dec_vec_norm_df1, dec_vec_norm_df2))"
   ]
  },
  {
   "cell_type": "code",
   "execution_count": 10,
   "id": "53ade3fa",
   "metadata": {},
   "outputs": [
    {
     "name": "stdout",
     "output_type": "stream",
     "text": [
      "(2128, 5)\n"
     ]
    },
    {
     "data": {
      "text/html": [
       "<div>\n",
       "<style scoped>\n",
       "    .dataframe tbody tr th:only-of-type {\n",
       "        vertical-align: middle;\n",
       "    }\n",
       "\n",
       "    .dataframe tbody tr th {\n",
       "        vertical-align: top;\n",
       "    }\n",
       "\n",
       "    .dataframe thead th {\n",
       "        text-align: right;\n",
       "    }\n",
       "</style>\n",
       "<table border=\"1\" class=\"dataframe\">\n",
       "  <thead>\n",
       "    <tr style=\"text-align: right;\">\n",
       "      <th></th>\n",
       "      <th>Subject</th>\n",
       "      <th>Condition</th>\n",
       "      <th>Update Number</th>\n",
       "      <th>Frobenius Norm</th>\n",
       "    </tr>\n",
       "  </thead>\n",
       "  <tbody>\n",
       "    <tr>\n",
       "      <th>0</th>\n",
       "      <td>METACPHS_S106</td>\n",
       "      <td>0</td>\n",
       "      <td>0</td>\n",
       "      <td>0.066360</td>\n",
       "    </tr>\n",
       "    <tr>\n",
       "      <th>1</th>\n",
       "      <td>METACPHS_S106</td>\n",
       "      <td>0</td>\n",
       "      <td>1</td>\n",
       "      <td>0.066360</td>\n",
       "    </tr>\n",
       "    <tr>\n",
       "      <th>2</th>\n",
       "      <td>METACPHS_S106</td>\n",
       "      <td>0</td>\n",
       "      <td>2</td>\n",
       "      <td>9.709390</td>\n",
       "    </tr>\n",
       "    <tr>\n",
       "      <th>3</th>\n",
       "      <td>METACPHS_S106</td>\n",
       "      <td>0</td>\n",
       "      <td>3</td>\n",
       "      <td>8.209080</td>\n",
       "    </tr>\n",
       "    <tr>\n",
       "      <th>4</th>\n",
       "      <td>METACPHS_S106</td>\n",
       "      <td>0</td>\n",
       "      <td>4</td>\n",
       "      <td>10.406943</td>\n",
       "    </tr>\n",
       "  </tbody>\n",
       "</table>\n",
       "</div>"
      ],
      "text/plain": [
       "         Subject  Condition  Update Number  Frobenius Norm\n",
       "0  METACPHS_S106          0              0        0.066360\n",
       "1  METACPHS_S106          0              1        0.066360\n",
       "2  METACPHS_S106          0              2        9.709390\n",
       "3  METACPHS_S106          0              3        8.209080\n",
       "4  METACPHS_S106          0              4       10.406943"
      ]
     },
     "execution_count": 10,
     "metadata": {},
     "output_type": "execute_result"
    }
   ],
   "source": [
    "print(dec_norms_df.shape)\n",
    "dec_norms_df.drop('Unnamed: 0', axis=1, inplace=True)\n",
    "dec_norms_df.head()"
   ]
  },
  {
   "cell_type": "code",
   "execution_count": 11,
   "id": "f60ea530",
   "metadata": {},
   "outputs": [
    {
     "name": "stdout",
     "output_type": "stream",
     "text": [
      "(2128, 4)\n"
     ]
    },
    {
     "data": {
      "text/html": [
       "<div>\n",
       "<style scoped>\n",
       "    .dataframe tbody tr th:only-of-type {\n",
       "        vertical-align: middle;\n",
       "    }\n",
       "\n",
       "    .dataframe tbody tr th {\n",
       "        vertical-align: top;\n",
       "    }\n",
       "\n",
       "    .dataframe thead th {\n",
       "        text-align: right;\n",
       "    }\n",
       "</style>\n",
       "<table border=\"1\" class=\"dataframe\">\n",
       "  <thead>\n",
       "    <tr style=\"text-align: right;\">\n",
       "      <th></th>\n",
       "      <th>Subject</th>\n",
       "      <th>Condition</th>\n",
       "      <th>Update Number</th>\n",
       "      <th>Flattened Decoder</th>\n",
       "    </tr>\n",
       "  </thead>\n",
       "  <tbody>\n",
       "    <tr>\n",
       "      <th>0</th>\n",
       "      <td>METACPHS_S106</td>\n",
       "      <td>0</td>\n",
       "      <td>0</td>\n",
       "      <td>[0.002722144351611262, 0.002605931562722017, 0...</td>\n",
       "    </tr>\n",
       "    <tr>\n",
       "      <th>1</th>\n",
       "      <td>METACPHS_S106</td>\n",
       "      <td>0</td>\n",
       "      <td>1</td>\n",
       "      <td>[0.002722144351611262, 0.002605931562722017, 0...</td>\n",
       "    </tr>\n",
       "    <tr>\n",
       "      <th>2</th>\n",
       "      <td>METACPHS_S106</td>\n",
       "      <td>0</td>\n",
       "      <td>2</td>\n",
       "      <td>[-0.34157085409453486, 0.08410593293763585, -0...</td>\n",
       "    </tr>\n",
       "    <tr>\n",
       "      <th>3</th>\n",
       "      <td>METACPHS_S106</td>\n",
       "      <td>0</td>\n",
       "      <td>3</td>\n",
       "      <td>[-0.1738624752800762, 0.003705171262358347, 0....</td>\n",
       "    </tr>\n",
       "    <tr>\n",
       "      <th>4</th>\n",
       "      <td>METACPHS_S106</td>\n",
       "      <td>0</td>\n",
       "      <td>4</td>\n",
       "      <td>[0.8321061501817386, -1.3261242289666402, 0.28...</td>\n",
       "    </tr>\n",
       "  </tbody>\n",
       "</table>\n",
       "</div>"
      ],
      "text/plain": [
       "         Subject  Condition  Update Number  \\\n",
       "0  METACPHS_S106          0              0   \n",
       "1  METACPHS_S106          0              1   \n",
       "2  METACPHS_S106          0              2   \n",
       "3  METACPHS_S106          0              3   \n",
       "4  METACPHS_S106          0              4   \n",
       "\n",
       "                                   Flattened Decoder  \n",
       "0  [0.002722144351611262, 0.002605931562722017, 0...  \n",
       "1  [0.002722144351611262, 0.002605931562722017, 0...  \n",
       "2  [-0.34157085409453486, 0.08410593293763585, -0...  \n",
       "3  [-0.1738624752800762, 0.003705171262358347, 0....  \n",
       "4  [0.8321061501817386, -1.3261242289666402, 0.28...  "
      ]
     },
     "execution_count": 11,
     "metadata": {},
     "output_type": "execute_result"
    }
   ],
   "source": [
    "print(dec_flattened_df.shape)\n",
    "dec_flattened_df.head()"
   ]
  },
  {
   "cell_type": "markdown",
   "id": "3814ddf7",
   "metadata": {},
   "source": [
    "# Classification\n",
    "1. Logistic Regression\n",
    "2. K-Nearest Neighbor\n",
    "3. Gaussian Naive Bayes\n",
    "4. Linear SVC\n",
    "5. Stochastic Gradient Descent\n",
    "6. Decision Tree Classifier\n",
    "7. Gradient Boosting Trees"
   ]
  },
  {
   "cell_type": "code",
   "execution_count": 12,
   "id": "e4dca181",
   "metadata": {},
   "outputs": [],
   "source": [
    "# Machine learning\n",
    "from sklearn.model_selection import train_test_split\n",
    "from sklearn import model_selection, tree, preprocessing, metrics, linear_model\n",
    "from sklearn.svm import LinearSVC\n",
    "from sklearn.ensemble import GradientBoostingClassifier\n",
    "from sklearn.neighbors import KNeighborsClassifier\n",
    "from sklearn.naive_bayes import GaussianNB\n",
    "from sklearn.linear_model import LogisticRegression, SGDClassifier\n",
    "from sklearn.tree import DecisionTreeClassifier"
   ]
  },
  {
   "cell_type": "code",
   "execution_count": 13,
   "id": "eef01e6c",
   "metadata": {},
   "outputs": [],
   "source": [
    "# Set the number of k-folds\n",
    "cv = 10"
   ]
  },
  {
   "cell_type": "markdown",
   "id": "da43530f",
   "metadata": {},
   "source": [
    "## 1) Linking Matrix Norms to Participants"
   ]
  },
  {
   "cell_type": "code",
   "execution_count": 14,
   "id": "64e331aa",
   "metadata": {},
   "outputs": [],
   "source": [
    "norm_label_df = dec_norms_df.drop([\"Condition\", \"Update Number\", \"Frobenius Norm\"], axis=1)"
   ]
  },
  {
   "cell_type": "code",
   "execution_count": 15,
   "id": "8a4b7877",
   "metadata": {},
   "outputs": [],
   "source": [
    "key_to_num = dict()\n",
    "num_to_key = dict()\n",
    "for idx, key in enumerate(keys):\n",
    "    key_to_num[key] = idx\n",
    "    num_to_key[idx] = key"
   ]
  },
  {
   "cell_type": "code",
   "execution_count": 16,
   "id": "ab3af1aa",
   "metadata": {},
   "outputs": [
    {
     "data": {
      "text/html": [
       "<div>\n",
       "<style scoped>\n",
       "    .dataframe tbody tr th:only-of-type {\n",
       "        vertical-align: middle;\n",
       "    }\n",
       "\n",
       "    .dataframe tbody tr th {\n",
       "        vertical-align: top;\n",
       "    }\n",
       "\n",
       "    .dataframe thead th {\n",
       "        text-align: right;\n",
       "    }\n",
       "</style>\n",
       "<table border=\"1\" class=\"dataframe\">\n",
       "  <thead>\n",
       "    <tr style=\"text-align: right;\">\n",
       "      <th></th>\n",
       "      <th>Subject</th>\n",
       "    </tr>\n",
       "  </thead>\n",
       "  <tbody>\n",
       "    <tr>\n",
       "      <th>0</th>\n",
       "      <td>0</td>\n",
       "    </tr>\n",
       "    <tr>\n",
       "      <th>1</th>\n",
       "      <td>0</td>\n",
       "    </tr>\n",
       "    <tr>\n",
       "      <th>2</th>\n",
       "      <td>0</td>\n",
       "    </tr>\n",
       "    <tr>\n",
       "      <th>3</th>\n",
       "      <td>0</td>\n",
       "    </tr>\n",
       "    <tr>\n",
       "      <th>4</th>\n",
       "      <td>0</td>\n",
       "    </tr>\n",
       "  </tbody>\n",
       "</table>\n",
       "</div>"
      ],
      "text/plain": [
       "   Subject\n",
       "0        0\n",
       "1        0\n",
       "2        0\n",
       "3        0\n",
       "4        0"
      ]
     },
     "execution_count": 16,
     "metadata": {},
     "output_type": "execute_result"
    }
   ],
   "source": [
    "norm_label_df[\"Subject\"] = norm_label_df[\"Subject\"].map(key_to_num)\n",
    "norm_label_df.head()"
   ]
  },
  {
   "cell_type": "code",
   "execution_count": 17,
   "id": "3dc4481b",
   "metadata": {},
   "outputs": [],
   "source": [
    "# Result logs\n",
    "my_metrics_cols = ['Algorithm', 'One Off Acc', 'CV Acc', 'K Folds']\n",
    "res_df = pd.DataFrame(columns=my_metrics_cols)\n",
    "\n",
    "norm1d_res_df = pd.DataFrame(columns=my_metrics_cols)\n",
    "SSnorm1d_res_df = pd.DataFrame(columns=my_metrics_cols)\n",
    "flatten_dec_res_df = pd.DataFrame(columns=my_metrics_cols)\n",
    "SSflatten_dec_res_df = pd.DataFrame(columns=my_metrics_cols)\n",
    "norm_vec_res_df = pd.DataFrame(columns=my_metrics_cols)\n",
    "SSnorm_vec_res_df = pd.DataFrame(columns=my_metrics_cols)"
   ]
  },
  {
   "cell_type": "code",
   "execution_count": 18,
   "id": "836f3f48",
   "metadata": {},
   "outputs": [],
   "source": [
    "my_models = [LogisticRegression(), KNeighborsClassifier(), GaussianNB(), LinearSVC(), SGDClassifier(), DecisionTreeClassifier(), GradientBoostingClassifier()]"
   ]
  },
  {
   "cell_type": "markdown",
   "id": "fe29fc54",
   "metadata": {},
   "source": [
    "## Case 1: 1D Norm"
   ]
  },
  {
   "cell_type": "code",
   "execution_count": 19,
   "id": "34c163f2",
   "metadata": {},
   "outputs": [
    {
     "data": {
      "text/html": [
       "<div>\n",
       "<style scoped>\n",
       "    .dataframe tbody tr th:only-of-type {\n",
       "        vertical-align: middle;\n",
       "    }\n",
       "\n",
       "    .dataframe tbody tr th {\n",
       "        vertical-align: top;\n",
       "    }\n",
       "\n",
       "    .dataframe thead th {\n",
       "        text-align: right;\n",
       "    }\n",
       "</style>\n",
       "<table border=\"1\" class=\"dataframe\">\n",
       "  <thead>\n",
       "    <tr style=\"text-align: right;\">\n",
       "      <th></th>\n",
       "      <th>Frobenius Norm</th>\n",
       "    </tr>\n",
       "  </thead>\n",
       "  <tbody>\n",
       "    <tr>\n",
       "      <th>0</th>\n",
       "      <td>0.066360</td>\n",
       "    </tr>\n",
       "    <tr>\n",
       "      <th>1</th>\n",
       "      <td>0.066360</td>\n",
       "    </tr>\n",
       "    <tr>\n",
       "      <th>2</th>\n",
       "      <td>9.709390</td>\n",
       "    </tr>\n",
       "    <tr>\n",
       "      <th>3</th>\n",
       "      <td>8.209080</td>\n",
       "    </tr>\n",
       "    <tr>\n",
       "      <th>4</th>\n",
       "      <td>10.406943</td>\n",
       "    </tr>\n",
       "  </tbody>\n",
       "</table>\n",
       "</div>"
      ],
      "text/plain": [
       "   Frobenius Norm\n",
       "0        0.066360\n",
       "1        0.066360\n",
       "2        9.709390\n",
       "3        8.209080\n",
       "4       10.406943"
      ]
     },
     "execution_count": 19,
     "metadata": {},
     "output_type": "execute_result"
    }
   ],
   "source": [
    "norm_input_df = dec_norms_df.drop([\"Subject\",  \"Condition\", \"Update Number\"], axis=1)\n",
    "norm_input_df.head()"
   ]
  },
  {
   "cell_type": "code",
   "execution_count": 20,
   "id": "0f5306b8",
   "metadata": {},
   "outputs": [
    {
     "name": "stdout",
     "output_type": "stream",
     "text": [
      "(1489, 1)\n"
     ]
    },
    {
     "data": {
      "text/html": [
       "<div>\n",
       "<style scoped>\n",
       "    .dataframe tbody tr th:only-of-type {\n",
       "        vertical-align: middle;\n",
       "    }\n",
       "\n",
       "    .dataframe tbody tr th {\n",
       "        vertical-align: top;\n",
       "    }\n",
       "\n",
       "    .dataframe thead th {\n",
       "        text-align: right;\n",
       "    }\n",
       "</style>\n",
       "<table border=\"1\" class=\"dataframe\">\n",
       "  <thead>\n",
       "    <tr style=\"text-align: right;\">\n",
       "      <th></th>\n",
       "      <th>Frobenius Norm</th>\n",
       "    </tr>\n",
       "  </thead>\n",
       "  <tbody>\n",
       "    <tr>\n",
       "      <th>420</th>\n",
       "      <td>3.567582</td>\n",
       "    </tr>\n",
       "    <tr>\n",
       "      <th>146</th>\n",
       "      <td>5.589772</td>\n",
       "    </tr>\n",
       "    <tr>\n",
       "      <th>266</th>\n",
       "      <td>0.069974</td>\n",
       "    </tr>\n",
       "    <tr>\n",
       "      <th>695</th>\n",
       "      <td>5.796815</td>\n",
       "    </tr>\n",
       "    <tr>\n",
       "      <th>372</th>\n",
       "      <td>17.938752</td>\n",
       "    </tr>\n",
       "  </tbody>\n",
       "</table>\n",
       "</div>"
      ],
      "text/plain": [
       "     Frobenius Norm\n",
       "420        3.567582\n",
       "146        5.589772\n",
       "266        0.069974\n",
       "695        5.796815\n",
       "372       17.938752"
      ]
     },
     "execution_count": 20,
     "metadata": {},
     "output_type": "execute_result"
    }
   ],
   "source": [
    "X_train, y_train, X_test, y_test, X_val, y_val = train_test_val_split(norm_input_df, norm_label_df)\n",
    "y_train = np.ravel(y_train)\n",
    "\n",
    "print(X_train.shape)\n",
    "X_train.head()"
   ]
  },
  {
   "cell_type": "code",
   "execution_count": 21,
   "id": "1e1bfbf7",
   "metadata": {},
   "outputs": [
    {
     "name": "stderr",
     "output_type": "stream",
     "text": [
      "C:\\Users\\kdmen\\miniconda3\\lib\\site-packages\\sklearn\\neighbors\\_classification.py:237: FutureWarning: Unlike other reduction functions (e.g. `skew`, `kurtosis`), the default behavior of `mode` typically preserves the axis it acts along. In SciPy 1.11.0, this behavior will change: the default value of `keepdims` will become False, the `axis` over which the statistic is taken will be eliminated, and the value None will no longer be accepted. Set `keepdims` to True or False to avoid this warning.\n",
      "  mode, _ = stats.mode(_y[neigh_ind, k], axis=1)\n",
      "C:\\Users\\kdmen\\miniconda3\\lib\\site-packages\\sklearn\\svm\\_base.py:1225: ConvergenceWarning: Liblinear failed to converge, increase the number of iterations.\n",
      "  warnings.warn(\n"
     ]
    }
   ],
   "source": [
    "for model_num, model in enumerate(my_models):\n",
    "    norm1d_res_df = train_model(model, X_train, y_train, cv, norm1d_res_df)"
   ]
  },
  {
   "cell_type": "code",
   "execution_count": 22,
   "id": "f2978c75",
   "metadata": {},
   "outputs": [
    {
     "data": {
      "text/html": [
       "<div>\n",
       "<style scoped>\n",
       "    .dataframe tbody tr th:only-of-type {\n",
       "        vertical-align: middle;\n",
       "    }\n",
       "\n",
       "    .dataframe tbody tr th {\n",
       "        vertical-align: top;\n",
       "    }\n",
       "\n",
       "    .dataframe thead th {\n",
       "        text-align: right;\n",
       "    }\n",
       "</style>\n",
       "<table border=\"1\" class=\"dataframe\">\n",
       "  <thead>\n",
       "    <tr style=\"text-align: right;\">\n",
       "      <th></th>\n",
       "      <th>Algorithm</th>\n",
       "      <th>One Off Acc</th>\n",
       "      <th>CV Acc</th>\n",
       "      <th>K Folds</th>\n",
       "    </tr>\n",
       "  </thead>\n",
       "  <tbody>\n",
       "    <tr>\n",
       "      <th>0</th>\n",
       "      <td>LogisticRegression()</td>\n",
       "      <td>17.931</td>\n",
       "      <td>16.857</td>\n",
       "      <td>10</td>\n",
       "    </tr>\n",
       "    <tr>\n",
       "      <th>0</th>\n",
       "      <td>KNeighborsClassifier()</td>\n",
       "      <td>52.048</td>\n",
       "      <td>30.356</td>\n",
       "      <td>10</td>\n",
       "    </tr>\n",
       "    <tr>\n",
       "      <th>0</th>\n",
       "      <td>GaussianNB()</td>\n",
       "      <td>19.073</td>\n",
       "      <td>17.260</td>\n",
       "      <td>10</td>\n",
       "    </tr>\n",
       "    <tr>\n",
       "      <th>0</th>\n",
       "      <td>LinearSVC()</td>\n",
       "      <td>19.208</td>\n",
       "      <td>19.208</td>\n",
       "      <td>10</td>\n",
       "    </tr>\n",
       "    <tr>\n",
       "      <th>0</th>\n",
       "      <td>SGDClassifier()</td>\n",
       "      <td>14.574</td>\n",
       "      <td>14.909</td>\n",
       "      <td>10</td>\n",
       "    </tr>\n",
       "    <tr>\n",
       "      <th>0</th>\n",
       "      <td>DecisionTreeClassifier()</td>\n",
       "      <td>100.000</td>\n",
       "      <td>28.946</td>\n",
       "      <td>10</td>\n",
       "    </tr>\n",
       "    <tr>\n",
       "      <th>0</th>\n",
       "      <td>GradientBoostingClassifier()</td>\n",
       "      <td>65.682</td>\n",
       "      <td>32.304</td>\n",
       "      <td>10</td>\n",
       "    </tr>\n",
       "  </tbody>\n",
       "</table>\n",
       "</div>"
      ],
      "text/plain": [
       "                      Algorithm  One Off Acc  CV Acc K Folds\n",
       "0          LogisticRegression()       17.931  16.857      10\n",
       "0        KNeighborsClassifier()       52.048  30.356      10\n",
       "0                  GaussianNB()       19.073  17.260      10\n",
       "0                   LinearSVC()       19.208  19.208      10\n",
       "0               SGDClassifier()       14.574  14.909      10\n",
       "0      DecisionTreeClassifier()      100.000  28.946      10\n",
       "0  GradientBoostingClassifier()       65.682  32.304      10"
      ]
     },
     "execution_count": 22,
     "metadata": {},
     "output_type": "execute_result"
    }
   ],
   "source": [
    "norm1d_res_df.head(100)"
   ]
  },
  {
   "cell_type": "markdown",
   "id": "20c5b099",
   "metadata": {},
   "source": [
    "Now Test"
   ]
  },
  {
   "cell_type": "code",
   "execution_count": 23,
   "id": "0e96f1ba",
   "metadata": {},
   "outputs": [
    {
     "name": "stderr",
     "output_type": "stream",
     "text": [
      "C:\\Users\\kdmen\\miniconda3\\lib\\site-packages\\sklearn\\neighbors\\_classification.py:237: FutureWarning: Unlike other reduction functions (e.g. `skew`, `kurtosis`), the default behavior of `mode` typically preserves the axis it acts along. In SciPy 1.11.0, this behavior will change: the default value of `keepdims` will become False, the `axis` over which the statistic is taken will be eliminated, and the value None will no longer be accepted. Set `keepdims` to True or False to avoid this warning.\n",
      "  mode, _ = stats.mode(_y[neigh_ind, k], axis=1)\n",
      "C:\\Users\\kdmen\\miniconda3\\lib\\site-packages\\sklearn\\neighbors\\_classification.py:237: FutureWarning: Unlike other reduction functions (e.g. `skew`, `kurtosis`), the default behavior of `mode` typically preserves the axis it acts along. In SciPy 1.11.0, this behavior will change: the default value of `keepdims` will become False, the `axis` over which the statistic is taken will be eliminated, and the value None will no longer be accepted. Set `keepdims` to True or False to avoid this warning.\n",
      "  mode, _ = stats.mode(_y[neigh_ind, k], axis=1)\n",
      "C:\\Users\\kdmen\\miniconda3\\lib\\site-packages\\sklearn\\svm\\_base.py:1225: ConvergenceWarning: Liblinear failed to converge, increase the number of iterations.\n",
      "  warnings.warn(\n"
     ]
    }
   ],
   "source": [
    "test_df = pd.DataFrame(columns=['Algorithm', 'CV Acc', 'Test Acc', 'K Folds'])\n",
    "\n",
    "for model_num, model in enumerate(my_models):\n",
    "    test_df = test_model(model, X_train, y_train, X_test, y_test, test_df, cv)"
   ]
  },
  {
   "cell_type": "code",
   "execution_count": 24,
   "id": "79eaf166",
   "metadata": {},
   "outputs": [
    {
     "data": {
      "text/html": [
       "<div>\n",
       "<style scoped>\n",
       "    .dataframe tbody tr th:only-of-type {\n",
       "        vertical-align: middle;\n",
       "    }\n",
       "\n",
       "    .dataframe tbody tr th {\n",
       "        vertical-align: top;\n",
       "    }\n",
       "\n",
       "    .dataframe thead th {\n",
       "        text-align: right;\n",
       "    }\n",
       "</style>\n",
       "<table border=\"1\" class=\"dataframe\">\n",
       "  <thead>\n",
       "    <tr style=\"text-align: right;\">\n",
       "      <th></th>\n",
       "      <th>Algorithm</th>\n",
       "      <th>CV Acc</th>\n",
       "      <th>Test Acc</th>\n",
       "      <th>K Folds</th>\n",
       "    </tr>\n",
       "  </thead>\n",
       "  <tbody>\n",
       "    <tr>\n",
       "      <th>0</th>\n",
       "      <td>LogisticRegression()</td>\n",
       "      <td>16.857</td>\n",
       "      <td>16.901</td>\n",
       "      <td>10</td>\n",
       "    </tr>\n",
       "    <tr>\n",
       "      <th>0</th>\n",
       "      <td>KNeighborsClassifier()</td>\n",
       "      <td>30.356</td>\n",
       "      <td>28.795</td>\n",
       "      <td>10</td>\n",
       "    </tr>\n",
       "    <tr>\n",
       "      <th>0</th>\n",
       "      <td>GaussianNB()</td>\n",
       "      <td>17.26</td>\n",
       "      <td>19.718</td>\n",
       "      <td>10</td>\n",
       "    </tr>\n",
       "    <tr>\n",
       "      <th>0</th>\n",
       "      <td>LinearSVC()</td>\n",
       "      <td>18.267</td>\n",
       "      <td>22.066</td>\n",
       "      <td>10</td>\n",
       "    </tr>\n",
       "    <tr>\n",
       "      <th>0</th>\n",
       "      <td>SGDClassifier()</td>\n",
       "      <td>15.312</td>\n",
       "      <td>12.833</td>\n",
       "      <td>10</td>\n",
       "    </tr>\n",
       "    <tr>\n",
       "      <th>0</th>\n",
       "      <td>DecisionTreeClassifier()</td>\n",
       "      <td>28.946</td>\n",
       "      <td>27.856</td>\n",
       "      <td>10</td>\n",
       "    </tr>\n",
       "    <tr>\n",
       "      <th>0</th>\n",
       "      <td>GradientBoostingClassifier()</td>\n",
       "      <td>32.304</td>\n",
       "      <td>27.23</td>\n",
       "      <td>10</td>\n",
       "    </tr>\n",
       "  </tbody>\n",
       "</table>\n",
       "</div>"
      ],
      "text/plain": [
       "                      Algorithm  CV Acc Test Acc K Folds\n",
       "0          LogisticRegression()  16.857   16.901      10\n",
       "0        KNeighborsClassifier()  30.356   28.795      10\n",
       "0                  GaussianNB()   17.26   19.718      10\n",
       "0                   LinearSVC()  18.267   22.066      10\n",
       "0               SGDClassifier()  15.312   12.833      10\n",
       "0      DecisionTreeClassifier()  28.946   27.856      10\n",
       "0  GradientBoostingClassifier()  32.304    27.23      10"
      ]
     },
     "execution_count": 24,
     "metadata": {},
     "output_type": "execute_result"
    }
   ],
   "source": [
    "test_df.head(100)"
   ]
  },
  {
   "cell_type": "markdown",
   "id": "19c024f2",
   "metadata": {},
   "source": [
    "## Case 2: Flattened Decoder Matrices as Input"
   ]
  },
  {
   "cell_type": "code",
   "execution_count": 25,
   "id": "2106fdad",
   "metadata": {},
   "outputs": [
    {
     "data": {
      "text/html": [
       "<div>\n",
       "<style scoped>\n",
       "    .dataframe tbody tr th:only-of-type {\n",
       "        vertical-align: middle;\n",
       "    }\n",
       "\n",
       "    .dataframe tbody tr th {\n",
       "        vertical-align: top;\n",
       "    }\n",
       "\n",
       "    .dataframe thead th {\n",
       "        text-align: right;\n",
       "    }\n",
       "</style>\n",
       "<table border=\"1\" class=\"dataframe\">\n",
       "  <thead>\n",
       "    <tr style=\"text-align: right;\">\n",
       "      <th></th>\n",
       "      <th>Flattened Decoder</th>\n",
       "    </tr>\n",
       "  </thead>\n",
       "  <tbody>\n",
       "    <tr>\n",
       "      <th>0</th>\n",
       "      <td>[0.002722144351611262, 0.002605931562722017, 0...</td>\n",
       "    </tr>\n",
       "    <tr>\n",
       "      <th>1</th>\n",
       "      <td>[0.002722144351611262, 0.002605931562722017, 0...</td>\n",
       "    </tr>\n",
       "    <tr>\n",
       "      <th>2</th>\n",
       "      <td>[-0.34157085409453486, 0.08410593293763585, -0...</td>\n",
       "    </tr>\n",
       "    <tr>\n",
       "      <th>3</th>\n",
       "      <td>[-0.1738624752800762, 0.003705171262358347, 0....</td>\n",
       "    </tr>\n",
       "    <tr>\n",
       "      <th>4</th>\n",
       "      <td>[0.8321061501817386, -1.3261242289666402, 0.28...</td>\n",
       "    </tr>\n",
       "  </tbody>\n",
       "</table>\n",
       "</div>"
      ],
      "text/plain": [
       "                                   Flattened Decoder\n",
       "0  [0.002722144351611262, 0.002605931562722017, 0...\n",
       "1  [0.002722144351611262, 0.002605931562722017, 0...\n",
       "2  [-0.34157085409453486, 0.08410593293763585, -0...\n",
       "3  [-0.1738624752800762, 0.003705171262358347, 0....\n",
       "4  [0.8321061501817386, -1.3261242289666402, 0.28..."
      ]
     },
     "execution_count": 25,
     "metadata": {},
     "output_type": "execute_result"
    }
   ],
   "source": [
    "flattened_input_df = dec_flattened_df.drop([\"Subject\",  \"Condition\", \"Update Number\"], axis=1)\n",
    "flattened_input_df.head()"
   ]
  },
  {
   "cell_type": "code",
   "execution_count": 26,
   "id": "7d7de2a4",
   "metadata": {},
   "outputs": [
    {
     "name": "stdout",
     "output_type": "stream",
     "text": [
      "(1489, 1)\n"
     ]
    },
    {
     "data": {
      "text/html": [
       "<div>\n",
       "<style scoped>\n",
       "    .dataframe tbody tr th:only-of-type {\n",
       "        vertical-align: middle;\n",
       "    }\n",
       "\n",
       "    .dataframe tbody tr th {\n",
       "        vertical-align: top;\n",
       "    }\n",
       "\n",
       "    .dataframe thead th {\n",
       "        text-align: right;\n",
       "    }\n",
       "</style>\n",
       "<table border=\"1\" class=\"dataframe\">\n",
       "  <thead>\n",
       "    <tr style=\"text-align: right;\">\n",
       "      <th></th>\n",
       "      <th>Frobenius Norm</th>\n",
       "    </tr>\n",
       "  </thead>\n",
       "  <tbody>\n",
       "    <tr>\n",
       "      <th>420</th>\n",
       "      <td>3.567582</td>\n",
       "    </tr>\n",
       "    <tr>\n",
       "      <th>146</th>\n",
       "      <td>5.589772</td>\n",
       "    </tr>\n",
       "    <tr>\n",
       "      <th>266</th>\n",
       "      <td>0.069974</td>\n",
       "    </tr>\n",
       "    <tr>\n",
       "      <th>695</th>\n",
       "      <td>5.796815</td>\n",
       "    </tr>\n",
       "    <tr>\n",
       "      <th>372</th>\n",
       "      <td>17.938752</td>\n",
       "    </tr>\n",
       "  </tbody>\n",
       "</table>\n",
       "</div>"
      ],
      "text/plain": [
       "     Frobenius Norm\n",
       "420        3.567582\n",
       "146        5.589772\n",
       "266        0.069974\n",
       "695        5.796815\n",
       "372       17.938752"
      ]
     },
     "execution_count": 26,
     "metadata": {},
     "output_type": "execute_result"
    }
   ],
   "source": [
    "X_train, y_train, X_test, y_test, X_val, y_val = train_test_val_split(norm_input_df, norm_label_df)\n",
    "y_train = np.ravel(y_train)\n",
    "\n",
    "print(X_train.shape)\n",
    "X_train.head()"
   ]
  },
  {
   "cell_type": "markdown",
   "id": "b00a6cde",
   "metadata": {},
   "source": [
    "Convert single element of a vector into a vector of single elements!"
   ]
  },
  {
   "cell_type": "code",
   "execution_count": 27,
   "id": "a7db0a53",
   "metadata": {
    "scrolled": true
   },
   "outputs": [
    {
     "data": {
      "text/html": [
       "<div>\n",
       "<style scoped>\n",
       "    .dataframe tbody tr th:only-of-type {\n",
       "        vertical-align: middle;\n",
       "    }\n",
       "\n",
       "    .dataframe tbody tr th {\n",
       "        vertical-align: top;\n",
       "    }\n",
       "\n",
       "    .dataframe thead th {\n",
       "        text-align: right;\n",
       "    }\n",
       "</style>\n",
       "<table border=\"1\" class=\"dataframe\">\n",
       "  <thead>\n",
       "    <tr style=\"text-align: right;\">\n",
       "      <th></th>\n",
       "      <th>Frobenius Norm</th>\n",
       "    </tr>\n",
       "  </thead>\n",
       "  <tbody>\n",
       "    <tr>\n",
       "      <th>420</th>\n",
       "      <td>3.567582</td>\n",
       "    </tr>\n",
       "    <tr>\n",
       "      <th>146</th>\n",
       "      <td>5.589772</td>\n",
       "    </tr>\n",
       "    <tr>\n",
       "      <th>266</th>\n",
       "      <td>0.069974</td>\n",
       "    </tr>\n",
       "    <tr>\n",
       "      <th>695</th>\n",
       "      <td>5.796815</td>\n",
       "    </tr>\n",
       "    <tr>\n",
       "      <th>372</th>\n",
       "      <td>17.938752</td>\n",
       "    </tr>\n",
       "  </tbody>\n",
       "</table>\n",
       "</div>"
      ],
      "text/plain": [
       "     Frobenius Norm\n",
       "420        3.567582\n",
       "146        5.589772\n",
       "266        0.069974\n",
       "695        5.796815\n",
       "372       17.938752"
      ]
     },
     "execution_count": 27,
     "metadata": {},
     "output_type": "execute_result"
    }
   ],
   "source": [
    "# Idk what happened causing me to not need this code anymore...\n",
    "\n",
    "X_train2 = X_train\n",
    "X_test2 = X_test\n",
    "\n",
    "'''\n",
    "X_train2 = pd.DataFrame()\n",
    "X_test2 = pd.DataFrame()\n",
    "for my_row in range(X_train.shape[0]):\n",
    "    test=pd.DataFrame(X_train.iloc[my_row,0]).T\n",
    "    X_train2 = pd.concat((X_train2, test))\n",
    "    \n",
    "for my_row in range(X_test.shape[0]):\n",
    "    test=pd.DataFrame(X_test.iloc[my_row,0]).T\n",
    "    X_test2 = pd.concat((X_test2, test))\n",
    "'''\n",
    "\n",
    "X_train2.head()"
   ]
  },
  {
   "cell_type": "code",
   "execution_count": 28,
   "id": "a1d304f1",
   "metadata": {},
   "outputs": [
    {
     "name": "stdout",
     "output_type": "stream",
     "text": [
      "0 of 7\n",
      "1 of 7\n"
     ]
    },
    {
     "name": "stderr",
     "output_type": "stream",
     "text": [
      "C:\\Users\\kdmen\\miniconda3\\lib\\site-packages\\sklearn\\neighbors\\_classification.py:237: FutureWarning: Unlike other reduction functions (e.g. `skew`, `kurtosis`), the default behavior of `mode` typically preserves the axis it acts along. In SciPy 1.11.0, this behavior will change: the default value of `keepdims` will become False, the `axis` over which the statistic is taken will be eliminated, and the value None will no longer be accepted. Set `keepdims` to True or False to avoid this warning.\n",
      "  mode, _ = stats.mode(_y[neigh_ind, k], axis=1)\n"
     ]
    },
    {
     "name": "stdout",
     "output_type": "stream",
     "text": [
      "2 of 7\n",
      "3 of 7\n"
     ]
    },
    {
     "name": "stderr",
     "output_type": "stream",
     "text": [
      "C:\\Users\\kdmen\\miniconda3\\lib\\site-packages\\sklearn\\svm\\_base.py:1225: ConvergenceWarning: Liblinear failed to converge, increase the number of iterations.\n",
      "  warnings.warn(\n"
     ]
    },
    {
     "name": "stdout",
     "output_type": "stream",
     "text": [
      "4 of 7\n",
      "5 of 7\n",
      "6 of 7\n"
     ]
    }
   ],
   "source": [
    "for model_num, model in enumerate(my_models):\n",
    "    print(f\"{model_num} of {len(my_models)}\")\n",
    "    flatten_dec_res_df = train_model(model, X_train2, y_train, cv, flatten_dec_res_df)"
   ]
  },
  {
   "cell_type": "code",
   "execution_count": 29,
   "id": "0570e67c",
   "metadata": {
    "scrolled": true
   },
   "outputs": [
    {
     "data": {
      "text/html": [
       "<div>\n",
       "<style scoped>\n",
       "    .dataframe tbody tr th:only-of-type {\n",
       "        vertical-align: middle;\n",
       "    }\n",
       "\n",
       "    .dataframe tbody tr th {\n",
       "        vertical-align: top;\n",
       "    }\n",
       "\n",
       "    .dataframe thead th {\n",
       "        text-align: right;\n",
       "    }\n",
       "</style>\n",
       "<table border=\"1\" class=\"dataframe\">\n",
       "  <thead>\n",
       "    <tr style=\"text-align: right;\">\n",
       "      <th></th>\n",
       "      <th>Algorithm</th>\n",
       "      <th>One Off Acc</th>\n",
       "      <th>CV Acc</th>\n",
       "      <th>K Folds</th>\n",
       "    </tr>\n",
       "  </thead>\n",
       "  <tbody>\n",
       "    <tr>\n",
       "      <th>0</th>\n",
       "      <td>LogisticRegression()</td>\n",
       "      <td>17.931</td>\n",
       "      <td>16.857</td>\n",
       "      <td>10</td>\n",
       "    </tr>\n",
       "    <tr>\n",
       "      <th>0</th>\n",
       "      <td>KNeighborsClassifier()</td>\n",
       "      <td>52.048</td>\n",
       "      <td>30.356</td>\n",
       "      <td>10</td>\n",
       "    </tr>\n",
       "    <tr>\n",
       "      <th>0</th>\n",
       "      <td>GaussianNB()</td>\n",
       "      <td>19.073</td>\n",
       "      <td>17.260</td>\n",
       "      <td>10</td>\n",
       "    </tr>\n",
       "    <tr>\n",
       "      <th>0</th>\n",
       "      <td>LinearSVC()</td>\n",
       "      <td>19.275</td>\n",
       "      <td>18.737</td>\n",
       "      <td>10</td>\n",
       "    </tr>\n",
       "    <tr>\n",
       "      <th>0</th>\n",
       "      <td>SGDClassifier()</td>\n",
       "      <td>14.171</td>\n",
       "      <td>14.506</td>\n",
       "      <td>10</td>\n",
       "    </tr>\n",
       "    <tr>\n",
       "      <th>0</th>\n",
       "      <td>DecisionTreeClassifier()</td>\n",
       "      <td>100.000</td>\n",
       "      <td>28.946</td>\n",
       "      <td>10</td>\n",
       "    </tr>\n",
       "    <tr>\n",
       "      <th>0</th>\n",
       "      <td>GradientBoostingClassifier()</td>\n",
       "      <td>65.682</td>\n",
       "      <td>32.304</td>\n",
       "      <td>10</td>\n",
       "    </tr>\n",
       "  </tbody>\n",
       "</table>\n",
       "</div>"
      ],
      "text/plain": [
       "                      Algorithm  One Off Acc  CV Acc K Folds\n",
       "0          LogisticRegression()       17.931  16.857      10\n",
       "0        KNeighborsClassifier()       52.048  30.356      10\n",
       "0                  GaussianNB()       19.073  17.260      10\n",
       "0                   LinearSVC()       19.275  18.737      10\n",
       "0               SGDClassifier()       14.171  14.506      10\n",
       "0      DecisionTreeClassifier()      100.000  28.946      10\n",
       "0  GradientBoostingClassifier()       65.682  32.304      10"
      ]
     },
     "execution_count": 29,
     "metadata": {},
     "output_type": "execute_result"
    }
   ],
   "source": [
    "flatten_dec_res_df.head(100)"
   ]
  },
  {
   "cell_type": "markdown",
   "id": "ee7aa72c",
   "metadata": {},
   "source": [
    "Test the models on the testing data"
   ]
  },
  {
   "cell_type": "code",
   "execution_count": 30,
   "id": "700d027c",
   "metadata": {},
   "outputs": [
    {
     "name": "stdout",
     "output_type": "stream",
     "text": [
      "LogisticRegression()\n",
      "CV Accuracy: 16.857\n",
      "Test Accuracy: 16.901\n",
      "\n",
      "KNeighborsClassifier()\n",
      "CV Accuracy: 30.356\n",
      "Test Accuracy: 28.795\n",
      "\n",
      "GaussianNB()\n",
      "CV Accuracy: 17.26\n",
      "Test Accuracy: 19.718\n",
      "\n"
     ]
    },
    {
     "name": "stderr",
     "output_type": "stream",
     "text": [
      "C:\\Users\\kdmen\\miniconda3\\lib\\site-packages\\sklearn\\neighbors\\_classification.py:237: FutureWarning: Unlike other reduction functions (e.g. `skew`, `kurtosis`), the default behavior of `mode` typically preserves the axis it acts along. In SciPy 1.11.0, this behavior will change: the default value of `keepdims` will become False, the `axis` over which the statistic is taken will be eliminated, and the value None will no longer be accepted. Set `keepdims` to True or False to avoid this warning.\n",
      "  mode, _ = stats.mode(_y[neigh_ind, k], axis=1)\n",
      "C:\\Users\\kdmen\\miniconda3\\lib\\site-packages\\sklearn\\neighbors\\_classification.py:237: FutureWarning: Unlike other reduction functions (e.g. `skew`, `kurtosis`), the default behavior of `mode` typically preserves the axis it acts along. In SciPy 1.11.0, this behavior will change: the default value of `keepdims` will become False, the `axis` over which the statistic is taken will be eliminated, and the value None will no longer be accepted. Set `keepdims` to True or False to avoid this warning.\n",
      "  mode, _ = stats.mode(_y[neigh_ind, k], axis=1)\n",
      "C:\\Users\\kdmen\\miniconda3\\lib\\site-packages\\sklearn\\svm\\_base.py:1225: ConvergenceWarning: Liblinear failed to converge, increase the number of iterations.\n",
      "  warnings.warn(\n"
     ]
    },
    {
     "name": "stdout",
     "output_type": "stream",
     "text": [
      "LinearSVC()\n",
      "CV Accuracy: 18.334\n",
      "Test Accuracy: 19.718\n",
      "\n",
      "SGDClassifier()\n",
      "CV Accuracy: 14.238\n",
      "Test Accuracy: 11.737\n",
      "\n",
      "DecisionTreeClassifier()\n",
      "CV Accuracy: 28.946\n",
      "Test Accuracy: 27.856\n",
      "\n",
      "GradientBoostingClassifier()\n",
      "CV Accuracy: 32.304\n",
      "Test Accuracy: 27.23\n",
      "\n"
     ]
    }
   ],
   "source": [
    "test_df = pd.DataFrame(columns=['Algorithm', 'CV Acc', 'Test Acc', 'K Folds'])\n",
    "for model in my_models:\n",
    "    test_df = test_model(model, X_train2, y_train, X_test2, y_test, test_df, cv, verbose=True)"
   ]
  },
  {
   "cell_type": "code",
   "execution_count": 31,
   "id": "9be94a98",
   "metadata": {},
   "outputs": [
    {
     "data": {
      "text/html": [
       "<div>\n",
       "<style scoped>\n",
       "    .dataframe tbody tr th:only-of-type {\n",
       "        vertical-align: middle;\n",
       "    }\n",
       "\n",
       "    .dataframe tbody tr th {\n",
       "        vertical-align: top;\n",
       "    }\n",
       "\n",
       "    .dataframe thead th {\n",
       "        text-align: right;\n",
       "    }\n",
       "</style>\n",
       "<table border=\"1\" class=\"dataframe\">\n",
       "  <thead>\n",
       "    <tr style=\"text-align: right;\">\n",
       "      <th></th>\n",
       "      <th>Algorithm</th>\n",
       "      <th>CV Acc</th>\n",
       "      <th>Test Acc</th>\n",
       "      <th>K Folds</th>\n",
       "    </tr>\n",
       "  </thead>\n",
       "  <tbody>\n",
       "    <tr>\n",
       "      <th>0</th>\n",
       "      <td>LogisticRegression()</td>\n",
       "      <td>16.857</td>\n",
       "      <td>16.901</td>\n",
       "      <td>10</td>\n",
       "    </tr>\n",
       "    <tr>\n",
       "      <th>0</th>\n",
       "      <td>KNeighborsClassifier()</td>\n",
       "      <td>30.356</td>\n",
       "      <td>28.795</td>\n",
       "      <td>10</td>\n",
       "    </tr>\n",
       "    <tr>\n",
       "      <th>0</th>\n",
       "      <td>GaussianNB()</td>\n",
       "      <td>17.26</td>\n",
       "      <td>19.718</td>\n",
       "      <td>10</td>\n",
       "    </tr>\n",
       "    <tr>\n",
       "      <th>0</th>\n",
       "      <td>LinearSVC()</td>\n",
       "      <td>18.334</td>\n",
       "      <td>19.718</td>\n",
       "      <td>10</td>\n",
       "    </tr>\n",
       "    <tr>\n",
       "      <th>0</th>\n",
       "      <td>SGDClassifier()</td>\n",
       "      <td>14.238</td>\n",
       "      <td>11.737</td>\n",
       "      <td>10</td>\n",
       "    </tr>\n",
       "    <tr>\n",
       "      <th>0</th>\n",
       "      <td>DecisionTreeClassifier()</td>\n",
       "      <td>28.946</td>\n",
       "      <td>27.856</td>\n",
       "      <td>10</td>\n",
       "    </tr>\n",
       "    <tr>\n",
       "      <th>0</th>\n",
       "      <td>GradientBoostingClassifier()</td>\n",
       "      <td>32.304</td>\n",
       "      <td>27.23</td>\n",
       "      <td>10</td>\n",
       "    </tr>\n",
       "  </tbody>\n",
       "</table>\n",
       "</div>"
      ],
      "text/plain": [
       "                      Algorithm  CV Acc Test Acc K Folds\n",
       "0          LogisticRegression()  16.857   16.901      10\n",
       "0        KNeighborsClassifier()  30.356   28.795      10\n",
       "0                  GaussianNB()   17.26   19.718      10\n",
       "0                   LinearSVC()  18.334   19.718      10\n",
       "0               SGDClassifier()  14.238   11.737      10\n",
       "0      DecisionTreeClassifier()  28.946   27.856      10\n",
       "0  GradientBoostingClassifier()  32.304    27.23      10"
      ]
     },
     "execution_count": 31,
     "metadata": {},
     "output_type": "execute_result"
    }
   ],
   "source": [
    "test_df.head(100)"
   ]
  },
  {
   "cell_type": "markdown",
   "id": "471a37b4",
   "metadata": {},
   "source": [
    "Redo but try using Standard Scaler this time"
   ]
  },
  {
   "cell_type": "code",
   "execution_count": 32,
   "id": "25ef5940",
   "metadata": {},
   "outputs": [
    {
     "name": "stdout",
     "output_type": "stream",
     "text": [
      "(1489, 1)\n",
      "(1489, 1)\n"
     ]
    }
   ],
   "source": [
    "from sklearn.preprocessing import StandardScaler\n",
    "\n",
    "scaler_Xtrain2 = StandardScaler().fit(X_train2)\n",
    "Xtrain2SS = scaler_Xtrain2.transform(X_train2)\n",
    "\n",
    "print(X_train2.shape)\n",
    "print(Xtrain2SS.shape)"
   ]
  },
  {
   "cell_type": "code",
   "execution_count": 33,
   "id": "c6ed2841",
   "metadata": {},
   "outputs": [
    {
     "name": "stdout",
     "output_type": "stream",
     "text": [
      "1 of 7\n",
      "2 of 7\n",
      "3 of 7\n",
      "4 of 7\n"
     ]
    },
    {
     "name": "stderr",
     "output_type": "stream",
     "text": [
      "C:\\Users\\kdmen\\miniconda3\\lib\\site-packages\\sklearn\\neighbors\\_classification.py:237: FutureWarning: Unlike other reduction functions (e.g. `skew`, `kurtosis`), the default behavior of `mode` typically preserves the axis it acts along. In SciPy 1.11.0, this behavior will change: the default value of `keepdims` will become False, the `axis` over which the statistic is taken will be eliminated, and the value None will no longer be accepted. Set `keepdims` to True or False to avoid this warning.\n",
      "  mode, _ = stats.mode(_y[neigh_ind, k], axis=1)\n"
     ]
    },
    {
     "name": "stdout",
     "output_type": "stream",
     "text": [
      "5 of 7\n",
      "6 of 7\n",
      "7 of 7\n"
     ]
    }
   ],
   "source": [
    "for model_num, model in enumerate(my_models):\n",
    "    print(f\"{model_num+1} of {len(my_models)}\")\n",
    "    SSflatten_dec_res_df = train_model(model, Xtrain2SS, y_train, cv, SSflatten_dec_res_df)"
   ]
  },
  {
   "cell_type": "code",
   "execution_count": 34,
   "id": "a86f82cd",
   "metadata": {},
   "outputs": [
    {
     "data": {
      "text/html": [
       "<div>\n",
       "<style scoped>\n",
       "    .dataframe tbody tr th:only-of-type {\n",
       "        vertical-align: middle;\n",
       "    }\n",
       "\n",
       "    .dataframe tbody tr th {\n",
       "        vertical-align: top;\n",
       "    }\n",
       "\n",
       "    .dataframe thead th {\n",
       "        text-align: right;\n",
       "    }\n",
       "</style>\n",
       "<table border=\"1\" class=\"dataframe\">\n",
       "  <thead>\n",
       "    <tr style=\"text-align: right;\">\n",
       "      <th></th>\n",
       "      <th>Algorithm</th>\n",
       "      <th>One Off Acc</th>\n",
       "      <th>CV Acc</th>\n",
       "      <th>K Folds</th>\n",
       "    </tr>\n",
       "  </thead>\n",
       "  <tbody>\n",
       "    <tr>\n",
       "      <th>0</th>\n",
       "      <td>LogisticRegression()</td>\n",
       "      <td>17.999</td>\n",
       "      <td>16.857</td>\n",
       "      <td>10</td>\n",
       "    </tr>\n",
       "    <tr>\n",
       "      <th>0</th>\n",
       "      <td>KNeighborsClassifier()</td>\n",
       "      <td>52.048</td>\n",
       "      <td>30.356</td>\n",
       "      <td>10</td>\n",
       "    </tr>\n",
       "    <tr>\n",
       "      <th>0</th>\n",
       "      <td>GaussianNB()</td>\n",
       "      <td>19.073</td>\n",
       "      <td>17.260</td>\n",
       "      <td>10</td>\n",
       "    </tr>\n",
       "    <tr>\n",
       "      <th>0</th>\n",
       "      <td>LinearSVC()</td>\n",
       "      <td>19.275</td>\n",
       "      <td>18.267</td>\n",
       "      <td>10</td>\n",
       "    </tr>\n",
       "    <tr>\n",
       "      <th>0</th>\n",
       "      <td>SGDClassifier()</td>\n",
       "      <td>18.267</td>\n",
       "      <td>14.909</td>\n",
       "      <td>10</td>\n",
       "    </tr>\n",
       "    <tr>\n",
       "      <th>0</th>\n",
       "      <td>DecisionTreeClassifier()</td>\n",
       "      <td>100.000</td>\n",
       "      <td>28.946</td>\n",
       "      <td>10</td>\n",
       "    </tr>\n",
       "    <tr>\n",
       "      <th>0</th>\n",
       "      <td>GradientBoostingClassifier()</td>\n",
       "      <td>65.682</td>\n",
       "      <td>32.304</td>\n",
       "      <td>10</td>\n",
       "    </tr>\n",
       "  </tbody>\n",
       "</table>\n",
       "</div>"
      ],
      "text/plain": [
       "                      Algorithm  One Off Acc  CV Acc K Folds\n",
       "0          LogisticRegression()       17.999  16.857      10\n",
       "0        KNeighborsClassifier()       52.048  30.356      10\n",
       "0                  GaussianNB()       19.073  17.260      10\n",
       "0                   LinearSVC()       19.275  18.267      10\n",
       "0               SGDClassifier()       18.267  14.909      10\n",
       "0      DecisionTreeClassifier()      100.000  28.946      10\n",
       "0  GradientBoostingClassifier()       65.682  32.304      10"
      ]
     },
     "execution_count": 34,
     "metadata": {},
     "output_type": "execute_result"
    }
   ],
   "source": [
    "SSflatten_dec_res_df.head(100)"
   ]
  },
  {
   "cell_type": "markdown",
   "id": "d501e967",
   "metadata": {},
   "source": [
    "Thus we see no real performance gains by using standard scaler.\n",
    "\n",
    "Now try and optimize the best performer (GBT)\n",
    "1. max_depth: int, default=3\n",
    "- The maximum depth of the individual regression estimators. The maximum depth limits the number of nodes in the tree. Tune this parameter for best performance; the best value depends on the interaction of the input variables. Values must be in the range [1, inf)."
   ]
  },
  {
   "cell_type": "code",
   "execution_count": null,
   "id": "bc3e0b0e",
   "metadata": {},
   "outputs": [],
   "source": []
  },
  {
   "cell_type": "code",
   "execution_count": null,
   "id": "20a74f91",
   "metadata": {},
   "outputs": [],
   "source": []
  },
  {
   "cell_type": "code",
   "execution_count": null,
   "id": "a7a14460",
   "metadata": {},
   "outputs": [],
   "source": []
  },
  {
   "cell_type": "code",
   "execution_count": null,
   "id": "8bfa447a",
   "metadata": {},
   "outputs": [],
   "source": []
  },
  {
   "cell_type": "code",
   "execution_count": null,
   "id": "7f8a27b2",
   "metadata": {},
   "outputs": [],
   "source": []
  },
  {
   "cell_type": "code",
   "execution_count": null,
   "id": "641f68a5",
   "metadata": {},
   "outputs": [],
   "source": []
  },
  {
   "cell_type": "code",
   "execution_count": null,
   "id": "2ef18e4e",
   "metadata": {},
   "outputs": [],
   "source": []
  },
  {
   "cell_type": "code",
   "execution_count": null,
   "id": "28dcd6cd",
   "metadata": {},
   "outputs": [],
   "source": []
  },
  {
   "cell_type": "code",
   "execution_count": null,
   "id": "4483d2ea",
   "metadata": {},
   "outputs": [],
   "source": []
  },
  {
   "cell_type": "markdown",
   "id": "0608fadd",
   "metadata": {},
   "source": [
    "## Case 3: Feed in a Vector of Norms"
   ]
  },
  {
   "cell_type": "code",
   "execution_count": 35,
   "id": "7542d308",
   "metadata": {},
   "outputs": [
    {
     "ename": "AssertionError",
     "evalue": "",
     "output_type": "error",
     "traceback": [
      "\u001b[1;31m---------------------------------------------------------------------------\u001b[0m",
      "\u001b[1;31mAssertionError\u001b[0m                            Traceback (most recent call last)",
      "\u001b[1;32m~\\AppData\\Local\\Temp\\ipykernel_17448\\3481756770.py\u001b[0m in \u001b[0;36m<cell line: 1>\u001b[1;34m()\u001b[0m\n\u001b[1;32m----> 1\u001b[1;33m \u001b[1;32massert\u001b[0m\u001b[1;33m(\u001b[0m\u001b[1;36m1\u001b[0m\u001b[1;33m==\u001b[0m\u001b[1;36m0\u001b[0m\u001b[1;33m)\u001b[0m\u001b[1;33m\u001b[0m\u001b[1;33m\u001b[0m\u001b[0m\n\u001b[0m",
      "\u001b[1;31mAssertionError\u001b[0m: "
     ]
    }
   ],
   "source": [
    "assert(1==0)"
   ]
  },
  {
   "cell_type": "code",
   "execution_count": null,
   "id": "7628cde3",
   "metadata": {},
   "outputs": [],
   "source": [
    "#dec_vec_norm_df\n",
    "dec_vec_norm_input_df = dec_vec_norm_df.drop([\"Subject\",  \"Condition\"], axis=1)\n",
    "dec_vec_norm_input_df.head()"
   ]
  },
  {
   "cell_type": "markdown",
   "id": "2ad1627e",
   "metadata": {},
   "source": [
    "norm_label_df probably needs to be changed to a new variable... shouldn't have the same shape..."
   ]
  },
  {
   "cell_type": "code",
   "execution_count": null,
   "id": "d276c72b",
   "metadata": {},
   "outputs": [],
   "source": [
    "X_train, y_train, X_test, y_test, X_val, y_val = train_test_val_split(norm_input_df, norm_label_df)\n",
    "y_train = np.ravel(y_train)\n",
    "\n",
    "print(X_train.shape)\n",
    "X_train.head()"
   ]
  },
  {
   "cell_type": "code",
   "execution_count": null,
   "id": "cbc83ef0",
   "metadata": {},
   "outputs": [],
   "source": [
    "X_train2 = pd.DataFrame()\n",
    "X_test2 = pd.DataFrame()\n",
    "for my_row in range(X_train.shape[0]):\n",
    "    test=pd.DataFrame(X_train.iloc[my_row,0]).T\n",
    "    X_train2 = pd.concat((X_train2, test))\n",
    "    \n",
    "for my_row in range(X_test.shape[0]):\n",
    "    test=pd.DataFrame(X_test.iloc[my_row,0]).T\n",
    "    X_test2 = pd.concat((X_test2, test))\n",
    "X_train2.head()"
   ]
  },
  {
   "cell_type": "code",
   "execution_count": null,
   "id": "ec1b2486",
   "metadata": {},
   "outputs": [],
   "source": [
    "for model_num, model in enumerate(my_models):\n",
    "    print(f\"{model_num} of {len(my_models)}\")\n",
    "    norm_vec_res_df = train_model(model, X_train2, y_train, cv, norm_vec_res_df)"
   ]
  },
  {
   "cell_type": "code",
   "execution_count": null,
   "id": "c7e2ae4f",
   "metadata": {},
   "outputs": [],
   "source": [
    "norm_vec_res_df.head(100)"
   ]
  },
  {
   "cell_type": "markdown",
   "id": "20f93708",
   "metadata": {},
   "source": [
    "## 2) Cluster Decoder Matrix Norms\n",
    "> Cluster using 2D dataset of (norm, condition), condition being the y axis maybe?\n",
    "> Still not sure if I should just take the norm of take the norm wrt the first/last.  \n",
    "> Can I make a similarity matrix? How would I use that for clustering...\n",
    "> Save this idea for later... clustering is just another form of an attack vector, the ML model above already was successful"
   ]
  },
  {
   "cell_type": "code",
   "execution_count": null,
   "id": "1243befe",
   "metadata": {},
   "outputs": [],
   "source": []
  }
 ],
 "metadata": {
  "kernelspec": {
   "display_name": "Python 3 (ipykernel)",
   "language": "python",
   "name": "python3"
  },
  "language_info": {
   "codemirror_mode": {
    "name": "ipython",
    "version": 3
   },
   "file_extension": ".py",
   "mimetype": "text/x-python",
   "name": "python",
   "nbconvert_exporter": "python",
   "pygments_lexer": "ipython3",
   "version": "3.9.13"
  }
 },
 "nbformat": 4,
 "nbformat_minor": 5
}
