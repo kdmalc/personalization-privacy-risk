{
 "cells": [
  {
   "cell_type": "markdown",
   "id": "d17f193d",
   "metadata": {},
   "source": [
    "> __Purpose:__ Implement an initial privacy attack to quantify how much re-identiifcation and linkability risk exists from both filtered EMG data and for personalization parameters (the decoder). Thus, implement a basic ML model to link the EMG data back to the corresponding subject, and likewise to link the decoder matrices back to the corresponding subject.  \n",
    "\n",
    "-- 7 Subjects, therefore pure guessing would be 14.28% correct on average"
   ]
  },
  {
   "cell_type": "code",
   "execution_count": 1,
   "id": "a61b3128",
   "metadata": {},
   "outputs": [],
   "source": [
    "import numpy as np\n",
    "import matplotlib.pyplot as plt\n",
    "# import matplotlib.image as mpimg\n",
    "# import seaborn\n",
    "import time\n",
    "import os\n",
    "import pandas as pd\n",
    "import pickle\n",
    "import random\n",
    "\n",
    "random.seed(a=1)"
   ]
  },
  {
   "cell_type": "markdown",
   "id": "a850bb15",
   "metadata": {},
   "source": [
    "# Load In Data"
   ]
  },
  {
   "cell_type": "code",
   "execution_count": 2,
   "id": "f141f3e9",
   "metadata": {},
   "outputs": [],
   "source": [
    "keys = ['METACPHS_S106', 'METACPHS_S107','METACPHS_S108', 'METACPHS_S109', 'METACPHS_S110', 'METACPHS_S111', 'METACPHS_S112']\n",
    "\n",
    "with open('cphs_data_block1.pickle', 'rb') as handle:\n",
    "    #refs_block1, poss_block1, dec_vels_block1, int_vel_block1, emgs_block1, Ws_block1, Hs_block1, alphas_block1, pDs_block1, times_block1, conditions_block1 = pickle.load(handle)\n",
    "    _, _, _, _, emgs_block1, Ws_block1, _, _, _, times_block1, _ = pickle.load(handle)\n",
    "\n",
    "with open('cphs_data_block2.pickle', 'rb') as handle:\n",
    "    #refs_block2, poss_block2, dec_vels_block2, int_vel_block2, emgs_block2, Ws_block2, Hs_block2, alphas_block2, pDs_block2, times_block2, conditions_block2 = pickle.load(handle)\n",
    "    _, _, _, _, emgs_block2, Ws_block2, _, _, _, times_block2, _ = pickle.load(handle)"
   ]
  },
  {
   "cell_type": "code",
   "execution_count": 3,
   "id": "7a57ed11",
   "metadata": {},
   "outputs": [],
   "source": [
    "# Decoder updates\n",
    "W = Ws_block1[keys[0]][0]\n",
    "W[1:,:,:].shape # 7199 time points x (decoder dimensions is 2 x 6)\n",
    "dold = W[0]\n",
    "update_ix = []\n",
    "for ix,d in enumerate(W[1:]):\n",
    "  if (np.array_equal(dold,d)==False):\n",
    "    update_ix.append(ix)\n",
    "    dold = d\n",
    "\n",
    "update_ix.append(len(W) - 1) \n",
    "update_ix = np.asarray(update_ix)\n",
    "update_ix = np.hstack([[0],update_ix])"
   ]
  },
  {
   "cell_type": "code",
   "execution_count": 4,
   "id": "30b50886",
   "metadata": {},
   "outputs": [],
   "source": [
    "emg_data_df1 = pd.read_csv(\"emg_data1.csv\")\n",
    "emg_labels_df1 = pd.read_csv(\"emg_labels1.csv\")\n",
    "dec_norms_df1 = pd.read_csv(\"decoder_norms1.csv\")\n",
    "\n",
    "emg_data_df2 = pd.read_csv(\"emg_data2.csv\")\n",
    "emg_labels_df2 = pd.read_csv(\"emg_labels2.csv\")\n",
    "dec_norms_df2 = pd.read_csv(\"decoder_norms2.csv\")"
   ]
  },
  {
   "cell_type": "code",
   "execution_count": 5,
   "id": "d045a760",
   "metadata": {},
   "outputs": [],
   "source": [
    "emg_data_df = pd.concat((emg_data_df1, emg_data_df2))\n",
    "emg_labels_df = pd.concat((emg_labels_df1, emg_labels_df2))\n",
    "dec_norms_df = pd.concat((dec_norms_df1, dec_norms_df2))"
   ]
  },
  {
   "cell_type": "code",
   "execution_count": 6,
   "id": "4c87b437",
   "metadata": {},
   "outputs": [
    {
     "name": "stdout",
     "output_type": "stream",
     "text": [
      "(7232, 20771)\n"
     ]
    },
    {
     "data": {
      "text/html": [
       "<div>\n",
       "<style scoped>\n",
       "    .dataframe tbody tr th:only-of-type {\n",
       "        vertical-align: middle;\n",
       "    }\n",
       "\n",
       "    .dataframe tbody tr th {\n",
       "        vertical-align: top;\n",
       "    }\n",
       "\n",
       "    .dataframe thead th {\n",
       "        text-align: right;\n",
       "    }\n",
       "</style>\n",
       "<table border=\"1\" class=\"dataframe\">\n",
       "  <thead>\n",
       "    <tr style=\"text-align: right;\">\n",
       "      <th></th>\n",
       "      <th>0</th>\n",
       "      <th>1</th>\n",
       "      <th>2</th>\n",
       "      <th>3</th>\n",
       "      <th>4</th>\n",
       "      <th>5</th>\n",
       "      <th>6</th>\n",
       "      <th>7</th>\n",
       "      <th>8</th>\n",
       "      <th>9</th>\n",
       "      <th>...</th>\n",
       "      <th>20760</th>\n",
       "      <th>20761</th>\n",
       "      <th>20762</th>\n",
       "      <th>20763</th>\n",
       "      <th>20764</th>\n",
       "      <th>20765</th>\n",
       "      <th>20766</th>\n",
       "      <th>20767</th>\n",
       "      <th>20768</th>\n",
       "      <th>20769</th>\n",
       "    </tr>\n",
       "  </thead>\n",
       "  <tbody>\n",
       "    <tr>\n",
       "      <th>0</th>\n",
       "      <td>0.0</td>\n",
       "      <td>0.0</td>\n",
       "      <td>0.0</td>\n",
       "      <td>10.778148</td>\n",
       "      <td>10.778148</td>\n",
       "      <td>10.778148</td>\n",
       "      <td>26.874088</td>\n",
       "      <td>43.189501</td>\n",
       "      <td>43.189501</td>\n",
       "      <td>38.594581</td>\n",
       "      <td>...</td>\n",
       "      <td>54.343173</td>\n",
       "      <td>54.343173</td>\n",
       "      <td>53.363208</td>\n",
       "      <td>53.363208</td>\n",
       "      <td>53.363208</td>\n",
       "      <td>53.363208</td>\n",
       "      <td>59.557374</td>\n",
       "      <td>59.557374</td>\n",
       "      <td>59.557374</td>\n",
       "      <td>55.634152</td>\n",
       "    </tr>\n",
       "    <tr>\n",
       "      <th>1</th>\n",
       "      <td>0.0</td>\n",
       "      <td>0.0</td>\n",
       "      <td>0.0</td>\n",
       "      <td>9.891218</td>\n",
       "      <td>9.891218</td>\n",
       "      <td>9.891218</td>\n",
       "      <td>23.589349</td>\n",
       "      <td>36.477933</td>\n",
       "      <td>36.477933</td>\n",
       "      <td>31.296507</td>\n",
       "      <td>...</td>\n",
       "      <td>79.894291</td>\n",
       "      <td>79.894291</td>\n",
       "      <td>86.860329</td>\n",
       "      <td>86.860329</td>\n",
       "      <td>86.860329</td>\n",
       "      <td>86.860329</td>\n",
       "      <td>71.319955</td>\n",
       "      <td>71.319955</td>\n",
       "      <td>71.319955</td>\n",
       "      <td>56.606641</td>\n",
       "    </tr>\n",
       "    <tr>\n",
       "      <th>2</th>\n",
       "      <td>0.0</td>\n",
       "      <td>0.0</td>\n",
       "      <td>0.0</td>\n",
       "      <td>1.606057</td>\n",
       "      <td>1.606057</td>\n",
       "      <td>1.606057</td>\n",
       "      <td>8.623857</td>\n",
       "      <td>15.845217</td>\n",
       "      <td>15.845217</td>\n",
       "      <td>17.957593</td>\n",
       "      <td>...</td>\n",
       "      <td>89.500295</td>\n",
       "      <td>89.500295</td>\n",
       "      <td>84.266738</td>\n",
       "      <td>84.266738</td>\n",
       "      <td>84.266738</td>\n",
       "      <td>84.266738</td>\n",
       "      <td>71.979639</td>\n",
       "      <td>71.979639</td>\n",
       "      <td>71.979639</td>\n",
       "      <td>65.918534</td>\n",
       "    </tr>\n",
       "    <tr>\n",
       "      <th>3</th>\n",
       "      <td>0.0</td>\n",
       "      <td>0.0</td>\n",
       "      <td>0.0</td>\n",
       "      <td>3.668527</td>\n",
       "      <td>3.668527</td>\n",
       "      <td>3.668527</td>\n",
       "      <td>7.165376</td>\n",
       "      <td>11.628290</td>\n",
       "      <td>11.628290</td>\n",
       "      <td>15.308951</td>\n",
       "      <td>...</td>\n",
       "      <td>68.943668</td>\n",
       "      <td>68.943668</td>\n",
       "      <td>66.983974</td>\n",
       "      <td>66.983974</td>\n",
       "      <td>66.983974</td>\n",
       "      <td>66.983974</td>\n",
       "      <td>64.104558</td>\n",
       "      <td>64.104558</td>\n",
       "      <td>64.104558</td>\n",
       "      <td>61.848159</td>\n",
       "    </tr>\n",
       "    <tr>\n",
       "      <th>4</th>\n",
       "      <td>0.0</td>\n",
       "      <td>0.0</td>\n",
       "      <td>0.0</td>\n",
       "      <td>1.411810</td>\n",
       "      <td>1.411810</td>\n",
       "      <td>1.411810</td>\n",
       "      <td>9.707134</td>\n",
       "      <td>15.677262</td>\n",
       "      <td>15.677262</td>\n",
       "      <td>18.922410</td>\n",
       "      <td>...</td>\n",
       "      <td>43.565918</td>\n",
       "      <td>43.565918</td>\n",
       "      <td>42.343590</td>\n",
       "      <td>42.343590</td>\n",
       "      <td>42.343590</td>\n",
       "      <td>42.343590</td>\n",
       "      <td>42.235306</td>\n",
       "      <td>42.235306</td>\n",
       "      <td>42.235306</td>\n",
       "      <td>41.818073</td>\n",
       "    </tr>\n",
       "  </tbody>\n",
       "</table>\n",
       "<p>5 rows × 20770 columns</p>\n",
       "</div>"
      ],
      "text/plain": [
       "     0    1    2          3          4          5          6          7  \\\n",
       "0  0.0  0.0  0.0  10.778148  10.778148  10.778148  26.874088  43.189501   \n",
       "1  0.0  0.0  0.0   9.891218   9.891218   9.891218  23.589349  36.477933   \n",
       "2  0.0  0.0  0.0   1.606057   1.606057   1.606057   8.623857  15.845217   \n",
       "3  0.0  0.0  0.0   3.668527   3.668527   3.668527   7.165376  11.628290   \n",
       "4  0.0  0.0  0.0   1.411810   1.411810   1.411810   9.707134  15.677262   \n",
       "\n",
       "           8          9  ...      20760      20761      20762      20763  \\\n",
       "0  43.189501  38.594581  ...  54.343173  54.343173  53.363208  53.363208   \n",
       "1  36.477933  31.296507  ...  79.894291  79.894291  86.860329  86.860329   \n",
       "2  15.845217  17.957593  ...  89.500295  89.500295  84.266738  84.266738   \n",
       "3  11.628290  15.308951  ...  68.943668  68.943668  66.983974  66.983974   \n",
       "4  15.677262  18.922410  ...  43.565918  43.565918  42.343590  42.343590   \n",
       "\n",
       "       20764      20765      20766      20767      20768      20769  \n",
       "0  53.363208  53.363208  59.557374  59.557374  59.557374  55.634152  \n",
       "1  86.860329  86.860329  71.319955  71.319955  71.319955  56.606641  \n",
       "2  84.266738  84.266738  71.979639  71.979639  71.979639  65.918534  \n",
       "3  66.983974  66.983974  64.104558  64.104558  64.104558  61.848159  \n",
       "4  42.343590  42.343590  42.235306  42.235306  42.235306  41.818073  \n",
       "\n",
       "[5 rows x 20770 columns]"
      ]
     },
     "execution_count": 6,
     "metadata": {},
     "output_type": "execute_result"
    }
   ],
   "source": [
    "print(emg_data_df.shape)\n",
    "emg_data_df.drop('Unnamed: 0', axis=1, inplace=True)\n",
    "emg_data_df.head()"
   ]
  },
  {
   "cell_type": "code",
   "execution_count": 7,
   "id": "3ad1bcc6",
   "metadata": {
    "scrolled": true
   },
   "outputs": [
    {
     "name": "stdout",
     "output_type": "stream",
     "text": [
      "(7232, 4)\n"
     ]
    },
    {
     "data": {
      "text/html": [
       "<div>\n",
       "<style scoped>\n",
       "    .dataframe tbody tr th:only-of-type {\n",
       "        vertical-align: middle;\n",
       "    }\n",
       "\n",
       "    .dataframe tbody tr th {\n",
       "        vertical-align: top;\n",
       "    }\n",
       "\n",
       "    .dataframe thead th {\n",
       "        text-align: right;\n",
       "    }\n",
       "</style>\n",
       "<table border=\"1\" class=\"dataframe\">\n",
       "  <thead>\n",
       "    <tr style=\"text-align: right;\">\n",
       "      <th></th>\n",
       "      <th>Subject</th>\n",
       "      <th>Condition</th>\n",
       "      <th>Channel</th>\n",
       "    </tr>\n",
       "  </thead>\n",
       "  <tbody>\n",
       "    <tr>\n",
       "      <th>0</th>\n",
       "      <td>METACPHS_S106</td>\n",
       "      <td>0</td>\n",
       "      <td>0</td>\n",
       "    </tr>\n",
       "    <tr>\n",
       "      <th>1</th>\n",
       "      <td>METACPHS_S106</td>\n",
       "      <td>0</td>\n",
       "      <td>1</td>\n",
       "    </tr>\n",
       "    <tr>\n",
       "      <th>2</th>\n",
       "      <td>METACPHS_S106</td>\n",
       "      <td>0</td>\n",
       "      <td>2</td>\n",
       "    </tr>\n",
       "    <tr>\n",
       "      <th>3</th>\n",
       "      <td>METACPHS_S106</td>\n",
       "      <td>0</td>\n",
       "      <td>3</td>\n",
       "    </tr>\n",
       "    <tr>\n",
       "      <th>4</th>\n",
       "      <td>METACPHS_S106</td>\n",
       "      <td>0</td>\n",
       "      <td>4</td>\n",
       "    </tr>\n",
       "  </tbody>\n",
       "</table>\n",
       "</div>"
      ],
      "text/plain": [
       "         Subject  Condition  Channel\n",
       "0  METACPHS_S106          0        0\n",
       "1  METACPHS_S106          0        1\n",
       "2  METACPHS_S106          0        2\n",
       "3  METACPHS_S106          0        3\n",
       "4  METACPHS_S106          0        4"
      ]
     },
     "execution_count": 7,
     "metadata": {},
     "output_type": "execute_result"
    }
   ],
   "source": [
    "print(emg_labels_df.shape)\n",
    "emg_labels_df.drop('Unnamed: 0', axis=1, inplace=True)\n",
    "emg_labels_df.head()"
   ]
  },
  {
   "cell_type": "code",
   "execution_count": 8,
   "id": "53ade3fa",
   "metadata": {},
   "outputs": [
    {
     "name": "stdout",
     "output_type": "stream",
     "text": [
      "(2128, 5)\n"
     ]
    },
    {
     "data": {
      "text/html": [
       "<div>\n",
       "<style scoped>\n",
       "    .dataframe tbody tr th:only-of-type {\n",
       "        vertical-align: middle;\n",
       "    }\n",
       "\n",
       "    .dataframe tbody tr th {\n",
       "        vertical-align: top;\n",
       "    }\n",
       "\n",
       "    .dataframe thead th {\n",
       "        text-align: right;\n",
       "    }\n",
       "</style>\n",
       "<table border=\"1\" class=\"dataframe\">\n",
       "  <thead>\n",
       "    <tr style=\"text-align: right;\">\n",
       "      <th></th>\n",
       "      <th>Subject</th>\n",
       "      <th>Condition</th>\n",
       "      <th>Update Number</th>\n",
       "      <th>Frobenius Norm</th>\n",
       "    </tr>\n",
       "  </thead>\n",
       "  <tbody>\n",
       "    <tr>\n",
       "      <th>0</th>\n",
       "      <td>METACPHS_S106</td>\n",
       "      <td>0</td>\n",
       "      <td>0</td>\n",
       "      <td>0.066360</td>\n",
       "    </tr>\n",
       "    <tr>\n",
       "      <th>1</th>\n",
       "      <td>METACPHS_S106</td>\n",
       "      <td>0</td>\n",
       "      <td>1</td>\n",
       "      <td>0.066360</td>\n",
       "    </tr>\n",
       "    <tr>\n",
       "      <th>2</th>\n",
       "      <td>METACPHS_S106</td>\n",
       "      <td>0</td>\n",
       "      <td>2</td>\n",
       "      <td>9.709390</td>\n",
       "    </tr>\n",
       "    <tr>\n",
       "      <th>3</th>\n",
       "      <td>METACPHS_S106</td>\n",
       "      <td>0</td>\n",
       "      <td>3</td>\n",
       "      <td>8.209080</td>\n",
       "    </tr>\n",
       "    <tr>\n",
       "      <th>4</th>\n",
       "      <td>METACPHS_S106</td>\n",
       "      <td>0</td>\n",
       "      <td>4</td>\n",
       "      <td>10.406943</td>\n",
       "    </tr>\n",
       "  </tbody>\n",
       "</table>\n",
       "</div>"
      ],
      "text/plain": [
       "         Subject  Condition  Update Number  Frobenius Norm\n",
       "0  METACPHS_S106          0              0        0.066360\n",
       "1  METACPHS_S106          0              1        0.066360\n",
       "2  METACPHS_S106          0              2        9.709390\n",
       "3  METACPHS_S106          0              3        8.209080\n",
       "4  METACPHS_S106          0              4       10.406943"
      ]
     },
     "execution_count": 8,
     "metadata": {},
     "output_type": "execute_result"
    }
   ],
   "source": [
    "print(dec_norms_df.shape)\n",
    "dec_norms_df.drop('Unnamed: 0', axis=1, inplace=True)\n",
    "dec_norms_df.head()"
   ]
  },
  {
   "cell_type": "markdown",
   "id": "0cd587cb",
   "metadata": {},
   "source": [
    "# ML Pipeline"
   ]
  },
  {
   "cell_type": "code",
   "execution_count": 9,
   "id": "e4dca181",
   "metadata": {},
   "outputs": [],
   "source": [
    "# Machine learning\n",
    "from sklearn.model_selection import train_test_split\n",
    "from sklearn import model_selection, tree, preprocessing, metrics, linear_model\n",
    "from sklearn.svm import LinearSVC\n",
    "from sklearn.ensemble import GradientBoostingClassifier\n",
    "from sklearn.neighbors import KNeighborsClassifier\n",
    "from sklearn.naive_bayes import GaussianNB\n",
    "from sklearn.linear_model import LogisticRegression, SGDClassifier\n",
    "from sklearn.tree import DecisionTreeClassifier"
   ]
  },
  {
   "cell_type": "code",
   "execution_count": 10,
   "id": "ac91df91",
   "metadata": {},
   "outputs": [],
   "source": [
    "# Standard model fitting\n",
    "\n",
    "def fit_ml_algo(algo, X_train, y_train, cv, verbose=False, num_decimals=3, testing=False):\n",
    "    '''Runs given algorithm and returns the accuracy metrics'''\n",
    "    \n",
    "    model = algo.fit(X_train, y_train)\n",
    "    \n",
    "    # Notice that this is tested on the data it just trained on...\n",
    "    acc = round(model.score(X_train, y_train) * 100, 3)\n",
    "    \n",
    "    # Cross Validation - this fixes that issue of validating on the data that the model was trained on\n",
    "    train_pred = model_selection.cross_val_predict(algo, \n",
    "                                                  X_train, \n",
    "                                                  y_train, \n",
    "                                                  cv=cv, \n",
    "                                                  n_jobs=-1)\n",
    "    # Cross-validation metric\n",
    "    acc_cv = round(metrics.accuracy_score(y_train, train_pred) * 100, num_decimals)\n",
    "    #pre_cv = round(metrics.precision_score(y_train, train_pred) * 100, num_decimals)\n",
    "    #rec_cv = round(metrics.recall_score(y_train, train_pred) * 100, num_decimals)\n",
    "    \n",
    "    if verbose:\n",
    "        print(\"Training predictions:\")\n",
    "        print(train_pred)\n",
    "        print(\"Ground Truth:\")\n",
    "        print(y_train)\n",
    "        print(f\"One Off Accuracy: {acc}\")\n",
    "        print(f\"CV Accuracy: {acc_cv}\")\n",
    "    \n",
    "    if testing:\n",
    "        return train_pred, acc, acc_cv, model\n",
    "    \n",
    "    return train_pred, acc, acc_cv"
   ]
  },
  {
   "cell_type": "code",
   "execution_count": 11,
   "id": "3f74ecd2",
   "metadata": {},
   "outputs": [],
   "source": [
    "def train_test_val_split(input_df, label_df, rng_seed=2, validation=False, test_percent=0.3, val_percent=0.3):\n",
    "    ''''''\n",
    "    \n",
    "    x_train = input_df.copy(deep=True)\n",
    "    y_train_reg = label_df\n",
    "\n",
    "    ## TRAIN / TEST\n",
    "    # Stratify might be good to ensure that all classes are represented, I'm not sure if it'll do that by default\n",
    "    X_train, X_test, y_train, y_test = train_test_split(\n",
    "        x_train, y_train_reg, test_size=test_percent, random_state=rng_seed)\n",
    "\n",
    "    if validation:\n",
    "        ## TRAIN / VAL\n",
    "        # Might not use... easier to just use cross validation I think\n",
    "        X_train_pv, X_val, y_train_pv, y_val = train_test_split(\n",
    "            X_train, y_train, test_size=val_percent, random_state=rng_seed)\n",
    "\n",
    "        return X_train_pv, y_train_pv, X_test, y_test, X_val, y_val\n",
    "    else:\n",
    "        return X_train, y_train, X_test, y_test"
   ]
  },
  {
   "cell_type": "markdown",
   "id": "3814ddf7",
   "metadata": {},
   "source": [
    "## Classification\n",
    "1. Logistic Regression\n",
    "2. K-Nearest Neighbor\n",
    "3. Gaussian Naive Bayes\n",
    "4. Linear SVC\n",
    "5. Stochastic Gradient Descent\n",
    "6. Decision Tree Classifier\n",
    "7. Gradient Boosting Trees"
   ]
  },
  {
   "cell_type": "code",
   "execution_count": 12,
   "id": "eef01e6c",
   "metadata": {},
   "outputs": [],
   "source": [
    "# Set the number of k-folds\n",
    "cv = 10"
   ]
  },
  {
   "cell_type": "code",
   "execution_count": 13,
   "id": "c8aba1c5",
   "metadata": {},
   "outputs": [],
   "source": [
    "# Should I do standard scaler?\n",
    "\n",
    "#from sklearn.preprocessing import StandardScaler\n",
    "#scalerX = StandardScaler().fit(X_train)\n",
    "#scalery = StandardScaler().fit(y_train)\n",
    "\n",
    "#X_train = scalerX.transform(X_train)\n",
    "#y_train = scalery.transform(y_train)\n",
    "#X_test = scalerX.transform(X_test)\n",
    "#y_test = scalery.transform(y_test)"
   ]
  },
  {
   "cell_type": "markdown",
   "id": "da43530f",
   "metadata": {},
   "source": [
    "## 1) Linking Matrix Norms to Patients"
   ]
  },
  {
   "cell_type": "code",
   "execution_count": 14,
   "id": "64e331aa",
   "metadata": {},
   "outputs": [
    {
     "data": {
      "text/html": [
       "<div>\n",
       "<style scoped>\n",
       "    .dataframe tbody tr th:only-of-type {\n",
       "        vertical-align: middle;\n",
       "    }\n",
       "\n",
       "    .dataframe tbody tr th {\n",
       "        vertical-align: top;\n",
       "    }\n",
       "\n",
       "    .dataframe thead th {\n",
       "        text-align: right;\n",
       "    }\n",
       "</style>\n",
       "<table border=\"1\" class=\"dataframe\">\n",
       "  <thead>\n",
       "    <tr style=\"text-align: right;\">\n",
       "      <th></th>\n",
       "      <th>Frobenius Norm</th>\n",
       "    </tr>\n",
       "  </thead>\n",
       "  <tbody>\n",
       "    <tr>\n",
       "      <th>0</th>\n",
       "      <td>0.066360</td>\n",
       "    </tr>\n",
       "    <tr>\n",
       "      <th>1</th>\n",
       "      <td>0.066360</td>\n",
       "    </tr>\n",
       "    <tr>\n",
       "      <th>2</th>\n",
       "      <td>9.709390</td>\n",
       "    </tr>\n",
       "    <tr>\n",
       "      <th>3</th>\n",
       "      <td>8.209080</td>\n",
       "    </tr>\n",
       "    <tr>\n",
       "      <th>4</th>\n",
       "      <td>10.406943</td>\n",
       "    </tr>\n",
       "  </tbody>\n",
       "</table>\n",
       "</div>"
      ],
      "text/plain": [
       "   Frobenius Norm\n",
       "0        0.066360\n",
       "1        0.066360\n",
       "2        9.709390\n",
       "3        8.209080\n",
       "4       10.406943"
      ]
     },
     "execution_count": 14,
     "metadata": {},
     "output_type": "execute_result"
    }
   ],
   "source": [
    "norm_input_df = dec_norms_df.drop([\"Subject\",  \"Condition\", \"Update Number\"], axis=1)\n",
    "norm_label_df = dec_norms_df.drop([\"Condition\", \"Update Number\", \"Frobenius Norm\"], axis=1)\n",
    "\n",
    "norm_input_df.head()"
   ]
  },
  {
   "cell_type": "code",
   "execution_count": 15,
   "id": "8a4b7877",
   "metadata": {},
   "outputs": [],
   "source": [
    "key_to_num = dict()\n",
    "num_to_key = dict()\n",
    "for idx, key in enumerate(keys):\n",
    "    key_to_num[key] = idx\n",
    "    num_to_key[idx] = key"
   ]
  },
  {
   "cell_type": "code",
   "execution_count": 16,
   "id": "ab3af1aa",
   "metadata": {},
   "outputs": [
    {
     "data": {
      "text/html": [
       "<div>\n",
       "<style scoped>\n",
       "    .dataframe tbody tr th:only-of-type {\n",
       "        vertical-align: middle;\n",
       "    }\n",
       "\n",
       "    .dataframe tbody tr th {\n",
       "        vertical-align: top;\n",
       "    }\n",
       "\n",
       "    .dataframe thead th {\n",
       "        text-align: right;\n",
       "    }\n",
       "</style>\n",
       "<table border=\"1\" class=\"dataframe\">\n",
       "  <thead>\n",
       "    <tr style=\"text-align: right;\">\n",
       "      <th></th>\n",
       "      <th>Subject</th>\n",
       "    </tr>\n",
       "  </thead>\n",
       "  <tbody>\n",
       "    <tr>\n",
       "      <th>0</th>\n",
       "      <td>0</td>\n",
       "    </tr>\n",
       "    <tr>\n",
       "      <th>1</th>\n",
       "      <td>0</td>\n",
       "    </tr>\n",
       "    <tr>\n",
       "      <th>2</th>\n",
       "      <td>0</td>\n",
       "    </tr>\n",
       "    <tr>\n",
       "      <th>3</th>\n",
       "      <td>0</td>\n",
       "    </tr>\n",
       "    <tr>\n",
       "      <th>4</th>\n",
       "      <td>0</td>\n",
       "    </tr>\n",
       "  </tbody>\n",
       "</table>\n",
       "</div>"
      ],
      "text/plain": [
       "   Subject\n",
       "0        0\n",
       "1        0\n",
       "2        0\n",
       "3        0\n",
       "4        0"
      ]
     },
     "execution_count": 16,
     "metadata": {},
     "output_type": "execute_result"
    }
   ],
   "source": [
    "norm_label_df[\"Subject\"] = norm_label_df[\"Subject\"].map(key_to_num)\n",
    "norm_label_df.head()"
   ]
  },
  {
   "cell_type": "code",
   "execution_count": 17,
   "id": "7a74209d",
   "metadata": {},
   "outputs": [
    {
     "name": "stdout",
     "output_type": "stream",
     "text": [
      "(1489, 1)\n"
     ]
    },
    {
     "data": {
      "text/html": [
       "<div>\n",
       "<style scoped>\n",
       "    .dataframe tbody tr th:only-of-type {\n",
       "        vertical-align: middle;\n",
       "    }\n",
       "\n",
       "    .dataframe tbody tr th {\n",
       "        vertical-align: top;\n",
       "    }\n",
       "\n",
       "    .dataframe thead th {\n",
       "        text-align: right;\n",
       "    }\n",
       "</style>\n",
       "<table border=\"1\" class=\"dataframe\">\n",
       "  <thead>\n",
       "    <tr style=\"text-align: right;\">\n",
       "      <th></th>\n",
       "      <th>Frobenius Norm</th>\n",
       "    </tr>\n",
       "  </thead>\n",
       "  <tbody>\n",
       "    <tr>\n",
       "      <th>420</th>\n",
       "      <td>3.567582</td>\n",
       "    </tr>\n",
       "    <tr>\n",
       "      <th>146</th>\n",
       "      <td>5.589772</td>\n",
       "    </tr>\n",
       "    <tr>\n",
       "      <th>266</th>\n",
       "      <td>0.069974</td>\n",
       "    </tr>\n",
       "    <tr>\n",
       "      <th>695</th>\n",
       "      <td>5.796815</td>\n",
       "    </tr>\n",
       "    <tr>\n",
       "      <th>372</th>\n",
       "      <td>17.938752</td>\n",
       "    </tr>\n",
       "  </tbody>\n",
       "</table>\n",
       "</div>"
      ],
      "text/plain": [
       "     Frobenius Norm\n",
       "420        3.567582\n",
       "146        5.589772\n",
       "266        0.069974\n",
       "695        5.796815\n",
       "372       17.938752"
      ]
     },
     "execution_count": 17,
     "metadata": {},
     "output_type": "execute_result"
    }
   ],
   "source": [
    "try:\n",
    "    X_train, y_train, X_test, y_test, X_val, y_val = train_test_val_split(norm_input_df, norm_label_df)\n",
    "except ValueError:\n",
    "    # You probably turned off validation so just remove the val sets\n",
    "    X_train, y_train, X_test, y_test = train_test_val_split(norm_input_df, norm_label_df)\n",
    "y_train = np.ravel(y_train)\n",
    "\n",
    "print(X_train.shape)\n",
    "X_train.head()"
   ]
  },
  {
   "cell_type": "code",
   "execution_count": 21,
   "id": "3dc4481b",
   "metadata": {},
   "outputs": [],
   "source": [
    "# Result logs\n",
    "my_metrics_cols = ['Algorithm', 'One Off Acc', 'CV Acc', 'K Folds']\n",
    "res_df = pd.DataFrame(columns=my_metrics_cols)\n",
    "\n",
    "norm1d_res_df = pd.DataFrame(columns=my_metrics_cols)\n",
    "flatten_dec_res_df = pd.DataFrame(columns=my_metrics_cols)\n",
    "norm_vec_res_df = pd.DataFrame(columns=my_metrics_cols)"
   ]
  },
  {
   "cell_type": "markdown",
   "id": "fe29fc54",
   "metadata": {},
   "source": [
    "## Case 1: 1D Norm"
   ]
  },
  {
   "cell_type": "code",
   "execution_count": 19,
   "id": "0c7dc5f5",
   "metadata": {},
   "outputs": [],
   "source": [
    "# Fully functionalized\n",
    "\n",
    "def train_model(my_model, X_train, y_train, cv, res_df, verbose=False):\n",
    "    #start_time = time.time()\n",
    "    train_pred_log, acc, acc_cv = fit_ml_algo(my_model, X_train, y_train, cv)\n",
    "    #log_time = (time.time() - start_time)\n",
    "    if verbose:\n",
    "        print(f\"{str(my_model)}\")\n",
    "        print(f\"Accuracy: {acc}\")\n",
    "        print(f\"Accuracy CV 10-Fold: {acc_cv}\")\n",
    "        print()\n",
    "        #print(f\"Run Time: {log_time:.3f}\")\n",
    "\n",
    "    my_metrics_cols = ['Algorithm', 'One Off Acc', 'CV Acc', 'K Folds']\n",
    "    temp_df = pd.DataFrame([[str(my_model), acc, acc_cv, cv]], columns=my_metrics_cols)\n",
    "    res_df = pd.concat((res_df, temp_df))\n",
    "    \n",
    "    return res_df"
   ]
  },
  {
   "cell_type": "code",
   "execution_count": 22,
   "id": "1e1bfbf7",
   "metadata": {},
   "outputs": [
    {
     "name": "stdout",
     "output_type": "stream",
     "text": [
      "LogisticRegression()\n",
      "Accuracy: 17.931\n",
      "Accuracy CV 10-Fold: 16.857\n",
      "\n"
     ]
    },
    {
     "name": "stderr",
     "output_type": "stream",
     "text": [
      "C:\\Users\\kdmen\\miniconda3\\lib\\site-packages\\sklearn\\neighbors\\_classification.py:237: FutureWarning: Unlike other reduction functions (e.g. `skew`, `kurtosis`), the default behavior of `mode` typically preserves the axis it acts along. In SciPy 1.11.0, this behavior will change: the default value of `keepdims` will become False, the `axis` over which the statistic is taken will be eliminated, and the value None will no longer be accepted. Set `keepdims` to True or False to avoid this warning.\n",
      "  mode, _ = stats.mode(_y[neigh_ind, k], axis=1)\n"
     ]
    },
    {
     "name": "stdout",
     "output_type": "stream",
     "text": [
      "KNeighborsClassifier()\n",
      "Accuracy: 52.048\n",
      "Accuracy CV 10-Fold: 30.356\n",
      "\n",
      "GaussianNB()\n",
      "Accuracy: 19.073\n",
      "Accuracy CV 10-Fold: 17.26\n",
      "\n"
     ]
    },
    {
     "name": "stderr",
     "output_type": "stream",
     "text": [
      "C:\\Users\\kdmen\\miniconda3\\lib\\site-packages\\sklearn\\svm\\_base.py:1225: ConvergenceWarning: Liblinear failed to converge, increase the number of iterations.\n",
      "  warnings.warn(\n"
     ]
    },
    {
     "name": "stdout",
     "output_type": "stream",
     "text": [
      "LinearSVC()\n",
      "Accuracy: 18.603\n",
      "Accuracy CV 10-Fold: 18.805\n",
      "\n",
      "SGDClassifier()\n",
      "Accuracy: 14.641\n",
      "Accuracy CV 10-Fold: 15.581\n",
      "\n",
      "DecisionTreeClassifier()\n",
      "Accuracy: 100.0\n",
      "Accuracy CV 10-Fold: 28.946\n",
      "\n",
      "GradientBoostingClassifier()\n",
      "Accuracy: 65.682\n",
      "Accuracy CV 10-Fold: 32.304\n",
      "\n",
      "LogisticRegression()\n",
      "Accuracy: 17.931\n",
      "Accuracy CV 10-Fold: 16.857\n",
      "\n"
     ]
    },
    {
     "name": "stderr",
     "output_type": "stream",
     "text": [
      "C:\\Users\\kdmen\\miniconda3\\lib\\site-packages\\sklearn\\neighbors\\_classification.py:237: FutureWarning: Unlike other reduction functions (e.g. `skew`, `kurtosis`), the default behavior of `mode` typically preserves the axis it acts along. In SciPy 1.11.0, this behavior will change: the default value of `keepdims` will become False, the `axis` over which the statistic is taken will be eliminated, and the value None will no longer be accepted. Set `keepdims` to True or False to avoid this warning.\n",
      "  mode, _ = stats.mode(_y[neigh_ind, k], axis=1)\n"
     ]
    },
    {
     "name": "stdout",
     "output_type": "stream",
     "text": [
      "KNeighborsClassifier()\n",
      "Accuracy: 52.048\n",
      "Accuracy CV 10-Fold: 30.356\n",
      "\n",
      "GaussianNB()\n",
      "Accuracy: 19.073\n",
      "Accuracy CV 10-Fold: 17.26\n",
      "\n"
     ]
    },
    {
     "name": "stderr",
     "output_type": "stream",
     "text": [
      "C:\\Users\\kdmen\\miniconda3\\lib\\site-packages\\sklearn\\svm\\_base.py:1225: ConvergenceWarning: Liblinear failed to converge, increase the number of iterations.\n",
      "  warnings.warn(\n"
     ]
    },
    {
     "name": "stdout",
     "output_type": "stream",
     "text": [
      "LinearSVC()\n",
      "Accuracy: 20.618\n",
      "Accuracy CV 10-Fold: 17.999\n",
      "\n",
      "SGDClassifier()\n",
      "Accuracy: 14.305\n",
      "Accuracy CV 10-Fold: 15.245\n",
      "\n",
      "DecisionTreeClassifier()\n",
      "Accuracy: 100.0\n",
      "Accuracy CV 10-Fold: 28.946\n",
      "\n",
      "GradientBoostingClassifier()\n",
      "Accuracy: 65.682\n",
      "Accuracy CV 10-Fold: 32.304\n",
      "\n",
      "LogisticRegression()\n",
      "Accuracy: 17.931\n",
      "Accuracy CV 10-Fold: 16.857\n",
      "\n"
     ]
    },
    {
     "name": "stderr",
     "output_type": "stream",
     "text": [
      "C:\\Users\\kdmen\\miniconda3\\lib\\site-packages\\sklearn\\neighbors\\_classification.py:237: FutureWarning: Unlike other reduction functions (e.g. `skew`, `kurtosis`), the default behavior of `mode` typically preserves the axis it acts along. In SciPy 1.11.0, this behavior will change: the default value of `keepdims` will become False, the `axis` over which the statistic is taken will be eliminated, and the value None will no longer be accepted. Set `keepdims` to True or False to avoid this warning.\n",
      "  mode, _ = stats.mode(_y[neigh_ind, k], axis=1)\n"
     ]
    },
    {
     "name": "stdout",
     "output_type": "stream",
     "text": [
      "KNeighborsClassifier()\n",
      "Accuracy: 52.048\n",
      "Accuracy CV 10-Fold: 30.356\n",
      "\n",
      "GaussianNB()\n",
      "Accuracy: 19.073\n",
      "Accuracy CV 10-Fold: 17.26\n",
      "\n"
     ]
    },
    {
     "name": "stderr",
     "output_type": "stream",
     "text": [
      "C:\\Users\\kdmen\\miniconda3\\lib\\site-packages\\sklearn\\svm\\_base.py:1225: ConvergenceWarning: Liblinear failed to converge, increase the number of iterations.\n",
      "  warnings.warn(\n"
     ]
    },
    {
     "name": "stdout",
     "output_type": "stream",
     "text": [
      "LinearSVC()\n",
      "Accuracy: 19.342\n",
      "Accuracy CV 10-Fold: 18.334\n",
      "\n",
      "SGDClassifier()\n",
      "Accuracy: 15.044\n",
      "Accuracy CV 10-Fold: 13.969\n",
      "\n",
      "DecisionTreeClassifier()\n",
      "Accuracy: 100.0\n",
      "Accuracy CV 10-Fold: 28.946\n",
      "\n",
      "GradientBoostingClassifier()\n",
      "Accuracy: 65.682\n",
      "Accuracy CV 10-Fold: 32.304\n",
      "\n",
      "LogisticRegression()\n",
      "Accuracy: 17.931\n",
      "Accuracy CV 10-Fold: 16.857\n",
      "\n"
     ]
    },
    {
     "name": "stderr",
     "output_type": "stream",
     "text": [
      "C:\\Users\\kdmen\\miniconda3\\lib\\site-packages\\sklearn\\neighbors\\_classification.py:237: FutureWarning: Unlike other reduction functions (e.g. `skew`, `kurtosis`), the default behavior of `mode` typically preserves the axis it acts along. In SciPy 1.11.0, this behavior will change: the default value of `keepdims` will become False, the `axis` over which the statistic is taken will be eliminated, and the value None will no longer be accepted. Set `keepdims` to True or False to avoid this warning.\n",
      "  mode, _ = stats.mode(_y[neigh_ind, k], axis=1)\n"
     ]
    },
    {
     "name": "stdout",
     "output_type": "stream",
     "text": [
      "KNeighborsClassifier()\n",
      "Accuracy: 52.048\n",
      "Accuracy CV 10-Fold: 30.356\n",
      "\n",
      "GaussianNB()\n",
      "Accuracy: 19.073\n",
      "Accuracy CV 10-Fold: 17.26\n",
      "\n"
     ]
    },
    {
     "name": "stderr",
     "output_type": "stream",
     "text": [
      "C:\\Users\\kdmen\\miniconda3\\lib\\site-packages\\sklearn\\svm\\_base.py:1225: ConvergenceWarning: Liblinear failed to converge, increase the number of iterations.\n",
      "  warnings.warn(\n"
     ]
    },
    {
     "name": "stdout",
     "output_type": "stream",
     "text": [
      "LinearSVC()\n",
      "Accuracy: 19.342\n",
      "Accuracy CV 10-Fold: 18.267\n",
      "\n",
      "SGDClassifier()\n",
      "Accuracy: 14.171\n",
      "Accuracy CV 10-Fold: 13.969\n",
      "\n",
      "DecisionTreeClassifier()\n",
      "Accuracy: 100.0\n",
      "Accuracy CV 10-Fold: 28.946\n",
      "\n",
      "GradientBoostingClassifier()\n",
      "Accuracy: 65.682\n",
      "Accuracy CV 10-Fold: 32.304\n",
      "\n",
      "LogisticRegression()\n",
      "Accuracy: 17.931\n",
      "Accuracy CV 10-Fold: 16.857\n",
      "\n"
     ]
    },
    {
     "name": "stderr",
     "output_type": "stream",
     "text": [
      "C:\\Users\\kdmen\\miniconda3\\lib\\site-packages\\sklearn\\neighbors\\_classification.py:237: FutureWarning: Unlike other reduction functions (e.g. `skew`, `kurtosis`), the default behavior of `mode` typically preserves the axis it acts along. In SciPy 1.11.0, this behavior will change: the default value of `keepdims` will become False, the `axis` over which the statistic is taken will be eliminated, and the value None will no longer be accepted. Set `keepdims` to True or False to avoid this warning.\n",
      "  mode, _ = stats.mode(_y[neigh_ind, k], axis=1)\n"
     ]
    },
    {
     "name": "stdout",
     "output_type": "stream",
     "text": [
      "KNeighborsClassifier()\n",
      "Accuracy: 52.048\n",
      "Accuracy CV 10-Fold: 30.356\n",
      "\n",
      "GaussianNB()\n",
      "Accuracy: 19.073\n",
      "Accuracy CV 10-Fold: 17.26\n",
      "\n"
     ]
    },
    {
     "name": "stderr",
     "output_type": "stream",
     "text": [
      "C:\\Users\\kdmen\\miniconda3\\lib\\site-packages\\sklearn\\svm\\_base.py:1225: ConvergenceWarning: Liblinear failed to converge, increase the number of iterations.\n",
      "  warnings.warn(\n"
     ]
    },
    {
     "name": "stdout",
     "output_type": "stream",
     "text": [
      "LinearSVC()\n",
      "Accuracy: 20.752\n",
      "Accuracy CV 10-Fold: 18.67\n",
      "\n",
      "SGDClassifier()\n",
      "Accuracy: 13.768\n",
      "Accuracy CV 10-Fold: 14.305\n",
      "\n",
      "DecisionTreeClassifier()\n",
      "Accuracy: 100.0\n",
      "Accuracy CV 10-Fold: 28.946\n",
      "\n",
      "GradientBoostingClassifier()\n",
      "Accuracy: 65.682\n",
      "Accuracy CV 10-Fold: 32.304\n",
      "\n",
      "LogisticRegression()\n",
      "Accuracy: 17.931\n",
      "Accuracy CV 10-Fold: 16.857\n",
      "\n"
     ]
    },
    {
     "name": "stderr",
     "output_type": "stream",
     "text": [
      "C:\\Users\\kdmen\\miniconda3\\lib\\site-packages\\sklearn\\neighbors\\_classification.py:237: FutureWarning: Unlike other reduction functions (e.g. `skew`, `kurtosis`), the default behavior of `mode` typically preserves the axis it acts along. In SciPy 1.11.0, this behavior will change: the default value of `keepdims` will become False, the `axis` over which the statistic is taken will be eliminated, and the value None will no longer be accepted. Set `keepdims` to True or False to avoid this warning.\n",
      "  mode, _ = stats.mode(_y[neigh_ind, k], axis=1)\n"
     ]
    },
    {
     "name": "stdout",
     "output_type": "stream",
     "text": [
      "KNeighborsClassifier()\n",
      "Accuracy: 52.048\n",
      "Accuracy CV 10-Fold: 30.356\n",
      "\n",
      "GaussianNB()\n",
      "Accuracy: 19.073\n",
      "Accuracy CV 10-Fold: 17.26\n",
      "\n"
     ]
    },
    {
     "name": "stderr",
     "output_type": "stream",
     "text": [
      "C:\\Users\\kdmen\\miniconda3\\lib\\site-packages\\sklearn\\svm\\_base.py:1225: ConvergenceWarning: Liblinear failed to converge, increase the number of iterations.\n",
      "  warnings.warn(\n"
     ]
    },
    {
     "name": "stdout",
     "output_type": "stream",
     "text": [
      "LinearSVC()\n",
      "Accuracy: 19.879\n",
      "Accuracy CV 10-Fold: 17.126\n",
      "\n",
      "SGDClassifier()\n",
      "Accuracy: 14.372\n",
      "Accuracy CV 10-Fold: 14.372\n",
      "\n",
      "DecisionTreeClassifier()\n",
      "Accuracy: 100.0\n",
      "Accuracy CV 10-Fold: 28.946\n",
      "\n",
      "GradientBoostingClassifier()\n",
      "Accuracy: 65.682\n",
      "Accuracy CV 10-Fold: 32.304\n",
      "\n",
      "LogisticRegression()\n",
      "Accuracy: 17.931\n",
      "Accuracy CV 10-Fold: 16.857\n",
      "\n"
     ]
    },
    {
     "name": "stderr",
     "output_type": "stream",
     "text": [
      "C:\\Users\\kdmen\\miniconda3\\lib\\site-packages\\sklearn\\neighbors\\_classification.py:237: FutureWarning: Unlike other reduction functions (e.g. `skew`, `kurtosis`), the default behavior of `mode` typically preserves the axis it acts along. In SciPy 1.11.0, this behavior will change: the default value of `keepdims` will become False, the `axis` over which the statistic is taken will be eliminated, and the value None will no longer be accepted. Set `keepdims` to True or False to avoid this warning.\n",
      "  mode, _ = stats.mode(_y[neigh_ind, k], axis=1)\n"
     ]
    },
    {
     "name": "stdout",
     "output_type": "stream",
     "text": [
      "KNeighborsClassifier()\n",
      "Accuracy: 52.048\n",
      "Accuracy CV 10-Fold: 30.356\n",
      "\n",
      "GaussianNB()\n",
      "Accuracy: 19.073\n",
      "Accuracy CV 10-Fold: 17.26\n",
      "\n"
     ]
    },
    {
     "name": "stderr",
     "output_type": "stream",
     "text": [
      "C:\\Users\\kdmen\\miniconda3\\lib\\site-packages\\sklearn\\svm\\_base.py:1225: ConvergenceWarning: Liblinear failed to converge, increase the number of iterations.\n",
      "  warnings.warn(\n"
     ]
    },
    {
     "name": "stdout",
     "output_type": "stream",
     "text": [
      "LinearSVC()\n",
      "Accuracy: 16.454\n",
      "Accuracy CV 10-Fold: 18.2\n",
      "\n",
      "SGDClassifier()\n",
      "Accuracy: 14.372\n",
      "Accuracy CV 10-Fold: 15.245\n",
      "\n",
      "DecisionTreeClassifier()\n",
      "Accuracy: 100.0\n",
      "Accuracy CV 10-Fold: 28.946\n",
      "\n",
      "GradientBoostingClassifier()\n",
      "Accuracy: 65.682\n",
      "Accuracy CV 10-Fold: 32.304\n",
      "\n",
      "LogisticRegression()\n",
      "Accuracy: 17.931\n",
      "Accuracy CV 10-Fold: 16.857\n",
      "\n"
     ]
    },
    {
     "name": "stderr",
     "output_type": "stream",
     "text": [
      "C:\\Users\\kdmen\\miniconda3\\lib\\site-packages\\sklearn\\neighbors\\_classification.py:237: FutureWarning: Unlike other reduction functions (e.g. `skew`, `kurtosis`), the default behavior of `mode` typically preserves the axis it acts along. In SciPy 1.11.0, this behavior will change: the default value of `keepdims` will become False, the `axis` over which the statistic is taken will be eliminated, and the value None will no longer be accepted. Set `keepdims` to True or False to avoid this warning.\n",
      "  mode, _ = stats.mode(_y[neigh_ind, k], axis=1)\n"
     ]
    },
    {
     "name": "stdout",
     "output_type": "stream",
     "text": [
      "KNeighborsClassifier()\n",
      "Accuracy: 52.048\n",
      "Accuracy CV 10-Fold: 30.356\n",
      "\n",
      "GaussianNB()\n",
      "Accuracy: 19.073\n",
      "Accuracy CV 10-Fold: 17.26\n",
      "\n"
     ]
    },
    {
     "name": "stderr",
     "output_type": "stream",
     "text": [
      "C:\\Users\\kdmen\\miniconda3\\lib\\site-packages\\sklearn\\svm\\_base.py:1225: ConvergenceWarning: Liblinear failed to converge, increase the number of iterations.\n",
      "  warnings.warn(\n"
     ]
    },
    {
     "name": "stdout",
     "output_type": "stream",
     "text": [
      "LinearSVC()\n",
      "Accuracy: 19.342\n",
      "Accuracy CV 10-Fold: 18.469\n",
      "\n",
      "SGDClassifier()\n",
      "Accuracy: 13.902\n",
      "Accuracy CV 10-Fold: 14.372\n",
      "\n",
      "DecisionTreeClassifier()\n",
      "Accuracy: 100.0\n",
      "Accuracy CV 10-Fold: 28.946\n",
      "\n",
      "GradientBoostingClassifier()\n",
      "Accuracy: 65.682\n",
      "Accuracy CV 10-Fold: 32.304\n",
      "\n",
      "LogisticRegression()\n",
      "Accuracy: 17.931\n",
      "Accuracy CV 10-Fold: 16.857\n",
      "\n"
     ]
    },
    {
     "name": "stderr",
     "output_type": "stream",
     "text": [
      "C:\\Users\\kdmen\\miniconda3\\lib\\site-packages\\sklearn\\neighbors\\_classification.py:237: FutureWarning: Unlike other reduction functions (e.g. `skew`, `kurtosis`), the default behavior of `mode` typically preserves the axis it acts along. In SciPy 1.11.0, this behavior will change: the default value of `keepdims` will become False, the `axis` over which the statistic is taken will be eliminated, and the value None will no longer be accepted. Set `keepdims` to True or False to avoid this warning.\n",
      "  mode, _ = stats.mode(_y[neigh_ind, k], axis=1)\n"
     ]
    },
    {
     "name": "stdout",
     "output_type": "stream",
     "text": [
      "KNeighborsClassifier()\n",
      "Accuracy: 52.048\n",
      "Accuracy CV 10-Fold: 30.356\n",
      "\n",
      "GaussianNB()\n",
      "Accuracy: 19.073\n",
      "Accuracy CV 10-Fold: 17.26\n",
      "\n"
     ]
    },
    {
     "name": "stderr",
     "output_type": "stream",
     "text": [
      "C:\\Users\\kdmen\\miniconda3\\lib\\site-packages\\sklearn\\svm\\_base.py:1225: ConvergenceWarning: Liblinear failed to converge, increase the number of iterations.\n",
      "  warnings.warn(\n"
     ]
    },
    {
     "name": "stdout",
     "output_type": "stream",
     "text": [
      "LinearSVC()\n",
      "Accuracy: 20.215\n",
      "Accuracy CV 10-Fold: 18.536\n",
      "\n",
      "SGDClassifier()\n",
      "Accuracy: 14.305\n",
      "Accuracy CV 10-Fold: 15.178\n",
      "\n",
      "DecisionTreeClassifier()\n",
      "Accuracy: 100.0\n",
      "Accuracy CV 10-Fold: 28.946\n",
      "\n",
      "GradientBoostingClassifier()\n",
      "Accuracy: 65.682\n",
      "Accuracy CV 10-Fold: 32.304\n",
      "\n",
      "LogisticRegression()\n",
      "Accuracy: 17.931\n",
      "Accuracy CV 10-Fold: 16.857\n",
      "\n"
     ]
    },
    {
     "name": "stderr",
     "output_type": "stream",
     "text": [
      "C:\\Users\\kdmen\\miniconda3\\lib\\site-packages\\sklearn\\neighbors\\_classification.py:237: FutureWarning: Unlike other reduction functions (e.g. `skew`, `kurtosis`), the default behavior of `mode` typically preserves the axis it acts along. In SciPy 1.11.0, this behavior will change: the default value of `keepdims` will become False, the `axis` over which the statistic is taken will be eliminated, and the value None will no longer be accepted. Set `keepdims` to True or False to avoid this warning.\n",
      "  mode, _ = stats.mode(_y[neigh_ind, k], axis=1)\n"
     ]
    },
    {
     "name": "stdout",
     "output_type": "stream",
     "text": [
      "KNeighborsClassifier()\n",
      "Accuracy: 52.048\n",
      "Accuracy CV 10-Fold: 30.356\n",
      "\n",
      "GaussianNB()\n",
      "Accuracy: 19.073\n",
      "Accuracy CV 10-Fold: 17.26\n",
      "\n"
     ]
    },
    {
     "name": "stderr",
     "output_type": "stream",
     "text": [
      "C:\\Users\\kdmen\\miniconda3\\lib\\site-packages\\sklearn\\svm\\_base.py:1225: ConvergenceWarning: Liblinear failed to converge, increase the number of iterations.\n",
      "  warnings.warn(\n"
     ]
    },
    {
     "name": "stdout",
     "output_type": "stream",
     "text": [
      "LinearSVC()\n",
      "Accuracy: 20.081\n",
      "Accuracy CV 10-Fold: 19.073\n",
      "\n",
      "SGDClassifier()\n",
      "Accuracy: 14.641\n",
      "Accuracy CV 10-Fold: 14.238\n",
      "\n",
      "DecisionTreeClassifier()\n",
      "Accuracy: 100.0\n",
      "Accuracy CV 10-Fold: 28.946\n",
      "\n",
      "GradientBoostingClassifier()\n",
      "Accuracy: 65.682\n",
      "Accuracy CV 10-Fold: 32.304\n",
      "\n"
     ]
    }
   ],
   "source": [
    "# For repeatition, find the average\n",
    "# Do I need to add RNG? Probably...\n",
    "num_runs = 1\n",
    "\n",
    "my_models = [LogisticRegression(), KNeighborsClassifier(), GaussianNB(), LinearSVC(), SGDClassifier(), DecisionTreeClassifier(), GradientBoostingClassifier()]\n",
    "running_average_array = np.zeros((len(my_models), num_runs))\n",
    "\n",
    "for trial_num in range(num_runs):\n",
    "    print(f\"Trial {trial_num} of {num_runs}\")\n",
    "    for model_num, model in enumerate(my_models):\n",
    "        norm1d_res_df = train_model(model, X_train, y_train, cv, norm1d_res_df)\n",
    "        running_average_array[model_num, trial_num] = norm1d_res_df.iloc[-1, 2]"
   ]
  },
  {
   "cell_type": "code",
   "execution_count": 23,
   "id": "b4a0cd04",
   "metadata": {},
   "outputs": [
    {
     "data": {
      "text/plain": [
       "array([[16.857, 16.857, 16.857, 16.857, 16.857, 16.857, 16.857, 16.857,\n",
       "        16.857, 16.857],\n",
       "       [16.857, 16.857, 16.857, 16.857, 16.857, 16.857, 16.857, 16.857,\n",
       "        16.857, 16.857],\n",
       "       [16.857, 16.857, 16.857, 16.857, 16.857, 16.857, 16.857, 16.857,\n",
       "        16.857, 16.857],\n",
       "       [16.857, 16.857, 16.857, 16.857, 16.857, 16.857, 16.857, 16.857,\n",
       "        16.857, 16.857],\n",
       "       [16.857, 16.857, 16.857, 16.857, 16.857, 16.857, 16.857, 16.857,\n",
       "        16.857, 16.857],\n",
       "       [16.857, 16.857, 16.857, 16.857, 16.857, 16.857, 16.857, 16.857,\n",
       "        16.857, 16.857],\n",
       "       [16.857, 16.857, 16.857, 16.857, 16.857, 16.857, 16.857, 16.857,\n",
       "        16.857, 16.857]])"
      ]
     },
     "execution_count": 23,
     "metadata": {},
     "output_type": "execute_result"
    }
   ],
   "source": [
    "running_average_array"
   ]
  },
  {
   "cell_type": "code",
   "execution_count": null,
   "id": "4ba9ee17",
   "metadata": {},
   "outputs": [],
   "source": [
    "#avg_cv_acc_lst = running_average_lst/10\n",
    "\n",
    "#running_average_lst = np.mean(running_average_array)"
   ]
  },
  {
   "cell_type": "code",
   "execution_count": null,
   "id": "f2978c75",
   "metadata": {},
   "outputs": [],
   "source": [
    "#res_df.head(100)"
   ]
  },
  {
   "cell_type": "markdown",
   "id": "20c5b099",
   "metadata": {},
   "source": [
    "Choose the Top Performers for Testing"
   ]
  },
  {
   "cell_type": "code",
   "execution_count": null,
   "id": "fed63df6",
   "metadata": {},
   "outputs": [],
   "source": [
    "# Still using a cv of 5, as set way earlier\n",
    "num_decimals = 3\n",
    "test_df = pd.DataFrame(columns=my_metrics_cols)\n",
    "\n",
    "print(\"KNN\")\n",
    "_, _, acc_cv, my_dt = fit_ml_algo(KNeighborsClassifier(), X_train, y_train, cv, testing=True)\n",
    "y_pred = my_dt.predict(X_test)\n",
    "acc_cv = round(metrics.accuracy_score(y_test, y_pred) * 100, num_decimals)\n",
    "print(acc_cv)\n",
    "temp_df = pd.DataFrame([['KNN', 'NA', acc_cv, cv]], columns=my_metrics_cols)\n",
    "test_df = pd.concat((test_df, temp_df))"
   ]
  },
  {
   "cell_type": "code",
   "execution_count": null,
   "id": "9c9076a7",
   "metadata": {},
   "outputs": [],
   "source": [
    "print(\"GBT\")\n",
    "_, _, acc_cv, my_dt = fit_ml_algo(GradientBoostingClassifier(), X_train, y_train, cv, testing=True)\n",
    "y_pred = my_dt.predict(X_test)\n",
    "acc_cv = round(metrics.accuracy_score(y_test, y_pred) * 100, num_decimals)\n",
    "print(acc_cv)\n",
    "temp_df = pd.DataFrame([['GBT', 'NA', acc_cv, cv]], columns=my_metrics_cols)\n",
    "test_df = pd.concat((test_df, temp_df))"
   ]
  },
  {
   "cell_type": "code",
   "execution_count": null,
   "id": "79eaf166",
   "metadata": {},
   "outputs": [],
   "source": [
    "test_df.head()"
   ]
  },
  {
   "cell_type": "markdown",
   "id": "19c024f2",
   "metadata": {},
   "source": [
    "## Case 2: Flatten Decoder Matrices as Input"
   ]
  },
  {
   "cell_type": "code",
   "execution_count": null,
   "id": "7d7de2a4",
   "metadata": {},
   "outputs": [],
   "source": []
  },
  {
   "cell_type": "code",
   "execution_count": null,
   "id": "a1d304f1",
   "metadata": {},
   "outputs": [],
   "source": []
  },
  {
   "cell_type": "code",
   "execution_count": null,
   "id": "0570e67c",
   "metadata": {},
   "outputs": [],
   "source": []
  },
  {
   "cell_type": "code",
   "execution_count": null,
   "id": "0a7d0a4b",
   "metadata": {},
   "outputs": [],
   "source": []
  },
  {
   "cell_type": "code",
   "execution_count": null,
   "id": "86dbe6ce",
   "metadata": {},
   "outputs": [],
   "source": []
  },
  {
   "cell_type": "markdown",
   "id": "0608fadd",
   "metadata": {},
   "source": [
    "## Case 3: Feed in a Vector of Norms"
   ]
  },
  {
   "cell_type": "code",
   "execution_count": null,
   "id": "d276c72b",
   "metadata": {},
   "outputs": [],
   "source": []
  },
  {
   "cell_type": "code",
   "execution_count": null,
   "id": "cbc83ef0",
   "metadata": {},
   "outputs": [],
   "source": []
  },
  {
   "cell_type": "code",
   "execution_count": null,
   "id": "86843cfe",
   "metadata": {},
   "outputs": [],
   "source": []
  },
  {
   "cell_type": "markdown",
   "id": "fefeee78",
   "metadata": {},
   "source": [
    "## 2) Linking EEG Data to Patients"
   ]
  },
  {
   "cell_type": "markdown",
   "id": "20f93708",
   "metadata": {},
   "source": [
    "## Cluster Decoder Matrix Norms"
   ]
  },
  {
   "cell_type": "code",
   "execution_count": null,
   "id": "1243befe",
   "metadata": {},
   "outputs": [],
   "source": []
  }
 ],
 "metadata": {
  "kernelspec": {
   "display_name": "Python 3 (ipykernel)",
   "language": "python",
   "name": "python3"
  },
  "language_info": {
   "codemirror_mode": {
    "name": "ipython",
    "version": 3
   },
   "file_extension": ".py",
   "mimetype": "text/x-python",
   "name": "python",
   "nbconvert_exporter": "python",
   "pygments_lexer": "ipython3",
   "version": "3.9.13"
  }
 },
 "nbformat": 4,
 "nbformat_minor": 5
}
