{
 "cells": [
  {
   "cell_type": "markdown",
   "id": "d17f193d",
   "metadata": {},
   "source": [
    "> __Purpose:__ Implement an initial privacy attack to quantify how much re-identiifcation and linkability risk exists from both filtered EMG data and for personalization parameters (the decoder). Thus, implement a basic ML model to link the EMG data back to the corresponding subject, and likewise to link the decoder matrices back to the corresponding subject.  \n",
    "\n",
    "-- 7 Subjects, therefore pure guessing would be 14.28% correct on average"
   ]
  },
  {
   "cell_type": "code",
   "execution_count": 1,
   "id": "a61b3128",
   "metadata": {},
   "outputs": [],
   "source": [
    "import numpy as np\n",
    "import matplotlib.pyplot as plt\n",
    "# import matplotlib.image as mpimg\n",
    "# import seaborn\n",
    "import time\n",
    "import os\n",
    "import pandas as pd\n",
    "import pickle\n",
    "import random\n",
    "\n",
    "random.seed(a=1)"
   ]
  },
  {
   "cell_type": "markdown",
   "id": "a850bb15",
   "metadata": {},
   "source": [
    "# Load In Data"
   ]
  },
  {
   "cell_type": "code",
   "execution_count": 2,
   "id": "f141f3e9",
   "metadata": {},
   "outputs": [],
   "source": [
    "keys = ['METACPHS_S106', 'METACPHS_S107','METACPHS_S108', 'METACPHS_S109', 'METACPHS_S110', 'METACPHS_S111', 'METACPHS_S112']\n",
    "\n",
    "with open('Data\\cphs_data_block1.pickle', 'rb') as handle:\n",
    "    #refs_block1, poss_block1, dec_vels_block1, int_vel_block1, emgs_block1, Ws_block1, Hs_block1, alphas_block1, pDs_block1, times_block1, conditions_block1 = pickle.load(handle)\n",
    "    _, _, _, _, emgs_block1, Ws_block1, _, _, _, times_block1, _ = pickle.load(handle)\n",
    "\n",
    "with open('Data\\cphs_data_block2.pickle', 'rb') as handle:\n",
    "    #refs_block2, poss_block2, dec_vels_block2, int_vel_block2, emgs_block2, Ws_block2, Hs_block2, alphas_block2, pDs_block2, times_block2, conditions_block2 = pickle.load(handle)\n",
    "    _, _, _, _, emgs_block2, Ws_block2, _, _, _, times_block2, _ = pickle.load(handle)"
   ]
  },
  {
   "cell_type": "code",
   "execution_count": 3,
   "id": "7a57ed11",
   "metadata": {},
   "outputs": [
    {
     "name": "stdout",
     "output_type": "stream",
     "text": [
      "(19,)\n",
      "[    0  1200  2402  3604  4806  6008  7210  8412  9614 10816 12018 13220\n",
      " 14422 15624 16826 18028 19230 20432 20769]\n"
     ]
    }
   ],
   "source": [
    "# Decoder updates\n",
    "W = Ws_block1[keys[0]][0]\n",
    "W[1:,:,:].shape # 7199 time points x (decoder dimensions is 2 x 6)\n",
    "dold = W[0]\n",
    "update_ix = []\n",
    "for ix,d in enumerate(W[1:]):\n",
    "  if (np.array_equal(dold,d)==False):\n",
    "    update_ix.append(ix)\n",
    "    dold = d\n",
    "\n",
    "update_ix.append(len(W) - 1) \n",
    "update_ix = np.asarray(update_ix)\n",
    "update_ix = np.hstack([[0],update_ix])\n",
    "\n",
    "print(update_ix.shape)\n",
    "print(update_ix)"
   ]
  },
  {
   "cell_type": "markdown",
   "id": "fe2c31d3",
   "metadata": {},
   "source": [
    "I'm just making the flatten array input DF here"
   ]
  },
  {
   "cell_type": "code",
   "execution_count": 4,
   "id": "68df6d9d",
   "metadata": {},
   "outputs": [
    {
     "data": {
      "text/html": [
       "<div>\n",
       "<style scoped>\n",
       "    .dataframe tbody tr th:only-of-type {\n",
       "        vertical-align: middle;\n",
       "    }\n",
       "\n",
       "    .dataframe tbody tr th {\n",
       "        vertical-align: top;\n",
       "    }\n",
       "\n",
       "    .dataframe thead th {\n",
       "        text-align: right;\n",
       "    }\n",
       "</style>\n",
       "<table border=\"1\" class=\"dataframe\">\n",
       "  <thead>\n",
       "    <tr style=\"text-align: right;\">\n",
       "      <th></th>\n",
       "      <th>Subject</th>\n",
       "      <th>Condition</th>\n",
       "      <th>Update Number</th>\n",
       "      <th>Flattened Decoder</th>\n",
       "    </tr>\n",
       "  </thead>\n",
       "  <tbody>\n",
       "  </tbody>\n",
       "</table>\n",
       "</div>"
      ],
      "text/plain": [
       "Empty DataFrame\n",
       "Columns: [Subject, Condition, Update Number, Flattened Decoder]\n",
       "Index: []"
      ]
     },
     "execution_count": 4,
     "metadata": {},
     "output_type": "execute_result"
    }
   ],
   "source": [
    "dec_flattened_df1 = pd.DataFrame(columns=[\"Subject\", \"Condition\", \"Update Number\", \"Flattened Decoder\"])\n",
    "dec_flattened_df2 = pd.DataFrame(columns=[\"Subject\", \"Condition\", \"Update Number\", \"Flattened Decoder\"])\n",
    "\n",
    "dec_flattened_df1.head()"
   ]
  },
  {
   "cell_type": "code",
   "execution_count": 5,
   "id": "b5ae40cd",
   "metadata": {},
   "outputs": [
    {
     "name": "stdout",
     "output_type": "stream",
     "text": [
      "5.157930135726929\n"
     ]
    }
   ],
   "source": [
    "num_conds = 8\n",
    "\n",
    "t0 = time.time()\n",
    "\n",
    "for key in keys:\n",
    "    patient_dec1 = Ws_block1[key]\n",
    "    patient_dec2 = Ws_block2[key]\n",
    "    \n",
    "    for my_cond in range(num_conds):\n",
    "        for update_number, update_idx in enumerate(update_ix):\n",
    "            dec_flattened_df1.loc[len(dec_flattened_df1)] = [key, my_cond, update_number, np.ravel(patient_dec1[my_cond, update_idx, :, :])]\n",
    "            dec_flattened_df2.loc[len(dec_flattened_df2)] = [key, my_cond, update_number, np.ravel(patient_dec2[my_cond, update_idx, :, :])]\n",
    "        \n",
    "t1 = time.time()\n",
    "total = t1-t0  \n",
    "print(total)"
   ]
  },
  {
   "cell_type": "markdown",
   "id": "170f7f50",
   "metadata": {},
   "source": [
    "Also make a DF of vector of norms (wrt ending point)"
   ]
  },
  {
   "cell_type": "code",
   "execution_count": 6,
   "id": "9483fdaa",
   "metadata": {},
   "outputs": [
    {
     "data": {
      "text/html": [
       "<div>\n",
       "<style scoped>\n",
       "    .dataframe tbody tr th:only-of-type {\n",
       "        vertical-align: middle;\n",
       "    }\n",
       "\n",
       "    .dataframe tbody tr th {\n",
       "        vertical-align: top;\n",
       "    }\n",
       "\n",
       "    .dataframe thead th {\n",
       "        text-align: right;\n",
       "    }\n",
       "</style>\n",
       "<table border=\"1\" class=\"dataframe\">\n",
       "  <thead>\n",
       "    <tr style=\"text-align: right;\">\n",
       "      <th></th>\n",
       "      <th>Subject</th>\n",
       "      <th>Condition</th>\n",
       "      <th>Norm Vector</th>\n",
       "    </tr>\n",
       "  </thead>\n",
       "  <tbody>\n",
       "  </tbody>\n",
       "</table>\n",
       "</div>"
      ],
      "text/plain": [
       "Empty DataFrame\n",
       "Columns: [Subject, Condition, Norm Vector]\n",
       "Index: []"
      ]
     },
     "execution_count": 6,
     "metadata": {},
     "output_type": "execute_result"
    }
   ],
   "source": [
    "#dec_vec_norm_df1 = pd.DataFrame(columns=[\"Subject\", \"Condition\", \"Norm Vector\"])\n",
    "#dec_vec_norm_df2 = pd.DataFrame(columns=[\"Subject\", \"Condition\", \"Norm Vector\"])\n",
    "\n",
    "#dec_vec_norm_df1.head()"
   ]
  },
  {
   "cell_type": "code",
   "execution_count": 65,
   "id": "2b364552",
   "metadata": {},
   "outputs": [
    {
     "data": {
      "text/plain": [
       "0"
      ]
     },
     "execution_count": 65,
     "metadata": {},
     "output_type": "execute_result"
    }
   ],
   "source": [
    "# Not working like it's supposed to \n",
    "'''\n",
    "#\n",
    "dec_per_cond_b1 = [0]*num_conds\n",
    "dec_per_cond_b2 = [0]*num_conds\n",
    "#\n",
    "norm_per_cond_b1 = [0]*num_conds\n",
    "norm_per_cond_b2 = [0]*num_conds\n",
    "for cond in range(num_conds):  \n",
    "    dec_per_cond_b1[cond] = [0]*len(update_ix)\n",
    "    dec_per_cond_b2[cond] = [0]*len(update_ix)\n",
    "    #\n",
    "    norm_per_cond_b1[cond] = [0]*len(update_ix)\n",
    "    norm_per_cond_b2[cond] = [0]*len(update_ix)\n",
    "\n",
    "for key in keys:\n",
    "    patient_dec1 = Ws_block1[key]\n",
    "    patient_dec2 = Ws_block2[key]\n",
    "    \n",
    "    for my_cond in range(num_conds):\n",
    "        for idx, my_update in enumerate(update_ix):\n",
    "            dec_per_cond_b1[my_cond][idx] = patient_dec1[my_cond, my_update, :, :]\n",
    "            dec_per_cond_b2[my_cond][idx] = patient_dec2[my_cond, my_update, :, :]\n",
    "    \n",
    "#################################\n",
    "for my_cond in range(num_conds):\n",
    "    for dec_num in range(len(update_ix)):\n",
    "        norm_per_cond_b1[my_cond][dec_num] = np.linalg.norm(dec_per_cond_b1[my_cond][dec_num] - dec_per_cond_b1[my_cond][-1])\n",
    "        norm_per_cond_b2[my_cond][dec_num] = np.linalg.norm(dec_per_cond_b2[my_cond][dec_num] - dec_per_cond_b2[my_cond][-1])\n",
    "        \n",
    "#################################\n",
    "for key in keys:\n",
    "    patient_dec1 = Ws_block1[key]\n",
    "    patient_dec2 = Ws_block2[key]\n",
    "    \n",
    "    for my_cond in range(num_conds):\n",
    "        for idx, my_update in enumerate(update_ix):\n",
    "            dec_vec_norm_df1.loc[len(dec_vec_norm_df1)] = [key, my_cond, norm_per_cond_b1[my_cond]]\n",
    "            dec_vec_norm_df2.loc[len(dec_vec_norm_df2)] = [key, my_cond, norm_per_cond_b2[my_cond]]\n",
    "'''\n",
    "0"
   ]
  },
  {
   "cell_type": "markdown",
   "id": "04a97330",
   "metadata": {},
   "source": [
    "Load in the other data\n",
    "> This cell takes forever to run... not sure if it was actually any quicker to import vs just make it all over again"
   ]
  },
  {
   "cell_type": "code",
   "execution_count": 11,
   "id": "30b50886",
   "metadata": {},
   "outputs": [
    {
     "name": "stdout",
     "output_type": "stream",
     "text": [
      "148.9583396911621\n"
     ]
    }
   ],
   "source": [
    "t0 = time.time()\n",
    "\n",
    "emg_data_df1 = pd.read_csv(\"Data\\emg_data1.csv\")\n",
    "emg_labels_df1 = pd.read_csv(\"Data\\emg_labels1.csv\")\n",
    "dec_norms_df1 = pd.read_csv(\"Data\\decoder_norms1.csv\")\n",
    "\n",
    "emg_data_df2 = pd.read_csv(\"Data\\emg_data2.csv\")\n",
    "emg_labels_df2 = pd.read_csv(\"Data\\emg_labels2.csv\")\n",
    "dec_norms_df2 = pd.read_csv(\"Data\\decoder_norms2.csv\")\n",
    "\n",
    "t1 = time.time()\n",
    "total = t1-t0  \n",
    "print(total)"
   ]
  },
  {
   "cell_type": "code",
   "execution_count": 12,
   "id": "d045a760",
   "metadata": {},
   "outputs": [],
   "source": [
    "emg_data_df = pd.concat((emg_data_df1, emg_data_df2))\n",
    "emg_labels_df = pd.concat((emg_labels_df1, emg_labels_df2))\n",
    "dec_norms_df = pd.concat((dec_norms_df1, dec_norms_df2))\n",
    "\n",
    "dec_flattened_df = pd.concat((dec_flattened_df1, dec_flattened_df2))\n",
    "# This one isn't working yet\n",
    "#dec_vec_norm_df = pd.concat((dec_vec_norm_df1, dec_vec_norm_df2))"
   ]
  },
  {
   "cell_type": "code",
   "execution_count": 13,
   "id": "4c87b437",
   "metadata": {},
   "outputs": [
    {
     "name": "stdout",
     "output_type": "stream",
     "text": [
      "(7232, 20771)\n"
     ]
    },
    {
     "data": {
      "text/html": [
       "<div>\n",
       "<style scoped>\n",
       "    .dataframe tbody tr th:only-of-type {\n",
       "        vertical-align: middle;\n",
       "    }\n",
       "\n",
       "    .dataframe tbody tr th {\n",
       "        vertical-align: top;\n",
       "    }\n",
       "\n",
       "    .dataframe thead th {\n",
       "        text-align: right;\n",
       "    }\n",
       "</style>\n",
       "<table border=\"1\" class=\"dataframe\">\n",
       "  <thead>\n",
       "    <tr style=\"text-align: right;\">\n",
       "      <th></th>\n",
       "      <th>0</th>\n",
       "      <th>1</th>\n",
       "      <th>2</th>\n",
       "      <th>3</th>\n",
       "      <th>4</th>\n",
       "      <th>5</th>\n",
       "      <th>6</th>\n",
       "      <th>7</th>\n",
       "      <th>8</th>\n",
       "      <th>9</th>\n",
       "      <th>...</th>\n",
       "      <th>20760</th>\n",
       "      <th>20761</th>\n",
       "      <th>20762</th>\n",
       "      <th>20763</th>\n",
       "      <th>20764</th>\n",
       "      <th>20765</th>\n",
       "      <th>20766</th>\n",
       "      <th>20767</th>\n",
       "      <th>20768</th>\n",
       "      <th>20769</th>\n",
       "    </tr>\n",
       "  </thead>\n",
       "  <tbody>\n",
       "    <tr>\n",
       "      <th>0</th>\n",
       "      <td>0.0</td>\n",
       "      <td>0.0</td>\n",
       "      <td>0.0</td>\n",
       "      <td>10.778148</td>\n",
       "      <td>10.778148</td>\n",
       "      <td>10.778148</td>\n",
       "      <td>26.874088</td>\n",
       "      <td>43.189501</td>\n",
       "      <td>43.189501</td>\n",
       "      <td>38.594581</td>\n",
       "      <td>...</td>\n",
       "      <td>54.343173</td>\n",
       "      <td>54.343173</td>\n",
       "      <td>53.363208</td>\n",
       "      <td>53.363208</td>\n",
       "      <td>53.363208</td>\n",
       "      <td>53.363208</td>\n",
       "      <td>59.557374</td>\n",
       "      <td>59.557374</td>\n",
       "      <td>59.557374</td>\n",
       "      <td>55.634152</td>\n",
       "    </tr>\n",
       "    <tr>\n",
       "      <th>1</th>\n",
       "      <td>0.0</td>\n",
       "      <td>0.0</td>\n",
       "      <td>0.0</td>\n",
       "      <td>9.891218</td>\n",
       "      <td>9.891218</td>\n",
       "      <td>9.891218</td>\n",
       "      <td>23.589349</td>\n",
       "      <td>36.477933</td>\n",
       "      <td>36.477933</td>\n",
       "      <td>31.296507</td>\n",
       "      <td>...</td>\n",
       "      <td>79.894291</td>\n",
       "      <td>79.894291</td>\n",
       "      <td>86.860329</td>\n",
       "      <td>86.860329</td>\n",
       "      <td>86.860329</td>\n",
       "      <td>86.860329</td>\n",
       "      <td>71.319955</td>\n",
       "      <td>71.319955</td>\n",
       "      <td>71.319955</td>\n",
       "      <td>56.606641</td>\n",
       "    </tr>\n",
       "    <tr>\n",
       "      <th>2</th>\n",
       "      <td>0.0</td>\n",
       "      <td>0.0</td>\n",
       "      <td>0.0</td>\n",
       "      <td>1.606057</td>\n",
       "      <td>1.606057</td>\n",
       "      <td>1.606057</td>\n",
       "      <td>8.623857</td>\n",
       "      <td>15.845217</td>\n",
       "      <td>15.845217</td>\n",
       "      <td>17.957593</td>\n",
       "      <td>...</td>\n",
       "      <td>89.500295</td>\n",
       "      <td>89.500295</td>\n",
       "      <td>84.266738</td>\n",
       "      <td>84.266738</td>\n",
       "      <td>84.266738</td>\n",
       "      <td>84.266738</td>\n",
       "      <td>71.979639</td>\n",
       "      <td>71.979639</td>\n",
       "      <td>71.979639</td>\n",
       "      <td>65.918534</td>\n",
       "    </tr>\n",
       "    <tr>\n",
       "      <th>3</th>\n",
       "      <td>0.0</td>\n",
       "      <td>0.0</td>\n",
       "      <td>0.0</td>\n",
       "      <td>3.668527</td>\n",
       "      <td>3.668527</td>\n",
       "      <td>3.668527</td>\n",
       "      <td>7.165376</td>\n",
       "      <td>11.628290</td>\n",
       "      <td>11.628290</td>\n",
       "      <td>15.308951</td>\n",
       "      <td>...</td>\n",
       "      <td>68.943668</td>\n",
       "      <td>68.943668</td>\n",
       "      <td>66.983974</td>\n",
       "      <td>66.983974</td>\n",
       "      <td>66.983974</td>\n",
       "      <td>66.983974</td>\n",
       "      <td>64.104558</td>\n",
       "      <td>64.104558</td>\n",
       "      <td>64.104558</td>\n",
       "      <td>61.848159</td>\n",
       "    </tr>\n",
       "    <tr>\n",
       "      <th>4</th>\n",
       "      <td>0.0</td>\n",
       "      <td>0.0</td>\n",
       "      <td>0.0</td>\n",
       "      <td>1.411810</td>\n",
       "      <td>1.411810</td>\n",
       "      <td>1.411810</td>\n",
       "      <td>9.707134</td>\n",
       "      <td>15.677262</td>\n",
       "      <td>15.677262</td>\n",
       "      <td>18.922410</td>\n",
       "      <td>...</td>\n",
       "      <td>43.565918</td>\n",
       "      <td>43.565918</td>\n",
       "      <td>42.343590</td>\n",
       "      <td>42.343590</td>\n",
       "      <td>42.343590</td>\n",
       "      <td>42.343590</td>\n",
       "      <td>42.235306</td>\n",
       "      <td>42.235306</td>\n",
       "      <td>42.235306</td>\n",
       "      <td>41.818073</td>\n",
       "    </tr>\n",
       "  </tbody>\n",
       "</table>\n",
       "<p>5 rows × 20770 columns</p>\n",
       "</div>"
      ],
      "text/plain": [
       "     0    1    2          3          4          5          6          7  \\\n",
       "0  0.0  0.0  0.0  10.778148  10.778148  10.778148  26.874088  43.189501   \n",
       "1  0.0  0.0  0.0   9.891218   9.891218   9.891218  23.589349  36.477933   \n",
       "2  0.0  0.0  0.0   1.606057   1.606057   1.606057   8.623857  15.845217   \n",
       "3  0.0  0.0  0.0   3.668527   3.668527   3.668527   7.165376  11.628290   \n",
       "4  0.0  0.0  0.0   1.411810   1.411810   1.411810   9.707134  15.677262   \n",
       "\n",
       "           8          9  ...      20760      20761      20762      20763  \\\n",
       "0  43.189501  38.594581  ...  54.343173  54.343173  53.363208  53.363208   \n",
       "1  36.477933  31.296507  ...  79.894291  79.894291  86.860329  86.860329   \n",
       "2  15.845217  17.957593  ...  89.500295  89.500295  84.266738  84.266738   \n",
       "3  11.628290  15.308951  ...  68.943668  68.943668  66.983974  66.983974   \n",
       "4  15.677262  18.922410  ...  43.565918  43.565918  42.343590  42.343590   \n",
       "\n",
       "       20764      20765      20766      20767      20768      20769  \n",
       "0  53.363208  53.363208  59.557374  59.557374  59.557374  55.634152  \n",
       "1  86.860329  86.860329  71.319955  71.319955  71.319955  56.606641  \n",
       "2  84.266738  84.266738  71.979639  71.979639  71.979639  65.918534  \n",
       "3  66.983974  66.983974  64.104558  64.104558  64.104558  61.848159  \n",
       "4  42.343590  42.343590  42.235306  42.235306  42.235306  41.818073  \n",
       "\n",
       "[5 rows x 20770 columns]"
      ]
     },
     "execution_count": 13,
     "metadata": {},
     "output_type": "execute_result"
    }
   ],
   "source": [
    "print(emg_data_df.shape)\n",
    "emg_data_df.drop('Unnamed: 0', axis=1, inplace=True)\n",
    "emg_data_df.head()"
   ]
  },
  {
   "cell_type": "code",
   "execution_count": 14,
   "id": "3ad1bcc6",
   "metadata": {
    "scrolled": true
   },
   "outputs": [
    {
     "name": "stdout",
     "output_type": "stream",
     "text": [
      "(7232, 4)\n"
     ]
    },
    {
     "data": {
      "text/html": [
       "<div>\n",
       "<style scoped>\n",
       "    .dataframe tbody tr th:only-of-type {\n",
       "        vertical-align: middle;\n",
       "    }\n",
       "\n",
       "    .dataframe tbody tr th {\n",
       "        vertical-align: top;\n",
       "    }\n",
       "\n",
       "    .dataframe thead th {\n",
       "        text-align: right;\n",
       "    }\n",
       "</style>\n",
       "<table border=\"1\" class=\"dataframe\">\n",
       "  <thead>\n",
       "    <tr style=\"text-align: right;\">\n",
       "      <th></th>\n",
       "      <th>Subject</th>\n",
       "      <th>Condition</th>\n",
       "      <th>Channel</th>\n",
       "    </tr>\n",
       "  </thead>\n",
       "  <tbody>\n",
       "    <tr>\n",
       "      <th>0</th>\n",
       "      <td>METACPHS_S106</td>\n",
       "      <td>0</td>\n",
       "      <td>0</td>\n",
       "    </tr>\n",
       "    <tr>\n",
       "      <th>1</th>\n",
       "      <td>METACPHS_S106</td>\n",
       "      <td>0</td>\n",
       "      <td>1</td>\n",
       "    </tr>\n",
       "    <tr>\n",
       "      <th>2</th>\n",
       "      <td>METACPHS_S106</td>\n",
       "      <td>0</td>\n",
       "      <td>2</td>\n",
       "    </tr>\n",
       "    <tr>\n",
       "      <th>3</th>\n",
       "      <td>METACPHS_S106</td>\n",
       "      <td>0</td>\n",
       "      <td>3</td>\n",
       "    </tr>\n",
       "    <tr>\n",
       "      <th>4</th>\n",
       "      <td>METACPHS_S106</td>\n",
       "      <td>0</td>\n",
       "      <td>4</td>\n",
       "    </tr>\n",
       "  </tbody>\n",
       "</table>\n",
       "</div>"
      ],
      "text/plain": [
       "         Subject  Condition  Channel\n",
       "0  METACPHS_S106          0        0\n",
       "1  METACPHS_S106          0        1\n",
       "2  METACPHS_S106          0        2\n",
       "3  METACPHS_S106          0        3\n",
       "4  METACPHS_S106          0        4"
      ]
     },
     "execution_count": 14,
     "metadata": {},
     "output_type": "execute_result"
    }
   ],
   "source": [
    "print(emg_labels_df.shape)\n",
    "emg_labels_df.drop('Unnamed: 0', axis=1, inplace=True)\n",
    "emg_labels_df.head()"
   ]
  },
  {
   "cell_type": "code",
   "execution_count": 15,
   "id": "53ade3fa",
   "metadata": {},
   "outputs": [
    {
     "name": "stdout",
     "output_type": "stream",
     "text": [
      "(2128, 5)\n"
     ]
    },
    {
     "data": {
      "text/html": [
       "<div>\n",
       "<style scoped>\n",
       "    .dataframe tbody tr th:only-of-type {\n",
       "        vertical-align: middle;\n",
       "    }\n",
       "\n",
       "    .dataframe tbody tr th {\n",
       "        vertical-align: top;\n",
       "    }\n",
       "\n",
       "    .dataframe thead th {\n",
       "        text-align: right;\n",
       "    }\n",
       "</style>\n",
       "<table border=\"1\" class=\"dataframe\">\n",
       "  <thead>\n",
       "    <tr style=\"text-align: right;\">\n",
       "      <th></th>\n",
       "      <th>Subject</th>\n",
       "      <th>Condition</th>\n",
       "      <th>Update Number</th>\n",
       "      <th>Frobenius Norm</th>\n",
       "    </tr>\n",
       "  </thead>\n",
       "  <tbody>\n",
       "    <tr>\n",
       "      <th>0</th>\n",
       "      <td>METACPHS_S106</td>\n",
       "      <td>0</td>\n",
       "      <td>0</td>\n",
       "      <td>0.066360</td>\n",
       "    </tr>\n",
       "    <tr>\n",
       "      <th>1</th>\n",
       "      <td>METACPHS_S106</td>\n",
       "      <td>0</td>\n",
       "      <td>1</td>\n",
       "      <td>0.066360</td>\n",
       "    </tr>\n",
       "    <tr>\n",
       "      <th>2</th>\n",
       "      <td>METACPHS_S106</td>\n",
       "      <td>0</td>\n",
       "      <td>2</td>\n",
       "      <td>9.709390</td>\n",
       "    </tr>\n",
       "    <tr>\n",
       "      <th>3</th>\n",
       "      <td>METACPHS_S106</td>\n",
       "      <td>0</td>\n",
       "      <td>3</td>\n",
       "      <td>8.209080</td>\n",
       "    </tr>\n",
       "    <tr>\n",
       "      <th>4</th>\n",
       "      <td>METACPHS_S106</td>\n",
       "      <td>0</td>\n",
       "      <td>4</td>\n",
       "      <td>10.406943</td>\n",
       "    </tr>\n",
       "  </tbody>\n",
       "</table>\n",
       "</div>"
      ],
      "text/plain": [
       "         Subject  Condition  Update Number  Frobenius Norm\n",
       "0  METACPHS_S106          0              0        0.066360\n",
       "1  METACPHS_S106          0              1        0.066360\n",
       "2  METACPHS_S106          0              2        9.709390\n",
       "3  METACPHS_S106          0              3        8.209080\n",
       "4  METACPHS_S106          0              4       10.406943"
      ]
     },
     "execution_count": 15,
     "metadata": {},
     "output_type": "execute_result"
    }
   ],
   "source": [
    "print(dec_norms_df.shape)\n",
    "dec_norms_df.drop('Unnamed: 0', axis=1, inplace=True)\n",
    "dec_norms_df.head()"
   ]
  },
  {
   "cell_type": "code",
   "execution_count": 16,
   "id": "f60ea530",
   "metadata": {},
   "outputs": [
    {
     "name": "stdout",
     "output_type": "stream",
     "text": [
      "(2128, 4)\n"
     ]
    },
    {
     "data": {
      "text/html": [
       "<div>\n",
       "<style scoped>\n",
       "    .dataframe tbody tr th:only-of-type {\n",
       "        vertical-align: middle;\n",
       "    }\n",
       "\n",
       "    .dataframe tbody tr th {\n",
       "        vertical-align: top;\n",
       "    }\n",
       "\n",
       "    .dataframe thead th {\n",
       "        text-align: right;\n",
       "    }\n",
       "</style>\n",
       "<table border=\"1\" class=\"dataframe\">\n",
       "  <thead>\n",
       "    <tr style=\"text-align: right;\">\n",
       "      <th></th>\n",
       "      <th>Subject</th>\n",
       "      <th>Condition</th>\n",
       "      <th>Update Number</th>\n",
       "      <th>Flattened Decoder</th>\n",
       "    </tr>\n",
       "  </thead>\n",
       "  <tbody>\n",
       "    <tr>\n",
       "      <th>0</th>\n",
       "      <td>METACPHS_S106</td>\n",
       "      <td>0</td>\n",
       "      <td>0</td>\n",
       "      <td>[0.002722144351611262, 0.002605931562722017, 0...</td>\n",
       "    </tr>\n",
       "    <tr>\n",
       "      <th>1</th>\n",
       "      <td>METACPHS_S106</td>\n",
       "      <td>0</td>\n",
       "      <td>1</td>\n",
       "      <td>[0.002722144351611262, 0.002605931562722017, 0...</td>\n",
       "    </tr>\n",
       "    <tr>\n",
       "      <th>2</th>\n",
       "      <td>METACPHS_S106</td>\n",
       "      <td>0</td>\n",
       "      <td>2</td>\n",
       "      <td>[-0.34157085409453486, 0.08410593293763585, -0...</td>\n",
       "    </tr>\n",
       "    <tr>\n",
       "      <th>3</th>\n",
       "      <td>METACPHS_S106</td>\n",
       "      <td>0</td>\n",
       "      <td>3</td>\n",
       "      <td>[-0.1738624752800762, 0.003705171262358347, 0....</td>\n",
       "    </tr>\n",
       "    <tr>\n",
       "      <th>4</th>\n",
       "      <td>METACPHS_S106</td>\n",
       "      <td>0</td>\n",
       "      <td>4</td>\n",
       "      <td>[0.8321061501817386, -1.3261242289666402, 0.28...</td>\n",
       "    </tr>\n",
       "  </tbody>\n",
       "</table>\n",
       "</div>"
      ],
      "text/plain": [
       "         Subject  Condition  Update Number  \\\n",
       "0  METACPHS_S106          0              0   \n",
       "1  METACPHS_S106          0              1   \n",
       "2  METACPHS_S106          0              2   \n",
       "3  METACPHS_S106          0              3   \n",
       "4  METACPHS_S106          0              4   \n",
       "\n",
       "                                   Flattened Decoder  \n",
       "0  [0.002722144351611262, 0.002605931562722017, 0...  \n",
       "1  [0.002722144351611262, 0.002605931562722017, 0...  \n",
       "2  [-0.34157085409453486, 0.08410593293763585, -0...  \n",
       "3  [-0.1738624752800762, 0.003705171262358347, 0....  \n",
       "4  [0.8321061501817386, -1.3261242289666402, 0.28...  "
      ]
     },
     "execution_count": 16,
     "metadata": {},
     "output_type": "execute_result"
    }
   ],
   "source": [
    "print(dec_flattened_df.shape)\n",
    "dec_flattened_df.head()"
   ]
  },
  {
   "cell_type": "markdown",
   "id": "0cd587cb",
   "metadata": {},
   "source": [
    "# ML Pipeline"
   ]
  },
  {
   "cell_type": "code",
   "execution_count": 17,
   "id": "e4dca181",
   "metadata": {},
   "outputs": [],
   "source": [
    "# Machine learning\n",
    "from sklearn.model_selection import train_test_split\n",
    "from sklearn import model_selection, tree, preprocessing, metrics, linear_model\n",
    "from sklearn.svm import LinearSVC\n",
    "from sklearn.ensemble import GradientBoostingClassifier\n",
    "from sklearn.neighbors import KNeighborsClassifier\n",
    "from sklearn.naive_bayes import GaussianNB\n",
    "from sklearn.linear_model import LogisticRegression, SGDClassifier\n",
    "from sklearn.tree import DecisionTreeClassifier"
   ]
  },
  {
   "cell_type": "code",
   "execution_count": 18,
   "id": "ac91df91",
   "metadata": {},
   "outputs": [],
   "source": [
    "# Standard model fitting\n",
    "\n",
    "def fit_ml_algo(algo, X_train, y_train, cv, verbose=False, num_decimals=3, testing=False):\n",
    "    '''Runs given algorithm and returns the accuracy metrics'''\n",
    "    \n",
    "    model = algo.fit(X_train, y_train)\n",
    "    \n",
    "    # Notice that this is tested on the data it just trained on...\n",
    "    acc = round(model.score(X_train, y_train) * 100, 3)\n",
    "    \n",
    "    # Cross Validation - this fixes that issue of validating on the data that the model was trained on\n",
    "    train_pred = model_selection.cross_val_predict(algo, \n",
    "                                                  X_train, \n",
    "                                                  y_train, \n",
    "                                                  cv=cv, \n",
    "                                                  n_jobs=-1)\n",
    "    # Cross-validation metric\n",
    "    acc_cv = round(metrics.accuracy_score(y_train, train_pred) * 100, num_decimals)\n",
    "    #pre_cv = round(metrics.precision_score(y_train, train_pred) * 100, num_decimals)\n",
    "    #rec_cv = round(metrics.recall_score(y_train, train_pred) * 100, num_decimals)\n",
    "    \n",
    "    if verbose:\n",
    "        print(\"Training predictions:\")\n",
    "        print(train_pred)\n",
    "        print(\"Ground Truth:\")\n",
    "        print(y_train)\n",
    "        print(f\"One Off Accuracy: {acc}\")\n",
    "        print(f\"CV Accuracy: {acc_cv}\")\n",
    "    \n",
    "    if testing:\n",
    "        return train_pred, acc, acc_cv, model\n",
    "    \n",
    "    return train_pred, acc, acc_cv"
   ]
  },
  {
   "cell_type": "code",
   "execution_count": 19,
   "id": "3f74ecd2",
   "metadata": {},
   "outputs": [],
   "source": [
    "def train_test_val_split(input_df, label_df, rng_seed=2, validation=False, test_percent=0.3, val_percent=0.3):\n",
    "    '''\n",
    "    I don't think I need a validation set if I'm just doing cross_validation since that should take care of it for me\n",
    "    '''\n",
    "    \n",
    "    x_train = input_df.copy(deep=True)\n",
    "    y_train_reg = label_df\n",
    "\n",
    "    ## TRAIN / TEST\n",
    "    # Stratify might be good to ensure that all classes are represented, I'm not sure if it'll do that by default\n",
    "    X_train, X_test, y_train, y_test = train_test_split(\n",
    "        x_train, y_train_reg, test_size=test_percent, random_state=rng_seed)\n",
    "\n",
    "    if validation:\n",
    "        ## TRAIN / VAL\n",
    "        # Might not use... easier to just use cross validation I think\n",
    "        X_train_pv, X_val, y_train_pv, y_val = train_test_split(\n",
    "            X_train, y_train, test_size=val_percent, random_state=rng_seed)\n",
    "\n",
    "        return X_train_pv, y_train_pv, X_test, y_test, X_val, y_val\n",
    "    else:\n",
    "        return X_train, y_train, X_test, y_test"
   ]
  },
  {
   "cell_type": "code",
   "execution_count": 20,
   "id": "d717deca",
   "metadata": {},
   "outputs": [],
   "source": [
    "# Fully functionalized\n",
    "\n",
    "def train_model(my_model, X_train, y_train, cv, res_df, verbose=False):\n",
    "    #start_time = time.time()\n",
    "    train_pred_log, acc, acc_cv = fit_ml_algo(my_model, X_train, y_train, cv)\n",
    "    #log_time = (time.time() - start_time)\n",
    "    if verbose:\n",
    "        print(f\"{str(my_model)}\")\n",
    "        print(f\"Accuracy: {acc}\")\n",
    "        print(f\"Accuracy CV 10-Fold: {acc_cv}\")\n",
    "        print()\n",
    "        #print(f\"Run Time: {log_time:.3f}\")\n",
    "\n",
    "    my_metrics_cols = ['Algorithm', 'One Off Acc', 'CV Acc', 'K Folds']\n",
    "    temp_df = pd.DataFrame([[str(my_model), acc, acc_cv, cv]], columns=my_metrics_cols)\n",
    "    res_df = pd.concat((res_df, temp_df))\n",
    "    \n",
    "    return res_df"
   ]
  },
  {
   "cell_type": "code",
   "execution_count": 21,
   "id": "fa3df21b",
   "metadata": {},
   "outputs": [],
   "source": [
    "def test_model(model, X_train, y_train, X_test, y_test, test_df, cv, num_decimals=3, verbose=False, my_cols=['Algorithm', 'CV Acc', 'Test Acc', 'K Folds']):\n",
    "    _, _, acc_cv, trained_model = fit_ml_algo(model, X_train, y_train, cv, testing=True)\n",
    "    y_pred = trained_model.predict(X_test)\n",
    "    test_acc = round(metrics.accuracy_score(y_test, y_pred) * 100, num_decimals)\n",
    "    \n",
    "    if verbose:\n",
    "        print(str(model))\n",
    "        print(f\"CV Accuracy: {acc_cv}\")\n",
    "        print(f\"Test Accuracy: {test_acc}\")\n",
    "        print()\n",
    "        \n",
    "    temp_df = pd.DataFrame([str(model), acc_cv, test_acc, cv], index=my_cols).T\n",
    "    test_df = pd.concat((test_df, temp_df))\n",
    "    return test_df"
   ]
  },
  {
   "cell_type": "markdown",
   "id": "3814ddf7",
   "metadata": {},
   "source": [
    "## Classification\n",
    "1. Logistic Regression\n",
    "2. K-Nearest Neighbor\n",
    "3. Gaussian Naive Bayes\n",
    "4. Linear SVC\n",
    "5. Stochastic Gradient Descent\n",
    "6. Decision Tree Classifier\n",
    "7. Gradient Boosting Trees"
   ]
  },
  {
   "cell_type": "code",
   "execution_count": 22,
   "id": "eef01e6c",
   "metadata": {},
   "outputs": [],
   "source": [
    "# Set the number of k-folds\n",
    "cv = 10"
   ]
  },
  {
   "cell_type": "markdown",
   "id": "da43530f",
   "metadata": {},
   "source": [
    "## 1) Linking Matrix Norms to Patients"
   ]
  },
  {
   "cell_type": "code",
   "execution_count": 24,
   "id": "64e331aa",
   "metadata": {},
   "outputs": [],
   "source": [
    "norm_label_df = dec_norms_df.drop([\"Condition\", \"Update Number\", \"Frobenius Norm\"], axis=1)"
   ]
  },
  {
   "cell_type": "code",
   "execution_count": 25,
   "id": "8a4b7877",
   "metadata": {},
   "outputs": [],
   "source": [
    "key_to_num = dict()\n",
    "num_to_key = dict()\n",
    "for idx, key in enumerate(keys):\n",
    "    key_to_num[key] = idx\n",
    "    num_to_key[idx] = key"
   ]
  },
  {
   "cell_type": "code",
   "execution_count": 26,
   "id": "ab3af1aa",
   "metadata": {},
   "outputs": [
    {
     "data": {
      "text/html": [
       "<div>\n",
       "<style scoped>\n",
       "    .dataframe tbody tr th:only-of-type {\n",
       "        vertical-align: middle;\n",
       "    }\n",
       "\n",
       "    .dataframe tbody tr th {\n",
       "        vertical-align: top;\n",
       "    }\n",
       "\n",
       "    .dataframe thead th {\n",
       "        text-align: right;\n",
       "    }\n",
       "</style>\n",
       "<table border=\"1\" class=\"dataframe\">\n",
       "  <thead>\n",
       "    <tr style=\"text-align: right;\">\n",
       "      <th></th>\n",
       "      <th>Subject</th>\n",
       "    </tr>\n",
       "  </thead>\n",
       "  <tbody>\n",
       "    <tr>\n",
       "      <th>0</th>\n",
       "      <td>0</td>\n",
       "    </tr>\n",
       "    <tr>\n",
       "      <th>1</th>\n",
       "      <td>0</td>\n",
       "    </tr>\n",
       "    <tr>\n",
       "      <th>2</th>\n",
       "      <td>0</td>\n",
       "    </tr>\n",
       "    <tr>\n",
       "      <th>3</th>\n",
       "      <td>0</td>\n",
       "    </tr>\n",
       "    <tr>\n",
       "      <th>4</th>\n",
       "      <td>0</td>\n",
       "    </tr>\n",
       "  </tbody>\n",
       "</table>\n",
       "</div>"
      ],
      "text/plain": [
       "   Subject\n",
       "0        0\n",
       "1        0\n",
       "2        0\n",
       "3        0\n",
       "4        0"
      ]
     },
     "execution_count": 26,
     "metadata": {},
     "output_type": "execute_result"
    }
   ],
   "source": [
    "norm_label_df[\"Subject\"] = norm_label_df[\"Subject\"].map(key_to_num)\n",
    "norm_label_df.head()"
   ]
  },
  {
   "cell_type": "code",
   "execution_count": 27,
   "id": "3dc4481b",
   "metadata": {},
   "outputs": [],
   "source": [
    "# Result logs\n",
    "my_metrics_cols = ['Algorithm', 'One Off Acc', 'CV Acc', 'K Folds']\n",
    "res_df = pd.DataFrame(columns=my_metrics_cols)\n",
    "\n",
    "norm1d_res_df = pd.DataFrame(columns=my_metrics_cols)\n",
    "SSnorm1d_res_df = pd.DataFrame(columns=my_metrics_cols)\n",
    "flatten_dec_res_df = pd.DataFrame(columns=my_metrics_cols)\n",
    "SSflatten_dec_res_df = pd.DataFrame(columns=my_metrics_cols)\n",
    "norm_vec_res_df = pd.DataFrame(columns=my_metrics_cols)\n",
    "SSnorm_vec_res_df = pd.DataFrame(columns=my_metrics_cols)"
   ]
  },
  {
   "cell_type": "code",
   "execution_count": 28,
   "id": "836f3f48",
   "metadata": {},
   "outputs": [],
   "source": [
    "my_models = [LogisticRegression(), KNeighborsClassifier(), GaussianNB(), LinearSVC(), SGDClassifier(), DecisionTreeClassifier(), GradientBoostingClassifier()]"
   ]
  },
  {
   "cell_type": "markdown",
   "id": "fe29fc54",
   "metadata": {},
   "source": [
    "## Case 1: 1D Norm"
   ]
  },
  {
   "cell_type": "code",
   "execution_count": 29,
   "id": "34c163f2",
   "metadata": {},
   "outputs": [
    {
     "data": {
      "text/html": [
       "<div>\n",
       "<style scoped>\n",
       "    .dataframe tbody tr th:only-of-type {\n",
       "        vertical-align: middle;\n",
       "    }\n",
       "\n",
       "    .dataframe tbody tr th {\n",
       "        vertical-align: top;\n",
       "    }\n",
       "\n",
       "    .dataframe thead th {\n",
       "        text-align: right;\n",
       "    }\n",
       "</style>\n",
       "<table border=\"1\" class=\"dataframe\">\n",
       "  <thead>\n",
       "    <tr style=\"text-align: right;\">\n",
       "      <th></th>\n",
       "      <th>Frobenius Norm</th>\n",
       "    </tr>\n",
       "  </thead>\n",
       "  <tbody>\n",
       "    <tr>\n",
       "      <th>0</th>\n",
       "      <td>0.066360</td>\n",
       "    </tr>\n",
       "    <tr>\n",
       "      <th>1</th>\n",
       "      <td>0.066360</td>\n",
       "    </tr>\n",
       "    <tr>\n",
       "      <th>2</th>\n",
       "      <td>9.709390</td>\n",
       "    </tr>\n",
       "    <tr>\n",
       "      <th>3</th>\n",
       "      <td>8.209080</td>\n",
       "    </tr>\n",
       "    <tr>\n",
       "      <th>4</th>\n",
       "      <td>10.406943</td>\n",
       "    </tr>\n",
       "  </tbody>\n",
       "</table>\n",
       "</div>"
      ],
      "text/plain": [
       "   Frobenius Norm\n",
       "0        0.066360\n",
       "1        0.066360\n",
       "2        9.709390\n",
       "3        8.209080\n",
       "4       10.406943"
      ]
     },
     "execution_count": 29,
     "metadata": {},
     "output_type": "execute_result"
    }
   ],
   "source": [
    "norm_input_df = dec_norms_df.drop([\"Subject\",  \"Condition\", \"Update Number\"], axis=1)\n",
    "norm_input_df.head()"
   ]
  },
  {
   "cell_type": "code",
   "execution_count": 30,
   "id": "0f5306b8",
   "metadata": {},
   "outputs": [
    {
     "name": "stdout",
     "output_type": "stream",
     "text": [
      "(1489, 1)\n"
     ]
    },
    {
     "data": {
      "text/html": [
       "<div>\n",
       "<style scoped>\n",
       "    .dataframe tbody tr th:only-of-type {\n",
       "        vertical-align: middle;\n",
       "    }\n",
       "\n",
       "    .dataframe tbody tr th {\n",
       "        vertical-align: top;\n",
       "    }\n",
       "\n",
       "    .dataframe thead th {\n",
       "        text-align: right;\n",
       "    }\n",
       "</style>\n",
       "<table border=\"1\" class=\"dataframe\">\n",
       "  <thead>\n",
       "    <tr style=\"text-align: right;\">\n",
       "      <th></th>\n",
       "      <th>Frobenius Norm</th>\n",
       "    </tr>\n",
       "  </thead>\n",
       "  <tbody>\n",
       "    <tr>\n",
       "      <th>420</th>\n",
       "      <td>3.567582</td>\n",
       "    </tr>\n",
       "    <tr>\n",
       "      <th>146</th>\n",
       "      <td>5.589772</td>\n",
       "    </tr>\n",
       "    <tr>\n",
       "      <th>266</th>\n",
       "      <td>0.069974</td>\n",
       "    </tr>\n",
       "    <tr>\n",
       "      <th>695</th>\n",
       "      <td>5.796815</td>\n",
       "    </tr>\n",
       "    <tr>\n",
       "      <th>372</th>\n",
       "      <td>17.938752</td>\n",
       "    </tr>\n",
       "  </tbody>\n",
       "</table>\n",
       "</div>"
      ],
      "text/plain": [
       "     Frobenius Norm\n",
       "420        3.567582\n",
       "146        5.589772\n",
       "266        0.069974\n",
       "695        5.796815\n",
       "372       17.938752"
      ]
     },
     "execution_count": 30,
     "metadata": {},
     "output_type": "execute_result"
    }
   ],
   "source": [
    "try:\n",
    "    X_train, y_train, X_test, y_test, X_val, y_val = train_test_val_split(norm_input_df, norm_label_df)\n",
    "except ValueError:\n",
    "    # You probably turned off validation so just remove the val sets\n",
    "    X_train, y_train, X_test, y_test = train_test_val_split(norm_input_df, norm_label_df)\n",
    "y_train = np.ravel(y_train)\n",
    "\n",
    "print(X_train.shape)\n",
    "X_train.head()"
   ]
  },
  {
   "cell_type": "code",
   "execution_count": 31,
   "id": "1e1bfbf7",
   "metadata": {},
   "outputs": [
    {
     "name": "stderr",
     "output_type": "stream",
     "text": [
      "C:\\Users\\kdmen\\miniconda3\\lib\\site-packages\\sklearn\\neighbors\\_classification.py:237: FutureWarning: Unlike other reduction functions (e.g. `skew`, `kurtosis`), the default behavior of `mode` typically preserves the axis it acts along. In SciPy 1.11.0, this behavior will change: the default value of `keepdims` will become False, the `axis` over which the statistic is taken will be eliminated, and the value None will no longer be accepted. Set `keepdims` to True or False to avoid this warning.\n",
      "  mode, _ = stats.mode(_y[neigh_ind, k], axis=1)\n",
      "C:\\Users\\kdmen\\miniconda3\\lib\\site-packages\\sklearn\\svm\\_base.py:1225: ConvergenceWarning: Liblinear failed to converge, increase the number of iterations.\n",
      "  warnings.warn(\n"
     ]
    }
   ],
   "source": [
    "for model_num, model in enumerate(my_models):\n",
    "    norm1d_res_df = train_model(model, X_train, y_train, cv, norm1d_res_df)"
   ]
  },
  {
   "cell_type": "code",
   "execution_count": 32,
   "id": "f2978c75",
   "metadata": {},
   "outputs": [
    {
     "data": {
      "text/html": [
       "<div>\n",
       "<style scoped>\n",
       "    .dataframe tbody tr th:only-of-type {\n",
       "        vertical-align: middle;\n",
       "    }\n",
       "\n",
       "    .dataframe tbody tr th {\n",
       "        vertical-align: top;\n",
       "    }\n",
       "\n",
       "    .dataframe thead th {\n",
       "        text-align: right;\n",
       "    }\n",
       "</style>\n",
       "<table border=\"1\" class=\"dataframe\">\n",
       "  <thead>\n",
       "    <tr style=\"text-align: right;\">\n",
       "      <th></th>\n",
       "      <th>Algorithm</th>\n",
       "      <th>One Off Acc</th>\n",
       "      <th>CV Acc</th>\n",
       "      <th>K Folds</th>\n",
       "    </tr>\n",
       "  </thead>\n",
       "  <tbody>\n",
       "    <tr>\n",
       "      <th>0</th>\n",
       "      <td>LogisticRegression()</td>\n",
       "      <td>17.931</td>\n",
       "      <td>16.857</td>\n",
       "      <td>10</td>\n",
       "    </tr>\n",
       "    <tr>\n",
       "      <th>0</th>\n",
       "      <td>KNeighborsClassifier()</td>\n",
       "      <td>52.048</td>\n",
       "      <td>30.356</td>\n",
       "      <td>10</td>\n",
       "    </tr>\n",
       "    <tr>\n",
       "      <th>0</th>\n",
       "      <td>GaussianNB()</td>\n",
       "      <td>19.073</td>\n",
       "      <td>17.260</td>\n",
       "      <td>10</td>\n",
       "    </tr>\n",
       "    <tr>\n",
       "      <th>0</th>\n",
       "      <td>LinearSVC()</td>\n",
       "      <td>18.133</td>\n",
       "      <td>18.536</td>\n",
       "      <td>10</td>\n",
       "    </tr>\n",
       "    <tr>\n",
       "      <th>0</th>\n",
       "      <td>SGDClassifier()</td>\n",
       "      <td>14.372</td>\n",
       "      <td>13.768</td>\n",
       "      <td>10</td>\n",
       "    </tr>\n",
       "    <tr>\n",
       "      <th>0</th>\n",
       "      <td>DecisionTreeClassifier()</td>\n",
       "      <td>100.000</td>\n",
       "      <td>28.946</td>\n",
       "      <td>10</td>\n",
       "    </tr>\n",
       "    <tr>\n",
       "      <th>0</th>\n",
       "      <td>GradientBoostingClassifier()</td>\n",
       "      <td>65.682</td>\n",
       "      <td>32.304</td>\n",
       "      <td>10</td>\n",
       "    </tr>\n",
       "  </tbody>\n",
       "</table>\n",
       "</div>"
      ],
      "text/plain": [
       "                      Algorithm  One Off Acc  CV Acc K Folds\n",
       "0          LogisticRegression()       17.931  16.857      10\n",
       "0        KNeighborsClassifier()       52.048  30.356      10\n",
       "0                  GaussianNB()       19.073  17.260      10\n",
       "0                   LinearSVC()       18.133  18.536      10\n",
       "0               SGDClassifier()       14.372  13.768      10\n",
       "0      DecisionTreeClassifier()      100.000  28.946      10\n",
       "0  GradientBoostingClassifier()       65.682  32.304      10"
      ]
     },
     "execution_count": 32,
     "metadata": {},
     "output_type": "execute_result"
    }
   ],
   "source": [
    "norm1d_res_df.head(100)"
   ]
  },
  {
   "cell_type": "markdown",
   "id": "20c5b099",
   "metadata": {},
   "source": [
    "Now Test"
   ]
  },
  {
   "cell_type": "code",
   "execution_count": 34,
   "id": "0e96f1ba",
   "metadata": {},
   "outputs": [
    {
     "name": "stderr",
     "output_type": "stream",
     "text": [
      "C:\\Users\\kdmen\\miniconda3\\lib\\site-packages\\sklearn\\neighbors\\_classification.py:237: FutureWarning: Unlike other reduction functions (e.g. `skew`, `kurtosis`), the default behavior of `mode` typically preserves the axis it acts along. In SciPy 1.11.0, this behavior will change: the default value of `keepdims` will become False, the `axis` over which the statistic is taken will be eliminated, and the value None will no longer be accepted. Set `keepdims` to True or False to avoid this warning.\n",
      "  mode, _ = stats.mode(_y[neigh_ind, k], axis=1)\n",
      "C:\\Users\\kdmen\\miniconda3\\lib\\site-packages\\sklearn\\neighbors\\_classification.py:237: FutureWarning: Unlike other reduction functions (e.g. `skew`, `kurtosis`), the default behavior of `mode` typically preserves the axis it acts along. In SciPy 1.11.0, this behavior will change: the default value of `keepdims` will become False, the `axis` over which the statistic is taken will be eliminated, and the value None will no longer be accepted. Set `keepdims` to True or False to avoid this warning.\n",
      "  mode, _ = stats.mode(_y[neigh_ind, k], axis=1)\n",
      "C:\\Users\\kdmen\\miniconda3\\lib\\site-packages\\sklearn\\svm\\_base.py:1225: ConvergenceWarning: Liblinear failed to converge, increase the number of iterations.\n",
      "  warnings.warn(\n"
     ]
    }
   ],
   "source": [
    "test_df = pd.DataFrame(columns=['Algorithm', 'CV Acc', 'Test Acc', 'K Folds'])\n",
    "\n",
    "for model_num, model in enumerate(my_models):\n",
    "    test_df = test_model(model, X_train, y_train, X_test, y_test, test_df, cv)"
   ]
  },
  {
   "cell_type": "code",
   "execution_count": 35,
   "id": "79eaf166",
   "metadata": {},
   "outputs": [
    {
     "data": {
      "text/html": [
       "<div>\n",
       "<style scoped>\n",
       "    .dataframe tbody tr th:only-of-type {\n",
       "        vertical-align: middle;\n",
       "    }\n",
       "\n",
       "    .dataframe tbody tr th {\n",
       "        vertical-align: top;\n",
       "    }\n",
       "\n",
       "    .dataframe thead th {\n",
       "        text-align: right;\n",
       "    }\n",
       "</style>\n",
       "<table border=\"1\" class=\"dataframe\">\n",
       "  <thead>\n",
       "    <tr style=\"text-align: right;\">\n",
       "      <th></th>\n",
       "      <th>Algorithm</th>\n",
       "      <th>CV Acc</th>\n",
       "      <th>Test Acc</th>\n",
       "      <th>K Folds</th>\n",
       "    </tr>\n",
       "  </thead>\n",
       "  <tbody>\n",
       "    <tr>\n",
       "      <th>0</th>\n",
       "      <td>LogisticRegression()</td>\n",
       "      <td>16.857</td>\n",
       "      <td>16.901</td>\n",
       "      <td>10</td>\n",
       "    </tr>\n",
       "    <tr>\n",
       "      <th>0</th>\n",
       "      <td>KNeighborsClassifier()</td>\n",
       "      <td>30.356</td>\n",
       "      <td>28.795</td>\n",
       "      <td>10</td>\n",
       "    </tr>\n",
       "    <tr>\n",
       "      <th>0</th>\n",
       "      <td>GaussianNB()</td>\n",
       "      <td>17.26</td>\n",
       "      <td>19.718</td>\n",
       "      <td>10</td>\n",
       "    </tr>\n",
       "    <tr>\n",
       "      <th>0</th>\n",
       "      <td>LinearSVC()</td>\n",
       "      <td>18.402</td>\n",
       "      <td>18.623</td>\n",
       "      <td>10</td>\n",
       "    </tr>\n",
       "    <tr>\n",
       "      <th>0</th>\n",
       "      <td>SGDClassifier()</td>\n",
       "      <td>15.447</td>\n",
       "      <td>15.336</td>\n",
       "      <td>10</td>\n",
       "    </tr>\n",
       "  </tbody>\n",
       "</table>\n",
       "</div>"
      ],
      "text/plain": [
       "                Algorithm  CV Acc Test Acc K Folds\n",
       "0    LogisticRegression()  16.857   16.901      10\n",
       "0  KNeighborsClassifier()  30.356   28.795      10\n",
       "0            GaussianNB()   17.26   19.718      10\n",
       "0             LinearSVC()  18.402   18.623      10\n",
       "0         SGDClassifier()  15.447   15.336      10"
      ]
     },
     "execution_count": 35,
     "metadata": {},
     "output_type": "execute_result"
    }
   ],
   "source": [
    "test_df.head()"
   ]
  },
  {
   "cell_type": "markdown",
   "id": "19c024f2",
   "metadata": {},
   "source": [
    "## Case 2: Flatten Decoder Matrices as Input"
   ]
  },
  {
   "cell_type": "code",
   "execution_count": 36,
   "id": "2106fdad",
   "metadata": {},
   "outputs": [
    {
     "data": {
      "text/html": [
       "<div>\n",
       "<style scoped>\n",
       "    .dataframe tbody tr th:only-of-type {\n",
       "        vertical-align: middle;\n",
       "    }\n",
       "\n",
       "    .dataframe tbody tr th {\n",
       "        vertical-align: top;\n",
       "    }\n",
       "\n",
       "    .dataframe thead th {\n",
       "        text-align: right;\n",
       "    }\n",
       "</style>\n",
       "<table border=\"1\" class=\"dataframe\">\n",
       "  <thead>\n",
       "    <tr style=\"text-align: right;\">\n",
       "      <th></th>\n",
       "      <th>Flattened Decoder</th>\n",
       "    </tr>\n",
       "  </thead>\n",
       "  <tbody>\n",
       "    <tr>\n",
       "      <th>0</th>\n",
       "      <td>[0.002722144351611262, 0.002605931562722017, 0...</td>\n",
       "    </tr>\n",
       "    <tr>\n",
       "      <th>1</th>\n",
       "      <td>[0.002722144351611262, 0.002605931562722017, 0...</td>\n",
       "    </tr>\n",
       "    <tr>\n",
       "      <th>2</th>\n",
       "      <td>[-0.34157085409453486, 0.08410593293763585, -0...</td>\n",
       "    </tr>\n",
       "    <tr>\n",
       "      <th>3</th>\n",
       "      <td>[-0.1738624752800762, 0.003705171262358347, 0....</td>\n",
       "    </tr>\n",
       "    <tr>\n",
       "      <th>4</th>\n",
       "      <td>[0.8321061501817386, -1.3261242289666402, 0.28...</td>\n",
       "    </tr>\n",
       "  </tbody>\n",
       "</table>\n",
       "</div>"
      ],
      "text/plain": [
       "                                   Flattened Decoder\n",
       "0  [0.002722144351611262, 0.002605931562722017, 0...\n",
       "1  [0.002722144351611262, 0.002605931562722017, 0...\n",
       "2  [-0.34157085409453486, 0.08410593293763585, -0...\n",
       "3  [-0.1738624752800762, 0.003705171262358347, 0....\n",
       "4  [0.8321061501817386, -1.3261242289666402, 0.28..."
      ]
     },
     "execution_count": 36,
     "metadata": {},
     "output_type": "execute_result"
    }
   ],
   "source": [
    "flattened_input_df = dec_flattened_df.drop([\"Subject\",  \"Condition\", \"Update Number\"], axis=1)\n",
    "flattened_input_df.head()"
   ]
  },
  {
   "cell_type": "code",
   "execution_count": 37,
   "id": "7d7de2a4",
   "metadata": {},
   "outputs": [
    {
     "name": "stdout",
     "output_type": "stream",
     "text": [
      "(1489, 1)\n"
     ]
    },
    {
     "data": {
      "text/html": [
       "<div>\n",
       "<style scoped>\n",
       "    .dataframe tbody tr th:only-of-type {\n",
       "        vertical-align: middle;\n",
       "    }\n",
       "\n",
       "    .dataframe tbody tr th {\n",
       "        vertical-align: top;\n",
       "    }\n",
       "\n",
       "    .dataframe thead th {\n",
       "        text-align: right;\n",
       "    }\n",
       "</style>\n",
       "<table border=\"1\" class=\"dataframe\">\n",
       "  <thead>\n",
       "    <tr style=\"text-align: right;\">\n",
       "      <th></th>\n",
       "      <th>Flattened Decoder</th>\n",
       "    </tr>\n",
       "  </thead>\n",
       "  <tbody>\n",
       "    <tr>\n",
       "      <th>420</th>\n",
       "      <td>[0.5594479988320739, 0.4812012592595234, -0.31...</td>\n",
       "    </tr>\n",
       "    <tr>\n",
       "      <th>146</th>\n",
       "      <td>[-0.05469055551972085, 0.08547177500493985, -0...</td>\n",
       "    </tr>\n",
       "    <tr>\n",
       "      <th>266</th>\n",
       "      <td>[-0.008973604228856694, -0.008313810900701315,...</td>\n",
       "    </tr>\n",
       "    <tr>\n",
       "      <th>695</th>\n",
       "      <td>[-0.05559843195043232, -1.0993648180373194, 0....</td>\n",
       "    </tr>\n",
       "    <tr>\n",
       "      <th>372</th>\n",
       "      <td>[2.0976718157092886, -1.4354093970974517, -0.0...</td>\n",
       "    </tr>\n",
       "  </tbody>\n",
       "</table>\n",
       "</div>"
      ],
      "text/plain": [
       "                                     Flattened Decoder\n",
       "420  [0.5594479988320739, 0.4812012592595234, -0.31...\n",
       "146  [-0.05469055551972085, 0.08547177500493985, -0...\n",
       "266  [-0.008973604228856694, -0.008313810900701315,...\n",
       "695  [-0.05559843195043232, -1.0993648180373194, 0....\n",
       "372  [2.0976718157092886, -1.4354093970974517, -0.0..."
      ]
     },
     "execution_count": 37,
     "metadata": {},
     "output_type": "execute_result"
    }
   ],
   "source": [
    "try:\n",
    "    X_train, y_train, X_test, y_test, X_val, y_val = train_test_val_split(flattened_input_df, norm_label_df)\n",
    "except ValueError:\n",
    "    # You probably turned off validation so just remove the val sets\n",
    "    X_train, y_train, X_test, y_test = train_test_val_split(flattened_input_df, norm_label_df)\n",
    "y_train = np.ravel(y_train)\n",
    "\n",
    "print(X_train.shape)\n",
    "X_train.head()"
   ]
  },
  {
   "cell_type": "markdown",
   "id": "b00a6cde",
   "metadata": {},
   "source": [
    "Convert single element of a vector into a vector of single elements!"
   ]
  },
  {
   "cell_type": "code",
   "execution_count": 38,
   "id": "a7db0a53",
   "metadata": {
    "scrolled": true
   },
   "outputs": [
    {
     "data": {
      "text/html": [
       "<div>\n",
       "<style scoped>\n",
       "    .dataframe tbody tr th:only-of-type {\n",
       "        vertical-align: middle;\n",
       "    }\n",
       "\n",
       "    .dataframe tbody tr th {\n",
       "        vertical-align: top;\n",
       "    }\n",
       "\n",
       "    .dataframe thead th {\n",
       "        text-align: right;\n",
       "    }\n",
       "</style>\n",
       "<table border=\"1\" class=\"dataframe\">\n",
       "  <thead>\n",
       "    <tr style=\"text-align: right;\">\n",
       "      <th></th>\n",
       "      <th>0</th>\n",
       "      <th>1</th>\n",
       "      <th>2</th>\n",
       "      <th>3</th>\n",
       "      <th>4</th>\n",
       "      <th>5</th>\n",
       "      <th>6</th>\n",
       "      <th>7</th>\n",
       "      <th>8</th>\n",
       "      <th>9</th>\n",
       "      <th>...</th>\n",
       "      <th>118</th>\n",
       "      <th>119</th>\n",
       "      <th>120</th>\n",
       "      <th>121</th>\n",
       "      <th>122</th>\n",
       "      <th>123</th>\n",
       "      <th>124</th>\n",
       "      <th>125</th>\n",
       "      <th>126</th>\n",
       "      <th>127</th>\n",
       "    </tr>\n",
       "  </thead>\n",
       "  <tbody>\n",
       "    <tr>\n",
       "      <th>0</th>\n",
       "      <td>0.559448</td>\n",
       "      <td>0.481201</td>\n",
       "      <td>-0.311722</td>\n",
       "      <td>-0.309007</td>\n",
       "      <td>0.106709</td>\n",
       "      <td>0.161785</td>\n",
       "      <td>-0.301699</td>\n",
       "      <td>-0.321967</td>\n",
       "      <td>-0.083060</td>\n",
       "      <td>0.570488</td>\n",
       "      <td>...</td>\n",
       "      <td>0.039315</td>\n",
       "      <td>0.361549</td>\n",
       "      <td>0.411409</td>\n",
       "      <td>0.181654</td>\n",
       "      <td>0.168465</td>\n",
       "      <td>0.048938</td>\n",
       "      <td>0.070892</td>\n",
       "      <td>-0.032129</td>\n",
       "      <td>0.055582</td>\n",
       "      <td>0.466536</td>\n",
       "    </tr>\n",
       "    <tr>\n",
       "      <th>0</th>\n",
       "      <td>-0.054691</td>\n",
       "      <td>0.085472</td>\n",
       "      <td>-0.139612</td>\n",
       "      <td>0.109828</td>\n",
       "      <td>-0.132205</td>\n",
       "      <td>-0.125863</td>\n",
       "      <td>0.872657</td>\n",
       "      <td>0.057642</td>\n",
       "      <td>1.215535</td>\n",
       "      <td>-0.042984</td>\n",
       "      <td>...</td>\n",
       "      <td>0.295885</td>\n",
       "      <td>-0.664531</td>\n",
       "      <td>-0.831946</td>\n",
       "      <td>1.214455</td>\n",
       "      <td>0.905204</td>\n",
       "      <td>-1.332841</td>\n",
       "      <td>-0.037715</td>\n",
       "      <td>0.540905</td>\n",
       "      <td>0.181231</td>\n",
       "      <td>-0.617622</td>\n",
       "    </tr>\n",
       "    <tr>\n",
       "      <th>0</th>\n",
       "      <td>-0.008974</td>\n",
       "      <td>-0.008314</td>\n",
       "      <td>-0.006412</td>\n",
       "      <td>-0.001125</td>\n",
       "      <td>-0.003369</td>\n",
       "      <td>-0.001689</td>\n",
       "      <td>-0.008623</td>\n",
       "      <td>-0.004556</td>\n",
       "      <td>-0.009388</td>\n",
       "      <td>-0.002210</td>\n",
       "      <td>...</td>\n",
       "      <td>-0.008424</td>\n",
       "      <td>-0.002359</td>\n",
       "      <td>-0.001530</td>\n",
       "      <td>-0.002416</td>\n",
       "      <td>-0.001757</td>\n",
       "      <td>-0.007078</td>\n",
       "      <td>-0.007921</td>\n",
       "      <td>-0.006530</td>\n",
       "      <td>-0.003725</td>\n",
       "      <td>-0.005481</td>\n",
       "    </tr>\n",
       "    <tr>\n",
       "      <th>0</th>\n",
       "      <td>-0.055598</td>\n",
       "      <td>-1.099365</td>\n",
       "      <td>0.040769</td>\n",
       "      <td>-0.288075</td>\n",
       "      <td>0.016066</td>\n",
       "      <td>-0.113498</td>\n",
       "      <td>0.082550</td>\n",
       "      <td>0.019032</td>\n",
       "      <td>-0.090005</td>\n",
       "      <td>-1.670067</td>\n",
       "      <td>...</td>\n",
       "      <td>0.003365</td>\n",
       "      <td>0.346554</td>\n",
       "      <td>-0.189199</td>\n",
       "      <td>0.189891</td>\n",
       "      <td>0.210803</td>\n",
       "      <td>0.022203</td>\n",
       "      <td>-0.021496</td>\n",
       "      <td>0.434912</td>\n",
       "      <td>-0.832817</td>\n",
       "      <td>0.034530</td>\n",
       "    </tr>\n",
       "    <tr>\n",
       "      <th>0</th>\n",
       "      <td>2.097672</td>\n",
       "      <td>-1.435409</td>\n",
       "      <td>-0.056953</td>\n",
       "      <td>1.670270</td>\n",
       "      <td>-1.501497</td>\n",
       "      <td>-0.962351</td>\n",
       "      <td>0.083523</td>\n",
       "      <td>2.733040</td>\n",
       "      <td>-1.270545</td>\n",
       "      <td>0.097296</td>\n",
       "      <td>...</td>\n",
       "      <td>-2.028840</td>\n",
       "      <td>-0.354640</td>\n",
       "      <td>2.231020</td>\n",
       "      <td>2.792864</td>\n",
       "      <td>-1.524705</td>\n",
       "      <td>2.493864</td>\n",
       "      <td>-0.648781</td>\n",
       "      <td>-1.369147</td>\n",
       "      <td>1.047059</td>\n",
       "      <td>-0.720754</td>\n",
       "    </tr>\n",
       "  </tbody>\n",
       "</table>\n",
       "<p>5 rows × 128 columns</p>\n",
       "</div>"
      ],
      "text/plain": [
       "        0         1         2         3         4         5         6    \\\n",
       "0  0.559448  0.481201 -0.311722 -0.309007  0.106709  0.161785 -0.301699   \n",
       "0 -0.054691  0.085472 -0.139612  0.109828 -0.132205 -0.125863  0.872657   \n",
       "0 -0.008974 -0.008314 -0.006412 -0.001125 -0.003369 -0.001689 -0.008623   \n",
       "0 -0.055598 -1.099365  0.040769 -0.288075  0.016066 -0.113498  0.082550   \n",
       "0  2.097672 -1.435409 -0.056953  1.670270 -1.501497 -0.962351  0.083523   \n",
       "\n",
       "        7         8         9    ...       118       119       120       121  \\\n",
       "0 -0.321967 -0.083060  0.570488  ...  0.039315  0.361549  0.411409  0.181654   \n",
       "0  0.057642  1.215535 -0.042984  ...  0.295885 -0.664531 -0.831946  1.214455   \n",
       "0 -0.004556 -0.009388 -0.002210  ... -0.008424 -0.002359 -0.001530 -0.002416   \n",
       "0  0.019032 -0.090005 -1.670067  ...  0.003365  0.346554 -0.189199  0.189891   \n",
       "0  2.733040 -1.270545  0.097296  ... -2.028840 -0.354640  2.231020  2.792864   \n",
       "\n",
       "        122       123       124       125       126       127  \n",
       "0  0.168465  0.048938  0.070892 -0.032129  0.055582  0.466536  \n",
       "0  0.905204 -1.332841 -0.037715  0.540905  0.181231 -0.617622  \n",
       "0 -0.001757 -0.007078 -0.007921 -0.006530 -0.003725 -0.005481  \n",
       "0  0.210803  0.022203 -0.021496  0.434912 -0.832817  0.034530  \n",
       "0 -1.524705  2.493864 -0.648781 -1.369147  1.047059 -0.720754  \n",
       "\n",
       "[5 rows x 128 columns]"
      ]
     },
     "execution_count": 38,
     "metadata": {},
     "output_type": "execute_result"
    }
   ],
   "source": [
    "X_train2 = pd.DataFrame()\n",
    "X_test2 = pd.DataFrame()\n",
    "for my_row in range(X_train.shape[0]):\n",
    "    test=pd.DataFrame(X_train.iloc[my_row,0]).T\n",
    "    X_train2 = pd.concat((X_train2, test))\n",
    "    \n",
    "for my_row in range(X_test.shape[0]):\n",
    "    test=pd.DataFrame(X_test.iloc[my_row,0]).T\n",
    "    X_test2 = pd.concat((X_test2, test))\n",
    "X_train2.head()"
   ]
  },
  {
   "cell_type": "code",
   "execution_count": 39,
   "id": "a1d304f1",
   "metadata": {},
   "outputs": [
    {
     "name": "stdout",
     "output_type": "stream",
     "text": [
      "0 of 7\n",
      "1 of 7\n"
     ]
    },
    {
     "name": "stderr",
     "output_type": "stream",
     "text": [
      "C:\\Users\\kdmen\\miniconda3\\lib\\site-packages\\sklearn\\neighbors\\_classification.py:237: FutureWarning: Unlike other reduction functions (e.g. `skew`, `kurtosis`), the default behavior of `mode` typically preserves the axis it acts along. In SciPy 1.11.0, this behavior will change: the default value of `keepdims` will become False, the `axis` over which the statistic is taken will be eliminated, and the value None will no longer be accepted. Set `keepdims` to True or False to avoid this warning.\n",
      "  mode, _ = stats.mode(_y[neigh_ind, k], axis=1)\n"
     ]
    },
    {
     "name": "stdout",
     "output_type": "stream",
     "text": [
      "2 of 7\n",
      "3 of 7\n"
     ]
    },
    {
     "name": "stderr",
     "output_type": "stream",
     "text": [
      "C:\\Users\\kdmen\\miniconda3\\lib\\site-packages\\sklearn\\svm\\_base.py:1225: ConvergenceWarning: Liblinear failed to converge, increase the number of iterations.\n",
      "  warnings.warn(\n"
     ]
    },
    {
     "name": "stdout",
     "output_type": "stream",
     "text": [
      "4 of 7\n",
      "5 of 7\n",
      "6 of 7\n"
     ]
    }
   ],
   "source": [
    "for model_num, model in enumerate(my_models):\n",
    "    print(f\"{model_num} of {len(my_models)}\")\n",
    "    flatten_dec_res_df = train_model(model, X_train2, y_train, cv, flatten_dec_res_df)"
   ]
  },
  {
   "cell_type": "code",
   "execution_count": 40,
   "id": "0570e67c",
   "metadata": {
    "scrolled": true
   },
   "outputs": [
    {
     "data": {
      "text/html": [
       "<div>\n",
       "<style scoped>\n",
       "    .dataframe tbody tr th:only-of-type {\n",
       "        vertical-align: middle;\n",
       "    }\n",
       "\n",
       "    .dataframe tbody tr th {\n",
       "        vertical-align: top;\n",
       "    }\n",
       "\n",
       "    .dataframe thead th {\n",
       "        text-align: right;\n",
       "    }\n",
       "</style>\n",
       "<table border=\"1\" class=\"dataframe\">\n",
       "  <thead>\n",
       "    <tr style=\"text-align: right;\">\n",
       "      <th></th>\n",
       "      <th>Algorithm</th>\n",
       "      <th>One Off Acc</th>\n",
       "      <th>CV Acc</th>\n",
       "      <th>K Folds</th>\n",
       "    </tr>\n",
       "  </thead>\n",
       "  <tbody>\n",
       "    <tr>\n",
       "      <th>0</th>\n",
       "      <td>LogisticRegression()</td>\n",
       "      <td>87.911</td>\n",
       "      <td>70.853</td>\n",
       "      <td>10</td>\n",
       "    </tr>\n",
       "    <tr>\n",
       "      <th>0</th>\n",
       "      <td>KNeighborsClassifier()</td>\n",
       "      <td>83.815</td>\n",
       "      <td>76.494</td>\n",
       "      <td>10</td>\n",
       "    </tr>\n",
       "    <tr>\n",
       "      <th>0</th>\n",
       "      <td>GaussianNB()</td>\n",
       "      <td>71.592</td>\n",
       "      <td>69.778</td>\n",
       "      <td>10</td>\n",
       "    </tr>\n",
       "    <tr>\n",
       "      <th>0</th>\n",
       "      <td>LinearSVC()</td>\n",
       "      <td>83.345</td>\n",
       "      <td>70.853</td>\n",
       "      <td>10</td>\n",
       "    </tr>\n",
       "    <tr>\n",
       "      <th>0</th>\n",
       "      <td>SGDClassifier()</td>\n",
       "      <td>77.972</td>\n",
       "      <td>70.047</td>\n",
       "      <td>10</td>\n",
       "    </tr>\n",
       "    <tr>\n",
       "      <th>0</th>\n",
       "      <td>DecisionTreeClassifier()</td>\n",
       "      <td>100.000</td>\n",
       "      <td>66.286</td>\n",
       "      <td>10</td>\n",
       "    </tr>\n",
       "    <tr>\n",
       "      <th>0</th>\n",
       "      <td>GradientBoostingClassifier()</td>\n",
       "      <td>100.000</td>\n",
       "      <td>87.844</td>\n",
       "      <td>10</td>\n",
       "    </tr>\n",
       "  </tbody>\n",
       "</table>\n",
       "</div>"
      ],
      "text/plain": [
       "                      Algorithm  One Off Acc  CV Acc K Folds\n",
       "0          LogisticRegression()       87.911  70.853      10\n",
       "0        KNeighborsClassifier()       83.815  76.494      10\n",
       "0                  GaussianNB()       71.592  69.778      10\n",
       "0                   LinearSVC()       83.345  70.853      10\n",
       "0               SGDClassifier()       77.972  70.047      10\n",
       "0      DecisionTreeClassifier()      100.000  66.286      10\n",
       "0  GradientBoostingClassifier()      100.000  87.844      10"
      ]
     },
     "execution_count": 40,
     "metadata": {},
     "output_type": "execute_result"
    }
   ],
   "source": [
    "flatten_dec_res_df.head(100)"
   ]
  },
  {
   "cell_type": "markdown",
   "id": "ee7aa72c",
   "metadata": {},
   "source": [
    "Test the models on the testing data"
   ]
  },
  {
   "cell_type": "code",
   "execution_count": 41,
   "id": "700d027c",
   "metadata": {},
   "outputs": [
    {
     "name": "stdout",
     "output_type": "stream",
     "text": [
      "LogisticRegression()\n",
      "CV Accuracy: 70.853\n",
      "Test Accuracy: 71.987\n",
      "\n"
     ]
    },
    {
     "name": "stderr",
     "output_type": "stream",
     "text": [
      "C:\\Users\\kdmen\\miniconda3\\lib\\site-packages\\sklearn\\neighbors\\_classification.py:237: FutureWarning: Unlike other reduction functions (e.g. `skew`, `kurtosis`), the default behavior of `mode` typically preserves the axis it acts along. In SciPy 1.11.0, this behavior will change: the default value of `keepdims` will become False, the `axis` over which the statistic is taken will be eliminated, and the value None will no longer be accepted. Set `keepdims` to True or False to avoid this warning.\n",
      "  mode, _ = stats.mode(_y[neigh_ind, k], axis=1)\n",
      "C:\\Users\\kdmen\\miniconda3\\lib\\site-packages\\sklearn\\neighbors\\_classification.py:237: FutureWarning: Unlike other reduction functions (e.g. `skew`, `kurtosis`), the default behavior of `mode` typically preserves the axis it acts along. In SciPy 1.11.0, this behavior will change: the default value of `keepdims` will become False, the `axis` over which the statistic is taken will be eliminated, and the value None will no longer be accepted. Set `keepdims` to True or False to avoid this warning.\n",
      "  mode, _ = stats.mode(_y[neigh_ind, k], axis=1)\n"
     ]
    },
    {
     "name": "stdout",
     "output_type": "stream",
     "text": [
      "KNeighborsClassifier()\n",
      "CV Accuracy: 76.494\n",
      "Test Accuracy: 76.526\n",
      "\n",
      "GaussianNB()\n",
      "CV Accuracy: 69.778\n",
      "Test Accuracy: 72.926\n",
      "\n"
     ]
    },
    {
     "name": "stderr",
     "output_type": "stream",
     "text": [
      "C:\\Users\\kdmen\\miniconda3\\lib\\site-packages\\sklearn\\svm\\_base.py:1225: ConvergenceWarning: Liblinear failed to converge, increase the number of iterations.\n",
      "  warnings.warn(\n"
     ]
    },
    {
     "name": "stdout",
     "output_type": "stream",
     "text": [
      "LinearSVC()\n",
      "CV Accuracy: 70.987\n",
      "Test Accuracy: 74.022\n",
      "\n",
      "SGDClassifier()\n",
      "CV Accuracy: 67.696\n",
      "Test Accuracy: 68.075\n",
      "\n",
      "DecisionTreeClassifier()\n",
      "CV Accuracy: 65.682\n",
      "Test Accuracy: 65.571\n",
      "\n",
      "GradientBoostingClassifier()\n",
      "CV Accuracy: 88.516\n",
      "Test Accuracy: 89.828\n",
      "\n"
     ]
    }
   ],
   "source": [
    "test_df = pd.DataFrame(columns=['Algorithm', 'CV Acc', 'Test Acc', 'K Folds'])\n",
    "for model in my_models:\n",
    "    test_df = test_model(model, X_train2, y_train, X_test2, y_test, test_df, cv, verbose=True)"
   ]
  },
  {
   "cell_type": "code",
   "execution_count": 42,
   "id": "9be94a98",
   "metadata": {},
   "outputs": [
    {
     "data": {
      "text/html": [
       "<div>\n",
       "<style scoped>\n",
       "    .dataframe tbody tr th:only-of-type {\n",
       "        vertical-align: middle;\n",
       "    }\n",
       "\n",
       "    .dataframe tbody tr th {\n",
       "        vertical-align: top;\n",
       "    }\n",
       "\n",
       "    .dataframe thead th {\n",
       "        text-align: right;\n",
       "    }\n",
       "</style>\n",
       "<table border=\"1\" class=\"dataframe\">\n",
       "  <thead>\n",
       "    <tr style=\"text-align: right;\">\n",
       "      <th></th>\n",
       "      <th>Algorithm</th>\n",
       "      <th>CV Acc</th>\n",
       "      <th>Test Acc</th>\n",
       "      <th>K Folds</th>\n",
       "    </tr>\n",
       "  </thead>\n",
       "  <tbody>\n",
       "    <tr>\n",
       "      <th>0</th>\n",
       "      <td>LogisticRegression()</td>\n",
       "      <td>70.853</td>\n",
       "      <td>71.987</td>\n",
       "      <td>10</td>\n",
       "    </tr>\n",
       "    <tr>\n",
       "      <th>0</th>\n",
       "      <td>KNeighborsClassifier()</td>\n",
       "      <td>76.494</td>\n",
       "      <td>76.526</td>\n",
       "      <td>10</td>\n",
       "    </tr>\n",
       "    <tr>\n",
       "      <th>0</th>\n",
       "      <td>GaussianNB()</td>\n",
       "      <td>69.778</td>\n",
       "      <td>72.926</td>\n",
       "      <td>10</td>\n",
       "    </tr>\n",
       "    <tr>\n",
       "      <th>0</th>\n",
       "      <td>LinearSVC()</td>\n",
       "      <td>70.987</td>\n",
       "      <td>74.022</td>\n",
       "      <td>10</td>\n",
       "    </tr>\n",
       "    <tr>\n",
       "      <th>0</th>\n",
       "      <td>SGDClassifier()</td>\n",
       "      <td>67.696</td>\n",
       "      <td>68.075</td>\n",
       "      <td>10</td>\n",
       "    </tr>\n",
       "    <tr>\n",
       "      <th>0</th>\n",
       "      <td>DecisionTreeClassifier()</td>\n",
       "      <td>65.682</td>\n",
       "      <td>65.571</td>\n",
       "      <td>10</td>\n",
       "    </tr>\n",
       "    <tr>\n",
       "      <th>0</th>\n",
       "      <td>GradientBoostingClassifier()</td>\n",
       "      <td>88.516</td>\n",
       "      <td>89.828</td>\n",
       "      <td>10</td>\n",
       "    </tr>\n",
       "  </tbody>\n",
       "</table>\n",
       "</div>"
      ],
      "text/plain": [
       "                      Algorithm  CV Acc Test Acc K Folds\n",
       "0          LogisticRegression()  70.853   71.987      10\n",
       "0        KNeighborsClassifier()  76.494   76.526      10\n",
       "0                  GaussianNB()  69.778   72.926      10\n",
       "0                   LinearSVC()  70.987   74.022      10\n",
       "0               SGDClassifier()  67.696   68.075      10\n",
       "0      DecisionTreeClassifier()  65.682   65.571      10\n",
       "0  GradientBoostingClassifier()  88.516   89.828      10"
      ]
     },
     "execution_count": 42,
     "metadata": {},
     "output_type": "execute_result"
    }
   ],
   "source": [
    "test_df.head(100)"
   ]
  },
  {
   "cell_type": "markdown",
   "id": "471a37b4",
   "metadata": {},
   "source": [
    "Redo but try using Standard Scaler this time"
   ]
  },
  {
   "cell_type": "code",
   "execution_count": 43,
   "id": "25ef5940",
   "metadata": {},
   "outputs": [
    {
     "name": "stdout",
     "output_type": "stream",
     "text": [
      "(1489, 128)\n",
      "(1489, 128)\n"
     ]
    }
   ],
   "source": [
    "from sklearn.preprocessing import StandardScaler\n",
    "\n",
    "scaler_Xtrain2 = StandardScaler().fit(X_train2)\n",
    "Xtrain2SS = scaler_Xtrain2.transform(X_train2)\n",
    "\n",
    "print(X_train2.shape)\n",
    "print(Xtrain2SS.shape)"
   ]
  },
  {
   "cell_type": "code",
   "execution_count": 44,
   "id": "c6ed2841",
   "metadata": {},
   "outputs": [
    {
     "name": "stdout",
     "output_type": "stream",
     "text": [
      "1 of 7\n",
      "2 of 7\n"
     ]
    },
    {
     "name": "stderr",
     "output_type": "stream",
     "text": [
      "C:\\Users\\kdmen\\miniconda3\\lib\\site-packages\\sklearn\\neighbors\\_classification.py:237: FutureWarning: Unlike other reduction functions (e.g. `skew`, `kurtosis`), the default behavior of `mode` typically preserves the axis it acts along. In SciPy 1.11.0, this behavior will change: the default value of `keepdims` will become False, the `axis` over which the statistic is taken will be eliminated, and the value None will no longer be accepted. Set `keepdims` to True or False to avoid this warning.\n",
      "  mode, _ = stats.mode(_y[neigh_ind, k], axis=1)\n"
     ]
    },
    {
     "name": "stdout",
     "output_type": "stream",
     "text": [
      "3 of 7\n",
      "4 of 7\n"
     ]
    },
    {
     "name": "stderr",
     "output_type": "stream",
     "text": [
      "C:\\Users\\kdmen\\miniconda3\\lib\\site-packages\\sklearn\\svm\\_base.py:1225: ConvergenceWarning: Liblinear failed to converge, increase the number of iterations.\n",
      "  warnings.warn(\n"
     ]
    },
    {
     "name": "stdout",
     "output_type": "stream",
     "text": [
      "5 of 7\n",
      "6 of 7\n",
      "7 of 7\n"
     ]
    }
   ],
   "source": [
    "for model_num, model in enumerate(my_models):\n",
    "    print(f\"{model_num+1} of {len(my_models)}\")\n",
    "    SSflatten_dec_res_df = train_model(model, Xtrain2SS, y_train, cv, SSflatten_dec_res_df)"
   ]
  },
  {
   "cell_type": "code",
   "execution_count": 45,
   "id": "a86f82cd",
   "metadata": {},
   "outputs": [
    {
     "data": {
      "text/html": [
       "<div>\n",
       "<style scoped>\n",
       "    .dataframe tbody tr th:only-of-type {\n",
       "        vertical-align: middle;\n",
       "    }\n",
       "\n",
       "    .dataframe tbody tr th {\n",
       "        vertical-align: top;\n",
       "    }\n",
       "\n",
       "    .dataframe thead th {\n",
       "        text-align: right;\n",
       "    }\n",
       "</style>\n",
       "<table border=\"1\" class=\"dataframe\">\n",
       "  <thead>\n",
       "    <tr style=\"text-align: right;\">\n",
       "      <th></th>\n",
       "      <th>Algorithm</th>\n",
       "      <th>One Off Acc</th>\n",
       "      <th>CV Acc</th>\n",
       "      <th>K Folds</th>\n",
       "    </tr>\n",
       "  </thead>\n",
       "  <tbody>\n",
       "    <tr>\n",
       "      <th>0</th>\n",
       "      <td>LogisticRegression()</td>\n",
       "      <td>89.322</td>\n",
       "      <td>70.114</td>\n",
       "      <td>10</td>\n",
       "    </tr>\n",
       "    <tr>\n",
       "      <th>0</th>\n",
       "      <td>KNeighborsClassifier()</td>\n",
       "      <td>82.740</td>\n",
       "      <td>74.211</td>\n",
       "      <td>10</td>\n",
       "    </tr>\n",
       "    <tr>\n",
       "      <th>0</th>\n",
       "      <td>GaussianNB()</td>\n",
       "      <td>71.592</td>\n",
       "      <td>69.778</td>\n",
       "      <td>10</td>\n",
       "    </tr>\n",
       "    <tr>\n",
       "      <th>0</th>\n",
       "      <td>LinearSVC()</td>\n",
       "      <td>83.546</td>\n",
       "      <td>70.987</td>\n",
       "      <td>10</td>\n",
       "    </tr>\n",
       "    <tr>\n",
       "      <th>0</th>\n",
       "      <td>SGDClassifier()</td>\n",
       "      <td>77.972</td>\n",
       "      <td>68.704</td>\n",
       "      <td>10</td>\n",
       "    </tr>\n",
       "    <tr>\n",
       "      <th>0</th>\n",
       "      <td>DecisionTreeClassifier()</td>\n",
       "      <td>100.000</td>\n",
       "      <td>65.413</td>\n",
       "      <td>10</td>\n",
       "    </tr>\n",
       "    <tr>\n",
       "      <th>0</th>\n",
       "      <td>GradientBoostingClassifier()</td>\n",
       "      <td>100.000</td>\n",
       "      <td>88.449</td>\n",
       "      <td>10</td>\n",
       "    </tr>\n",
       "  </tbody>\n",
       "</table>\n",
       "</div>"
      ],
      "text/plain": [
       "                      Algorithm  One Off Acc  CV Acc K Folds\n",
       "0          LogisticRegression()       89.322  70.114      10\n",
       "0        KNeighborsClassifier()       82.740  74.211      10\n",
       "0                  GaussianNB()       71.592  69.778      10\n",
       "0                   LinearSVC()       83.546  70.987      10\n",
       "0               SGDClassifier()       77.972  68.704      10\n",
       "0      DecisionTreeClassifier()      100.000  65.413      10\n",
       "0  GradientBoostingClassifier()      100.000  88.449      10"
      ]
     },
     "execution_count": 45,
     "metadata": {},
     "output_type": "execute_result"
    }
   ],
   "source": [
    "SSflatten_dec_res_df.head(100)"
   ]
  },
  {
   "cell_type": "markdown",
   "id": "d501e967",
   "metadata": {},
   "source": [
    "Thus we see no real performance gains by using standard scaler.\n",
    "\n",
    "Now try and optimize the best performer (GBT)\n",
    "1. max_depth: int, default=3\n",
    "- The maximum depth of the individual regression estimators. The maximum depth limits the number of nodes in the tree. Tune this parameter for best performance; the best value depends on the interaction of the input variables. Values must be in the range [1, inf)."
   ]
  },
  {
   "cell_type": "code",
   "execution_count": null,
   "id": "bc3e0b0e",
   "metadata": {},
   "outputs": [],
   "source": []
  },
  {
   "cell_type": "code",
   "execution_count": null,
   "id": "20a74f91",
   "metadata": {},
   "outputs": [],
   "source": []
  },
  {
   "cell_type": "code",
   "execution_count": null,
   "id": "a7a14460",
   "metadata": {},
   "outputs": [],
   "source": []
  },
  {
   "cell_type": "code",
   "execution_count": null,
   "id": "8bfa447a",
   "metadata": {},
   "outputs": [],
   "source": []
  },
  {
   "cell_type": "code",
   "execution_count": null,
   "id": "7f8a27b2",
   "metadata": {},
   "outputs": [],
   "source": []
  },
  {
   "cell_type": "code",
   "execution_count": null,
   "id": "641f68a5",
   "metadata": {},
   "outputs": [],
   "source": []
  },
  {
   "cell_type": "code",
   "execution_count": null,
   "id": "2ef18e4e",
   "metadata": {},
   "outputs": [],
   "source": []
  },
  {
   "cell_type": "code",
   "execution_count": null,
   "id": "28dcd6cd",
   "metadata": {},
   "outputs": [],
   "source": []
  },
  {
   "cell_type": "code",
   "execution_count": null,
   "id": "4483d2ea",
   "metadata": {},
   "outputs": [],
   "source": []
  },
  {
   "cell_type": "markdown",
   "id": "0608fadd",
   "metadata": {},
   "source": [
    "## Case 3: Feed in a Vector of Norms"
   ]
  },
  {
   "cell_type": "code",
   "execution_count": 66,
   "id": "7542d308",
   "metadata": {},
   "outputs": [
    {
     "ename": "AssertionError",
     "evalue": "",
     "output_type": "error",
     "traceback": [
      "\u001b[1;31m---------------------------------------------------------------------------\u001b[0m",
      "\u001b[1;31mAssertionError\u001b[0m                            Traceback (most recent call last)",
      "\u001b[1;32m~\\AppData\\Local\\Temp\\ipykernel_29388\\3481756770.py\u001b[0m in \u001b[0;36m<cell line: 1>\u001b[1;34m()\u001b[0m\n\u001b[1;32m----> 1\u001b[1;33m \u001b[1;32massert\u001b[0m\u001b[1;33m(\u001b[0m\u001b[1;36m1\u001b[0m\u001b[1;33m==\u001b[0m\u001b[1;36m0\u001b[0m\u001b[1;33m)\u001b[0m\u001b[1;33m\u001b[0m\u001b[1;33m\u001b[0m\u001b[0m\n\u001b[0m",
      "\u001b[1;31mAssertionError\u001b[0m: "
     ]
    }
   ],
   "source": [
    "assert(1==0)"
   ]
  },
  {
   "cell_type": "code",
   "execution_count": null,
   "id": "7628cde3",
   "metadata": {},
   "outputs": [],
   "source": [
    "#dec_vec_norm_df\n",
    "dec_vec_norm_input_df = dec_vec_norm_df.drop([\"Subject\",  \"Condition\"], axis=1)\n",
    "dec_vec_norm_input_df.head()"
   ]
  },
  {
   "cell_type": "markdown",
   "id": "2ad1627e",
   "metadata": {},
   "source": [
    "norm_label_df probably needs to be changed to a new variable... shouldn't have the same shape..."
   ]
  },
  {
   "cell_type": "code",
   "execution_count": null,
   "id": "d276c72b",
   "metadata": {},
   "outputs": [],
   "source": [
    "try:\n",
    "    X_train, y_train, X_test, y_test, X_val, y_val = train_test_val_split(dec_vec_norm_input_df, norm_label_df)\n",
    "except ValueError:\n",
    "    # You probably turned off validation so just remove the val sets\n",
    "    X_train, y_train, X_test, y_test = train_test_val_split(dec_vec_norm_input_df, norm_label_df)\n",
    "y_train = np.ravel(y_train)\n",
    "\n",
    "print(X_train.shape)\n",
    "X_train.head()"
   ]
  },
  {
   "cell_type": "code",
   "execution_count": null,
   "id": "cbc83ef0",
   "metadata": {},
   "outputs": [],
   "source": [
    "X_train2 = pd.DataFrame()\n",
    "X_test2 = pd.DataFrame()\n",
    "for my_row in range(X_train.shape[0]):\n",
    "    test=pd.DataFrame(X_train.iloc[my_row,0]).T\n",
    "    X_train2 = pd.concat((X_train2, test))\n",
    "    \n",
    "for my_row in range(X_test.shape[0]):\n",
    "    test=pd.DataFrame(X_test.iloc[my_row,0]).T\n",
    "    X_test2 = pd.concat((X_test2, test))\n",
    "X_train2.head()"
   ]
  },
  {
   "cell_type": "code",
   "execution_count": null,
   "id": "ec1b2486",
   "metadata": {},
   "outputs": [],
   "source": [
    "for model_num, model in enumerate(my_models):\n",
    "    print(f\"{model_num} of {len(my_models)}\")\n",
    "    norm_vec_res_df = train_model(model, X_train2, y_train, cv, norm_vec_res_df)"
   ]
  },
  {
   "cell_type": "code",
   "execution_count": null,
   "id": "c7e2ae4f",
   "metadata": {},
   "outputs": [],
   "source": [
    "norm_vec_res_df.head(100)"
   ]
  },
  {
   "cell_type": "markdown",
   "id": "fefeee78",
   "metadata": {},
   "source": [
    "## 2) Linking EEG Data to Patients"
   ]
  },
  {
   "cell_type": "markdown",
   "id": "20f93708",
   "metadata": {},
   "source": [
    "## Cluster Decoder Matrix Norms"
   ]
  },
  {
   "cell_type": "code",
   "execution_count": null,
   "id": "1243befe",
   "metadata": {},
   "outputs": [],
   "source": []
  }
 ],
 "metadata": {
  "kernelspec": {
   "display_name": "Python 3 (ipykernel)",
   "language": "python",
   "name": "python3"
  },
  "language_info": {
   "codemirror_mode": {
    "name": "ipython",
    "version": 3
   },
   "file_extension": ".py",
   "mimetype": "text/x-python",
   "name": "python",
   "nbconvert_exporter": "python",
   "pygments_lexer": "ipython3",
   "version": "3.9.13"
  }
 },
 "nbformat": 4,
 "nbformat_minor": 5
}
