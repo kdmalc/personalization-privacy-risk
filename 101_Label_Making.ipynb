{
 "cells": [
  {
   "cell_type": "markdown",
   "id": "d17f193d",
   "metadata": {},
   "source": [
    "> __Purpose:__ Create a couple of dataframes containing relevant information (eg one for EMG training data with EMG vectors, condition number, and update number), and then save them for later use so each subsequent NB doesn't have to go through this process."
   ]
  },
  {
   "cell_type": "code",
   "execution_count": 1,
   "id": "a61b3128",
   "metadata": {},
   "outputs": [],
   "source": [
    "import numpy as np\n",
    "import time\n",
    "import os\n",
    "import pandas as pd\n",
    "import pickle\n",
    "from experiment_params import *"
   ]
  },
  {
   "cell_type": "markdown",
   "id": "a850bb15",
   "metadata": {},
   "source": [
    "# Load In Data"
   ]
  },
  {
   "cell_type": "code",
   "execution_count": 2,
   "id": "f141f3e9",
   "metadata": {},
   "outputs": [],
   "source": [
    "with open('Data\\continuous_full_data_block1.pickle', 'rb') as handle:\n",
    "    #refs_block1, poss_block1, dec_vels_block1, int_vel_block1, emgs_block1, Ws_block1, Hs_block1, alphas_block1, pDs_block1, times_block1, conditions_block1 = pickle.load(handle)\n",
    "    _, _, _, _, emgs_block1, Ws_block1, _, _, _, times_block1, _ = pickle.load(handle)\n",
    "\n",
    "with open('Data\\continuous_full_data_block2.pickle', 'rb') as handle:\n",
    "    #refs_block2, poss_block2, dec_vels_block2, int_vel_block2, emgs_block2, Ws_block2, Hs_block2, alphas_block2, pDs_block2, times_block2, conditions_block2 = pickle.load(handle)\n",
    "    _, _, _, _, emgs_block2, Ws_block2, _, _, _, times_block2, _ = pickle.load(handle)"
   ]
  },
  {
   "cell_type": "code",
   "execution_count": 3,
   "id": "7a57ed11",
   "metadata": {},
   "outputs": [
    {
     "name": "stdout",
     "output_type": "stream",
     "text": [
      "update index in time indices\n",
      "[    0  1200  2402  3604  4806  6008  7210  8412  9614 10816 12018 13220\n",
      " 14422 15624 16826 18028 19230 20432 20769]\n",
      "\n",
      "update times in seconds\n",
      "[  0.          16.81372571  33.70942521  50.44435     67.45188546\n",
      "  84.74962473 101.82288647 118.90209508 136.32002926 153.7001555\n",
      " 170.77472734 188.02292895 205.35715556 222.46085095 239.64881945\n",
      " 256.75217056 274.14669037 291.41761136 296.34003878]\n",
      "\n",
      "update times in minutes\n",
      "[0.         0.28022876 0.56182375 0.84073917 1.12419809 1.41249375\n",
      " 1.69704811 1.98170158 2.27200049 2.56166926 2.84624546 3.13371548\n",
      " 3.42261926 3.70768085 3.99414699 4.27920284 4.56911151 4.85696019\n",
      " 4.93900065]\n",
      "\n",
      "time scale conversion (index --> seconds):  70.08502828627614\n"
     ]
    }
   ],
   "source": [
    "# trying to figure out how often decoder updates -- every 1202 samples\n",
    "\n",
    "W = Ws_block1[keys[0]][0]\n",
    "W[1:,:,:].shape # 7199 time points x (decoder dimensions is 2 x 6)\n",
    "dold = W[0]\n",
    "update_ix = []\n",
    "for ix,d in enumerate(W[1:]):\n",
    "    if (np.array_equal(dold,d)==False):\n",
    "        update_ix.append(ix)\n",
    "        dold = d\n",
    "\n",
    "update_ix.append(len(W) - 1) \n",
    "update_ix = np.asarray(update_ix)\n",
    "update_ix = np.hstack([[0],update_ix])\n",
    "print(\"update index in time indices\")\n",
    "print(update_ix)\n",
    "\n",
    "# only go up to 20432\n",
    "\n",
    "update_times = times_block1[keys[0]][0][update_ix]\n",
    "print(\"\")\n",
    "print(\"update times in seconds\")\n",
    "print(update_times)\n",
    "\n",
    "update_mins = update_times/60\n",
    "print(\"\")\n",
    "print(\"update times in minutes\")\n",
    "print(update_mins)\n",
    "\n",
    "tscale = update_ix[-1]/update_times[-1]\n",
    "print(\"\")\n",
    "print(\"time scale conversion (index --> seconds): \", tscale)"
   ]
  },
  {
   "cell_type": "code",
   "execution_count": 4,
   "id": "20f155f2",
   "metadata": {},
   "outputs": [],
   "source": [
    "#np.save(r\"Data\\update_ix.npy\", update_ix)"
   ]
  },
  {
   "cell_type": "markdown",
   "id": "5ee6826b",
   "metadata": {},
   "source": [
    "# Make Input and Label DFs"
   ]
  },
  {
   "cell_type": "code",
   "execution_count": 5,
   "id": "0ab83301",
   "metadata": {},
   "outputs": [
    {
     "name": "stdout",
     "output_type": "stream",
     "text": [
      "The subject keys are the labels\n",
      "['METACPHS_S106', 'METACPHS_S107', 'METACPHS_S108', 'METACPHS_S109', 'METACPHS_S110', 'METACPHS_S111', 'METACPHS_S112', 'METACPHS_S113', 'METACPHS_S114', 'METACPHS_S115', 'METACPHS_S116', 'METACPHS_S117', 'METACPHS_S118', 'METACPHS_S119']\n"
     ]
    }
   ],
   "source": [
    "print(\"The subject keys are the labels\")\n",
    "print(keys)"
   ]
  },
  {
   "cell_type": "code",
   "execution_count": 6,
   "id": "9581db6d",
   "metadata": {},
   "outputs": [
    {
     "name": "stdout",
     "output_type": "stream",
     "text": [
      "Processed EMG Data:\n",
      "(number of conditions, all data points, number of channels)\n",
      "(8, 20770, 64)\n"
     ]
    }
   ],
   "source": [
    "print(\"Processed EMG Data:\")\n",
    "print(\"(number of conditions, all data points, number of channels)\")\n",
    "print(emgs_block1[keys[0]].shape)"
   ]
  },
  {
   "cell_type": "code",
   "execution_count": 7,
   "id": "1461ca57",
   "metadata": {},
   "outputs": [
    {
     "name": "stdout",
     "output_type": "stream",
     "text": [
      "Decoder AKA Wiener Filter:\n",
      "(number of conditions, all data points, XY?, number of channels)\n",
      "(8, 20770, 2, 64)\n"
     ]
    }
   ],
   "source": [
    "print(\"Decoder AKA Wiener Filter:\")\n",
    "print(\"(number of conditions, all data points, XY?, number of channels)\")\n",
    "print(Ws_block1[keys[0]].shape)"
   ]
  },
  {
   "cell_type": "code",
   "execution_count": 8,
   "id": "0f101562",
   "metadata": {},
   "outputs": [],
   "source": [
    "emg_labels_df1 = pd.DataFrame(columns=[\"Subject\", \"Condition\", \"Channel\"])\n",
    "emg_data_df1 = pd.DataFrame()\n",
    "dec_norms_df1 = pd.DataFrame(columns=[\"Subject\", \"Condition\", \"Update Number\", \"Frobenius Norm\"])\n",
    "dec_flattened_df1 = pd.DataFrame(columns=[\"Subject\", \"Condition\", \"Update Number\", \"Flattened Decoder\"])"
   ]
  },
  {
   "cell_type": "code",
   "execution_count": 9,
   "id": "4607eab7",
   "metadata": {},
   "outputs": [
    {
     "name": "stdout",
     "output_type": "stream",
     "text": [
      "1269.2716588974\n"
     ]
    }
   ],
   "source": [
    "t0 = time.time()\n",
    "\n",
    "for key in keys:\n",
    "    patient_emgs = emgs_block1[key]\n",
    "    patient_dec = Ws_block1[key]\n",
    "    \n",
    "    for my_cond in range(num_conds):\n",
    "        for my_channel in range(num_channels):\n",
    "            emg_labels_df1.loc[len(emg_labels_df1)] = [key, my_cond, my_channel]\n",
    "            # Ought to make sure all of these are the same length...\n",
    "            emg_data_df1 = pd.concat([emg_data_df1, pd.DataFrame(patient_emgs[my_cond, :, my_channel]).transpose()], ignore_index=True)\n",
    "            \n",
    "        for update_number, update_idx in enumerate(update_ix):\n",
    "            dec_norms_df1.loc[len(dec_norms_df1)] = [key, my_cond, update_number, np.linalg.norm(patient_dec[my_cond, update_idx, :, :])]\n",
    "            dec_flattened_df1.loc[len(dec_flattened_df1)] = [key, my_cond, update_number, np.ravel(patient_dec[my_cond, update_idx, :, :])]\n",
    "\n",
    "t1 = time.time()\n",
    "total = t1-t0  \n",
    "print(total)"
   ]
  },
  {
   "cell_type": "code",
   "execution_count": 10,
   "id": "4c87b437",
   "metadata": {},
   "outputs": [
    {
     "name": "stdout",
     "output_type": "stream",
     "text": [
      "(7168, 20770)\n"
     ]
    },
    {
     "data": {
      "text/html": [
       "<div>\n",
       "<style scoped>\n",
       "    .dataframe tbody tr th:only-of-type {\n",
       "        vertical-align: middle;\n",
       "    }\n",
       "\n",
       "    .dataframe tbody tr th {\n",
       "        vertical-align: top;\n",
       "    }\n",
       "\n",
       "    .dataframe thead th {\n",
       "        text-align: right;\n",
       "    }\n",
       "</style>\n",
       "<table border=\"1\" class=\"dataframe\">\n",
       "  <thead>\n",
       "    <tr style=\"text-align: right;\">\n",
       "      <th></th>\n",
       "      <th>0</th>\n",
       "      <th>1</th>\n",
       "      <th>2</th>\n",
       "      <th>3</th>\n",
       "      <th>4</th>\n",
       "      <th>5</th>\n",
       "      <th>6</th>\n",
       "      <th>7</th>\n",
       "      <th>8</th>\n",
       "      <th>9</th>\n",
       "      <th>...</th>\n",
       "      <th>20760</th>\n",
       "      <th>20761</th>\n",
       "      <th>20762</th>\n",
       "      <th>20763</th>\n",
       "      <th>20764</th>\n",
       "      <th>20765</th>\n",
       "      <th>20766</th>\n",
       "      <th>20767</th>\n",
       "      <th>20768</th>\n",
       "      <th>20769</th>\n",
       "    </tr>\n",
       "  </thead>\n",
       "  <tbody>\n",
       "    <tr>\n",
       "      <th>0</th>\n",
       "      <td>0.0</td>\n",
       "      <td>0.0</td>\n",
       "      <td>0.0</td>\n",
       "      <td>10.778148</td>\n",
       "      <td>10.778148</td>\n",
       "      <td>10.778148</td>\n",
       "      <td>26.874088</td>\n",
       "      <td>43.189501</td>\n",
       "      <td>43.189501</td>\n",
       "      <td>38.594581</td>\n",
       "      <td>...</td>\n",
       "      <td>54.343173</td>\n",
       "      <td>54.343173</td>\n",
       "      <td>53.363208</td>\n",
       "      <td>53.363208</td>\n",
       "      <td>53.363208</td>\n",
       "      <td>53.363208</td>\n",
       "      <td>59.557374</td>\n",
       "      <td>59.557374</td>\n",
       "      <td>59.557374</td>\n",
       "      <td>55.634152</td>\n",
       "    </tr>\n",
       "    <tr>\n",
       "      <th>1</th>\n",
       "      <td>0.0</td>\n",
       "      <td>0.0</td>\n",
       "      <td>0.0</td>\n",
       "      <td>9.891218</td>\n",
       "      <td>9.891218</td>\n",
       "      <td>9.891218</td>\n",
       "      <td>23.589349</td>\n",
       "      <td>36.477933</td>\n",
       "      <td>36.477933</td>\n",
       "      <td>31.296507</td>\n",
       "      <td>...</td>\n",
       "      <td>79.894291</td>\n",
       "      <td>79.894291</td>\n",
       "      <td>86.860329</td>\n",
       "      <td>86.860329</td>\n",
       "      <td>86.860329</td>\n",
       "      <td>86.860329</td>\n",
       "      <td>71.319955</td>\n",
       "      <td>71.319955</td>\n",
       "      <td>71.319955</td>\n",
       "      <td>56.606641</td>\n",
       "    </tr>\n",
       "    <tr>\n",
       "      <th>2</th>\n",
       "      <td>0.0</td>\n",
       "      <td>0.0</td>\n",
       "      <td>0.0</td>\n",
       "      <td>1.606057</td>\n",
       "      <td>1.606057</td>\n",
       "      <td>1.606057</td>\n",
       "      <td>8.623857</td>\n",
       "      <td>15.845217</td>\n",
       "      <td>15.845217</td>\n",
       "      <td>17.957593</td>\n",
       "      <td>...</td>\n",
       "      <td>89.500295</td>\n",
       "      <td>89.500295</td>\n",
       "      <td>84.266738</td>\n",
       "      <td>84.266738</td>\n",
       "      <td>84.266738</td>\n",
       "      <td>84.266738</td>\n",
       "      <td>71.979639</td>\n",
       "      <td>71.979639</td>\n",
       "      <td>71.979639</td>\n",
       "      <td>65.918534</td>\n",
       "    </tr>\n",
       "    <tr>\n",
       "      <th>3</th>\n",
       "      <td>0.0</td>\n",
       "      <td>0.0</td>\n",
       "      <td>0.0</td>\n",
       "      <td>3.668527</td>\n",
       "      <td>3.668527</td>\n",
       "      <td>3.668527</td>\n",
       "      <td>7.165376</td>\n",
       "      <td>11.628290</td>\n",
       "      <td>11.628290</td>\n",
       "      <td>15.308951</td>\n",
       "      <td>...</td>\n",
       "      <td>68.943668</td>\n",
       "      <td>68.943668</td>\n",
       "      <td>66.983974</td>\n",
       "      <td>66.983974</td>\n",
       "      <td>66.983974</td>\n",
       "      <td>66.983974</td>\n",
       "      <td>64.104558</td>\n",
       "      <td>64.104558</td>\n",
       "      <td>64.104558</td>\n",
       "      <td>61.848159</td>\n",
       "    </tr>\n",
       "    <tr>\n",
       "      <th>4</th>\n",
       "      <td>0.0</td>\n",
       "      <td>0.0</td>\n",
       "      <td>0.0</td>\n",
       "      <td>1.411810</td>\n",
       "      <td>1.411810</td>\n",
       "      <td>1.411810</td>\n",
       "      <td>9.707134</td>\n",
       "      <td>15.677262</td>\n",
       "      <td>15.677262</td>\n",
       "      <td>18.922410</td>\n",
       "      <td>...</td>\n",
       "      <td>43.565918</td>\n",
       "      <td>43.565918</td>\n",
       "      <td>42.343590</td>\n",
       "      <td>42.343590</td>\n",
       "      <td>42.343590</td>\n",
       "      <td>42.343590</td>\n",
       "      <td>42.235306</td>\n",
       "      <td>42.235306</td>\n",
       "      <td>42.235306</td>\n",
       "      <td>41.818073</td>\n",
       "    </tr>\n",
       "  </tbody>\n",
       "</table>\n",
       "<p>5 rows × 20770 columns</p>\n",
       "</div>"
      ],
      "text/plain": [
       "   0      1      2          3          4          5          6          7      \\\n",
       "0    0.0    0.0    0.0  10.778148  10.778148  10.778148  26.874088  43.189501   \n",
       "1    0.0    0.0    0.0   9.891218   9.891218   9.891218  23.589349  36.477933   \n",
       "2    0.0    0.0    0.0   1.606057   1.606057   1.606057   8.623857  15.845217   \n",
       "3    0.0    0.0    0.0   3.668527   3.668527   3.668527   7.165376  11.628290   \n",
       "4    0.0    0.0    0.0   1.411810   1.411810   1.411810   9.707134  15.677262   \n",
       "\n",
       "       8          9      ...      20760      20761      20762      20763  \\\n",
       "0  43.189501  38.594581  ...  54.343173  54.343173  53.363208  53.363208   \n",
       "1  36.477933  31.296507  ...  79.894291  79.894291  86.860329  86.860329   \n",
       "2  15.845217  17.957593  ...  89.500295  89.500295  84.266738  84.266738   \n",
       "3  11.628290  15.308951  ...  68.943668  68.943668  66.983974  66.983974   \n",
       "4  15.677262  18.922410  ...  43.565918  43.565918  42.343590  42.343590   \n",
       "\n",
       "       20764      20765      20766      20767      20768      20769  \n",
       "0  53.363208  53.363208  59.557374  59.557374  59.557374  55.634152  \n",
       "1  86.860329  86.860329  71.319955  71.319955  71.319955  56.606641  \n",
       "2  84.266738  84.266738  71.979639  71.979639  71.979639  65.918534  \n",
       "3  66.983974  66.983974  64.104558  64.104558  64.104558  61.848159  \n",
       "4  42.343590  42.343590  42.235306  42.235306  42.235306  41.818073  \n",
       "\n",
       "[5 rows x 20770 columns]"
      ]
     },
     "execution_count": 10,
     "metadata": {},
     "output_type": "execute_result"
    }
   ],
   "source": [
    "print(emg_data_df1.shape)\n",
    "emg_data_df1.head()"
   ]
  },
  {
   "cell_type": "code",
   "execution_count": 11,
   "id": "3ad1bcc6",
   "metadata": {
    "scrolled": true
   },
   "outputs": [
    {
     "name": "stdout",
     "output_type": "stream",
     "text": [
      "(7168, 3)\n"
     ]
    },
    {
     "data": {
      "text/html": [
       "<div>\n",
       "<style scoped>\n",
       "    .dataframe tbody tr th:only-of-type {\n",
       "        vertical-align: middle;\n",
       "    }\n",
       "\n",
       "    .dataframe tbody tr th {\n",
       "        vertical-align: top;\n",
       "    }\n",
       "\n",
       "    .dataframe thead th {\n",
       "        text-align: right;\n",
       "    }\n",
       "</style>\n",
       "<table border=\"1\" class=\"dataframe\">\n",
       "  <thead>\n",
       "    <tr style=\"text-align: right;\">\n",
       "      <th></th>\n",
       "      <th>Subject</th>\n",
       "      <th>Condition</th>\n",
       "      <th>Channel</th>\n",
       "    </tr>\n",
       "  </thead>\n",
       "  <tbody>\n",
       "    <tr>\n",
       "      <th>0</th>\n",
       "      <td>METACPHS_S106</td>\n",
       "      <td>0</td>\n",
       "      <td>0</td>\n",
       "    </tr>\n",
       "    <tr>\n",
       "      <th>1</th>\n",
       "      <td>METACPHS_S106</td>\n",
       "      <td>0</td>\n",
       "      <td>1</td>\n",
       "    </tr>\n",
       "    <tr>\n",
       "      <th>2</th>\n",
       "      <td>METACPHS_S106</td>\n",
       "      <td>0</td>\n",
       "      <td>2</td>\n",
       "    </tr>\n",
       "    <tr>\n",
       "      <th>3</th>\n",
       "      <td>METACPHS_S106</td>\n",
       "      <td>0</td>\n",
       "      <td>3</td>\n",
       "    </tr>\n",
       "    <tr>\n",
       "      <th>4</th>\n",
       "      <td>METACPHS_S106</td>\n",
       "      <td>0</td>\n",
       "      <td>4</td>\n",
       "    </tr>\n",
       "  </tbody>\n",
       "</table>\n",
       "</div>"
      ],
      "text/plain": [
       "         Subject  Condition  Channel\n",
       "0  METACPHS_S106          0        0\n",
       "1  METACPHS_S106          0        1\n",
       "2  METACPHS_S106          0        2\n",
       "3  METACPHS_S106          0        3\n",
       "4  METACPHS_S106          0        4"
      ]
     },
     "execution_count": 11,
     "metadata": {},
     "output_type": "execute_result"
    }
   ],
   "source": [
    "print(emg_labels_df1.shape)\n",
    "emg_labels_df1.head()"
   ]
  },
  {
   "cell_type": "code",
   "execution_count": 12,
   "id": "53ade3fa",
   "metadata": {},
   "outputs": [
    {
     "name": "stdout",
     "output_type": "stream",
     "text": [
      "(2128, 4)\n"
     ]
    },
    {
     "data": {
      "text/html": [
       "<div>\n",
       "<style scoped>\n",
       "    .dataframe tbody tr th:only-of-type {\n",
       "        vertical-align: middle;\n",
       "    }\n",
       "\n",
       "    .dataframe tbody tr th {\n",
       "        vertical-align: top;\n",
       "    }\n",
       "\n",
       "    .dataframe thead th {\n",
       "        text-align: right;\n",
       "    }\n",
       "</style>\n",
       "<table border=\"1\" class=\"dataframe\">\n",
       "  <thead>\n",
       "    <tr style=\"text-align: right;\">\n",
       "      <th></th>\n",
       "      <th>Subject</th>\n",
       "      <th>Condition</th>\n",
       "      <th>Update Number</th>\n",
       "      <th>Frobenius Norm</th>\n",
       "    </tr>\n",
       "  </thead>\n",
       "  <tbody>\n",
       "    <tr>\n",
       "      <th>0</th>\n",
       "      <td>METACPHS_S106</td>\n",
       "      <td>0</td>\n",
       "      <td>0</td>\n",
       "      <td>0.066360</td>\n",
       "    </tr>\n",
       "    <tr>\n",
       "      <th>1</th>\n",
       "      <td>METACPHS_S106</td>\n",
       "      <td>0</td>\n",
       "      <td>1</td>\n",
       "      <td>0.066360</td>\n",
       "    </tr>\n",
       "    <tr>\n",
       "      <th>2</th>\n",
       "      <td>METACPHS_S106</td>\n",
       "      <td>0</td>\n",
       "      <td>2</td>\n",
       "      <td>9.709390</td>\n",
       "    </tr>\n",
       "    <tr>\n",
       "      <th>3</th>\n",
       "      <td>METACPHS_S106</td>\n",
       "      <td>0</td>\n",
       "      <td>3</td>\n",
       "      <td>8.209080</td>\n",
       "    </tr>\n",
       "    <tr>\n",
       "      <th>4</th>\n",
       "      <td>METACPHS_S106</td>\n",
       "      <td>0</td>\n",
       "      <td>4</td>\n",
       "      <td>10.406943</td>\n",
       "    </tr>\n",
       "  </tbody>\n",
       "</table>\n",
       "</div>"
      ],
      "text/plain": [
       "         Subject  Condition  Update Number  Frobenius Norm\n",
       "0  METACPHS_S106          0              0        0.066360\n",
       "1  METACPHS_S106          0              1        0.066360\n",
       "2  METACPHS_S106          0              2        9.709390\n",
       "3  METACPHS_S106          0              3        8.209080\n",
       "4  METACPHS_S106          0              4       10.406943"
      ]
     },
     "execution_count": 12,
     "metadata": {},
     "output_type": "execute_result"
    }
   ],
   "source": [
    "print(dec_norms_df1.shape)\n",
    "dec_norms_df1.head()"
   ]
  },
  {
   "cell_type": "markdown",
   "id": "b81abf54",
   "metadata": {},
   "source": [
    "## Repeat for Block2"
   ]
  },
  {
   "cell_type": "code",
   "execution_count": 13,
   "id": "3a6edf1e",
   "metadata": {},
   "outputs": [],
   "source": [
    "emg_data_df2 = pd.DataFrame()\n",
    "emg_labels_df2 = pd.DataFrame(columns=[\"Subject\", \"Condition\", \"Channel\"])\n",
    "dec_norms_df2 = pd.DataFrame(columns=[\"Subject\", \"Condition\", \"Update Number\", \"Frobenius Norm\"])\n",
    "dec_flattened_df2 = pd.DataFrame(columns=[\"Subject\", \"Condition\", \"Update Number\", \"Flattened Decoder\"])"
   ]
  },
  {
   "cell_type": "code",
   "execution_count": 14,
   "id": "99b12937",
   "metadata": {},
   "outputs": [
    {
     "name": "stdout",
     "output_type": "stream",
     "text": [
      "1816.7099251747131\n"
     ]
    }
   ],
   "source": [
    "t0 = time.time()\n",
    "\n",
    "for key in keys:\n",
    "    patient_emgs = emgs_block2[key]\n",
    "    patient_dec = Ws_block2[key]\n",
    "    \n",
    "    for my_cond in range(num_conds):\n",
    "        for my_channel in range(num_channels):\n",
    "            emg_labels_df2.loc[len(emg_labels_df2)] = [key, my_cond, my_channel]\n",
    "            # Ought to make sure all of these are the same length...\n",
    "            emg_data_df2 = pd.concat([emg_data_df2, pd.DataFrame(patient_emgs[my_cond, :, my_channel]).transpose()], ignore_index=True)\n",
    "            \n",
    "        for update_number, update_idx in enumerate(update_ix):\n",
    "            dec_norms_df2.loc[len(dec_norms_df2)] = [key, my_cond, update_number, np.linalg.norm(patient_dec[my_cond, update_idx, :, :])]\n",
    "            dec_flattened_df2.loc[len(dec_flattened_df2)] = [key, my_cond, update_number, np.ravel(patient_dec[my_cond, update_idx, :, :])]\n",
    "\n",
    "t1 = time.time()\n",
    "total = t1-t0  \n",
    "print(total)"
   ]
  },
  {
   "cell_type": "markdown",
   "id": "57ccd019",
   "metadata": {},
   "source": [
    "## Save Data"
   ]
  },
  {
   "cell_type": "code",
   "execution_count": 15,
   "id": "172b121a",
   "metadata": {},
   "outputs": [],
   "source": [
    "emg_data_df1.to_csv(\"Data\\emg_full_data1.csv\")\n",
    "emg_labels_df1.to_csv(\"Data\\emg_full_labels1.csv\")\n",
    "dec_norms_df1.to_csv(\"Data\\decoder_full_norms1.csv\")\n",
    "\n",
    "emg_data_df2.to_csv(\"Data\\emg_full_data2.csv\")\n",
    "emg_labels_df2.to_csv(\"Data\\emg_full_labels2.csv\")\n",
    "dec_norms_df2.to_csv(\"Data\\decoder_full_norms2.csv\")\n",
    "\n",
    "dec_flattened_df1.to_csv(\"Data\\dec_full_flattened_df1.csv\")\n",
    "dec_flattened_df2.to_csv(\"Data\\dec_full_flattened_df2.csv\")"
   ]
  },
  {
   "cell_type": "code",
   "execution_count": null,
   "id": "c485bc46",
   "metadata": {},
   "outputs": [],
   "source": []
  }
 ],
 "metadata": {
  "kernelspec": {
   "display_name": "Python 3 (ipykernel)",
   "language": "python",
   "name": "python3"
  },
  "language_info": {
   "codemirror_mode": {
    "name": "ipython",
    "version": 3
   },
   "file_extension": ".py",
   "mimetype": "text/x-python",
   "name": "python",
   "nbconvert_exporter": "python",
   "pygments_lexer": "ipython3",
   "version": "3.7.3"
  }
 },
 "nbformat": 4,
 "nbformat_minor": 5
}
