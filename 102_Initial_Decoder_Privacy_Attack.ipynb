{
 "cells": [
  {
   "cell_type": "markdown",
   "id": "d17f193d",
   "metadata": {},
   "source": [
    "> __Purpose:__ Implement an initial privacy attack to quantify how much re-identiifcation and linkability risk exists from personalization parameters (the decoder used in the co-adaptation algorithm). Thus, implement a basic ML model to link the decoder matrices back to the corresponding subject.  \n",
    "\n",
    "- 14 Subjects, therefore random guessing would be 7.14% correct on average"
   ]
  },
  {
   "cell_type": "code",
   "execution_count": 1,
   "id": "a61b3128",
   "metadata": {},
   "outputs": [],
   "source": [
    "import numpy as np\n",
    "import matplotlib.pyplot as plt\n",
    "# import seaborn\n",
    "import time\n",
    "import pandas as pd\n",
    "import pickle\n",
    "import random\n",
    "from kcs_ml_infr import *\n",
    "\n",
    "random.seed(a=1)"
   ]
  },
  {
   "cell_type": "markdown",
   "id": "a850bb15",
   "metadata": {},
   "source": [
    "# Load In Data"
   ]
  },
  {
   "cell_type": "markdown",
   "id": "fe2c31d3",
   "metadata": {},
   "source": [
    "I'm just making the flatten array input DF here"
   ]
  },
  {
   "cell_type": "code",
   "execution_count": 4,
   "id": "68df6d9d",
   "metadata": {},
   "outputs": [
    {
     "data": {
      "text/html": [
       "<div>\n",
       "<style scoped>\n",
       "    .dataframe tbody tr th:only-of-type {\n",
       "        vertical-align: middle;\n",
       "    }\n",
       "\n",
       "    .dataframe tbody tr th {\n",
       "        vertical-align: top;\n",
       "    }\n",
       "\n",
       "    .dataframe thead th {\n",
       "        text-align: right;\n",
       "    }\n",
       "</style>\n",
       "<table border=\"1\" class=\"dataframe\">\n",
       "  <thead>\n",
       "    <tr style=\"text-align: right;\">\n",
       "      <th></th>\n",
       "      <th>Subject</th>\n",
       "      <th>Condition</th>\n",
       "      <th>Update Number</th>\n",
       "      <th>Flattened Decoder</th>\n",
       "    </tr>\n",
       "  </thead>\n",
       "  <tbody>\n",
       "  </tbody>\n",
       "</table>\n",
       "</div>"
      ],
      "text/plain": [
       "Empty DataFrame\n",
       "Columns: [Subject, Condition, Update Number, Flattened Decoder]\n",
       "Index: []"
      ]
     },
     "execution_count": 4,
     "metadata": {},
     "output_type": "execute_result"
    }
   ],
   "source": [
    "num_conds = 8\n",
    "\n",
    "keys = ['METACPHS_S106', 'METACPHS_S107','METACPHS_S108', 'METACPHS_S109', 'METACPHS_S110', 'METACPHS_S111', 'METACPHS_S112']\n",
    "\n",
    "update_ix = np.load(r\"Data\\update_ix.npy\")\n",
    "print(update_ix.shape)\n",
    "print(update_ix)\n",
    "\n",
    "dec_flattened_df1 = pd.read_csv(\"Data\\full_dec_flattened_df1.csv\")\n",
    "dec_flattened_df2 = pd.read_csv(\"Data\\full_dec_flattened_df2.csv\")\n",
    "\n",
    "dec_norms_df1 = pd.read_csv(\"Data\\decoder_full_norms1.csv\")\n",
    "dec_norms_df2 = pd.read_csv(\"Data\\decoder_full_norms2.csv\")"
   ]
  },
  {
   "cell_type": "code",
   "execution_count": 7,
   "id": "d045a760",
   "metadata": {},
   "outputs": [],
   "source": [
    "dec_norms_df = pd.concat((dec_norms_df1, dec_norms_df2))\n",
    "dec_flattened_df = pd.concat((dec_flattened_df1, dec_flattened_df2))\n",
    "\n",
    "# This one isn't working yet\n",
    "#dec_vec_norm_df = pd.concat((dec_vec_norm_df1, dec_vec_norm_df2))"
   ]
  },
  {
   "cell_type": "code",
   "execution_count": 8,
   "id": "53ade3fa",
   "metadata": {},
   "outputs": [
    {
     "name": "stdout",
     "output_type": "stream",
     "text": [
      "(2128, 5)\n"
     ]
    },
    {
     "data": {
      "text/html": [
       "<div>\n",
       "<style scoped>\n",
       "    .dataframe tbody tr th:only-of-type {\n",
       "        vertical-align: middle;\n",
       "    }\n",
       "\n",
       "    .dataframe tbody tr th {\n",
       "        vertical-align: top;\n",
       "    }\n",
       "\n",
       "    .dataframe thead th {\n",
       "        text-align: right;\n",
       "    }\n",
       "</style>\n",
       "<table border=\"1\" class=\"dataframe\">\n",
       "  <thead>\n",
       "    <tr style=\"text-align: right;\">\n",
       "      <th></th>\n",
       "      <th>Subject</th>\n",
       "      <th>Condition</th>\n",
       "      <th>Update Number</th>\n",
       "      <th>Frobenius Norm</th>\n",
       "    </tr>\n",
       "  </thead>\n",
       "  <tbody>\n",
       "    <tr>\n",
       "      <th>0</th>\n",
       "      <td>METACPHS_S106</td>\n",
       "      <td>0</td>\n",
       "      <td>0</td>\n",
       "      <td>0.066360</td>\n",
       "    </tr>\n",
       "    <tr>\n",
       "      <th>1</th>\n",
       "      <td>METACPHS_S106</td>\n",
       "      <td>0</td>\n",
       "      <td>1</td>\n",
       "      <td>0.066360</td>\n",
       "    </tr>\n",
       "    <tr>\n",
       "      <th>2</th>\n",
       "      <td>METACPHS_S106</td>\n",
       "      <td>0</td>\n",
       "      <td>2</td>\n",
       "      <td>9.709390</td>\n",
       "    </tr>\n",
       "    <tr>\n",
       "      <th>3</th>\n",
       "      <td>METACPHS_S106</td>\n",
       "      <td>0</td>\n",
       "      <td>3</td>\n",
       "      <td>8.209080</td>\n",
       "    </tr>\n",
       "    <tr>\n",
       "      <th>4</th>\n",
       "      <td>METACPHS_S106</td>\n",
       "      <td>0</td>\n",
       "      <td>4</td>\n",
       "      <td>10.406943</td>\n",
       "    </tr>\n",
       "  </tbody>\n",
       "</table>\n",
       "</div>"
      ],
      "text/plain": [
       "         Subject  Condition  Update Number  Frobenius Norm\n",
       "0  METACPHS_S106          0              0        0.066360\n",
       "1  METACPHS_S106          0              1        0.066360\n",
       "2  METACPHS_S106          0              2        9.709390\n",
       "3  METACPHS_S106          0              3        8.209080\n",
       "4  METACPHS_S106          0              4       10.406943"
      ]
     },
     "execution_count": 8,
     "metadata": {},
     "output_type": "execute_result"
    }
   ],
   "source": [
    "print(dec_norms_df.shape)\n",
    "dec_norms_df.drop('Unnamed: 0', axis=1, inplace=True)\n",
    "dec_norms_df.head()"
   ]
  },
  {
   "cell_type": "code",
   "execution_count": 9,
   "id": "f60ea530",
   "metadata": {},
   "outputs": [
    {
     "name": "stdout",
     "output_type": "stream",
     "text": [
      "(2128, 4)\n"
     ]
    },
    {
     "data": {
      "text/html": [
       "<div>\n",
       "<style scoped>\n",
       "    .dataframe tbody tr th:only-of-type {\n",
       "        vertical-align: middle;\n",
       "    }\n",
       "\n",
       "    .dataframe tbody tr th {\n",
       "        vertical-align: top;\n",
       "    }\n",
       "\n",
       "    .dataframe thead th {\n",
       "        text-align: right;\n",
       "    }\n",
       "</style>\n",
       "<table border=\"1\" class=\"dataframe\">\n",
       "  <thead>\n",
       "    <tr style=\"text-align: right;\">\n",
       "      <th></th>\n",
       "      <th>Subject</th>\n",
       "      <th>Condition</th>\n",
       "      <th>Update Number</th>\n",
       "      <th>Flattened Decoder</th>\n",
       "    </tr>\n",
       "  </thead>\n",
       "  <tbody>\n",
       "    <tr>\n",
       "      <th>0</th>\n",
       "      <td>METACPHS_S106</td>\n",
       "      <td>0</td>\n",
       "      <td>0</td>\n",
       "      <td>[0.002722144351611262, 0.002605931562722017, 0...</td>\n",
       "    </tr>\n",
       "    <tr>\n",
       "      <th>1</th>\n",
       "      <td>METACPHS_S106</td>\n",
       "      <td>0</td>\n",
       "      <td>1</td>\n",
       "      <td>[0.002722144351611262, 0.002605931562722017, 0...</td>\n",
       "    </tr>\n",
       "    <tr>\n",
       "      <th>2</th>\n",
       "      <td>METACPHS_S106</td>\n",
       "      <td>0</td>\n",
       "      <td>2</td>\n",
       "      <td>[-0.34157085409453486, 0.08410593293763585, -0...</td>\n",
       "    </tr>\n",
       "    <tr>\n",
       "      <th>3</th>\n",
       "      <td>METACPHS_S106</td>\n",
       "      <td>0</td>\n",
       "      <td>3</td>\n",
       "      <td>[-0.1738624752800762, 0.003705171262358347, 0....</td>\n",
       "    </tr>\n",
       "    <tr>\n",
       "      <th>4</th>\n",
       "      <td>METACPHS_S106</td>\n",
       "      <td>0</td>\n",
       "      <td>4</td>\n",
       "      <td>[0.8321061501817386, -1.3261242289666402, 0.28...</td>\n",
       "    </tr>\n",
       "  </tbody>\n",
       "</table>\n",
       "</div>"
      ],
      "text/plain": [
       "         Subject  Condition  Update Number  \\\n",
       "0  METACPHS_S106          0              0   \n",
       "1  METACPHS_S106          0              1   \n",
       "2  METACPHS_S106          0              2   \n",
       "3  METACPHS_S106          0              3   \n",
       "4  METACPHS_S106          0              4   \n",
       "\n",
       "                                   Flattened Decoder  \n",
       "0  [0.002722144351611262, 0.002605931562722017, 0...  \n",
       "1  [0.002722144351611262, 0.002605931562722017, 0...  \n",
       "2  [-0.34157085409453486, 0.08410593293763585, -0...  \n",
       "3  [-0.1738624752800762, 0.003705171262358347, 0....  \n",
       "4  [0.8321061501817386, -1.3261242289666402, 0.28...  "
      ]
     },
     "execution_count": 9,
     "metadata": {},
     "output_type": "execute_result"
    }
   ],
   "source": [
    "print(dec_flattened_df.shape)\n",
    "dec_flattened_df.head()"
   ]
  },
  {
   "cell_type": "markdown",
   "id": "3814ddf7",
   "metadata": {},
   "source": [
    "# Classification\n",
    "1. Logistic Regression\n",
    "2. K-Nearest Neighbor\n",
    "3. Gaussian Naive Bayes\n",
    "4. Linear SVC\n",
    "5. Stochastic Gradient Descent\n",
    "6. Decision Tree Classifier\n",
    "7. Gradient Boosting Trees"
   ]
  },
  {
   "cell_type": "code",
   "execution_count": 10,
   "id": "e4dca181",
   "metadata": {},
   "outputs": [],
   "source": [
    "# Machine learning\n",
    "from sklearn.model_selection import train_test_split\n",
    "from sklearn import model_selection, tree, preprocessing, metrics, linear_model\n",
    "from sklearn.svm import LinearSVC\n",
    "from sklearn.ensemble import GradientBoostingClassifier\n",
    "from sklearn.neighbors import KNeighborsClassifier\n",
    "from sklearn.naive_bayes import GaussianNB\n",
    "from sklearn.linear_model import LogisticRegression, SGDClassifier\n",
    "from sklearn.tree import DecisionTreeClassifier"
   ]
  },
  {
   "cell_type": "code",
   "execution_count": 11,
   "id": "eef01e6c",
   "metadata": {},
   "outputs": [],
   "source": [
    "# Set the number of k-folds\n",
    "cv = 10"
   ]
  },
  {
   "cell_type": "markdown",
   "id": "da43530f",
   "metadata": {},
   "source": [
    "## 1) Linking Matrix Norms to Participants"
   ]
  },
  {
   "cell_type": "code",
   "execution_count": 12,
   "id": "64e331aa",
   "metadata": {},
   "outputs": [],
   "source": [
    "norm_label_df = dec_norms_df.drop([\"Condition\", \"Update Number\", \"Frobenius Norm\"], axis=1)"
   ]
  },
  {
   "cell_type": "code",
   "execution_count": 13,
   "id": "8a4b7877",
   "metadata": {},
   "outputs": [],
   "source": [
    "key_to_num = dict()\n",
    "num_to_key = dict()\n",
    "for idx, key in enumerate(keys):\n",
    "    key_to_num[key] = idx\n",
    "    num_to_key[idx] = key"
   ]
  },
  {
   "cell_type": "code",
   "execution_count": 14,
   "id": "ab3af1aa",
   "metadata": {},
   "outputs": [
    {
     "data": {
      "text/html": [
       "<div>\n",
       "<style scoped>\n",
       "    .dataframe tbody tr th:only-of-type {\n",
       "        vertical-align: middle;\n",
       "    }\n",
       "\n",
       "    .dataframe tbody tr th {\n",
       "        vertical-align: top;\n",
       "    }\n",
       "\n",
       "    .dataframe thead th {\n",
       "        text-align: right;\n",
       "    }\n",
       "</style>\n",
       "<table border=\"1\" class=\"dataframe\">\n",
       "  <thead>\n",
       "    <tr style=\"text-align: right;\">\n",
       "      <th></th>\n",
       "      <th>Subject</th>\n",
       "    </tr>\n",
       "  </thead>\n",
       "  <tbody>\n",
       "    <tr>\n",
       "      <th>0</th>\n",
       "      <td>0</td>\n",
       "    </tr>\n",
       "    <tr>\n",
       "      <th>1</th>\n",
       "      <td>0</td>\n",
       "    </tr>\n",
       "    <tr>\n",
       "      <th>2</th>\n",
       "      <td>0</td>\n",
       "    </tr>\n",
       "    <tr>\n",
       "      <th>3</th>\n",
       "      <td>0</td>\n",
       "    </tr>\n",
       "    <tr>\n",
       "      <th>4</th>\n",
       "      <td>0</td>\n",
       "    </tr>\n",
       "  </tbody>\n",
       "</table>\n",
       "</div>"
      ],
      "text/plain": [
       "   Subject\n",
       "0        0\n",
       "1        0\n",
       "2        0\n",
       "3        0\n",
       "4        0"
      ]
     },
     "execution_count": 14,
     "metadata": {},
     "output_type": "execute_result"
    }
   ],
   "source": [
    "norm_label_df[\"Subject\"] = norm_label_df[\"Subject\"].map(key_to_num)\n",
    "norm_label_df.head()"
   ]
  },
  {
   "cell_type": "code",
   "execution_count": 15,
   "id": "3dc4481b",
   "metadata": {},
   "outputs": [],
   "source": [
    "# Result logs\n",
    "my_metrics_cols = ['Algorithm', 'One Off Acc', 'CV Acc', 'K Folds']\n",
    "res_df = pd.DataFrame(columns=my_metrics_cols)\n",
    "\n",
    "norm1d_res_df = pd.DataFrame(columns=my_metrics_cols)\n",
    "SSnorm1d_res_df = pd.DataFrame(columns=my_metrics_cols)\n",
    "flatten_dec_res_df = pd.DataFrame(columns=my_metrics_cols)\n",
    "SSflatten_dec_res_df = pd.DataFrame(columns=my_metrics_cols)\n",
    "norm_vec_res_df = pd.DataFrame(columns=my_metrics_cols)\n",
    "SSnorm_vec_res_df = pd.DataFrame(columns=my_metrics_cols)"
   ]
  },
  {
   "cell_type": "code",
   "execution_count": 16,
   "id": "836f3f48",
   "metadata": {},
   "outputs": [],
   "source": [
    "my_models = [LogisticRegression(), KNeighborsClassifier(), GaussianNB(), LinearSVC(), SGDClassifier(), DecisionTreeClassifier(), GradientBoostingClassifier()]"
   ]
  },
  {
   "cell_type": "markdown",
   "id": "fe29fc54",
   "metadata": {},
   "source": [
    "## Case 1: 1D Norm"
   ]
  },
  {
   "cell_type": "code",
   "execution_count": 17,
   "id": "34c163f2",
   "metadata": {},
   "outputs": [
    {
     "data": {
      "text/html": [
       "<div>\n",
       "<style scoped>\n",
       "    .dataframe tbody tr th:only-of-type {\n",
       "        vertical-align: middle;\n",
       "    }\n",
       "\n",
       "    .dataframe tbody tr th {\n",
       "        vertical-align: top;\n",
       "    }\n",
       "\n",
       "    .dataframe thead th {\n",
       "        text-align: right;\n",
       "    }\n",
       "</style>\n",
       "<table border=\"1\" class=\"dataframe\">\n",
       "  <thead>\n",
       "    <tr style=\"text-align: right;\">\n",
       "      <th></th>\n",
       "      <th>Frobenius Norm</th>\n",
       "    </tr>\n",
       "  </thead>\n",
       "  <tbody>\n",
       "    <tr>\n",
       "      <th>0</th>\n",
       "      <td>0.066360</td>\n",
       "    </tr>\n",
       "    <tr>\n",
       "      <th>1</th>\n",
       "      <td>0.066360</td>\n",
       "    </tr>\n",
       "    <tr>\n",
       "      <th>2</th>\n",
       "      <td>9.709390</td>\n",
       "    </tr>\n",
       "    <tr>\n",
       "      <th>3</th>\n",
       "      <td>8.209080</td>\n",
       "    </tr>\n",
       "    <tr>\n",
       "      <th>4</th>\n",
       "      <td>10.406943</td>\n",
       "    </tr>\n",
       "  </tbody>\n",
       "</table>\n",
       "</div>"
      ],
      "text/plain": [
       "   Frobenius Norm\n",
       "0        0.066360\n",
       "1        0.066360\n",
       "2        9.709390\n",
       "3        8.209080\n",
       "4       10.406943"
      ]
     },
     "execution_count": 17,
     "metadata": {},
     "output_type": "execute_result"
    }
   ],
   "source": [
    "norm_input_df = dec_norms_df.drop([\"Subject\",  \"Condition\", \"Update Number\"], axis=1)\n",
    "norm_input_df.head()"
   ]
  },
  {
   "cell_type": "code",
   "execution_count": 18,
   "id": "0f5306b8",
   "metadata": {},
   "outputs": [
    {
     "name": "stdout",
     "output_type": "stream",
     "text": [
      "(1489, 1)\n"
     ]
    },
    {
     "data": {
      "text/html": [
       "<div>\n",
       "<style scoped>\n",
       "    .dataframe tbody tr th:only-of-type {\n",
       "        vertical-align: middle;\n",
       "    }\n",
       "\n",
       "    .dataframe tbody tr th {\n",
       "        vertical-align: top;\n",
       "    }\n",
       "\n",
       "    .dataframe thead th {\n",
       "        text-align: right;\n",
       "    }\n",
       "</style>\n",
       "<table border=\"1\" class=\"dataframe\">\n",
       "  <thead>\n",
       "    <tr style=\"text-align: right;\">\n",
       "      <th></th>\n",
       "      <th>Frobenius Norm</th>\n",
       "    </tr>\n",
       "  </thead>\n",
       "  <tbody>\n",
       "    <tr>\n",
       "      <th>420</th>\n",
       "      <td>3.567582</td>\n",
       "    </tr>\n",
       "    <tr>\n",
       "      <th>146</th>\n",
       "      <td>5.589772</td>\n",
       "    </tr>\n",
       "    <tr>\n",
       "      <th>266</th>\n",
       "      <td>0.069974</td>\n",
       "    </tr>\n",
       "    <tr>\n",
       "      <th>695</th>\n",
       "      <td>5.796815</td>\n",
       "    </tr>\n",
       "    <tr>\n",
       "      <th>372</th>\n",
       "      <td>17.938752</td>\n",
       "    </tr>\n",
       "  </tbody>\n",
       "</table>\n",
       "</div>"
      ],
      "text/plain": [
       "     Frobenius Norm\n",
       "420        3.567582\n",
       "146        5.589772\n",
       "266        0.069974\n",
       "695        5.796815\n",
       "372       17.938752"
      ]
     },
     "execution_count": 18,
     "metadata": {},
     "output_type": "execute_result"
    }
   ],
   "source": [
    "X_train, y_train, X_test, y_test, X_val, y_val = train_test_val_split(norm_input_df, norm_label_df)\n",
    "y_train = np.ravel(y_train)\n",
    "\n",
    "print(X_train.shape)\n",
    "X_train.head()"
   ]
  },
  {
   "cell_type": "code",
   "execution_count": 19,
   "id": "1e1bfbf7",
   "metadata": {},
   "outputs": [
    {
     "name": "stderr",
     "output_type": "stream",
     "text": [
      "C:\\Users\\kdmen\\miniconda3\\lib\\site-packages\\sklearn\\neighbors\\_classification.py:237: FutureWarning: Unlike other reduction functions (e.g. `skew`, `kurtosis`), the default behavior of `mode` typically preserves the axis it acts along. In SciPy 1.11.0, this behavior will change: the default value of `keepdims` will become False, the `axis` over which the statistic is taken will be eliminated, and the value None will no longer be accepted. Set `keepdims` to True or False to avoid this warning.\n",
      "  mode, _ = stats.mode(_y[neigh_ind, k], axis=1)\n",
      "C:\\Users\\kdmen\\miniconda3\\lib\\site-packages\\sklearn\\svm\\_base.py:1225: ConvergenceWarning: Liblinear failed to converge, increase the number of iterations.\n",
      "  warnings.warn(\n"
     ]
    }
   ],
   "source": [
    "for model_num, model in enumerate(my_models):\n",
    "    norm1d_res_df = train_model(model, X_train, y_train, cv, norm1d_res_df)"
   ]
  },
  {
   "cell_type": "code",
   "execution_count": 20,
   "id": "f2978c75",
   "metadata": {},
   "outputs": [
    {
     "data": {
      "text/html": [
       "<div>\n",
       "<style scoped>\n",
       "    .dataframe tbody tr th:only-of-type {\n",
       "        vertical-align: middle;\n",
       "    }\n",
       "\n",
       "    .dataframe tbody tr th {\n",
       "        vertical-align: top;\n",
       "    }\n",
       "\n",
       "    .dataframe thead th {\n",
       "        text-align: right;\n",
       "    }\n",
       "</style>\n",
       "<table border=\"1\" class=\"dataframe\">\n",
       "  <thead>\n",
       "    <tr style=\"text-align: right;\">\n",
       "      <th></th>\n",
       "      <th>Algorithm</th>\n",
       "      <th>One Off Acc</th>\n",
       "      <th>CV Acc</th>\n",
       "      <th>K Folds</th>\n",
       "      <th>N</th>\n",
       "    </tr>\n",
       "  </thead>\n",
       "  <tbody>\n",
       "    <tr>\n",
       "      <th>0</th>\n",
       "      <td>LogisticRegression()</td>\n",
       "      <td>17.931</td>\n",
       "      <td>16.857</td>\n",
       "      <td>10</td>\n",
       "      <td>NA</td>\n",
       "    </tr>\n",
       "    <tr>\n",
       "      <th>0</th>\n",
       "      <td>KNeighborsClassifier()</td>\n",
       "      <td>52.048</td>\n",
       "      <td>30.356</td>\n",
       "      <td>10</td>\n",
       "      <td>NA</td>\n",
       "    </tr>\n",
       "    <tr>\n",
       "      <th>0</th>\n",
       "      <td>GaussianNB()</td>\n",
       "      <td>19.073</td>\n",
       "      <td>17.260</td>\n",
       "      <td>10</td>\n",
       "      <td>NA</td>\n",
       "    </tr>\n",
       "    <tr>\n",
       "      <th>0</th>\n",
       "      <td>LinearSVC()</td>\n",
       "      <td>20.551</td>\n",
       "      <td>17.797</td>\n",
       "      <td>10</td>\n",
       "      <td>NA</td>\n",
       "    </tr>\n",
       "    <tr>\n",
       "      <th>0</th>\n",
       "      <td>SGDClassifier()</td>\n",
       "      <td>14.036</td>\n",
       "      <td>14.976</td>\n",
       "      <td>10</td>\n",
       "      <td>NA</td>\n",
       "    </tr>\n",
       "    <tr>\n",
       "      <th>0</th>\n",
       "      <td>DecisionTreeClassifier()</td>\n",
       "      <td>100.000</td>\n",
       "      <td>28.946</td>\n",
       "      <td>10</td>\n",
       "      <td>NA</td>\n",
       "    </tr>\n",
       "    <tr>\n",
       "      <th>0</th>\n",
       "      <td>GradientBoostingClassifier()</td>\n",
       "      <td>65.682</td>\n",
       "      <td>32.304</td>\n",
       "      <td>10</td>\n",
       "      <td>NA</td>\n",
       "    </tr>\n",
       "  </tbody>\n",
       "</table>\n",
       "</div>"
      ],
      "text/plain": [
       "                      Algorithm  One Off Acc  CV Acc K Folds   N\n",
       "0          LogisticRegression()       17.931  16.857      10  NA\n",
       "0        KNeighborsClassifier()       52.048  30.356      10  NA\n",
       "0                  GaussianNB()       19.073  17.260      10  NA\n",
       "0                   LinearSVC()       20.551  17.797      10  NA\n",
       "0               SGDClassifier()       14.036  14.976      10  NA\n",
       "0      DecisionTreeClassifier()      100.000  28.946      10  NA\n",
       "0  GradientBoostingClassifier()       65.682  32.304      10  NA"
      ]
     },
     "execution_count": 20,
     "metadata": {},
     "output_type": "execute_result"
    }
   ],
   "source": [
    "norm1d_res_df.head(100)"
   ]
  },
  {
   "cell_type": "markdown",
   "id": "20c5b099",
   "metadata": {},
   "source": [
    "Now Test"
   ]
  },
  {
   "cell_type": "code",
   "execution_count": 21,
   "id": "0e96f1ba",
   "metadata": {},
   "outputs": [
    {
     "name": "stderr",
     "output_type": "stream",
     "text": [
      "C:\\Users\\kdmen\\miniconda3\\lib\\site-packages\\sklearn\\neighbors\\_classification.py:237: FutureWarning: Unlike other reduction functions (e.g. `skew`, `kurtosis`), the default behavior of `mode` typically preserves the axis it acts along. In SciPy 1.11.0, this behavior will change: the default value of `keepdims` will become False, the `axis` over which the statistic is taken will be eliminated, and the value None will no longer be accepted. Set `keepdims` to True or False to avoid this warning.\n",
      "  mode, _ = stats.mode(_y[neigh_ind, k], axis=1)\n",
      "C:\\Users\\kdmen\\miniconda3\\lib\\site-packages\\sklearn\\neighbors\\_classification.py:237: FutureWarning: Unlike other reduction functions (e.g. `skew`, `kurtosis`), the default behavior of `mode` typically preserves the axis it acts along. In SciPy 1.11.0, this behavior will change: the default value of `keepdims` will become False, the `axis` over which the statistic is taken will be eliminated, and the value None will no longer be accepted. Set `keepdims` to True or False to avoid this warning.\n",
      "  mode, _ = stats.mode(_y[neigh_ind, k], axis=1)\n",
      "C:\\Users\\kdmen\\miniconda3\\lib\\site-packages\\sklearn\\svm\\_base.py:1225: ConvergenceWarning: Liblinear failed to converge, increase the number of iterations.\n",
      "  warnings.warn(\n"
     ]
    }
   ],
   "source": [
    "test_df = pd.DataFrame(columns=['Algorithm', 'CV Acc', 'Test Acc', 'K Folds'])\n",
    "\n",
    "for model_num, model in enumerate(my_models):\n",
    "    test_df = test_model(model, X_train, y_train, X_test, y_test, test_df, cv)"
   ]
  },
  {
   "cell_type": "code",
   "execution_count": 22,
   "id": "79eaf166",
   "metadata": {},
   "outputs": [
    {
     "data": {
      "text/html": [
       "<div>\n",
       "<style scoped>\n",
       "    .dataframe tbody tr th:only-of-type {\n",
       "        vertical-align: middle;\n",
       "    }\n",
       "\n",
       "    .dataframe tbody tr th {\n",
       "        vertical-align: top;\n",
       "    }\n",
       "\n",
       "    .dataframe thead th {\n",
       "        text-align: right;\n",
       "    }\n",
       "</style>\n",
       "<table border=\"1\" class=\"dataframe\">\n",
       "  <thead>\n",
       "    <tr style=\"text-align: right;\">\n",
       "      <th></th>\n",
       "      <th>Algorithm</th>\n",
       "      <th>CV Acc</th>\n",
       "      <th>Test Acc</th>\n",
       "      <th>K Folds</th>\n",
       "      <th>N</th>\n",
       "    </tr>\n",
       "  </thead>\n",
       "  <tbody>\n",
       "    <tr>\n",
       "      <th>0</th>\n",
       "      <td>LogisticRegression()</td>\n",
       "      <td>16.857</td>\n",
       "      <td>16.901</td>\n",
       "      <td>10</td>\n",
       "      <td>NA</td>\n",
       "    </tr>\n",
       "    <tr>\n",
       "      <th>0</th>\n",
       "      <td>KNeighborsClassifier()</td>\n",
       "      <td>30.356</td>\n",
       "      <td>28.795</td>\n",
       "      <td>10</td>\n",
       "      <td>NA</td>\n",
       "    </tr>\n",
       "    <tr>\n",
       "      <th>0</th>\n",
       "      <td>GaussianNB()</td>\n",
       "      <td>17.26</td>\n",
       "      <td>19.718</td>\n",
       "      <td>10</td>\n",
       "      <td>NA</td>\n",
       "    </tr>\n",
       "    <tr>\n",
       "      <th>0</th>\n",
       "      <td>LinearSVC()</td>\n",
       "      <td>18.805</td>\n",
       "      <td>17.371</td>\n",
       "      <td>10</td>\n",
       "      <td>NA</td>\n",
       "    </tr>\n",
       "    <tr>\n",
       "      <th>0</th>\n",
       "      <td>SGDClassifier()</td>\n",
       "      <td>14.238</td>\n",
       "      <td>14.867</td>\n",
       "      <td>10</td>\n",
       "      <td>NA</td>\n",
       "    </tr>\n",
       "    <tr>\n",
       "      <th>0</th>\n",
       "      <td>DecisionTreeClassifier()</td>\n",
       "      <td>28.946</td>\n",
       "      <td>27.856</td>\n",
       "      <td>10</td>\n",
       "      <td>NA</td>\n",
       "    </tr>\n",
       "    <tr>\n",
       "      <th>0</th>\n",
       "      <td>GradientBoostingClassifier()</td>\n",
       "      <td>32.304</td>\n",
       "      <td>27.23</td>\n",
       "      <td>10</td>\n",
       "      <td>NA</td>\n",
       "    </tr>\n",
       "  </tbody>\n",
       "</table>\n",
       "</div>"
      ],
      "text/plain": [
       "                      Algorithm  CV Acc Test Acc K Folds   N\n",
       "0          LogisticRegression()  16.857   16.901      10  NA\n",
       "0        KNeighborsClassifier()  30.356   28.795      10  NA\n",
       "0                  GaussianNB()   17.26   19.718      10  NA\n",
       "0                   LinearSVC()  18.805   17.371      10  NA\n",
       "0               SGDClassifier()  14.238   14.867      10  NA\n",
       "0      DecisionTreeClassifier()  28.946   27.856      10  NA\n",
       "0  GradientBoostingClassifier()  32.304    27.23      10  NA"
      ]
     },
     "execution_count": 22,
     "metadata": {},
     "output_type": "execute_result"
    }
   ],
   "source": [
    "test_df.head(100)"
   ]
  },
  {
   "cell_type": "markdown",
   "id": "19c024f2",
   "metadata": {},
   "source": [
    "## Case 2: Flattened Decoder Matrices as Input"
   ]
  },
  {
   "cell_type": "code",
   "execution_count": 23,
   "id": "2106fdad",
   "metadata": {},
   "outputs": [
    {
     "data": {
      "text/html": [
       "<div>\n",
       "<style scoped>\n",
       "    .dataframe tbody tr th:only-of-type {\n",
       "        vertical-align: middle;\n",
       "    }\n",
       "\n",
       "    .dataframe tbody tr th {\n",
       "        vertical-align: top;\n",
       "    }\n",
       "\n",
       "    .dataframe thead th {\n",
       "        text-align: right;\n",
       "    }\n",
       "</style>\n",
       "<table border=\"1\" class=\"dataframe\">\n",
       "  <thead>\n",
       "    <tr style=\"text-align: right;\">\n",
       "      <th></th>\n",
       "      <th>Flattened Decoder</th>\n",
       "    </tr>\n",
       "  </thead>\n",
       "  <tbody>\n",
       "    <tr>\n",
       "      <th>0</th>\n",
       "      <td>[0.002722144351611262, 0.002605931562722017, 0...</td>\n",
       "    </tr>\n",
       "    <tr>\n",
       "      <th>1</th>\n",
       "      <td>[0.002722144351611262, 0.002605931562722017, 0...</td>\n",
       "    </tr>\n",
       "    <tr>\n",
       "      <th>2</th>\n",
       "      <td>[-0.34157085409453486, 0.08410593293763585, -0...</td>\n",
       "    </tr>\n",
       "    <tr>\n",
       "      <th>3</th>\n",
       "      <td>[-0.1738624752800762, 0.003705171262358347, 0....</td>\n",
       "    </tr>\n",
       "    <tr>\n",
       "      <th>4</th>\n",
       "      <td>[0.8321061501817386, -1.3261242289666402, 0.28...</td>\n",
       "    </tr>\n",
       "  </tbody>\n",
       "</table>\n",
       "</div>"
      ],
      "text/plain": [
       "                                   Flattened Decoder\n",
       "0  [0.002722144351611262, 0.002605931562722017, 0...\n",
       "1  [0.002722144351611262, 0.002605931562722017, 0...\n",
       "2  [-0.34157085409453486, 0.08410593293763585, -0...\n",
       "3  [-0.1738624752800762, 0.003705171262358347, 0....\n",
       "4  [0.8321061501817386, -1.3261242289666402, 0.28..."
      ]
     },
     "execution_count": 23,
     "metadata": {},
     "output_type": "execute_result"
    }
   ],
   "source": [
    "flattened_input_df = dec_flattened_df.drop([\"Subject\",  \"Condition\", \"Update Number\"], axis=1)\n",
    "flattened_input_df.head()"
   ]
  },
  {
   "cell_type": "code",
   "execution_count": 24,
   "id": "84cd77f0",
   "metadata": {},
   "outputs": [
    {
     "name": "stdout",
     "output_type": "stream",
     "text": [
      "(1489, 1)\n"
     ]
    },
    {
     "data": {
      "text/html": [
       "<div>\n",
       "<style scoped>\n",
       "    .dataframe tbody tr th:only-of-type {\n",
       "        vertical-align: middle;\n",
       "    }\n",
       "\n",
       "    .dataframe tbody tr th {\n",
       "        vertical-align: top;\n",
       "    }\n",
       "\n",
       "    .dataframe thead th {\n",
       "        text-align: right;\n",
       "    }\n",
       "</style>\n",
       "<table border=\"1\" class=\"dataframe\">\n",
       "  <thead>\n",
       "    <tr style=\"text-align: right;\">\n",
       "      <th></th>\n",
       "      <th>Flattened Decoder</th>\n",
       "    </tr>\n",
       "  </thead>\n",
       "  <tbody>\n",
       "    <tr>\n",
       "      <th>420</th>\n",
       "      <td>[0.5594479988320739, 0.4812012592595234, -0.31...</td>\n",
       "    </tr>\n",
       "    <tr>\n",
       "      <th>146</th>\n",
       "      <td>[-0.05469055551972085, 0.08547177500493985, -0...</td>\n",
       "    </tr>\n",
       "    <tr>\n",
       "      <th>266</th>\n",
       "      <td>[-0.008973604228856694, -0.008313810900701315,...</td>\n",
       "    </tr>\n",
       "    <tr>\n",
       "      <th>695</th>\n",
       "      <td>[-0.05559843195043232, -1.0993648180373194, 0....</td>\n",
       "    </tr>\n",
       "    <tr>\n",
       "      <th>372</th>\n",
       "      <td>[2.0976718157092886, -1.4354093970974517, -0.0...</td>\n",
       "    </tr>\n",
       "  </tbody>\n",
       "</table>\n",
       "</div>"
      ],
      "text/plain": [
       "                                     Flattened Decoder\n",
       "420  [0.5594479988320739, 0.4812012592595234, -0.31...\n",
       "146  [-0.05469055551972085, 0.08547177500493985, -0...\n",
       "266  [-0.008973604228856694, -0.008313810900701315,...\n",
       "695  [-0.05559843195043232, -1.0993648180373194, 0....\n",
       "372  [2.0976718157092886, -1.4354093970974517, -0.0..."
      ]
     },
     "execution_count": 24,
     "metadata": {},
     "output_type": "execute_result"
    }
   ],
   "source": [
    "X_train, y_train, X_test, y_test, X_val, y_val = train_test_val_split(flattened_input_df, norm_label_df)\n",
    "y_train = np.ravel(y_train)\n",
    "\n",
    "print(X_train.shape)\n",
    "X_train.head()"
   ]
  },
  {
   "cell_type": "code",
   "execution_count": 25,
   "id": "91a5be38",
   "metadata": {},
   "outputs": [
    {
     "data": {
      "text/html": [
       "<div>\n",
       "<style scoped>\n",
       "    .dataframe tbody tr th:only-of-type {\n",
       "        vertical-align: middle;\n",
       "    }\n",
       "\n",
       "    .dataframe tbody tr th {\n",
       "        vertical-align: top;\n",
       "    }\n",
       "\n",
       "    .dataframe thead th {\n",
       "        text-align: right;\n",
       "    }\n",
       "</style>\n",
       "<table border=\"1\" class=\"dataframe\">\n",
       "  <thead>\n",
       "    <tr style=\"text-align: right;\">\n",
       "      <th></th>\n",
       "      <th>0</th>\n",
       "      <th>1</th>\n",
       "      <th>2</th>\n",
       "      <th>3</th>\n",
       "      <th>4</th>\n",
       "      <th>5</th>\n",
       "      <th>6</th>\n",
       "      <th>7</th>\n",
       "      <th>8</th>\n",
       "      <th>9</th>\n",
       "      <th>...</th>\n",
       "      <th>118</th>\n",
       "      <th>119</th>\n",
       "      <th>120</th>\n",
       "      <th>121</th>\n",
       "      <th>122</th>\n",
       "      <th>123</th>\n",
       "      <th>124</th>\n",
       "      <th>125</th>\n",
       "      <th>126</th>\n",
       "      <th>127</th>\n",
       "    </tr>\n",
       "  </thead>\n",
       "  <tbody>\n",
       "    <tr>\n",
       "      <th>0</th>\n",
       "      <td>0.559448</td>\n",
       "      <td>0.481201</td>\n",
       "      <td>-0.311722</td>\n",
       "      <td>-0.309007</td>\n",
       "      <td>0.106709</td>\n",
       "      <td>0.161785</td>\n",
       "      <td>-0.301699</td>\n",
       "      <td>-0.321967</td>\n",
       "      <td>-0.083060</td>\n",
       "      <td>0.570488</td>\n",
       "      <td>...</td>\n",
       "      <td>0.039315</td>\n",
       "      <td>0.361549</td>\n",
       "      <td>0.411409</td>\n",
       "      <td>0.181654</td>\n",
       "      <td>0.168465</td>\n",
       "      <td>0.048938</td>\n",
       "      <td>0.070892</td>\n",
       "      <td>-0.032129</td>\n",
       "      <td>0.055582</td>\n",
       "      <td>0.466536</td>\n",
       "    </tr>\n",
       "    <tr>\n",
       "      <th>0</th>\n",
       "      <td>-0.054691</td>\n",
       "      <td>0.085472</td>\n",
       "      <td>-0.139612</td>\n",
       "      <td>0.109828</td>\n",
       "      <td>-0.132205</td>\n",
       "      <td>-0.125863</td>\n",
       "      <td>0.872657</td>\n",
       "      <td>0.057642</td>\n",
       "      <td>1.215535</td>\n",
       "      <td>-0.042984</td>\n",
       "      <td>...</td>\n",
       "      <td>0.295885</td>\n",
       "      <td>-0.664531</td>\n",
       "      <td>-0.831946</td>\n",
       "      <td>1.214455</td>\n",
       "      <td>0.905204</td>\n",
       "      <td>-1.332841</td>\n",
       "      <td>-0.037715</td>\n",
       "      <td>0.540905</td>\n",
       "      <td>0.181231</td>\n",
       "      <td>-0.617622</td>\n",
       "    </tr>\n",
       "    <tr>\n",
       "      <th>0</th>\n",
       "      <td>-0.008974</td>\n",
       "      <td>-0.008314</td>\n",
       "      <td>-0.006412</td>\n",
       "      <td>-0.001125</td>\n",
       "      <td>-0.003369</td>\n",
       "      <td>-0.001689</td>\n",
       "      <td>-0.008623</td>\n",
       "      <td>-0.004556</td>\n",
       "      <td>-0.009388</td>\n",
       "      <td>-0.002210</td>\n",
       "      <td>...</td>\n",
       "      <td>-0.008424</td>\n",
       "      <td>-0.002359</td>\n",
       "      <td>-0.001530</td>\n",
       "      <td>-0.002416</td>\n",
       "      <td>-0.001757</td>\n",
       "      <td>-0.007078</td>\n",
       "      <td>-0.007921</td>\n",
       "      <td>-0.006530</td>\n",
       "      <td>-0.003725</td>\n",
       "      <td>-0.005481</td>\n",
       "    </tr>\n",
       "    <tr>\n",
       "      <th>0</th>\n",
       "      <td>-0.055598</td>\n",
       "      <td>-1.099365</td>\n",
       "      <td>0.040769</td>\n",
       "      <td>-0.288075</td>\n",
       "      <td>0.016066</td>\n",
       "      <td>-0.113498</td>\n",
       "      <td>0.082550</td>\n",
       "      <td>0.019032</td>\n",
       "      <td>-0.090005</td>\n",
       "      <td>-1.670067</td>\n",
       "      <td>...</td>\n",
       "      <td>0.003365</td>\n",
       "      <td>0.346554</td>\n",
       "      <td>-0.189199</td>\n",
       "      <td>0.189891</td>\n",
       "      <td>0.210803</td>\n",
       "      <td>0.022203</td>\n",
       "      <td>-0.021496</td>\n",
       "      <td>0.434912</td>\n",
       "      <td>-0.832817</td>\n",
       "      <td>0.034530</td>\n",
       "    </tr>\n",
       "    <tr>\n",
       "      <th>0</th>\n",
       "      <td>2.097672</td>\n",
       "      <td>-1.435409</td>\n",
       "      <td>-0.056953</td>\n",
       "      <td>1.670270</td>\n",
       "      <td>-1.501497</td>\n",
       "      <td>-0.962351</td>\n",
       "      <td>0.083523</td>\n",
       "      <td>2.733040</td>\n",
       "      <td>-1.270545</td>\n",
       "      <td>0.097296</td>\n",
       "      <td>...</td>\n",
       "      <td>-2.028840</td>\n",
       "      <td>-0.354640</td>\n",
       "      <td>2.231020</td>\n",
       "      <td>2.792864</td>\n",
       "      <td>-1.524705</td>\n",
       "      <td>2.493864</td>\n",
       "      <td>-0.648781</td>\n",
       "      <td>-1.369147</td>\n",
       "      <td>1.047059</td>\n",
       "      <td>-0.720754</td>\n",
       "    </tr>\n",
       "  </tbody>\n",
       "</table>\n",
       "<p>5 rows × 128 columns</p>\n",
       "</div>"
      ],
      "text/plain": [
       "        0         1         2         3         4         5         6    \\\n",
       "0  0.559448  0.481201 -0.311722 -0.309007  0.106709  0.161785 -0.301699   \n",
       "0 -0.054691  0.085472 -0.139612  0.109828 -0.132205 -0.125863  0.872657   \n",
       "0 -0.008974 -0.008314 -0.006412 -0.001125 -0.003369 -0.001689 -0.008623   \n",
       "0 -0.055598 -1.099365  0.040769 -0.288075  0.016066 -0.113498  0.082550   \n",
       "0  2.097672 -1.435409 -0.056953  1.670270 -1.501497 -0.962351  0.083523   \n",
       "\n",
       "        7         8         9    ...       118       119       120       121  \\\n",
       "0 -0.321967 -0.083060  0.570488  ...  0.039315  0.361549  0.411409  0.181654   \n",
       "0  0.057642  1.215535 -0.042984  ...  0.295885 -0.664531 -0.831946  1.214455   \n",
       "0 -0.004556 -0.009388 -0.002210  ... -0.008424 -0.002359 -0.001530 -0.002416   \n",
       "0  0.019032 -0.090005 -1.670067  ...  0.003365  0.346554 -0.189199  0.189891   \n",
       "0  2.733040 -1.270545  0.097296  ... -2.028840 -0.354640  2.231020  2.792864   \n",
       "\n",
       "        122       123       124       125       126       127  \n",
       "0  0.168465  0.048938  0.070892 -0.032129  0.055582  0.466536  \n",
       "0  0.905204 -1.332841 -0.037715  0.540905  0.181231 -0.617622  \n",
       "0 -0.001757 -0.007078 -0.007921 -0.006530 -0.003725 -0.005481  \n",
       "0  0.210803  0.022203 -0.021496  0.434912 -0.832817  0.034530  \n",
       "0 -1.524705  2.493864 -0.648781 -1.369147  1.047059 -0.720754  \n",
       "\n",
       "[5 rows x 128 columns]"
      ]
     },
     "execution_count": 25,
     "metadata": {},
     "output_type": "execute_result"
    }
   ],
   "source": [
    "X_train2 = pd.DataFrame()\n",
    "X_test2 = pd.DataFrame()\n",
    "for my_row in range(X_train.shape[0]):\n",
    "    test=pd.DataFrame(X_train.iloc[my_row,0]).T\n",
    "    X_train2 = pd.concat((X_train2, test))\n",
    "    \n",
    "for my_row in range(X_test.shape[0]):\n",
    "    test=pd.DataFrame(X_test.iloc[my_row,0]).T\n",
    "    X_test2 = pd.concat((X_test2, test))\n",
    "    \n",
    "X_train = X_train2\n",
    "X_test = X_test2\n",
    "    \n",
    "X_train2.head()"
   ]
  },
  {
   "cell_type": "markdown",
   "id": "b00a6cde",
   "metadata": {},
   "source": [
    "Convert single element of a vector into a vector of single elements!"
   ]
  },
  {
   "cell_type": "code",
   "execution_count": 26,
   "id": "a1d304f1",
   "metadata": {},
   "outputs": [
    {
     "name": "stdout",
     "output_type": "stream",
     "text": [
      "0 of 7\n",
      "1 of 7\n"
     ]
    },
    {
     "name": "stderr",
     "output_type": "stream",
     "text": [
      "C:\\Users\\kdmen\\miniconda3\\lib\\site-packages\\sklearn\\neighbors\\_classification.py:237: FutureWarning: Unlike other reduction functions (e.g. `skew`, `kurtosis`), the default behavior of `mode` typically preserves the axis it acts along. In SciPy 1.11.0, this behavior will change: the default value of `keepdims` will become False, the `axis` over which the statistic is taken will be eliminated, and the value None will no longer be accepted. Set `keepdims` to True or False to avoid this warning.\n",
      "  mode, _ = stats.mode(_y[neigh_ind, k], axis=1)\n"
     ]
    },
    {
     "name": "stdout",
     "output_type": "stream",
     "text": [
      "2 of 7\n",
      "3 of 7\n"
     ]
    },
    {
     "name": "stderr",
     "output_type": "stream",
     "text": [
      "C:\\Users\\kdmen\\miniconda3\\lib\\site-packages\\sklearn\\svm\\_base.py:1225: ConvergenceWarning: Liblinear failed to converge, increase the number of iterations.\n",
      "  warnings.warn(\n"
     ]
    },
    {
     "name": "stdout",
     "output_type": "stream",
     "text": [
      "4 of 7\n",
      "5 of 7\n",
      "6 of 7\n"
     ]
    }
   ],
   "source": [
    "for model_num, model in enumerate(my_models):\n",
    "    print(f\"{model_num} of {len(my_models)}\")\n",
    "    flatten_dec_res_df = train_model(model, X_train, y_train, cv, flatten_dec_res_df)"
   ]
  },
  {
   "cell_type": "code",
   "execution_count": 27,
   "id": "0570e67c",
   "metadata": {
    "scrolled": true
   },
   "outputs": [
    {
     "data": {
      "text/html": [
       "<div>\n",
       "<style scoped>\n",
       "    .dataframe tbody tr th:only-of-type {\n",
       "        vertical-align: middle;\n",
       "    }\n",
       "\n",
       "    .dataframe tbody tr th {\n",
       "        vertical-align: top;\n",
       "    }\n",
       "\n",
       "    .dataframe thead th {\n",
       "        text-align: right;\n",
       "    }\n",
       "</style>\n",
       "<table border=\"1\" class=\"dataframe\">\n",
       "  <thead>\n",
       "    <tr style=\"text-align: right;\">\n",
       "      <th></th>\n",
       "      <th>Algorithm</th>\n",
       "      <th>One Off Acc</th>\n",
       "      <th>CV Acc</th>\n",
       "      <th>K Folds</th>\n",
       "      <th>N</th>\n",
       "    </tr>\n",
       "  </thead>\n",
       "  <tbody>\n",
       "    <tr>\n",
       "      <th>0</th>\n",
       "      <td>LogisticRegression()</td>\n",
       "      <td>87.911</td>\n",
       "      <td>70.853</td>\n",
       "      <td>10</td>\n",
       "      <td>NA</td>\n",
       "    </tr>\n",
       "    <tr>\n",
       "      <th>0</th>\n",
       "      <td>KNeighborsClassifier()</td>\n",
       "      <td>83.815</td>\n",
       "      <td>76.494</td>\n",
       "      <td>10</td>\n",
       "      <td>NA</td>\n",
       "    </tr>\n",
       "    <tr>\n",
       "      <th>0</th>\n",
       "      <td>GaussianNB()</td>\n",
       "      <td>71.592</td>\n",
       "      <td>69.778</td>\n",
       "      <td>10</td>\n",
       "      <td>NA</td>\n",
       "    </tr>\n",
       "    <tr>\n",
       "      <th>0</th>\n",
       "      <td>LinearSVC()</td>\n",
       "      <td>83.412</td>\n",
       "      <td>70.853</td>\n",
       "      <td>10</td>\n",
       "      <td>NA</td>\n",
       "    </tr>\n",
       "    <tr>\n",
       "      <th>0</th>\n",
       "      <td>SGDClassifier()</td>\n",
       "      <td>79.046</td>\n",
       "      <td>69.510</td>\n",
       "      <td>10</td>\n",
       "      <td>NA</td>\n",
       "    </tr>\n",
       "    <tr>\n",
       "      <th>0</th>\n",
       "      <td>DecisionTreeClassifier()</td>\n",
       "      <td>100.000</td>\n",
       "      <td>66.488</td>\n",
       "      <td>10</td>\n",
       "      <td>NA</td>\n",
       "    </tr>\n",
       "    <tr>\n",
       "      <th>0</th>\n",
       "      <td>GradientBoostingClassifier()</td>\n",
       "      <td>100.000</td>\n",
       "      <td>87.979</td>\n",
       "      <td>10</td>\n",
       "      <td>NA</td>\n",
       "    </tr>\n",
       "  </tbody>\n",
       "</table>\n",
       "</div>"
      ],
      "text/plain": [
       "                      Algorithm  One Off Acc  CV Acc K Folds   N\n",
       "0          LogisticRegression()       87.911  70.853      10  NA\n",
       "0        KNeighborsClassifier()       83.815  76.494      10  NA\n",
       "0                  GaussianNB()       71.592  69.778      10  NA\n",
       "0                   LinearSVC()       83.412  70.853      10  NA\n",
       "0               SGDClassifier()       79.046  69.510      10  NA\n",
       "0      DecisionTreeClassifier()      100.000  66.488      10  NA\n",
       "0  GradientBoostingClassifier()      100.000  87.979      10  NA"
      ]
     },
     "execution_count": 27,
     "metadata": {},
     "output_type": "execute_result"
    }
   ],
   "source": [
    "flatten_dec_res_df.head(100)"
   ]
  },
  {
   "cell_type": "markdown",
   "id": "ee7aa72c",
   "metadata": {},
   "source": [
    "Test the models on the testing data"
   ]
  },
  {
   "cell_type": "code",
   "execution_count": 28,
   "id": "700d027c",
   "metadata": {},
   "outputs": [
    {
     "name": "stdout",
     "output_type": "stream",
     "text": [
      "1 of 7\n",
      "2 of 7\n"
     ]
    },
    {
     "name": "stderr",
     "output_type": "stream",
     "text": [
      "C:\\Users\\kdmen\\miniconda3\\lib\\site-packages\\sklearn\\neighbors\\_classification.py:237: FutureWarning: Unlike other reduction functions (e.g. `skew`, `kurtosis`), the default behavior of `mode` typically preserves the axis it acts along. In SciPy 1.11.0, this behavior will change: the default value of `keepdims` will become False, the `axis` over which the statistic is taken will be eliminated, and the value None will no longer be accepted. Set `keepdims` to True or False to avoid this warning.\n",
      "  mode, _ = stats.mode(_y[neigh_ind, k], axis=1)\n",
      "C:\\Users\\kdmen\\miniconda3\\lib\\site-packages\\sklearn\\neighbors\\_classification.py:237: FutureWarning: Unlike other reduction functions (e.g. `skew`, `kurtosis`), the default behavior of `mode` typically preserves the axis it acts along. In SciPy 1.11.0, this behavior will change: the default value of `keepdims` will become False, the `axis` over which the statistic is taken will be eliminated, and the value None will no longer be accepted. Set `keepdims` to True or False to avoid this warning.\n",
      "  mode, _ = stats.mode(_y[neigh_ind, k], axis=1)\n"
     ]
    },
    {
     "name": "stdout",
     "output_type": "stream",
     "text": [
      "3 of 7\n",
      "4 of 7\n"
     ]
    },
    {
     "name": "stderr",
     "output_type": "stream",
     "text": [
      "C:\\Users\\kdmen\\miniconda3\\lib\\site-packages\\sklearn\\svm\\_base.py:1225: ConvergenceWarning: Liblinear failed to converge, increase the number of iterations.\n",
      "  warnings.warn(\n"
     ]
    },
    {
     "name": "stdout",
     "output_type": "stream",
     "text": [
      "5 of 7\n",
      "6 of 7\n",
      "7 of 7\n"
     ]
    }
   ],
   "source": [
    "test_df = pd.DataFrame(columns=['Algorithm', 'CV Acc', 'Test Acc', 'K Folds'])\n",
    "for model_num, model in enumerate(my_models):\n",
    "    print(f\"{model_num+1} of {len(my_models)}\")\n",
    "    test_df = test_model(model, X_train, y_train, X_test, y_test, test_df, cv)"
   ]
  },
  {
   "cell_type": "code",
   "execution_count": 29,
   "id": "9be94a98",
   "metadata": {},
   "outputs": [
    {
     "data": {
      "text/html": [
       "<div>\n",
       "<style scoped>\n",
       "    .dataframe tbody tr th:only-of-type {\n",
       "        vertical-align: middle;\n",
       "    }\n",
       "\n",
       "    .dataframe tbody tr th {\n",
       "        vertical-align: top;\n",
       "    }\n",
       "\n",
       "    .dataframe thead th {\n",
       "        text-align: right;\n",
       "    }\n",
       "</style>\n",
       "<table border=\"1\" class=\"dataframe\">\n",
       "  <thead>\n",
       "    <tr style=\"text-align: right;\">\n",
       "      <th></th>\n",
       "      <th>Algorithm</th>\n",
       "      <th>CV Acc</th>\n",
       "      <th>Test Acc</th>\n",
       "      <th>K Folds</th>\n",
       "      <th>N</th>\n",
       "    </tr>\n",
       "  </thead>\n",
       "  <tbody>\n",
       "    <tr>\n",
       "      <th>0</th>\n",
       "      <td>LogisticRegression()</td>\n",
       "      <td>70.853</td>\n",
       "      <td>71.987</td>\n",
       "      <td>10</td>\n",
       "      <td>NA</td>\n",
       "    </tr>\n",
       "    <tr>\n",
       "      <th>0</th>\n",
       "      <td>KNeighborsClassifier()</td>\n",
       "      <td>76.494</td>\n",
       "      <td>76.526</td>\n",
       "      <td>10</td>\n",
       "      <td>NA</td>\n",
       "    </tr>\n",
       "    <tr>\n",
       "      <th>0</th>\n",
       "      <td>GaussianNB()</td>\n",
       "      <td>69.778</td>\n",
       "      <td>72.926</td>\n",
       "      <td>10</td>\n",
       "      <td>NA</td>\n",
       "    </tr>\n",
       "    <tr>\n",
       "      <th>0</th>\n",
       "      <td>LinearSVC()</td>\n",
       "      <td>71.189</td>\n",
       "      <td>73.709</td>\n",
       "      <td>10</td>\n",
       "      <td>NA</td>\n",
       "    </tr>\n",
       "    <tr>\n",
       "      <th>0</th>\n",
       "      <td>SGDClassifier()</td>\n",
       "      <td>68.435</td>\n",
       "      <td>69.484</td>\n",
       "      <td>10</td>\n",
       "      <td>NA</td>\n",
       "    </tr>\n",
       "    <tr>\n",
       "      <th>0</th>\n",
       "      <td>DecisionTreeClassifier()</td>\n",
       "      <td>65.749</td>\n",
       "      <td>67.136</td>\n",
       "      <td>10</td>\n",
       "      <td>NA</td>\n",
       "    </tr>\n",
       "    <tr>\n",
       "      <th>0</th>\n",
       "      <td>GradientBoostingClassifier()</td>\n",
       "      <td>88.247</td>\n",
       "      <td>90.454</td>\n",
       "      <td>10</td>\n",
       "      <td>NA</td>\n",
       "    </tr>\n",
       "  </tbody>\n",
       "</table>\n",
       "</div>"
      ],
      "text/plain": [
       "                      Algorithm  CV Acc Test Acc K Folds   N\n",
       "0          LogisticRegression()  70.853   71.987      10  NA\n",
       "0        KNeighborsClassifier()  76.494   76.526      10  NA\n",
       "0                  GaussianNB()  69.778   72.926      10  NA\n",
       "0                   LinearSVC()  71.189   73.709      10  NA\n",
       "0               SGDClassifier()  68.435   69.484      10  NA\n",
       "0      DecisionTreeClassifier()  65.749   67.136      10  NA\n",
       "0  GradientBoostingClassifier()  88.247   90.454      10  NA"
      ]
     },
     "execution_count": 29,
     "metadata": {},
     "output_type": "execute_result"
    }
   ],
   "source": [
    "test_df.head(100)"
   ]
  },
  {
   "cell_type": "markdown",
   "id": "471a37b4",
   "metadata": {},
   "source": [
    "Redo but try using Standard Scaler this time"
   ]
  },
  {
   "cell_type": "code",
   "execution_count": 30,
   "id": "25ef5940",
   "metadata": {},
   "outputs": [
    {
     "name": "stdout",
     "output_type": "stream",
     "text": [
      "(1489, 128)\n",
      "(1489, 128)\n"
     ]
    }
   ],
   "source": [
    "from sklearn.preprocessing import StandardScaler\n",
    "\n",
    "scaler_Xtrain = StandardScaler().fit(X_train)\n",
    "XtrainSS = scaler_Xtrain.transform(X_train)\n",
    "\n",
    "print(X_train.shape)\n",
    "print(XtrainSS.shape)"
   ]
  },
  {
   "cell_type": "code",
   "execution_count": 31,
   "id": "c6ed2841",
   "metadata": {},
   "outputs": [
    {
     "name": "stdout",
     "output_type": "stream",
     "text": [
      "1 of 7\n",
      "2 of 7\n"
     ]
    },
    {
     "name": "stderr",
     "output_type": "stream",
     "text": [
      "C:\\Users\\kdmen\\miniconda3\\lib\\site-packages\\sklearn\\neighbors\\_classification.py:237: FutureWarning: Unlike other reduction functions (e.g. `skew`, `kurtosis`), the default behavior of `mode` typically preserves the axis it acts along. In SciPy 1.11.0, this behavior will change: the default value of `keepdims` will become False, the `axis` over which the statistic is taken will be eliminated, and the value None will no longer be accepted. Set `keepdims` to True or False to avoid this warning.\n",
      "  mode, _ = stats.mode(_y[neigh_ind, k], axis=1)\n"
     ]
    },
    {
     "name": "stdout",
     "output_type": "stream",
     "text": [
      "3 of 7\n",
      "4 of 7\n"
     ]
    },
    {
     "name": "stderr",
     "output_type": "stream",
     "text": [
      "C:\\Users\\kdmen\\miniconda3\\lib\\site-packages\\sklearn\\svm\\_base.py:1225: ConvergenceWarning: Liblinear failed to converge, increase the number of iterations.\n",
      "  warnings.warn(\n"
     ]
    },
    {
     "name": "stdout",
     "output_type": "stream",
     "text": [
      "5 of 7\n",
      "6 of 7\n",
      "7 of 7\n"
     ]
    }
   ],
   "source": [
    "for model_num, model in enumerate(my_models):\n",
    "    print(f\"{model_num+1} of {len(my_models)}\")\n",
    "    SSflatten_dec_res_df = train_model(model, XtrainSS, y_train, cv, SSflatten_dec_res_df)"
   ]
  },
  {
   "cell_type": "code",
   "execution_count": 32,
   "id": "a86f82cd",
   "metadata": {},
   "outputs": [
    {
     "data": {
      "text/html": [
       "<div>\n",
       "<style scoped>\n",
       "    .dataframe tbody tr th:only-of-type {\n",
       "        vertical-align: middle;\n",
       "    }\n",
       "\n",
       "    .dataframe tbody tr th {\n",
       "        vertical-align: top;\n",
       "    }\n",
       "\n",
       "    .dataframe thead th {\n",
       "        text-align: right;\n",
       "    }\n",
       "</style>\n",
       "<table border=\"1\" class=\"dataframe\">\n",
       "  <thead>\n",
       "    <tr style=\"text-align: right;\">\n",
       "      <th></th>\n",
       "      <th>Algorithm</th>\n",
       "      <th>One Off Acc</th>\n",
       "      <th>CV Acc</th>\n",
       "      <th>K Folds</th>\n",
       "      <th>N</th>\n",
       "    </tr>\n",
       "  </thead>\n",
       "  <tbody>\n",
       "    <tr>\n",
       "      <th>0</th>\n",
       "      <td>LogisticRegression()</td>\n",
       "      <td>89.322</td>\n",
       "      <td>70.114</td>\n",
       "      <td>10</td>\n",
       "      <td>NA</td>\n",
       "    </tr>\n",
       "    <tr>\n",
       "      <th>0</th>\n",
       "      <td>KNeighborsClassifier()</td>\n",
       "      <td>82.740</td>\n",
       "      <td>74.211</td>\n",
       "      <td>10</td>\n",
       "      <td>NA</td>\n",
       "    </tr>\n",
       "    <tr>\n",
       "      <th>0</th>\n",
       "      <td>GaussianNB()</td>\n",
       "      <td>71.592</td>\n",
       "      <td>69.778</td>\n",
       "      <td>10</td>\n",
       "      <td>NA</td>\n",
       "    </tr>\n",
       "    <tr>\n",
       "      <th>0</th>\n",
       "      <td>LinearSVC()</td>\n",
       "      <td>83.479</td>\n",
       "      <td>71.189</td>\n",
       "      <td>10</td>\n",
       "      <td>NA</td>\n",
       "    </tr>\n",
       "    <tr>\n",
       "      <th>0</th>\n",
       "      <td>SGDClassifier()</td>\n",
       "      <td>78.442</td>\n",
       "      <td>68.435</td>\n",
       "      <td>10</td>\n",
       "      <td>NA</td>\n",
       "    </tr>\n",
       "    <tr>\n",
       "      <th>0</th>\n",
       "      <td>DecisionTreeClassifier()</td>\n",
       "      <td>100.000</td>\n",
       "      <td>65.480</td>\n",
       "      <td>10</td>\n",
       "      <td>NA</td>\n",
       "    </tr>\n",
       "    <tr>\n",
       "      <th>0</th>\n",
       "      <td>GradientBoostingClassifier()</td>\n",
       "      <td>100.000</td>\n",
       "      <td>88.046</td>\n",
       "      <td>10</td>\n",
       "      <td>NA</td>\n",
       "    </tr>\n",
       "  </tbody>\n",
       "</table>\n",
       "</div>"
      ],
      "text/plain": [
       "                      Algorithm  One Off Acc  CV Acc K Folds   N\n",
       "0          LogisticRegression()       89.322  70.114      10  NA\n",
       "0        KNeighborsClassifier()       82.740  74.211      10  NA\n",
       "0                  GaussianNB()       71.592  69.778      10  NA\n",
       "0                   LinearSVC()       83.479  71.189      10  NA\n",
       "0               SGDClassifier()       78.442  68.435      10  NA\n",
       "0      DecisionTreeClassifier()      100.000  65.480      10  NA\n",
       "0  GradientBoostingClassifier()      100.000  88.046      10  NA"
      ]
     },
     "execution_count": 32,
     "metadata": {},
     "output_type": "execute_result"
    }
   ],
   "source": [
    "SSflatten_dec_res_df.head(100)"
   ]
  },
  {
   "cell_type": "markdown",
   "id": "d501e967",
   "metadata": {},
   "source": [
    "Thus we see no real performance gains by using standard scaler.\n",
    "\n",
    "Now try and optimize the best performer (GBT)\n",
    "1. max_depth: int, default=3\n",
    "- The maximum depth of the individual regression estimators. The maximum depth limits the number of nodes in the tree. Tune this parameter for best performance; the best value depends on the interaction of the input variables. Values must be in the range [1, inf)."
   ]
  },
  {
   "cell_type": "markdown",
   "id": "0608fadd",
   "metadata": {},
   "source": [
    "## Case 3: Feed in a Vector of Norms\n",
    "> This isn't super high priority since the flattened version has high accuracy\n",
    "> Ideally, we would be able to use norms or DFT coefficients to achieve the same purpose.  If it still can link then that would be bad, for our specific application (eg the decoder matrix), DFT coeffs and heavily windowed data and/or norms cannot be used in the convex optimziation problem and thus this doesn't have a clear point for now)"
   ]
  },
  {
   "cell_type": "code",
   "execution_count": 33,
   "id": "7628cde3",
   "metadata": {},
   "outputs": [
    {
     "data": {
      "text/plain": [
       "0"
      ]
     },
     "execution_count": 33,
     "metadata": {},
     "output_type": "execute_result"
    }
   ],
   "source": [
    "'''\n",
    "#dec_vec_norm_df\n",
    "dec_vec_norm_input_df = dec_vec_norm_df.drop([\"Subject\",  \"Condition\"], axis=1)\n",
    "dec_vec_norm_input_df.head()\n",
    "\n",
    "# norm_label_df probably needs to be changed to a new variable... shouldn't have the same shape...\n",
    "X_train, y_train, X_test, y_test, X_val, y_val = train_test_val_split(norm_input_df, norm_label_df)\n",
    "y_train = np.ravel(y_train)\n",
    "\n",
    "print(X_train.shape)\n",
    "X_train.head()\n",
    "\n",
    "X_train2 = pd.DataFrame()\n",
    "X_test2 = pd.DataFrame()\n",
    "for my_row in range(X_train.shape[0]):\n",
    "    test=pd.DataFrame(X_train.iloc[my_row,0]).T\n",
    "    X_train2 = pd.concat((X_train2, test))\n",
    "    \n",
    "for my_row in range(X_test.shape[0]):\n",
    "    test=pd.DataFrame(X_test.iloc[my_row,0]).T\n",
    "    X_test2 = pd.concat((X_test2, test))\n",
    "X_train2.head()\n",
    "\n",
    "for model_num, model in enumerate(my_models):\n",
    "    print(f\"{model_num} of {len(my_models)}\")\n",
    "    norm_vec_res_df = train_model(model, X_train2, y_train, cv, norm_vec_res_df)\n",
    "    \n",
    "norm_vec_res_df.head(100)\n",
    "'''\n",
    "0"
   ]
  },
  {
   "cell_type": "code",
   "execution_count": null,
   "id": "c2bb117d",
   "metadata": {},
   "outputs": [],
   "source": []
  }
 ],
 "metadata": {
  "kernelspec": {
   "display_name": "Python 3 (ipykernel)",
   "language": "python",
   "name": "python3"
  },
  "language_info": {
   "codemirror_mode": {
    "name": "ipython",
    "version": 3
   },
   "file_extension": ".py",
   "mimetype": "text/x-python",
   "name": "python",
   "nbconvert_exporter": "python",
   "pygments_lexer": "ipython3",
   "version": "3.9.13"
  }
 },
 "nbformat": 4,
 "nbformat_minor": 5
}
