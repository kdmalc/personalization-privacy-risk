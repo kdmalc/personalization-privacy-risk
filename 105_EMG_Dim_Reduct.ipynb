{
 "cells": [
  {
   "cell_type": "markdown",
   "id": "d17f193d",
   "metadata": {},
   "source": [
    "> __Purpose:__ Implement NNMR (non-negative matrix reduction/factorization) to remove the dependence on channel number between participants.  Ideally, we want to be able to combine decoder/weights in FL such that just because the same muscle is measured by different channels for different uses/participants, it won't require a whole new decoder and/or fundamentally break the global model. <br>\n",
    "<br>\n",
    "> __Original focus:__ find ways to reduce the dimensionality of EMG data so that we don't need to store so much data, but we can still achieve similar accuracies. We accomplished this original goal in code that is now in NB 106 where we just a very basic enveloping technique (running mean every X samples, mapping X:1 reduction in datasize).  That analysis needs to repeated later (probably here) but with the raw EMG data.\n",
    "\n",
    "1. NNMR/NMF on the channels - decrease # of channels, run PCA on all participants to find X significant axes (ideally < 10), and then apply the same transformation to all participants"
   ]
  },
  {
   "cell_type": "code",
   "execution_count": 1,
   "id": "a61b3128",
   "metadata": {},
   "outputs": [],
   "source": [
    "import numpy as np\n",
    "import matplotlib.pyplot as plt\n",
    "import seaborn as sns\n",
    "import time\n",
    "import pandas as pd\n",
    "#import random\n",
    "from kcs_ml_infr import *\n",
    "from experiment_params import *\n",
    "\n",
    "#random.seed(a=1)"
   ]
  },
  {
   "cell_type": "markdown",
   "id": "a850bb15",
   "metadata": {},
   "source": [
    "# Load In Data"
   ]
  },
  {
   "cell_type": "markdown",
   "id": "04a97330",
   "metadata": {},
   "source": [
    "Load in the other data\n",
    "> This cell takes forever to run..."
   ]
  },
  {
   "cell_type": "code",
   "execution_count": 2,
   "id": "30b50886",
   "metadata": {},
   "outputs": [
    {
     "name": "stdout",
     "output_type": "stream",
     "text": [
      "537.6636724472046\n"
     ]
    }
   ],
   "source": [
    "t0 = time.time()\n",
    "\n",
    "emg_data_df1 = pd.read_csv(\"Data\\emg_full_data1.csv\")\n",
    "emg_labels_df1 = pd.read_csv(\"Data\\emg_full_labels1.csv\")\n",
    "emg_data_df2 = pd.read_csv(\"Data\\emg_full_data2.csv\")\n",
    "emg_labels_df2 = pd.read_csv(\"Data\\emg_full_labels2.csv\")\n",
    "\n",
    "t1 = time.time()\n",
    "total = t1-t0  \n",
    "print(total)"
   ]
  },
  {
   "cell_type": "code",
   "execution_count": 3,
   "id": "d045a760",
   "metadata": {},
   "outputs": [],
   "source": [
    "emg_data_df = pd.concat((emg_data_df1, emg_data_df2))\n",
    "emg_labels_df = pd.concat((emg_labels_df1, emg_labels_df2))"
   ]
  },
  {
   "cell_type": "code",
   "execution_count": 4,
   "id": "4c87b437",
   "metadata": {},
   "outputs": [
    {
     "name": "stdout",
     "output_type": "stream",
     "text": [
      "(14336, 20771)\n"
     ]
    },
    {
     "data": {
      "text/html": [
       "<div>\n",
       "<style scoped>\n",
       "    .dataframe tbody tr th:only-of-type {\n",
       "        vertical-align: middle;\n",
       "    }\n",
       "\n",
       "    .dataframe tbody tr th {\n",
       "        vertical-align: top;\n",
       "    }\n",
       "\n",
       "    .dataframe thead th {\n",
       "        text-align: right;\n",
       "    }\n",
       "</style>\n",
       "<table border=\"1\" class=\"dataframe\">\n",
       "  <thead>\n",
       "    <tr style=\"text-align: right;\">\n",
       "      <th></th>\n",
       "      <th>0</th>\n",
       "      <th>1</th>\n",
       "      <th>2</th>\n",
       "      <th>3</th>\n",
       "      <th>4</th>\n",
       "      <th>5</th>\n",
       "      <th>6</th>\n",
       "      <th>7</th>\n",
       "      <th>8</th>\n",
       "      <th>9</th>\n",
       "      <th>...</th>\n",
       "      <th>20760</th>\n",
       "      <th>20761</th>\n",
       "      <th>20762</th>\n",
       "      <th>20763</th>\n",
       "      <th>20764</th>\n",
       "      <th>20765</th>\n",
       "      <th>20766</th>\n",
       "      <th>20767</th>\n",
       "      <th>20768</th>\n",
       "      <th>20769</th>\n",
       "    </tr>\n",
       "  </thead>\n",
       "  <tbody>\n",
       "    <tr>\n",
       "      <th>0</th>\n",
       "      <td>0.0</td>\n",
       "      <td>0.0</td>\n",
       "      <td>0.0</td>\n",
       "      <td>10.778148</td>\n",
       "      <td>10.778148</td>\n",
       "      <td>10.778148</td>\n",
       "      <td>26.874088</td>\n",
       "      <td>43.189501</td>\n",
       "      <td>43.189501</td>\n",
       "      <td>38.594581</td>\n",
       "      <td>...</td>\n",
       "      <td>54.343173</td>\n",
       "      <td>54.343173</td>\n",
       "      <td>53.363208</td>\n",
       "      <td>53.363208</td>\n",
       "      <td>53.363208</td>\n",
       "      <td>53.363208</td>\n",
       "      <td>59.557374</td>\n",
       "      <td>59.557374</td>\n",
       "      <td>59.557374</td>\n",
       "      <td>55.634152</td>\n",
       "    </tr>\n",
       "    <tr>\n",
       "      <th>1</th>\n",
       "      <td>0.0</td>\n",
       "      <td>0.0</td>\n",
       "      <td>0.0</td>\n",
       "      <td>9.891218</td>\n",
       "      <td>9.891218</td>\n",
       "      <td>9.891218</td>\n",
       "      <td>23.589349</td>\n",
       "      <td>36.477933</td>\n",
       "      <td>36.477933</td>\n",
       "      <td>31.296507</td>\n",
       "      <td>...</td>\n",
       "      <td>79.894291</td>\n",
       "      <td>79.894291</td>\n",
       "      <td>86.860329</td>\n",
       "      <td>86.860329</td>\n",
       "      <td>86.860329</td>\n",
       "      <td>86.860329</td>\n",
       "      <td>71.319955</td>\n",
       "      <td>71.319955</td>\n",
       "      <td>71.319955</td>\n",
       "      <td>56.606641</td>\n",
       "    </tr>\n",
       "    <tr>\n",
       "      <th>2</th>\n",
       "      <td>0.0</td>\n",
       "      <td>0.0</td>\n",
       "      <td>0.0</td>\n",
       "      <td>1.606057</td>\n",
       "      <td>1.606057</td>\n",
       "      <td>1.606057</td>\n",
       "      <td>8.623857</td>\n",
       "      <td>15.845217</td>\n",
       "      <td>15.845217</td>\n",
       "      <td>17.957593</td>\n",
       "      <td>...</td>\n",
       "      <td>89.500295</td>\n",
       "      <td>89.500295</td>\n",
       "      <td>84.266738</td>\n",
       "      <td>84.266738</td>\n",
       "      <td>84.266738</td>\n",
       "      <td>84.266738</td>\n",
       "      <td>71.979639</td>\n",
       "      <td>71.979639</td>\n",
       "      <td>71.979639</td>\n",
       "      <td>65.918534</td>\n",
       "    </tr>\n",
       "    <tr>\n",
       "      <th>3</th>\n",
       "      <td>0.0</td>\n",
       "      <td>0.0</td>\n",
       "      <td>0.0</td>\n",
       "      <td>3.668527</td>\n",
       "      <td>3.668527</td>\n",
       "      <td>3.668527</td>\n",
       "      <td>7.165376</td>\n",
       "      <td>11.628290</td>\n",
       "      <td>11.628290</td>\n",
       "      <td>15.308951</td>\n",
       "      <td>...</td>\n",
       "      <td>68.943668</td>\n",
       "      <td>68.943668</td>\n",
       "      <td>66.983974</td>\n",
       "      <td>66.983974</td>\n",
       "      <td>66.983974</td>\n",
       "      <td>66.983974</td>\n",
       "      <td>64.104558</td>\n",
       "      <td>64.104558</td>\n",
       "      <td>64.104558</td>\n",
       "      <td>61.848159</td>\n",
       "    </tr>\n",
       "    <tr>\n",
       "      <th>4</th>\n",
       "      <td>0.0</td>\n",
       "      <td>0.0</td>\n",
       "      <td>0.0</td>\n",
       "      <td>1.411810</td>\n",
       "      <td>1.411810</td>\n",
       "      <td>1.411810</td>\n",
       "      <td>9.707134</td>\n",
       "      <td>15.677262</td>\n",
       "      <td>15.677262</td>\n",
       "      <td>18.922410</td>\n",
       "      <td>...</td>\n",
       "      <td>43.565918</td>\n",
       "      <td>43.565918</td>\n",
       "      <td>42.343590</td>\n",
       "      <td>42.343590</td>\n",
       "      <td>42.343590</td>\n",
       "      <td>42.343590</td>\n",
       "      <td>42.235306</td>\n",
       "      <td>42.235306</td>\n",
       "      <td>42.235306</td>\n",
       "      <td>41.818073</td>\n",
       "    </tr>\n",
       "  </tbody>\n",
       "</table>\n",
       "<p>5 rows × 20770 columns</p>\n",
       "</div>"
      ],
      "text/plain": [
       "     0    1    2          3          4          5          6          7  \\\n",
       "0  0.0  0.0  0.0  10.778148  10.778148  10.778148  26.874088  43.189501   \n",
       "1  0.0  0.0  0.0   9.891218   9.891218   9.891218  23.589349  36.477933   \n",
       "2  0.0  0.0  0.0   1.606057   1.606057   1.606057   8.623857  15.845217   \n",
       "3  0.0  0.0  0.0   3.668527   3.668527   3.668527   7.165376  11.628290   \n",
       "4  0.0  0.0  0.0   1.411810   1.411810   1.411810   9.707134  15.677262   \n",
       "\n",
       "           8          9  ...      20760      20761      20762      20763  \\\n",
       "0  43.189501  38.594581  ...  54.343173  54.343173  53.363208  53.363208   \n",
       "1  36.477933  31.296507  ...  79.894291  79.894291  86.860329  86.860329   \n",
       "2  15.845217  17.957593  ...  89.500295  89.500295  84.266738  84.266738   \n",
       "3  11.628290  15.308951  ...  68.943668  68.943668  66.983974  66.983974   \n",
       "4  15.677262  18.922410  ...  43.565918  43.565918  42.343590  42.343590   \n",
       "\n",
       "       20764      20765      20766      20767      20768      20769  \n",
       "0  53.363208  53.363208  59.557374  59.557374  59.557374  55.634152  \n",
       "1  86.860329  86.860329  71.319955  71.319955  71.319955  56.606641  \n",
       "2  84.266738  84.266738  71.979639  71.979639  71.979639  65.918534  \n",
       "3  66.983974  66.983974  64.104558  64.104558  64.104558  61.848159  \n",
       "4  42.343590  42.343590  42.235306  42.235306  42.235306  41.818073  \n",
       "\n",
       "[5 rows x 20770 columns]"
      ]
     },
     "execution_count": 4,
     "metadata": {},
     "output_type": "execute_result"
    }
   ],
   "source": [
    "print(emg_data_df.shape)\n",
    "emg_data_df.drop('Unnamed: 0', axis=1, inplace=True)\n",
    "emg_data_df.head()"
   ]
  },
  {
   "cell_type": "code",
   "execution_count": 5,
   "id": "3ad1bcc6",
   "metadata": {
    "scrolled": true
   },
   "outputs": [
    {
     "name": "stdout",
     "output_type": "stream",
     "text": [
      "(14336, 4)\n"
     ]
    },
    {
     "data": {
      "text/html": [
       "<div>\n",
       "<style scoped>\n",
       "    .dataframe tbody tr th:only-of-type {\n",
       "        vertical-align: middle;\n",
       "    }\n",
       "\n",
       "    .dataframe tbody tr th {\n",
       "        vertical-align: top;\n",
       "    }\n",
       "\n",
       "    .dataframe thead th {\n",
       "        text-align: right;\n",
       "    }\n",
       "</style>\n",
       "<table border=\"1\" class=\"dataframe\">\n",
       "  <thead>\n",
       "    <tr style=\"text-align: right;\">\n",
       "      <th></th>\n",
       "      <th>Subject</th>\n",
       "      <th>Condition</th>\n",
       "      <th>Channel</th>\n",
       "    </tr>\n",
       "  </thead>\n",
       "  <tbody>\n",
       "    <tr>\n",
       "      <th>0</th>\n",
       "      <td>METACPHS_S106</td>\n",
       "      <td>0</td>\n",
       "      <td>0</td>\n",
       "    </tr>\n",
       "    <tr>\n",
       "      <th>1</th>\n",
       "      <td>METACPHS_S106</td>\n",
       "      <td>0</td>\n",
       "      <td>1</td>\n",
       "    </tr>\n",
       "    <tr>\n",
       "      <th>2</th>\n",
       "      <td>METACPHS_S106</td>\n",
       "      <td>0</td>\n",
       "      <td>2</td>\n",
       "    </tr>\n",
       "    <tr>\n",
       "      <th>3</th>\n",
       "      <td>METACPHS_S106</td>\n",
       "      <td>0</td>\n",
       "      <td>3</td>\n",
       "    </tr>\n",
       "    <tr>\n",
       "      <th>4</th>\n",
       "      <td>METACPHS_S106</td>\n",
       "      <td>0</td>\n",
       "      <td>4</td>\n",
       "    </tr>\n",
       "  </tbody>\n",
       "</table>\n",
       "</div>"
      ],
      "text/plain": [
       "         Subject  Condition  Channel\n",
       "0  METACPHS_S106          0        0\n",
       "1  METACPHS_S106          0        1\n",
       "2  METACPHS_S106          0        2\n",
       "3  METACPHS_S106          0        3\n",
       "4  METACPHS_S106          0        4"
      ]
     },
     "execution_count": 5,
     "metadata": {},
     "output_type": "execute_result"
    }
   ],
   "source": [
    "print(emg_labels_df.shape)\n",
    "emg_labels_df.drop('Unnamed: 0', axis=1, inplace=True)\n",
    "emg_labels_df.head()"
   ]
  },
  {
   "cell_type": "code",
   "execution_count": 6,
   "id": "204c1691",
   "metadata": {},
   "outputs": [
    {
     "data": {
      "text/html": [
       "<div>\n",
       "<style scoped>\n",
       "    .dataframe tbody tr th:only-of-type {\n",
       "        vertical-align: middle;\n",
       "    }\n",
       "\n",
       "    .dataframe tbody tr th {\n",
       "        vertical-align: top;\n",
       "    }\n",
       "\n",
       "    .dataframe thead th {\n",
       "        text-align: right;\n",
       "    }\n",
       "</style>\n",
       "<table border=\"1\" class=\"dataframe\">\n",
       "  <thead>\n",
       "    <tr style=\"text-align: right;\">\n",
       "      <th></th>\n",
       "      <th>Subject</th>\n",
       "    </tr>\n",
       "  </thead>\n",
       "  <tbody>\n",
       "    <tr>\n",
       "      <th>0</th>\n",
       "      <td>0</td>\n",
       "    </tr>\n",
       "    <tr>\n",
       "      <th>1</th>\n",
       "      <td>0</td>\n",
       "    </tr>\n",
       "    <tr>\n",
       "      <th>2</th>\n",
       "      <td>0</td>\n",
       "    </tr>\n",
       "    <tr>\n",
       "      <th>3</th>\n",
       "      <td>0</td>\n",
       "    </tr>\n",
       "    <tr>\n",
       "      <th>4</th>\n",
       "      <td>0</td>\n",
       "    </tr>\n",
       "  </tbody>\n",
       "</table>\n",
       "</div>"
      ],
      "text/plain": [
       "   Subject\n",
       "0        0\n",
       "1        0\n",
       "2        0\n",
       "3        0\n",
       "4        0"
      ]
     },
     "execution_count": 6,
     "metadata": {},
     "output_type": "execute_result"
    }
   ],
   "source": [
    "labels_df = pd.DataFrame(emg_labels_df['Subject'].map(key_to_num))\n",
    "labels_df.head()"
   ]
  },
  {
   "cell_type": "markdown",
   "id": "fefeee78",
   "metadata": {},
   "source": [
    "## NNMR On the Channels\n",
    "> https://stackoverflow.com/questions/50796024/feature-variable-importance-after-a-pca-analysis\n",
    "\n",
    "> \"It is essential to perform feature scaling before running PCA if there is a significant difference in the scale between the features of the dataset; for example, one feature ranges in values between 0 and 1 and another between 100 and 1,000. PCA is very sensitive to the relative ranges of the original features. We can apply z-score standardization to get all features into the same scale by using Scikit-learn StandardScaler() class which is in the preprocessing submodule in Scikit-learn.\""
   ]
  },
  {
   "cell_type": "code",
   "execution_count": 27,
   "id": "137decc4",
   "metadata": {},
   "outputs": [],
   "source": [
    "#from sklearn import datasets\n",
    "from sklearn.decomposition import PCA\n",
    "#from sklearn.decomposition import NMF\n",
    "#from sklearn.preprocessing import StandardScaler"
   ]
  },
  {
   "cell_type": "markdown",
   "id": "93ef5b22",
   "metadata": {},
   "source": [
    "Here, pca.components_ has shape [n_components, n_features]. Thus, by looking at the PC1 (First Principal Component) which is the first row: [0.52237162 0.26335492 0.58125401 0.56561105]] we can conclude that feature 1, 3 and 4 (or Var 1, 3 and 4 in the biplot) are the most important. This is also clearly visible from the biplot (that's why we often use this plot to summarize the information in a visual way).\n",
    "\n",
    "To sum up, look at the absolute values of the Eigenvectors' components corresponding to the k largest Eigenvalues. In sklearn the components are sorted by explained_variance_. The larger they are these absolute values, the more a specific feature contributes to that principal component.\n",
    "\n"
   ]
  },
  {
   "cell_type": "code",
   "execution_count": 62,
   "id": "38300467",
   "metadata": {},
   "outputs": [
    {
     "name": "stdout",
     "output_type": "stream",
     "text": [
      "(14336, 20770)\n",
      "emg_data_df.shape[0] / 64 channels = 224.0\n",
      "224.0 / 8 conditions = 28.0\n",
      "28.0 / 2 blocks = 14.0 participants\n",
      "\n",
      "I think 2 XY have not been separated out yet, e.g. EMG data is just the signal and not separated into XY components.  Or maybe this is just the first block? Can't remember...\n"
     ]
    },
    {
     "data": {
      "text/html": [
       "<div>\n",
       "<style scoped>\n",
       "    .dataframe tbody tr th:only-of-type {\n",
       "        vertical-align: middle;\n",
       "    }\n",
       "\n",
       "    .dataframe tbody tr th {\n",
       "        vertical-align: top;\n",
       "    }\n",
       "\n",
       "    .dataframe thead th {\n",
       "        text-align: right;\n",
       "    }\n",
       "</style>\n",
       "<table border=\"1\" class=\"dataframe\">\n",
       "  <thead>\n",
       "    <tr style=\"text-align: right;\">\n",
       "      <th></th>\n",
       "      <th>0</th>\n",
       "      <th>1</th>\n",
       "      <th>2</th>\n",
       "      <th>3</th>\n",
       "      <th>4</th>\n",
       "      <th>5</th>\n",
       "      <th>6</th>\n",
       "      <th>7</th>\n",
       "      <th>8</th>\n",
       "      <th>9</th>\n",
       "      <th>...</th>\n",
       "      <th>20760</th>\n",
       "      <th>20761</th>\n",
       "      <th>20762</th>\n",
       "      <th>20763</th>\n",
       "      <th>20764</th>\n",
       "      <th>20765</th>\n",
       "      <th>20766</th>\n",
       "      <th>20767</th>\n",
       "      <th>20768</th>\n",
       "      <th>20769</th>\n",
       "    </tr>\n",
       "  </thead>\n",
       "  <tbody>\n",
       "    <tr>\n",
       "      <th>0</th>\n",
       "      <td>0.0</td>\n",
       "      <td>0.0</td>\n",
       "      <td>0.0</td>\n",
       "      <td>10.778148</td>\n",
       "      <td>10.778148</td>\n",
       "      <td>10.778148</td>\n",
       "      <td>26.874088</td>\n",
       "      <td>43.189501</td>\n",
       "      <td>43.189501</td>\n",
       "      <td>38.594581</td>\n",
       "      <td>...</td>\n",
       "      <td>54.343173</td>\n",
       "      <td>54.343173</td>\n",
       "      <td>53.363208</td>\n",
       "      <td>53.363208</td>\n",
       "      <td>53.363208</td>\n",
       "      <td>53.363208</td>\n",
       "      <td>59.557374</td>\n",
       "      <td>59.557374</td>\n",
       "      <td>59.557374</td>\n",
       "      <td>55.634152</td>\n",
       "    </tr>\n",
       "    <tr>\n",
       "      <th>1</th>\n",
       "      <td>0.0</td>\n",
       "      <td>0.0</td>\n",
       "      <td>0.0</td>\n",
       "      <td>9.891218</td>\n",
       "      <td>9.891218</td>\n",
       "      <td>9.891218</td>\n",
       "      <td>23.589349</td>\n",
       "      <td>36.477933</td>\n",
       "      <td>36.477933</td>\n",
       "      <td>31.296507</td>\n",
       "      <td>...</td>\n",
       "      <td>79.894291</td>\n",
       "      <td>79.894291</td>\n",
       "      <td>86.860329</td>\n",
       "      <td>86.860329</td>\n",
       "      <td>86.860329</td>\n",
       "      <td>86.860329</td>\n",
       "      <td>71.319955</td>\n",
       "      <td>71.319955</td>\n",
       "      <td>71.319955</td>\n",
       "      <td>56.606641</td>\n",
       "    </tr>\n",
       "    <tr>\n",
       "      <th>2</th>\n",
       "      <td>0.0</td>\n",
       "      <td>0.0</td>\n",
       "      <td>0.0</td>\n",
       "      <td>1.606057</td>\n",
       "      <td>1.606057</td>\n",
       "      <td>1.606057</td>\n",
       "      <td>8.623857</td>\n",
       "      <td>15.845217</td>\n",
       "      <td>15.845217</td>\n",
       "      <td>17.957593</td>\n",
       "      <td>...</td>\n",
       "      <td>89.500295</td>\n",
       "      <td>89.500295</td>\n",
       "      <td>84.266738</td>\n",
       "      <td>84.266738</td>\n",
       "      <td>84.266738</td>\n",
       "      <td>84.266738</td>\n",
       "      <td>71.979639</td>\n",
       "      <td>71.979639</td>\n",
       "      <td>71.979639</td>\n",
       "      <td>65.918534</td>\n",
       "    </tr>\n",
       "    <tr>\n",
       "      <th>3</th>\n",
       "      <td>0.0</td>\n",
       "      <td>0.0</td>\n",
       "      <td>0.0</td>\n",
       "      <td>3.668527</td>\n",
       "      <td>3.668527</td>\n",
       "      <td>3.668527</td>\n",
       "      <td>7.165376</td>\n",
       "      <td>11.628290</td>\n",
       "      <td>11.628290</td>\n",
       "      <td>15.308951</td>\n",
       "      <td>...</td>\n",
       "      <td>68.943668</td>\n",
       "      <td>68.943668</td>\n",
       "      <td>66.983974</td>\n",
       "      <td>66.983974</td>\n",
       "      <td>66.983974</td>\n",
       "      <td>66.983974</td>\n",
       "      <td>64.104558</td>\n",
       "      <td>64.104558</td>\n",
       "      <td>64.104558</td>\n",
       "      <td>61.848159</td>\n",
       "    </tr>\n",
       "    <tr>\n",
       "      <th>4</th>\n",
       "      <td>0.0</td>\n",
       "      <td>0.0</td>\n",
       "      <td>0.0</td>\n",
       "      <td>1.411810</td>\n",
       "      <td>1.411810</td>\n",
       "      <td>1.411810</td>\n",
       "      <td>9.707134</td>\n",
       "      <td>15.677262</td>\n",
       "      <td>15.677262</td>\n",
       "      <td>18.922410</td>\n",
       "      <td>...</td>\n",
       "      <td>43.565918</td>\n",
       "      <td>43.565918</td>\n",
       "      <td>42.343590</td>\n",
       "      <td>42.343590</td>\n",
       "      <td>42.343590</td>\n",
       "      <td>42.343590</td>\n",
       "      <td>42.235306</td>\n",
       "      <td>42.235306</td>\n",
       "      <td>42.235306</td>\n",
       "      <td>41.818073</td>\n",
       "    </tr>\n",
       "  </tbody>\n",
       "</table>\n",
       "<p>5 rows × 20770 columns</p>\n",
       "</div>"
      ],
      "text/plain": [
       "     0    1    2          3          4          5          6          7  \\\n",
       "0  0.0  0.0  0.0  10.778148  10.778148  10.778148  26.874088  43.189501   \n",
       "1  0.0  0.0  0.0   9.891218   9.891218   9.891218  23.589349  36.477933   \n",
       "2  0.0  0.0  0.0   1.606057   1.606057   1.606057   8.623857  15.845217   \n",
       "3  0.0  0.0  0.0   3.668527   3.668527   3.668527   7.165376  11.628290   \n",
       "4  0.0  0.0  0.0   1.411810   1.411810   1.411810   9.707134  15.677262   \n",
       "\n",
       "           8          9  ...      20760      20761      20762      20763  \\\n",
       "0  43.189501  38.594581  ...  54.343173  54.343173  53.363208  53.363208   \n",
       "1  36.477933  31.296507  ...  79.894291  79.894291  86.860329  86.860329   \n",
       "2  15.845217  17.957593  ...  89.500295  89.500295  84.266738  84.266738   \n",
       "3  11.628290  15.308951  ...  68.943668  68.943668  66.983974  66.983974   \n",
       "4  15.677262  18.922410  ...  43.565918  43.565918  42.343590  42.343590   \n",
       "\n",
       "       20764      20765      20766      20767      20768      20769  \n",
       "0  53.363208  53.363208  59.557374  59.557374  59.557374  55.634152  \n",
       "1  86.860329  86.860329  71.319955  71.319955  71.319955  56.606641  \n",
       "2  84.266738  84.266738  71.979639  71.979639  71.979639  65.918534  \n",
       "3  66.983974  66.983974  64.104558  64.104558  64.104558  61.848159  \n",
       "4  42.343590  42.343590  42.235306  42.235306  42.235306  41.818073  \n",
       "\n",
       "[5 rows x 20770 columns]"
      ]
     },
     "execution_count": 62,
     "metadata": {},
     "output_type": "execute_result"
    }
   ],
   "source": [
    "print(emg_data_df.shape)\n",
    "print(f\"emg_data_df.shape[0] / 64 channels = {emg_data_df.shape[0]/64}\")\n",
    "print(f\"{emg_data_df.shape[0]/64} / 8 conditions = {emg_data_df.shape[0]/64/8}\")\n",
    "print(f\"{emg_data_df.shape[0]/64/8} / 2 blocks = {emg_data_df.shape[0]/64/8/2} participants\")\n",
    "print()\n",
    "print(\"I think 2 XY have not been separated out yet, e.g. EMG data is just the signal and not separated into XY components.  Or maybe this is just the first block? Can't remember...\")\n",
    "emg_data_df.head()"
   ]
  },
  {
   "cell_type": "markdown",
   "id": "b6a23d01",
   "metadata": {},
   "source": [
    "Let's restrict it to just the first condition of the first participant, so just the first 64 rows (64 channels)"
   ]
  },
  {
   "cell_type": "code",
   "execution_count": 20,
   "id": "cdb07389",
   "metadata": {
    "scrolled": true
   },
   "outputs": [
    {
     "name": "stdout",
     "output_type": "stream",
     "text": [
      "(64, 20770)\n"
     ]
    },
    {
     "data": {
      "text/html": [
       "<div>\n",
       "<style scoped>\n",
       "    .dataframe tbody tr th:only-of-type {\n",
       "        vertical-align: middle;\n",
       "    }\n",
       "\n",
       "    .dataframe tbody tr th {\n",
       "        vertical-align: top;\n",
       "    }\n",
       "\n",
       "    .dataframe thead th {\n",
       "        text-align: right;\n",
       "    }\n",
       "</style>\n",
       "<table border=\"1\" class=\"dataframe\">\n",
       "  <thead>\n",
       "    <tr style=\"text-align: right;\">\n",
       "      <th></th>\n",
       "      <th>0</th>\n",
       "      <th>1</th>\n",
       "      <th>2</th>\n",
       "      <th>3</th>\n",
       "      <th>4</th>\n",
       "      <th>5</th>\n",
       "      <th>6</th>\n",
       "      <th>7</th>\n",
       "      <th>8</th>\n",
       "      <th>9</th>\n",
       "      <th>...</th>\n",
       "      <th>20760</th>\n",
       "      <th>20761</th>\n",
       "      <th>20762</th>\n",
       "      <th>20763</th>\n",
       "      <th>20764</th>\n",
       "      <th>20765</th>\n",
       "      <th>20766</th>\n",
       "      <th>20767</th>\n",
       "      <th>20768</th>\n",
       "      <th>20769</th>\n",
       "    </tr>\n",
       "  </thead>\n",
       "  <tbody>\n",
       "    <tr>\n",
       "      <th>0</th>\n",
       "      <td>0.0</td>\n",
       "      <td>0.0</td>\n",
       "      <td>0.0</td>\n",
       "      <td>10.778148</td>\n",
       "      <td>10.778148</td>\n",
       "      <td>10.778148</td>\n",
       "      <td>26.874088</td>\n",
       "      <td>43.189501</td>\n",
       "      <td>43.189501</td>\n",
       "      <td>38.594581</td>\n",
       "      <td>...</td>\n",
       "      <td>54.343173</td>\n",
       "      <td>54.343173</td>\n",
       "      <td>53.363208</td>\n",
       "      <td>53.363208</td>\n",
       "      <td>53.363208</td>\n",
       "      <td>53.363208</td>\n",
       "      <td>59.557374</td>\n",
       "      <td>59.557374</td>\n",
       "      <td>59.557374</td>\n",
       "      <td>55.634152</td>\n",
       "    </tr>\n",
       "    <tr>\n",
       "      <th>1</th>\n",
       "      <td>0.0</td>\n",
       "      <td>0.0</td>\n",
       "      <td>0.0</td>\n",
       "      <td>9.891218</td>\n",
       "      <td>9.891218</td>\n",
       "      <td>9.891218</td>\n",
       "      <td>23.589349</td>\n",
       "      <td>36.477933</td>\n",
       "      <td>36.477933</td>\n",
       "      <td>31.296507</td>\n",
       "      <td>...</td>\n",
       "      <td>79.894291</td>\n",
       "      <td>79.894291</td>\n",
       "      <td>86.860329</td>\n",
       "      <td>86.860329</td>\n",
       "      <td>86.860329</td>\n",
       "      <td>86.860329</td>\n",
       "      <td>71.319955</td>\n",
       "      <td>71.319955</td>\n",
       "      <td>71.319955</td>\n",
       "      <td>56.606641</td>\n",
       "    </tr>\n",
       "    <tr>\n",
       "      <th>2</th>\n",
       "      <td>0.0</td>\n",
       "      <td>0.0</td>\n",
       "      <td>0.0</td>\n",
       "      <td>1.606057</td>\n",
       "      <td>1.606057</td>\n",
       "      <td>1.606057</td>\n",
       "      <td>8.623857</td>\n",
       "      <td>15.845217</td>\n",
       "      <td>15.845217</td>\n",
       "      <td>17.957593</td>\n",
       "      <td>...</td>\n",
       "      <td>89.500295</td>\n",
       "      <td>89.500295</td>\n",
       "      <td>84.266738</td>\n",
       "      <td>84.266738</td>\n",
       "      <td>84.266738</td>\n",
       "      <td>84.266738</td>\n",
       "      <td>71.979639</td>\n",
       "      <td>71.979639</td>\n",
       "      <td>71.979639</td>\n",
       "      <td>65.918534</td>\n",
       "    </tr>\n",
       "    <tr>\n",
       "      <th>3</th>\n",
       "      <td>0.0</td>\n",
       "      <td>0.0</td>\n",
       "      <td>0.0</td>\n",
       "      <td>3.668527</td>\n",
       "      <td>3.668527</td>\n",
       "      <td>3.668527</td>\n",
       "      <td>7.165376</td>\n",
       "      <td>11.628290</td>\n",
       "      <td>11.628290</td>\n",
       "      <td>15.308951</td>\n",
       "      <td>...</td>\n",
       "      <td>68.943668</td>\n",
       "      <td>68.943668</td>\n",
       "      <td>66.983974</td>\n",
       "      <td>66.983974</td>\n",
       "      <td>66.983974</td>\n",
       "      <td>66.983974</td>\n",
       "      <td>64.104558</td>\n",
       "      <td>64.104558</td>\n",
       "      <td>64.104558</td>\n",
       "      <td>61.848159</td>\n",
       "    </tr>\n",
       "    <tr>\n",
       "      <th>4</th>\n",
       "      <td>0.0</td>\n",
       "      <td>0.0</td>\n",
       "      <td>0.0</td>\n",
       "      <td>1.411810</td>\n",
       "      <td>1.411810</td>\n",
       "      <td>1.411810</td>\n",
       "      <td>9.707134</td>\n",
       "      <td>15.677262</td>\n",
       "      <td>15.677262</td>\n",
       "      <td>18.922410</td>\n",
       "      <td>...</td>\n",
       "      <td>43.565918</td>\n",
       "      <td>43.565918</td>\n",
       "      <td>42.343590</td>\n",
       "      <td>42.343590</td>\n",
       "      <td>42.343590</td>\n",
       "      <td>42.343590</td>\n",
       "      <td>42.235306</td>\n",
       "      <td>42.235306</td>\n",
       "      <td>42.235306</td>\n",
       "      <td>41.818073</td>\n",
       "    </tr>\n",
       "  </tbody>\n",
       "</table>\n",
       "<p>5 rows × 20770 columns</p>\n",
       "</div>"
      ],
      "text/plain": [
       "     0    1    2          3          4          5          6          7  \\\n",
       "0  0.0  0.0  0.0  10.778148  10.778148  10.778148  26.874088  43.189501   \n",
       "1  0.0  0.0  0.0   9.891218   9.891218   9.891218  23.589349  36.477933   \n",
       "2  0.0  0.0  0.0   1.606057   1.606057   1.606057   8.623857  15.845217   \n",
       "3  0.0  0.0  0.0   3.668527   3.668527   3.668527   7.165376  11.628290   \n",
       "4  0.0  0.0  0.0   1.411810   1.411810   1.411810   9.707134  15.677262   \n",
       "\n",
       "           8          9  ...      20760      20761      20762      20763  \\\n",
       "0  43.189501  38.594581  ...  54.343173  54.343173  53.363208  53.363208   \n",
       "1  36.477933  31.296507  ...  79.894291  79.894291  86.860329  86.860329   \n",
       "2  15.845217  17.957593  ...  89.500295  89.500295  84.266738  84.266738   \n",
       "3  11.628290  15.308951  ...  68.943668  68.943668  66.983974  66.983974   \n",
       "4  15.677262  18.922410  ...  43.565918  43.565918  42.343590  42.343590   \n",
       "\n",
       "       20764      20765      20766      20767      20768      20769  \n",
       "0  53.363208  53.363208  59.557374  59.557374  59.557374  55.634152  \n",
       "1  86.860329  86.860329  71.319955  71.319955  71.319955  56.606641  \n",
       "2  84.266738  84.266738  71.979639  71.979639  71.979639  65.918534  \n",
       "3  66.983974  66.983974  64.104558  64.104558  64.104558  61.848159  \n",
       "4  42.343590  42.343590  42.235306  42.235306  42.235306  41.818073  \n",
       "\n",
       "[5 rows x 20770 columns]"
      ]
     },
     "execution_count": 20,
     "metadata": {},
     "output_type": "execute_result"
    }
   ],
   "source": [
    "first_subj_df = emg_data_df.iloc[:64, :]\n",
    "\n",
    "print(first_subj_df.shape)\n",
    "first_subj_df.head()"
   ]
  },
  {
   "cell_type": "markdown",
   "id": "88c2068d",
   "metadata": {},
   "source": [
    "Repeat process but for labels"
   ]
  },
  {
   "cell_type": "code",
   "execution_count": 21,
   "id": "a9c14961",
   "metadata": {},
   "outputs": [
    {
     "name": "stdout",
     "output_type": "stream",
     "text": [
      "(64, 1)\n"
     ]
    },
    {
     "data": {
      "text/html": [
       "<div>\n",
       "<style scoped>\n",
       "    .dataframe tbody tr th:only-of-type {\n",
       "        vertical-align: middle;\n",
       "    }\n",
       "\n",
       "    .dataframe tbody tr th {\n",
       "        vertical-align: top;\n",
       "    }\n",
       "\n",
       "    .dataframe thead th {\n",
       "        text-align: right;\n",
       "    }\n",
       "</style>\n",
       "<table border=\"1\" class=\"dataframe\">\n",
       "  <thead>\n",
       "    <tr style=\"text-align: right;\">\n",
       "      <th></th>\n",
       "      <th>Subject</th>\n",
       "    </tr>\n",
       "  </thead>\n",
       "  <tbody>\n",
       "    <tr>\n",
       "      <th>0</th>\n",
       "      <td>0</td>\n",
       "    </tr>\n",
       "    <tr>\n",
       "      <th>1</th>\n",
       "      <td>0</td>\n",
       "    </tr>\n",
       "    <tr>\n",
       "      <th>2</th>\n",
       "      <td>0</td>\n",
       "    </tr>\n",
       "    <tr>\n",
       "      <th>3</th>\n",
       "      <td>0</td>\n",
       "    </tr>\n",
       "    <tr>\n",
       "      <th>4</th>\n",
       "      <td>0</td>\n",
       "    </tr>\n",
       "  </tbody>\n",
       "</table>\n",
       "</div>"
      ],
      "text/plain": [
       "   Subject\n",
       "0        0\n",
       "1        0\n",
       "2        0\n",
       "3        0\n",
       "4        0"
      ]
     },
     "execution_count": 21,
     "metadata": {},
     "output_type": "execute_result"
    }
   ],
   "source": [
    "first_subj_labels_df = labels_df.iloc[:64, :]\n",
    "\n",
    "print(first_subj_labels_df.shape)\n",
    "first_subj_labels_df.head()"
   ]
  },
  {
   "cell_type": "markdown",
   "id": "49017d3a",
   "metadata": {},
   "source": [
    "Now run actual PCA"
   ]
  },
  {
   "cell_type": "code",
   "execution_count": 42,
   "id": "34090ec2",
   "metadata": {},
   "outputs": [],
   "source": [
    "X = first_subj_df\n",
    "Y = first_subj_labels_df\n",
    "\n",
    "pca = PCA()\n",
    "x_new = pca.fit_transform(X)\n",
    "\n",
    "explained_variance_vec = np.cumsum(pca.explained_variance_ratio_)\n",
    "\n",
    "#model = NMF(n_components=2, init='random', random_state=0)\n",
    "#model = NMF()\n",
    "#W = model.fit_transform(X)\n",
    "#H = model.components_\n",
    "#res = np.dot(W,H)\n",
    "\n",
    "# Get variance explained by singular values\n",
    "#explained_variance_ = (S**2) / (n_samples - 1)\n",
    "#total_var = explained_variance_.sum()\n",
    "#explained_variance_ratio_ = explained_variance_ / total_var\n",
    "#singular_values_ = S.copy()  # Store the singular values."
   ]
  },
  {
   "cell_type": "code",
   "execution_count": 51,
   "id": "68090027",
   "metadata": {},
   "outputs": [
    {
     "data": {
      "text/plain": [
       "Text(0, 0.5, 'Explained Variance')"
      ]
     },
     "execution_count": 51,
     "metadata": {},
     "output_type": "execute_result"
    },
    {
     "data": {
      "image/png": "[encoded data removed]",
      "text/plain": [
       "<Figure size 640x480 with 1 Axes>"
      ]
     },
     "metadata": {},
     "output_type": "display_data"
    }
   ],
   "source": [
    "max_comps = 10\n",
    "plt.scatter(np.array(range(max_comps))+1, explained_variance_vec[:max_comps], linewidth=4)\n",
    "plt.plot(np.array(range(max_comps))+1, explained_variance_vec[:max_comps], linewidth=4)\n",
    "plt.axhline(0.95, linestyle=\"--\", color='r')\n",
    "plt.xlabel('Number of Components')\n",
    "#plt.ylim(0,1)\n",
    "plt.grid()\n",
    "plt.xlim(0,max_comps)\n",
    "plt.ylabel('Explained Variance')"
   ]
  },
  {
   "cell_type": "code",
   "execution_count": 52,
   "id": "8cadc089",
   "metadata": {},
   "outputs": [
    {
     "name": "stdout",
     "output_type": "stream",
     "text": [
      "6 comps: 0.9366623703397138\n",
      "7 comps: 0.9464499689435184\n",
      "8 comps: 0.9543886775499519\n"
     ]
    }
   ],
   "source": [
    "print(f\"6 comps: {explained_variance_vec[5]}\")\n",
    "print(f\"7 comps: {explained_variance_vec[6]}\")\n",
    "print(f\"8 comps: {explained_variance_vec[7]}\")"
   ]
  },
  {
   "cell_type": "code",
   "execution_count": 54,
   "id": "078c3944",
   "metadata": {},
   "outputs": [
    {
     "data": {
      "text/plain": [
       "(64, 64)"
      ]
     },
     "execution_count": 54,
     "metadata": {},
     "output_type": "execute_result"
    }
   ],
   "source": [
    "x_new.shape"
   ]
  },
  {
   "cell_type": "markdown",
   "id": "51d3bec2",
   "metadata": {},
   "source": [
    "Use 8 channels to get 95.43% of variance for subject 1"
   ]
  },
  {
   "cell_type": "markdown",
   "id": "c86aada9",
   "metadata": {},
   "source": [
    "components_\n",
    "> Principal axes in feature space, representing the directions of maximum variance in the data.\n",
    "\n",
    "> \"The components are sorted by explained_variance_.\""
   ]
  },
  {
   "cell_type": "code",
   "execution_count": 57,
   "id": "9bdb89fc",
   "metadata": {},
   "outputs": [
    {
     "name": "stdout",
     "output_type": "stream",
     "text": [
      "(64, 20770)\n"
     ]
    }
   ],
   "source": [
    "print(pca.components_.shape)"
   ]
  },
  {
   "cell_type": "markdown",
   "id": "d224dca7",
   "metadata": {},
   "source": [
    "# Trying PCA on channels over ALL participants"
   ]
  },
  {
   "cell_type": "code",
   "execution_count": 64,
   "id": "aa89f4c9",
   "metadata": {},
   "outputs": [
    {
     "data": {
      "text/plain": [
       "Text(0, 0.5, 'Explained Variance')"
      ]
     },
     "execution_count": 64,
     "metadata": {},
     "output_type": "execute_result"
    },
    {
     "data": {
      "image/png": "[encoded data removed]",
      "text/plain": [
       "<Figure size 640x480 with 1 Axes>"
      ]
     },
     "metadata": {},
     "output_type": "display_data"
    }
   ],
   "source": [
    "X2 = emg_data_df\n",
    "Y2 = labels_df\n",
    "\n",
    "pca2 = PCA()\n",
    "x_new2 = pca2.fit_transform(X2)\n",
    "\n",
    "explained_variance_vec2 = np.cumsum(pca2.explained_variance_ratio_)"
   ]
  },
  {
   "cell_type": "code",
   "execution_count": 65,
   "id": "5f9d44d8",
   "metadata": {},
   "outputs": [
    {
     "data": {
      "text/plain": [
       "Text(0, 0.5, 'Explained Variance')"
      ]
     },
     "execution_count": 65,
     "metadata": {},
     "output_type": "execute_result"
    },
    {
     "data": {
      "image/png": "[encoded data removed]",
      "text/plain": [
       "<Figure size 640x480 with 1 Axes>"
      ]
     },
     "metadata": {},
     "output_type": "display_data"
    }
   ],
   "source": [
    "max_comps = 10\n",
    "plt.scatter(np.array(range(max_comps))+1, explained_variance_vec2[:max_comps], linewidth=4)\n",
    "plt.plot(np.array(range(max_comps))+1, explained_variance_vec2[:max_comps], linewidth=4)\n",
    "plt.axhline(0.95, linestyle=\"--\", color='r')\n",
    "plt.xlabel('Number of Components')\n",
    "#plt.ylim(0,1)\n",
    "plt.grid()\n",
    "plt.xlim(0,max_comps)\n",
    "plt.ylabel('Explained Variance')"
   ]
  },
  {
   "cell_type": "code",
   "execution_count": 67,
   "id": "974e9b0b",
   "metadata": {
    "scrolled": false
   },
   "outputs": [
    {
     "data": {
      "text/plain": [
       "Text(0, 0.5, 'Explained Variance')"
      ]
     },
     "execution_count": 67,
     "metadata": {},
     "output_type": "execute_result"
    },
    {
     "data": {
      "image/png": "[encoded data removed]",
      "text/plain": [
       "<Figure size 640x480 with 1 Axes>"
      ]
     },
     "metadata": {},
     "output_type": "display_data"
    }
   ],
   "source": [
    "max_comps = 100\n",
    "plt.scatter(np.array(range(max_comps))+1, explained_variance_vec2[:max_comps], linewidth=4)\n",
    "plt.plot(np.array(range(max_comps))+1, explained_variance_vec2[:max_comps], linewidth=4)\n",
    "plt.axhline(0.95, linestyle=\"--\", color='r')\n",
    "plt.xlabel('Number of Components')\n",
    "#plt.ylim(0,1)\n",
    "plt.grid()\n",
    "plt.xlim(0,max_comps)\n",
    "plt.ylabel('Explained Variance')"
   ]
  },
  {
   "cell_type": "markdown",
   "id": "5ffa0323",
   "metadata": {},
   "source": [
    "Does this mean I also need to do (THE SAME) PCA on the reference signal? I think so..."
   ]
  },
  {
   "cell_type": "markdown",
   "id": "4fe390e4",
   "metadata": {},
   "source": [
    "Also, this clearly breaks the hardcoded update_ix method... just scale into 64? Or whatever the final size is?"
   ]
  },
  {
   "cell_type": "markdown",
   "id": "27b2e98c",
   "metadata": {},
   "source": [
    "For data dim reduc, this means that I can use x_new correct? I don't have to take just the columns of the highest components like I was trying to do before, I don't think"
   ]
  },
  {
   "cell_type": "code",
   "execution_count": null,
   "id": "868872d2",
   "metadata": {},
   "outputs": [],
   "source": []
  },
  {
   "cell_type": "code",
   "execution_count": null,
   "id": "0e71b032",
   "metadata": {},
   "outputs": [],
   "source": []
  }
 ],
 "metadata": {
  "kernelspec": {
   "display_name": "Python 3 (ipykernel)",
   "language": "python",
   "name": "python3"
  },
  "language_info": {
   "codemirror_mode": {
    "name": "ipython",
    "version": 3
   },
   "file_extension": ".py",
   "mimetype": "text/x-python",
   "name": "python",
   "nbconvert_exporter": "python",
   "pygments_lexer": "ipython3",
   "version": "3.9.15"
  }
 },
 "nbformat": 4,
 "nbformat_minor": 5
}
