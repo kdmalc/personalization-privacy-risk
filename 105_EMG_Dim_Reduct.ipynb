{
 "cells": [
  {
   "cell_type": "markdown",
   "id": "d17f193d",
   "metadata": {},
   "source": [
    "> __Purpose:__ Find ways to reduce the dimensionality of EMG data so that we don't need to store so much data, but we can still achieve similar accuracies. \n",
    "\n",
    "1. Make EMG Envelope: moving average OR RMS -- 100 ms windows, no overlap -- end up with ~200 samples for the 20 second window at the beginning and end\n",
    "2. PCA on the channels - decrease # of channels, run PCA on all participants to find X significant axes (somewhere between 3-6), and then apply the same transformation to all participants\n",
    "3. Then do ML\n",
    "\n",
    "-- 7 Subjects, therefore pure guessing would be 14.28% correct on average"
   ]
  },
  {
   "cell_type": "code",
   "execution_count": 1,
   "id": "a61b3128",
   "metadata": {},
   "outputs": [],
   "source": [
    "import numpy as np\n",
    "import matplotlib.pyplot as plt\n",
    "import seaborn as sns\n",
    "import time\n",
    "import pandas as pd\n",
    "#import random\n",
    "from kcs_ml_infr import *\n",
    "from experiment_params import *\n",
    "\n",
    "#random.seed(a=1)"
   ]
  },
  {
   "cell_type": "markdown",
   "id": "a850bb15",
   "metadata": {},
   "source": [
    "# Load In Data"
   ]
  },
  {
   "cell_type": "markdown",
   "id": "04a97330",
   "metadata": {},
   "source": [
    "Load in the other data\n",
    "> This cell takes forever to run..."
   ]
  },
  {
   "cell_type": "code",
   "execution_count": 3,
   "id": "30b50886",
   "metadata": {},
   "outputs": [
    {
     "name": "stdout",
     "output_type": "stream",
     "text": [
      "94.14320659637451\n"
     ]
    }
   ],
   "source": [
    "t0 = time.time()\n",
    "\n",
    "emg_data_df1 = pd.read_csv(\"Data\\emg_full_data1.csv\")\n",
    "emg_labels_df1 = pd.read_csv(\"Data\\emg_full_labels1.csv\")\n",
    "emg_data_df2 = pd.read_csv(\"Data\\emg_full_data2.csv\")\n",
    "emg_labels_df2 = pd.read_csv(\"Data\\emg_full_labels2.csv\")\n",
    "\n",
    "t1 = time.time()\n",
    "total = t1-t0  \n",
    "print(total)"
   ]
  },
  {
   "cell_type": "code",
   "execution_count": 4,
   "id": "d045a760",
   "metadata": {},
   "outputs": [],
   "source": [
    "emg_data_df = pd.concat((emg_data_df1, emg_data_df2))\n",
    "emg_labels_df = pd.concat((emg_labels_df1, emg_labels_df2))"
   ]
  },
  {
   "cell_type": "code",
   "execution_count": 5,
   "id": "4c87b437",
   "metadata": {},
   "outputs": [
    {
     "name": "stdout",
     "output_type": "stream",
     "text": [
      "(7168, 20771)\n"
     ]
    },
    {
     "data": {
      "text/html": [
       "<div>\n",
       "<style scoped>\n",
       "    .dataframe tbody tr th:only-of-type {\n",
       "        vertical-align: middle;\n",
       "    }\n",
       "\n",
       "    .dataframe tbody tr th {\n",
       "        vertical-align: top;\n",
       "    }\n",
       "\n",
       "    .dataframe thead th {\n",
       "        text-align: right;\n",
       "    }\n",
       "</style>\n",
       "<table border=\"1\" class=\"dataframe\">\n",
       "  <thead>\n",
       "    <tr style=\"text-align: right;\">\n",
       "      <th></th>\n",
       "      <th>0</th>\n",
       "      <th>1</th>\n",
       "      <th>2</th>\n",
       "      <th>3</th>\n",
       "      <th>4</th>\n",
       "      <th>5</th>\n",
       "      <th>6</th>\n",
       "      <th>7</th>\n",
       "      <th>8</th>\n",
       "      <th>9</th>\n",
       "      <th>...</th>\n",
       "      <th>20760</th>\n",
       "      <th>20761</th>\n",
       "      <th>20762</th>\n",
       "      <th>20763</th>\n",
       "      <th>20764</th>\n",
       "      <th>20765</th>\n",
       "      <th>20766</th>\n",
       "      <th>20767</th>\n",
       "      <th>20768</th>\n",
       "      <th>20769</th>\n",
       "    </tr>\n",
       "  </thead>\n",
       "  <tbody>\n",
       "    <tr>\n",
       "      <th>0</th>\n",
       "      <td>0.0</td>\n",
       "      <td>0.0</td>\n",
       "      <td>0.0</td>\n",
       "      <td>10.778148</td>\n",
       "      <td>10.778148</td>\n",
       "      <td>10.778148</td>\n",
       "      <td>26.874088</td>\n",
       "      <td>43.189501</td>\n",
       "      <td>43.189501</td>\n",
       "      <td>38.594581</td>\n",
       "      <td>...</td>\n",
       "      <td>54.343173</td>\n",
       "      <td>54.343173</td>\n",
       "      <td>53.363208</td>\n",
       "      <td>53.363208</td>\n",
       "      <td>53.363208</td>\n",
       "      <td>53.363208</td>\n",
       "      <td>59.557374</td>\n",
       "      <td>59.557374</td>\n",
       "      <td>59.557374</td>\n",
       "      <td>55.634152</td>\n",
       "    </tr>\n",
       "    <tr>\n",
       "      <th>1</th>\n",
       "      <td>0.0</td>\n",
       "      <td>0.0</td>\n",
       "      <td>0.0</td>\n",
       "      <td>9.891218</td>\n",
       "      <td>9.891218</td>\n",
       "      <td>9.891218</td>\n",
       "      <td>23.589349</td>\n",
       "      <td>36.477933</td>\n",
       "      <td>36.477933</td>\n",
       "      <td>31.296507</td>\n",
       "      <td>...</td>\n",
       "      <td>79.894291</td>\n",
       "      <td>79.894291</td>\n",
       "      <td>86.860329</td>\n",
       "      <td>86.860329</td>\n",
       "      <td>86.860329</td>\n",
       "      <td>86.860329</td>\n",
       "      <td>71.319955</td>\n",
       "      <td>71.319955</td>\n",
       "      <td>71.319955</td>\n",
       "      <td>56.606641</td>\n",
       "    </tr>\n",
       "    <tr>\n",
       "      <th>2</th>\n",
       "      <td>0.0</td>\n",
       "      <td>0.0</td>\n",
       "      <td>0.0</td>\n",
       "      <td>1.606057</td>\n",
       "      <td>1.606057</td>\n",
       "      <td>1.606057</td>\n",
       "      <td>8.623857</td>\n",
       "      <td>15.845217</td>\n",
       "      <td>15.845217</td>\n",
       "      <td>17.957593</td>\n",
       "      <td>...</td>\n",
       "      <td>89.500295</td>\n",
       "      <td>89.500295</td>\n",
       "      <td>84.266738</td>\n",
       "      <td>84.266738</td>\n",
       "      <td>84.266738</td>\n",
       "      <td>84.266738</td>\n",
       "      <td>71.979639</td>\n",
       "      <td>71.979639</td>\n",
       "      <td>71.979639</td>\n",
       "      <td>65.918534</td>\n",
       "    </tr>\n",
       "    <tr>\n",
       "      <th>3</th>\n",
       "      <td>0.0</td>\n",
       "      <td>0.0</td>\n",
       "      <td>0.0</td>\n",
       "      <td>3.668527</td>\n",
       "      <td>3.668527</td>\n",
       "      <td>3.668527</td>\n",
       "      <td>7.165376</td>\n",
       "      <td>11.628290</td>\n",
       "      <td>11.628290</td>\n",
       "      <td>15.308951</td>\n",
       "      <td>...</td>\n",
       "      <td>68.943668</td>\n",
       "      <td>68.943668</td>\n",
       "      <td>66.983974</td>\n",
       "      <td>66.983974</td>\n",
       "      <td>66.983974</td>\n",
       "      <td>66.983974</td>\n",
       "      <td>64.104558</td>\n",
       "      <td>64.104558</td>\n",
       "      <td>64.104558</td>\n",
       "      <td>61.848159</td>\n",
       "    </tr>\n",
       "    <tr>\n",
       "      <th>4</th>\n",
       "      <td>0.0</td>\n",
       "      <td>0.0</td>\n",
       "      <td>0.0</td>\n",
       "      <td>1.411810</td>\n",
       "      <td>1.411810</td>\n",
       "      <td>1.411810</td>\n",
       "      <td>9.707134</td>\n",
       "      <td>15.677262</td>\n",
       "      <td>15.677262</td>\n",
       "      <td>18.922410</td>\n",
       "      <td>...</td>\n",
       "      <td>43.565918</td>\n",
       "      <td>43.565918</td>\n",
       "      <td>42.343590</td>\n",
       "      <td>42.343590</td>\n",
       "      <td>42.343590</td>\n",
       "      <td>42.343590</td>\n",
       "      <td>42.235306</td>\n",
       "      <td>42.235306</td>\n",
       "      <td>42.235306</td>\n",
       "      <td>41.818073</td>\n",
       "    </tr>\n",
       "  </tbody>\n",
       "</table>\n",
       "<p>5 rows × 20770 columns</p>\n",
       "</div>"
      ],
      "text/plain": [
       "     0    1    2          3          4          5          6          7  \\\n",
       "0  0.0  0.0  0.0  10.778148  10.778148  10.778148  26.874088  43.189501   \n",
       "1  0.0  0.0  0.0   9.891218   9.891218   9.891218  23.589349  36.477933   \n",
       "2  0.0  0.0  0.0   1.606057   1.606057   1.606057   8.623857  15.845217   \n",
       "3  0.0  0.0  0.0   3.668527   3.668527   3.668527   7.165376  11.628290   \n",
       "4  0.0  0.0  0.0   1.411810   1.411810   1.411810   9.707134  15.677262   \n",
       "\n",
       "           8          9  ...      20760      20761      20762      20763  \\\n",
       "0  43.189501  38.594581  ...  54.343173  54.343173  53.363208  53.363208   \n",
       "1  36.477933  31.296507  ...  79.894291  79.894291  86.860329  86.860329   \n",
       "2  15.845217  17.957593  ...  89.500295  89.500295  84.266738  84.266738   \n",
       "3  11.628290  15.308951  ...  68.943668  68.943668  66.983974  66.983974   \n",
       "4  15.677262  18.922410  ...  43.565918  43.565918  42.343590  42.343590   \n",
       "\n",
       "       20764      20765      20766      20767      20768      20769  \n",
       "0  53.363208  53.363208  59.557374  59.557374  59.557374  55.634152  \n",
       "1  86.860329  86.860329  71.319955  71.319955  71.319955  56.606641  \n",
       "2  84.266738  84.266738  71.979639  71.979639  71.979639  65.918534  \n",
       "3  66.983974  66.983974  64.104558  64.104558  64.104558  61.848159  \n",
       "4  42.343590  42.343590  42.235306  42.235306  42.235306  41.818073  \n",
       "\n",
       "[5 rows x 20770 columns]"
      ]
     },
     "execution_count": 5,
     "metadata": {},
     "output_type": "execute_result"
    }
   ],
   "source": [
    "print(emg_data_df.shape)\n",
    "emg_data_df.drop('Unnamed: 0', axis=1, inplace=True)\n",
    "emg_data_df.head()"
   ]
  },
  {
   "cell_type": "code",
   "execution_count": 6,
   "id": "3ad1bcc6",
   "metadata": {
    "scrolled": true
   },
   "outputs": [
    {
     "name": "stdout",
     "output_type": "stream",
     "text": [
      "(7168, 4)\n"
     ]
    },
    {
     "data": {
      "text/html": [
       "<div>\n",
       "<style scoped>\n",
       "    .dataframe tbody tr th:only-of-type {\n",
       "        vertical-align: middle;\n",
       "    }\n",
       "\n",
       "    .dataframe tbody tr th {\n",
       "        vertical-align: top;\n",
       "    }\n",
       "\n",
       "    .dataframe thead th {\n",
       "        text-align: right;\n",
       "    }\n",
       "</style>\n",
       "<table border=\"1\" class=\"dataframe\">\n",
       "  <thead>\n",
       "    <tr style=\"text-align: right;\">\n",
       "      <th></th>\n",
       "      <th>Subject</th>\n",
       "      <th>Condition</th>\n",
       "      <th>Channel</th>\n",
       "    </tr>\n",
       "  </thead>\n",
       "  <tbody>\n",
       "    <tr>\n",
       "      <th>0</th>\n",
       "      <td>METACPHS_S106</td>\n",
       "      <td>0</td>\n",
       "      <td>0</td>\n",
       "    </tr>\n",
       "    <tr>\n",
       "      <th>1</th>\n",
       "      <td>METACPHS_S106</td>\n",
       "      <td>0</td>\n",
       "      <td>1</td>\n",
       "    </tr>\n",
       "    <tr>\n",
       "      <th>2</th>\n",
       "      <td>METACPHS_S106</td>\n",
       "      <td>0</td>\n",
       "      <td>2</td>\n",
       "    </tr>\n",
       "    <tr>\n",
       "      <th>3</th>\n",
       "      <td>METACPHS_S106</td>\n",
       "      <td>0</td>\n",
       "      <td>3</td>\n",
       "    </tr>\n",
       "    <tr>\n",
       "      <th>4</th>\n",
       "      <td>METACPHS_S106</td>\n",
       "      <td>0</td>\n",
       "      <td>4</td>\n",
       "    </tr>\n",
       "  </tbody>\n",
       "</table>\n",
       "</div>"
      ],
      "text/plain": [
       "         Subject  Condition  Channel\n",
       "0  METACPHS_S106          0        0\n",
       "1  METACPHS_S106          0        1\n",
       "2  METACPHS_S106          0        2\n",
       "3  METACPHS_S106          0        3\n",
       "4  METACPHS_S106          0        4"
      ]
     },
     "execution_count": 6,
     "metadata": {},
     "output_type": "execute_result"
    }
   ],
   "source": [
    "print(emg_labels_df.shape)\n",
    "emg_labels_df.drop('Unnamed: 0', axis=1, inplace=True)\n",
    "emg_labels_df.head()"
   ]
  },
  {
   "cell_type": "code",
   "execution_count": 7,
   "id": "204c1691",
   "metadata": {},
   "outputs": [
    {
     "data": {
      "text/html": [
       "<div>\n",
       "<style scoped>\n",
       "    .dataframe tbody tr th:only-of-type {\n",
       "        vertical-align: middle;\n",
       "    }\n",
       "\n",
       "    .dataframe tbody tr th {\n",
       "        vertical-align: top;\n",
       "    }\n",
       "\n",
       "    .dataframe thead th {\n",
       "        text-align: right;\n",
       "    }\n",
       "</style>\n",
       "<table border=\"1\" class=\"dataframe\">\n",
       "  <thead>\n",
       "    <tr style=\"text-align: right;\">\n",
       "      <th></th>\n",
       "      <th>Subject</th>\n",
       "    </tr>\n",
       "  </thead>\n",
       "  <tbody>\n",
       "    <tr>\n",
       "      <th>0</th>\n",
       "      <td>0</td>\n",
       "    </tr>\n",
       "    <tr>\n",
       "      <th>1</th>\n",
       "      <td>0</td>\n",
       "    </tr>\n",
       "    <tr>\n",
       "      <th>2</th>\n",
       "      <td>0</td>\n",
       "    </tr>\n",
       "    <tr>\n",
       "      <th>3</th>\n",
       "      <td>0</td>\n",
       "    </tr>\n",
       "    <tr>\n",
       "      <th>4</th>\n",
       "      <td>0</td>\n",
       "    </tr>\n",
       "  </tbody>\n",
       "</table>\n",
       "</div>"
      ],
      "text/plain": [
       "   Subject\n",
       "0        0\n",
       "1        0\n",
       "2        0\n",
       "3        0\n",
       "4        0"
      ]
     },
     "execution_count": 7,
     "metadata": {},
     "output_type": "execute_result"
    }
   ],
   "source": [
    "labels_df = pd.DataFrame(emg_labels_df['Subject'].map(key_to_num))\n",
    "labels_df.head()"
   ]
  },
  {
   "cell_type": "markdown",
   "id": "beb204dc",
   "metadata": {},
   "source": [
    "# Filtered EMG Data Privacy Evaluation\n",
    ">Linking EMG Data to Participants\n",
    "1. Does the channel matter / improve performance? Within the same block (assuming different blocks have the strap re-put on) then presumably the same muscles should act in similar ways.  __Just do PCA on it and don't worry about it__\n",
    "2. Does the condition matter? Presumably, but the question is how much.  __Only look at condition for conditions that changed performance (eg learning rate speed)__\n",
    "3. Ways to compress the input data: PCA/LDA/nonlinearversion, or norms of the vectors... is it even necessary / beneficial to performance.  __Focus on just PCA for now__\n",
    "4. __No standard scaler since negative filtered EMG data has no meaning__"
   ]
  },
  {
   "cell_type": "markdown",
   "id": "3e6433b2",
   "metadata": {},
   "source": [
    "## 1) Create Envelope of Filtered EMG Data"
   ]
  },
  {
   "cell_type": "code",
   "execution_count": 16,
   "id": "638a1075",
   "metadata": {},
   "outputs": [
    {
     "ename": "AssertionError",
     "evalue": "",
     "output_type": "error",
     "traceback": [
      "\u001b[1;31m---------------------------------------------------------------------------\u001b[0m",
      "\u001b[1;31mAssertionError\u001b[0m                            Traceback (most recent call last)",
      "\u001b[1;32m~\\AppData\\Local\\Temp\\ipykernel_19792\\331707289.py\u001b[0m in \u001b[0;36m<cell line: 1>\u001b[1;34m()\u001b[0m\n\u001b[1;32m----> 1\u001b[1;33m \u001b[1;32massert\u001b[0m\u001b[1;33m(\u001b[0m\u001b[1;36m1\u001b[0m\u001b[1;33m==\u001b[0m\u001b[1;36m0\u001b[0m\u001b[1;33m)\u001b[0m\u001b[1;33m\u001b[0m\u001b[1;33m\u001b[0m\u001b[0m\n\u001b[0m\u001b[0;32m      2\u001b[0m \u001b[1;31m# Don't run the below cell cause it takes forever, but keep the output\u001b[0m\u001b[1;33m\u001b[0m\u001b[1;33m\u001b[0m\u001b[0m\n",
      "\u001b[1;31mAssertionError\u001b[0m: "
     ]
    }
   ],
   "source": [
    "assert(1==0)\n",
    "# Don't run the below cell cause it takes forever, but keep the output"
   ]
  },
  {
   "cell_type": "code",
   "execution_count": 11,
   "id": "9ca51504",
   "metadata": {},
   "outputs": [
    {
     "data": {
      "image/png": "[encoded data removed]",
      "text/plain": [
       "<Figure size 640x480 with 1 Axes>"
      ]
     },
     "metadata": {},
     "output_type": "display_data"
    },
    {
     "name": "stdout",
     "output_type": "stream",
     "text": [
      "205.9365212917328\n"
     ]
    }
   ],
   "source": [
    "t0 = time.time()\n",
    "\n",
    "plt.plot(emg_data_df.iloc[0, :])\n",
    "plt.show()\n",
    "\n",
    "t1 = time.time()\n",
    "total = t1-t0  \n",
    "print(total)"
   ]
  },
  {
   "cell_type": "markdown",
   "id": "1c92459d",
   "metadata": {},
   "source": [
    "Crude moving average with no overlap"
   ]
  },
  {
   "cell_type": "code",
   "execution_count": 8,
   "id": "8be26eda",
   "metadata": {},
   "outputs": [
    {
     "name": "stdout",
     "output_type": "stream",
     "text": [
      "(7168, 208)\n"
     ]
    },
    {
     "data": {
      "text/html": [
       "<div>\n",
       "<style scoped>\n",
       "    .dataframe tbody tr th:only-of-type {\n",
       "        vertical-align: middle;\n",
       "    }\n",
       "\n",
       "    .dataframe tbody tr th {\n",
       "        vertical-align: top;\n",
       "    }\n",
       "\n",
       "    .dataframe thead th {\n",
       "        text-align: right;\n",
       "    }\n",
       "</style>\n",
       "<table border=\"1\" class=\"dataframe\">\n",
       "  <thead>\n",
       "    <tr style=\"text-align: right;\">\n",
       "      <th></th>\n",
       "      <th>0</th>\n",
       "      <th>1</th>\n",
       "      <th>2</th>\n",
       "      <th>3</th>\n",
       "      <th>4</th>\n",
       "      <th>5</th>\n",
       "      <th>6</th>\n",
       "      <th>7</th>\n",
       "      <th>8</th>\n",
       "      <th>9</th>\n",
       "      <th>...</th>\n",
       "      <th>198</th>\n",
       "      <th>199</th>\n",
       "      <th>200</th>\n",
       "      <th>201</th>\n",
       "      <th>202</th>\n",
       "      <th>203</th>\n",
       "      <th>204</th>\n",
       "      <th>205</th>\n",
       "      <th>206</th>\n",
       "      <th>207</th>\n",
       "    </tr>\n",
       "  </thead>\n",
       "  <tbody>\n",
       "    <tr>\n",
       "      <th>0</th>\n",
       "      <td>14.129705</td>\n",
       "      <td>11.959808</td>\n",
       "      <td>28.685874</td>\n",
       "      <td>33.823858</td>\n",
       "      <td>42.311438</td>\n",
       "      <td>22.872970</td>\n",
       "      <td>28.686864</td>\n",
       "      <td>91.792338</td>\n",
       "      <td>26.813570</td>\n",
       "      <td>28.583164</td>\n",
       "      <td>...</td>\n",
       "      <td>43.676011</td>\n",
       "      <td>39.113891</td>\n",
       "      <td>27.947874</td>\n",
       "      <td>31.573392</td>\n",
       "      <td>36.614566</td>\n",
       "      <td>35.604320</td>\n",
       "      <td>51.523493</td>\n",
       "      <td>31.292127</td>\n",
       "      <td>59.277122</td>\n",
       "      <td>51.997711</td>\n",
       "    </tr>\n",
       "    <tr>\n",
       "      <th>1</th>\n",
       "      <td>13.895036</td>\n",
       "      <td>12.063848</td>\n",
       "      <td>22.026072</td>\n",
       "      <td>27.027048</td>\n",
       "      <td>59.187831</td>\n",
       "      <td>23.013614</td>\n",
       "      <td>30.960467</td>\n",
       "      <td>81.718608</td>\n",
       "      <td>29.116355</td>\n",
       "      <td>28.694447</td>\n",
       "      <td>...</td>\n",
       "      <td>41.396844</td>\n",
       "      <td>44.348191</td>\n",
       "      <td>31.188022</td>\n",
       "      <td>30.580405</td>\n",
       "      <td>32.773796</td>\n",
       "      <td>39.768986</td>\n",
       "      <td>51.494867</td>\n",
       "      <td>29.641406</td>\n",
       "      <td>47.146682</td>\n",
       "      <td>58.581918</td>\n",
       "    </tr>\n",
       "    <tr>\n",
       "      <th>2</th>\n",
       "      <td>13.214033</td>\n",
       "      <td>15.229451</td>\n",
       "      <td>23.956005</td>\n",
       "      <td>25.832507</td>\n",
       "      <td>48.218284</td>\n",
       "      <td>29.437285</td>\n",
       "      <td>27.001414</td>\n",
       "      <td>35.878805</td>\n",
       "      <td>29.420835</td>\n",
       "      <td>31.587059</td>\n",
       "      <td>...</td>\n",
       "      <td>27.507856</td>\n",
       "      <td>35.271588</td>\n",
       "      <td>28.060107</td>\n",
       "      <td>24.463167</td>\n",
       "      <td>30.750010</td>\n",
       "      <td>39.033112</td>\n",
       "      <td>31.714344</td>\n",
       "      <td>17.286340</td>\n",
       "      <td>30.174009</td>\n",
       "      <td>49.750919</td>\n",
       "    </tr>\n",
       "    <tr>\n",
       "      <th>3</th>\n",
       "      <td>13.979167</td>\n",
       "      <td>16.414878</td>\n",
       "      <td>19.550628</td>\n",
       "      <td>21.984005</td>\n",
       "      <td>32.083749</td>\n",
       "      <td>26.856702</td>\n",
       "      <td>23.001818</td>\n",
       "      <td>21.776800</td>\n",
       "      <td>23.041464</td>\n",
       "      <td>24.603026</td>\n",
       "      <td>...</td>\n",
       "      <td>21.163787</td>\n",
       "      <td>27.844200</td>\n",
       "      <td>26.265045</td>\n",
       "      <td>24.563413</td>\n",
       "      <td>29.984113</td>\n",
       "      <td>35.764448</td>\n",
       "      <td>23.072423</td>\n",
       "      <td>15.670036</td>\n",
       "      <td>22.936556</td>\n",
       "      <td>38.122263</td>\n",
       "    </tr>\n",
       "    <tr>\n",
       "      <th>4</th>\n",
       "      <td>10.168381</td>\n",
       "      <td>10.501039</td>\n",
       "      <td>12.856129</td>\n",
       "      <td>16.059131</td>\n",
       "      <td>20.128401</td>\n",
       "      <td>13.435236</td>\n",
       "      <td>16.672336</td>\n",
       "      <td>18.134148</td>\n",
       "      <td>20.744904</td>\n",
       "      <td>21.606347</td>\n",
       "      <td>...</td>\n",
       "      <td>14.751494</td>\n",
       "      <td>19.967234</td>\n",
       "      <td>19.091210</td>\n",
       "      <td>16.293000</td>\n",
       "      <td>20.945203</td>\n",
       "      <td>25.093296</td>\n",
       "      <td>14.147869</td>\n",
       "      <td>10.369884</td>\n",
       "      <td>15.788238</td>\n",
       "      <td>26.206604</td>\n",
       "    </tr>\n",
       "  </tbody>\n",
       "</table>\n",
       "<p>5 rows × 208 columns</p>\n",
       "</div>"
      ],
      "text/plain": [
       "         0          1          2          3          4          5    \\\n",
       "0  14.129705  11.959808  28.685874  33.823858  42.311438  22.872970   \n",
       "1  13.895036  12.063848  22.026072  27.027048  59.187831  23.013614   \n",
       "2  13.214033  15.229451  23.956005  25.832507  48.218284  29.437285   \n",
       "3  13.979167  16.414878  19.550628  21.984005  32.083749  26.856702   \n",
       "4  10.168381  10.501039  12.856129  16.059131  20.128401  13.435236   \n",
       "\n",
       "         6          7          8          9    ...        198        199  \\\n",
       "0  28.686864  91.792338  26.813570  28.583164  ...  43.676011  39.113891   \n",
       "1  30.960467  81.718608  29.116355  28.694447  ...  41.396844  44.348191   \n",
       "2  27.001414  35.878805  29.420835  31.587059  ...  27.507856  35.271588   \n",
       "3  23.001818  21.776800  23.041464  24.603026  ...  21.163787  27.844200   \n",
       "4  16.672336  18.134148  20.744904  21.606347  ...  14.751494  19.967234   \n",
       "\n",
       "         200        201        202        203        204        205  \\\n",
       "0  27.947874  31.573392  36.614566  35.604320  51.523493  31.292127   \n",
       "1  31.188022  30.580405  32.773796  39.768986  51.494867  29.641406   \n",
       "2  28.060107  24.463167  30.750010  39.033112  31.714344  17.286340   \n",
       "3  26.265045  24.563413  29.984113  35.764448  23.072423  15.670036   \n",
       "4  19.091210  16.293000  20.945203  25.093296  14.147869  10.369884   \n",
       "\n",
       "         206        207  \n",
       "0  59.277122  51.997711  \n",
       "1  47.146682  58.581918  \n",
       "2  30.174009  49.750919  \n",
       "3  22.936556  38.122263  \n",
       "4  15.788238  26.206604  \n",
       "\n",
       "[5 rows x 208 columns]"
      ]
     },
     "execution_count": 8,
     "metadata": {},
     "output_type": "execute_result"
    }
   ],
   "source": [
    "envelope_df50 = emg_data_df.groupby(np.arange(len(emg_data_df.columns))//50, axis=1).mean()\n",
    "envelope_df100 = emg_data_df.groupby(np.arange(len(emg_data_df.columns))//100, axis=1).mean()\n",
    "envelope_df150 = emg_data_df.groupby(np.arange(len(emg_data_df.columns))//150, axis=1).mean()\n",
    "envelope_df200 = emg_data_df.groupby(np.arange(len(emg_data_df.columns))//200, axis=1).mean()\n",
    "envelope_df250 = emg_data_df.groupby(np.arange(len(emg_data_df.columns))//250, axis=1).mean()\n",
    "envelope_df300 = emg_data_df.groupby(np.arange(len(emg_data_df.columns))//250, axis=1).mean()\n",
    "\n",
    "envelope_df50.to_csv(\"Data\\envelope_df50.csv\")\n",
    "envelope_df100.to_csv(\"Data\\envelope_df100.csv\")\n",
    "envelope_df150.to_csv(\"Data\\envelope_df150.csv\")\n",
    "envelope_df200.to_csv(\"Data\\envelope_df200.csv\")\n",
    "envelope_df250.to_csv(\"Data\\envelope_df250.csv\")\n",
    "envelope_df300.to_csv(\"Data\\envelope_df300.csv\")\n",
    "\n",
    "print(envelope_df100.shape)\n",
    "envelope_df100.head()"
   ]
  },
  {
   "cell_type": "code",
   "execution_count": 10,
   "id": "41c7f956",
   "metadata": {},
   "outputs": [
    {
     "data": {
      "image/png": "[encoded data removed]",
      "text/plain": [
       "<Figure size 640x480 with 1 Axes>"
      ]
     },
     "metadata": {},
     "output_type": "display_data"
    }
   ],
   "source": [
    "# This is substantially different than the original lol\n",
    "plt.plot(envelope_df100.iloc[0, :])\n",
    "plt.xlabel(\"Downsampled Time\")\n",
    "plt.ylabel(\"EMG Reading\")\n",
    "plt.title(\"Smoothed EMG Data (100 ms windows)\")\n",
    "plt.show()"
   ]
  },
  {
   "cell_type": "markdown",
   "id": "2fc650b0",
   "metadata": {},
   "source": [
    "Using the rolling function"
   ]
  },
  {
   "cell_type": "code",
   "execution_count": 10,
   "id": "12a1e857",
   "metadata": {},
   "outputs": [
    {
     "data": {
      "image/png": "[encoded data removed]",
      "text/plain": [
       "<Figure size 640x480 with 1 Axes>"
      ]
     },
     "metadata": {},
     "output_type": "display_data"
    }
   ],
   "source": [
    "ex = emg_data_df.iloc[0, :].rolling(window=100).mean().dropna().plot()"
   ]
  },
  {
   "cell_type": "code",
   "execution_count": null,
   "id": "f71d7889",
   "metadata": {},
   "outputs": [],
   "source": []
  },
  {
   "cell_type": "code",
   "execution_count": null,
   "id": "ae969955",
   "metadata": {},
   "outputs": [],
   "source": []
  },
  {
   "cell_type": "code",
   "execution_count": null,
   "id": "76117e4b",
   "metadata": {},
   "outputs": [],
   "source": []
  },
  {
   "cell_type": "code",
   "execution_count": null,
   "id": "bc719221",
   "metadata": {},
   "outputs": [],
   "source": []
  },
  {
   "cell_type": "code",
   "execution_count": null,
   "id": "47c9672d",
   "metadata": {},
   "outputs": [],
   "source": []
  },
  {
   "cell_type": "code",
   "execution_count": null,
   "id": "0f2a7c7d",
   "metadata": {},
   "outputs": [],
   "source": []
  },
  {
   "cell_type": "code",
   "execution_count": null,
   "id": "fafddd60",
   "metadata": {},
   "outputs": [],
   "source": []
  },
  {
   "cell_type": "markdown",
   "id": "9635b913",
   "metadata": {},
   "source": [
    "# A Bunch of Old PCA Stuff..."
   ]
  },
  {
   "cell_type": "code",
   "execution_count": null,
   "id": "34dd37ba",
   "metadata": {},
   "outputs": [],
   "source": [
    "assert(1==0)"
   ]
  },
  {
   "cell_type": "markdown",
   "id": "fefeee78",
   "metadata": {},
   "source": [
    "## 2) PCA On the Channels\n",
    "> https://stackoverflow.com/questions/50796024/feature-variable-importance-after-a-pca-analysis\n",
    "\n",
    "> \"It is essential to perform feature scaling before running PCA if there is a significant difference in the scale between the features of the dataset; for example, one feature ranges in values between 0 and 1 and another between 100 and 1,000. PCA is very sensitive to the relative ranges of the original features. We can apply z-score standardization to get all features into the same scale by using Scikit-learn StandardScaler() class which is in the preprocessing submodule in Scikit-learn.\""
   ]
  },
  {
   "cell_type": "code",
   "execution_count": 11,
   "id": "137decc4",
   "metadata": {},
   "outputs": [],
   "source": [
    "from sklearn import datasets\n",
    "from sklearn.decomposition import PCA\n",
    "from sklearn.preprocessing import StandardScaler"
   ]
  },
  {
   "cell_type": "markdown",
   "id": "93ef5b22",
   "metadata": {},
   "source": [
    "Here, pca.components_ has shape [n_components, n_features]. Thus, by looking at the PC1 (First Principal Component) which is the first row: [0.52237162 0.26335492 0.58125401 0.56561105]] we can conclude that feature 1, 3 and 4 (or Var 1, 3 and 4 in the biplot) are the most important. This is also clearly visible from the biplot (that's why we often use this plot to summarize the information in a visual way).\n",
    "\n",
    "To sum up, look at the absolute values of the Eigenvectors' components corresponding to the k largest Eigenvalues. In sklearn the components are sorted by explained_variance_. The larger they are these absolute values, the more a specific feature contributes to that principal component.\n",
    "\n"
   ]
  },
  {
   "cell_type": "code",
   "execution_count": 12,
   "id": "38300467",
   "metadata": {},
   "outputs": [
    {
     "name": "stdout",
     "output_type": "stream",
     "text": [
      "(7232, 208)\n"
     ]
    },
    {
     "data": {
      "text/html": [
       "<div>\n",
       "<style scoped>\n",
       "    .dataframe tbody tr th:only-of-type {\n",
       "        vertical-align: middle;\n",
       "    }\n",
       "\n",
       "    .dataframe tbody tr th {\n",
       "        vertical-align: top;\n",
       "    }\n",
       "\n",
       "    .dataframe thead th {\n",
       "        text-align: right;\n",
       "    }\n",
       "</style>\n",
       "<table border=\"1\" class=\"dataframe\">\n",
       "  <thead>\n",
       "    <tr style=\"text-align: right;\">\n",
       "      <th></th>\n",
       "      <th>0</th>\n",
       "      <th>1</th>\n",
       "      <th>2</th>\n",
       "      <th>3</th>\n",
       "      <th>4</th>\n",
       "      <th>5</th>\n",
       "      <th>6</th>\n",
       "      <th>7</th>\n",
       "      <th>8</th>\n",
       "      <th>9</th>\n",
       "      <th>...</th>\n",
       "      <th>198</th>\n",
       "      <th>199</th>\n",
       "      <th>200</th>\n",
       "      <th>201</th>\n",
       "      <th>202</th>\n",
       "      <th>203</th>\n",
       "      <th>204</th>\n",
       "      <th>205</th>\n",
       "      <th>206</th>\n",
       "      <th>207</th>\n",
       "    </tr>\n",
       "  </thead>\n",
       "  <tbody>\n",
       "    <tr>\n",
       "      <th>0</th>\n",
       "      <td>14.129705</td>\n",
       "      <td>11.959808</td>\n",
       "      <td>28.685874</td>\n",
       "      <td>33.823858</td>\n",
       "      <td>42.311438</td>\n",
       "      <td>22.872970</td>\n",
       "      <td>28.686864</td>\n",
       "      <td>91.792338</td>\n",
       "      <td>26.813570</td>\n",
       "      <td>28.583164</td>\n",
       "      <td>...</td>\n",
       "      <td>43.676011</td>\n",
       "      <td>39.113891</td>\n",
       "      <td>27.947874</td>\n",
       "      <td>31.573392</td>\n",
       "      <td>36.614566</td>\n",
       "      <td>35.604320</td>\n",
       "      <td>51.523493</td>\n",
       "      <td>31.292127</td>\n",
       "      <td>59.277122</td>\n",
       "      <td>51.997711</td>\n",
       "    </tr>\n",
       "    <tr>\n",
       "      <th>1</th>\n",
       "      <td>13.895036</td>\n",
       "      <td>12.063848</td>\n",
       "      <td>22.026072</td>\n",
       "      <td>27.027048</td>\n",
       "      <td>59.187831</td>\n",
       "      <td>23.013614</td>\n",
       "      <td>30.960467</td>\n",
       "      <td>81.718608</td>\n",
       "      <td>29.116355</td>\n",
       "      <td>28.694447</td>\n",
       "      <td>...</td>\n",
       "      <td>41.396844</td>\n",
       "      <td>44.348191</td>\n",
       "      <td>31.188022</td>\n",
       "      <td>30.580405</td>\n",
       "      <td>32.773796</td>\n",
       "      <td>39.768986</td>\n",
       "      <td>51.494867</td>\n",
       "      <td>29.641406</td>\n",
       "      <td>47.146682</td>\n",
       "      <td>58.581918</td>\n",
       "    </tr>\n",
       "    <tr>\n",
       "      <th>2</th>\n",
       "      <td>13.214033</td>\n",
       "      <td>15.229451</td>\n",
       "      <td>23.956005</td>\n",
       "      <td>25.832507</td>\n",
       "      <td>48.218284</td>\n",
       "      <td>29.437285</td>\n",
       "      <td>27.001414</td>\n",
       "      <td>35.878805</td>\n",
       "      <td>29.420835</td>\n",
       "      <td>31.587059</td>\n",
       "      <td>...</td>\n",
       "      <td>27.507856</td>\n",
       "      <td>35.271588</td>\n",
       "      <td>28.060107</td>\n",
       "      <td>24.463167</td>\n",
       "      <td>30.750010</td>\n",
       "      <td>39.033112</td>\n",
       "      <td>31.714344</td>\n",
       "      <td>17.286340</td>\n",
       "      <td>30.174009</td>\n",
       "      <td>49.750919</td>\n",
       "    </tr>\n",
       "    <tr>\n",
       "      <th>3</th>\n",
       "      <td>13.979167</td>\n",
       "      <td>16.414878</td>\n",
       "      <td>19.550628</td>\n",
       "      <td>21.984005</td>\n",
       "      <td>32.083749</td>\n",
       "      <td>26.856702</td>\n",
       "      <td>23.001818</td>\n",
       "      <td>21.776800</td>\n",
       "      <td>23.041464</td>\n",
       "      <td>24.603026</td>\n",
       "      <td>...</td>\n",
       "      <td>21.163787</td>\n",
       "      <td>27.844200</td>\n",
       "      <td>26.265045</td>\n",
       "      <td>24.563413</td>\n",
       "      <td>29.984113</td>\n",
       "      <td>35.764448</td>\n",
       "      <td>23.072423</td>\n",
       "      <td>15.670036</td>\n",
       "      <td>22.936556</td>\n",
       "      <td>38.122263</td>\n",
       "    </tr>\n",
       "    <tr>\n",
       "      <th>4</th>\n",
       "      <td>10.168381</td>\n",
       "      <td>10.501039</td>\n",
       "      <td>12.856129</td>\n",
       "      <td>16.059131</td>\n",
       "      <td>20.128401</td>\n",
       "      <td>13.435236</td>\n",
       "      <td>16.672336</td>\n",
       "      <td>18.134148</td>\n",
       "      <td>20.744904</td>\n",
       "      <td>21.606347</td>\n",
       "      <td>...</td>\n",
       "      <td>14.751494</td>\n",
       "      <td>19.967234</td>\n",
       "      <td>19.091210</td>\n",
       "      <td>16.293000</td>\n",
       "      <td>20.945203</td>\n",
       "      <td>25.093296</td>\n",
       "      <td>14.147869</td>\n",
       "      <td>10.369884</td>\n",
       "      <td>15.788238</td>\n",
       "      <td>26.206604</td>\n",
       "    </tr>\n",
       "  </tbody>\n",
       "</table>\n",
       "<p>5 rows × 208 columns</p>\n",
       "</div>"
      ],
      "text/plain": [
       "         0          1          2          3          4          5    \\\n",
       "0  14.129705  11.959808  28.685874  33.823858  42.311438  22.872970   \n",
       "1  13.895036  12.063848  22.026072  27.027048  59.187831  23.013614   \n",
       "2  13.214033  15.229451  23.956005  25.832507  48.218284  29.437285   \n",
       "3  13.979167  16.414878  19.550628  21.984005  32.083749  26.856702   \n",
       "4  10.168381  10.501039  12.856129  16.059131  20.128401  13.435236   \n",
       "\n",
       "         6          7          8          9    ...        198        199  \\\n",
       "0  28.686864  91.792338  26.813570  28.583164  ...  43.676011  39.113891   \n",
       "1  30.960467  81.718608  29.116355  28.694447  ...  41.396844  44.348191   \n",
       "2  27.001414  35.878805  29.420835  31.587059  ...  27.507856  35.271588   \n",
       "3  23.001818  21.776800  23.041464  24.603026  ...  21.163787  27.844200   \n",
       "4  16.672336  18.134148  20.744904  21.606347  ...  14.751494  19.967234   \n",
       "\n",
       "         200        201        202        203        204        205  \\\n",
       "0  27.947874  31.573392  36.614566  35.604320  51.523493  31.292127   \n",
       "1  31.188022  30.580405  32.773796  39.768986  51.494867  29.641406   \n",
       "2  28.060107  24.463167  30.750010  39.033112  31.714344  17.286340   \n",
       "3  26.265045  24.563413  29.984113  35.764448  23.072423  15.670036   \n",
       "4  19.091210  16.293000  20.945203  25.093296  14.147869  10.369884   \n",
       "\n",
       "         206        207  \n",
       "0  59.277122  51.997711  \n",
       "1  47.146682  58.581918  \n",
       "2  30.174009  49.750919  \n",
       "3  22.936556  38.122263  \n",
       "4  15.788238  26.206604  \n",
       "\n",
       "[5 rows x 208 columns]"
      ]
     },
     "execution_count": 12,
     "metadata": {},
     "output_type": "execute_result"
    }
   ],
   "source": [
    "print(envelope_df.shape)\n",
    "envelope_df.head()"
   ]
  },
  {
   "cell_type": "markdown",
   "id": "b6a23d01",
   "metadata": {},
   "source": [
    "Let's restrict it to just the first condition of the first participant, so just the first 64 rows (64 channels)"
   ]
  },
  {
   "cell_type": "code",
   "execution_count": 13,
   "id": "cdb07389",
   "metadata": {},
   "outputs": [
    {
     "name": "stdout",
     "output_type": "stream",
     "text": [
      "(64, 208)\n"
     ]
    },
    {
     "data": {
      "text/html": [
       "<div>\n",
       "<style scoped>\n",
       "    .dataframe tbody tr th:only-of-type {\n",
       "        vertical-align: middle;\n",
       "    }\n",
       "\n",
       "    .dataframe tbody tr th {\n",
       "        vertical-align: top;\n",
       "    }\n",
       "\n",
       "    .dataframe thead th {\n",
       "        text-align: right;\n",
       "    }\n",
       "</style>\n",
       "<table border=\"1\" class=\"dataframe\">\n",
       "  <thead>\n",
       "    <tr style=\"text-align: right;\">\n",
       "      <th></th>\n",
       "      <th>0</th>\n",
       "      <th>1</th>\n",
       "      <th>2</th>\n",
       "      <th>3</th>\n",
       "      <th>4</th>\n",
       "      <th>5</th>\n",
       "      <th>6</th>\n",
       "      <th>7</th>\n",
       "      <th>8</th>\n",
       "      <th>9</th>\n",
       "      <th>...</th>\n",
       "      <th>198</th>\n",
       "      <th>199</th>\n",
       "      <th>200</th>\n",
       "      <th>201</th>\n",
       "      <th>202</th>\n",
       "      <th>203</th>\n",
       "      <th>204</th>\n",
       "      <th>205</th>\n",
       "      <th>206</th>\n",
       "      <th>207</th>\n",
       "    </tr>\n",
       "  </thead>\n",
       "  <tbody>\n",
       "    <tr>\n",
       "      <th>0</th>\n",
       "      <td>14.129705</td>\n",
       "      <td>11.959808</td>\n",
       "      <td>28.685874</td>\n",
       "      <td>33.823858</td>\n",
       "      <td>42.311438</td>\n",
       "      <td>22.872970</td>\n",
       "      <td>28.686864</td>\n",
       "      <td>91.792338</td>\n",
       "      <td>26.813570</td>\n",
       "      <td>28.583164</td>\n",
       "      <td>...</td>\n",
       "      <td>43.676011</td>\n",
       "      <td>39.113891</td>\n",
       "      <td>27.947874</td>\n",
       "      <td>31.573392</td>\n",
       "      <td>36.614566</td>\n",
       "      <td>35.604320</td>\n",
       "      <td>51.523493</td>\n",
       "      <td>31.292127</td>\n",
       "      <td>59.277122</td>\n",
       "      <td>51.997711</td>\n",
       "    </tr>\n",
       "    <tr>\n",
       "      <th>1</th>\n",
       "      <td>13.895036</td>\n",
       "      <td>12.063848</td>\n",
       "      <td>22.026072</td>\n",
       "      <td>27.027048</td>\n",
       "      <td>59.187831</td>\n",
       "      <td>23.013614</td>\n",
       "      <td>30.960467</td>\n",
       "      <td>81.718608</td>\n",
       "      <td>29.116355</td>\n",
       "      <td>28.694447</td>\n",
       "      <td>...</td>\n",
       "      <td>41.396844</td>\n",
       "      <td>44.348191</td>\n",
       "      <td>31.188022</td>\n",
       "      <td>30.580405</td>\n",
       "      <td>32.773796</td>\n",
       "      <td>39.768986</td>\n",
       "      <td>51.494867</td>\n",
       "      <td>29.641406</td>\n",
       "      <td>47.146682</td>\n",
       "      <td>58.581918</td>\n",
       "    </tr>\n",
       "    <tr>\n",
       "      <th>2</th>\n",
       "      <td>13.214033</td>\n",
       "      <td>15.229451</td>\n",
       "      <td>23.956005</td>\n",
       "      <td>25.832507</td>\n",
       "      <td>48.218284</td>\n",
       "      <td>29.437285</td>\n",
       "      <td>27.001414</td>\n",
       "      <td>35.878805</td>\n",
       "      <td>29.420835</td>\n",
       "      <td>31.587059</td>\n",
       "      <td>...</td>\n",
       "      <td>27.507856</td>\n",
       "      <td>35.271588</td>\n",
       "      <td>28.060107</td>\n",
       "      <td>24.463167</td>\n",
       "      <td>30.750010</td>\n",
       "      <td>39.033112</td>\n",
       "      <td>31.714344</td>\n",
       "      <td>17.286340</td>\n",
       "      <td>30.174009</td>\n",
       "      <td>49.750919</td>\n",
       "    </tr>\n",
       "    <tr>\n",
       "      <th>3</th>\n",
       "      <td>13.979167</td>\n",
       "      <td>16.414878</td>\n",
       "      <td>19.550628</td>\n",
       "      <td>21.984005</td>\n",
       "      <td>32.083749</td>\n",
       "      <td>26.856702</td>\n",
       "      <td>23.001818</td>\n",
       "      <td>21.776800</td>\n",
       "      <td>23.041464</td>\n",
       "      <td>24.603026</td>\n",
       "      <td>...</td>\n",
       "      <td>21.163787</td>\n",
       "      <td>27.844200</td>\n",
       "      <td>26.265045</td>\n",
       "      <td>24.563413</td>\n",
       "      <td>29.984113</td>\n",
       "      <td>35.764448</td>\n",
       "      <td>23.072423</td>\n",
       "      <td>15.670036</td>\n",
       "      <td>22.936556</td>\n",
       "      <td>38.122263</td>\n",
       "    </tr>\n",
       "    <tr>\n",
       "      <th>4</th>\n",
       "      <td>10.168381</td>\n",
       "      <td>10.501039</td>\n",
       "      <td>12.856129</td>\n",
       "      <td>16.059131</td>\n",
       "      <td>20.128401</td>\n",
       "      <td>13.435236</td>\n",
       "      <td>16.672336</td>\n",
       "      <td>18.134148</td>\n",
       "      <td>20.744904</td>\n",
       "      <td>21.606347</td>\n",
       "      <td>...</td>\n",
       "      <td>14.751494</td>\n",
       "      <td>19.967234</td>\n",
       "      <td>19.091210</td>\n",
       "      <td>16.293000</td>\n",
       "      <td>20.945203</td>\n",
       "      <td>25.093296</td>\n",
       "      <td>14.147869</td>\n",
       "      <td>10.369884</td>\n",
       "      <td>15.788238</td>\n",
       "      <td>26.206604</td>\n",
       "    </tr>\n",
       "  </tbody>\n",
       "</table>\n",
       "<p>5 rows × 208 columns</p>\n",
       "</div>"
      ],
      "text/plain": [
       "         0          1          2          3          4          5    \\\n",
       "0  14.129705  11.959808  28.685874  33.823858  42.311438  22.872970   \n",
       "1  13.895036  12.063848  22.026072  27.027048  59.187831  23.013614   \n",
       "2  13.214033  15.229451  23.956005  25.832507  48.218284  29.437285   \n",
       "3  13.979167  16.414878  19.550628  21.984005  32.083749  26.856702   \n",
       "4  10.168381  10.501039  12.856129  16.059131  20.128401  13.435236   \n",
       "\n",
       "         6          7          8          9    ...        198        199  \\\n",
       "0  28.686864  91.792338  26.813570  28.583164  ...  43.676011  39.113891   \n",
       "1  30.960467  81.718608  29.116355  28.694447  ...  41.396844  44.348191   \n",
       "2  27.001414  35.878805  29.420835  31.587059  ...  27.507856  35.271588   \n",
       "3  23.001818  21.776800  23.041464  24.603026  ...  21.163787  27.844200   \n",
       "4  16.672336  18.134148  20.744904  21.606347  ...  14.751494  19.967234   \n",
       "\n",
       "         200        201        202        203        204        205  \\\n",
       "0  27.947874  31.573392  36.614566  35.604320  51.523493  31.292127   \n",
       "1  31.188022  30.580405  32.773796  39.768986  51.494867  29.641406   \n",
       "2  28.060107  24.463167  30.750010  39.033112  31.714344  17.286340   \n",
       "3  26.265045  24.563413  29.984113  35.764448  23.072423  15.670036   \n",
       "4  19.091210  16.293000  20.945203  25.093296  14.147869  10.369884   \n",
       "\n",
       "         206        207  \n",
       "0  59.277122  51.997711  \n",
       "1  47.146682  58.581918  \n",
       "2  30.174009  49.750919  \n",
       "3  22.936556  38.122263  \n",
       "4  15.788238  26.206604  \n",
       "\n",
       "[5 rows x 208 columns]"
      ]
     },
     "execution_count": 13,
     "metadata": {},
     "output_type": "execute_result"
    }
   ],
   "source": [
    "first_subj_df = envelope_df.iloc[:64, :]\n",
    "\n",
    "print(first_subj_df.shape)\n",
    "first_subj_df.head()"
   ]
  },
  {
   "cell_type": "markdown",
   "id": "88c2068d",
   "metadata": {},
   "source": [
    "Repeat process but for labels"
   ]
  },
  {
   "cell_type": "code",
   "execution_count": 14,
   "id": "5ff2a1fa",
   "metadata": {},
   "outputs": [
    {
     "name": "stdout",
     "output_type": "stream",
     "text": [
      "(7232, 3)\n"
     ]
    },
    {
     "data": {
      "text/html": [
       "<div>\n",
       "<style scoped>\n",
       "    .dataframe tbody tr th:only-of-type {\n",
       "        vertical-align: middle;\n",
       "    }\n",
       "\n",
       "    .dataframe tbody tr th {\n",
       "        vertical-align: top;\n",
       "    }\n",
       "\n",
       "    .dataframe thead th {\n",
       "        text-align: right;\n",
       "    }\n",
       "</style>\n",
       "<table border=\"1\" class=\"dataframe\">\n",
       "  <thead>\n",
       "    <tr style=\"text-align: right;\">\n",
       "      <th></th>\n",
       "      <th>Subject</th>\n",
       "      <th>Condition</th>\n",
       "      <th>Channel</th>\n",
       "    </tr>\n",
       "  </thead>\n",
       "  <tbody>\n",
       "    <tr>\n",
       "      <th>0</th>\n",
       "      <td>METACPHS_S106</td>\n",
       "      <td>0</td>\n",
       "      <td>0</td>\n",
       "    </tr>\n",
       "    <tr>\n",
       "      <th>1</th>\n",
       "      <td>METACPHS_S106</td>\n",
       "      <td>0</td>\n",
       "      <td>1</td>\n",
       "    </tr>\n",
       "    <tr>\n",
       "      <th>2</th>\n",
       "      <td>METACPHS_S106</td>\n",
       "      <td>0</td>\n",
       "      <td>2</td>\n",
       "    </tr>\n",
       "    <tr>\n",
       "      <th>3</th>\n",
       "      <td>METACPHS_S106</td>\n",
       "      <td>0</td>\n",
       "      <td>3</td>\n",
       "    </tr>\n",
       "    <tr>\n",
       "      <th>4</th>\n",
       "      <td>METACPHS_S106</td>\n",
       "      <td>0</td>\n",
       "      <td>4</td>\n",
       "    </tr>\n",
       "  </tbody>\n",
       "</table>\n",
       "</div>"
      ],
      "text/plain": [
       "         Subject  Condition  Channel\n",
       "0  METACPHS_S106          0        0\n",
       "1  METACPHS_S106          0        1\n",
       "2  METACPHS_S106          0        2\n",
       "3  METACPHS_S106          0        3\n",
       "4  METACPHS_S106          0        4"
      ]
     },
     "execution_count": 14,
     "metadata": {},
     "output_type": "execute_result"
    }
   ],
   "source": [
    "print(emg_labels_df.shape)\n",
    "emg_labels_df.head()"
   ]
  },
  {
   "cell_type": "code",
   "execution_count": 15,
   "id": "abf12b39",
   "metadata": {},
   "outputs": [
    {
     "name": "stdout",
     "output_type": "stream",
     "text": [
      "(7232, 1)\n"
     ]
    },
    {
     "data": {
      "text/html": [
       "<div>\n",
       "<style scoped>\n",
       "    .dataframe tbody tr th:only-of-type {\n",
       "        vertical-align: middle;\n",
       "    }\n",
       "\n",
       "    .dataframe tbody tr th {\n",
       "        vertical-align: top;\n",
       "    }\n",
       "\n",
       "    .dataframe thead th {\n",
       "        text-align: right;\n",
       "    }\n",
       "</style>\n",
       "<table border=\"1\" class=\"dataframe\">\n",
       "  <thead>\n",
       "    <tr style=\"text-align: right;\">\n",
       "      <th></th>\n",
       "      <th>Subject</th>\n",
       "    </tr>\n",
       "  </thead>\n",
       "  <tbody>\n",
       "    <tr>\n",
       "      <th>0</th>\n",
       "      <td>0</td>\n",
       "    </tr>\n",
       "    <tr>\n",
       "      <th>1</th>\n",
       "      <td>0</td>\n",
       "    </tr>\n",
       "    <tr>\n",
       "      <th>2</th>\n",
       "      <td>0</td>\n",
       "    </tr>\n",
       "    <tr>\n",
       "      <th>3</th>\n",
       "      <td>0</td>\n",
       "    </tr>\n",
       "    <tr>\n",
       "      <th>4</th>\n",
       "      <td>0</td>\n",
       "    </tr>\n",
       "  </tbody>\n",
       "</table>\n",
       "</div>"
      ],
      "text/plain": [
       "   Subject\n",
       "0        0\n",
       "1        0\n",
       "2        0\n",
       "3        0\n",
       "4        0"
      ]
     },
     "execution_count": 15,
     "metadata": {},
     "output_type": "execute_result"
    }
   ],
   "source": [
    "print(labels_df.shape)\n",
    "labels_df.head()"
   ]
  },
  {
   "cell_type": "code",
   "execution_count": 16,
   "id": "a9c14961",
   "metadata": {},
   "outputs": [
    {
     "name": "stdout",
     "output_type": "stream",
     "text": [
      "(64, 1)\n"
     ]
    },
    {
     "data": {
      "text/html": [
       "<div>\n",
       "<style scoped>\n",
       "    .dataframe tbody tr th:only-of-type {\n",
       "        vertical-align: middle;\n",
       "    }\n",
       "\n",
       "    .dataframe tbody tr th {\n",
       "        vertical-align: top;\n",
       "    }\n",
       "\n",
       "    .dataframe thead th {\n",
       "        text-align: right;\n",
       "    }\n",
       "</style>\n",
       "<table border=\"1\" class=\"dataframe\">\n",
       "  <thead>\n",
       "    <tr style=\"text-align: right;\">\n",
       "      <th></th>\n",
       "      <th>Subject</th>\n",
       "    </tr>\n",
       "  </thead>\n",
       "  <tbody>\n",
       "    <tr>\n",
       "      <th>0</th>\n",
       "      <td>0</td>\n",
       "    </tr>\n",
       "    <tr>\n",
       "      <th>1</th>\n",
       "      <td>0</td>\n",
       "    </tr>\n",
       "    <tr>\n",
       "      <th>2</th>\n",
       "      <td>0</td>\n",
       "    </tr>\n",
       "    <tr>\n",
       "      <th>3</th>\n",
       "      <td>0</td>\n",
       "    </tr>\n",
       "    <tr>\n",
       "      <th>4</th>\n",
       "      <td>0</td>\n",
       "    </tr>\n",
       "  </tbody>\n",
       "</table>\n",
       "</div>"
      ],
      "text/plain": [
       "   Subject\n",
       "0        0\n",
       "1        0\n",
       "2        0\n",
       "3        0\n",
       "4        0"
      ]
     },
     "execution_count": 16,
     "metadata": {},
     "output_type": "execute_result"
    }
   ],
   "source": [
    "first_subj_labels_df = labels_df.iloc[:64, :]\n",
    "\n",
    "print(first_subj_labels_df.shape)\n",
    "first_subj_labels_df.head()"
   ]
  },
  {
   "cell_type": "markdown",
   "id": "49017d3a",
   "metadata": {},
   "source": [
    "Now run actual PCA"
   ]
  },
  {
   "cell_type": "code",
   "execution_count": 62,
   "id": "34090ec2",
   "metadata": {},
   "outputs": [],
   "source": [
    "X = first_subj_df\n",
    "Y = first_subj_labels_df\n",
    "\n",
    "# Maybe don't do SS since negative EMG is weird\n",
    "# Not using it just flips the figure, as far as I can tell\n",
    "# Slightly changes the PCA \n",
    "#scaler = StandardScaler()\n",
    "#scaler.fit(X)\n",
    "#X=scaler.transform(X)    \n",
    "\n",
    "pca = PCA()\n",
    "x_new = pca.fit_transform(X)"
   ]
  },
  {
   "cell_type": "code",
   "execution_count": 53,
   "id": "078c3944",
   "metadata": {},
   "outputs": [
    {
     "data": {
      "text/plain": [
       "Text(0, 0.5, 'Explained Variance')"
      ]
     },
     "execution_count": 53,
     "metadata": {},
     "output_type": "execute_result"
    },
    {
     "data": {
      "image/png": "[encoded data removed]",
      "text/plain": [
       "<Figure size 640x480 with 1 Axes>"
      ]
     },
     "metadata": {},
     "output_type": "display_data"
    }
   ],
   "source": [
    "plt.plot(np.cumsum(pca.explained_variance_ratio_), linewidth=4)\n",
    "plt.axvline(2, linestyle=\"--\", color='r')\n",
    "plt.xlabel('Number of Components')\n",
    "plt.ylabel('Explained Variance')"
   ]
  },
  {
   "cell_type": "code",
   "execution_count": 18,
   "id": "b15f8b5d",
   "metadata": {},
   "outputs": [
    {
     "data": {
      "text/plain": [
       "(64, 64)"
      ]
     },
     "execution_count": 18,
     "metadata": {},
     "output_type": "execute_result"
    }
   ],
   "source": [
    "x_new.shape"
   ]
  },
  {
   "cell_type": "code",
   "execution_count": 54,
   "id": "4b1f89a7",
   "metadata": {},
   "outputs": [
    {
     "name": "stdout",
     "output_type": "stream",
     "text": [
      "(64,)\n"
     ]
    }
   ],
   "source": [
    "print(pca.explained_variance_ratio_.shape)"
   ]
  },
  {
   "cell_type": "code",
   "execution_count": 55,
   "id": "88486580",
   "metadata": {},
   "outputs": [
    {
     "data": {
      "text/plain": [
       "array([8.18949390e-01, 7.12233499e-02, 5.51405036e-02, 1.51749669e-02,\n",
       "       1.01393608e-02, 5.88521964e-03, 5.08292819e-03, 4.05777564e-03,\n",
       "       3.82422076e-03, 2.48049487e-03, 1.78775009e-03, 9.97103634e-04,\n",
       "       7.15884972e-04, 5.88867560e-04, 4.72852397e-04, 4.33326590e-04,\n",
       "       3.86697513e-04, 3.35551090e-04, 2.46200794e-04, 2.33478621e-04])"
      ]
     },
     "execution_count": 55,
     "metadata": {},
     "output_type": "execute_result"
    }
   ],
   "source": [
    "pca.explained_variance_ratio_[0:20]"
   ]
  },
  {
   "cell_type": "code",
   "execution_count": 56,
   "id": "71fef159",
   "metadata": {},
   "outputs": [
    {
     "data": {
      "text/plain": [
       "array([0.81894939, 0.89017274, 0.94531324, 0.96048821])"
      ]
     },
     "execution_count": 56,
     "metadata": {},
     "output_type": "execute_result"
    }
   ],
   "source": [
    "pca.explained_variance_ratio_.cumsum()[0:4]"
   ]
  },
  {
   "cell_type": "markdown",
   "id": "51d3bec2",
   "metadata": {},
   "source": [
    "Use 4 channels to get 96% of variance"
   ]
  },
  {
   "cell_type": "code",
   "execution_count": null,
   "id": "db32aa7e",
   "metadata": {},
   "outputs": [],
   "source": []
  },
  {
   "cell_type": "markdown",
   "id": "9d09a65c",
   "metadata": {},
   "source": [
    "There's only 1 label (Subject 0) for all 64 channels so I can't plot 2 colors..."
   ]
  },
  {
   "cell_type": "code",
   "execution_count": 73,
   "id": "5bc7d029",
   "metadata": {},
   "outputs": [
    {
     "data": {
      "text/plain": [
       "<AxesSubplot:>"
      ]
     },
     "execution_count": 73,
     "metadata": {},
     "output_type": "execute_result"
    },
    {
     "data": {
      "image/png": "[encoded data removed]",
      "text/plain": [
       "<Figure size 1000x700 with 1 Axes>"
      ]
     },
     "metadata": {},
     "output_type": "display_data"
    }
   ],
   "source": [
    "pca_2 = PCA(n_components=2)\n",
    "pca_2.fit(X)\n",
    "X_pca_2 = pca_2.transform(X)\n",
    "\n",
    "plt.figure(figsize=(10, 7))\n",
    "sns.scatterplot(x=X_pca_2[:,0],y=X_pca_2[:,1], s=70, hue=np.ravel(Y))#, palette=['green', 'blue'])"
   ]
  },
  {
   "cell_type": "code",
   "execution_count": null,
   "id": "0e0361aa",
   "metadata": {},
   "outputs": [],
   "source": [
    "pca_4 = PCA(n_components=4)\n",
    "pca_4.fit(X)\n",
    "X_pca_4 = pca_4.transform(X)\n",
    "\n",
    "# Don't think I can plot 4 dims\n",
    "plt.figure(figsize=(10, 7))\n",
    "#plt.scatter(x=X_pca_4[])"
   ]
  },
  {
   "cell_type": "markdown",
   "id": "c86aada9",
   "metadata": {},
   "source": [
    "components_\n",
    "> Principal axes in feature space, representing the directions of maximum variance in the data.\n",
    "\n",
    "> \"The components are sorted by explained_variance_.\""
   ]
  },
  {
   "cell_type": "code",
   "execution_count": 28,
   "id": "9bdb89fc",
   "metadata": {},
   "outputs": [
    {
     "name": "stdout",
     "output_type": "stream",
     "text": [
      "(64, 208)\n",
      "\n"
     ]
    },
    {
     "data": {
      "text/plain": [
       "array([[ 5.73351008e-03,  5.09058305e-03,  4.03413397e-02, ...,\n",
       "         1.93248463e-02,  1.14837553e-01,  1.26110777e-01],\n",
       "       [ 5.29254125e-02,  6.28010889e-02,  7.55924554e-02, ...,\n",
       "         7.37061645e-02, -8.59149171e-04, -4.26106841e-03],\n",
       "       [ 7.72688170e-03,  2.91040758e-02,  8.66949484e-02, ...,\n",
       "         3.96096448e-02,  1.02187655e-01,  6.38842023e-02],\n",
       "       ...,\n",
       "       [-9.14114863e-02, -4.33222995e-02,  9.11469062e-03, ...,\n",
       "        -1.02724555e-01, -3.66379436e-02,  2.21984517e-02],\n",
       "       [ 1.64996888e-01,  3.21432424e-02,  7.96776688e-02, ...,\n",
       "        -8.18039982e-02, -2.02541596e-02, -3.23363821e-02],\n",
       "       [ 1.73390321e-02, -5.30405463e-01,  1.08512015e-01, ...,\n",
       "        -8.94066049e-05,  6.02019201e-02, -3.73973516e-03]])"
      ]
     },
     "execution_count": 28,
     "metadata": {},
     "output_type": "execute_result"
    }
   ],
   "source": [
    "print(pca.components_.shape)"
   ]
  },
  {
   "cell_type": "code",
   "execution_count": 39,
   "id": "60fcb709",
   "metadata": {},
   "outputs": [
    {
     "name": "stdout",
     "output_type": "stream",
     "text": [
      "1st COLUMN\n",
      "-0.7295996612964459\n"
     ]
    },
    {
     "data": {
      "text/plain": [
       "array([ 5.73351008e-03,  5.29254125e-02,  7.72688170e-03,  3.25388741e-02,\n",
       "        1.51347679e-02,  8.58764175e-02, -2.43388895e-02, -3.45120000e-02,\n",
       "        1.06864698e-01, -4.56974973e-02,  6.60106573e-02, -3.68300406e-02,\n",
       "        2.08570603e-02, -9.09100558e-02,  2.06359637e-02, -6.46312908e-02,\n",
       "       -2.66470845e-02, -3.61603236e-02, -9.26661457e-02,  6.31975727e-03,\n",
       "       -6.69338742e-02,  5.24767912e-02,  0.00000000e+00, -8.93003469e-02,\n",
       "        4.22159103e-02, -5.31866614e-02, -1.96284150e-02,  3.32084589e-02,\n",
       "       -5.52107883e-02, -7.76593235e-02,  1.96913729e-03, -6.55887005e-02,\n",
       "       -6.07005978e-03, -2.21371917e-02, -2.58762457e-02,  1.23300270e-01,\n",
       "       -1.36523328e-02, -3.83597798e-02, -2.47514043e-02,  6.13160889e-02,\n",
       "       -1.73939754e-02, -4.13954262e-02,  6.16072323e-02,  9.52532751e-02,\n",
       "       -6.52734119e-02,  6.35806879e-02,  2.24065342e-02, -3.58513468e-03,\n",
       "        0.00000000e+00, -5.58254904e-02, -4.95292198e-02,  0.00000000e+00,\n",
       "       -5.73528397e-02, -7.43649225e-02,  2.14254519e-02, -2.78181198e-02,\n",
       "       -1.86993028e-03, -1.37977837e-01, -3.24329765e-02, -7.92563395e-02,\n",
       "       -8.69703988e-05, -9.14114863e-02,  0.00000000e+00,  1.73390321e-02])"
      ]
     },
     "execution_count": 39,
     "metadata": {},
     "output_type": "execute_result"
    }
   ],
   "source": [
    "print(\"1st COLUMN\")\n",
    "first_col = pca.components_[:, 0]\n",
    "print(first_col.sum())\n",
    "first_col"
   ]
  },
  {
   "cell_type": "code",
   "execution_count": 40,
   "id": "95054927",
   "metadata": {},
   "outputs": [
    {
     "data": {
      "text/plain": [
       "array([0.        , 0.        , 0.        , 0.        , 0.        ,\n",
       "       0.08587642, 0.        , 0.        , 0.1068647 , 0.        ,\n",
       "       0.        , 0.        , 0.        , 0.        , 0.        ,\n",
       "       0.        , 0.        , 0.        , 0.        , 0.        ,\n",
       "       0.        , 0.        , 0.        , 0.        , 0.        ,\n",
       "       0.        , 0.        , 0.        , 0.        , 0.        ,\n",
       "       0.        , 0.        , 0.        , 0.        , 0.        ,\n",
       "       0.12330027, 0.        , 0.        , 0.        , 0.        ,\n",
       "       0.        , 0.        , 0.        , 0.09525328, 0.        ,\n",
       "       0.        , 0.        , 0.        , 0.        , 0.        ,\n",
       "       0.        , 0.        , 0.        , 0.        , 0.        ,\n",
       "       0.        , 0.        , 0.        , 0.        , 0.        ,\n",
       "       0.        , 0.        , 0.        , 0.        ])"
      ]
     },
     "execution_count": 40,
     "metadata": {},
     "output_type": "execute_result"
    }
   ],
   "source": [
    "print(\"Top 5 channels\")\n",
    "first_col[first_col <= np.partition(first_col.flatten(), -2)[-5]] = 0\n",
    "first_col"
   ]
  },
  {
   "cell_type": "markdown",
   "id": "d224dca7",
   "metadata": {},
   "source": [
    "# Trying PCA on channels over ALL participants"
   ]
  },
  {
   "cell_type": "code",
   "execution_count": 10,
   "id": "4de2775a",
   "metadata": {},
   "outputs": [
    {
     "name": "stdout",
     "output_type": "stream",
     "text": [
      "(7232, 208)\n"
     ]
    },
    {
     "data": {
      "text/html": [
       "<div>\n",
       "<style scoped>\n",
       "    .dataframe tbody tr th:only-of-type {\n",
       "        vertical-align: middle;\n",
       "    }\n",
       "\n",
       "    .dataframe tbody tr th {\n",
       "        vertical-align: top;\n",
       "    }\n",
       "\n",
       "    .dataframe thead th {\n",
       "        text-align: right;\n",
       "    }\n",
       "</style>\n",
       "<table border=\"1\" class=\"dataframe\">\n",
       "  <thead>\n",
       "    <tr style=\"text-align: right;\">\n",
       "      <th></th>\n",
       "      <th>0</th>\n",
       "      <th>1</th>\n",
       "      <th>2</th>\n",
       "      <th>3</th>\n",
       "      <th>4</th>\n",
       "      <th>5</th>\n",
       "      <th>6</th>\n",
       "      <th>7</th>\n",
       "      <th>8</th>\n",
       "      <th>9</th>\n",
       "      <th>...</th>\n",
       "      <th>198</th>\n",
       "      <th>199</th>\n",
       "      <th>200</th>\n",
       "      <th>201</th>\n",
       "      <th>202</th>\n",
       "      <th>203</th>\n",
       "      <th>204</th>\n",
       "      <th>205</th>\n",
       "      <th>206</th>\n",
       "      <th>207</th>\n",
       "    </tr>\n",
       "  </thead>\n",
       "  <tbody>\n",
       "    <tr>\n",
       "      <th>0</th>\n",
       "      <td>14.129705</td>\n",
       "      <td>11.959808</td>\n",
       "      <td>28.685874</td>\n",
       "      <td>33.823858</td>\n",
       "      <td>42.311438</td>\n",
       "      <td>22.872970</td>\n",
       "      <td>28.686864</td>\n",
       "      <td>91.792338</td>\n",
       "      <td>26.813570</td>\n",
       "      <td>28.583164</td>\n",
       "      <td>...</td>\n",
       "      <td>43.676011</td>\n",
       "      <td>39.113891</td>\n",
       "      <td>27.947874</td>\n",
       "      <td>31.573392</td>\n",
       "      <td>36.614566</td>\n",
       "      <td>35.604320</td>\n",
       "      <td>51.523493</td>\n",
       "      <td>31.292127</td>\n",
       "      <td>59.277122</td>\n",
       "      <td>51.997711</td>\n",
       "    </tr>\n",
       "    <tr>\n",
       "      <th>1</th>\n",
       "      <td>13.895036</td>\n",
       "      <td>12.063848</td>\n",
       "      <td>22.026072</td>\n",
       "      <td>27.027048</td>\n",
       "      <td>59.187831</td>\n",
       "      <td>23.013614</td>\n",
       "      <td>30.960467</td>\n",
       "      <td>81.718608</td>\n",
       "      <td>29.116355</td>\n",
       "      <td>28.694447</td>\n",
       "      <td>...</td>\n",
       "      <td>41.396844</td>\n",
       "      <td>44.348191</td>\n",
       "      <td>31.188022</td>\n",
       "      <td>30.580405</td>\n",
       "      <td>32.773796</td>\n",
       "      <td>39.768986</td>\n",
       "      <td>51.494867</td>\n",
       "      <td>29.641406</td>\n",
       "      <td>47.146682</td>\n",
       "      <td>58.581918</td>\n",
       "    </tr>\n",
       "    <tr>\n",
       "      <th>2</th>\n",
       "      <td>13.214033</td>\n",
       "      <td>15.229451</td>\n",
       "      <td>23.956005</td>\n",
       "      <td>25.832507</td>\n",
       "      <td>48.218284</td>\n",
       "      <td>29.437285</td>\n",
       "      <td>27.001414</td>\n",
       "      <td>35.878805</td>\n",
       "      <td>29.420835</td>\n",
       "      <td>31.587059</td>\n",
       "      <td>...</td>\n",
       "      <td>27.507856</td>\n",
       "      <td>35.271588</td>\n",
       "      <td>28.060107</td>\n",
       "      <td>24.463167</td>\n",
       "      <td>30.750010</td>\n",
       "      <td>39.033112</td>\n",
       "      <td>31.714344</td>\n",
       "      <td>17.286340</td>\n",
       "      <td>30.174009</td>\n",
       "      <td>49.750919</td>\n",
       "    </tr>\n",
       "    <tr>\n",
       "      <th>3</th>\n",
       "      <td>13.979167</td>\n",
       "      <td>16.414878</td>\n",
       "      <td>19.550628</td>\n",
       "      <td>21.984005</td>\n",
       "      <td>32.083749</td>\n",
       "      <td>26.856702</td>\n",
       "      <td>23.001818</td>\n",
       "      <td>21.776800</td>\n",
       "      <td>23.041464</td>\n",
       "      <td>24.603026</td>\n",
       "      <td>...</td>\n",
       "      <td>21.163787</td>\n",
       "      <td>27.844200</td>\n",
       "      <td>26.265045</td>\n",
       "      <td>24.563413</td>\n",
       "      <td>29.984113</td>\n",
       "      <td>35.764448</td>\n",
       "      <td>23.072423</td>\n",
       "      <td>15.670036</td>\n",
       "      <td>22.936556</td>\n",
       "      <td>38.122263</td>\n",
       "    </tr>\n",
       "    <tr>\n",
       "      <th>4</th>\n",
       "      <td>10.168381</td>\n",
       "      <td>10.501039</td>\n",
       "      <td>12.856129</td>\n",
       "      <td>16.059131</td>\n",
       "      <td>20.128401</td>\n",
       "      <td>13.435236</td>\n",
       "      <td>16.672336</td>\n",
       "      <td>18.134148</td>\n",
       "      <td>20.744904</td>\n",
       "      <td>21.606347</td>\n",
       "      <td>...</td>\n",
       "      <td>14.751494</td>\n",
       "      <td>19.967234</td>\n",
       "      <td>19.091210</td>\n",
       "      <td>16.293000</td>\n",
       "      <td>20.945203</td>\n",
       "      <td>25.093296</td>\n",
       "      <td>14.147869</td>\n",
       "      <td>10.369884</td>\n",
       "      <td>15.788238</td>\n",
       "      <td>26.206604</td>\n",
       "    </tr>\n",
       "  </tbody>\n",
       "</table>\n",
       "<p>5 rows × 208 columns</p>\n",
       "</div>"
      ],
      "text/plain": [
       "         0          1          2          3          4          5    \\\n",
       "0  14.129705  11.959808  28.685874  33.823858  42.311438  22.872970   \n",
       "1  13.895036  12.063848  22.026072  27.027048  59.187831  23.013614   \n",
       "2  13.214033  15.229451  23.956005  25.832507  48.218284  29.437285   \n",
       "3  13.979167  16.414878  19.550628  21.984005  32.083749  26.856702   \n",
       "4  10.168381  10.501039  12.856129  16.059131  20.128401  13.435236   \n",
       "\n",
       "         6          7          8          9    ...        198        199  \\\n",
       "0  28.686864  91.792338  26.813570  28.583164  ...  43.676011  39.113891   \n",
       "1  30.960467  81.718608  29.116355  28.694447  ...  41.396844  44.348191   \n",
       "2  27.001414  35.878805  29.420835  31.587059  ...  27.507856  35.271588   \n",
       "3  23.001818  21.776800  23.041464  24.603026  ...  21.163787  27.844200   \n",
       "4  16.672336  18.134148  20.744904  21.606347  ...  14.751494  19.967234   \n",
       "\n",
       "         200        201        202        203        204        205  \\\n",
       "0  27.947874  31.573392  36.614566  35.604320  51.523493  31.292127   \n",
       "1  31.188022  30.580405  32.773796  39.768986  51.494867  29.641406   \n",
       "2  28.060107  24.463167  30.750010  39.033112  31.714344  17.286340   \n",
       "3  26.265045  24.563413  29.984113  35.764448  23.072423  15.670036   \n",
       "4  19.091210  16.293000  20.945203  25.093296  14.147869  10.369884   \n",
       "\n",
       "         206        207  \n",
       "0  59.277122  51.997711  \n",
       "1  47.146682  58.581918  \n",
       "2  30.174009  49.750919  \n",
       "3  22.936556  38.122263  \n",
       "4  15.788238  26.206604  \n",
       "\n",
       "[5 rows x 208 columns]"
      ]
     },
     "execution_count": 10,
     "metadata": {},
     "output_type": "execute_result"
    }
   ],
   "source": [
    "print(envelope_df.shape)\n",
    "envelope_df.head()"
   ]
  },
  {
   "cell_type": "code",
   "execution_count": 11,
   "id": "083f7e6d",
   "metadata": {},
   "outputs": [
    {
     "name": "stdout",
     "output_type": "stream",
     "text": [
      "(7232, 1)\n"
     ]
    },
    {
     "data": {
      "text/html": [
       "<div>\n",
       "<style scoped>\n",
       "    .dataframe tbody tr th:only-of-type {\n",
       "        vertical-align: middle;\n",
       "    }\n",
       "\n",
       "    .dataframe tbody tr th {\n",
       "        vertical-align: top;\n",
       "    }\n",
       "\n",
       "    .dataframe thead th {\n",
       "        text-align: right;\n",
       "    }\n",
       "</style>\n",
       "<table border=\"1\" class=\"dataframe\">\n",
       "  <thead>\n",
       "    <tr style=\"text-align: right;\">\n",
       "      <th></th>\n",
       "      <th>Subject</th>\n",
       "    </tr>\n",
       "  </thead>\n",
       "  <tbody>\n",
       "    <tr>\n",
       "      <th>0</th>\n",
       "      <td>0</td>\n",
       "    </tr>\n",
       "    <tr>\n",
       "      <th>1</th>\n",
       "      <td>0</td>\n",
       "    </tr>\n",
       "    <tr>\n",
       "      <th>2</th>\n",
       "      <td>0</td>\n",
       "    </tr>\n",
       "    <tr>\n",
       "      <th>3</th>\n",
       "      <td>0</td>\n",
       "    </tr>\n",
       "    <tr>\n",
       "      <th>4</th>\n",
       "      <td>0</td>\n",
       "    </tr>\n",
       "  </tbody>\n",
       "</table>\n",
       "</div>"
      ],
      "text/plain": [
       "   Subject\n",
       "0        0\n",
       "1        0\n",
       "2        0\n",
       "3        0\n",
       "4        0"
      ]
     },
     "execution_count": 11,
     "metadata": {},
     "output_type": "execute_result"
    }
   ],
   "source": [
    "print(labels_df.shape)\n",
    "labels_df.head()"
   ]
  },
  {
   "cell_type": "code",
   "execution_count": null,
   "id": "44e6ac25",
   "metadata": {},
   "outputs": [],
   "source": []
  },
  {
   "cell_type": "code",
   "execution_count": null,
   "id": "aa89f4c9",
   "metadata": {},
   "outputs": [],
   "source": []
  },
  {
   "cell_type": "code",
   "execution_count": null,
   "id": "5f9d44d8",
   "metadata": {},
   "outputs": [],
   "source": []
  },
  {
   "cell_type": "code",
   "execution_count": null,
   "id": "2c493748",
   "metadata": {},
   "outputs": [],
   "source": []
  },
  {
   "cell_type": "code",
   "execution_count": null,
   "id": "38292532",
   "metadata": {},
   "outputs": [],
   "source": []
  },
  {
   "cell_type": "code",
   "execution_count": null,
   "id": "9e5c4e56",
   "metadata": {},
   "outputs": [],
   "source": []
  },
  {
   "cell_type": "code",
   "execution_count": null,
   "id": "738b9c19",
   "metadata": {},
   "outputs": [],
   "source": []
  },
  {
   "cell_type": "code",
   "execution_count": null,
   "id": "ec898ad7",
   "metadata": {},
   "outputs": [],
   "source": []
  },
  {
   "cell_type": "code",
   "execution_count": null,
   "id": "80b7e867",
   "metadata": {},
   "outputs": [],
   "source": []
  },
  {
   "cell_type": "code",
   "execution_count": null,
   "id": "a09be9e3",
   "metadata": {},
   "outputs": [],
   "source": []
  },
  {
   "cell_type": "code",
   "execution_count": null,
   "id": "868872d2",
   "metadata": {},
   "outputs": [],
   "source": []
  },
  {
   "cell_type": "markdown",
   "id": "1c19617b",
   "metadata": {},
   "source": [
    "## Now try to figure out if rows actually mean anything\n",
    "> Eg add a row of all 0s at the beginning of the df to see if this still captures information.  If pca.explained_variance_ratio_ is no longer \"sorted\" then it isnt sorted to begin with and thus I can just take the top rows"
   ]
  },
  {
   "cell_type": "code",
   "execution_count": 114,
   "id": "af21c548",
   "metadata": {},
   "outputs": [
    {
     "data": {
      "text/plain": [
       "(64, 208)"
      ]
     },
     "execution_count": 114,
     "metadata": {},
     "output_type": "execute_result"
    }
   ],
   "source": [
    "first_subj_df.shape"
   ]
  },
  {
   "cell_type": "code",
   "execution_count": 115,
   "id": "865c9389",
   "metadata": {},
   "outputs": [
    {
     "name": "stdout",
     "output_type": "stream",
     "text": [
      "(65, 208)\n"
     ]
    },
    {
     "data": {
      "text/html": [
       "<div>\n",
       "<style scoped>\n",
       "    .dataframe tbody tr th:only-of-type {\n",
       "        vertical-align: middle;\n",
       "    }\n",
       "\n",
       "    .dataframe tbody tr th {\n",
       "        vertical-align: top;\n",
       "    }\n",
       "\n",
       "    .dataframe thead th {\n",
       "        text-align: right;\n",
       "    }\n",
       "</style>\n",
       "<table border=\"1\" class=\"dataframe\">\n",
       "  <thead>\n",
       "    <tr style=\"text-align: right;\">\n",
       "      <th></th>\n",
       "      <th>0</th>\n",
       "      <th>1</th>\n",
       "      <th>2</th>\n",
       "      <th>3</th>\n",
       "      <th>4</th>\n",
       "      <th>5</th>\n",
       "      <th>6</th>\n",
       "      <th>7</th>\n",
       "      <th>8</th>\n",
       "      <th>9</th>\n",
       "      <th>...</th>\n",
       "      <th>198</th>\n",
       "      <th>199</th>\n",
       "      <th>200</th>\n",
       "      <th>201</th>\n",
       "      <th>202</th>\n",
       "      <th>203</th>\n",
       "      <th>204</th>\n",
       "      <th>205</th>\n",
       "      <th>206</th>\n",
       "      <th>207</th>\n",
       "    </tr>\n",
       "  </thead>\n",
       "  <tbody>\n",
       "    <tr>\n",
       "      <th>0</th>\n",
       "      <td>0.000000</td>\n",
       "      <td>0.000000</td>\n",
       "      <td>0.000000</td>\n",
       "      <td>0.000000</td>\n",
       "      <td>0.000000</td>\n",
       "      <td>0.000000</td>\n",
       "      <td>0.000000</td>\n",
       "      <td>0.000000</td>\n",
       "      <td>0.000000</td>\n",
       "      <td>0.000000</td>\n",
       "      <td>...</td>\n",
       "      <td>0.000000</td>\n",
       "      <td>0.000000</td>\n",
       "      <td>0.000000</td>\n",
       "      <td>0.000000</td>\n",
       "      <td>0.000000</td>\n",
       "      <td>0.000000</td>\n",
       "      <td>0.000000</td>\n",
       "      <td>0.000000</td>\n",
       "      <td>0.000000</td>\n",
       "      <td>0.000000</td>\n",
       "    </tr>\n",
       "    <tr>\n",
       "      <th>1</th>\n",
       "      <td>14.129705</td>\n",
       "      <td>11.959808</td>\n",
       "      <td>28.685874</td>\n",
       "      <td>33.823858</td>\n",
       "      <td>42.311438</td>\n",
       "      <td>22.872970</td>\n",
       "      <td>28.686864</td>\n",
       "      <td>91.792338</td>\n",
       "      <td>26.813570</td>\n",
       "      <td>28.583164</td>\n",
       "      <td>...</td>\n",
       "      <td>43.676011</td>\n",
       "      <td>39.113891</td>\n",
       "      <td>27.947874</td>\n",
       "      <td>31.573392</td>\n",
       "      <td>36.614566</td>\n",
       "      <td>35.604320</td>\n",
       "      <td>51.523493</td>\n",
       "      <td>31.292127</td>\n",
       "      <td>59.277122</td>\n",
       "      <td>51.997711</td>\n",
       "    </tr>\n",
       "    <tr>\n",
       "      <th>2</th>\n",
       "      <td>13.895036</td>\n",
       "      <td>12.063848</td>\n",
       "      <td>22.026072</td>\n",
       "      <td>27.027048</td>\n",
       "      <td>59.187831</td>\n",
       "      <td>23.013614</td>\n",
       "      <td>30.960467</td>\n",
       "      <td>81.718608</td>\n",
       "      <td>29.116355</td>\n",
       "      <td>28.694447</td>\n",
       "      <td>...</td>\n",
       "      <td>41.396844</td>\n",
       "      <td>44.348191</td>\n",
       "      <td>31.188022</td>\n",
       "      <td>30.580405</td>\n",
       "      <td>32.773796</td>\n",
       "      <td>39.768986</td>\n",
       "      <td>51.494867</td>\n",
       "      <td>29.641406</td>\n",
       "      <td>47.146682</td>\n",
       "      <td>58.581918</td>\n",
       "    </tr>\n",
       "    <tr>\n",
       "      <th>3</th>\n",
       "      <td>13.214033</td>\n",
       "      <td>15.229451</td>\n",
       "      <td>23.956005</td>\n",
       "      <td>25.832507</td>\n",
       "      <td>48.218284</td>\n",
       "      <td>29.437285</td>\n",
       "      <td>27.001414</td>\n",
       "      <td>35.878805</td>\n",
       "      <td>29.420835</td>\n",
       "      <td>31.587059</td>\n",
       "      <td>...</td>\n",
       "      <td>27.507856</td>\n",
       "      <td>35.271588</td>\n",
       "      <td>28.060107</td>\n",
       "      <td>24.463167</td>\n",
       "      <td>30.750010</td>\n",
       "      <td>39.033112</td>\n",
       "      <td>31.714344</td>\n",
       "      <td>17.286340</td>\n",
       "      <td>30.174009</td>\n",
       "      <td>49.750919</td>\n",
       "    </tr>\n",
       "    <tr>\n",
       "      <th>4</th>\n",
       "      <td>13.979167</td>\n",
       "      <td>16.414878</td>\n",
       "      <td>19.550628</td>\n",
       "      <td>21.984005</td>\n",
       "      <td>32.083749</td>\n",
       "      <td>26.856702</td>\n",
       "      <td>23.001818</td>\n",
       "      <td>21.776800</td>\n",
       "      <td>23.041464</td>\n",
       "      <td>24.603026</td>\n",
       "      <td>...</td>\n",
       "      <td>21.163787</td>\n",
       "      <td>27.844200</td>\n",
       "      <td>26.265045</td>\n",
       "      <td>24.563413</td>\n",
       "      <td>29.984113</td>\n",
       "      <td>35.764448</td>\n",
       "      <td>23.072423</td>\n",
       "      <td>15.670036</td>\n",
       "      <td>22.936556</td>\n",
       "      <td>38.122263</td>\n",
       "    </tr>\n",
       "  </tbody>\n",
       "</table>\n",
       "<p>5 rows × 208 columns</p>\n",
       "</div>"
      ],
      "text/plain": [
       "         0          1          2          3          4          5    \\\n",
       "0   0.000000   0.000000   0.000000   0.000000   0.000000   0.000000   \n",
       "1  14.129705  11.959808  28.685874  33.823858  42.311438  22.872970   \n",
       "2  13.895036  12.063848  22.026072  27.027048  59.187831  23.013614   \n",
       "3  13.214033  15.229451  23.956005  25.832507  48.218284  29.437285   \n",
       "4  13.979167  16.414878  19.550628  21.984005  32.083749  26.856702   \n",
       "\n",
       "         6          7          8          9    ...        198        199  \\\n",
       "0   0.000000   0.000000   0.000000   0.000000  ...   0.000000   0.000000   \n",
       "1  28.686864  91.792338  26.813570  28.583164  ...  43.676011  39.113891   \n",
       "2  30.960467  81.718608  29.116355  28.694447  ...  41.396844  44.348191   \n",
       "3  27.001414  35.878805  29.420835  31.587059  ...  27.507856  35.271588   \n",
       "4  23.001818  21.776800  23.041464  24.603026  ...  21.163787  27.844200   \n",
       "\n",
       "         200        201        202        203        204        205  \\\n",
       "0   0.000000   0.000000   0.000000   0.000000   0.000000   0.000000   \n",
       "1  27.947874  31.573392  36.614566  35.604320  51.523493  31.292127   \n",
       "2  31.188022  30.580405  32.773796  39.768986  51.494867  29.641406   \n",
       "3  28.060107  24.463167  30.750010  39.033112  31.714344  17.286340   \n",
       "4  26.265045  24.563413  29.984113  35.764448  23.072423  15.670036   \n",
       "\n",
       "         206        207  \n",
       "0   0.000000   0.000000  \n",
       "1  59.277122  51.997711  \n",
       "2  47.146682  58.581918  \n",
       "3  30.174009  49.750919  \n",
       "4  22.936556  38.122263  \n",
       "\n",
       "[5 rows x 208 columns]"
      ]
     },
     "execution_count": 115,
     "metadata": {},
     "output_type": "execute_result"
    }
   ],
   "source": [
    "TESTING_first_subj_df = first_subj_df.copy(deep=True)\n",
    "TESTING_first_subj_df.loc[-1] = [0]*208  # adding a row\n",
    "TESTING_first_subj_df.index = TESTING_first_subj_df.index + 1  # shifting index\n",
    "TESTING_first_subj_df.sort_index(inplace=True) \n",
    "\n",
    "print(TESTING_first_subj_df.shape)\n",
    "TESTING_first_subj_df.head()"
   ]
  },
  {
   "cell_type": "code",
   "execution_count": 116,
   "id": "cd35ec20",
   "metadata": {},
   "outputs": [
    {
     "name": "stdout",
     "output_type": "stream",
     "text": [
      "(65, 1)\n"
     ]
    },
    {
     "data": {
      "text/html": [
       "<div>\n",
       "<style scoped>\n",
       "    .dataframe tbody tr th:only-of-type {\n",
       "        vertical-align: middle;\n",
       "    }\n",
       "\n",
       "    .dataframe tbody tr th {\n",
       "        vertical-align: top;\n",
       "    }\n",
       "\n",
       "    .dataframe thead th {\n",
       "        text-align: right;\n",
       "    }\n",
       "</style>\n",
       "<table border=\"1\" class=\"dataframe\">\n",
       "  <thead>\n",
       "    <tr style=\"text-align: right;\">\n",
       "      <th></th>\n",
       "      <th>Subject</th>\n",
       "    </tr>\n",
       "  </thead>\n",
       "  <tbody>\n",
       "    <tr>\n",
       "      <th>0</th>\n",
       "      <td>0</td>\n",
       "    </tr>\n",
       "    <tr>\n",
       "      <th>1</th>\n",
       "      <td>0</td>\n",
       "    </tr>\n",
       "    <tr>\n",
       "      <th>2</th>\n",
       "      <td>0</td>\n",
       "    </tr>\n",
       "    <tr>\n",
       "      <th>3</th>\n",
       "      <td>0</td>\n",
       "    </tr>\n",
       "    <tr>\n",
       "      <th>4</th>\n",
       "      <td>0</td>\n",
       "    </tr>\n",
       "  </tbody>\n",
       "</table>\n",
       "</div>"
      ],
      "text/plain": [
       "   Subject\n",
       "0        0\n",
       "1        0\n",
       "2        0\n",
       "3        0\n",
       "4        0"
      ]
     },
     "execution_count": 116,
     "metadata": {},
     "output_type": "execute_result"
    }
   ],
   "source": [
    "TESTING_first_subj_labels_df = first_subj_labels_df.copy(deep=True)\n",
    "TESTING_first_subj_labels_df.loc[-1] = [0]  # adding a row\n",
    "TESTING_first_subj_labels_df.index = TESTING_first_subj_labels_df.index + 1  # shifting index\n",
    "TESTING_first_subj_labels_df.sort_index(inplace=True) \n",
    "\n",
    "print(TESTING_first_subj_labels_df.shape)\n",
    "TESTING_first_subj_labels_df.head()"
   ]
  },
  {
   "cell_type": "code",
   "execution_count": 117,
   "id": "6afdfd5d",
   "metadata": {},
   "outputs": [],
   "source": [
    "X = TESTING_first_subj_df\n",
    "y = TESTING_first_subj_labels_df\n",
    "\n",
    "# Maybe don't do SS since negative EMG is weird\n",
    "# Not using it just flips the figure, as far as I can tell\n",
    "#scaler = StandardScaler()\n",
    "#scaler.fit(X)\n",
    "#X=scaler.transform(X)    \n",
    "\n",
    "pca = PCA()\n",
    "x_new = pca.fit_transform(X)"
   ]
  },
  {
   "cell_type": "code",
   "execution_count": 118,
   "id": "36481c5d",
   "metadata": {},
   "outputs": [
    {
     "name": "stdout",
     "output_type": "stream",
     "text": [
      "(65,)\n"
     ]
    }
   ],
   "source": [
    "print(pca.explained_variance_ratio_.shape)"
   ]
  },
  {
   "cell_type": "code",
   "execution_count": 119,
   "id": "73a5a672",
   "metadata": {},
   "outputs": [
    {
     "data": {
      "text/plain": [
       "array([8.19114187e-01, 7.19051552e-02, 5.46854820e-02, 1.56556408e-02,\n",
       "       9.97130300e-03, 5.78926780e-03, 4.94265919e-03, 3.94526512e-03,\n",
       "       3.69755216e-03, 2.40379877e-03, 1.72999823e-03, 9.97110833e-04,\n",
       "       6.95033011e-04, 5.74368479e-04, 4.68882369e-04, 4.23407091e-04,\n",
       "       3.76150475e-04, 3.24580524e-04, 2.52943358e-04, 2.26771020e-04])"
      ]
     },
     "execution_count": 119,
     "metadata": {},
     "output_type": "execute_result"
    }
   ],
   "source": [
    "pca.explained_variance_ratio_[0:20]"
   ]
  },
  {
   "cell_type": "code",
   "execution_count": 120,
   "id": "84424966",
   "metadata": {},
   "outputs": [
    {
     "data": {
      "text/plain": [
       "array([0.81911419, 0.89101934, 0.94570482, 0.96136046])"
      ]
     },
     "execution_count": 120,
     "metadata": {},
     "output_type": "execute_result"
    }
   ],
   "source": [
    "pca.explained_variance_ratio_.cumsum()[0:4]"
   ]
  },
  {
   "cell_type": "markdown",
   "id": "41a70e41",
   "metadata": {},
   "source": [
    "I don't think this necessarily tells me what I wanted, it still concievable could be the case that the all zero row still captures a lot of variance maybe?"
   ]
  },
  {
   "cell_type": "markdown",
   "id": "b49a70b7",
   "metadata": {},
   "source": [
    "# OLD CODE: Pipeline for Finding n_components\n",
    "Choosing just 2 components was super arbitrary, ought to do some analysis"
   ]
  },
  {
   "cell_type": "code",
   "execution_count": 52,
   "id": "04405dd7",
   "metadata": {},
   "outputs": [],
   "source": [
    "def do_pca(num_cs, input_df):\n",
    "    pca=PCA(n_components=num_cs)\n",
    "    pca.fit(input_df)\n",
    "    x_pca=pca.transform(input_df)\n",
    "\n",
    "    return x_pca"
   ]
  },
  {
   "cell_type": "markdown",
   "id": "8d7bc7b5",
   "metadata": {},
   "source": [
    "Could drop channel column, or combine subject and channel into 1 label. Dropping channel column is easiest but presumably loses some info (eg if channel is place over same muscle that could provide a better matching criterion, but this may be counteracted if the two blocks had sensors placed in different places"
   ]
  },
  {
   "cell_type": "code",
   "execution_count": 43,
   "id": "f0e9fe9d",
   "metadata": {},
   "outputs": [
    {
     "data": {
      "text/html": [
       "<div>\n",
       "<style scoped>\n",
       "    .dataframe tbody tr th:only-of-type {\n",
       "        vertical-align: middle;\n",
       "    }\n",
       "\n",
       "    .dataframe tbody tr th {\n",
       "        vertical-align: top;\n",
       "    }\n",
       "\n",
       "    .dataframe thead th {\n",
       "        text-align: right;\n",
       "    }\n",
       "</style>\n",
       "<table border=\"1\" class=\"dataframe\">\n",
       "  <thead>\n",
       "    <tr style=\"text-align: right;\">\n",
       "      <th></th>\n",
       "      <th>Subject</th>\n",
       "      <th>Condition</th>\n",
       "      <th>Channel</th>\n",
       "    </tr>\n",
       "  </thead>\n",
       "  <tbody>\n",
       "    <tr>\n",
       "      <th>0</th>\n",
       "      <td>METACPHS_S106</td>\n",
       "      <td>0</td>\n",
       "      <td>0</td>\n",
       "    </tr>\n",
       "    <tr>\n",
       "      <th>1</th>\n",
       "      <td>METACPHS_S106</td>\n",
       "      <td>0</td>\n",
       "      <td>1</td>\n",
       "    </tr>\n",
       "    <tr>\n",
       "      <th>2</th>\n",
       "      <td>METACPHS_S106</td>\n",
       "      <td>0</td>\n",
       "      <td>2</td>\n",
       "    </tr>\n",
       "    <tr>\n",
       "      <th>3</th>\n",
       "      <td>METACPHS_S106</td>\n",
       "      <td>0</td>\n",
       "      <td>3</td>\n",
       "    </tr>\n",
       "    <tr>\n",
       "      <th>4</th>\n",
       "      <td>METACPHS_S106</td>\n",
       "      <td>0</td>\n",
       "      <td>4</td>\n",
       "    </tr>\n",
       "  </tbody>\n",
       "</table>\n",
       "</div>"
      ],
      "text/plain": [
       "         Subject  Condition  Channel\n",
       "0  METACPHS_S106          0        0\n",
       "1  METACPHS_S106          0        1\n",
       "2  METACPHS_S106          0        2\n",
       "3  METACPHS_S106          0        3\n",
       "4  METACPHS_S106          0        4"
      ]
     },
     "execution_count": 43,
     "metadata": {},
     "output_type": "execute_result"
    }
   ],
   "source": [
    "emg_labels_df.head()"
   ]
  },
  {
   "cell_type": "code",
   "execution_count": 44,
   "id": "7db60bd2",
   "metadata": {},
   "outputs": [
    {
     "name": "stdout",
     "output_type": "stream",
     "text": [
      "(7232, 1)\n"
     ]
    },
    {
     "data": {
      "text/html": [
       "<div>\n",
       "<style scoped>\n",
       "    .dataframe tbody tr th:only-of-type {\n",
       "        vertical-align: middle;\n",
       "    }\n",
       "\n",
       "    .dataframe tbody tr th {\n",
       "        vertical-align: top;\n",
       "    }\n",
       "\n",
       "    .dataframe thead th {\n",
       "        text-align: right;\n",
       "    }\n",
       "</style>\n",
       "<table border=\"1\" class=\"dataframe\">\n",
       "  <thead>\n",
       "    <tr style=\"text-align: right;\">\n",
       "      <th></th>\n",
       "      <th>Subject</th>\n",
       "    </tr>\n",
       "  </thead>\n",
       "  <tbody>\n",
       "    <tr>\n",
       "      <th>0</th>\n",
       "      <td>METACPHS_S106</td>\n",
       "    </tr>\n",
       "    <tr>\n",
       "      <th>1</th>\n",
       "      <td>METACPHS_S106</td>\n",
       "    </tr>\n",
       "    <tr>\n",
       "      <th>2</th>\n",
       "      <td>METACPHS_S106</td>\n",
       "    </tr>\n",
       "    <tr>\n",
       "      <th>3</th>\n",
       "      <td>METACPHS_S106</td>\n",
       "    </tr>\n",
       "    <tr>\n",
       "      <th>4</th>\n",
       "      <td>METACPHS_S106</td>\n",
       "    </tr>\n",
       "  </tbody>\n",
       "</table>\n",
       "</div>"
      ],
      "text/plain": [
       "         Subject\n",
       "0  METACPHS_S106\n",
       "1  METACPHS_S106\n",
       "2  METACPHS_S106\n",
       "3  METACPHS_S106\n",
       "4  METACPHS_S106"
      ]
     },
     "execution_count": 44,
     "metadata": {},
     "output_type": "execute_result"
    }
   ],
   "source": [
    "# Also drop condition for now\n",
    "emg_labels_NC_df = emg_labels_df.drop(['Channel', 'Condition'], axis=1)\n",
    "emg_labels_NC_df[\"Subject\"] = emg_labels_NC_df[\"Subject\"].map(key_to_num)\n",
    "print(emg_labels_NC_df.shape)\n",
    "emg_labels_NC_df.head()"
   ]
  },
  {
   "cell_type": "code",
   "execution_count": 47,
   "id": "6029e209",
   "metadata": {},
   "outputs": [
    {
     "data": {
      "text/html": [
       "<div>\n",
       "<style scoped>\n",
       "    .dataframe tbody tr th:only-of-type {\n",
       "        vertical-align: middle;\n",
       "    }\n",
       "\n",
       "    .dataframe tbody tr th {\n",
       "        vertical-align: top;\n",
       "    }\n",
       "\n",
       "    .dataframe thead th {\n",
       "        text-align: right;\n",
       "    }\n",
       "</style>\n",
       "<table border=\"1\" class=\"dataframe\">\n",
       "  <thead>\n",
       "    <tr style=\"text-align: right;\">\n",
       "      <th></th>\n",
       "      <th>Algorithm</th>\n",
       "      <th>One Off Acc</th>\n",
       "      <th>CV Acc</th>\n",
       "      <th>K Folds</th>\n",
       "    </tr>\n",
       "  </thead>\n",
       "  <tbody>\n",
       "  </tbody>\n",
       "</table>\n",
       "</div>"
      ],
      "text/plain": [
       "Empty DataFrame\n",
       "Columns: [Algorithm, One Off Acc, CV Acc, K Folds]\n",
       "Index: []"
      ]
     },
     "execution_count": 47,
     "metadata": {},
     "output_type": "execute_result"
    }
   ],
   "source": [
    "emgPCA_res_df = pd.DataFrame(columns=my_metrics_cols)\n",
    "emgPCA_res_df.head()"
   ]
  },
  {
   "cell_type": "code",
   "execution_count": null,
   "id": "8cb77f8f",
   "metadata": {},
   "outputs": [],
   "source": [
    "\n",
    "emg_PCA_df2 = pd.DataFrame(do_pca(2, emg_data_df))\n",
    "emg_PCA_df3 = pd.DataFrame(do_pca(3, emg_data_df))\n",
    "emg_PCA_df5 = pd.DataFrame(do_pca(5, emg_data_df))\n",
    "emg_PCA_df7 = pd.DataFrame(do_pca(7, emg_data_df))\n",
    "emg_PCA_df10 = pd.DataFrame(do_pca(10, emg_data_df))\n",
    "emg_PCA_df20 = pd.DataFrame(do_pca(20, emg_data_df))\n",
    "\n",
    "my_pca_dfs = [emg_PCA_df2, emg_PCA_df3, emg_PCA_df5, emg_PCA_df7, emg_PCA_df10, emg_PCA_df20]"
   ]
  },
  {
   "cell_type": "code",
   "execution_count": null,
   "id": "5ac0386d",
   "metadata": {},
   "outputs": [],
   "source": [
    "for my_input_df in my_pca_dfs:\n",
    "    X_train, y_train, X_test, y_test, X_val, y_val = train_test_val_split(my_input_df, emg_labels_NC_df)\n",
    "    y_train = np.ravel(y_train)\n",
    "\n",
    "    # Need to keep track of what condition was used when... appending a column after?\n",
    "    #emgPCA_res_df = pd.DataFrame(columns=my_metrics_cols)\n",
    "\n",
    "    for model in my_models:\n",
    "        emgPCA_res_df = train_model(model, X_train, y_train, cv, emgPCA_res_df)"
   ]
  },
  {
   "cell_type": "code",
   "execution_count": null,
   "id": "88335e5f",
   "metadata": {},
   "outputs": [],
   "source": [
    "emgPCA_res_df.head(100)"
   ]
  },
  {
   "cell_type": "code",
   "execution_count": null,
   "id": "6683e2c3",
   "metadata": {},
   "outputs": [],
   "source": [
    "# Do some code to add a column\n",
    "num_comp_col = np.zeros((len(my_pca_dfs)*len(my_models), 1))\n",
    "\n",
    "#for i in range():\n",
    "#    num_comp_col"
   ]
  },
  {
   "cell_type": "code",
   "execution_count": null,
   "id": "30e295c1",
   "metadata": {},
   "outputs": [],
   "source": [
    "emgPCA_res_df.head(100)"
   ]
  },
  {
   "cell_type": "code",
   "execution_count": null,
   "id": "bd8c13c3",
   "metadata": {},
   "outputs": [],
   "source": []
  },
  {
   "cell_type": "code",
   "execution_count": null,
   "id": "14dd3539",
   "metadata": {},
   "outputs": [],
   "source": []
  },
  {
   "cell_type": "code",
   "execution_count": null,
   "id": "0e71b032",
   "metadata": {},
   "outputs": [],
   "source": []
  }
 ],
 "metadata": {
  "kernelspec": {
   "display_name": "Python 3 (ipykernel)",
   "language": "python",
   "name": "python3"
  },
  "language_info": {
   "codemirror_mode": {
    "name": "ipython",
    "version": 3
   },
   "file_extension": ".py",
   "mimetype": "text/x-python",
   "name": "python",
   "nbconvert_exporter": "python",
   "pygments_lexer": "ipython3",
   "version": "3.9.13"
  }
 },
 "nbformat": 4,
 "nbformat_minor": 5
}
