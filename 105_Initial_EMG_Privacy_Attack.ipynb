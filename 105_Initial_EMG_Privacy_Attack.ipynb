{
 "cells": [
  {
   "cell_type": "markdown",
   "id": "d17f193d",
   "metadata": {},
   "source": [
    "> __Purpose:__ Implement an initial privacy attack to quantify how much re-identiifcation and linkability risk exists from  filtered EMG data (should be highly unique). Thus, implement a basic ML model to link the EMG data back to the corresponding subject.  \n",
    "\n",
    "1. Make EMG Envelope: moving average OR RMS -- 100 ms windows, no overlap -- end up with ~200 samples for the 20 second window at the beginning and end\n",
    "2. PCA on the channels - decrease # of channels, run PCA on all participants to find X significant axes (somewhere between 3-6), and then apply the same transformation to all participants\n",
    "3. Then do ML\n",
    "\n",
    "-- 7 Subjects, therefore pure guessing would be 14.28% correct on average"
   ]
  },
  {
   "cell_type": "code",
   "execution_count": 1,
   "id": "a61b3128",
   "metadata": {},
   "outputs": [],
   "source": [
    "import numpy as np\n",
    "import matplotlib.pyplot as plt\n",
    "# import seaborn\n",
    "import time\n",
    "import pandas as pd\n",
    "import pickle\n",
    "import random\n",
    "from kcs_ml_infr import *\n",
    "\n",
    "random.seed(a=1)"
   ]
  },
  {
   "cell_type": "markdown",
   "id": "a850bb15",
   "metadata": {},
   "source": [
    "# Load In Data"
   ]
  },
  {
   "cell_type": "code",
   "execution_count": 25,
   "id": "762841a6",
   "metadata": {},
   "outputs": [
    {
     "name": "stdout",
     "output_type": "stream",
     "text": [
      "(19,)\n",
      "[    0  1200  2402  3604  4806  6008  7210  8412  9614 10816 12018 13220\n",
      " 14422 15624 16826 18028 19230 20432 20769]\n"
     ]
    }
   ],
   "source": [
    "keys = ['METACPHS_S106', 'METACPHS_S107','METACPHS_S108', 'METACPHS_S109', 'METACPHS_S110', 'METACPHS_S111', 'METACPHS_S112']\n",
    "\n",
    "key_to_num = dict()\n",
    "num_to_key = dict()\n",
    "for idx, key in enumerate(keys):\n",
    "    key_to_num[key] = idx\n",
    "    num_to_key[idx] = key\n",
    "\n",
    "update_ix = np.load(r\"Data\\update_ix.npy\")\n",
    "print(update_ix.shape)\n",
    "print(update_ix)"
   ]
  },
  {
   "cell_type": "markdown",
   "id": "04a97330",
   "metadata": {},
   "source": [
    "Load in the other data\n",
    "> This cell takes forever to run..."
   ]
  },
  {
   "cell_type": "code",
   "execution_count": 3,
   "id": "30b50886",
   "metadata": {},
   "outputs": [
    {
     "name": "stdout",
     "output_type": "stream",
     "text": [
      "1490.8569362163544\n"
     ]
    }
   ],
   "source": [
    "t0 = time.time()\n",
    "\n",
    "emg_data_df1 = pd.read_csv(\"Data\\emg_data1.csv\")\n",
    "emg_labels_df1 = pd.read_csv(\"Data\\emg_labels1.csv\")\n",
    "emg_data_df2 = pd.read_csv(\"Data\\emg_data2.csv\")\n",
    "emg_labels_df2 = pd.read_csv(\"Data\\emg_labels2.csv\")\n",
    "\n",
    "t1 = time.time()\n",
    "total = t1-t0  \n",
    "print(total)"
   ]
  },
  {
   "cell_type": "code",
   "execution_count": 4,
   "id": "d045a760",
   "metadata": {},
   "outputs": [],
   "source": [
    "emg_data_df = pd.concat((emg_data_df1, emg_data_df2))\n",
    "emg_labels_df = pd.concat((emg_labels_df1, emg_labels_df2))"
   ]
  },
  {
   "cell_type": "code",
   "execution_count": 5,
   "id": "4c87b437",
   "metadata": {},
   "outputs": [
    {
     "name": "stdout",
     "output_type": "stream",
     "text": [
      "(7232, 20771)\n"
     ]
    },
    {
     "data": {
      "text/html": [
       "<div>\n",
       "<style scoped>\n",
       "    .dataframe tbody tr th:only-of-type {\n",
       "        vertical-align: middle;\n",
       "    }\n",
       "\n",
       "    .dataframe tbody tr th {\n",
       "        vertical-align: top;\n",
       "    }\n",
       "\n",
       "    .dataframe thead th {\n",
       "        text-align: right;\n",
       "    }\n",
       "</style>\n",
       "<table border=\"1\" class=\"dataframe\">\n",
       "  <thead>\n",
       "    <tr style=\"text-align: right;\">\n",
       "      <th></th>\n",
       "      <th>0</th>\n",
       "      <th>1</th>\n",
       "      <th>2</th>\n",
       "      <th>3</th>\n",
       "      <th>4</th>\n",
       "      <th>5</th>\n",
       "      <th>6</th>\n",
       "      <th>7</th>\n",
       "      <th>8</th>\n",
       "      <th>9</th>\n",
       "      <th>...</th>\n",
       "      <th>20760</th>\n",
       "      <th>20761</th>\n",
       "      <th>20762</th>\n",
       "      <th>20763</th>\n",
       "      <th>20764</th>\n",
       "      <th>20765</th>\n",
       "      <th>20766</th>\n",
       "      <th>20767</th>\n",
       "      <th>20768</th>\n",
       "      <th>20769</th>\n",
       "    </tr>\n",
       "  </thead>\n",
       "  <tbody>\n",
       "    <tr>\n",
       "      <th>0</th>\n",
       "      <td>0.0</td>\n",
       "      <td>0.0</td>\n",
       "      <td>0.0</td>\n",
       "      <td>10.778148</td>\n",
       "      <td>10.778148</td>\n",
       "      <td>10.778148</td>\n",
       "      <td>26.874088</td>\n",
       "      <td>43.189501</td>\n",
       "      <td>43.189501</td>\n",
       "      <td>38.594581</td>\n",
       "      <td>...</td>\n",
       "      <td>54.343173</td>\n",
       "      <td>54.343173</td>\n",
       "      <td>53.363208</td>\n",
       "      <td>53.363208</td>\n",
       "      <td>53.363208</td>\n",
       "      <td>53.363208</td>\n",
       "      <td>59.557374</td>\n",
       "      <td>59.557374</td>\n",
       "      <td>59.557374</td>\n",
       "      <td>55.634152</td>\n",
       "    </tr>\n",
       "    <tr>\n",
       "      <th>1</th>\n",
       "      <td>0.0</td>\n",
       "      <td>0.0</td>\n",
       "      <td>0.0</td>\n",
       "      <td>9.891218</td>\n",
       "      <td>9.891218</td>\n",
       "      <td>9.891218</td>\n",
       "      <td>23.589349</td>\n",
       "      <td>36.477933</td>\n",
       "      <td>36.477933</td>\n",
       "      <td>31.296507</td>\n",
       "      <td>...</td>\n",
       "      <td>79.894291</td>\n",
       "      <td>79.894291</td>\n",
       "      <td>86.860329</td>\n",
       "      <td>86.860329</td>\n",
       "      <td>86.860329</td>\n",
       "      <td>86.860329</td>\n",
       "      <td>71.319955</td>\n",
       "      <td>71.319955</td>\n",
       "      <td>71.319955</td>\n",
       "      <td>56.606641</td>\n",
       "    </tr>\n",
       "    <tr>\n",
       "      <th>2</th>\n",
       "      <td>0.0</td>\n",
       "      <td>0.0</td>\n",
       "      <td>0.0</td>\n",
       "      <td>1.606057</td>\n",
       "      <td>1.606057</td>\n",
       "      <td>1.606057</td>\n",
       "      <td>8.623857</td>\n",
       "      <td>15.845217</td>\n",
       "      <td>15.845217</td>\n",
       "      <td>17.957593</td>\n",
       "      <td>...</td>\n",
       "      <td>89.500295</td>\n",
       "      <td>89.500295</td>\n",
       "      <td>84.266738</td>\n",
       "      <td>84.266738</td>\n",
       "      <td>84.266738</td>\n",
       "      <td>84.266738</td>\n",
       "      <td>71.979639</td>\n",
       "      <td>71.979639</td>\n",
       "      <td>71.979639</td>\n",
       "      <td>65.918534</td>\n",
       "    </tr>\n",
       "    <tr>\n",
       "      <th>3</th>\n",
       "      <td>0.0</td>\n",
       "      <td>0.0</td>\n",
       "      <td>0.0</td>\n",
       "      <td>3.668527</td>\n",
       "      <td>3.668527</td>\n",
       "      <td>3.668527</td>\n",
       "      <td>7.165376</td>\n",
       "      <td>11.628290</td>\n",
       "      <td>11.628290</td>\n",
       "      <td>15.308951</td>\n",
       "      <td>...</td>\n",
       "      <td>68.943668</td>\n",
       "      <td>68.943668</td>\n",
       "      <td>66.983974</td>\n",
       "      <td>66.983974</td>\n",
       "      <td>66.983974</td>\n",
       "      <td>66.983974</td>\n",
       "      <td>64.104558</td>\n",
       "      <td>64.104558</td>\n",
       "      <td>64.104558</td>\n",
       "      <td>61.848159</td>\n",
       "    </tr>\n",
       "    <tr>\n",
       "      <th>4</th>\n",
       "      <td>0.0</td>\n",
       "      <td>0.0</td>\n",
       "      <td>0.0</td>\n",
       "      <td>1.411810</td>\n",
       "      <td>1.411810</td>\n",
       "      <td>1.411810</td>\n",
       "      <td>9.707134</td>\n",
       "      <td>15.677262</td>\n",
       "      <td>15.677262</td>\n",
       "      <td>18.922410</td>\n",
       "      <td>...</td>\n",
       "      <td>43.565918</td>\n",
       "      <td>43.565918</td>\n",
       "      <td>42.343590</td>\n",
       "      <td>42.343590</td>\n",
       "      <td>42.343590</td>\n",
       "      <td>42.343590</td>\n",
       "      <td>42.235306</td>\n",
       "      <td>42.235306</td>\n",
       "      <td>42.235306</td>\n",
       "      <td>41.818073</td>\n",
       "    </tr>\n",
       "  </tbody>\n",
       "</table>\n",
       "<p>5 rows × 20770 columns</p>\n",
       "</div>"
      ],
      "text/plain": [
       "     0    1    2          3          4          5          6          7  \\\n",
       "0  0.0  0.0  0.0  10.778148  10.778148  10.778148  26.874088  43.189501   \n",
       "1  0.0  0.0  0.0   9.891218   9.891218   9.891218  23.589349  36.477933   \n",
       "2  0.0  0.0  0.0   1.606057   1.606057   1.606057   8.623857  15.845217   \n",
       "3  0.0  0.0  0.0   3.668527   3.668527   3.668527   7.165376  11.628290   \n",
       "4  0.0  0.0  0.0   1.411810   1.411810   1.411810   9.707134  15.677262   \n",
       "\n",
       "           8          9  ...      20760      20761      20762      20763  \\\n",
       "0  43.189501  38.594581  ...  54.343173  54.343173  53.363208  53.363208   \n",
       "1  36.477933  31.296507  ...  79.894291  79.894291  86.860329  86.860329   \n",
       "2  15.845217  17.957593  ...  89.500295  89.500295  84.266738  84.266738   \n",
       "3  11.628290  15.308951  ...  68.943668  68.943668  66.983974  66.983974   \n",
       "4  15.677262  18.922410  ...  43.565918  43.565918  42.343590  42.343590   \n",
       "\n",
       "       20764      20765      20766      20767      20768      20769  \n",
       "0  53.363208  53.363208  59.557374  59.557374  59.557374  55.634152  \n",
       "1  86.860329  86.860329  71.319955  71.319955  71.319955  56.606641  \n",
       "2  84.266738  84.266738  71.979639  71.979639  71.979639  65.918534  \n",
       "3  66.983974  66.983974  64.104558  64.104558  64.104558  61.848159  \n",
       "4  42.343590  42.343590  42.235306  42.235306  42.235306  41.818073  \n",
       "\n",
       "[5 rows x 20770 columns]"
      ]
     },
     "execution_count": 5,
     "metadata": {},
     "output_type": "execute_result"
    }
   ],
   "source": [
    "print(emg_data_df.shape)\n",
    "emg_data_df.drop('Unnamed: 0', axis=1, inplace=True)\n",
    "emg_data_df.head()"
   ]
  },
  {
   "cell_type": "code",
   "execution_count": 6,
   "id": "3ad1bcc6",
   "metadata": {
    "scrolled": true
   },
   "outputs": [
    {
     "name": "stdout",
     "output_type": "stream",
     "text": [
      "(7232, 4)\n"
     ]
    },
    {
     "data": {
      "text/html": [
       "<div>\n",
       "<style scoped>\n",
       "    .dataframe tbody tr th:only-of-type {\n",
       "        vertical-align: middle;\n",
       "    }\n",
       "\n",
       "    .dataframe tbody tr th {\n",
       "        vertical-align: top;\n",
       "    }\n",
       "\n",
       "    .dataframe thead th {\n",
       "        text-align: right;\n",
       "    }\n",
       "</style>\n",
       "<table border=\"1\" class=\"dataframe\">\n",
       "  <thead>\n",
       "    <tr style=\"text-align: right;\">\n",
       "      <th></th>\n",
       "      <th>Subject</th>\n",
       "      <th>Condition</th>\n",
       "      <th>Channel</th>\n",
       "    </tr>\n",
       "  </thead>\n",
       "  <tbody>\n",
       "    <tr>\n",
       "      <th>0</th>\n",
       "      <td>METACPHS_S106</td>\n",
       "      <td>0</td>\n",
       "      <td>0</td>\n",
       "    </tr>\n",
       "    <tr>\n",
       "      <th>1</th>\n",
       "      <td>METACPHS_S106</td>\n",
       "      <td>0</td>\n",
       "      <td>1</td>\n",
       "    </tr>\n",
       "    <tr>\n",
       "      <th>2</th>\n",
       "      <td>METACPHS_S106</td>\n",
       "      <td>0</td>\n",
       "      <td>2</td>\n",
       "    </tr>\n",
       "    <tr>\n",
       "      <th>3</th>\n",
       "      <td>METACPHS_S106</td>\n",
       "      <td>0</td>\n",
       "      <td>3</td>\n",
       "    </tr>\n",
       "    <tr>\n",
       "      <th>4</th>\n",
       "      <td>METACPHS_S106</td>\n",
       "      <td>0</td>\n",
       "      <td>4</td>\n",
       "    </tr>\n",
       "  </tbody>\n",
       "</table>\n",
       "</div>"
      ],
      "text/plain": [
       "         Subject  Condition  Channel\n",
       "0  METACPHS_S106          0        0\n",
       "1  METACPHS_S106          0        1\n",
       "2  METACPHS_S106          0        2\n",
       "3  METACPHS_S106          0        3\n",
       "4  METACPHS_S106          0        4"
      ]
     },
     "execution_count": 6,
     "metadata": {},
     "output_type": "execute_result"
    }
   ],
   "source": [
    "print(emg_labels_df.shape)\n",
    "emg_labels_df.drop('Unnamed: 0', axis=1, inplace=True)\n",
    "emg_labels_df.head()"
   ]
  },
  {
   "cell_type": "code",
   "execution_count": 26,
   "id": "204c1691",
   "metadata": {},
   "outputs": [
    {
     "data": {
      "text/html": [
       "<div>\n",
       "<style scoped>\n",
       "    .dataframe tbody tr th:only-of-type {\n",
       "        vertical-align: middle;\n",
       "    }\n",
       "\n",
       "    .dataframe tbody tr th {\n",
       "        vertical-align: top;\n",
       "    }\n",
       "\n",
       "    .dataframe thead th {\n",
       "        text-align: right;\n",
       "    }\n",
       "</style>\n",
       "<table border=\"1\" class=\"dataframe\">\n",
       "  <thead>\n",
       "    <tr style=\"text-align: right;\">\n",
       "      <th></th>\n",
       "      <th>Subject</th>\n",
       "    </tr>\n",
       "  </thead>\n",
       "  <tbody>\n",
       "    <tr>\n",
       "      <th>0</th>\n",
       "      <td>0</td>\n",
       "    </tr>\n",
       "    <tr>\n",
       "      <th>1</th>\n",
       "      <td>0</td>\n",
       "    </tr>\n",
       "    <tr>\n",
       "      <th>2</th>\n",
       "      <td>0</td>\n",
       "    </tr>\n",
       "    <tr>\n",
       "      <th>3</th>\n",
       "      <td>0</td>\n",
       "    </tr>\n",
       "    <tr>\n",
       "      <th>4</th>\n",
       "      <td>0</td>\n",
       "    </tr>\n",
       "  </tbody>\n",
       "</table>\n",
       "</div>"
      ],
      "text/plain": [
       "   Subject\n",
       "0        0\n",
       "1        0\n",
       "2        0\n",
       "3        0\n",
       "4        0"
      ]
     },
     "execution_count": 26,
     "metadata": {},
     "output_type": "execute_result"
    }
   ],
   "source": [
    "labels_df = pd.DataFrame(emg_labels_df['Subject'].map(key_to_num))\n",
    "labels_df.head()"
   ]
  },
  {
   "cell_type": "markdown",
   "id": "beb204dc",
   "metadata": {},
   "source": [
    "# Filtered EMG Data Privacy Evaluation\n",
    ">Linking EMG Data to Participants\n",
    "1. Does the channel matter / improve performance? Within the same block (assuming different blocks have the strap re-put on) then presumably the same muscles should act in similar ways.  __Just do PCA on it and don't worry about it__\n",
    "2. Does the condition matter? Presumably, but the question is how much.  __Only look at condition for conditions that changed performance (eg learning rate speed)__\n",
    "3. Ways to compress the input data: PCA/LDA/nonlinearversion, or norms of the vectors... is it even necessary / beneficial to performance.  __Focus on just PCA for now__\n",
    "4. __No standard scaler since negative filtered EMG data has no meaning__"
   ]
  },
  {
   "cell_type": "markdown",
   "id": "3e6433b2",
   "metadata": {},
   "source": [
    "## 1) Create Envelope of Filtered EMG Data"
   ]
  },
  {
   "cell_type": "code",
   "execution_count": 16,
   "id": "638a1075",
   "metadata": {},
   "outputs": [
    {
     "ename": "AssertionError",
     "evalue": "",
     "output_type": "error",
     "traceback": [
      "\u001b[1;31m---------------------------------------------------------------------------\u001b[0m",
      "\u001b[1;31mAssertionError\u001b[0m                            Traceback (most recent call last)",
      "\u001b[1;32m~\\AppData\\Local\\Temp\\ipykernel_19792\\331707289.py\u001b[0m in \u001b[0;36m<cell line: 1>\u001b[1;34m()\u001b[0m\n\u001b[1;32m----> 1\u001b[1;33m \u001b[1;32massert\u001b[0m\u001b[1;33m(\u001b[0m\u001b[1;36m1\u001b[0m\u001b[1;33m==\u001b[0m\u001b[1;36m0\u001b[0m\u001b[1;33m)\u001b[0m\u001b[1;33m\u001b[0m\u001b[1;33m\u001b[0m\u001b[0m\n\u001b[0m\u001b[0;32m      2\u001b[0m \u001b[1;31m# Don't run the below cell cause it takes forever, but keep the output\u001b[0m\u001b[1;33m\u001b[0m\u001b[1;33m\u001b[0m\u001b[0m\n",
      "\u001b[1;31mAssertionError\u001b[0m: "
     ]
    }
   ],
   "source": [
    "assert(1==0)\n",
    "# Don't run the below cell cause it takes forever, but keep the output"
   ]
  },
  {
   "cell_type": "code",
   "execution_count": 10,
   "id": "9ca51504",
   "metadata": {},
   "outputs": [
    {
     "data": {
      "text/plain": [
       "[<matplotlib.lines.Line2D at 0x291bbb82790>]"
      ]
     },
     "execution_count": 10,
     "metadata": {},
     "output_type": "execute_result"
    },
    {
     "data": {
      "image/png": "[encoded data removed]",
      "text/plain": [
       "<Figure size 640x480 with 1 Axes>"
      ]
     },
     "metadata": {},
     "output_type": "display_data"
    }
   ],
   "source": [
    "plt.plot(emg_data_df.iloc[0, :])\n",
    "plt.show()"
   ]
  },
  {
   "cell_type": "code",
   "execution_count": 11,
   "id": "e39bf1cd",
   "metadata": {},
   "outputs": [
    {
     "data": {
      "text/plain": [
       "pandas.core.frame.DataFrame"
      ]
     },
     "execution_count": 11,
     "metadata": {},
     "output_type": "execute_result"
    }
   ],
   "source": [
    "type(emg_data_df)"
   ]
  },
  {
   "cell_type": "markdown",
   "id": "1c92459d",
   "metadata": {},
   "source": [
    "Crude moving average with no overlap"
   ]
  },
  {
   "cell_type": "code",
   "execution_count": 7,
   "id": "8be26eda",
   "metadata": {},
   "outputs": [
    {
     "name": "stdout",
     "output_type": "stream",
     "text": [
      "(7232, 208)\n"
     ]
    },
    {
     "data": {
      "text/html": [
       "<div>\n",
       "<style scoped>\n",
       "    .dataframe tbody tr th:only-of-type {\n",
       "        vertical-align: middle;\n",
       "    }\n",
       "\n",
       "    .dataframe tbody tr th {\n",
       "        vertical-align: top;\n",
       "    }\n",
       "\n",
       "    .dataframe thead th {\n",
       "        text-align: right;\n",
       "    }\n",
       "</style>\n",
       "<table border=\"1\" class=\"dataframe\">\n",
       "  <thead>\n",
       "    <tr style=\"text-align: right;\">\n",
       "      <th></th>\n",
       "      <th>0</th>\n",
       "      <th>1</th>\n",
       "      <th>2</th>\n",
       "      <th>3</th>\n",
       "      <th>4</th>\n",
       "      <th>5</th>\n",
       "      <th>6</th>\n",
       "      <th>7</th>\n",
       "      <th>8</th>\n",
       "      <th>9</th>\n",
       "      <th>...</th>\n",
       "      <th>198</th>\n",
       "      <th>199</th>\n",
       "      <th>200</th>\n",
       "      <th>201</th>\n",
       "      <th>202</th>\n",
       "      <th>203</th>\n",
       "      <th>204</th>\n",
       "      <th>205</th>\n",
       "      <th>206</th>\n",
       "      <th>207</th>\n",
       "    </tr>\n",
       "  </thead>\n",
       "  <tbody>\n",
       "    <tr>\n",
       "      <th>0</th>\n",
       "      <td>14.129705</td>\n",
       "      <td>11.959808</td>\n",
       "      <td>28.685874</td>\n",
       "      <td>33.823858</td>\n",
       "      <td>42.311438</td>\n",
       "      <td>22.872970</td>\n",
       "      <td>28.686864</td>\n",
       "      <td>91.792338</td>\n",
       "      <td>26.813570</td>\n",
       "      <td>28.583164</td>\n",
       "      <td>...</td>\n",
       "      <td>43.676011</td>\n",
       "      <td>39.113891</td>\n",
       "      <td>27.947874</td>\n",
       "      <td>31.573392</td>\n",
       "      <td>36.614566</td>\n",
       "      <td>35.604320</td>\n",
       "      <td>51.523493</td>\n",
       "      <td>31.292127</td>\n",
       "      <td>59.277122</td>\n",
       "      <td>51.997711</td>\n",
       "    </tr>\n",
       "    <tr>\n",
       "      <th>1</th>\n",
       "      <td>13.895036</td>\n",
       "      <td>12.063848</td>\n",
       "      <td>22.026072</td>\n",
       "      <td>27.027048</td>\n",
       "      <td>59.187831</td>\n",
       "      <td>23.013614</td>\n",
       "      <td>30.960467</td>\n",
       "      <td>81.718608</td>\n",
       "      <td>29.116355</td>\n",
       "      <td>28.694447</td>\n",
       "      <td>...</td>\n",
       "      <td>41.396844</td>\n",
       "      <td>44.348191</td>\n",
       "      <td>31.188022</td>\n",
       "      <td>30.580405</td>\n",
       "      <td>32.773796</td>\n",
       "      <td>39.768986</td>\n",
       "      <td>51.494867</td>\n",
       "      <td>29.641406</td>\n",
       "      <td>47.146682</td>\n",
       "      <td>58.581918</td>\n",
       "    </tr>\n",
       "    <tr>\n",
       "      <th>2</th>\n",
       "      <td>13.214033</td>\n",
       "      <td>15.229451</td>\n",
       "      <td>23.956005</td>\n",
       "      <td>25.832507</td>\n",
       "      <td>48.218284</td>\n",
       "      <td>29.437285</td>\n",
       "      <td>27.001414</td>\n",
       "      <td>35.878805</td>\n",
       "      <td>29.420835</td>\n",
       "      <td>31.587059</td>\n",
       "      <td>...</td>\n",
       "      <td>27.507856</td>\n",
       "      <td>35.271588</td>\n",
       "      <td>28.060107</td>\n",
       "      <td>24.463167</td>\n",
       "      <td>30.750010</td>\n",
       "      <td>39.033112</td>\n",
       "      <td>31.714344</td>\n",
       "      <td>17.286340</td>\n",
       "      <td>30.174009</td>\n",
       "      <td>49.750919</td>\n",
       "    </tr>\n",
       "    <tr>\n",
       "      <th>3</th>\n",
       "      <td>13.979167</td>\n",
       "      <td>16.414878</td>\n",
       "      <td>19.550628</td>\n",
       "      <td>21.984005</td>\n",
       "      <td>32.083749</td>\n",
       "      <td>26.856702</td>\n",
       "      <td>23.001818</td>\n",
       "      <td>21.776800</td>\n",
       "      <td>23.041464</td>\n",
       "      <td>24.603026</td>\n",
       "      <td>...</td>\n",
       "      <td>21.163787</td>\n",
       "      <td>27.844200</td>\n",
       "      <td>26.265045</td>\n",
       "      <td>24.563413</td>\n",
       "      <td>29.984113</td>\n",
       "      <td>35.764448</td>\n",
       "      <td>23.072423</td>\n",
       "      <td>15.670036</td>\n",
       "      <td>22.936556</td>\n",
       "      <td>38.122263</td>\n",
       "    </tr>\n",
       "    <tr>\n",
       "      <th>4</th>\n",
       "      <td>10.168381</td>\n",
       "      <td>10.501039</td>\n",
       "      <td>12.856129</td>\n",
       "      <td>16.059131</td>\n",
       "      <td>20.128401</td>\n",
       "      <td>13.435236</td>\n",
       "      <td>16.672336</td>\n",
       "      <td>18.134148</td>\n",
       "      <td>20.744904</td>\n",
       "      <td>21.606347</td>\n",
       "      <td>...</td>\n",
       "      <td>14.751494</td>\n",
       "      <td>19.967234</td>\n",
       "      <td>19.091210</td>\n",
       "      <td>16.293000</td>\n",
       "      <td>20.945203</td>\n",
       "      <td>25.093296</td>\n",
       "      <td>14.147869</td>\n",
       "      <td>10.369884</td>\n",
       "      <td>15.788238</td>\n",
       "      <td>26.206604</td>\n",
       "    </tr>\n",
       "  </tbody>\n",
       "</table>\n",
       "<p>5 rows × 208 columns</p>\n",
       "</div>"
      ],
      "text/plain": [
       "         0          1          2          3          4          5    \\\n",
       "0  14.129705  11.959808  28.685874  33.823858  42.311438  22.872970   \n",
       "1  13.895036  12.063848  22.026072  27.027048  59.187831  23.013614   \n",
       "2  13.214033  15.229451  23.956005  25.832507  48.218284  29.437285   \n",
       "3  13.979167  16.414878  19.550628  21.984005  32.083749  26.856702   \n",
       "4  10.168381  10.501039  12.856129  16.059131  20.128401  13.435236   \n",
       "\n",
       "         6          7          8          9    ...        198        199  \\\n",
       "0  28.686864  91.792338  26.813570  28.583164  ...  43.676011  39.113891   \n",
       "1  30.960467  81.718608  29.116355  28.694447  ...  41.396844  44.348191   \n",
       "2  27.001414  35.878805  29.420835  31.587059  ...  27.507856  35.271588   \n",
       "3  23.001818  21.776800  23.041464  24.603026  ...  21.163787  27.844200   \n",
       "4  16.672336  18.134148  20.744904  21.606347  ...  14.751494  19.967234   \n",
       "\n",
       "         200        201        202        203        204        205  \\\n",
       "0  27.947874  31.573392  36.614566  35.604320  51.523493  31.292127   \n",
       "1  31.188022  30.580405  32.773796  39.768986  51.494867  29.641406   \n",
       "2  28.060107  24.463167  30.750010  39.033112  31.714344  17.286340   \n",
       "3  26.265045  24.563413  29.984113  35.764448  23.072423  15.670036   \n",
       "4  19.091210  16.293000  20.945203  25.093296  14.147869  10.369884   \n",
       "\n",
       "         206        207  \n",
       "0  59.277122  51.997711  \n",
       "1  47.146682  58.581918  \n",
       "2  30.174009  49.750919  \n",
       "3  22.936556  38.122263  \n",
       "4  15.788238  26.206604  \n",
       "\n",
       "[5 rows x 208 columns]"
      ]
     },
     "execution_count": 7,
     "metadata": {},
     "output_type": "execute_result"
    }
   ],
   "source": [
    "envelope_df = emg_data_df.groupby(np.arange(len(emg_data_df.columns))//100, axis=1).mean()\n",
    "\n",
    "print(envelope_df.shape)\n",
    "envelope_df.head()"
   ]
  },
  {
   "cell_type": "code",
   "execution_count": 8,
   "id": "41c7f956",
   "metadata": {},
   "outputs": [
    {
     "data": {
      "image/png": "[encoded data removed]",
      "text/plain": [
       "<Figure size 640x480 with 1 Axes>"
      ]
     },
     "metadata": {},
     "output_type": "display_data"
    }
   ],
   "source": [
    "# This is substantially different than the original lol\n",
    "plt.plot(envelope_df.iloc[0, :])\n",
    "plt.xlabel(\"Downsampled Time\")\n",
    "plt.ylabel(\"EMG Reading\")\n",
    "plt.title(\"Smoothed EMG Data (100 ms windows)\")\n",
    "plt.show()"
   ]
  },
  {
   "cell_type": "markdown",
   "id": "2fc650b0",
   "metadata": {},
   "source": [
    "Using the rolling function"
   ]
  },
  {
   "cell_type": "code",
   "execution_count": 15,
   "id": "12a1e857",
   "metadata": {},
   "outputs": [
    {
     "data": {
      "image/png": "[encoded data removed]",
      "text/plain": [
       "<Figure size 640x480 with 1 Axes>"
      ]
     },
     "metadata": {},
     "output_type": "display_data"
    }
   ],
   "source": [
    "ex = emg_data_df.iloc[0, :].rolling(window=100).mean().dropna().plot()"
   ]
  },
  {
   "cell_type": "markdown",
   "id": "fefeee78",
   "metadata": {},
   "source": [
    "## 2) PCA On the Channels\n",
    "> https://stackoverflow.com/questions/50796024/feature-variable-importance-after-a-pca-analysis"
   ]
  },
  {
   "cell_type": "code",
   "execution_count": 16,
   "id": "137decc4",
   "metadata": {},
   "outputs": [],
   "source": [
    "from sklearn import datasets\n",
    "from sklearn.decomposition import PCA\n",
    "from sklearn.preprocessing import StandardScaler"
   ]
  },
  {
   "cell_type": "code",
   "execution_count": 17,
   "id": "a44afaf5",
   "metadata": {},
   "outputs": [
    {
     "data": {
      "image/png": "[encoded data removed]",
      "text/plain": [
       "<Figure size 640x480 with 1 Axes>"
      ]
     },
     "metadata": {},
     "output_type": "display_data"
    }
   ],
   "source": [
    "iris = datasets.load_iris()\n",
    "X = iris.data\n",
    "y = iris.target\n",
    "#In general a good idea is to scale the data\n",
    "scaler = StandardScaler()\n",
    "scaler.fit(X)\n",
    "X=scaler.transform(X)    \n",
    "\n",
    "pca = PCA()\n",
    "x_new = pca.fit_transform(X)\n",
    "\n",
    "def myplot(score,coeff,labels=None):\n",
    "    xs = score[:,0]\n",
    "    ys = score[:,1]\n",
    "    n = coeff.shape[0]\n",
    "    scalex = 1.0/(xs.max() - xs.min())\n",
    "    scaley = 1.0/(ys.max() - ys.min())\n",
    "    plt.scatter(xs * scalex,ys * scaley, c = y)\n",
    "    for i in range(n):\n",
    "        plt.arrow(0, 0, coeff[i,0], coeff[i,1],color = 'r',alpha = 0.5)\n",
    "        if labels is None:\n",
    "            plt.text(coeff[i,0]* 1.15, coeff[i,1] * 1.15, \"Var\"+str(i+1), color = 'g', ha = 'center', va = 'center')\n",
    "        else:\n",
    "            plt.text(coeff[i,0]* 1.15, coeff[i,1] * 1.15, labels[i], color = 'g', ha = 'center', va = 'center')\n",
    "plt.xlim(-1,1)\n",
    "plt.ylim(-1,1)\n",
    "plt.xlabel(\"PC{}\".format(1))\n",
    "plt.ylabel(\"PC{}\".format(2))\n",
    "plt.grid()\n",
    "\n",
    "#Call the function. Use only the 2 PCs.\n",
    "myplot(x_new[:,0:2],np.transpose(pca.components_[0:2, :]))\n",
    "plt.show()"
   ]
  },
  {
   "cell_type": "code",
   "execution_count": 18,
   "id": "ff0cc135",
   "metadata": {},
   "outputs": [
    {
     "data": {
      "text/plain": [
       "array([0.72962445, 0.22850762, 0.03668922, 0.00517871])"
      ]
     },
     "execution_count": 18,
     "metadata": {},
     "output_type": "execute_result"
    }
   ],
   "source": [
    "pca.explained_variance_ratio_"
   ]
  },
  {
   "cell_type": "code",
   "execution_count": 19,
   "id": "1e46934f",
   "metadata": {},
   "outputs": [
    {
     "name": "stdout",
     "output_type": "stream",
     "text": [
      "[[0.52106591 0.26934744 0.5804131  0.56485654]\n",
      " [0.37741762 0.92329566 0.02449161 0.06694199]\n",
      " [0.71956635 0.24438178 0.14212637 0.63427274]\n",
      " [0.26128628 0.12350962 0.80144925 0.52359713]]\n"
     ]
    }
   ],
   "source": [
    "print(abs( pca.components_ ))"
   ]
  },
  {
   "cell_type": "markdown",
   "id": "93ef5b22",
   "metadata": {},
   "source": [
    "Here, pca.components_ has shape [n_components, n_features]. Thus, by looking at the PC1 (First Principal Component) which is the first row: [0.52237162 0.26335492 0.58125401 0.56561105]] we can conclude that feature 1, 3 and 4 (or Var 1, 3 and 4 in the biplot) are the most important. This is also clearly visible from the biplot (that's why we often use this plot to summarize the information in a visual way).\n",
    "\n",
    "To sum up, look at the absolute values of the Eigenvectors' components corresponding to the k largest Eigenvalues. In sklearn the components are sorted by explained_variance_. The larger they are these absolute values, the more a specific feature contributes to that principal component.\n",
    "\n"
   ]
  },
  {
   "cell_type": "code",
   "execution_count": 20,
   "id": "11661d2f",
   "metadata": {},
   "outputs": [],
   "source": [
    "# To get the most important features on the PCs with names and save them into a pandas dataframe use this:\n",
    "\n",
    "from sklearn.decomposition import PCA\n",
    "np.random.seed(0)\n",
    "\n",
    "# 10 samples with 5 features\n",
    "train_features = np.random.rand(10,5)\n",
    "\n",
    "model = PCA(n_components=2).fit(train_features)\n",
    "X_pc = model.transform(train_features)\n",
    "\n",
    "# number of components\n",
    "n_pcs= model.components_.shape[0]\n",
    "\n",
    "# get the index of the most important feature on EACH component\n",
    "# LIST COMPREHENSION HERE\n",
    "most_important = [np.abs(model.components_[i]).argmax() for i in range(n_pcs)]\n",
    "\n",
    "initial_feature_names = ['a','b','c','d','e']\n",
    "# get the names\n",
    "most_important_names = [initial_feature_names[most_important[i]] for i in range(n_pcs)]\n",
    "\n",
    "# LIST COMPREHENSION HERE AGAIN\n",
    "dic = {'PC{}'.format(i): most_important_names[i] for i in range(n_pcs)}\n",
    "\n",
    "# build the dataframe\n",
    "df = pd.DataFrame(dic.items())"
   ]
  },
  {
   "cell_type": "markdown",
   "id": "a4d41649",
   "metadata": {},
   "source": [
    "Now repeat but using my data"
   ]
  },
  {
   "cell_type": "code",
   "execution_count": 21,
   "id": "38300467",
   "metadata": {},
   "outputs": [
    {
     "name": "stdout",
     "output_type": "stream",
     "text": [
      "(7232, 208)\n"
     ]
    },
    {
     "data": {
      "text/html": [
       "<div>\n",
       "<style scoped>\n",
       "    .dataframe tbody tr th:only-of-type {\n",
       "        vertical-align: middle;\n",
       "    }\n",
       "\n",
       "    .dataframe tbody tr th {\n",
       "        vertical-align: top;\n",
       "    }\n",
       "\n",
       "    .dataframe thead th {\n",
       "        text-align: right;\n",
       "    }\n",
       "</style>\n",
       "<table border=\"1\" class=\"dataframe\">\n",
       "  <thead>\n",
       "    <tr style=\"text-align: right;\">\n",
       "      <th></th>\n",
       "      <th>0</th>\n",
       "      <th>1</th>\n",
       "      <th>2</th>\n",
       "      <th>3</th>\n",
       "      <th>4</th>\n",
       "      <th>5</th>\n",
       "      <th>6</th>\n",
       "      <th>7</th>\n",
       "      <th>8</th>\n",
       "      <th>9</th>\n",
       "      <th>...</th>\n",
       "      <th>198</th>\n",
       "      <th>199</th>\n",
       "      <th>200</th>\n",
       "      <th>201</th>\n",
       "      <th>202</th>\n",
       "      <th>203</th>\n",
       "      <th>204</th>\n",
       "      <th>205</th>\n",
       "      <th>206</th>\n",
       "      <th>207</th>\n",
       "    </tr>\n",
       "  </thead>\n",
       "  <tbody>\n",
       "    <tr>\n",
       "      <th>0</th>\n",
       "      <td>14.129705</td>\n",
       "      <td>11.959808</td>\n",
       "      <td>28.685874</td>\n",
       "      <td>33.823858</td>\n",
       "      <td>42.311438</td>\n",
       "      <td>22.872970</td>\n",
       "      <td>28.686864</td>\n",
       "      <td>91.792338</td>\n",
       "      <td>26.813570</td>\n",
       "      <td>28.583164</td>\n",
       "      <td>...</td>\n",
       "      <td>43.676011</td>\n",
       "      <td>39.113891</td>\n",
       "      <td>27.947874</td>\n",
       "      <td>31.573392</td>\n",
       "      <td>36.614566</td>\n",
       "      <td>35.604320</td>\n",
       "      <td>51.523493</td>\n",
       "      <td>31.292127</td>\n",
       "      <td>59.277122</td>\n",
       "      <td>51.997711</td>\n",
       "    </tr>\n",
       "    <tr>\n",
       "      <th>1</th>\n",
       "      <td>13.895036</td>\n",
       "      <td>12.063848</td>\n",
       "      <td>22.026072</td>\n",
       "      <td>27.027048</td>\n",
       "      <td>59.187831</td>\n",
       "      <td>23.013614</td>\n",
       "      <td>30.960467</td>\n",
       "      <td>81.718608</td>\n",
       "      <td>29.116355</td>\n",
       "      <td>28.694447</td>\n",
       "      <td>...</td>\n",
       "      <td>41.396844</td>\n",
       "      <td>44.348191</td>\n",
       "      <td>31.188022</td>\n",
       "      <td>30.580405</td>\n",
       "      <td>32.773796</td>\n",
       "      <td>39.768986</td>\n",
       "      <td>51.494867</td>\n",
       "      <td>29.641406</td>\n",
       "      <td>47.146682</td>\n",
       "      <td>58.581918</td>\n",
       "    </tr>\n",
       "    <tr>\n",
       "      <th>2</th>\n",
       "      <td>13.214033</td>\n",
       "      <td>15.229451</td>\n",
       "      <td>23.956005</td>\n",
       "      <td>25.832507</td>\n",
       "      <td>48.218284</td>\n",
       "      <td>29.437285</td>\n",
       "      <td>27.001414</td>\n",
       "      <td>35.878805</td>\n",
       "      <td>29.420835</td>\n",
       "      <td>31.587059</td>\n",
       "      <td>...</td>\n",
       "      <td>27.507856</td>\n",
       "      <td>35.271588</td>\n",
       "      <td>28.060107</td>\n",
       "      <td>24.463167</td>\n",
       "      <td>30.750010</td>\n",
       "      <td>39.033112</td>\n",
       "      <td>31.714344</td>\n",
       "      <td>17.286340</td>\n",
       "      <td>30.174009</td>\n",
       "      <td>49.750919</td>\n",
       "    </tr>\n",
       "    <tr>\n",
       "      <th>3</th>\n",
       "      <td>13.979167</td>\n",
       "      <td>16.414878</td>\n",
       "      <td>19.550628</td>\n",
       "      <td>21.984005</td>\n",
       "      <td>32.083749</td>\n",
       "      <td>26.856702</td>\n",
       "      <td>23.001818</td>\n",
       "      <td>21.776800</td>\n",
       "      <td>23.041464</td>\n",
       "      <td>24.603026</td>\n",
       "      <td>...</td>\n",
       "      <td>21.163787</td>\n",
       "      <td>27.844200</td>\n",
       "      <td>26.265045</td>\n",
       "      <td>24.563413</td>\n",
       "      <td>29.984113</td>\n",
       "      <td>35.764448</td>\n",
       "      <td>23.072423</td>\n",
       "      <td>15.670036</td>\n",
       "      <td>22.936556</td>\n",
       "      <td>38.122263</td>\n",
       "    </tr>\n",
       "    <tr>\n",
       "      <th>4</th>\n",
       "      <td>10.168381</td>\n",
       "      <td>10.501039</td>\n",
       "      <td>12.856129</td>\n",
       "      <td>16.059131</td>\n",
       "      <td>20.128401</td>\n",
       "      <td>13.435236</td>\n",
       "      <td>16.672336</td>\n",
       "      <td>18.134148</td>\n",
       "      <td>20.744904</td>\n",
       "      <td>21.606347</td>\n",
       "      <td>...</td>\n",
       "      <td>14.751494</td>\n",
       "      <td>19.967234</td>\n",
       "      <td>19.091210</td>\n",
       "      <td>16.293000</td>\n",
       "      <td>20.945203</td>\n",
       "      <td>25.093296</td>\n",
       "      <td>14.147869</td>\n",
       "      <td>10.369884</td>\n",
       "      <td>15.788238</td>\n",
       "      <td>26.206604</td>\n",
       "    </tr>\n",
       "  </tbody>\n",
       "</table>\n",
       "<p>5 rows × 208 columns</p>\n",
       "</div>"
      ],
      "text/plain": [
       "         0          1          2          3          4          5    \\\n",
       "0  14.129705  11.959808  28.685874  33.823858  42.311438  22.872970   \n",
       "1  13.895036  12.063848  22.026072  27.027048  59.187831  23.013614   \n",
       "2  13.214033  15.229451  23.956005  25.832507  48.218284  29.437285   \n",
       "3  13.979167  16.414878  19.550628  21.984005  32.083749  26.856702   \n",
       "4  10.168381  10.501039  12.856129  16.059131  20.128401  13.435236   \n",
       "\n",
       "         6          7          8          9    ...        198        199  \\\n",
       "0  28.686864  91.792338  26.813570  28.583164  ...  43.676011  39.113891   \n",
       "1  30.960467  81.718608  29.116355  28.694447  ...  41.396844  44.348191   \n",
       "2  27.001414  35.878805  29.420835  31.587059  ...  27.507856  35.271588   \n",
       "3  23.001818  21.776800  23.041464  24.603026  ...  21.163787  27.844200   \n",
       "4  16.672336  18.134148  20.744904  21.606347  ...  14.751494  19.967234   \n",
       "\n",
       "         200        201        202        203        204        205  \\\n",
       "0  27.947874  31.573392  36.614566  35.604320  51.523493  31.292127   \n",
       "1  31.188022  30.580405  32.773796  39.768986  51.494867  29.641406   \n",
       "2  28.060107  24.463167  30.750010  39.033112  31.714344  17.286340   \n",
       "3  26.265045  24.563413  29.984113  35.764448  23.072423  15.670036   \n",
       "4  19.091210  16.293000  20.945203  25.093296  14.147869  10.369884   \n",
       "\n",
       "         206        207  \n",
       "0  59.277122  51.997711  \n",
       "1  47.146682  58.581918  \n",
       "2  30.174009  49.750919  \n",
       "3  22.936556  38.122263  \n",
       "4  15.788238  26.206604  \n",
       "\n",
       "[5 rows x 208 columns]"
      ]
     },
     "execution_count": 21,
     "metadata": {},
     "output_type": "execute_result"
    }
   ],
   "source": [
    "print(envelope_df.shape)\n",
    "envelope_df.head()"
   ]
  },
  {
   "cell_type": "markdown",
   "id": "b6a23d01",
   "metadata": {},
   "source": [
    "Let's restrict it to just the first condition of the first participant, so just the first 64 rows (64 channels)"
   ]
  },
  {
   "cell_type": "code",
   "execution_count": 75,
   "id": "cdb07389",
   "metadata": {},
   "outputs": [
    {
     "name": "stdout",
     "output_type": "stream",
     "text": [
      "(64, 208)\n"
     ]
    },
    {
     "data": {
      "text/html": [
       "<div>\n",
       "<style scoped>\n",
       "    .dataframe tbody tr th:only-of-type {\n",
       "        vertical-align: middle;\n",
       "    }\n",
       "\n",
       "    .dataframe tbody tr th {\n",
       "        vertical-align: top;\n",
       "    }\n",
       "\n",
       "    .dataframe thead th {\n",
       "        text-align: right;\n",
       "    }\n",
       "</style>\n",
       "<table border=\"1\" class=\"dataframe\">\n",
       "  <thead>\n",
       "    <tr style=\"text-align: right;\">\n",
       "      <th></th>\n",
       "      <th>0</th>\n",
       "      <th>1</th>\n",
       "      <th>2</th>\n",
       "      <th>3</th>\n",
       "      <th>4</th>\n",
       "      <th>5</th>\n",
       "      <th>6</th>\n",
       "      <th>7</th>\n",
       "      <th>8</th>\n",
       "      <th>9</th>\n",
       "      <th>...</th>\n",
       "      <th>198</th>\n",
       "      <th>199</th>\n",
       "      <th>200</th>\n",
       "      <th>201</th>\n",
       "      <th>202</th>\n",
       "      <th>203</th>\n",
       "      <th>204</th>\n",
       "      <th>205</th>\n",
       "      <th>206</th>\n",
       "      <th>207</th>\n",
       "    </tr>\n",
       "  </thead>\n",
       "  <tbody>\n",
       "    <tr>\n",
       "      <th>0</th>\n",
       "      <td>14.129705</td>\n",
       "      <td>11.959808</td>\n",
       "      <td>28.685874</td>\n",
       "      <td>33.823858</td>\n",
       "      <td>42.311438</td>\n",
       "      <td>22.872970</td>\n",
       "      <td>28.686864</td>\n",
       "      <td>91.792338</td>\n",
       "      <td>26.813570</td>\n",
       "      <td>28.583164</td>\n",
       "      <td>...</td>\n",
       "      <td>43.676011</td>\n",
       "      <td>39.113891</td>\n",
       "      <td>27.947874</td>\n",
       "      <td>31.573392</td>\n",
       "      <td>36.614566</td>\n",
       "      <td>35.604320</td>\n",
       "      <td>51.523493</td>\n",
       "      <td>31.292127</td>\n",
       "      <td>59.277122</td>\n",
       "      <td>51.997711</td>\n",
       "    </tr>\n",
       "    <tr>\n",
       "      <th>1</th>\n",
       "      <td>13.895036</td>\n",
       "      <td>12.063848</td>\n",
       "      <td>22.026072</td>\n",
       "      <td>27.027048</td>\n",
       "      <td>59.187831</td>\n",
       "      <td>23.013614</td>\n",
       "      <td>30.960467</td>\n",
       "      <td>81.718608</td>\n",
       "      <td>29.116355</td>\n",
       "      <td>28.694447</td>\n",
       "      <td>...</td>\n",
       "      <td>41.396844</td>\n",
       "      <td>44.348191</td>\n",
       "      <td>31.188022</td>\n",
       "      <td>30.580405</td>\n",
       "      <td>32.773796</td>\n",
       "      <td>39.768986</td>\n",
       "      <td>51.494867</td>\n",
       "      <td>29.641406</td>\n",
       "      <td>47.146682</td>\n",
       "      <td>58.581918</td>\n",
       "    </tr>\n",
       "    <tr>\n",
       "      <th>2</th>\n",
       "      <td>13.214033</td>\n",
       "      <td>15.229451</td>\n",
       "      <td>23.956005</td>\n",
       "      <td>25.832507</td>\n",
       "      <td>48.218284</td>\n",
       "      <td>29.437285</td>\n",
       "      <td>27.001414</td>\n",
       "      <td>35.878805</td>\n",
       "      <td>29.420835</td>\n",
       "      <td>31.587059</td>\n",
       "      <td>...</td>\n",
       "      <td>27.507856</td>\n",
       "      <td>35.271588</td>\n",
       "      <td>28.060107</td>\n",
       "      <td>24.463167</td>\n",
       "      <td>30.750010</td>\n",
       "      <td>39.033112</td>\n",
       "      <td>31.714344</td>\n",
       "      <td>17.286340</td>\n",
       "      <td>30.174009</td>\n",
       "      <td>49.750919</td>\n",
       "    </tr>\n",
       "    <tr>\n",
       "      <th>3</th>\n",
       "      <td>13.979167</td>\n",
       "      <td>16.414878</td>\n",
       "      <td>19.550628</td>\n",
       "      <td>21.984005</td>\n",
       "      <td>32.083749</td>\n",
       "      <td>26.856702</td>\n",
       "      <td>23.001818</td>\n",
       "      <td>21.776800</td>\n",
       "      <td>23.041464</td>\n",
       "      <td>24.603026</td>\n",
       "      <td>...</td>\n",
       "      <td>21.163787</td>\n",
       "      <td>27.844200</td>\n",
       "      <td>26.265045</td>\n",
       "      <td>24.563413</td>\n",
       "      <td>29.984113</td>\n",
       "      <td>35.764448</td>\n",
       "      <td>23.072423</td>\n",
       "      <td>15.670036</td>\n",
       "      <td>22.936556</td>\n",
       "      <td>38.122263</td>\n",
       "    </tr>\n",
       "    <tr>\n",
       "      <th>4</th>\n",
       "      <td>10.168381</td>\n",
       "      <td>10.501039</td>\n",
       "      <td>12.856129</td>\n",
       "      <td>16.059131</td>\n",
       "      <td>20.128401</td>\n",
       "      <td>13.435236</td>\n",
       "      <td>16.672336</td>\n",
       "      <td>18.134148</td>\n",
       "      <td>20.744904</td>\n",
       "      <td>21.606347</td>\n",
       "      <td>...</td>\n",
       "      <td>14.751494</td>\n",
       "      <td>19.967234</td>\n",
       "      <td>19.091210</td>\n",
       "      <td>16.293000</td>\n",
       "      <td>20.945203</td>\n",
       "      <td>25.093296</td>\n",
       "      <td>14.147869</td>\n",
       "      <td>10.369884</td>\n",
       "      <td>15.788238</td>\n",
       "      <td>26.206604</td>\n",
       "    </tr>\n",
       "  </tbody>\n",
       "</table>\n",
       "<p>5 rows × 208 columns</p>\n",
       "</div>"
      ],
      "text/plain": [
       "         0          1          2          3          4          5    \\\n",
       "0  14.129705  11.959808  28.685874  33.823858  42.311438  22.872970   \n",
       "1  13.895036  12.063848  22.026072  27.027048  59.187831  23.013614   \n",
       "2  13.214033  15.229451  23.956005  25.832507  48.218284  29.437285   \n",
       "3  13.979167  16.414878  19.550628  21.984005  32.083749  26.856702   \n",
       "4  10.168381  10.501039  12.856129  16.059131  20.128401  13.435236   \n",
       "\n",
       "         6          7          8          9    ...        198        199  \\\n",
       "0  28.686864  91.792338  26.813570  28.583164  ...  43.676011  39.113891   \n",
       "1  30.960467  81.718608  29.116355  28.694447  ...  41.396844  44.348191   \n",
       "2  27.001414  35.878805  29.420835  31.587059  ...  27.507856  35.271588   \n",
       "3  23.001818  21.776800  23.041464  24.603026  ...  21.163787  27.844200   \n",
       "4  16.672336  18.134148  20.744904  21.606347  ...  14.751494  19.967234   \n",
       "\n",
       "         200        201        202        203        204        205  \\\n",
       "0  27.947874  31.573392  36.614566  35.604320  51.523493  31.292127   \n",
       "1  31.188022  30.580405  32.773796  39.768986  51.494867  29.641406   \n",
       "2  28.060107  24.463167  30.750010  39.033112  31.714344  17.286340   \n",
       "3  26.265045  24.563413  29.984113  35.764448  23.072423  15.670036   \n",
       "4  19.091210  16.293000  20.945203  25.093296  14.147869  10.369884   \n",
       "\n",
       "         206        207  \n",
       "0  59.277122  51.997711  \n",
       "1  47.146682  58.581918  \n",
       "2  30.174009  49.750919  \n",
       "3  22.936556  38.122263  \n",
       "4  15.788238  26.206604  \n",
       "\n",
       "[5 rows x 208 columns]"
      ]
     },
     "execution_count": 75,
     "metadata": {},
     "output_type": "execute_result"
    }
   ],
   "source": [
    "first_subj_df = envelope_df.iloc[:64, :]\n",
    "\n",
    "print(first_subj_df.shape)\n",
    "first_subj_df.head()"
   ]
  },
  {
   "cell_type": "markdown",
   "id": "88c2068d",
   "metadata": {},
   "source": [
    "Repeat process but for labels"
   ]
  },
  {
   "cell_type": "code",
   "execution_count": 76,
   "id": "5ff2a1fa",
   "metadata": {},
   "outputs": [
    {
     "name": "stdout",
     "output_type": "stream",
     "text": [
      "(7232, 3)\n"
     ]
    },
    {
     "data": {
      "text/html": [
       "<div>\n",
       "<style scoped>\n",
       "    .dataframe tbody tr th:only-of-type {\n",
       "        vertical-align: middle;\n",
       "    }\n",
       "\n",
       "    .dataframe tbody tr th {\n",
       "        vertical-align: top;\n",
       "    }\n",
       "\n",
       "    .dataframe thead th {\n",
       "        text-align: right;\n",
       "    }\n",
       "</style>\n",
       "<table border=\"1\" class=\"dataframe\">\n",
       "  <thead>\n",
       "    <tr style=\"text-align: right;\">\n",
       "      <th></th>\n",
       "      <th>Subject</th>\n",
       "      <th>Condition</th>\n",
       "      <th>Channel</th>\n",
       "    </tr>\n",
       "  </thead>\n",
       "  <tbody>\n",
       "    <tr>\n",
       "      <th>0</th>\n",
       "      <td>METACPHS_S106</td>\n",
       "      <td>0</td>\n",
       "      <td>0</td>\n",
       "    </tr>\n",
       "    <tr>\n",
       "      <th>1</th>\n",
       "      <td>METACPHS_S106</td>\n",
       "      <td>0</td>\n",
       "      <td>1</td>\n",
       "    </tr>\n",
       "    <tr>\n",
       "      <th>2</th>\n",
       "      <td>METACPHS_S106</td>\n",
       "      <td>0</td>\n",
       "      <td>2</td>\n",
       "    </tr>\n",
       "    <tr>\n",
       "      <th>3</th>\n",
       "      <td>METACPHS_S106</td>\n",
       "      <td>0</td>\n",
       "      <td>3</td>\n",
       "    </tr>\n",
       "    <tr>\n",
       "      <th>4</th>\n",
       "      <td>METACPHS_S106</td>\n",
       "      <td>0</td>\n",
       "      <td>4</td>\n",
       "    </tr>\n",
       "  </tbody>\n",
       "</table>\n",
       "</div>"
      ],
      "text/plain": [
       "         Subject  Condition  Channel\n",
       "0  METACPHS_S106          0        0\n",
       "1  METACPHS_S106          0        1\n",
       "2  METACPHS_S106          0        2\n",
       "3  METACPHS_S106          0        3\n",
       "4  METACPHS_S106          0        4"
      ]
     },
     "execution_count": 76,
     "metadata": {},
     "output_type": "execute_result"
    }
   ],
   "source": [
    "print(emg_labels_df.shape)\n",
    "emg_labels_df.head()"
   ]
  },
  {
   "cell_type": "code",
   "execution_count": 72,
   "id": "abf12b39",
   "metadata": {},
   "outputs": [
    {
     "name": "stdout",
     "output_type": "stream",
     "text": [
      "(7232, 1)\n"
     ]
    },
    {
     "data": {
      "text/html": [
       "<div>\n",
       "<style scoped>\n",
       "    .dataframe tbody tr th:only-of-type {\n",
       "        vertical-align: middle;\n",
       "    }\n",
       "\n",
       "    .dataframe tbody tr th {\n",
       "        vertical-align: top;\n",
       "    }\n",
       "\n",
       "    .dataframe thead th {\n",
       "        text-align: right;\n",
       "    }\n",
       "</style>\n",
       "<table border=\"1\" class=\"dataframe\">\n",
       "  <thead>\n",
       "    <tr style=\"text-align: right;\">\n",
       "      <th></th>\n",
       "      <th>Subject</th>\n",
       "    </tr>\n",
       "  </thead>\n",
       "  <tbody>\n",
       "    <tr>\n",
       "      <th>0</th>\n",
       "      <td>0</td>\n",
       "    </tr>\n",
       "    <tr>\n",
       "      <th>1</th>\n",
       "      <td>0</td>\n",
       "    </tr>\n",
       "    <tr>\n",
       "      <th>2</th>\n",
       "      <td>0</td>\n",
       "    </tr>\n",
       "    <tr>\n",
       "      <th>3</th>\n",
       "      <td>0</td>\n",
       "    </tr>\n",
       "    <tr>\n",
       "      <th>4</th>\n",
       "      <td>0</td>\n",
       "    </tr>\n",
       "  </tbody>\n",
       "</table>\n",
       "</div>"
      ],
      "text/plain": [
       "   Subject\n",
       "0        0\n",
       "1        0\n",
       "2        0\n",
       "3        0\n",
       "4        0"
      ]
     },
     "execution_count": 72,
     "metadata": {},
     "output_type": "execute_result"
    }
   ],
   "source": [
    "print(labels_df.shape)\n",
    "labels_df.head()"
   ]
  },
  {
   "cell_type": "code",
   "execution_count": 77,
   "id": "a9c14961",
   "metadata": {},
   "outputs": [
    {
     "name": "stdout",
     "output_type": "stream",
     "text": [
      "(64, 1)\n"
     ]
    },
    {
     "data": {
      "text/html": [
       "<div>\n",
       "<style scoped>\n",
       "    .dataframe tbody tr th:only-of-type {\n",
       "        vertical-align: middle;\n",
       "    }\n",
       "\n",
       "    .dataframe tbody tr th {\n",
       "        vertical-align: top;\n",
       "    }\n",
       "\n",
       "    .dataframe thead th {\n",
       "        text-align: right;\n",
       "    }\n",
       "</style>\n",
       "<table border=\"1\" class=\"dataframe\">\n",
       "  <thead>\n",
       "    <tr style=\"text-align: right;\">\n",
       "      <th></th>\n",
       "      <th>Subject</th>\n",
       "    </tr>\n",
       "  </thead>\n",
       "  <tbody>\n",
       "    <tr>\n",
       "      <th>0</th>\n",
       "      <td>0</td>\n",
       "    </tr>\n",
       "    <tr>\n",
       "      <th>1</th>\n",
       "      <td>0</td>\n",
       "    </tr>\n",
       "    <tr>\n",
       "      <th>2</th>\n",
       "      <td>0</td>\n",
       "    </tr>\n",
       "    <tr>\n",
       "      <th>3</th>\n",
       "      <td>0</td>\n",
       "    </tr>\n",
       "    <tr>\n",
       "      <th>4</th>\n",
       "      <td>0</td>\n",
       "    </tr>\n",
       "  </tbody>\n",
       "</table>\n",
       "</div>"
      ],
      "text/plain": [
       "   Subject\n",
       "0        0\n",
       "1        0\n",
       "2        0\n",
       "3        0\n",
       "4        0"
      ]
     },
     "execution_count": 77,
     "metadata": {},
     "output_type": "execute_result"
    }
   ],
   "source": [
    "first_subj_labels_df = labels_df.iloc[:64, :]\n",
    "\n",
    "print(first_subj_labels_df.shape)\n",
    "first_subj_labels_df.head()"
   ]
  },
  {
   "cell_type": "markdown",
   "id": "49017d3a",
   "metadata": {},
   "source": [
    "Now run actual PCA"
   ]
  },
  {
   "cell_type": "code",
   "execution_count": 103,
   "id": "34090ec2",
   "metadata": {},
   "outputs": [],
   "source": [
    "X = first_subj_df\n",
    "y = first_subj_labels_df\n",
    "\n",
    "# Maybe don't do SS since negative EMG is weird\n",
    "# Not using it just flips the figure, as far as I can tell\n",
    "#scaler = StandardScaler()\n",
    "#scaler.fit(X)\n",
    "#X=scaler.transform(X)    \n",
    "\n",
    "pca = PCA()\n",
    "x_new = pca.fit_transform(X)"
   ]
  },
  {
   "cell_type": "code",
   "execution_count": 104,
   "id": "b15f8b5d",
   "metadata": {},
   "outputs": [
    {
     "data": {
      "text/plain": [
       "(64, 64)"
      ]
     },
     "execution_count": 104,
     "metadata": {},
     "output_type": "execute_result"
    }
   ],
   "source": [
    "x_new.shape"
   ]
  },
  {
   "cell_type": "code",
   "execution_count": 105,
   "id": "53b3a85b",
   "metadata": {},
   "outputs": [
    {
     "data": {
      "text/plain": [
       "(64, 2)"
      ]
     },
     "execution_count": 105,
     "metadata": {},
     "output_type": "execute_result"
    }
   ],
   "source": [
    "x_new[:,0:2].shape"
   ]
  },
  {
   "cell_type": "code",
   "execution_count": 106,
   "id": "3310e522",
   "metadata": {},
   "outputs": [
    {
     "data": {
      "text/plain": [
       "(64,)"
      ]
     },
     "execution_count": 106,
     "metadata": {},
     "output_type": "execute_result"
    }
   ],
   "source": [
    "xs = x_new[:,0]\n",
    "xs.shape"
   ]
  },
  {
   "cell_type": "code",
   "execution_count": 107,
   "id": "4c5cd11e",
   "metadata": {},
   "outputs": [
    {
     "data": {
      "text/plain": [
       "(64,)"
      ]
     },
     "execution_count": 107,
     "metadata": {},
     "output_type": "execute_result"
    }
   ],
   "source": [
    "ys = x_new[:,1]\n",
    "ys.shape"
   ]
  },
  {
   "cell_type": "code",
   "execution_count": 108,
   "id": "38688f60",
   "metadata": {},
   "outputs": [
    {
     "data": {
      "image/png": "[encoded data removed]",
      "text/plain": [
       "<Figure size 640x480 with 1 Axes>"
      ]
     },
     "metadata": {},
     "output_type": "display_data"
    }
   ],
   "source": [
    "def myplot(score,coeff,labels=None):\n",
    "    xs = score[:,0]\n",
    "    ys = score[:,1]\n",
    "    n = coeff.shape[0]\n",
    "    scalex = 1.0/(xs.max() - xs.min())\n",
    "    scaley = 1.0/(ys.max() - ys.min())\n",
    "    \n",
    "    # This is the line with the error\n",
    "    #plt.scatter(xs * scalex,ys * scaley, c = y)\n",
    "    plt.scatter(xs * scalex,ys * scaley)#, c = y)\n",
    "    \n",
    "    # Changed this to reflect just the top 3 components\n",
    "    for i in range(3):\n",
    "        plt.arrow(0, 0, coeff[i,0], coeff[i,1],color = 'r',alpha = 0.5)\n",
    "        if labels is None:\n",
    "            plt.text(coeff[i,0]* 1.15, coeff[i,1] * 1.15, \"Var\"+str(i+1), color = 'g', ha = 'center', va = 'center')\n",
    "        else:\n",
    "            plt.text(coeff[i,0]* 1.15, coeff[i,1] * 1.15, labels[i], color = 'g', ha = 'center', va = 'center')\n",
    "plt.xlim(-1,1)\n",
    "plt.ylim(-1,1)\n",
    "plt.xlabel(\"PC{}\".format(1))\n",
    "plt.ylabel(\"PC{}\".format(2))\n",
    "plt.grid()\n",
    "\n",
    "#Call the function. Use only the 2 PCs.\n",
    "myplot(x_new[:,0:2],np.transpose(pca.components_[0:2, :]))\n",
    "plt.show()"
   ]
  },
  {
   "cell_type": "code",
   "execution_count": 109,
   "id": "4b1f89a7",
   "metadata": {},
   "outputs": [
    {
     "name": "stdout",
     "output_type": "stream",
     "text": [
      "(64,)\n"
     ]
    }
   ],
   "source": [
    "print(pca.explained_variance_ratio_.shape)"
   ]
  },
  {
   "cell_type": "code",
   "execution_count": 110,
   "id": "88486580",
   "metadata": {},
   "outputs": [
    {
     "data": {
      "text/plain": [
       "array([8.18949390e-01, 7.12233499e-02, 5.51405036e-02, 1.51749669e-02,\n",
       "       1.01393608e-02, 5.88521964e-03, 5.08292819e-03, 4.05777564e-03,\n",
       "       3.82422076e-03, 2.48049487e-03, 1.78775009e-03, 9.97103634e-04,\n",
       "       7.15884972e-04, 5.88867560e-04, 4.72852397e-04, 4.33326590e-04,\n",
       "       3.86697513e-04, 3.35551090e-04, 2.46200794e-04, 2.33478621e-04])"
      ]
     },
     "execution_count": 110,
     "metadata": {},
     "output_type": "execute_result"
    }
   ],
   "source": [
    "pca.explained_variance_ratio_[0:20]"
   ]
  },
  {
   "cell_type": "code",
   "execution_count": 111,
   "id": "71fef159",
   "metadata": {},
   "outputs": [
    {
     "data": {
      "text/plain": [
       "array([0.81894939, 0.89017274, 0.94531324, 0.96048821])"
      ]
     },
     "execution_count": 111,
     "metadata": {},
     "output_type": "execute_result"
    }
   ],
   "source": [
    "pca.explained_variance_ratio_.cumsum()[0:4]"
   ]
  },
  {
   "cell_type": "code",
   "execution_count": 93,
   "id": "9bdb89fc",
   "metadata": {},
   "outputs": [
    {
     "data": {
      "text/plain": [
       "array([8.18949390e-01, 7.12233499e-02, 5.51405036e-02, 1.51749669e-02,\n",
       "       1.01393608e-02, 5.88521964e-03, 5.08292819e-03, 4.05777564e-03,\n",
       "       3.82422076e-03, 2.48049487e-03, 1.78775009e-03, 9.97103634e-04,\n",
       "       7.15884972e-04, 5.88867560e-04, 4.72852397e-04, 4.33326590e-04,\n",
       "       3.86697513e-04, 3.35551090e-04, 2.46200794e-04, 2.33478621e-04,\n",
       "       2.06245146e-04, 1.86655839e-04, 1.42828981e-04, 1.38166136e-04,\n",
       "       1.25447520e-04, 1.18113339e-04, 1.11533028e-04, 1.08638862e-04,\n",
       "       8.95237552e-05, 7.96869465e-05, 6.73600360e-05, 5.45193323e-05,\n",
       "       4.82204581e-05, 4.02009986e-05, 3.81835533e-05, 3.33588619e-05,\n",
       "       3.12441870e-05, 2.58675116e-05, 2.36252691e-05, 2.13855110e-05,\n",
       "       1.87354680e-05, 1.69080258e-05, 1.52104597e-05, 1.27520227e-05,\n",
       "       1.18848350e-05, 1.03464725e-05, 9.63391789e-06, 8.73079649e-06,\n",
       "       7.37566826e-06, 6.23660517e-06, 5.87754592e-06, 4.88074941e-06,\n",
       "       4.62923425e-06, 3.43757709e-06, 3.31193913e-06, 3.17849030e-06,\n",
       "       2.54860031e-06, 1.93018609e-06, 1.59656906e-06, 1.50021496e-06,\n",
       "       1.01332837e-06, 9.22041173e-07, 6.29917511e-07, 1.61509289e-31])"
      ]
     },
     "execution_count": 93,
     "metadata": {},
     "output_type": "execute_result"
    }
   ],
   "source": [
    "pca.explained_variance_ratio_"
   ]
  },
  {
   "cell_type": "markdown",
   "id": "c81a1e4e",
   "metadata": {},
   "source": [
    "Use 4 channels to get 96% of variance"
   ]
  },
  {
   "cell_type": "markdown",
   "id": "1c19617b",
   "metadata": {},
   "source": [
    "## Now try to figure out if rows actually mean anything\n",
    "> Eg add a row of all 0s at the beginning of the df to see if this still captures information.  If pca.explained_variance_ratio_ is no longer \"sorted\" then it isnt sorted to begin with and thus I can just take the top rows"
   ]
  },
  {
   "cell_type": "code",
   "execution_count": 114,
   "id": "af21c548",
   "metadata": {},
   "outputs": [
    {
     "data": {
      "text/plain": [
       "(64, 208)"
      ]
     },
     "execution_count": 114,
     "metadata": {},
     "output_type": "execute_result"
    }
   ],
   "source": [
    "first_subj_df.shape"
   ]
  },
  {
   "cell_type": "code",
   "execution_count": 115,
   "id": "865c9389",
   "metadata": {},
   "outputs": [
    {
     "name": "stdout",
     "output_type": "stream",
     "text": [
      "(65, 208)\n"
     ]
    },
    {
     "data": {
      "text/html": [
       "<div>\n",
       "<style scoped>\n",
       "    .dataframe tbody tr th:only-of-type {\n",
       "        vertical-align: middle;\n",
       "    }\n",
       "\n",
       "    .dataframe tbody tr th {\n",
       "        vertical-align: top;\n",
       "    }\n",
       "\n",
       "    .dataframe thead th {\n",
       "        text-align: right;\n",
       "    }\n",
       "</style>\n",
       "<table border=\"1\" class=\"dataframe\">\n",
       "  <thead>\n",
       "    <tr style=\"text-align: right;\">\n",
       "      <th></th>\n",
       "      <th>0</th>\n",
       "      <th>1</th>\n",
       "      <th>2</th>\n",
       "      <th>3</th>\n",
       "      <th>4</th>\n",
       "      <th>5</th>\n",
       "      <th>6</th>\n",
       "      <th>7</th>\n",
       "      <th>8</th>\n",
       "      <th>9</th>\n",
       "      <th>...</th>\n",
       "      <th>198</th>\n",
       "      <th>199</th>\n",
       "      <th>200</th>\n",
       "      <th>201</th>\n",
       "      <th>202</th>\n",
       "      <th>203</th>\n",
       "      <th>204</th>\n",
       "      <th>205</th>\n",
       "      <th>206</th>\n",
       "      <th>207</th>\n",
       "    </tr>\n",
       "  </thead>\n",
       "  <tbody>\n",
       "    <tr>\n",
       "      <th>0</th>\n",
       "      <td>0.000000</td>\n",
       "      <td>0.000000</td>\n",
       "      <td>0.000000</td>\n",
       "      <td>0.000000</td>\n",
       "      <td>0.000000</td>\n",
       "      <td>0.000000</td>\n",
       "      <td>0.000000</td>\n",
       "      <td>0.000000</td>\n",
       "      <td>0.000000</td>\n",
       "      <td>0.000000</td>\n",
       "      <td>...</td>\n",
       "      <td>0.000000</td>\n",
       "      <td>0.000000</td>\n",
       "      <td>0.000000</td>\n",
       "      <td>0.000000</td>\n",
       "      <td>0.000000</td>\n",
       "      <td>0.000000</td>\n",
       "      <td>0.000000</td>\n",
       "      <td>0.000000</td>\n",
       "      <td>0.000000</td>\n",
       "      <td>0.000000</td>\n",
       "    </tr>\n",
       "    <tr>\n",
       "      <th>1</th>\n",
       "      <td>14.129705</td>\n",
       "      <td>11.959808</td>\n",
       "      <td>28.685874</td>\n",
       "      <td>33.823858</td>\n",
       "      <td>42.311438</td>\n",
       "      <td>22.872970</td>\n",
       "      <td>28.686864</td>\n",
       "      <td>91.792338</td>\n",
       "      <td>26.813570</td>\n",
       "      <td>28.583164</td>\n",
       "      <td>...</td>\n",
       "      <td>43.676011</td>\n",
       "      <td>39.113891</td>\n",
       "      <td>27.947874</td>\n",
       "      <td>31.573392</td>\n",
       "      <td>36.614566</td>\n",
       "      <td>35.604320</td>\n",
       "      <td>51.523493</td>\n",
       "      <td>31.292127</td>\n",
       "      <td>59.277122</td>\n",
       "      <td>51.997711</td>\n",
       "    </tr>\n",
       "    <tr>\n",
       "      <th>2</th>\n",
       "      <td>13.895036</td>\n",
       "      <td>12.063848</td>\n",
       "      <td>22.026072</td>\n",
       "      <td>27.027048</td>\n",
       "      <td>59.187831</td>\n",
       "      <td>23.013614</td>\n",
       "      <td>30.960467</td>\n",
       "      <td>81.718608</td>\n",
       "      <td>29.116355</td>\n",
       "      <td>28.694447</td>\n",
       "      <td>...</td>\n",
       "      <td>41.396844</td>\n",
       "      <td>44.348191</td>\n",
       "      <td>31.188022</td>\n",
       "      <td>30.580405</td>\n",
       "      <td>32.773796</td>\n",
       "      <td>39.768986</td>\n",
       "      <td>51.494867</td>\n",
       "      <td>29.641406</td>\n",
       "      <td>47.146682</td>\n",
       "      <td>58.581918</td>\n",
       "    </tr>\n",
       "    <tr>\n",
       "      <th>3</th>\n",
       "      <td>13.214033</td>\n",
       "      <td>15.229451</td>\n",
       "      <td>23.956005</td>\n",
       "      <td>25.832507</td>\n",
       "      <td>48.218284</td>\n",
       "      <td>29.437285</td>\n",
       "      <td>27.001414</td>\n",
       "      <td>35.878805</td>\n",
       "      <td>29.420835</td>\n",
       "      <td>31.587059</td>\n",
       "      <td>...</td>\n",
       "      <td>27.507856</td>\n",
       "      <td>35.271588</td>\n",
       "      <td>28.060107</td>\n",
       "      <td>24.463167</td>\n",
       "      <td>30.750010</td>\n",
       "      <td>39.033112</td>\n",
       "      <td>31.714344</td>\n",
       "      <td>17.286340</td>\n",
       "      <td>30.174009</td>\n",
       "      <td>49.750919</td>\n",
       "    </tr>\n",
       "    <tr>\n",
       "      <th>4</th>\n",
       "      <td>13.979167</td>\n",
       "      <td>16.414878</td>\n",
       "      <td>19.550628</td>\n",
       "      <td>21.984005</td>\n",
       "      <td>32.083749</td>\n",
       "      <td>26.856702</td>\n",
       "      <td>23.001818</td>\n",
       "      <td>21.776800</td>\n",
       "      <td>23.041464</td>\n",
       "      <td>24.603026</td>\n",
       "      <td>...</td>\n",
       "      <td>21.163787</td>\n",
       "      <td>27.844200</td>\n",
       "      <td>26.265045</td>\n",
       "      <td>24.563413</td>\n",
       "      <td>29.984113</td>\n",
       "      <td>35.764448</td>\n",
       "      <td>23.072423</td>\n",
       "      <td>15.670036</td>\n",
       "      <td>22.936556</td>\n",
       "      <td>38.122263</td>\n",
       "    </tr>\n",
       "  </tbody>\n",
       "</table>\n",
       "<p>5 rows × 208 columns</p>\n",
       "</div>"
      ],
      "text/plain": [
       "         0          1          2          3          4          5    \\\n",
       "0   0.000000   0.000000   0.000000   0.000000   0.000000   0.000000   \n",
       "1  14.129705  11.959808  28.685874  33.823858  42.311438  22.872970   \n",
       "2  13.895036  12.063848  22.026072  27.027048  59.187831  23.013614   \n",
       "3  13.214033  15.229451  23.956005  25.832507  48.218284  29.437285   \n",
       "4  13.979167  16.414878  19.550628  21.984005  32.083749  26.856702   \n",
       "\n",
       "         6          7          8          9    ...        198        199  \\\n",
       "0   0.000000   0.000000   0.000000   0.000000  ...   0.000000   0.000000   \n",
       "1  28.686864  91.792338  26.813570  28.583164  ...  43.676011  39.113891   \n",
       "2  30.960467  81.718608  29.116355  28.694447  ...  41.396844  44.348191   \n",
       "3  27.001414  35.878805  29.420835  31.587059  ...  27.507856  35.271588   \n",
       "4  23.001818  21.776800  23.041464  24.603026  ...  21.163787  27.844200   \n",
       "\n",
       "         200        201        202        203        204        205  \\\n",
       "0   0.000000   0.000000   0.000000   0.000000   0.000000   0.000000   \n",
       "1  27.947874  31.573392  36.614566  35.604320  51.523493  31.292127   \n",
       "2  31.188022  30.580405  32.773796  39.768986  51.494867  29.641406   \n",
       "3  28.060107  24.463167  30.750010  39.033112  31.714344  17.286340   \n",
       "4  26.265045  24.563413  29.984113  35.764448  23.072423  15.670036   \n",
       "\n",
       "         206        207  \n",
       "0   0.000000   0.000000  \n",
       "1  59.277122  51.997711  \n",
       "2  47.146682  58.581918  \n",
       "3  30.174009  49.750919  \n",
       "4  22.936556  38.122263  \n",
       "\n",
       "[5 rows x 208 columns]"
      ]
     },
     "execution_count": 115,
     "metadata": {},
     "output_type": "execute_result"
    }
   ],
   "source": [
    "TESTING_first_subj_df = first_subj_df.copy(deep=True)\n",
    "TESTING_first_subj_df.loc[-1] = [0]*208  # adding a row\n",
    "TESTING_first_subj_df.index = TESTING_first_subj_df.index + 1  # shifting index\n",
    "TESTING_first_subj_df.sort_index(inplace=True) \n",
    "\n",
    "print(TESTING_first_subj_df.shape)\n",
    "TESTING_first_subj_df.head()"
   ]
  },
  {
   "cell_type": "code",
   "execution_count": 116,
   "id": "cd35ec20",
   "metadata": {},
   "outputs": [
    {
     "name": "stdout",
     "output_type": "stream",
     "text": [
      "(65, 1)\n"
     ]
    },
    {
     "data": {
      "text/html": [
       "<div>\n",
       "<style scoped>\n",
       "    .dataframe tbody tr th:only-of-type {\n",
       "        vertical-align: middle;\n",
       "    }\n",
       "\n",
       "    .dataframe tbody tr th {\n",
       "        vertical-align: top;\n",
       "    }\n",
       "\n",
       "    .dataframe thead th {\n",
       "        text-align: right;\n",
       "    }\n",
       "</style>\n",
       "<table border=\"1\" class=\"dataframe\">\n",
       "  <thead>\n",
       "    <tr style=\"text-align: right;\">\n",
       "      <th></th>\n",
       "      <th>Subject</th>\n",
       "    </tr>\n",
       "  </thead>\n",
       "  <tbody>\n",
       "    <tr>\n",
       "      <th>0</th>\n",
       "      <td>0</td>\n",
       "    </tr>\n",
       "    <tr>\n",
       "      <th>1</th>\n",
       "      <td>0</td>\n",
       "    </tr>\n",
       "    <tr>\n",
       "      <th>2</th>\n",
       "      <td>0</td>\n",
       "    </tr>\n",
       "    <tr>\n",
       "      <th>3</th>\n",
       "      <td>0</td>\n",
       "    </tr>\n",
       "    <tr>\n",
       "      <th>4</th>\n",
       "      <td>0</td>\n",
       "    </tr>\n",
       "  </tbody>\n",
       "</table>\n",
       "</div>"
      ],
      "text/plain": [
       "   Subject\n",
       "0        0\n",
       "1        0\n",
       "2        0\n",
       "3        0\n",
       "4        0"
      ]
     },
     "execution_count": 116,
     "metadata": {},
     "output_type": "execute_result"
    }
   ],
   "source": [
    "TESTING_first_subj_labels_df = first_subj_labels_df.copy(deep=True)\n",
    "TESTING_first_subj_labels_df.loc[-1] = [0]  # adding a row\n",
    "TESTING_first_subj_labels_df.index = TESTING_first_subj_labels_df.index + 1  # shifting index\n",
    "TESTING_first_subj_labels_df.sort_index(inplace=True) \n",
    "\n",
    "print(TESTING_first_subj_labels_df.shape)\n",
    "TESTING_first_subj_labels_df.head()"
   ]
  },
  {
   "cell_type": "code",
   "execution_count": 117,
   "id": "6afdfd5d",
   "metadata": {},
   "outputs": [],
   "source": [
    "X = TESTING_first_subj_df\n",
    "y = TESTING_first_subj_labels_df\n",
    "\n",
    "# Maybe don't do SS since negative EMG is weird\n",
    "# Not using it just flips the figure, as far as I can tell\n",
    "#scaler = StandardScaler()\n",
    "#scaler.fit(X)\n",
    "#X=scaler.transform(X)    \n",
    "\n",
    "pca = PCA()\n",
    "x_new = pca.fit_transform(X)"
   ]
  },
  {
   "cell_type": "code",
   "execution_count": 118,
   "id": "36481c5d",
   "metadata": {},
   "outputs": [
    {
     "name": "stdout",
     "output_type": "stream",
     "text": [
      "(65,)\n"
     ]
    }
   ],
   "source": [
    "print(pca.explained_variance_ratio_.shape)"
   ]
  },
  {
   "cell_type": "code",
   "execution_count": 119,
   "id": "73a5a672",
   "metadata": {},
   "outputs": [
    {
     "data": {
      "text/plain": [
       "array([8.19114187e-01, 7.19051552e-02, 5.46854820e-02, 1.56556408e-02,\n",
       "       9.97130300e-03, 5.78926780e-03, 4.94265919e-03, 3.94526512e-03,\n",
       "       3.69755216e-03, 2.40379877e-03, 1.72999823e-03, 9.97110833e-04,\n",
       "       6.95033011e-04, 5.74368479e-04, 4.68882369e-04, 4.23407091e-04,\n",
       "       3.76150475e-04, 3.24580524e-04, 2.52943358e-04, 2.26771020e-04])"
      ]
     },
     "execution_count": 119,
     "metadata": {},
     "output_type": "execute_result"
    }
   ],
   "source": [
    "pca.explained_variance_ratio_[0:20]"
   ]
  },
  {
   "cell_type": "code",
   "execution_count": 120,
   "id": "84424966",
   "metadata": {},
   "outputs": [
    {
     "data": {
      "text/plain": [
       "array([0.81911419, 0.89101934, 0.94570482, 0.96136046])"
      ]
     },
     "execution_count": 120,
     "metadata": {},
     "output_type": "execute_result"
    }
   ],
   "source": [
    "pca.explained_variance_ratio_.cumsum()[0:4]"
   ]
  },
  {
   "cell_type": "markdown",
   "id": "41a70e41",
   "metadata": {},
   "source": [
    "I don't think this necessarily tells me what I wanted, it still concievable could be the case that the all zero row still captures a lot of variance maybe?"
   ]
  },
  {
   "cell_type": "markdown",
   "id": "b49a70b7",
   "metadata": {},
   "source": [
    "# Pipeline for Finding n_components\n",
    "Choosing just 2 components was super arbitrary, ought to do some analysis"
   ]
  },
  {
   "cell_type": "code",
   "execution_count": 52,
   "id": "04405dd7",
   "metadata": {},
   "outputs": [],
   "source": [
    "def do_pca(num_cs, input_df):\n",
    "    pca=PCA(n_components=num_cs)\n",
    "    pca.fit(input_df)\n",
    "    x_pca=pca.transform(input_df)\n",
    "\n",
    "    return x_pca"
   ]
  },
  {
   "cell_type": "markdown",
   "id": "8d7bc7b5",
   "metadata": {},
   "source": [
    "Could drop channel column, or combine subject and channel into 1 label. Dropping channel column is easiest but presumably loses some info (eg if channel is place over same muscle that could provide a better matching criterion, but this may be counteracted if the two blocks had sensors placed in different places"
   ]
  },
  {
   "cell_type": "code",
   "execution_count": 43,
   "id": "f0e9fe9d",
   "metadata": {},
   "outputs": [
    {
     "data": {
      "text/html": [
       "<div>\n",
       "<style scoped>\n",
       "    .dataframe tbody tr th:only-of-type {\n",
       "        vertical-align: middle;\n",
       "    }\n",
       "\n",
       "    .dataframe tbody tr th {\n",
       "        vertical-align: top;\n",
       "    }\n",
       "\n",
       "    .dataframe thead th {\n",
       "        text-align: right;\n",
       "    }\n",
       "</style>\n",
       "<table border=\"1\" class=\"dataframe\">\n",
       "  <thead>\n",
       "    <tr style=\"text-align: right;\">\n",
       "      <th></th>\n",
       "      <th>Subject</th>\n",
       "      <th>Condition</th>\n",
       "      <th>Channel</th>\n",
       "    </tr>\n",
       "  </thead>\n",
       "  <tbody>\n",
       "    <tr>\n",
       "      <th>0</th>\n",
       "      <td>METACPHS_S106</td>\n",
       "      <td>0</td>\n",
       "      <td>0</td>\n",
       "    </tr>\n",
       "    <tr>\n",
       "      <th>1</th>\n",
       "      <td>METACPHS_S106</td>\n",
       "      <td>0</td>\n",
       "      <td>1</td>\n",
       "    </tr>\n",
       "    <tr>\n",
       "      <th>2</th>\n",
       "      <td>METACPHS_S106</td>\n",
       "      <td>0</td>\n",
       "      <td>2</td>\n",
       "    </tr>\n",
       "    <tr>\n",
       "      <th>3</th>\n",
       "      <td>METACPHS_S106</td>\n",
       "      <td>0</td>\n",
       "      <td>3</td>\n",
       "    </tr>\n",
       "    <tr>\n",
       "      <th>4</th>\n",
       "      <td>METACPHS_S106</td>\n",
       "      <td>0</td>\n",
       "      <td>4</td>\n",
       "    </tr>\n",
       "  </tbody>\n",
       "</table>\n",
       "</div>"
      ],
      "text/plain": [
       "         Subject  Condition  Channel\n",
       "0  METACPHS_S106          0        0\n",
       "1  METACPHS_S106          0        1\n",
       "2  METACPHS_S106          0        2\n",
       "3  METACPHS_S106          0        3\n",
       "4  METACPHS_S106          0        4"
      ]
     },
     "execution_count": 43,
     "metadata": {},
     "output_type": "execute_result"
    }
   ],
   "source": [
    "emg_labels_df.head()"
   ]
  },
  {
   "cell_type": "code",
   "execution_count": 44,
   "id": "7db60bd2",
   "metadata": {},
   "outputs": [
    {
     "name": "stdout",
     "output_type": "stream",
     "text": [
      "(7232, 1)\n"
     ]
    },
    {
     "data": {
      "text/html": [
       "<div>\n",
       "<style scoped>\n",
       "    .dataframe tbody tr th:only-of-type {\n",
       "        vertical-align: middle;\n",
       "    }\n",
       "\n",
       "    .dataframe tbody tr th {\n",
       "        vertical-align: top;\n",
       "    }\n",
       "\n",
       "    .dataframe thead th {\n",
       "        text-align: right;\n",
       "    }\n",
       "</style>\n",
       "<table border=\"1\" class=\"dataframe\">\n",
       "  <thead>\n",
       "    <tr style=\"text-align: right;\">\n",
       "      <th></th>\n",
       "      <th>Subject</th>\n",
       "    </tr>\n",
       "  </thead>\n",
       "  <tbody>\n",
       "    <tr>\n",
       "      <th>0</th>\n",
       "      <td>METACPHS_S106</td>\n",
       "    </tr>\n",
       "    <tr>\n",
       "      <th>1</th>\n",
       "      <td>METACPHS_S106</td>\n",
       "    </tr>\n",
       "    <tr>\n",
       "      <th>2</th>\n",
       "      <td>METACPHS_S106</td>\n",
       "    </tr>\n",
       "    <tr>\n",
       "      <th>3</th>\n",
       "      <td>METACPHS_S106</td>\n",
       "    </tr>\n",
       "    <tr>\n",
       "      <th>4</th>\n",
       "      <td>METACPHS_S106</td>\n",
       "    </tr>\n",
       "  </tbody>\n",
       "</table>\n",
       "</div>"
      ],
      "text/plain": [
       "         Subject\n",
       "0  METACPHS_S106\n",
       "1  METACPHS_S106\n",
       "2  METACPHS_S106\n",
       "3  METACPHS_S106\n",
       "4  METACPHS_S106"
      ]
     },
     "execution_count": 44,
     "metadata": {},
     "output_type": "execute_result"
    }
   ],
   "source": [
    "# Also drop condition for now\n",
    "emg_labels_NC_df = emg_labels_df.drop(['Channel', 'Condition'], axis=1)\n",
    "emg_labels_NC_df[\"Subject\"] = emg_labels_NC_df[\"Subject\"].map(key_to_num)\n",
    "print(emg_labels_NC_df.shape)\n",
    "emg_labels_NC_df.head()"
   ]
  },
  {
   "cell_type": "code",
   "execution_count": 47,
   "id": "6029e209",
   "metadata": {},
   "outputs": [
    {
     "data": {
      "text/html": [
       "<div>\n",
       "<style scoped>\n",
       "    .dataframe tbody tr th:only-of-type {\n",
       "        vertical-align: middle;\n",
       "    }\n",
       "\n",
       "    .dataframe tbody tr th {\n",
       "        vertical-align: top;\n",
       "    }\n",
       "\n",
       "    .dataframe thead th {\n",
       "        text-align: right;\n",
       "    }\n",
       "</style>\n",
       "<table border=\"1\" class=\"dataframe\">\n",
       "  <thead>\n",
       "    <tr style=\"text-align: right;\">\n",
       "      <th></th>\n",
       "      <th>Algorithm</th>\n",
       "      <th>One Off Acc</th>\n",
       "      <th>CV Acc</th>\n",
       "      <th>K Folds</th>\n",
       "    </tr>\n",
       "  </thead>\n",
       "  <tbody>\n",
       "  </tbody>\n",
       "</table>\n",
       "</div>"
      ],
      "text/plain": [
       "Empty DataFrame\n",
       "Columns: [Algorithm, One Off Acc, CV Acc, K Folds]\n",
       "Index: []"
      ]
     },
     "execution_count": 47,
     "metadata": {},
     "output_type": "execute_result"
    }
   ],
   "source": [
    "emgPCA_res_df = pd.DataFrame(columns=my_metrics_cols)\n",
    "emgPCA_res_df.head()"
   ]
  },
  {
   "cell_type": "code",
   "execution_count": null,
   "id": "8cb77f8f",
   "metadata": {},
   "outputs": [],
   "source": [
    "\n",
    "emg_PCA_df2 = pd.DataFrame(do_pca(2, emg_data_df))\n",
    "emg_PCA_df3 = pd.DataFrame(do_pca(3, emg_data_df))\n",
    "emg_PCA_df5 = pd.DataFrame(do_pca(5, emg_data_df))\n",
    "emg_PCA_df7 = pd.DataFrame(do_pca(7, emg_data_df))\n",
    "emg_PCA_df10 = pd.DataFrame(do_pca(10, emg_data_df))\n",
    "emg_PCA_df20 = pd.DataFrame(do_pca(20, emg_data_df))\n",
    "\n",
    "my_pca_dfs = [emg_PCA_df2, emg_PCA_df3, emg_PCA_df5, emg_PCA_df7, emg_PCA_df10, emg_PCA_df20]"
   ]
  },
  {
   "cell_type": "code",
   "execution_count": null,
   "id": "5ac0386d",
   "metadata": {},
   "outputs": [],
   "source": [
    "for my_input_df in my_pca_dfs:\n",
    "    X_train, y_train, X_test, y_test, X_val, y_val = train_test_val_split(my_input_df, emg_labels_NC_df)\n",
    "    y_train = np.ravel(y_train)\n",
    "\n",
    "    # Need to keep track of what condition was used when... appending a column after?\n",
    "    #emgPCA_res_df = pd.DataFrame(columns=my_metrics_cols)\n",
    "\n",
    "    for model in my_models:\n",
    "        emgPCA_res_df = train_model(model, X_train, y_train, cv, emgPCA_res_df)"
   ]
  },
  {
   "cell_type": "code",
   "execution_count": null,
   "id": "88335e5f",
   "metadata": {},
   "outputs": [],
   "source": [
    "emgPCA_res_df.head(100)"
   ]
  },
  {
   "cell_type": "code",
   "execution_count": null,
   "id": "6683e2c3",
   "metadata": {},
   "outputs": [],
   "source": [
    "# Do some code to add a column\n",
    "num_comp_col = np.zeros((len(my_pca_dfs)*len(my_models), 1))\n",
    "\n",
    "#for i in range():\n",
    "#    num_comp_col"
   ]
  },
  {
   "cell_type": "code",
   "execution_count": null,
   "id": "30e295c1",
   "metadata": {},
   "outputs": [],
   "source": [
    "emgPCA_res_df.head(100)"
   ]
  },
  {
   "cell_type": "code",
   "execution_count": null,
   "id": "bd8c13c3",
   "metadata": {},
   "outputs": [],
   "source": []
  },
  {
   "cell_type": "code",
   "execution_count": null,
   "id": "14dd3539",
   "metadata": {},
   "outputs": [],
   "source": []
  },
  {
   "cell_type": "code",
   "execution_count": null,
   "id": "0e71b032",
   "metadata": {},
   "outputs": [],
   "source": []
  },
  {
   "cell_type": "markdown",
   "id": "3e1388f6",
   "metadata": {},
   "source": [
    "## 3) Make ML Model Attack"
   ]
  },
  {
   "cell_type": "code",
   "execution_count": null,
   "id": "1243befe",
   "metadata": {},
   "outputs": [],
   "source": [
    "# Machine learning\n",
    "from sklearn.model_selection import train_test_split\n",
    "from sklearn import model_selection, tree, preprocessing, metrics, linear_model\n",
    "from sklearn.svm import LinearSVC\n",
    "from sklearn.ensemble import GradientBoostingClassifier\n",
    "from sklearn.neighbors import KNeighborsClassifier\n",
    "from sklearn.naive_bayes import GaussianNB\n",
    "from sklearn.linear_model import LogisticRegression, SGDClassifier\n",
    "from sklearn.tree import DecisionTreeClassifier"
   ]
  },
  {
   "cell_type": "code",
   "execution_count": null,
   "id": "1b319090",
   "metadata": {},
   "outputs": [],
   "source": [
    "# Set the number of k-folds\n",
    "cv = 5\n",
    "    \n",
    "# Result logs\n",
    "my_metrics_cols = ['Algorithm', 'One Off Acc', 'CV Acc', 'K Folds']\n",
    "res_df = pd.DataFrame(columns=my_metrics_cols)\n",
    "\n",
    "my_models = [LogisticRegression(), KNeighborsClassifier(), GaussianNB(), LinearSVC(), SGDClassifier(), DecisionTreeClassifier(), GradientBoostingClassifier()]"
   ]
  },
  {
   "cell_type": "code",
   "execution_count": null,
   "id": "8e0a9fff",
   "metadata": {},
   "outputs": [],
   "source": []
  },
  {
   "cell_type": "code",
   "execution_count": null,
   "id": "828205df",
   "metadata": {},
   "outputs": [],
   "source": []
  }
 ],
 "metadata": {
  "kernelspec": {
   "display_name": "Python 3 (ipykernel)",
   "language": "python",
   "name": "python3"
  },
  "language_info": {
   "codemirror_mode": {
    "name": "ipython",
    "version": 3
   },
   "file_extension": ".py",
   "mimetype": "text/x-python",
   "name": "python",
   "nbconvert_exporter": "python",
   "pygments_lexer": "ipython3",
   "version": "3.9.13"
  }
 },
 "nbformat": 4,
 "nbformat_minor": 5
}
