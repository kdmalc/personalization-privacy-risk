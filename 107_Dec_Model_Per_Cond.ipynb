{
 "cells": [
  {
   "cell_type": "markdown",
   "id": "d17f193d",
   "metadata": {},
   "source": [
    "> __Purpose:__ Implement an initial privacy attack to quantify how much re-identiifcation and linkability risk exists from personalization parameters (the decoder used in the co-adaptation algorithm). Thus, implement a basic ML model to link the decoder matrices back to the corresponding subject.  \n",
    "\n",
    "-- 7 Subjects, therefore pure guessing would be 14.28% correct on average"
   ]
  },
  {
   "cell_type": "code",
   "execution_count": 1,
   "id": "a61b3128",
   "metadata": {},
   "outputs": [],
   "source": [
    "import numpy as np\n",
    "import matplotlib.pyplot as plt\n",
    "import time\n",
    "import pandas as pd\n",
    "import pickle\n",
    "import random\n",
    "from kcs_ml_infr import *\n",
    "\n",
    "# Machine learning\n",
    "from sklearn.model_selection import train_test_split\n",
    "from sklearn import model_selection, tree, preprocessing, metrics, linear_model\n",
    "\n",
    "from sklearn.svm import LinearSVC\n",
    "from sklearn.ensemble import GradientBoostingClassifier\n",
    "from sklearn.neighbors import KNeighborsClassifier\n",
    "from sklearn.naive_bayes import GaussianNB\n",
    "from sklearn.linear_model import LogisticRegression, SGDClassifier\n",
    "from sklearn.tree import DecisionTreeClassifier\n",
    "\n",
    "# Make annoying KNN warning go away since I'm not going to edit scikit learn's code lol\n",
    "import warnings\n",
    "warnings.filterwarnings(\"ignore\")\n",
    "\n",
    "random.seed(a=1)"
   ]
  },
  {
   "cell_type": "markdown",
   "id": "a850bb15",
   "metadata": {},
   "source": [
    "# Load In Data"
   ]
  },
  {
   "cell_type": "code",
   "execution_count": 6,
   "id": "f141f3e9",
   "metadata": {},
   "outputs": [],
   "source": [
    "keys = ['METACPHS_S106', 'METACPHS_S107','METACPHS_S108', 'METACPHS_S109', 'METACPHS_S110', 'METACPHS_S111', 'METACPHS_S112']\n",
    "\n",
    "with open('Data\\cphs_data_block1.pickle', 'rb') as handle:\n",
    "    #refs_block1, poss_block1, dec_vels_block1, int_vel_block1, emgs_block1, Ws_block1, Hs_block1, alphas_block1, pDs_block1, times_block1, conditions_block1 = pickle.load(handle)\n",
    "    _, _, _, _, _, Ws_block1, _, _, _, _, _ = pickle.load(handle)\n",
    "\n",
    "with open('Data\\cphs_data_block2.pickle', 'rb') as handle:\n",
    "    #refs_block2, poss_block2, dec_vels_block2, int_vel_block2, emgs_block2, Ws_block2, Hs_block2, alphas_block2, pDs_block2, times_block2, conditions_block2 = pickle.load(handle)\n",
    "    _, _, _, _, _, Ws_block2, _, _, _, _, _ = pickle.load(handle)\n",
    "    \n",
    "update_ix = np.load(r\"Data\\update_ix.npy\")\n",
    "print(update_ix.shape)\n",
    "print(update_ix)"
   ]
  },
  {
   "cell_type": "code",
   "execution_count": 3,
   "id": "14d33376",
   "metadata": {},
   "outputs": [],
   "source": [
    "key_to_num = dict()\n",
    "num_to_key = dict()\n",
    "for idx, key in enumerate(keys):\n",
    "    key_to_num[key] = idx\n",
    "    num_to_key[idx] = key\n",
    "    \n",
    "# Params\n",
    "# Set the number of k-folds\n",
    "cv = 5\n",
    "# Changed to 5 from 10 because the smallest class in cross val only has 7 instances\n",
    "# NOTE: I also changed the default cv number in my function to be 5 because of this\n",
    "\n",
    "my_metrics_cols = ['Algorithm', 'One Off Acc', 'CV Acc', 'K Folds']\n",
    "#my_models = [LogisticRegression(), KNeighborsClassifier(), GradientBoostingClassifier()]\n",
    "my_models = [LogisticRegression(), KNeighborsClassifier(), GaussianNB(), LinearSVC(), SGDClassifier(), DecisionTreeClassifier(), GradientBoostingClassifier()]"
   ]
  },
  {
   "cell_type": "code",
   "execution_count": 5,
   "id": "b5ae40cd",
   "metadata": {},
   "outputs": [
    {
     "name": "stdout",
     "output_type": "stream",
     "text": [
      "(2128, 4)\n"
     ]
    },
    {
     "data": {
      "text/html": [
       "<div>\n",
       "<style scoped>\n",
       "    .dataframe tbody tr th:only-of-type {\n",
       "        vertical-align: middle;\n",
       "    }\n",
       "\n",
       "    .dataframe tbody tr th {\n",
       "        vertical-align: top;\n",
       "    }\n",
       "\n",
       "    .dataframe thead th {\n",
       "        text-align: right;\n",
       "    }\n",
       "</style>\n",
       "<table border=\"1\" class=\"dataframe\">\n",
       "  <thead>\n",
       "    <tr style=\"text-align: right;\">\n",
       "      <th></th>\n",
       "      <th>Subject</th>\n",
       "      <th>Condition</th>\n",
       "      <th>Update Number</th>\n",
       "      <th>Flattened Decoder</th>\n",
       "    </tr>\n",
       "  </thead>\n",
       "  <tbody>\n",
       "    <tr>\n",
       "      <th>0</th>\n",
       "      <td>METACPHS_S106</td>\n",
       "      <td>0</td>\n",
       "      <td>0</td>\n",
       "      <td>[0.002722144351611262, 0.002605931562722017, 0...</td>\n",
       "    </tr>\n",
       "    <tr>\n",
       "      <th>1</th>\n",
       "      <td>METACPHS_S106</td>\n",
       "      <td>0</td>\n",
       "      <td>1</td>\n",
       "      <td>[0.002722144351611262, 0.002605931562722017, 0...</td>\n",
       "    </tr>\n",
       "    <tr>\n",
       "      <th>2</th>\n",
       "      <td>METACPHS_S106</td>\n",
       "      <td>0</td>\n",
       "      <td>2</td>\n",
       "      <td>[-0.34157085409453486, 0.08410593293763585, -0...</td>\n",
       "    </tr>\n",
       "    <tr>\n",
       "      <th>3</th>\n",
       "      <td>METACPHS_S106</td>\n",
       "      <td>0</td>\n",
       "      <td>3</td>\n",
       "      <td>[-0.1738624752800762, 0.003705171262358347, 0....</td>\n",
       "    </tr>\n",
       "    <tr>\n",
       "      <th>4</th>\n",
       "      <td>METACPHS_S106</td>\n",
       "      <td>0</td>\n",
       "      <td>4</td>\n",
       "      <td>[0.8321061501817386, -1.3261242289666402, 0.28...</td>\n",
       "    </tr>\n",
       "  </tbody>\n",
       "</table>\n",
       "</div>"
      ],
      "text/plain": [
       "         Subject  Condition  Update Number  \\\n",
       "0  METACPHS_S106          0              0   \n",
       "1  METACPHS_S106          0              1   \n",
       "2  METACPHS_S106          0              2   \n",
       "3  METACPHS_S106          0              3   \n",
       "4  METACPHS_S106          0              4   \n",
       "\n",
       "                                   Flattened Decoder  \n",
       "0  [0.002722144351611262, 0.002605931562722017, 0...  \n",
       "1  [0.002722144351611262, 0.002605931562722017, 0...  \n",
       "2  [-0.34157085409453486, 0.08410593293763585, -0...  \n",
       "3  [-0.1738624752800762, 0.003705171262358347, 0....  \n",
       "4  [0.8321061501817386, -1.3261242289666402, 0.28...  "
      ]
     },
     "execution_count": 5,
     "metadata": {},
     "output_type": "execute_result"
    }
   ],
   "source": [
    "num_conds = 8\n",
    "dec_flattened_df1 = pd.DataFrame(columns=[\"Subject\", \"Condition\", \"Update Number\", \"Flattened Decoder\"])\n",
    "dec_flattened_df2 = pd.DataFrame(columns=[\"Subject\", \"Condition\", \"Update Number\", \"Flattened Decoder\"])\n",
    "\n",
    "for key in keys:\n",
    "    participant_dec1 = Ws_block1[key]\n",
    "    participant_dec2 = Ws_block2[key]\n",
    "    \n",
    "    for my_cond in range(num_conds):\n",
    "        for update_number, update_idx in enumerate(update_ix):\n",
    "            dec_flattened_df1.loc[len(dec_flattened_df1)] = [key, my_cond, update_number, np.ravel(participant_dec1[my_cond, update_idx, :, :])]\n",
    "            dec_flattened_df2.loc[len(dec_flattened_df2)] = [key, my_cond, update_number, np.ravel(participant_dec2[my_cond, update_idx, :, :])]\n",
    "        \n",
    "dec_flattened_df = pd.concat((dec_flattened_df1, dec_flattened_df2))\n",
    "\n",
    "print(dec_flattened_df.shape)\n",
    "dec_flattened_df.head()"
   ]
  },
  {
   "cell_type": "code",
   "execution_count": null,
   "id": "46f81440",
   "metadata": {},
   "outputs": [],
   "source": [
    "# SPLIT BASED ON CONDITION NUMBERS\n",
    "# initialization conditions\n",
    "pos_init = [0, 1, 4, 5]\n",
    "neg_init = [2, 3, 6, 7]"
   ]
  },
  {
   "cell_type": "code",
   "execution_count": null,
   "id": "a2592522",
   "metadata": {},
   "outputs": [],
   "source": [
    "pos_dec_df = dec_flattened_df[dec_flattened_df[\"Condition\"] in pos_init]\n",
    "neg_dec_df = dec_flattened_df[dec_flattened_df[\"Condition\"] in neg_init]"
   ]
  },
  {
   "cell_type": "markdown",
   "id": "e0b91b48",
   "metadata": {},
   "source": [
    "# Compare Accuracies Of First and Last Decoders"
   ]
  },
  {
   "cell_type": "code",
   "execution_count": 6,
   "id": "bf7f4999",
   "metadata": {},
   "outputs": [
    {
     "name": "stdout",
     "output_type": "stream",
     "text": [
      "(2128, 131)\n"
     ]
    },
    {
     "data": {
      "text/html": [
       "<div>\n",
       "<style scoped>\n",
       "    .dataframe tbody tr th:only-of-type {\n",
       "        vertical-align: middle;\n",
       "    }\n",
       "\n",
       "    .dataframe tbody tr th {\n",
       "        vertical-align: top;\n",
       "    }\n",
       "\n",
       "    .dataframe thead th {\n",
       "        text-align: right;\n",
       "    }\n",
       "</style>\n",
       "<table border=\"1\" class=\"dataframe\">\n",
       "  <thead>\n",
       "    <tr style=\"text-align: right;\">\n",
       "      <th></th>\n",
       "      <th>Subject</th>\n",
       "      <th>Condition</th>\n",
       "      <th>Update Number</th>\n",
       "      <th>0</th>\n",
       "      <th>1</th>\n",
       "      <th>2</th>\n",
       "      <th>3</th>\n",
       "      <th>4</th>\n",
       "      <th>5</th>\n",
       "      <th>6</th>\n",
       "      <th>...</th>\n",
       "      <th>118</th>\n",
       "      <th>119</th>\n",
       "      <th>120</th>\n",
       "      <th>121</th>\n",
       "      <th>122</th>\n",
       "      <th>123</th>\n",
       "      <th>124</th>\n",
       "      <th>125</th>\n",
       "      <th>126</th>\n",
       "      <th>127</th>\n",
       "    </tr>\n",
       "  </thead>\n",
       "  <tbody>\n",
       "    <tr>\n",
       "      <th>0</th>\n",
       "      <td>METACPHS_S106</td>\n",
       "      <td>0</td>\n",
       "      <td>0</td>\n",
       "      <td>0.002722</td>\n",
       "      <td>0.002606</td>\n",
       "      <td>0.003087</td>\n",
       "      <td>0.009610</td>\n",
       "      <td>0.009477</td>\n",
       "      <td>0.004051</td>\n",
       "      <td>0.000124</td>\n",
       "      <td>...</td>\n",
       "      <td>0.005588</td>\n",
       "      <td>0.005065</td>\n",
       "      <td>0.004476</td>\n",
       "      <td>0.004007</td>\n",
       "      <td>0.006816</td>\n",
       "      <td>0.005033</td>\n",
       "      <td>0.008904</td>\n",
       "      <td>0.005124</td>\n",
       "      <td>0.006046</td>\n",
       "      <td>0.005625</td>\n",
       "    </tr>\n",
       "    <tr>\n",
       "      <th>1</th>\n",
       "      <td>METACPHS_S106</td>\n",
       "      <td>0</td>\n",
       "      <td>1</td>\n",
       "      <td>0.002722</td>\n",
       "      <td>0.002606</td>\n",
       "      <td>0.003087</td>\n",
       "      <td>0.009610</td>\n",
       "      <td>0.009477</td>\n",
       "      <td>0.004051</td>\n",
       "      <td>0.000124</td>\n",
       "      <td>...</td>\n",
       "      <td>0.005588</td>\n",
       "      <td>0.005065</td>\n",
       "      <td>0.004476</td>\n",
       "      <td>0.004007</td>\n",
       "      <td>0.006816</td>\n",
       "      <td>0.005033</td>\n",
       "      <td>0.008904</td>\n",
       "      <td>0.005124</td>\n",
       "      <td>0.006046</td>\n",
       "      <td>0.005625</td>\n",
       "    </tr>\n",
       "    <tr>\n",
       "      <th>2</th>\n",
       "      <td>METACPHS_S106</td>\n",
       "      <td>0</td>\n",
       "      <td>2</td>\n",
       "      <td>-0.341571</td>\n",
       "      <td>0.084106</td>\n",
       "      <td>-0.540574</td>\n",
       "      <td>0.444320</td>\n",
       "      <td>-1.656320</td>\n",
       "      <td>-1.081761</td>\n",
       "      <td>1.806691</td>\n",
       "      <td>...</td>\n",
       "      <td>0.565411</td>\n",
       "      <td>0.128505</td>\n",
       "      <td>0.848800</td>\n",
       "      <td>-0.828621</td>\n",
       "      <td>-0.453219</td>\n",
       "      <td>0.081089</td>\n",
       "      <td>0.411674</td>\n",
       "      <td>0.070501</td>\n",
       "      <td>1.248486</td>\n",
       "      <td>-0.666425</td>\n",
       "    </tr>\n",
       "    <tr>\n",
       "      <th>3</th>\n",
       "      <td>METACPHS_S106</td>\n",
       "      <td>0</td>\n",
       "      <td>3</td>\n",
       "      <td>-0.173862</td>\n",
       "      <td>0.003705</td>\n",
       "      <td>0.407216</td>\n",
       "      <td>-0.515222</td>\n",
       "      <td>-0.217008</td>\n",
       "      <td>-0.418798</td>\n",
       "      <td>0.288675</td>\n",
       "      <td>...</td>\n",
       "      <td>0.144975</td>\n",
       "      <td>-0.436637</td>\n",
       "      <td>0.015547</td>\n",
       "      <td>-0.266492</td>\n",
       "      <td>-0.287574</td>\n",
       "      <td>-0.069196</td>\n",
       "      <td>-0.461702</td>\n",
       "      <td>-0.393759</td>\n",
       "      <td>0.979884</td>\n",
       "      <td>1.426735</td>\n",
       "    </tr>\n",
       "    <tr>\n",
       "      <th>4</th>\n",
       "      <td>METACPHS_S106</td>\n",
       "      <td>0</td>\n",
       "      <td>4</td>\n",
       "      <td>0.832106</td>\n",
       "      <td>-1.326124</td>\n",
       "      <td>0.287190</td>\n",
       "      <td>1.302253</td>\n",
       "      <td>-1.523494</td>\n",
       "      <td>-1.953003</td>\n",
       "      <td>1.082167</td>\n",
       "      <td>...</td>\n",
       "      <td>0.147737</td>\n",
       "      <td>-0.538394</td>\n",
       "      <td>0.088116</td>\n",
       "      <td>-0.280073</td>\n",
       "      <td>0.022182</td>\n",
       "      <td>-0.648191</td>\n",
       "      <td>1.269775</td>\n",
       "      <td>0.324295</td>\n",
       "      <td>0.327097</td>\n",
       "      <td>-2.468706</td>\n",
       "    </tr>\n",
       "  </tbody>\n",
       "</table>\n",
       "<p>5 rows × 131 columns</p>\n",
       "</div>"
      ],
      "text/plain": [
       "         Subject  Condition  Update Number         0         1         2  \\\n",
       "0  METACPHS_S106          0              0  0.002722  0.002606  0.003087   \n",
       "1  METACPHS_S106          0              1  0.002722  0.002606  0.003087   \n",
       "2  METACPHS_S106          0              2 -0.341571  0.084106 -0.540574   \n",
       "3  METACPHS_S106          0              3 -0.173862  0.003705  0.407216   \n",
       "4  METACPHS_S106          0              4  0.832106 -1.326124  0.287190   \n",
       "\n",
       "          3         4         5         6  ...       118       119       120  \\\n",
       "0  0.009610  0.009477  0.004051  0.000124  ...  0.005588  0.005065  0.004476   \n",
       "1  0.009610  0.009477  0.004051  0.000124  ...  0.005588  0.005065  0.004476   \n",
       "2  0.444320 -1.656320 -1.081761  1.806691  ...  0.565411  0.128505  0.848800   \n",
       "3 -0.515222 -0.217008 -0.418798  0.288675  ...  0.144975 -0.436637  0.015547   \n",
       "4  1.302253 -1.523494 -1.953003  1.082167  ...  0.147737 -0.538394  0.088116   \n",
       "\n",
       "        121       122       123       124       125       126       127  \n",
       "0  0.004007  0.006816  0.005033  0.008904  0.005124  0.006046  0.005625  \n",
       "1  0.004007  0.006816  0.005033  0.008904  0.005124  0.006046  0.005625  \n",
       "2 -0.828621 -0.453219  0.081089  0.411674  0.070501  1.248486 -0.666425  \n",
       "3 -0.266492 -0.287574 -0.069196 -0.461702 -0.393759  0.979884  1.426735  \n",
       "4 -0.280073  0.022182 -0.648191  1.269775  0.324295  0.327097 -2.468706  \n",
       "\n",
       "[5 rows x 131 columns]"
      ]
     },
     "execution_count": 6,
     "metadata": {},
     "output_type": "execute_result"
    }
   ],
   "source": [
    "flat_dec_expanded_df = pd.DataFrame()\n",
    "for my_row in range(dec_flattened_df.shape[0]):\n",
    "    test=pd.DataFrame(dec_flattened_df.iloc[my_row,3]).T\n",
    "    flat_dec_expanded_df = pd.concat((flat_dec_expanded_df, test))\n",
    "\n",
    "flat_dec_expanded_df.reset_index(inplace=True, drop=True)\n",
    "flat_dec_expanded_df.insert(loc=0, column='Update Number', value=list(dec_flattened_df['Update Number']))\n",
    "flat_dec_expanded_df.insert(loc=0, column='Condition', value=list(dec_flattened_df['Condition']))\n",
    "flat_dec_expanded_df.insert(loc=0, column='Subject', value=list(dec_flattened_df['Subject']))\n",
    "\n",
    "print(flat_dec_expanded_df.shape)\n",
    "flat_dec_expanded_df.head()"
   ]
  },
  {
   "cell_type": "code",
   "execution_count": 10,
   "id": "b0de2007",
   "metadata": {},
   "outputs": [],
   "source": [
    "my_metrics_cols=['Algorithm', 'One Off Acc', 'CV Acc', 'K Folds']\n",
    "key_to_num_dict=key_to_num"
   ]
  },
  {
   "cell_type": "markdown",
   "id": "f3e76ca5",
   "metadata": {},
   "source": [
    "# Now Observe Effect of Decoder Update Number on Performance\n",
    "## n=0"
   ]
  },
  {
   "cell_type": "code",
   "execution_count": 14,
   "id": "893f19b4",
   "metadata": {
    "scrolled": false
   },
   "outputs": [
    {
     "data": {
      "text/html": [
       "<div>\n",
       "<style scoped>\n",
       "    .dataframe tbody tr th:only-of-type {\n",
       "        vertical-align: middle;\n",
       "    }\n",
       "\n",
       "    .dataframe tbody tr th {\n",
       "        vertical-align: top;\n",
       "    }\n",
       "\n",
       "    .dataframe thead th {\n",
       "        text-align: right;\n",
       "    }\n",
       "</style>\n",
       "<table border=\"1\" class=\"dataframe\">\n",
       "  <thead>\n",
       "    <tr style=\"text-align: right;\">\n",
       "      <th></th>\n",
       "      <th>Algorithm</th>\n",
       "      <th>CV Acc</th>\n",
       "      <th>Test Acc</th>\n",
       "      <th>K Folds</th>\n",
       "      <th>N</th>\n",
       "    </tr>\n",
       "  </thead>\n",
       "  <tbody>\n",
       "    <tr>\n",
       "      <th>0</th>\n",
       "      <td>LogisticRegression()</td>\n",
       "      <td>11.538</td>\n",
       "      <td>2.941</td>\n",
       "      <td>5</td>\n",
       "      <td>0</td>\n",
       "    </tr>\n",
       "    <tr>\n",
       "      <th>0</th>\n",
       "      <td>KNeighborsClassifier()</td>\n",
       "      <td>5.128</td>\n",
       "      <td>2.941</td>\n",
       "      <td>5</td>\n",
       "      <td>0</td>\n",
       "    </tr>\n",
       "    <tr>\n",
       "      <th>0</th>\n",
       "      <td>GaussianNB()</td>\n",
       "      <td>100.0</td>\n",
       "      <td>100.0</td>\n",
       "      <td>5</td>\n",
       "      <td>0</td>\n",
       "    </tr>\n",
       "    <tr>\n",
       "      <th>0</th>\n",
       "      <td>LinearSVC()</td>\n",
       "      <td>12.821</td>\n",
       "      <td>5.882</td>\n",
       "      <td>5</td>\n",
       "      <td>0</td>\n",
       "    </tr>\n",
       "    <tr>\n",
       "      <th>0</th>\n",
       "      <td>SGDClassifier()</td>\n",
       "      <td>10.256</td>\n",
       "      <td>14.706</td>\n",
       "      <td>5</td>\n",
       "      <td>0</td>\n",
       "    </tr>\n",
       "    <tr>\n",
       "      <th>0</th>\n",
       "      <td>DecisionTreeClassifier()</td>\n",
       "      <td>100.0</td>\n",
       "      <td>100.0</td>\n",
       "      <td>5</td>\n",
       "      <td>0</td>\n",
       "    </tr>\n",
       "    <tr>\n",
       "      <th>0</th>\n",
       "      <td>GradientBoostingClassifier()</td>\n",
       "      <td>100.0</td>\n",
       "      <td>100.0</td>\n",
       "      <td>5</td>\n",
       "      <td>0</td>\n",
       "    </tr>\n",
       "  </tbody>\n",
       "</table>\n",
       "</div>"
      ],
      "text/plain": [
       "                      Algorithm  CV Acc Test Acc K Folds  N\n",
       "0          LogisticRegression()  11.538    2.941       5  0\n",
       "0        KNeighborsClassifier()   5.128    2.941       5  0\n",
       "0                  GaussianNB()   100.0    100.0       5  0\n",
       "0                   LinearSVC()  12.821    5.882       5  0\n",
       "0               SGDClassifier()  10.256   14.706       5  0\n",
       "0      DecisionTreeClassifier()   100.0    100.0       5  0\n",
       "0  GradientBoostingClassifier()   100.0    100.0       5  0"
      ]
     },
     "execution_count": 14,
     "metadata": {},
     "output_type": "execute_result"
    }
   ],
   "source": [
    "zero_df, zero_test_df = nth_decoder_model(flat_dec_expanded_df, 0, my_models, test=True)\n",
    "zero_test_df.head(10)"
   ]
  },
  {
   "cell_type": "markdown",
   "id": "3a4ce39d",
   "metadata": {},
   "source": [
    "## Big Loop"
   ]
  },
  {
   "cell_type": "code",
   "execution_count": 15,
   "id": "e7c7c316",
   "metadata": {},
   "outputs": [
    {
     "name": "stdout",
     "output_type": "stream",
     "text": [
      "1\n",
      "7\n",
      "12\n",
      "Complete\n"
     ]
    }
   ],
   "source": [
    "print(1)\n",
    "one_df, one_test_df = nth_decoder_model(flat_dec_expanded_df, 1, my_models, test=True)\n",
    "two_df, two_test_df = nth_decoder_model(flat_dec_expanded_df, 2, my_models, test=True)\n",
    "three_df, three_test_df = nth_decoder_model(flat_dec_expanded_df, 3, my_models, test=True)\n",
    "four_df, four_test_df = nth_decoder_model(flat_dec_expanded_df, 4, my_models, test=True)\n",
    "five_df, five_test_df = nth_decoder_model(flat_dec_expanded_df, 5, my_models, test=True)\n",
    "six_df, six_test_df = nth_decoder_model(flat_dec_expanded_df, 6, my_models, test=True)\n",
    "print(7)\n",
    "seven_df, seven_test_df = nth_decoder_model(flat_dec_expanded_df, 7, my_models, test=True)\n",
    "eight_df, eight_test_df = nth_decoder_model(flat_dec_expanded_df, 8, my_models, test=True)\n",
    "nine_df, nine_test_df = nth_decoder_model(flat_dec_expanded_df, 9, my_models, test=True)\n",
    "ten_df, ten_test_df = nth_decoder_model(flat_dec_expanded_df, 10, my_models, test=True)\n",
    "ele_df, ele_test_df = nth_decoder_model(flat_dec_expanded_df, 11, my_models, test=True)\n",
    "print(12)\n",
    "twe_df, twe_test_df = nth_decoder_model(flat_dec_expanded_df, 12, my_models, test=True)\n",
    "thirt_df, thirt_test_df = nth_decoder_model(flat_dec_expanded_df, 13, my_models, test=True)\n",
    "frtn_df, frtn_test_df = nth_decoder_model(flat_dec_expanded_df, 14, my_models, test=True)\n",
    "fftn_df, fftn_test_df = nth_decoder_model(flat_dec_expanded_df, 15, my_models, test=True)\n",
    "sixtn_df, sixtn_test_df = nth_decoder_model(flat_dec_expanded_df, 16, my_models, test=True)\n",
    "svntn_df, svntn_test_df = nth_decoder_model(flat_dec_expanded_df, 17, my_models, test=True)\n",
    "print('Complete')"
   ]
  },
  {
   "cell_type": "markdown",
   "id": "955e9852",
   "metadata": {},
   "source": [
    "## n=18"
   ]
  },
  {
   "cell_type": "code",
   "execution_count": 16,
   "id": "d5f4578e",
   "metadata": {
    "scrolled": true
   },
   "outputs": [
    {
     "data": {
      "text/html": [
       "<div>\n",
       "<style scoped>\n",
       "    .dataframe tbody tr th:only-of-type {\n",
       "        vertical-align: middle;\n",
       "    }\n",
       "\n",
       "    .dataframe tbody tr th {\n",
       "        vertical-align: top;\n",
       "    }\n",
       "\n",
       "    .dataframe thead th {\n",
       "        text-align: right;\n",
       "    }\n",
       "</style>\n",
       "<table border=\"1\" class=\"dataframe\">\n",
       "  <thead>\n",
       "    <tr style=\"text-align: right;\">\n",
       "      <th></th>\n",
       "      <th>Algorithm</th>\n",
       "      <th>CV Acc</th>\n",
       "      <th>Test Acc</th>\n",
       "      <th>K Folds</th>\n",
       "      <th>N</th>\n",
       "    </tr>\n",
       "  </thead>\n",
       "  <tbody>\n",
       "    <tr>\n",
       "      <th>0</th>\n",
       "      <td>LogisticRegression()</td>\n",
       "      <td>69.231</td>\n",
       "      <td>70.588</td>\n",
       "      <td>5</td>\n",
       "      <td>18</td>\n",
       "    </tr>\n",
       "    <tr>\n",
       "      <th>0</th>\n",
       "      <td>KNeighborsClassifier()</td>\n",
       "      <td>35.897</td>\n",
       "      <td>55.882</td>\n",
       "      <td>5</td>\n",
       "      <td>18</td>\n",
       "    </tr>\n",
       "    <tr>\n",
       "      <th>0</th>\n",
       "      <td>GaussianNB()</td>\n",
       "      <td>67.949</td>\n",
       "      <td>64.706</td>\n",
       "      <td>5</td>\n",
       "      <td>18</td>\n",
       "    </tr>\n",
       "    <tr>\n",
       "      <th>0</th>\n",
       "      <td>LinearSVC()</td>\n",
       "      <td>70.513</td>\n",
       "      <td>79.412</td>\n",
       "      <td>5</td>\n",
       "      <td>18</td>\n",
       "    </tr>\n",
       "    <tr>\n",
       "      <th>0</th>\n",
       "      <td>SGDClassifier()</td>\n",
       "      <td>57.692</td>\n",
       "      <td>76.471</td>\n",
       "      <td>5</td>\n",
       "      <td>18</td>\n",
       "    </tr>\n",
       "    <tr>\n",
       "      <th>0</th>\n",
       "      <td>DecisionTreeClassifier()</td>\n",
       "      <td>33.333</td>\n",
       "      <td>47.059</td>\n",
       "      <td>5</td>\n",
       "      <td>18</td>\n",
       "    </tr>\n",
       "    <tr>\n",
       "      <th>0</th>\n",
       "      <td>GradientBoostingClassifier()</td>\n",
       "      <td>42.308</td>\n",
       "      <td>50.0</td>\n",
       "      <td>5</td>\n",
       "      <td>18</td>\n",
       "    </tr>\n",
       "  </tbody>\n",
       "</table>\n",
       "</div>"
      ],
      "text/plain": [
       "                      Algorithm  CV Acc Test Acc K Folds   N\n",
       "0          LogisticRegression()  69.231   70.588       5  18\n",
       "0        KNeighborsClassifier()  35.897   55.882       5  18\n",
       "0                  GaussianNB()  67.949   64.706       5  18\n",
       "0                   LinearSVC()  70.513   79.412       5  18\n",
       "0               SGDClassifier()  57.692   76.471       5  18\n",
       "0      DecisionTreeClassifier()  33.333   47.059       5  18\n",
       "0  GradientBoostingClassifier()  42.308     50.0       5  18"
      ]
     },
     "execution_count": 16,
     "metadata": {},
     "output_type": "execute_result"
    }
   ],
   "source": [
    "eightn_df, eightn_test_df = nth_decoder_model(flat_dec_expanded_df, 18, my_models, test=True)\n",
    "eightn_test_df.head(10)"
   ]
  },
  {
   "cell_type": "markdown",
   "id": "7023c06b",
   "metadata": {},
   "source": [
    "## Plot Accuracy As a Func of N"
   ]
  },
  {
   "cell_type": "code",
   "execution_count": 17,
   "id": "87fb23fb",
   "metadata": {},
   "outputs": [
    {
     "name": "stdout",
     "output_type": "stream",
     "text": [
      "(133, 4)\n"
     ]
    }
   ],
   "source": [
    "full_test_df = pd.concat((zero_test_df, one_test_df, two_test_df, three_test_df, four_test_df, \n",
    "           five_test_df, six_test_df, seven_test_df, eight_test_df, nine_test_df, \n",
    "           ten_test_df, ele_test_df, twe_test_df, thirt_test_df, frtn_test_df, \n",
    "           fftn_test_df, sixtn_test_df, svntn_test_df, eightn_test_df))\n",
    "\n",
    "full_test_df.drop('K Folds', axis=1, inplace=True)\n",
    "print(full_test_df.shape)"
   ]
  },
  {
   "cell_type": "code",
   "execution_count": 18,
   "id": "66ca928e",
   "metadata": {},
   "outputs": [],
   "source": [
    "lr_df = full_test_df[full_test_df['Algorithm']=='LogisticRegression()']\n",
    "knn_df = full_test_df[full_test_df['Algorithm']=='KNeighborsClassifier()']\n",
    "svc_df = full_test_df[full_test_df['Algorithm']=='LinearSVC()']\n",
    "dt_df = full_test_df[full_test_df['Algorithm']=='DecisionTreeClassifier()']\n",
    "gbt_df = full_test_df[full_test_df['Algorithm']=='GradientBoostingClassifier()']"
   ]
  },
  {
   "cell_type": "code",
   "execution_count": 38,
   "id": "17a317a5",
   "metadata": {},
   "outputs": [
    {
     "ename": "NameError",
     "evalue": "name 'lr_df' is not defined",
     "output_type": "error",
     "traceback": [
      "\u001b[1;31m---------------------------------------------------------------------------\u001b[0m",
      "\u001b[1;31mNameError\u001b[0m                                 Traceback (most recent call last)",
      "\u001b[1;32m~\\AppData\\Local\\Temp\\ipykernel_13036\\3823106255.py\u001b[0m in \u001b[0;36m<cell line: 2>\u001b[1;34m()\u001b[0m\n\u001b[0;32m      1\u001b[0m \u001b[0mplt\u001b[0m\u001b[1;33m.\u001b[0m\u001b[0mfigure\u001b[0m\u001b[1;33m(\u001b[0m\u001b[0mfigsize\u001b[0m\u001b[1;33m=\u001b[0m\u001b[1;33m(\u001b[0m\u001b[1;36m9\u001b[0m\u001b[1;33m,\u001b[0m\u001b[1;36m7\u001b[0m\u001b[1;33m)\u001b[0m\u001b[1;33m)\u001b[0m\u001b[1;33m\u001b[0m\u001b[1;33m\u001b[0m\u001b[0m\n\u001b[1;32m----> 2\u001b[1;33m \u001b[0mplt\u001b[0m\u001b[1;33m.\u001b[0m\u001b[0mplot\u001b[0m\u001b[1;33m(\u001b[0m\u001b[0mlist\u001b[0m\u001b[1;33m(\u001b[0m\u001b[0mrange\u001b[0m\u001b[1;33m(\u001b[0m\u001b[1;36m19\u001b[0m\u001b[1;33m)\u001b[0m\u001b[1;33m)\u001b[0m\u001b[1;33m,\u001b[0m \u001b[0mlr_df\u001b[0m\u001b[1;33m.\u001b[0m\u001b[0miloc\u001b[0m\u001b[1;33m[\u001b[0m\u001b[1;33m:\u001b[0m\u001b[1;33m,\u001b[0m \u001b[1;36m2\u001b[0m\u001b[1;33m]\u001b[0m\u001b[1;33m,\u001b[0m \u001b[0mlabel\u001b[0m\u001b[1;33m=\u001b[0m\u001b[1;34m'LogReg'\u001b[0m\u001b[1;33m)\u001b[0m\u001b[1;33m\u001b[0m\u001b[1;33m\u001b[0m\u001b[0m\n\u001b[0m\u001b[0;32m      3\u001b[0m \u001b[0mplt\u001b[0m\u001b[1;33m.\u001b[0m\u001b[0mplot\u001b[0m\u001b[1;33m(\u001b[0m\u001b[0mlist\u001b[0m\u001b[1;33m(\u001b[0m\u001b[0mrange\u001b[0m\u001b[1;33m(\u001b[0m\u001b[1;36m19\u001b[0m\u001b[1;33m)\u001b[0m\u001b[1;33m)\u001b[0m\u001b[1;33m,\u001b[0m \u001b[0mknn_df\u001b[0m\u001b[1;33m.\u001b[0m\u001b[0miloc\u001b[0m\u001b[1;33m[\u001b[0m\u001b[1;33m:\u001b[0m\u001b[1;33m,\u001b[0m \u001b[1;36m2\u001b[0m\u001b[1;33m]\u001b[0m\u001b[1;33m,\u001b[0m \u001b[0mlabel\u001b[0m\u001b[1;33m=\u001b[0m\u001b[1;34m'KNN'\u001b[0m\u001b[1;33m)\u001b[0m\u001b[1;33m\u001b[0m\u001b[1;33m\u001b[0m\u001b[0m\n\u001b[0;32m      4\u001b[0m \u001b[0mplt\u001b[0m\u001b[1;33m.\u001b[0m\u001b[0mplot\u001b[0m\u001b[1;33m(\u001b[0m\u001b[0mlist\u001b[0m\u001b[1;33m(\u001b[0m\u001b[0mrange\u001b[0m\u001b[1;33m(\u001b[0m\u001b[1;36m19\u001b[0m\u001b[1;33m)\u001b[0m\u001b[1;33m)\u001b[0m\u001b[1;33m,\u001b[0m \u001b[0msvc_df\u001b[0m\u001b[1;33m.\u001b[0m\u001b[0miloc\u001b[0m\u001b[1;33m[\u001b[0m\u001b[1;33m:\u001b[0m\u001b[1;33m,\u001b[0m \u001b[1;36m2\u001b[0m\u001b[1;33m]\u001b[0m\u001b[1;33m,\u001b[0m \u001b[0mlabel\u001b[0m\u001b[1;33m=\u001b[0m\u001b[1;34m'SVC'\u001b[0m\u001b[1;33m)\u001b[0m\u001b[1;33m\u001b[0m\u001b[1;33m\u001b[0m\u001b[0m\n\u001b[0;32m      5\u001b[0m \u001b[0mplt\u001b[0m\u001b[1;33m.\u001b[0m\u001b[0mplot\u001b[0m\u001b[1;33m(\u001b[0m\u001b[0mlist\u001b[0m\u001b[1;33m(\u001b[0m\u001b[0mrange\u001b[0m\u001b[1;33m(\u001b[0m\u001b[1;36m19\u001b[0m\u001b[1;33m)\u001b[0m\u001b[1;33m)\u001b[0m\u001b[1;33m,\u001b[0m \u001b[0mdt_df\u001b[0m\u001b[1;33m.\u001b[0m\u001b[0miloc\u001b[0m\u001b[1;33m[\u001b[0m\u001b[1;33m:\u001b[0m\u001b[1;33m,\u001b[0m \u001b[1;36m2\u001b[0m\u001b[1;33m]\u001b[0m\u001b[1;33m,\u001b[0m \u001b[0mlabel\u001b[0m\u001b[1;33m=\u001b[0m\u001b[1;34m'DTree'\u001b[0m\u001b[1;33m)\u001b[0m\u001b[1;33m\u001b[0m\u001b[1;33m\u001b[0m\u001b[0m\n",
      "\u001b[1;31mNameError\u001b[0m: name 'lr_df' is not defined"
     ]
    },
    {
     "data": {
      "text/plain": [
       "<Figure size 900x700 with 0 Axes>"
      ]
     },
     "metadata": {},
     "output_type": "display_data"
    }
   ],
   "source": [
    "plt.figure(figsize=(9,7))\n",
    "plt.plot(list(range(19)), lr_df.iloc[:, 2], label='LogReg')\n",
    "plt.plot(list(range(19)), knn_df.iloc[:, 2], label='KNN')\n",
    "plt.plot(list(range(19)), svc_df.iloc[:, 2], label='SVC')\n",
    "plt.plot(list(range(19)), dt_df.iloc[:, 2], label='DTree')\n",
    "plt.plot(list(range(19)), gbt_df.iloc[:, 2], label='GBC')\n",
    "plt.xticks(np.arange(0, 19, 1.0))\n",
    "plt.yticks(np.arange(0, 120, 20.0))\n",
    "plt.grid(axis='y')\n",
    "plt.xlabel('Update Number')\n",
    "plt.ylabel('Testing Accuracy')\n",
    "plt.title('Model Accuracy as a function of Decoder Update Number')\n",
    "plt.legend(loc='best')\n",
    "plt.show()"
   ]
  },
  {
   "cell_type": "code",
   "execution_count": 39,
   "id": "cfb3414b",
   "metadata": {
    "scrolled": false
   },
   "outputs": [
    {
     "ename": "NameError",
     "evalue": "name 'lr_df' is not defined",
     "output_type": "error",
     "traceback": [
      "\u001b[1;31m---------------------------------------------------------------------------\u001b[0m",
      "\u001b[1;31mNameError\u001b[0m                                 Traceback (most recent call last)",
      "\u001b[1;32m~\\AppData\\Local\\Temp\\ipykernel_13036\\999804320.py\u001b[0m in \u001b[0;36m<cell line: 4>\u001b[1;34m()\u001b[0m\n\u001b[0;32m      2\u001b[0m \u001b[1;33m\u001b[0m\u001b[0m\n\u001b[0;32m      3\u001b[0m \u001b[0mplt\u001b[0m\u001b[1;33m.\u001b[0m\u001b[0mfigure\u001b[0m\u001b[1;33m(\u001b[0m\u001b[0mfigsize\u001b[0m\u001b[1;33m=\u001b[0m\u001b[1;33m(\u001b[0m\u001b[1;36m9\u001b[0m\u001b[1;33m,\u001b[0m\u001b[1;36m7\u001b[0m\u001b[1;33m)\u001b[0m\u001b[1;33m)\u001b[0m\u001b[1;33m\u001b[0m\u001b[1;33m\u001b[0m\u001b[0m\n\u001b[1;32m----> 4\u001b[1;33m \u001b[0mplt\u001b[0m\u001b[1;33m.\u001b[0m\u001b[0mplot\u001b[0m\u001b[1;33m(\u001b[0m\u001b[0mmy_x_updates\u001b[0m\u001b[1;33m,\u001b[0m \u001b[0mlr_df\u001b[0m\u001b[1;33m.\u001b[0m\u001b[0miloc\u001b[0m\u001b[1;33m[\u001b[0m\u001b[1;36m2\u001b[0m\u001b[1;33m:\u001b[0m\u001b[1;33m,\u001b[0m \u001b[1;36m2\u001b[0m\u001b[1;33m]\u001b[0m\u001b[1;33m,\u001b[0m \u001b[0mlabel\u001b[0m\u001b[1;33m=\u001b[0m\u001b[1;34m'LogReg'\u001b[0m\u001b[1;33m)\u001b[0m\u001b[1;33m\u001b[0m\u001b[1;33m\u001b[0m\u001b[0m\n\u001b[0m\u001b[0;32m      5\u001b[0m \u001b[0mplt\u001b[0m\u001b[1;33m.\u001b[0m\u001b[0mplot\u001b[0m\u001b[1;33m(\u001b[0m\u001b[0mmy_x_updates\u001b[0m\u001b[1;33m,\u001b[0m \u001b[0mknn_df\u001b[0m\u001b[1;33m.\u001b[0m\u001b[0miloc\u001b[0m\u001b[1;33m[\u001b[0m\u001b[1;36m2\u001b[0m\u001b[1;33m:\u001b[0m\u001b[1;33m,\u001b[0m \u001b[1;36m2\u001b[0m\u001b[1;33m]\u001b[0m\u001b[1;33m,\u001b[0m \u001b[0mlabel\u001b[0m\u001b[1;33m=\u001b[0m\u001b[1;34m'KNN'\u001b[0m\u001b[1;33m)\u001b[0m\u001b[1;33m\u001b[0m\u001b[1;33m\u001b[0m\u001b[0m\n\u001b[0;32m      6\u001b[0m \u001b[0mplt\u001b[0m\u001b[1;33m.\u001b[0m\u001b[0mplot\u001b[0m\u001b[1;33m(\u001b[0m\u001b[0mmy_x_updates\u001b[0m\u001b[1;33m,\u001b[0m \u001b[0msvc_df\u001b[0m\u001b[1;33m.\u001b[0m\u001b[0miloc\u001b[0m\u001b[1;33m[\u001b[0m\u001b[1;36m2\u001b[0m\u001b[1;33m:\u001b[0m\u001b[1;33m,\u001b[0m \u001b[1;36m2\u001b[0m\u001b[1;33m]\u001b[0m\u001b[1;33m,\u001b[0m \u001b[0mlabel\u001b[0m\u001b[1;33m=\u001b[0m\u001b[1;34m'SVC'\u001b[0m\u001b[1;33m)\u001b[0m\u001b[1;33m\u001b[0m\u001b[1;33m\u001b[0m\u001b[0m\n",
      "\u001b[1;31mNameError\u001b[0m: name 'lr_df' is not defined"
     ]
    },
    {
     "data": {
      "text/plain": [
       "<Figure size 900x700 with 0 Axes>"
      ]
     },
     "metadata": {},
     "output_type": "display_data"
    }
   ],
   "source": [
    "my_x_updates = list(range(19))[2:]\n",
    "\n",
    "plt.figure(figsize=(9,7))\n",
    "plt.plot(my_x_updates, lr_df.iloc[2:, 2], label='LogReg')\n",
    "plt.plot(my_x_updates, knn_df.iloc[2:, 2], label='KNN')\n",
    "plt.plot(my_x_updates, svc_df.iloc[2:, 2], label='SVC')\n",
    "plt.plot(my_x_updates, dt_df.iloc[2:, 2], label='DTree')\n",
    "plt.plot(my_x_updates, gbt_df.iloc[2:, 2], label='GBC')\n",
    "plt.xticks(np.arange(0, 19, 1.0))\n",
    "plt.yticks(np.arange(0, 120, 20.0))\n",
    "plt.grid(axis='y')\n",
    "plt.xlabel('Update Number')\n",
    "plt.ylabel('Testing Accuracy')\n",
    "plt.title('Model Accuracy as a function of Decoder Update Number')\n",
    "plt.legend(loc='best')\n",
    "plt.show()"
   ]
  },
  {
   "cell_type": "code",
   "execution_count": null,
   "id": "a69121c2",
   "metadata": {},
   "outputs": [],
   "source": []
  },
  {
   "cell_type": "code",
   "execution_count": null,
   "id": "68fa299d",
   "metadata": {},
   "outputs": [],
   "source": []
  },
  {
   "cell_type": "code",
   "execution_count": null,
   "id": "22f5fbe9",
   "metadata": {},
   "outputs": [],
   "source": []
  },
  {
   "cell_type": "code",
   "execution_count": null,
   "id": "80131158",
   "metadata": {},
   "outputs": [],
   "source": []
  },
  {
   "cell_type": "code",
   "execution_count": null,
   "id": "071dcb63",
   "metadata": {},
   "outputs": [],
   "source": []
  }
 ],
 "metadata": {
  "kernelspec": {
   "display_name": "Python 3 (ipykernel)",
   "language": "python",
   "name": "python3"
  },
  "language_info": {
   "codemirror_mode": {
    "name": "ipython",
    "version": 3
   },
   "file_extension": ".py",
   "mimetype": "text/x-python",
   "name": "python",
   "nbconvert_exporter": "python",
   "pygments_lexer": "ipython3",
   "version": "3.9.13"
  }
 },
 "nbformat": 4,
 "nbformat_minor": 5
}
