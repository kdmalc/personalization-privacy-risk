{
 "cells": [
  {
   "cell_type": "code",
   "execution_count": 1,
   "id": "11be0a4d",
   "metadata": {},
   "outputs": [],
   "source": [
    "import numpy as np\n",
    "import matplotlib.pyplot as plt\n",
    "# import seaborn\n",
    "import time\n",
    "import pandas as pd\n",
    "import pickle\n",
    "import random\n",
    "from kcs_ml_infr import *\n",
    "from experiment_params import *\n",
    "\n",
    "random.seed(a=1)"
   ]
  },
  {
   "cell_type": "markdown",
   "id": "875c5055",
   "metadata": {},
   "source": [
    "## NB102: Case 3: Feed in a Vector of Norms\n",
    "> This isn't super high priority since the flattened version has high accuracy <br>\n",
    "<br>\n",
    "> Ideally, we would be able to use norms or DFT coefficients to achieve the same purpose.  If it still can link then that would be bad, for our specific application (eg the decoder matrix), DFT coeffs and heavily windowed data and/or norms cannot be used in the convex optimziation problem and thus this doesn't have a clear point for now)"
   ]
  },
  {
   "cell_type": "code",
   "execution_count": null,
   "id": "e05a31a8",
   "metadata": {},
   "outputs": [],
   "source": [
    "'''\n",
    "# This one isn't working yet\n",
    "#dec_vec_norm_df = pd.concat((dec_vec_norm_df1, dec_vec_norm_df2))\n",
    "\n",
    "#dec_vec_norm_df\n",
    "dec_vec_norm_input_df = dec_vec_norm_df.drop([\"Subject\",  \"Condition\"], axis=1)\n",
    "dec_vec_norm_input_df.head()\n",
    "\n",
    "# norm_label_df probably needs to be changed to a new variable... shouldn't have the same shape...\n",
    "X_train, y_train, X_test, y_test, X_val, y_val = train_test_val_split(norm_input_df, norm_label_df)\n",
    "y_train = np.ravel(y_train)\n",
    "\n",
    "print(X_train.shape)\n",
    "X_train.head()\n",
    "\n",
    "X_train2 = pd.DataFrame()\n",
    "X_test2 = pd.DataFrame()\n",
    "for my_row in range(X_train.shape[0]):\n",
    "    test=pd.DataFrame(X_train.iloc[my_row,0]).T\n",
    "    X_train2 = pd.concat((X_train2, test))\n",
    "    \n",
    "for my_row in range(X_test.shape[0]):\n",
    "    test=pd.DataFrame(X_test.iloc[my_row,0]).T\n",
    "    X_test2 = pd.concat((X_test2, test))\n",
    "X_train2.head()\n",
    "\n",
    "for model_num, model in enumerate(my_models):\n",
    "    print(f\"{model_num} of {len(my_models)}\")\n",
    "    norm_vec_res_df = train_model(model, X_train2, y_train, cv, norm_vec_res_df)\n",
    "    \n",
    "norm_vec_res_df.head(100)\n",
    "'''\n",
    "0"
   ]
  }
 ],
 "metadata": {
  "kernelspec": {
   "display_name": "Python 3 (ipykernel)",
   "language": "python",
   "name": "python3"
  },
  "language_info": {
   "codemirror_mode": {
    "name": "ipython",
    "version": 3
   },
   "file_extension": ".py",
   "mimetype": "text/x-python",
   "name": "python",
   "nbconvert_exporter": "python",
   "pygments_lexer": "ipython3",
   "version": "3.7.3"
  }
 },
 "nbformat": 4,
 "nbformat_minor": 5
}
