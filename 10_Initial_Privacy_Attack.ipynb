{
 "cells": [
  {
   "cell_type": "markdown",
   "id": "d17f193d",
   "metadata": {},
   "source": [
    "> __Purpose:__ Implement an initial privacy attack to quantify how much re-identiifcation and linkability risk exists from both filtered EMG data and for personalization parameters (the decoder). Thus, implement a basic ML model to link the EMG data back to the corresponding subject, and likewise to link the decoder matrices back to the corresponding subject.  "
   ]
  },
  {
   "cell_type": "code",
   "execution_count": 1,
   "id": "a61b3128",
   "metadata": {},
   "outputs": [],
   "source": [
    "import numpy as np\n",
    "import matplotlib.pyplot as plt\n",
    "# import matplotlib.image as mpimg\n",
    "# import seaborn\n",
    "import scipy\n",
    "from scipy.optimize import minimize,least_squares\n",
    "# from scipy.io import loadmat\n",
    "import copy as copy\n",
    "import time\n",
    "import glob\n",
    "import os\n",
    "import pandas as pd\n",
    "import pickle\n",
    "from scipy.stats import wilcoxon as wilcoxon"
   ]
  },
  {
   "cell_type": "markdown",
   "id": "a850bb15",
   "metadata": {},
   "source": [
    "# Load In Data"
   ]
  },
  {
   "cell_type": "code",
   "execution_count": 2,
   "id": "f141f3e9",
   "metadata": {},
   "outputs": [],
   "source": [
    "keys = ['METACPHS_S106', 'METACPHS_S107','METACPHS_S108', 'METACPHS_S109', 'METACPHS_S110', 'METACPHS_S111', 'METACPHS_S112']\n",
    "\n",
    "with open('cphs_data_block1.pickle', 'rb') as handle:\n",
    "    #refs_block1, poss_block1, dec_vels_block1, int_vel_block1, emgs_block1, Ws_block1, Hs_block1, alphas_block1, pDs_block1, times_block1, conditions_block1 = pickle.load(handle)\n",
    "    _, _, _, _, emgs_block1, Ws_block1, _, _, _, times_block1, _ = pickle.load(handle)\n",
    "\n",
    "with open('cphs_data_block2.pickle', 'rb') as handle:\n",
    "    #refs_block2, poss_block2, dec_vels_block2, int_vel_block2, emgs_block2, Ws_block2, Hs_block2, alphas_block2, pDs_block2, times_block2, conditions_block2 = pickle.load(handle)\n",
    "    _, _, _, _, emgs_block2, Ws_block2, _, _, _, times_block2, _ = pickle.load(handle)"
   ]
  },
  {
   "cell_type": "code",
   "execution_count": 3,
   "id": "7a57ed11",
   "metadata": {},
   "outputs": [
    {
     "name": "stdout",
     "output_type": "stream",
     "text": [
      "update index in time indices\n",
      "[    0  1200  2402  3604  4806  6008  7210  8412  9614 10816 12018 13220\n",
      " 14422 15624 16826 18028 19230 20432 20769]\n",
      "\n",
      "update times in seconds\n",
      "[  0.          16.81372571  33.70942521  50.44435     67.45188546\n",
      "  84.74962473 101.82288647 118.90209508 136.32002926 153.7001555\n",
      " 170.77472734 188.02292895 205.35715556 222.46085095 239.64881945\n",
      " 256.75217056 274.14669037 291.41761136 296.34003878]\n",
      "\n",
      "update times in minutes\n",
      "[0.         0.28022876 0.56182375 0.84073917 1.12419809 1.41249375\n",
      " 1.69704811 1.98170158 2.27200049 2.56166926 2.84624546 3.13371548\n",
      " 3.42261926 3.70768085 3.99414699 4.27920284 4.56911151 4.85696019\n",
      " 4.93900065]\n",
      "\n",
      "time scale conversion (index --> seconds):  70.08502828627614\n"
     ]
    }
   ],
   "source": [
    "# trying to figure out how often decoder updates -- every 1202 samples\n",
    "\n",
    "W = Ws_block1[keys[0]][0]\n",
    "W[1:,:,:].shape # 7199 time points x (decoder dimensions is 2 x 6)\n",
    "dold = W[0]\n",
    "update_ix = []\n",
    "for ix,d in enumerate(W[1:]):\n",
    "  if (np.array_equal(dold,d)==False):\n",
    "    update_ix.append(ix)\n",
    "    dold = d\n",
    "\n",
    "update_ix.append(len(W) - 1) \n",
    "update_ix = np.asarray(update_ix)\n",
    "update_ix = np.hstack([[0],update_ix])\n",
    "print(\"update index in time indices\")\n",
    "print(update_ix)\n",
    "\n",
    "# only go up to 20432\n",
    "\n",
    "update_times = times_block1[keys[0]][0][update_ix]\n",
    "print(\"\")\n",
    "print(\"update times in seconds\")\n",
    "print(update_times)\n",
    "\n",
    "update_mins = update_times/60\n",
    "print(\"\")\n",
    "print(\"update times in minutes\")\n",
    "print(update_mins)\n",
    "\n",
    "tscale = update_ix[-1]/update_times[-1]\n",
    "print(\"\")\n",
    "print(\"time scale conversion (index --> seconds): \", tscale)"
   ]
  },
  {
   "cell_type": "markdown",
   "id": "5ee6826b",
   "metadata": {},
   "source": [
    "# Make Input and Label DFs"
   ]
  },
  {
   "cell_type": "code",
   "execution_count": 4,
   "id": "0ab83301",
   "metadata": {},
   "outputs": [
    {
     "name": "stdout",
     "output_type": "stream",
     "text": [
      "The subject keys are the labels\n",
      "['METACPHS_S106', 'METACPHS_S107', 'METACPHS_S108', 'METACPHS_S109', 'METACPHS_S110', 'METACPHS_S111', 'METACPHS_S112']\n"
     ]
    }
   ],
   "source": [
    "print(\"The subject keys are the labels\")\n",
    "print(keys)"
   ]
  },
  {
   "cell_type": "code",
   "execution_count": 5,
   "id": "9581db6d",
   "metadata": {},
   "outputs": [
    {
     "name": "stdout",
     "output_type": "stream",
     "text": [
      "Processed EMG Data:\n",
      "(number of conditions, all data points, number of channels)\n",
      "(8, 20770, 64)\n"
     ]
    }
   ],
   "source": [
    "print(\"Processed EMG Data:\")\n",
    "print(\"(number of conditions, all data points, number of channels)\")\n",
    "print(emgs_block1[keys[0]].shape)"
   ]
  },
  {
   "cell_type": "code",
   "execution_count": 6,
   "id": "1461ca57",
   "metadata": {},
   "outputs": [
    {
     "name": "stdout",
     "output_type": "stream",
     "text": [
      "Decoder AKA Wiener Filter:\n",
      "(number of conditions, all data points, XY?, number of channels)\n",
      "(8, 20770, 2, 64)\n"
     ]
    }
   ],
   "source": [
    "print(\"Decoder AKA Wiener Filter:\")\n",
    "print(\"(number of conditions, all data points, XY?, number of channels)\")\n",
    "print(Ws_block1[keys[0]].shape)"
   ]
  },
  {
   "cell_type": "code",
   "execution_count": 7,
   "id": "0f101562",
   "metadata": {},
   "outputs": [
    {
     "data": {
      "text/html": [
       "<div>\n",
       "<style scoped>\n",
       "    .dataframe tbody tr th:only-of-type {\n",
       "        vertical-align: middle;\n",
       "    }\n",
       "\n",
       "    .dataframe tbody tr th {\n",
       "        vertical-align: top;\n",
       "    }\n",
       "\n",
       "    .dataframe thead th {\n",
       "        text-align: right;\n",
       "    }\n",
       "</style>\n",
       "<table border=\"1\" class=\"dataframe\">\n",
       "  <thead>\n",
       "    <tr style=\"text-align: right;\">\n",
       "      <th></th>\n",
       "      <th>Subject</th>\n",
       "      <th>Condition</th>\n",
       "      <th>Channel</th>\n",
       "    </tr>\n",
       "  </thead>\n",
       "  <tbody>\n",
       "  </tbody>\n",
       "</table>\n",
       "</div>"
      ],
      "text/plain": [
       "Empty DataFrame\n",
       "Columns: [Subject, Condition, Channel]\n",
       "Index: []"
      ]
     },
     "execution_count": 7,
     "metadata": {},
     "output_type": "execute_result"
    }
   ],
   "source": [
    "emg_labels_df = pd.DataFrame(columns=[\"Subject\", \"Condition\", \"Channel\"])\n",
    "emg_labels_df.head()"
   ]
  },
  {
   "cell_type": "code",
   "execution_count": 8,
   "id": "8d6ac63e",
   "metadata": {},
   "outputs": [
    {
     "data": {
      "text/html": [
       "<div>\n",
       "<style scoped>\n",
       "    .dataframe tbody tr th:only-of-type {\n",
       "        vertical-align: middle;\n",
       "    }\n",
       "\n",
       "    .dataframe tbody tr th {\n",
       "        vertical-align: top;\n",
       "    }\n",
       "\n",
       "    .dataframe thead th {\n",
       "        text-align: right;\n",
       "    }\n",
       "</style>\n",
       "<table border=\"1\" class=\"dataframe\">\n",
       "  <thead>\n",
       "    <tr style=\"text-align: right;\">\n",
       "      <th></th>\n",
       "    </tr>\n",
       "  </thead>\n",
       "  <tbody>\n",
       "  </tbody>\n",
       "</table>\n",
       "</div>"
      ],
      "text/plain": [
       "Empty DataFrame\n",
       "Columns: []\n",
       "Index: []"
      ]
     },
     "execution_count": 8,
     "metadata": {},
     "output_type": "execute_result"
    }
   ],
   "source": [
    "emg_data_df = pd.DataFrame()\n",
    "emg_data_df.head()"
   ]
  },
  {
   "cell_type": "code",
   "execution_count": 9,
   "id": "dbe2e1cb",
   "metadata": {},
   "outputs": [
    {
     "name": "stdout",
     "output_type": "stream",
     "text": [
      "I don't think I can actually just pass in the matrix...\n"
     ]
    },
    {
     "data": {
      "text/html": [
       "<div>\n",
       "<style scoped>\n",
       "    .dataframe tbody tr th:only-of-type {\n",
       "        vertical-align: middle;\n",
       "    }\n",
       "\n",
       "    .dataframe tbody tr th {\n",
       "        vertical-align: top;\n",
       "    }\n",
       "\n",
       "    .dataframe thead th {\n",
       "        text-align: right;\n",
       "    }\n",
       "</style>\n",
       "<table border=\"1\" class=\"dataframe\">\n",
       "  <thead>\n",
       "    <tr style=\"text-align: right;\">\n",
       "      <th></th>\n",
       "      <th>Subject</th>\n",
       "      <th>Condition</th>\n",
       "      <th>Update Number</th>\n",
       "      <th>????</th>\n",
       "    </tr>\n",
       "  </thead>\n",
       "  <tbody>\n",
       "  </tbody>\n",
       "</table>\n",
       "</div>"
      ],
      "text/plain": [
       "Empty DataFrame\n",
       "Columns: [Subject, Condition, Update Number, ????]\n",
       "Index: []"
      ]
     },
     "execution_count": 9,
     "metadata": {},
     "output_type": "execute_result"
    }
   ],
   "source": [
    "print(\"I don't think I can actually just pass in the matrix...\")\n",
    "\n",
    "dec_df = pd.DataFrame(columns=[\"Subject\", \"Condition\", \"Update Number\", \"????\"])\n",
    "dec_df.head()"
   ]
  },
  {
   "cell_type": "code",
   "execution_count": 10,
   "id": "845235b9",
   "metadata": {},
   "outputs": [
    {
     "data": {
      "text/html": [
       "<div>\n",
       "<style scoped>\n",
       "    .dataframe tbody tr th:only-of-type {\n",
       "        vertical-align: middle;\n",
       "    }\n",
       "\n",
       "    .dataframe tbody tr th {\n",
       "        vertical-align: top;\n",
       "    }\n",
       "\n",
       "    .dataframe thead th {\n",
       "        text-align: right;\n",
       "    }\n",
       "</style>\n",
       "<table border=\"1\" class=\"dataframe\">\n",
       "  <thead>\n",
       "    <tr style=\"text-align: right;\">\n",
       "      <th></th>\n",
       "      <th>Subject</th>\n",
       "      <th>Condition</th>\n",
       "      <th>Update Number</th>\n",
       "      <th>Frobenius Norm</th>\n",
       "    </tr>\n",
       "  </thead>\n",
       "  <tbody>\n",
       "  </tbody>\n",
       "</table>\n",
       "</div>"
      ],
      "text/plain": [
       "Empty DataFrame\n",
       "Columns: [Subject, Condition, Update Number, Frobenius Norm]\n",
       "Index: []"
      ]
     },
     "execution_count": 10,
     "metadata": {},
     "output_type": "execute_result"
    }
   ],
   "source": [
    "dec_norms_df = pd.DataFrame(columns=[\"Subject\", \"Condition\", \"Update Number\", \"Frobenius Norm\"])\n",
    "dec_norms_df.head()"
   ]
  },
  {
   "cell_type": "code",
   "execution_count": null,
   "id": "774092ed",
   "metadata": {},
   "outputs": [],
   "source": []
  },
  {
   "cell_type": "code",
   "execution_count": null,
   "id": "619a561b",
   "metadata": {},
   "outputs": [],
   "source": []
  },
  {
   "cell_type": "code",
   "execution_count": 11,
   "id": "b371f90c",
   "metadata": {},
   "outputs": [],
   "source": [
    "num_conds = 8\n",
    "num_channels = 64 "
   ]
  },
  {
   "cell_type": "code",
   "execution_count": 12,
   "id": "e0d890ba",
   "metadata": {},
   "outputs": [
    {
     "name": "stdout",
     "output_type": "stream",
     "text": [
      "10.267606019973755\n"
     ]
    }
   ],
   "source": [
    "t0 = time.time()\n",
    "\n",
    "for key in keys:\n",
    "    patient_emgs = emgs_block1[key]\n",
    "    patient_dec = Ws_block1[key]\n",
    "    \n",
    "    for my_cond in range(num_conds):\n",
    "        for my_channel in range(num_channels):\n",
    "            emg_labels_df.loc[len(emg_labels_df)] = [key, my_cond, my_channel]\n",
    "            #emg_data_df = pd.concat([emg_data_df, pd.Series(patient_emgs[my_cond, :, my_channel])], ignore_index=True)\n",
    "            \n",
    "        #for update_number, update_idx in enumerate(update_ix):\n",
    "        #    emg_labels_df.loc[len(emg_labels_df)] = [key, my_cond, my_channel]\n",
    "\n",
    "t1 = time.time()\n",
    "total = t1-t0   \n",
    "print(total)"
   ]
  },
  {
   "cell_type": "code",
   "execution_count": 13,
   "id": "4607eab7",
   "metadata": {},
   "outputs": [
    {
     "name": "stdout",
     "output_type": "stream",
     "text": [
      "536.1957488059998\n"
     ]
    }
   ],
   "source": [
    "t0 = time.time()\n",
    "\n",
    "for key in keys:\n",
    "    patient_emgs = emgs_block1[key]\n",
    "    patient_dec = Ws_block1[key]\n",
    "    \n",
    "    for my_cond in range(num_conds):\n",
    "        for my_channel in range(num_channels):\n",
    "            #emg_labels_df.loc[len(emg_labels_df)] = [key, my_cond, my_channel]\n",
    "            emg_data_df = pd.concat([emg_data_df, pd.Series(patient_emgs[my_cond, :, my_channel])], ignore_index=True)\n",
    "            \n",
    "        #for update_number, update_idx in enumerate(update_ix):\n",
    "        #    emg_labels_df.loc[len(emg_labels_df)] = [key, my_cond, my_channel]\n",
    "        \n",
    "t1 = time.time()\n",
    "total = t1-t0  \n",
    "print(total)"
   ]
  },
  {
   "cell_type": "code",
   "execution_count": 14,
   "id": "0b98eff9",
   "metadata": {},
   "outputs": [
    {
     "name": "stdout",
     "output_type": "stream",
     "text": [
      "4.600125789642334\n"
     ]
    }
   ],
   "source": [
    "t0 = time.time()\n",
    "\n",
    "for key in keys:\n",
    "    patient_emgs = emgs_block1[key]\n",
    "    patient_dec = Ws_block1[key]\n",
    "    \n",
    "    for my_cond in range(num_conds):\n",
    "        #for my_channel in range(num_channels):\n",
    "            #emg_labels_df.loc[len(emg_labels_df)] = [key, my_cond, my_channel]\n",
    "            #emg_data_df = pd.concat([emg_data_df, pd.Series(patient_emgs[my_cond, :, my_channel])], ignore_index=True)\n",
    "            \n",
    "        for update_number, update_idx in enumerate(update_ix):\n",
    "            emg_labels_df.loc[len(emg_labels_df)] = [key, my_cond, my_channel]\n",
    "        \n",
    "t1 = time.time()\n",
    "total = t1-t0  \n",
    "print(total)"
   ]
  },
  {
   "cell_type": "code",
   "execution_count": 20,
   "id": "b3c9b2e0",
   "metadata": {},
   "outputs": [
    {
     "data": {
      "text/plain": [
       "3584.0"
      ]
     },
     "execution_count": 20,
     "metadata": {},
     "output_type": "execute_result"
    }
   ],
   "source": [
    "74439680/20770"
   ]
  },
  {
   "cell_type": "code",
   "execution_count": 18,
   "id": "4c87b437",
   "metadata": {},
   "outputs": [
    {
     "name": "stdout",
     "output_type": "stream",
     "text": [
      "(74439680, 1)\n"
     ]
    },
    {
     "data": {
      "text/html": [
       "<div>\n",
       "<style scoped>\n",
       "    .dataframe tbody tr th:only-of-type {\n",
       "        vertical-align: middle;\n",
       "    }\n",
       "\n",
       "    .dataframe tbody tr th {\n",
       "        vertical-align: top;\n",
       "    }\n",
       "\n",
       "    .dataframe thead th {\n",
       "        text-align: right;\n",
       "    }\n",
       "</style>\n",
       "<table border=\"1\" class=\"dataframe\">\n",
       "  <thead>\n",
       "    <tr style=\"text-align: right;\">\n",
       "      <th></th>\n",
       "      <th>0</th>\n",
       "    </tr>\n",
       "  </thead>\n",
       "  <tbody>\n",
       "    <tr>\n",
       "      <th>0</th>\n",
       "      <td>0.000000</td>\n",
       "    </tr>\n",
       "    <tr>\n",
       "      <th>1</th>\n",
       "      <td>0.000000</td>\n",
       "    </tr>\n",
       "    <tr>\n",
       "      <th>2</th>\n",
       "      <td>0.000000</td>\n",
       "    </tr>\n",
       "    <tr>\n",
       "      <th>3</th>\n",
       "      <td>10.778148</td>\n",
       "    </tr>\n",
       "    <tr>\n",
       "      <th>4</th>\n",
       "      <td>10.778148</td>\n",
       "    </tr>\n",
       "  </tbody>\n",
       "</table>\n",
       "</div>"
      ],
      "text/plain": [
       "           0\n",
       "0   0.000000\n",
       "1   0.000000\n",
       "2   0.000000\n",
       "3  10.778148\n",
       "4  10.778148"
      ]
     },
     "execution_count": 18,
     "metadata": {},
     "output_type": "execute_result"
    }
   ],
   "source": [
    "print(emg_data_df.shape)\n",
    "emg_data_df.head()"
   ]
  },
  {
   "cell_type": "code",
   "execution_count": 21,
   "id": "0f653b9e",
   "metadata": {},
   "outputs": [
    {
     "data": {
      "text/plain": [
       "72.625"
      ]
     },
     "execution_count": 21,
     "metadata": {},
     "output_type": "execute_result"
    }
   ],
   "source": [
    "4648/64"
   ]
  },
  {
   "cell_type": "code",
   "execution_count": 19,
   "id": "3ad1bcc6",
   "metadata": {
    "scrolled": true
   },
   "outputs": [
    {
     "name": "stdout",
     "output_type": "stream",
     "text": [
      "(4648, 3)\n"
     ]
    },
    {
     "data": {
      "text/html": [
       "<div>\n",
       "<style scoped>\n",
       "    .dataframe tbody tr th:only-of-type {\n",
       "        vertical-align: middle;\n",
       "    }\n",
       "\n",
       "    .dataframe tbody tr th {\n",
       "        vertical-align: top;\n",
       "    }\n",
       "\n",
       "    .dataframe thead th {\n",
       "        text-align: right;\n",
       "    }\n",
       "</style>\n",
       "<table border=\"1\" class=\"dataframe\">\n",
       "  <thead>\n",
       "    <tr style=\"text-align: right;\">\n",
       "      <th></th>\n",
       "      <th>Subject</th>\n",
       "      <th>Condition</th>\n",
       "      <th>Channel</th>\n",
       "    </tr>\n",
       "  </thead>\n",
       "  <tbody>\n",
       "    <tr>\n",
       "      <th>0</th>\n",
       "      <td>METACPHS_S106</td>\n",
       "      <td>0</td>\n",
       "      <td>0</td>\n",
       "    </tr>\n",
       "    <tr>\n",
       "      <th>1</th>\n",
       "      <td>METACPHS_S106</td>\n",
       "      <td>0</td>\n",
       "      <td>1</td>\n",
       "    </tr>\n",
       "    <tr>\n",
       "      <th>2</th>\n",
       "      <td>METACPHS_S106</td>\n",
       "      <td>0</td>\n",
       "      <td>2</td>\n",
       "    </tr>\n",
       "    <tr>\n",
       "      <th>3</th>\n",
       "      <td>METACPHS_S106</td>\n",
       "      <td>0</td>\n",
       "      <td>3</td>\n",
       "    </tr>\n",
       "    <tr>\n",
       "      <th>4</th>\n",
       "      <td>METACPHS_S106</td>\n",
       "      <td>0</td>\n",
       "      <td>4</td>\n",
       "    </tr>\n",
       "  </tbody>\n",
       "</table>\n",
       "</div>"
      ],
      "text/plain": [
       "         Subject  Condition  Channel\n",
       "0  METACPHS_S106          0        0\n",
       "1  METACPHS_S106          0        1\n",
       "2  METACPHS_S106          0        2\n",
       "3  METACPHS_S106          0        3\n",
       "4  METACPHS_S106          0        4"
      ]
     },
     "execution_count": 19,
     "metadata": {},
     "output_type": "execute_result"
    }
   ],
   "source": [
    "print(emg_labels_df.shape)\n",
    "emg_labels_df.head()"
   ]
  },
  {
   "cell_type": "code",
   "execution_count": null,
   "id": "53ade3fa",
   "metadata": {},
   "outputs": [],
   "source": []
  },
  {
   "cell_type": "code",
   "execution_count": null,
   "id": "771bf319",
   "metadata": {},
   "outputs": [],
   "source": []
  }
 ],
 "metadata": {
  "kernelspec": {
   "display_name": "Python 3 (ipykernel)",
   "language": "python",
   "name": "python3"
  },
  "language_info": {
   "codemirror_mode": {
    "name": "ipython",
    "version": 3
   },
   "file_extension": ".py",
   "mimetype": "text/x-python",
   "name": "python",
   "nbconvert_exporter": "python",
   "pygments_lexer": "ipython3",
   "version": "3.9.13"
  }
 },
 "nbformat": 4,
 "nbformat_minor": 5
}
