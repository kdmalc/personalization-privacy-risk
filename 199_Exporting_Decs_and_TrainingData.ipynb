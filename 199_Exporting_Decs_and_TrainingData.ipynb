{
 "cells": [
  {
   "cell_type": "code",
   "execution_count": null,
   "id": "6afb5365",
   "metadata": {},
   "outputs": [],
   "source": [
    "import numpy as np\n",
    "import pandas as pd\n",
    "import random\n",
    "from scipy.optimize import minimize\n",
    "import copy\n",
    "from matplotlib import pyplot as plt\n",
    "\n",
    "from experiment_params import *\n",
    "from cost_funcs import *\n",
    "import time\n",
    "import pickle\n",
    "from sklearn.decomposition import PCA"
   ]
  },
  {
   "cell_type": "code",
   "execution_count": null,
   "id": "9c9f89a3",
   "metadata": {},
   "outputs": [],
   "source": [
    "path = r'C:\\Users\\kdmen\\Desktop\\Research\\personalization-privacy-risk\\Data'\n",
    "cond0_filename = r'\\cond0_dict_list.p'\n",
    "all_decs_init_filename = r'\\all_decs_init.p'\n",
    "nofl_decs_filename = r'\\nofl_decs.p'\n",
    "num_participants = 14"
   ]
  },
  {
   "cell_type": "code",
   "execution_count": null,
   "id": "08e620d8",
   "metadata": {},
   "outputs": [],
   "source": [
    "# Code for saving data needed for running sims\n",
    "#cond0_dict_list = [0]*num_participants\n",
    "#for idx in range(num_participants):\n",
    "#    cond0_dict_list[idx] = {'training':emgs_block1[keys[idx]][0,:,:], 'labels':refs_block1[keys[idx]][0,:,:]}\n",
    "#\n",
    "#with open(path+cond0_filename, 'wb') as fp:\n",
    "#    pickle.dump(cond0_dict_list, fp, protocol=pickle.HIGHEST_PROTOCOL)\n",
    "#    \n",
    "#init_decoders = [Ws_block1[keys[i]][:, 0, :, :] for i in range(num_participants)]\n",
    "#with open(path+all_decs_init_filename, 'wb') as fp:\n",
    "#    pickle.dump(init_decoders, fp, protocol=pickle.HIGHEST_PROTOCOL)"
   ]
  },
  {
   "cell_type": "code",
   "execution_count": null,
   "id": "64d3ecdc",
   "metadata": {},
   "outputs": [],
   "source": []
  },
  {
   "cell_type": "code",
   "execution_count": null,
   "id": "baf57115",
   "metadata": {},
   "outputs": [],
   "source": []
  },
  {
   "cell_type": "markdown",
   "id": "9b76231c",
   "metadata": {},
   "source": [
    "## All"
   ]
  },
  {
   "cell_type": "code",
   "execution_count": 2,
   "id": "37a5d512",
   "metadata": {},
   "outputs": [
    {
     "ename": "NameError",
     "evalue": "name 'num_participants' is not defined",
     "output_type": "error",
     "traceback": [
      "\u001b[1;31m---------------------------------------------------------------------------\u001b[0m",
      "\u001b[1;31mNameError\u001b[0m                                 Traceback (most recent call last)",
      "\u001b[1;32m~\\AppData\\Local\\Temp\\ipykernel_17044\\470571134.py\u001b[0m in \u001b[0;36m<cell line: 1>\u001b[1;34m()\u001b[0m\n\u001b[1;32m----> 1\u001b[1;33m \u001b[0mcond1b1_dict_list\u001b[0m \u001b[1;33m=\u001b[0m \u001b[1;33m[\u001b[0m\u001b[1;36m0\u001b[0m\u001b[1;33m]\u001b[0m\u001b[1;33m*\u001b[0m\u001b[0mnum_participants\u001b[0m\u001b[1;33m\u001b[0m\u001b[1;33m\u001b[0m\u001b[0m\n\u001b[0m\u001b[0;32m      2\u001b[0m \u001b[0mcond1b2_dict_list\u001b[0m \u001b[1;33m=\u001b[0m \u001b[1;33m[\u001b[0m\u001b[1;36m0\u001b[0m\u001b[1;33m]\u001b[0m\u001b[1;33m*\u001b[0m\u001b[0mnum_participants\u001b[0m\u001b[1;33m\u001b[0m\u001b[1;33m\u001b[0m\u001b[0m\n\u001b[0;32m      3\u001b[0m \u001b[0mcond2b1_dict_list\u001b[0m \u001b[1;33m=\u001b[0m \u001b[1;33m[\u001b[0m\u001b[1;36m0\u001b[0m\u001b[1;33m]\u001b[0m\u001b[1;33m*\u001b[0m\u001b[0mnum_participants\u001b[0m\u001b[1;33m\u001b[0m\u001b[1;33m\u001b[0m\u001b[0m\n\u001b[0;32m      4\u001b[0m \u001b[0mcond2b2_dict_list\u001b[0m \u001b[1;33m=\u001b[0m \u001b[1;33m[\u001b[0m\u001b[1;36m0\u001b[0m\u001b[1;33m]\u001b[0m\u001b[1;33m*\u001b[0m\u001b[0mnum_participants\u001b[0m\u001b[1;33m\u001b[0m\u001b[1;33m\u001b[0m\u001b[0m\n\u001b[0;32m      5\u001b[0m \u001b[0mcond3b1_dict_list\u001b[0m \u001b[1;33m=\u001b[0m \u001b[1;33m[\u001b[0m\u001b[1;36m0\u001b[0m\u001b[1;33m]\u001b[0m\u001b[1;33m*\u001b[0m\u001b[0mnum_participants\u001b[0m\u001b[1;33m\u001b[0m\u001b[1;33m\u001b[0m\u001b[0m\n",
      "\u001b[1;31mNameError\u001b[0m: name 'num_participants' is not defined"
     ]
    }
   ],
   "source": [
    "with open('Data\\continuous_full_data_block1.pickle', 'rb') as handle:\n",
    "    #refs_block1, poss_block1, dec_vels_block1, int_vel_block1, emgs_block1, Ws_block1, Hs_block1, alphas_block1, pDs_block1, times_block1, conditions_block1 = pickle.load(handle)\n",
    "    refs_block1, _, _, _, emgs_block1, Ws_block1, _, _, _, times_block1, _ = pickle.load(handle)\n",
    "\n",
    "with open('Data\\continuous_full_data_block2.pickle', 'rb') as handle:\n",
    "    #refs_block2, poss_block2, dec_vels_block2, int_vel_block2, emgs_block2, Ws_block2, Hs_block2, alphas_block2, pDs_block2, times_block2, conditions_block2 = pickle.load(handle)\n",
    "    refs_block2, _, _, _, emgs_block2, Ws_block2, _, _, _, times_block2, _ = pickle.load(handle)\n",
    "\n",
    "cond1b1_dict_list = [0]*num_participants\n",
    "cond1b2_dict_list = [0]*num_participants\n",
    "cond2b1_dict_list = [0]*num_participants\n",
    "cond2b2_dict_list = [0]*num_participants\n",
    "cond3b1_dict_list = [0]*num_participants\n",
    "cond3b2_dict_list = [0]*num_participants\n",
    "cond4b1_dict_list = [0]*num_participants\n",
    "cond4b2_dict_list = [0]*num_participants\n",
    "cond5b1_dict_list = [0]*num_participants\n",
    "cond5b2_dict_list = [0]*num_participants\n",
    "cond6b1_dict_list = [0]*num_participants\n",
    "cond6b2_dict_list = [0]*num_participants\n",
    "cond7b1_dict_list = [0]*num_participants\n",
    "cond7b2_dict_list = [0]*num_participants\n",
    "cond8b1_dict_list = [0]*num_participants\n",
    "cond8b2_dict_list = [0]*num_participants\n",
    "for idx in range(num_participants):\n",
    "    b1_emg = emgs_block1[keys[idx]]\n",
    "    b2_emg = emgs_block2[keys[idx]]\n",
    "    b1_ref = refs_block1[keys[idx]]\n",
    "    b2_ref = refs_block2[keys[idx]]\n",
    "    cond1b1_dict_list[idx] = {'training':b1_emg[0,:,:], 'labels':b1_ref[0,:,:]}\n",
    "    cond1b2_dict_list[idx] = {'training':b2_emg[0,:,:], 'labels':b2_ref[0,:,:]}\n",
    "    cond2b1_dict_list[idx] = {'training':b1_emg[1,:,:], 'labels':b1_ref[1,:,:]}\n",
    "    cond2b2_dict_list[idx] = {'training':b2_emg[1,:,:], 'labels':b2_ref[1,:,:]}\n",
    "    cond3b1_dict_list[idx] = {'training':b1_emg[2,:,:], 'labels':b1_ref[2,:,:]}\n",
    "    cond3b2_dict_list[idx] = {'training':b2_emg[2,:,:], 'labels':b2_ref[2,:,:]}\n",
    "    cond4b1_dict_list[idx] = {'training':b1_emg[3,:,:], 'labels':b1_ref[3,:,:]}\n",
    "    cond4b2_dict_list[idx] = {'training':b2_emg[3,:,:], 'labels':b2_ref[3,:,:]}\n",
    "    cond5b1_dict_list[idx] = {'training':b1_emg[4,:,:], 'labels':b1_ref[4,:,:]}\n",
    "    cond5b2_dict_list[idx] = {'training':b2_emg[4,:,:], 'labels':b2_ref[4,:,:]}\n",
    "    cond6b1_dict_list[idx] = {'training':b1_emg[5,:,:], 'labels':b1_ref[5,:,:]}\n",
    "    cond6b2_dict_list[idx] = {'training':b2_emg[5,:,:], 'labels':b2_ref[5,:,:]}\n",
    "    cond7b1_dict_list[idx] = {'training':b1_emg[6,:,:], 'labels':b1_ref[6,:,:]}\n",
    "    cond7b2_dict_list[idx] = {'training':b2_emg[6,:,:], 'labels':b2_ref[6,:,:]}\n",
    "    cond8b1_dict_list[idx] = {'training':b1_emg[7,:,:], 'labels':b1_ref[7,:,:]}\n",
    "    cond8b2_dict_list[idx] = {'training':b2_emg[7,:,:], 'labels':b2_ref[7,:,:]}\n",
    "    \n",
    "    cond1b1_AllInitDecs_list = [Ws_block1[keys[i]][:, 0, :, :] for i in range(num_participants)]\n",
    "    cond1b2_AllInitDecs_list = [Ws_block2[keys[i]][:, 0, :, :] for i in range(num_participants)]\n",
    "    cond2b1_AllInitDecs_list = [Ws_block1[keys[i]][:, 1, :, :] for i in range(num_participants)]\n",
    "    cond2b2_AllInitDecs_list = [Ws_block2[keys[i]][:, 1, :, :] for i in range(num_participants)]\n",
    "    cond3b1_AllInitDecs_list = [Ws_block1[keys[i]][:, 2, :, :] for i in range(num_participants)]\n",
    "    cond3b2_AllInitDecs_list = [Ws_block2[keys[i]][:, 2, :, :] for i in range(num_participants)]\n",
    "    cond4b1_AllInitDecs_list = [Ws_block1[keys[i]][:, 3, :, :] for i in range(num_participants)]\n",
    "    cond4b2_AllInitDecs_list = [Ws_block2[keys[i]][:, 3, :, :] for i in range(num_participants)]\n",
    "    cond5b1_AllInitDecs_list = [Ws_block1[keys[i]][:, 4, :, :] for i in range(num_participants)]\n",
    "    cond5b2_AllInitDecs_list = [Ws_block2[keys[i]][:, 4, :, :] for i in range(num_participants)]\n",
    "    cond6b1_AllInitDecs_list = [Ws_block1[keys[i]][:, 5, :, :] for i in range(num_participants)]\n",
    "    cond6b2_AllInitDecs_list = [Ws_block2[keys[i]][:, 5, :, :] for i in range(num_participants)]\n",
    "    cond7b1_AllInitDecs_list = [Ws_block1[keys[i]][:, 6, :, :] for i in range(num_participants)]\n",
    "    cond7b2_AllInitDecs_list = [Ws_block2[keys[i]][:, 6, :, :] for i in range(num_participants)]\n",
    "    cond8b1_AllInitDecs_list = [Ws_block1[keys[i]][:, 7, :, :] for i in range(num_participants)]\n",
    "    cond8b2_AllInitDecs_list = [Ws_block2[keys[i]][:, 7, :, :] for i in range(num_participants)]"
   ]
  },
  {
   "cell_type": "markdown",
   "id": "47ea737b",
   "metadata": {},
   "source": [
    "## Block 1 Only"
   ]
  },
  {
   "cell_type": "code",
   "execution_count": null,
   "id": "003ee254",
   "metadata": {},
   "outputs": [],
   "source": [
    "with open('Data\\continuous_full_data_block1.pickle', 'rb') as handle:\n",
    "    #refs_block1, poss_block1, dec_vels_block1, int_vel_block1, emgs_block1, Ws_block1, Hs_block1, alphas_block1, pDs_block1, times_block1, conditions_block1 = pickle.load(handle)\n",
    "    refs_block1, _, _, _, emgs_block1, Ws_block1, _, _, _, _, _ = pickle.load(handle)\n",
    "\n",
    "cond1b1_dict_list = [0]*num_participants\n",
    "cond2b1_dict_list = [0]*num_participants\n",
    "cond3b1_dict_list = [0]*num_participants\n",
    "cond4b1_dict_list = [0]*num_participants\n",
    "cond5b1_dict_list = [0]*num_participants\n",
    "cond6b1_dict_list = [0]*num_participants\n",
    "cond7b1_dict_list = [0]*num_participants\n",
    "cond8b1_dict_list = [0]*num_participants\n",
    "for idx in range(num_participants):\n",
    "    b1_emg = emgs_block1[keys[idx]]\n",
    "    b1_ref = refs_block1[keys[idx]]\n",
    "    cond1b1_dict_list[idx] = {'training':b1_emg[0,:,:], 'labels':b1_ref[0,:,:]}\n",
    "    cond2b1_dict_list[idx] = {'training':b1_emg[1,:,:], 'labels':b1_ref[1,:,:]}\n",
    "    cond3b1_dict_list[idx] = {'training':b1_emg[2,:,:], 'labels':b1_ref[2,:,:]}\n",
    "    cond4b1_dict_list[idx] = {'training':b1_emg[3,:,:], 'labels':b1_ref[3,:,:]}\n",
    "    cond5b1_dict_list[idx] = {'training':b1_emg[4,:,:], 'labels':b1_ref[4,:,:]}\n",
    "    cond6b1_dict_list[idx] = {'training':b1_emg[5,:,:], 'labels':b1_ref[5,:,:]}\n",
    "    cond7b1_dict_list[idx] = {'training':b1_emg[6,:,:], 'labels':b1_ref[6,:,:]}\n",
    "    cond8b1_dict_list[idx] = {'training':b1_emg[7,:,:], 'labels':b1_ref[7,:,:]}\n",
    "    \n",
    "    cond1b1_AllInitDecs_list = [Ws_block1[keys[i]][:, 0, :, :] for i in range(num_participants)]\n",
    "    cond2b1_AllInitDecs_list = [Ws_block1[keys[i]][:, 1, :, :] for i in range(num_participants)]\n",
    "    cond3b1_AllInitDecs_list = [Ws_block1[keys[i]][:, 2, :, :] for i in range(num_participants)]\n",
    "    cond4b1_AllInitDecs_list = [Ws_block1[keys[i]][:, 3, :, :] for i in range(num_participants)]\n",
    "    cond5b1_AllInitDecs_list = [Ws_block1[keys[i]][:, 4, :, :] for i in range(num_participants)]\n",
    "    cond6b1_AllInitDecs_list = [Ws_block1[keys[i]][:, 5, :, :] for i in range(num_participants)]\n",
    "    cond7b1_AllInitDecs_list = [Ws_block1[keys[i]][:, 6, :, :] for i in range(num_participants)]\n",
    "    cond8b1_AllInitDecs_list = [Ws_block1[keys[i]][:, 7, :, :] for i in range(num_participants)]\n"
   ]
  },
  {
   "cell_type": "code",
   "execution_count": null,
   "id": "b918fe9f",
   "metadata": {},
   "outputs": [],
   "source": []
  },
  {
   "cell_type": "code",
   "execution_count": null,
   "id": "2d1261fa",
   "metadata": {},
   "outputs": [],
   "source": []
  },
  {
   "cell_type": "code",
   "execution_count": null,
   "id": "e845aafd",
   "metadata": {},
   "outputs": [],
   "source": []
  }
 ],
 "metadata": {
  "kernelspec": {
   "display_name": "Python 3 (ipykernel)",
   "language": "python",
   "name": "python3"
  },
  "language_info": {
   "codemirror_mode": {
    "name": "ipython",
    "version": 3
   },
   "file_extension": ".py",
   "mimetype": "text/x-python",
   "name": "python",
   "nbconvert_exporter": "python",
   "pygments_lexer": "ipython3",
   "version": "3.9.15"
  }
 },
 "nbformat": 4,
 "nbformat_minor": 5
}
