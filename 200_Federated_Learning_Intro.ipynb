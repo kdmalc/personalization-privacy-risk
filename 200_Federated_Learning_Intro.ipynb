{
 "cells": [
  {
   "cell_type": "markdown",
   "id": "48d39628",
   "metadata": {},
   "source": [
    "__Purpose:__ Introduce Federated Learning, specifically by implementing FedAveraging on our dataset and moving on to more advanced methods.  Start by modifying the Simulations code, worry about (a)synchronicity later.\n",
    "<br>\n",
    "1. The dec matrix is the weights to pass back an forth (I think), although it comes out of SmoothBatch first\n",
    "1. We are assuming we can test on the second half (updates 10-19ish) since learning should be complete by then!\n",
    "1. Scipy.optimize.minimize() runs many iters to fully minimize its cost function.  You can change it to run as many iters as you'd like, although AFAIK you won't know how many it takes to converge.  But this is still a good set up for FL.\n",
    "1. Hmm minimize() is doing BFGS rn and not SGD... not sure if that matters really.  Could probably implement SGD on my own or find it.  BFGS is 2nd order but we don't have a lot of parameters, I don't think.  Plus we can (already have?) solved analytically for the Hessian."
   ]
  },
  {
   "cell_type": "code",
   "execution_count": 1,
   "id": "d2f09a37",
   "metadata": {},
   "outputs": [],
   "source": [
    "import pandas as pd\n",
    "import os\n",
    "import numpy as np\n",
    "#from numpy.matlib import repmat\n",
    "#from matplotlib import pyplot as plt\n",
    "#from scipy.signal import detrend, firwin, freqz, lfilter\n",
    "#from sklearn.model_selection import train_test_split, ShuffleSplit\n",
    "from scipy.optimize import minimize, least_squares\n",
    "import copy\n",
    "from itertools import permutations"
   ]
  },
  {
   "cell_type": "code",
   "execution_count": 2,
   "id": "9f58c69a",
   "metadata": {},
   "outputs": [],
   "source": [
    "from experiment_params import *\n",
    "from simulations import *\n",
    "import time\n",
    "# Do the below if you're in the pytch environment\n",
    "#import pickle5 as pickle\n",
    "import pickle"
   ]
  },
  {
   "cell_type": "markdown",
   "id": "97fda900",
   "metadata": {},
   "source": [
    "## Load Our Data In"
   ]
  },
  {
   "cell_type": "code",
   "execution_count": 3,
   "id": "165598f3",
   "metadata": {},
   "outputs": [
    {
     "data": {
      "text/plain": [
       "''"
      ]
     },
     "execution_count": 3,
     "metadata": {},
     "output_type": "execute_result"
    }
   ],
   "source": [
    "'''\n",
    "t0 = time.time()\n",
    "emg_data_df1 = pd.read_csv(\"Data\\emg_full_data1.csv\")\n",
    "emg_data_df2 = pd.read_csv(\"Data\\emg_full_data2.csv\")\n",
    "emg_data_df = pd.concat((emg_data_df1, emg_data_df2))\n",
    "try:\n",
    "    emg_data_df.drop('Unnamed: 0', axis=1, inplace=True)\n",
    "except:\n",
    "    print(\"NO UNNAMED COLUMN DETECTED!\")\n",
    "t1 = time.time()\n",
    "total = t1-t0  \n",
    "print(total)\n",
    "print(emg_data_df.shape)\n",
    "emg_data_df.head()\n",
    "'''\n",
    "# Just use the emg data directly from the pickle file for now\n",
    ";"
   ]
  },
  {
   "cell_type": "code",
   "execution_count": 4,
   "id": "845b1837",
   "metadata": {},
   "outputs": [
    {
     "data": {
      "text/plain": [
       "''"
      ]
     },
     "execution_count": 4,
     "metadata": {},
     "output_type": "execute_result"
    }
   ],
   "source": [
    "'''\n",
    "t0 = time.time()\n",
    "#envelope_df50 = pd.read_csv(\"Data\\envelope_df50.csv\")\n",
    "envelope_df100 = pd.read_csv(\"Data\\envelope_df100.csv\")\n",
    "#envelope_df150 = pd.read_csv(\"Data\\envelope_df150.csv\")\n",
    "#envelope_df200 = pd.read_csv(\"Data\\envelope_df200.csv\")\n",
    "#envelope_df250 = pd.read_csv(\"Data\\envelope_df250.csv\")\n",
    "#envelope_df300 = pd.read_csv(\"Data\\envelope_df300.csv\")\n",
    "#raw_envs = [envelope_df50, envelope_df100, envelope_df150, envelope_df200, envelope_df250, envelope_df300]\n",
    "#all_envs = [env.drop('Unnamed: 0', axis=1) for env in raw_envs]\n",
    "try:\n",
    "    envelope_df100.drop('Unnamed: 0', axis=1, inplace=True)\n",
    "except:\n",
    "    print(\"NO UNNAMED COLUMN DETECTED!\")\n",
    "t1 = time.time()\n",
    "total = t1-t0  \n",
    "print(total)\n",
    "print(envelope_df100.shape)\n",
    "envelope_df100.head()\n",
    "'''\n",
    "# Just use the emg data directly from the pickle file for now\n",
    ";"
   ]
  },
  {
   "cell_type": "code",
   "execution_count": 5,
   "id": "bbe511db",
   "metadata": {},
   "outputs": [
    {
     "name": "stdout",
     "output_type": "stream",
     "text": [
      "7.234177350997925\n"
     ]
    }
   ],
   "source": [
    "t0 = time.time()\n",
    "\n",
    "with open('Data\\continuous_full_data_block1.pickle', 'rb') as handle:\n",
    "    #refs_block1, poss_block1, dec_vels_block1, int_vel_block1, emgs_block1, Ws_block1, Hs_block1, alphas_block1, pDs_block1, times_block1, conditions_block1 = pickle.load(handle)\n",
    "    refs_block1, _, _, _, emgs_block1, Ws_block1, _, _, _, _, _ = pickle.load(handle)\n",
    "\n",
    "#with open('Data\\continuous_full_data_block2.pickle', 'rb') as handle:\n",
    "    #refs_block2, poss_block2, dec_vels_block2, int_vel_block2, emgs_block2, Ws_block2, Hs_block2, alphas_block2, pDs_block2, times_block2, conditions_block2 = pickle.load(handle)\n",
    "    #refs_block2, _, _, _, emgs_block2, Ws_block2, _, _, _, _, _ = pickle.load(handle)\n",
    "\n",
    "t1 = time.time()\n",
    "total = t1-t0  \n",
    "print(total)"
   ]
  },
  {
   "cell_type": "code",
   "execution_count": 6,
   "id": "25c5ad93",
   "metadata": {},
   "outputs": [
    {
     "data": {
      "text/plain": [
       "(8, 20770, 2, 64)"
      ]
     },
     "execution_count": 6,
     "metadata": {},
     "output_type": "execute_result"
    }
   ],
   "source": [
    "# 8 conditions, 20770 data points (only 19 unique sets!), xy, channels\n",
    "Ws_block1[keys[0]].shape"
   ]
  },
  {
   "cell_type": "code",
   "execution_count": 7,
   "id": "e9af127a",
   "metadata": {},
   "outputs": [
    {
     "data": {
      "text/plain": [
       "array([    0,  1200,  2402,  3604,  4806,  6008,  7210,  8412,  9614,\n",
       "       10816, 12018, 13220, 14422, 15624, 16826, 18028, 19230, 20432,\n",
       "       20769])"
      ]
     },
     "execution_count": 7,
     "metadata": {},
     "output_type": "execute_result"
    }
   ],
   "source": [
    "update_ix"
   ]
  },
  {
   "cell_type": "code",
   "execution_count": 8,
   "id": "a7812773",
   "metadata": {},
   "outputs": [
    {
     "name": "stdout",
     "output_type": "stream",
     "text": [
      "Shape of decoder: (2, 64)\n",
      "\n",
      "Total difference between dec0 and dec1: 0.0\n",
      "E.g., as previously shown, the first two decs are the same\n",
      "\n",
      "Total difference between dec0 and dec2: 3.1981579823181594\n"
     ]
    }
   ],
   "source": [
    "dec_cond0_user1_update0 = Ws_block1[keys[0]][0,0,:,:]\n",
    "dec_cond0_user1_update1 = Ws_block1[keys[0]][0,update_ix[1],:,:]\n",
    "dec_cond0_user1_update2 = Ws_block1[keys[0]][0,update_ix[2],:,:]\n",
    "\n",
    "print(f\"Shape of decoder: {dec_cond0_user1_update0.shape}\")\n",
    "print()\n",
    "print(f\"Total difference between dec0 and dec1: {(dec_cond0_user1_update0 - dec_cond0_user1_update1).sum()}\")\n",
    "print(\"E.g., as previously shown, the first two decs are the same\")\n",
    "print()\n",
    "print(f\"Total difference between dec0 and dec2: {(dec_cond0_user1_update0 - dec_cond0_user1_update2).sum()}\")"
   ]
  },
  {
   "cell_type": "code",
   "execution_count": 9,
   "id": "fd624fdc",
   "metadata": {},
   "outputs": [
    {
     "name": "stdout",
     "output_type": "stream",
     "text": [
      "(8, 20770, 64)\n",
      "(20770, 64)\n"
     ]
    }
   ],
   "source": [
    "#emg_cond0_user1_update0 = emg_data_df.iloc[:64,:].shape\n",
    "\n",
    "# (Condition, datapoints, channels)\n",
    "print(emgs_block1[keys[0]][:,:,:].shape)\n",
    "\n",
    "# Condition 0 of subject 1 (\"0\")\n",
    "print(emgs_block1[keys[0]][0,:,:].shape)"
   ]
  },
  {
   "cell_type": "markdown",
   "id": "9d4e9ae3",
   "metadata": {},
   "source": [
    "## Run One Iteration On Above Data and Check Decoders Are the Same\n",
    "1. Modifying Simulations Code"
   ]
  },
  {
   "cell_type": "code",
   "execution_count": 10,
   "id": "d034aa78",
   "metadata": {},
   "outputs": [
    {
     "name": "stdout",
     "output_type": "stream",
     "text": [
      "(20770, 64)\n",
      "(20770, 2)\n"
     ]
    }
   ],
   "source": [
    "# Just 1 person\n",
    "filtered_signals = emgs_block1[keys[0]][0,:,:]\n",
    "# Read in the reference positions from the pickle file\n",
    "cued_target_position = refs_block1[keys[0]][0,:,:]\n",
    "\n",
    "print(filtered_signals.shape)\n",
    "print(cued_target_position.shape)"
   ]
  },
  {
   "cell_type": "code",
   "execution_count": 59,
   "id": "2cc88fb5",
   "metadata": {},
   "outputs": [],
   "source": [
    "# Previously created random decoder, but we are trying to rerun\n",
    "#D_0 = np.random.rand(2,64)\n",
    "D_0 = Ws_block1[keys[0]][0,0,:,:]\n",
    "total_datapoints = emgs_block1[keys[0]][0,:,:].shape[0]\n",
    "\n",
    "#learning_batch = 8\n",
    "learning_batch = update_ix[1]  # I think this is supposed to be the number of datapoints per update?... why was it only 8 before then? Still don't know where they were getting 60 data points from"
   ]
  },
  {
   "cell_type": "code",
   "execution_count": 62,
   "id": "203958de",
   "metadata": {},
   "outputs": [],
   "source": [
    "alpha = .95 # higher alpha means more old decoder (slower update)\n",
    "alphaF=1e-1\n",
    "alphaD = 1e-1"
   ]
  },
  {
   "cell_type": "markdown",
   "id": "7808d4ac",
   "metadata": {},
   "source": [
    "Assuming I don't need to take all these different funcs into account... should probably ask"
   ]
  },
  {
   "cell_type": "code",
   "execution_count": 63,
   "id": "de312ad2",
   "metadata": {},
   "outputs": [],
   "source": [
    "# Original code for running simulations...\n",
    "# for ix in range(10000):\n",
    "    #accuracy_constant_,D_constant,p_constrained_constant = simulation_constant_intent(D_constant,learning_batch,alpha,alphaF=alphaF,alphaD=alphaD)\n",
    "    #accuracy_constant.extend(accuracy_constant_)\n",
    "    #accuracy_,D,p_constrained = simulation(D,learning_batch,alpha,alphaF=alphaF,alphaD=alphaD)    \n",
    "    #accuracy.extend(accuracy_)\n",
    "    #accuracy_bounded_,D_bounded,p_bounded = simulation_bounded_pos(D_bounded,learning_batch,alpha,alphaF=alphaF,alphaD=alphaD)  \n",
    "    #accuracy_bounded.extend(accuracy_bounded_)\n",
    "    #accuracy_constant_bounded_,D_constant_bounded,p_constant_bounded = simulation_constant_intent_bounded(D_constant_bounded,learning_batch,alpha,alphaF=alphaF,alphaD=alphaD)\n",
    "    #accuracy_constant_bounded.extend(accuracy_constant_bounded_)\n",
    "    \n",
    "# Modified code for running simulations...\n",
    "# Why loop at all right now...\n",
    "#for ix in range(10):\n",
    "    #accuracy_,D,p_constrained = simulation(D,learning_batch,alpha,alphaF=alphaF,alphaD=alphaD)    \n"
   ]
  },
  {
   "cell_type": "code",
   "execution_count": 88,
   "id": "130563dd",
   "metadata": {
    "scrolled": false
   },
   "outputs": [
    {
     "name": "stdout",
     "output_type": "stream",
     "text": [
      "0\n",
      "0\n",
      "1200\n",
      "(64, 1200)\n",
      "(2, 1200)\n",
      "(2, 1200)\n",
      "\n"
     ]
    },
    {
     "name": "stderr",
     "output_type": "stream",
     "text": [
      "C:\\Users\\kdmen\\AppData\\Local\\Temp\\ipykernel_13732\\4179100369.py:86: DeprecationWarning: Use of `minimize` with `x0.ndim != 1` is deprecated. Currently, singleton dimensions will be removed from `x0`, but an error will be raised in SciPy 1.11.0.\n",
      "  out = minimize(lambda D: cost_l2(F,D,H,V), D[-1], method='BFGS', jac = lambda D: gradient_cost_l2(F,D,H,V), options={'disp': display_info})\n"
     ]
    },
    {
     "name": "stdout",
     "output_type": "stream",
     "text": [
      "1\n",
      "1200\n",
      "2402\n",
      "(64, 1202)\n",
      "(2, 1202)\n",
      "(2, 1202)\n",
      "\n",
      "2\n",
      "2402\n",
      "3604\n",
      "(64, 1202)\n",
      "(2, 1202)\n",
      "(2, 1202)\n",
      "\n",
      "3\n",
      "3604\n",
      "4806\n",
      "(64, 1202)\n",
      "(2, 1202)\n",
      "(2, 1202)\n",
      "\n",
      "4\n",
      "4806\n",
      "6008\n",
      "(64, 1202)\n",
      "(2, 1202)\n",
      "(2, 1202)\n",
      "\n",
      "5\n",
      "6008\n",
      "7210\n",
      "(64, 1202)\n",
      "(2, 1202)\n",
      "(2, 1202)\n",
      "\n",
      "6\n",
      "7210\n",
      "8412\n",
      "(64, 1202)\n",
      "(2, 1202)\n",
      "(2, 1202)\n",
      "\n",
      "7\n",
      "8412\n",
      "9614\n",
      "(64, 1202)\n",
      "(2, 1202)\n",
      "(2, 1202)\n",
      "\n",
      "8\n",
      "9614\n",
      "10816\n",
      "(64, 1202)\n",
      "(2, 1202)\n",
      "(2, 1202)\n",
      "\n",
      "9\n",
      "10816\n",
      "12018\n",
      "(64, 1202)\n",
      "(2, 1202)\n",
      "(2, 1202)\n",
      "\n",
      "10\n",
      "12018\n",
      "13220\n",
      "(64, 1202)\n",
      "(2, 1202)\n",
      "(2, 1202)\n",
      "\n",
      "11\n",
      "13220\n",
      "14422\n",
      "(64, 1202)\n",
      "(2, 1202)\n",
      "(2, 1202)\n",
      "\n",
      "12\n",
      "14422\n",
      "15624\n",
      "(64, 1202)\n",
      "(2, 1202)\n",
      "(2, 1202)\n",
      "\n",
      "13\n",
      "15624\n",
      "16826\n",
      "(64, 1202)\n",
      "(2, 1202)\n",
      "(2, 1202)\n",
      "\n",
      "14\n",
      "16826\n",
      "18028\n",
      "(64, 1202)\n",
      "(2, 1202)\n",
      "(2, 1202)\n",
      "\n",
      "15\n",
      "18028\n",
      "19230\n",
      "(64, 1202)\n",
      "(2, 1202)\n",
      "(2, 1202)\n",
      "\n",
      "16\n",
      "19230\n",
      "20432\n",
      "(64, 1202)\n",
      "(2, 1202)\n",
      "(2, 1202)\n",
      "\n",
      "17\n",
      "20432\n",
      "20769\n",
      "(64, 337)\n",
      "(2, 337)\n",
      "(2, 337)\n",
      "\n"
     ]
    }
   ],
   "source": [
    "D = []\n",
    "D_constant = []\n",
    "D_bounded = []\n",
    "D_constant_bounded = []\n",
    "D.append(D_0)\n",
    "D_constant.append(D_0)\n",
    "D_bounded.append(D_0)\n",
    "D_constant_bounded.append(D_0)\n",
    "accuracy = []\n",
    "accuracy_constant = []\n",
    "accuracy_bounded = []\n",
    "accuracy_constant_bounded = []\n",
    "\n",
    "# Added 2 new parameters\n",
    "#def simulation(D,learning_batch,alpha,alphaF=1e-2,alphaD=1e-2,display_info=False,num_iters=False):\n",
    "#D  # Already defined\n",
    "#learning_batch  # Already defined\n",
    "#alpha  # Already defined\n",
    "#alphaF=1e-2  #defined as something else earlier...\n",
    "#alphaD=1e-2  #defined as something else earlier...\n",
    "display_info=True\n",
    "num_iters=False\n",
    "\n",
    "p_classify = []\n",
    "accuracy_temp = []\n",
    "\n",
    "#num_updates = int(np.floor((filtered_signals.shape[0]-1)/learning_batch)) # how many times can we update decoder based on learning batch    \n",
    "num_updates = 19  # This is 19 for us\n",
    "\n",
    "# batches the trials into each of the update batch\n",
    "# Do num_updates-1 because the very last update is only 1 datapoint, the 2nd to last is only 337\n",
    "for ix in range(num_updates-1):\n",
    "    print(ix)\n",
    "    # For less cluttering when debugging\n",
    "    display_info = False\n",
    "    \n",
    "    # Instead of using learning_batch, we should get the same results just using update_ix values\n",
    "    lower_bound = update_ix[ix]\n",
    "    if ix==(num_updates-1):\n",
    "        upper_bound = total_datapoints\n",
    "    else:\n",
    "        upper_bound = update_ix[ix+1]\n",
    "    print(lower_bound)\n",
    "    print(upper_bound)\n",
    "        \n",
    "    #s = np.hstack([x for x in filtered_signals[int(ix*learning_batch+1):int((ix+1)*learning_batch+1),:,:]])# stack s (64 x (60 timepoints x learning batch size))\n",
    "    #p_intended = np.hstack([np.tile(x[:,np.newaxis],60) for x in cued_target_position[int(ix*learning_batch+1):int((ix+1)*learning_batch+1),:]]) # stack p_intended (2 x 60 timepoints x learning batch size)\n",
    "    #v_intended,p_constrained = output_new_decoder(s,D[-1],p_intended)\n",
    "    s = np.transpose(filtered_signals[lower_bound:upper_bound,:])# stack s (64 x (60 timepoints x learning batch size))\n",
    "    p_intended = np.transpose(cued_target_position[lower_bound:upper_bound,:]) # stack p_intended (2 x 60 timepoints x learning batch size)\n",
    "    v_intended,p_constrained = output_new_decoder(s,D[-1],p_intended)\n",
    "    print(s.shape)\n",
    "    print(p_intended.shape)\n",
    "    print(v_intended.shape)\n",
    "    print()\n",
    "\n",
    "    # CLASSIFY CURRENT DECODER ACCURACY\n",
    "    #v_actual = D[-1]@s\n",
    "    #for trial in range(learning_batch):\n",
    "    #    # The 60s are messing things up...\n",
    "    #    # Actually the 60s don't really affect things since they get summed out anyways, its just a window size more or less\n",
    "    #    v_trial = v_actual[:,int(trial*60):int((trial+1)*60)] # velocities for each trials (2,60)\n",
    "    #    p_final = np.sum(v_trial,axis=1)[:,np.newaxis] # final position after integration (2,)\n",
    "    #    # What is this supposed to be? Target_positions was global, p_final is (2,) so I guess just a subset of target_positions?\n",
    "    #    # They didn't do that I don't think tho lol\n",
    "    #    p_classify.append(classify(p_final, p_intended)) \n",
    "\n",
    "    # UPDATE DECODER\n",
    "    u = copy.deepcopy(s) # u is the person's signal s (64 CHANNELS X TIMEPOINTS)\n",
    "    q = copy.deepcopy(v_intended) # use cued positions as velocity vectors for updating decoder should be 2 x num_trials\n",
    "\n",
    "    # emg_windows against intended_targets (trial specific cued target)\n",
    "    F = copy.deepcopy(u[:,:-1]) # note: truncate F for estimate_decoder\n",
    "    V = copy.deepcopy(q)\n",
    "\n",
    "    # initial decoder estimate for gradient descent\n",
    "    # ^ This is their comment\n",
    "    # eg just GD's starting point.  Thus the different between D_0 and D0\n",
    "    # Are they using GD? It looks like BFGS\n",
    "    D0 = np.random.rand(2,64)\n",
    "\n",
    "    # set alphas\n",
    "    H = np.zeros((2,2))\n",
    "    # use scipy minimize for gradient descent and provide pre-computed analytical gradient for speed\n",
    "    if num_iters is False:\n",
    "        #out = minimize(lambda D: cost_l2(F,D,H,V,learning_batch), D0, method='BFGS', jac = lambda D: gradient_cost_l2(F,D,H,V,learning_batch), options={'disp': display_info})\n",
    "        out = minimize(lambda D: cost_l2(F,D,H,V,learning_batch), D[-1], method='BFGS', jac = lambda D: gradient_cost_l2(F,D,H,V,learning_batch), options={'disp': display_info})\n",
    "    #else:\n",
    "    #    out = minimize(lambda D: cost_l2(F,D,H,V,learning_batch), D0, method='BFGS', jac = lambda D: gradient_cost_l2(F,D,H,V,learning_batch), options={'disp': display_info, 'maxiter':num_iters})\n",
    "\n",
    "    # reshape to decoder parameters\n",
    "    W_hat = np.reshape(out.x,(2, 64))\n",
    "\n",
    "    # DO SMOOTHBATCH\n",
    "    W_new = alpha*D[-1] + ((1 - alpha) * W_hat)\n",
    "    D.append(W_new)\n",
    "\n",
    "    # COMPUTE CLASSIFICATION ACURACY \n",
    "    # No randomized... maybe it's just cued_target_positions?\n",
    "    #p_target = (cued_target_position[randomized_integers])[int(ix*learning_batch+1):int((ix+1)*learning_batch+1),:] # obtain target\n",
    "    #p_target = cued_target_position\n",
    "    #accuracy_temp.append(classification_accuracy(p_target,p_classify[-learning_batch:]))\n",
    "\n",
    "p_classify = np.asarray(p_classify)\n",
    "#return accuracy_temp,D,p_constrained"
   ]
  },
  {
   "cell_type": "code",
   "execution_count": 89,
   "id": "bd88e4fc",
   "metadata": {},
   "outputs": [
    {
     "data": {
      "text/plain": [
       "19"
      ]
     },
     "execution_count": 89,
     "metadata": {},
     "output_type": "execute_result"
    }
   ],
   "source": [
    "# Above shows 0-18 (eg 19 decs), but we also have D_0 as the first, thus we have 20 decs\n",
    "len(D)"
   ]
  },
  {
   "cell_type": "code",
   "execution_count": 90,
   "id": "618ee739",
   "metadata": {},
   "outputs": [
    {
     "name": "stdout",
     "output_type": "stream",
     "text": [
      "0.0\n",
      "0.0\n",
      "0.0\n"
     ]
    }
   ],
   "source": [
    "# The inits of each are the same (by definition since that's what I set D_0 to)\n",
    "print((D[0] - Ws_block1[keys[0]][0,update_ix[0],:,:]).sum())\n",
    "\n",
    "# Recall that in cphs data, the first two decoders are the same for some reason\n",
    "print((Ws_block1[keys[0]][0,update_ix[1],:,:] - Ws_block1[keys[0]][0,update_ix[0],:,:]).sum())\n",
    "print((D[0] - Ws_block1[keys[0]][0,update_ix[1],:,:]).sum())"
   ]
  },
  {
   "cell_type": "code",
   "execution_count": 91,
   "id": "5717c6e5",
   "metadata": {},
   "outputs": [
    {
     "name": "stdout",
     "output_type": "stream",
     "text": [
      "3.1571761505342018\n"
     ]
    }
   ],
   "source": [
    "# Thus the first instance where they could concievable have the same dec value is the 3rd dec in Ws_block (AKA index 2)\n",
    "print((D[1] - Ws_block1[keys[0]][0,update_ix[2],:,:]).sum())"
   ]
  },
  {
   "cell_type": "code",
   "execution_count": 92,
   "id": "c8fb1061",
   "metadata": {},
   "outputs": [
    {
     "name": "stdout",
     "output_type": "stream",
     "text": [
      "2.166195400420557\n"
     ]
    }
   ],
   "source": [
    "# Check how different the final decs are, this is all we really care about\n",
    "# Although if the earlier decs are different how could the last ones be the same lol\n",
    "print((D[-1] - Ws_block1[keys[0]][0,update_ix[-1],:,:]).sum())"
   ]
  },
  {
   "cell_type": "code",
   "execution_count": 96,
   "id": "52169558",
   "metadata": {},
   "outputs": [
    {
     "name": "stdout",
     "output_type": "stream",
     "text": [
      "Length of D (sims code): 19\n",
      "Length of Ws_block1 (cphs code): 19\n",
      "\n",
      "Labels;       D (Sims);     Ws (CPHS);     Sim - CPHS\n",
      "Dec1 - Dec0:  -0.04098;      0.00000;        0.00000\n",
      "Dec2 - Dec1:  -0.00028;     -3.19816;       -0.04098\n",
      "Dec3 - Dec2:  -0.09277;      8.21960;        3.15689\n",
      "Dec4 - Dec3:  -0.03609;     -7.00649;       -5.15547\n",
      "Dec5 - Dec4:  -0.15203;      2.21186;        1.81493\n",
      "Dec6 - Dec5:   0.12426;     -3.56196;       -0.54896\n",
      "Dec7 - Dec6:  -0.03436;     10.80750;        3.13727\n",
      "Dec8 - Dec7:  -0.12314;    -12.59955;       -7.70459\n",
      "Dec9 - Dec8:  -0.09960;     11.45546;        4.77182\n",
      "Dec10 - Dec9:  -0.26508;    -12.38370;       -6.78324\n",
      "Dec11 - Dec10:  -0.05799;     -0.43172;        5.33538\n",
      "Dec12 - Dec11:  -0.03650;     -1.10106;        5.70911\n",
      "Dec13 - Dec12:   0.22412;      7.55098;        6.77367\n",
      "Dec14 - Dec13:  -0.21755;      0.16666;       -0.55320\n",
      "Dec15 - Dec14:  -0.06640;     -4.90057;       -0.93742\n",
      "Dec16 - Dec15:  -0.05752;     -0.14916;        3.89675\n",
      "Dec17 - Dec16:   0.04787;      4.29737;        3.98839\n"
     ]
    }
   ],
   "source": [
    "# Differences between consecutive decoders\n",
    "\n",
    "# From this file\n",
    "print(f\"Length of D (sims code): {len(D)}\")\n",
    "print(f\"Length of Ws_block1 (cphs code): {len(update_ix)}\")\n",
    "print()\n",
    "print(\"Labels;       D (Sims);     Ws (CPHS);     Sim - CPHS\")\n",
    "for i in range(len(D)-2):\n",
    "    print(f\"Dec{i+1} - Dec{i}: {(D[i+1] - D[i]).sum():9.5f};    {(Ws_block1[keys[0]][0,update_ix[i+1],:,:] - Ws_block1[keys[0]][0,update_ix[i],:,:]).sum():9.5f};      {(D[i] - Ws_block1[keys[0]][0,update_ix[i],:,:]).sum():9.5f}\")"
   ]
  },
  {
   "cell_type": "markdown",
   "id": "9de1e784",
   "metadata": {},
   "source": [
    "Same as the above but using a random starting point for \"GD\" (I think BGFS actually)\n",
    "> This is how the sims code was originally"
   ]
  },
  {
   "cell_type": "code",
   "execution_count": 85,
   "id": "7abdfbf2",
   "metadata": {},
   "outputs": [
    {
     "name": "stdout",
     "output_type": "stream",
     "text": [
      "0\n",
      "0\n",
      "1200\n",
      "(64, 1200)\n",
      "(2, 1200)\n",
      "(2, 1200)\n",
      "\n",
      "1\n",
      "1200\n",
      "2402\n",
      "(64, 1202)\n",
      "(2, 1202)\n",
      "(2, 1202)\n",
      "\n"
     ]
    },
    {
     "name": "stderr",
     "output_type": "stream",
     "text": [
      "C:\\Users\\kdmen\\AppData\\Local\\Temp\\ipykernel_13732\\2049731228.py:91: DeprecationWarning: Use of `minimize` with `x0.ndim != 1` is deprecated. Currently, singleton dimensions will be removed from `x0`, but an error will be raised in SciPy 1.11.0.\n",
      "  out = minimize(lambda D: cost_l2(F,D,H,V), D0, method='BFGS', jac = lambda D: gradient_cost_l2(F,D,H,V), options={'disp': display_info})\n"
     ]
    },
    {
     "name": "stdout",
     "output_type": "stream",
     "text": [
      "2\n",
      "2402\n",
      "3604\n",
      "(64, 1202)\n",
      "(2, 1202)\n",
      "(2, 1202)\n",
      "\n",
      "3\n",
      "3604\n",
      "4806\n",
      "(64, 1202)\n",
      "(2, 1202)\n",
      "(2, 1202)\n",
      "\n",
      "4\n",
      "4806\n",
      "6008\n",
      "(64, 1202)\n",
      "(2, 1202)\n",
      "(2, 1202)\n",
      "\n",
      "5\n",
      "6008\n",
      "7210\n",
      "(64, 1202)\n",
      "(2, 1202)\n",
      "(2, 1202)\n",
      "\n"
     ]
    },
    {
     "name": "stderr",
     "output_type": "stream",
     "text": [
      "C:\\Users\\kdmen\\AppData\\Local\\Temp\\ipykernel_13732\\2049731228.py:91: DeprecationWarning: Use of `minimize` with `x0.ndim != 1` is deprecated. Currently, singleton dimensions will be removed from `x0`, but an error will be raised in SciPy 1.11.0.\n",
      "  out = minimize(lambda D: cost_l2(F,D,H,V), D0, method='BFGS', jac = lambda D: gradient_cost_l2(F,D,H,V), options={'disp': display_info})\n"
     ]
    },
    {
     "name": "stdout",
     "output_type": "stream",
     "text": [
      "6\n",
      "7210\n",
      "8412\n",
      "(64, 1202)\n",
      "(2, 1202)\n",
      "(2, 1202)\n",
      "\n",
      "7\n",
      "8412\n",
      "9614\n",
      "(64, 1202)\n",
      "(2, 1202)\n",
      "(2, 1202)\n",
      "\n",
      "8\n",
      "9614\n",
      "10816\n",
      "(64, 1202)\n",
      "(2, 1202)\n",
      "(2, 1202)\n",
      "\n",
      "9\n",
      "10816\n",
      "12018\n",
      "(64, 1202)\n",
      "(2, 1202)\n",
      "(2, 1202)\n",
      "\n",
      "10\n",
      "12018\n",
      "13220\n",
      "(64, 1202)\n",
      "(2, 1202)\n",
      "(2, 1202)\n",
      "\n",
      "11\n",
      "13220\n",
      "14422\n",
      "(64, 1202)\n",
      "(2, 1202)\n",
      "(2, 1202)\n",
      "\n",
      "12\n",
      "14422\n",
      "15624\n",
      "(64, 1202)\n",
      "(2, 1202)\n",
      "(2, 1202)\n",
      "\n",
      "13\n",
      "15624\n",
      "16826\n",
      "(64, 1202)\n",
      "(2, 1202)\n",
      "(2, 1202)\n",
      "\n",
      "14\n",
      "16826\n",
      "18028\n",
      "(64, 1202)\n",
      "(2, 1202)\n",
      "(2, 1202)\n",
      "\n",
      "15\n",
      "18028\n",
      "19230\n",
      "(64, 1202)\n",
      "(2, 1202)\n",
      "(2, 1202)\n",
      "\n",
      "16\n",
      "19230\n",
      "20432\n",
      "(64, 1202)\n",
      "(2, 1202)\n",
      "(2, 1202)\n",
      "\n",
      "17\n",
      "20432\n",
      "20769\n",
      "(64, 337)\n",
      "(2, 337)\n",
      "(2, 337)\n",
      "\n",
      "18\n",
      "20769\n",
      "20770\n",
      "(64, 1)\n",
      "(2, 1)\n",
      "(2, 1)\n",
      "\n"
     ]
    }
   ],
   "source": [
    "D = []\n",
    "D_constant = []\n",
    "D_bounded = []\n",
    "D_constant_bounded = []\n",
    "D.append(D_0)\n",
    "D_constant.append(D_0)\n",
    "D_bounded.append(D_0)\n",
    "D_constant_bounded.append(D_0)\n",
    "accuracy = []\n",
    "accuracy_constant = []\n",
    "accuracy_bounded = []\n",
    "accuracy_constant_bounded = []\n",
    "\n",
    "# Added 2 new parameters\n",
    "#def simulation(D,learning_batch,alpha,alphaF=1e-2,alphaD=1e-2,display_info=False,num_iters=False):\n",
    "#D  # Already defined\n",
    "#learning_batch  # Already defined\n",
    "#alpha  # Already defined\n",
    "#alphaF=1e-2  #defined as something else earlier...\n",
    "#alphaD=1e-2  #defined as something else earlier...\n",
    "display_info=True\n",
    "num_iters=False\n",
    "\n",
    "p_classify = []\n",
    "accuracy_temp = []\n",
    "\n",
    "#num_updates = int(np.floor((filtered_signals.shape[0]-1)/learning_batch)) # how many times can we update decoder based on learning batch    \n",
    "num_updates = 19  # This is 19 for us\n",
    "\n",
    "# Nah idk what this is doing so I'm gonna remove it\n",
    "# RANDOMIZE DATASET\n",
    "#randomized_integers = np.random.permutation(range(0,cued_target_position.shape[0]))\n",
    "#filtered_signals_randomized = filtered_signals[randomized_integers]\n",
    "#cued_target_position_randomized = cued_target_position[randomized_integers]\n",
    "\n",
    "# batches the trials into each of the update batch\n",
    "for ix in range(num_updates):\n",
    "    print(ix)\n",
    "    # For less cluttering when debugging\n",
    "    display_info = False\n",
    "    \n",
    "    # Instead of using learning_batch, we should get the same results just using update_ix values\n",
    "    lower_bound = update_ix[ix]\n",
    "    if ix==(num_updates-1):\n",
    "        upper_bound = total_datapoints\n",
    "    else:\n",
    "        upper_bound = update_ix[ix+1]\n",
    "    print(lower_bound)\n",
    "    print(upper_bound)\n",
    "        \n",
    "    #s = np.hstack([x for x in filtered_signals[int(ix*learning_batch+1):int((ix+1)*learning_batch+1),:,:]])# stack s (64 x (60 timepoints x learning batch size))\n",
    "    #p_intended = np.hstack([np.tile(x[:,np.newaxis],60) for x in cued_target_position[int(ix*learning_batch+1):int((ix+1)*learning_batch+1),:]]) # stack p_intended (2 x 60 timepoints x learning batch size)\n",
    "    #v_intended,p_constrained = output_new_decoder(s,D[-1],p_intended)\n",
    "    s = np.transpose(filtered_signals[lower_bound:upper_bound,:])# stack s (64 x (60 timepoints x learning batch size))\n",
    "    p_intended = np.transpose(cued_target_position[lower_bound:upper_bound,:]) # stack p_intended (2 x 60 timepoints x learning batch size)\n",
    "    v_intended,p_constrained = output_new_decoder(s,D[-1],p_intended)\n",
    "    print(s.shape)\n",
    "    print(p_intended.shape)\n",
    "    print(v_intended.shape)\n",
    "    print()\n",
    "\n",
    "    # CLASSIFY CURRENT DECODER ACCURACY\n",
    "    #v_actual = D[-1]@s\n",
    "    #for trial in range(learning_batch):\n",
    "    #    # The 60s are messing things up...\n",
    "    #    # Actually the 60s don't really affect things since they get summed out anyways, its just a window size more or less\n",
    "    #    v_trial = v_actual[:,int(trial*60):int((trial+1)*60)] # velocities for each trials (2,60)\n",
    "    #    p_final = np.sum(v_trial,axis=1)[:,np.newaxis] # final position after integration (2,)\n",
    "    #    # What is this supposed to be? Target_positions was global, p_final is (2,) so I guess just a subset of target_positions?\n",
    "    #    # They didn't do that I don't think tho lol\n",
    "    #    p_classify.append(classify(p_final, p_intended)) \n",
    "\n",
    "    # UPDATE DECODER\n",
    "    u = copy.deepcopy(s) # u is the person's signal s (64 CHANNELS X TIMEPOINTS)\n",
    "    q = copy.deepcopy(v_intended) # use cued positions as velocity vectors for updating decoder should be 2 x num_trials\n",
    "\n",
    "    # emg_windows against intended_targets (trial specific cued target)\n",
    "    F = copy.deepcopy(u[:,:-1]) # note: truncate F for estimate_decoder\n",
    "    V = copy.deepcopy(q)\n",
    "\n",
    "    # initial decoder estimate for gradient descent\n",
    "    # ^ This is their comment\n",
    "    # eg just GD's starting point.  Thus the different between D_0 and D0\n",
    "    # Are they using GD? It looks like BFGS\n",
    "    D0 = np.random.rand(2,64)\n",
    "\n",
    "    # set alphas\n",
    "    H = np.zeros((2,2))\n",
    "    # use scipy minimize for gradient descent and provide pre-computed analytical gradient for speed\n",
    "    if num_iters is False:\n",
    "        out = minimize(lambda D: cost_l2(F,D,H,V,learning_batch), D0, method='BFGS', jac = lambda D: gradient_cost_l2(F,D,H,V,learning_batch), options={'disp': display_info})\n",
    "        #out = minimize(lambda D: cost_l2(F,D,H,V,learning_batch), D[-1], method='BFGS', jac = lambda D: gradient_cost_l2(F,D,H,V,learning_batch), options={'disp': display_info})\n",
    "    #else:\n",
    "    #    out = minimize(lambda D: cost_l2(F,D,H,V,learning_batch), D0, method='BFGS', jac = lambda D: gradient_cost_l2(F,D,H,V,learning_batch), options={'disp': display_info, 'maxiter':num_iters})\n",
    "\n",
    "    # reshape to decoder parameters\n",
    "    W_hat = np.reshape(out.x,(2, 64))\n",
    "\n",
    "    # DO SMOOTHBATCH\n",
    "    W_new = alpha*D[-1] + ((1 - alpha) * W_hat)\n",
    "    D.append(W_new)\n",
    "\n",
    "    # COMPUTE CLASSIFICATION ACURACY \n",
    "    # No randomized... maybe it's just cued_target_positions?\n",
    "    #p_target = (cued_target_position[randomized_integers])[int(ix*learning_batch+1):int((ix+1)*learning_batch+1),:] # obtain target\n",
    "    #p_target = cued_target_position\n",
    "    #accuracy_temp.append(classification_accuracy(p_target,p_classify[-learning_batch:]))\n",
    "\n",
    "p_classify = np.asarray(p_classify)\n",
    "#return accuracy_temp,D,p_constrained"
   ]
  },
  {
   "cell_type": "code",
   "execution_count": null,
   "id": "75ded716",
   "metadata": {},
   "outputs": [],
   "source": []
  },
  {
   "cell_type": "code",
   "execution_count": 86,
   "id": "c4a669e5",
   "metadata": {},
   "outputs": [
    {
     "name": "stdout",
     "output_type": "stream",
     "text": [
      "3.157176150436835\n"
     ]
    }
   ],
   "source": [
    "# Thus the first instance where they could concievable have the same dec value is the 3rd dec in Ws_block (AKA index 2)\n",
    "print((D[1] - Ws_block1[keys[0]][0,update_ix[2],:,:]).sum())"
   ]
  },
  {
   "cell_type": "markdown",
   "id": "d6a06e8d",
   "metadata": {},
   "source": [
    "The above output is 3.157176150436835, whereas it was previously 3.1571761505342018 (using the previous dec as the starting point).  Clearly, very very minimal change"
   ]
  },
  {
   "cell_type": "code",
   "execution_count": null,
   "id": "18bf0f48",
   "metadata": {},
   "outputs": [],
   "source": []
  }
 ],
 "metadata": {
  "kernelspec": {
   "display_name": "Python 3 (ipykernel)",
   "language": "python",
   "name": "python3"
  },
  "language_info": {
   "codemirror_mode": {
    "name": "ipython",
    "version": 3
   },
   "file_extension": ".py",
   "mimetype": "text/x-python",
   "name": "python",
   "nbconvert_exporter": "python",
   "pygments_lexer": "ipython3",
   "version": "3.9.15"
  }
 },
 "nbformat": 4,
 "nbformat_minor": 5
}
