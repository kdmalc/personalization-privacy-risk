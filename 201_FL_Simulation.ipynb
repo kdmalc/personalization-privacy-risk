{
 "cells": [
  {
   "cell_type": "markdown",
   "id": "48d39628",
   "metadata": {},
   "source": [
    "__Purpose:__ Introduce Federated Learning, specifically by implementing FedAveraging on our dataset and moving on to more advanced methods.  Start by modifying the Simulations code, worry about (a)synchronicity later.\n",
    "<br>\n",
    "1. The dec matrix is the weights to pass back an forth (I think), although it comes out of SmoothBatch first\n",
    "1. We are assuming we can test on the second half (updates 10-19ish) since learning should be complete by then!\n",
    "1. Scipy.optimize.minimize() runs many iters to fully minimize its cost function.  You can change it to run as many iters as you'd like, although AFAIK you won't know how many it takes to converge.  But this is still a good set up for FL.\n",
    "1. Hmm minimize() is doing BFGS rn and not SGD... not sure if that matters really.  Could probably implement SGD on my own or find it.  BFGS is 2nd order but we don't have a lot of parameters, I don't think.  Plus we can (already have?) solved analytically for the Hessian."
   ]
  },
  {
   "cell_type": "code",
   "execution_count": 119,
   "id": "d2f09a37",
   "metadata": {},
   "outputs": [],
   "source": [
    "import pandas as pd\n",
    "import os\n",
    "import numpy as np\n",
    "import random\n",
    "#from numpy.matlib import repmat\n",
    "from matplotlib import pyplot as plt\n",
    "#from scipy.signal import detrend, firwin, freqz, lfilter\n",
    "#from sklearn.model_selection import train_test_split, ShuffleSplit\n",
    "from scipy.optimize import minimize, least_squares\n",
    "import copy\n",
    "from itertools import permutations"
   ]
  },
  {
   "cell_type": "code",
   "execution_count": 2,
   "id": "9f58c69a",
   "metadata": {},
   "outputs": [],
   "source": [
    "from experiment_params import *\n",
    "from simulations import *\n",
    "import time\n",
    "# Do the below if you're in the pytch environment\n",
    "#import pickle5 as pickle\n",
    "import pickle"
   ]
  },
  {
   "cell_type": "code",
   "execution_count": 3,
   "id": "b9450bff",
   "metadata": {},
   "outputs": [],
   "source": [
    "path = r'C:\\Users\\kdmen\\Desktop\\Research\\personalization-privacy-risk\\Data'\n",
    "cond0_filename = r'\\cond0_dict_list.p'"
   ]
  },
  {
   "cell_type": "markdown",
   "id": "9634c84f",
   "metadata": {},
   "source": [
    "# Reminder of Conditions Order\n",
    "\n",
    "NOTE: \n",
    "\n",
    "* **CONDITIONS** = array(['D_1', 'D_2', 'D_5', 'D_6', 'D_3', 'D_4', 'D_7','D_8']\n",
    "* **LEARNING RATES:** alpha = 0.25 and 0.75; alpha = 0.25 for D1, D2, D5, D6; alpha = 0.75 for D3, D4, D7, D8\n",
    "* **SMOOTHBATCH:** W_next = alpha*W_old + ((1 - alpha) * W_calc)\n",
    "\n",
    "* **DECODER INIT:** pos for D1 - D4, neg for D5 - D8\n",
    "\n",
    "* **PENALTY TERM:** $\\lambda_E$ = 1e-6 for all, $\\lambda_F$ = 1e-7 for all, $\\lambda_D$ = 1e-3 for 1, 3, 5, 7 and 1e-4 for 2, 4, 6, 8 \n",
    "\n",
    "\n",
    "| DECODER | ALPHA | PENALTY | DEC INIT |\n",
    "| --- | --- | --- | --- |\n",
    "| 1 | 0.25 | 1e-3 | + |\n",
    "| 2 | 0.25 | 1e-4 | + |\n",
    "| 3 | 0.75 | 1e-3 | + |\n",
    "| 4 | 0.75 | 1e-4 | + |\n",
    "| 5 | 0.25 | 1e-3 | - |\n",
    "| 6 | 0.25 | 1e-4 | - |\n",
    "| 7 | 0.75 | 1e-3 | - |\n",
    "| 8 | 0.75 | 1e-4 | - |\n"
   ]
  },
  {
   "cell_type": "markdown",
   "id": "97fda900",
   "metadata": {},
   "source": [
    "## Load Our Data In"
   ]
  },
  {
   "cell_type": "code",
   "execution_count": 77,
   "id": "bbe511db",
   "metadata": {},
   "outputs": [],
   "source": [
    "#t0 = time.time()\n",
    "\n",
    "#with open('Data\\continuous_full_data_block1.pickle', 'rb') as handle:\n",
    "#    #refs_block1, poss_block1, dec_vels_block1, int_vel_block1, emgs_block1, Ws_block1, Hs_block1, alphas_block1, pDs_block1, times_block1, conditions_block1 = pickle.load(handle)\n",
    "#    refs_block1, _, _, _, emgs_block1, Ws_block1, _, _, _, _, _ = pickle.load(handle)\n",
    "\n",
    "#with open('Data\\continuous_full_data_block2.pickle', 'rb') as handle:\n",
    "#    #refs_block2, poss_block2, dec_vels_block2, int_vel_block2, emgs_block2, Ws_block2, Hs_block2, alphas_block2, pDs_block2, times_block2, conditions_block2 = pickle.load(handle)\n",
    "#    #refs_block2, _, _, _, emgs_block2, Ws_block2, _, _, _, _, _ = pickle.load(handle)\n",
    "\n",
    "#t1 = time.time()\n",
    "#total = t1-t0  \n",
    "#print(total)"
   ]
  },
  {
   "cell_type": "code",
   "execution_count": 5,
   "id": "0e867144",
   "metadata": {},
   "outputs": [],
   "source": [
    "#emgs_block1[keys[0]].shape"
   ]
  },
  {
   "cell_type": "code",
   "execution_count": 6,
   "id": "9136b293",
   "metadata": {},
   "outputs": [],
   "source": [
    "#refs_block1[keys[0]].shape"
   ]
  },
  {
   "cell_type": "code",
   "execution_count": 7,
   "id": "6c61fc34",
   "metadata": {},
   "outputs": [
    {
     "data": {
      "text/plain": [
       "0"
      ]
     },
     "execution_count": 7,
     "metadata": {},
     "output_type": "execute_result"
    }
   ],
   "source": [
    "'''\n",
    "list_length = 14\n",
    "cond0_dict_list = [0]*list_length\n",
    "for idx in range(list_length):\n",
    "    cond0_dict_list[idx] = {'training':emgs_block1[keys[idx]][0,:,:], 'labels':refs_block1[keys[idx]][0,:,:]}\n",
    "\n",
    "with open(path+cond0_filename, 'wb') as fp:\n",
    "    pickle.dump(cond0_dict_list, fp, protocol=pickle.HIGHEST_PROTOCOL)\n",
    "'''\n",
    "0"
   ]
  },
  {
   "cell_type": "markdown",
   "id": "43df453f",
   "metadata": {},
   "source": [
    "# Create Federated Set Up"
   ]
  },
  {
   "cell_type": "code",
   "execution_count": 8,
   "id": "57f85b75",
   "metadata": {},
   "outputs": [],
   "source": [
    "# python src/emg_fl_main.py --num_users=14, --model=___, --dataset=___, --num_classes=___, --iid=0)\n",
    "\n",
    "def run_fl_sim(data_path,training_data,labels,epochs=10,num_users=14,C=0.1,local_epochs=10,local_batch_sz=10,lr=0.01,SGD_momentum=0.5,optimizer='sgd',iid=0,unequal=0,stopping_rounds=10,verbose=True,seed=1):\n",
    "    # Other possible parameters\n",
    "    #'num_channels'=64,\n",
    "    #'norm'='batch_norm',    \n",
    "    # Figure out what dataset to use... all EMG data?\n",
    "    # Idk how many classes... we are doing regression...\n",
    "    #parser.add_argument('num_classes', type=int, default=10\n",
    "    # Explanation kept for these\n",
    "    # Our application is probably non-IID?\n",
    "    #parser.add_argument('iid', type=int, default=1,help='Default set to IID. Set to 0 for non-IID.')\n",
    "    # Our splits are currently equal but irl they would not be\n",
    "    #parser.add_argument('unequal', type=int, default=0,\n",
    "    #                    help='whether to use unequal data splits for  \\\n",
    "    #                    non-i.i.d setting (use 0 for equal splits)')\n",
    "    \n",
    "    # Probably need to also pass in alphaF/E/D, maybe D_0?\n",
    "    \n",
    "    \n",
    "    return\n"
   ]
  },
  {
   "cell_type": "code",
   "execution_count": 48,
   "id": "075c96ab",
   "metadata": {},
   "outputs": [],
   "source": [
    "# Different training approaches\n",
    "def train_1gradstep(w, F, D, H, V, learning_batch, alphaF, alphaD):\n",
    "    # Assuming that num_steps is the same as eta so implicitly we call this each time\n",
    "    # ^ That said, there is a difference between calling this func twice and eta equals 2, I think\n",
    "    #w = w - eta*gradient_cost_l2(F, D, H, V, learning_batch, alphaF, alphaD)\n",
    "    out = w - gradient_cost_l2(F, D, H, V, learning_batch, alphaF, alphaD)\n",
    "    #Isn't D just w?\n",
    "    w_new = np.reshape(out.x,(2, 64))\n",
    "    return w_new\n",
    "    \n",
    "def train_1scipyminstep(w, F, D, H, V, learning_batch, alphaF, alphaD, D0, display_info):\n",
    "    out = minimize(lambda D: cost_l2(F,D,H,V,learning_batch,alphaF,alphaD), D0, method='BFGS', jac=lambda D: gradient_cost_l2(F,D,H,V,learning_batch,alphaF,alphaD), options={'disp': display_info, 'maxiter':1})\n",
    "    w_new = np.reshape(out.x,(2, 64))\n",
    "    return w_new"
   ]
  },
  {
   "cell_type": "code",
   "execution_count": 49,
   "id": "ba9acf37",
   "metadata": {},
   "outputs": [],
   "source": [
    "class model_base:\n",
    "    def __init__(self, ID, w, verbose=False):\n",
    "        #self.type # If this isn't even input, does it need to be here? I guess so for the repr function, but it needs to get overwritten/supered\n",
    "        #current_round?\n",
    "        # Client ID number\n",
    "        self.ID = ID\n",
    "        # Linear regression weights AKA the decoder\n",
    "        self.w = w\n",
    "        self.verbose = verbose\n",
    "        \n",
    "    def get_weights(self):\n",
    "        return self.w\n",
    "    \n",
    "    def __repr__(self): \n",
    "        return f\"{self.type} model: {self.ID}\\n{self.type} Round: {self.current_round}\\nTraining Method: {self.method}\""
   ]
  },
  {
   "cell_type": "code",
   "execution_count": 128,
   "id": "aaddf36d",
   "metadata": {},
   "outputs": [],
   "source": [
    "class server:\n",
    "    def __init__(self, ID, all_clients, D0, method='FedAvg', C=0.1, current_round=0, lr=0.25, verbose=False):\n",
    "        # Not input\n",
    "        self.type = 'Server'\n",
    "        self.num_avail_clients = 0\n",
    "        self.available_clients_list = [0]*len(all_clients)\n",
    "        self.num_chosen_clients = 0\n",
    "        self.chosen_clients_lst = [0]*len(all_clients)\n",
    "        # Input\n",
    "        self.ID = ID\n",
    "        self.all_clients = all_clients\n",
    "        self.w = D0\n",
    "        self.w_prev = D0\n",
    "        self.method = method\n",
    "        self.current_round = current_round\n",
    "        # ML Parameters / Conditions\n",
    "        self.lr = lr\n",
    "        self.verbose = verbose\n",
    "        # FL Specific Params\n",
    "        self.C = C\n",
    "        \n",
    "    def __repr__(self): \n",
    "        return f\"{self.type} model: {self.ID}\\n{self.type} Round: {self.current_round}\\nTraining Method: {self.method}\"\n",
    "        \n",
    "    def vanilla_FL_loop(self):        \n",
    "        # Choose fraction C of available clients\n",
    "        self.set_available_clients_list()\n",
    "        self.choose_clients()\n",
    "        # Send those clients the current global model\n",
    "        for my_client in self.chosen_clients_lst:\n",
    "            my_client.pull_update(self.w)\n",
    "        # Let those clients train\n",
    "        for my_client in self.chosen_clients_lst:\n",
    "            # This really ought to be happening in parallel\n",
    "            my_client.execute_training_loop()\n",
    "        # Recieve local models from those clients\n",
    "        ## Right now I just take lr and w separately within agg_local_weights().  Not ideal set up probably\n",
    "        # AGGREGATION\n",
    "        self.agg_local_weights()  # This func sets self.w, eg the new decoder\n",
    "        \n",
    "    def get_weights(self):\n",
    "        return self.w\n",
    "    \n",
    "    def get_num_available_clients(self):\n",
    "        return len(self.available_clients_list)\n",
    "            \n",
    "    def set_available_clients_list(self):\n",
    "        self.num_avail_clients = 0\n",
    "        self.available_clients_list = [0]*len(self.all_clients)\n",
    "        for idx, my_client in enumerate(self.all_clients):\n",
    "            self.num_avail_clients += my_client.get_availability()\n",
    "            if my_client.get_availability():\n",
    "                self.available_clients_list[idx] = my_client\n",
    "    \n",
    "    def choose_clients(self):\n",
    "        # First reset all clients to be not chosen\n",
    "        for my_client in self.all_clients:\n",
    "            my_client.reset_chosen()\n",
    "        # Then check what client are available this round\n",
    "        self.set_available_clients_list()\n",
    "        # Now choose frac C clients from the resulting available clients\n",
    "        if self.num_avail_clients > 0:\n",
    "            self.num_chosen_clients = int(np.ceil(self.num_avail_clients*self.C))\n",
    "            # Right now it chooses 2 at random: 14*.1=1.4 --> 2\n",
    "            #print(f\"Choosing {self.num_chosen_clients} clients for computation\")\n",
    "            self.chosen_clients_lst = random.sample(copy.deepcopy(self.available_clients_list), len(self.available_clients_list))[:self.num_chosen_clients]\n",
    "            for my_client in self.chosen_clients_lst:\n",
    "                my_client.you_have_been_chosen()\n",
    "        else:\n",
    "            print(f\"ERROR: Number of available clients must be greater than 0: {self.num_avail_clients}\")\n",
    "    \n",
    "    def agg_local_weights(self):\n",
    "        # Update global round number\n",
    "        self.current_round += 1\n",
    "        \n",
    "        # From McMahan 2017 (vanilla FL)\n",
    "        # Aggregate learning rates from each local model\n",
    "        # When aggregating irl it would be better to query each client for weights and lr at the same time\n",
    "        summed_lr = 0\n",
    "        for my_client in self.chosen_clients_lst:\n",
    "            summed_lr += my_client.get_learning_rate()\n",
    "        # Aggregate local model weights, weighted by normalized local learning rate\n",
    "        aggr_w = 0\n",
    "        for my_client in self.chosen_clients_lst:\n",
    "            aggr_w += (my_client.get_learning_rate()/summed_lr) * my_client.get_weights()\n",
    "        # Loop is complete, new global decoder is self.w\n",
    "        self.w = aggr_w\n",
    "        # ^ Is this just gonna grow to infinity since all the values are positive?\n",
    "        # E.g. it seems like more clients just means bigger dec?\n",
    "        # Still not clear how the global decoder will be able to adapt to different channels for different orientations\n"
   ]
  },
  {
   "cell_type": "code",
   "execution_count": 129,
   "id": "920b4bfa",
   "metadata": {},
   "outputs": [],
   "source": [
    "class client:\n",
    "    def __init__(self, ID, local_data, method, availability, num_steps=1, delay_scaling=5, random_delays=False, download_delay=1, upload_delay=1, current_round=0, lr=0.25, alphaF=1e-7, alphaD=1e-3, verbose=False):\n",
    "        # NOT INPUT\n",
    "        self.type = 'Client'\n",
    "        self.chosen_status = 0\n",
    "        #self.num_expected_trials = 100\n",
    "        #self.local_error_log = [0]*self.num_expected_trials\n",
    "        #self.global_error_log = [0]*self.num_expected_trials\n",
    "        self.local_error_log = []\n",
    "        self.global_error_log = []\n",
    "        # Sentinel Values\n",
    "        self.F = None\n",
    "        self.V = None\n",
    "        self.D = None\n",
    "        self.H = np.zeros((2,2))\n",
    "        self.learning_batch = None\n",
    "        # Hard coded attributes\n",
    "        # THESE SHOULD NOT CHANGE, SHARED FOR THE ENTIRE CLASS\n",
    "        num_updates = 19\n",
    "        starting_update = 10\n",
    "        #self.local_update = starting_update  # Never used this anywhere...\n",
    "        update_ix = [0,  1200,  2402,  3604,  4806,  6008,  7210,  8412,  9614, 10816, 12018, 13220, 14422, 15624, 16826, 18028, 19230, 20432, 20769]\n",
    "        # INPUT\n",
    "        # Client ID number\n",
    "        self.ID = ID\n",
    "        # Local dataset\n",
    "        self.training_data = local_data['training']\n",
    "        self.labels = local_data['labels']\n",
    "        # Linear regression weights AKA the decoder\n",
    "        self.w = np.zeros((2,64))\n",
    "        self.w_prev = np.zeros((2,64))\n",
    "        # Which training algorithm to use\n",
    "        self.method = method\n",
    "        # Availability for training\n",
    "        self.availability = availability\n",
    "        # Number of gradient steps to take when training (eg amount of local computation)\n",
    "        self.num_steps = num_steps\n",
    "        # Boolean setting whether or not up/download delays should be random or predefined\n",
    "        self.random_delays = random_delays\n",
    "        # Scaling from random [0,1] to number of seconds\n",
    "        self.delay_scaling = delay_scaling\n",
    "        # Set the delay times\n",
    "        if self.random_delays: \n",
    "            self.download_delay = random.random()*self.delay_scaling\n",
    "            self.upload_delay = random.random()*self.delay_scaling\n",
    "        else:\n",
    "            self.download_delay = download_delay\n",
    "            self.upload_delay = upload_delay\n",
    "        # Local round number (for asynch FL)\n",
    "        self.current_round = current_round + starting_update #################################### For co-adaptivity\n",
    "        # ML Parameters / Conditions\n",
    "        self.lr = lr\n",
    "        self.alphaF = alphaF\n",
    "        self.alphaD = alphaD\n",
    "        self.verbose = verbose\n",
    "        \n",
    "        #eta, F, D, H, V, learning_batch, D0\n",
    "        # Not sure if I need to define FDHV here, they get made with self later\n",
    "        \n",
    "    def __repr__(self): \n",
    "        return f\"{self.type}{self.ID}\"\n",
    "    \n",
    "    def display_info(self): \n",
    "        return f\"{self.type} model: {self.ID}\\nCurrent Round: {self.current_round}\\nTraining Method: {self.method}\"\n",
    "    \n",
    "    def execute_training_loop(self):\n",
    "        self.simulate_data_stream()\n",
    "        self.train_model()\n",
    "        self.eval_local_model()\n",
    "        self.eval_global_model()\n",
    "        #self.send_update()  # Should this be contained in the loop or no\n",
    "    \n",
    "    def simulate_delay(self, incoming):\n",
    "        '''\n",
    "        Inputs:\n",
    "            incoming: [0, 1] --> [upload, download]\n",
    "            \n",
    "        Purpose:\n",
    "            Simulate the random delay associated with ___\n",
    "        '''\n",
    "        \n",
    "        if incoming:\n",
    "            time.sleep(self.download_delay+random.random())\n",
    "        else:\n",
    "            time.sleep(self.upload_delay+random.random())\n",
    "            \n",
    "    def simulate_data_stream(self):\n",
    "        lower_bound = update_ix[self.current_round-1]\n",
    "        upper_bound = update_ix[self.current_round]\n",
    "        self.learning_batch = upper_bound - lower_bound\n",
    "        \n",
    "        ####################################################################################################\n",
    "        # FIX THIS BASED ON NB200\n",
    "        s = np.transpose(self.training_data[lower_bound:upper_bound,:])\n",
    "        v_actual = self.w@s\n",
    "        dt=1/60\n",
    "        p_actual = np.sum(v_actual, axis=1)*dt  # dt=1/60\n",
    "        p_actual = np.reshape(p_actual, (p_actual.shape[0], 1))\n",
    "        p_reference = np.transpose(self.labels[lower_bound:upper_bound,:])\n",
    "        \n",
    "        self.F = s[:,:-1] # note: truncate F for estimate_decoder\n",
    "        self.V = (p_reference - p_actual)*dt\n",
    "        self.D = self.w\n",
    "        self.H = np.zeros((2,2))\n",
    "        ####################################################################################################\n",
    "    \n",
    "    def train_model(self):\n",
    "        # Set the w_prev equal to the current w:\n",
    "        self.w_prev = self.w  # Do I need to make a deepcopy here...\n",
    "        # Overwrite local model with the new global model\n",
    "        self.w = self.global_model\n",
    "        \n",
    "        # Pass in self.w twice for now since D=self.w... could probably consolidate but make sure it works first\n",
    "        for i in range(self.num_steps):\n",
    "            if self.method==1:\n",
    "                self.w = train_1gradstep(self.w, self.F, self.w, self.H, self.V, self.learning_batch, self.alphaF, self.alphaD)\n",
    "            elif self.method==2:\n",
    "                D0 = np.random.rand(2,64)\n",
    "                self.w = train_1scipyminstep(self.w, self.F, self.w, self.H, self.V, self.learning_batch, self.alphaF, self.alphaD, D0, self.verbose)\n",
    "            else:\n",
    "                print(\"Unrecognized method\")\n",
    "                \n",
    "        # Do SmoothBatch\n",
    "        #W_new = alpha*D[-1] + ((1 - alpha) * W_hat)\n",
    "        self.w = self.lr*self.w + ((1 - self.lr) * self.w_prev)\n",
    "    \n",
    "    def pull_update(self, new_model):\n",
    "        #simulate_delay(incoming=True)\n",
    "        self.global_model = new_model\n",
    "        # Update the local round number to reflect the new data\n",
    "        # I don't think it matters if the update happens on up/download, as long as everyone is consistent\n",
    "        self.current_round += 1\n",
    "    \n",
    "    def get_weights(self):\n",
    "        #simulate_delay(incoming=False)\n",
    "        return self.w\n",
    "    \n",
    "    def you_have_been_chosen(self):\n",
    "        self.chosen_status = 1\n",
    "    \n",
    "    def set_availability(self, input_avail):\n",
    "        self.availability = input_avail\n",
    "    \n",
    "    def get_availability(self):\n",
    "        return self.availability\n",
    "    \n",
    "    def get_chosen_status(self):\n",
    "        return self.chosen_status\n",
    "    \n",
    "    def reset_chosen(self):\n",
    "        self.chosen_status = 0\n",
    "        \n",
    "    def get_learning_rate(self):\n",
    "        return self.lr\n",
    "\n",
    "    def eval_local_model(self):\n",
    "        #print(\"Local Evaluation\")\n",
    "        out = cost_l2(self.F, self.w, self.H, self.V, self.learning_batch, self.alphaF, self.alphaD)\n",
    "        #print(out)\n",
    "        self.local_error_log.append(out)\n",
    "        #self.local_error_log[self.current_round] = out\n",
    "        return out\n",
    "    \n",
    "    def eval_global_model(self):\n",
    "        self.global_error_log.append(cost_l2(self.F, self.global_model, self.H, self.V, self.learning_batch, self.alphaF, self.alphaD))\n",
    "        return cost_l2(self.F, self.global_model, self.H, self.V, self.learning_batch, self.alphaF, self.alphaD)\n",
    "\n",
    "        \n",
    "    def test_inference(self):\n",
    "        # Essentially, choose a random(?) section of data and compare how dec performs\n",
    "        # Is this really any different from the eval funcs?\n",
    "        print(\"Testing Functionality Not Written Yet\")\n",
    "        pass"
   ]
  },
  {
   "cell_type": "code",
   "execution_count": 130,
   "id": "6b2b6fb7",
   "metadata": {},
   "outputs": [],
   "source": [
    "epochs=10\n",
    "num_users=14\n",
    "C=0.1\n",
    "local_epochs=10\n",
    "local_batch_sz=10\n",
    "lr=0.01\n",
    "SGD_momentum=0.5\n",
    "optimizer='sgd'\n",
    "iid=0\n",
    "unequal=0\n",
    "stopping_rounds=10\n",
    "verbose=True\n",
    "seed=1\n",
    "\n",
    "with open(path+cond0_filename, 'rb') as fp:\n",
    "    cond0_dict_list = pickle.load(fp)\n",
    "\n",
    "# There has to be a better way to do this lol\n",
    "user_c0_database = [client(i, cond0_dict_list[i], 2, 1, delay_scaling=0) for i in range(14)]"
   ]
  },
  {
   "cell_type": "code",
   "execution_count": 131,
   "id": "3df819e4",
   "metadata": {},
   "outputs": [],
   "source": [
    "D_0 = np.random.rand(2,64)\n",
    "#ID, all_clients, D0\n",
    "global_model = server(0, user_c0_database, D_0)"
   ]
  },
  {
   "cell_type": "code",
   "execution_count": 132,
   "id": "d2429ca8",
   "metadata": {},
   "outputs": [
    {
     "name": "stderr",
     "output_type": "stream",
     "text": [
      "C:\\Users\\kdmen\\AppData\\Local\\Temp\\ipykernel_6796\\2519005738.py:12: DeprecationWarning: Use of `minimize` with `x0.ndim != 1` is deprecated. Currently, singleton dimensions will be removed from `x0`, but an error will be raised in SciPy 1.11.0.\n",
      "  out = minimize(lambda D: cost_l2(F,D,H,V,learning_batch,alphaF,alphaD), D0, method='BFGS', jac=lambda D: gradient_cost_l2(F,D,H,V,learning_batch,alphaF,alphaD), options={'disp': display_info, 'maxiter':1})\n"
     ]
    }
   ],
   "source": [
    "global_model.vanilla_FL_loop()"
   ]
  },
  {
   "cell_type": "code",
   "execution_count": 133,
   "id": "3b97be1b",
   "metadata": {},
   "outputs": [],
   "source": [
    "# Not working right now...\n",
    "#for user in user_c0_database:\n",
    "#    print(user)\n",
    "#    print(user.local_error_log)\n",
    "#    print(user.global_error_log)\n",
    "#    print()"
   ]
  },
  {
   "cell_type": "code",
   "execution_count": 134,
   "id": "1f4923d7",
   "metadata": {},
   "outputs": [
    {
     "name": "stdout",
     "output_type": "stream",
     "text": [
      "Client11\n",
      "Local Cost: 19965.60942340054\n",
      "Global Cost: 554307.7041727786\n",
      "\n",
      "Client7\n",
      "Local Cost: 27861.30915410874\n",
      "Global Cost: 589996.6916995301\n",
      "\n",
      "------------------------------------------------------\n"
     ]
    }
   ],
   "source": [
    "for my_client in global_model.chosen_clients_lst:\n",
    "    print(my_client)\n",
    "    print(f\"Local Cost: {my_client.eval_local_model()}\")\n",
    "    print(f\"Global Cost: {my_client.eval_global_model()}\")\n",
    "    print()\n",
    "print(\"------------------------------------------------------\")"
   ]
  },
  {
   "cell_type": "markdown",
   "id": "cd0161a4",
   "metadata": {},
   "source": [
    "Now set up a very basic loop for now just to run a few iters and let most of the clients train, see how the models perform"
   ]
  },
  {
   "cell_type": "code",
   "execution_count": 137,
   "id": "0002a919",
   "metadata": {
    "scrolled": false
   },
   "outputs": [
    {
     "name": "stdout",
     "output_type": "stream",
     "text": [
      "1 of 20\n",
      "2 of 20\n",
      "3 of 20\n",
      "4 of 20\n"
     ]
    },
    {
     "name": "stderr",
     "output_type": "stream",
     "text": [
      "C:\\Users\\kdmen\\AppData\\Local\\Temp\\ipykernel_6796\\2519005738.py:12: DeprecationWarning: Use of `minimize` with `x0.ndim != 1` is deprecated. Currently, singleton dimensions will be removed from `x0`, but an error will be raised in SciPy 1.11.0.\n",
      "  out = minimize(lambda D: cost_l2(F,D,H,V,learning_batch,alphaF,alphaD), D0, method='BFGS', jac=lambda D: gradient_cost_l2(F,D,H,V,learning_batch,alphaF,alphaD), options={'disp': display_info, 'maxiter':1})\n"
     ]
    },
    {
     "name": "stdout",
     "output_type": "stream",
     "text": [
      "5 of 20\n",
      "6 of 20\n",
      "7 of 20\n",
      "8 of 20\n",
      "9 of 20\n",
      "10 of 20\n",
      "11 of 20\n",
      "12 of 20\n",
      "13 of 20\n",
      "14 of 20\n",
      "15 of 20\n",
      "16 of 20\n",
      "17 of 20\n",
      "18 of 20\n",
      "19 of 20\n",
      "20 of 20\n"
     ]
    }
   ],
   "source": [
    "poor_mans_local_model_log = []\n",
    "poor_mans_global_model_log = []\n",
    "\n",
    "small_loop_iters = 20\n",
    "j=0\n",
    "for i in range(small_loop_iters):\n",
    "    print(f\"{i+1} of {small_loop_iters}\")\n",
    "    global_model.vanilla_FL_loop()\n",
    "    current_local_dict = dict()  #{0: [], 1:[]}\n",
    "    current_global_dict = dict()  #{0: [], 1:[]}\n",
    "    for my_client in global_model.chosen_clients_lst:\n",
    "        current_local_dict[my_client.ID] = my_client.eval_local_model()\n",
    "        current_global_dict[my_client.ID] = my_client.eval_global_model()\n",
    "    poor_mans_local_model_log.append(current_local_dict)\n",
    "    poor_mans_global_model_log.append(current_global_dict)"
   ]
  },
  {
   "cell_type": "code",
   "execution_count": 142,
   "id": "f61a0e73",
   "metadata": {},
   "outputs": [],
   "source": [
    "id2color = {0:'lightcoral', 1:'maroon', 2:'chocolate', 3:'darkorange', 4:'gold', 5:'olive', 6:'olivedrab', 7:'lawngreen', 8:'aquamarine', 9:'deepskeyblue', 10:'steelblue', 11:'violet', 12:'darkorchid', 13:'deeppink'}"
   ]
  },
  {
   "cell_type": "markdown",
   "id": "9f2fb176",
   "metadata": {},
   "source": [
    "## LOCAL"
   ]
  },
  {
   "cell_type": "code",
   "execution_count": 143,
   "id": "7b7629a9",
   "metadata": {},
   "outputs": [
    {
     "data": {
      "image/png": "[encoded data removed]",
      "text/plain": [
       "<Figure size 640x480 with 1 Axes>"
      ]
     },
     "metadata": {},
     "output_type": "display_data"
    }
   ],
   "source": [
    "for i in range(small_loop_iters):\n",
    "    keys = poor_mans_local_model_log[i].keys()\n",
    "    for key in keys:\n",
    "        plt.scatter(i, poor_mans_local_model_log[i][key], color=id2color[key])"
   ]
  },
  {
   "cell_type": "code",
   "execution_count": 149,
   "id": "8d38ea49",
   "metadata": {},
   "outputs": [
    {
     "data": {
      "image/png": "[encoded data removed]",
      "text/plain": [
       "<Figure size 640x480 with 1 Axes>"
      ]
     },
     "metadata": {},
     "output_type": "display_data"
    }
   ],
   "source": [
    "for i in range(small_loop_iters):\n",
    "    keys = poor_mans_local_model_log[i].keys()\n",
    "    for key in keys:\n",
    "        plt.scatter(i, poor_mans_local_model_log[i][key], color=id2color[key])\n",
    "    \n",
    "plt.ylabel('Cost L2')\n",
    "plt.xlabel('Iteration Number')\n",
    "plt.title('Local Cost Eval As a Function of Iteration')\n",
    "plt.xticks(np.arange(0, 21, 1))\n",
    "plt.ylim(0, 70000)\n",
    "plt.show()"
   ]
  },
  {
   "cell_type": "markdown",
   "id": "2ceda9aa",
   "metadata": {},
   "source": [
    "## GLOBAL"
   ]
  },
  {
   "cell_type": "code",
   "execution_count": 150,
   "id": "2df00ed4",
   "metadata": {},
   "outputs": [
    {
     "data": {
      "image/png": "[encoded data removed]",
      "text/plain": [
       "<Figure size 640x480 with 1 Axes>"
      ]
     },
     "metadata": {},
     "output_type": "display_data"
    }
   ],
   "source": [
    "for i in range(small_loop_iters):\n",
    "    keys = poor_mans_global_model_log[i].keys()\n",
    "    for key in keys:\n",
    "        plt.scatter(i, poor_mans_global_model_log[i][key], color=id2color[key])"
   ]
  },
  {
   "cell_type": "code",
   "execution_count": 152,
   "id": "b1afefe3",
   "metadata": {},
   "outputs": [
    {
     "data": {
      "image/png": "[encoded data removed]",
      "text/plain": [
       "<Figure size 640x480 with 1 Axes>"
      ]
     },
     "metadata": {},
     "output_type": "display_data"
    }
   ],
   "source": [
    "for i in range(small_loop_iters):\n",
    "    keys = poor_mans_global_model_log[i].keys()\n",
    "    for key in keys:\n",
    "        plt.scatter(i, poor_mans_global_model_log[i][key], color=id2color[key])\n",
    "    \n",
    "plt.ylabel('Cost L2')\n",
    "plt.xlabel('Iteration Number')\n",
    "plt.title('Local Cost Eval As a Function of Iteration')\n",
    "plt.xticks(np.arange(0, 21, 1))\n",
    "plt.ylim(0, 80000)\n",
    "plt.show()"
   ]
  },
  {
   "cell_type": "code",
   "execution_count": null,
   "id": "ee7d11c8",
   "metadata": {},
   "outputs": [],
   "source": []
  },
  {
   "cell_type": "code",
   "execution_count": null,
   "id": "0f52b4b5",
   "metadata": {},
   "outputs": [],
   "source": []
  },
  {
   "cell_type": "code",
   "execution_count": null,
   "id": "fd33f420",
   "metadata": {},
   "outputs": [],
   "source": []
  },
  {
   "cell_type": "code",
   "execution_count": null,
   "id": "cc684ad5",
   "metadata": {},
   "outputs": [],
   "source": []
  }
 ],
 "metadata": {
  "kernelspec": {
   "display_name": "Python 3 (ipykernel)",
   "language": "python",
   "name": "python3"
  },
  "language_info": {
   "codemirror_mode": {
    "name": "ipython",
    "version": 3
   },
   "file_extension": ".py",
   "mimetype": "text/x-python",
   "name": "python",
   "nbconvert_exporter": "python",
   "pygments_lexer": "ipython3",
   "version": "3.9.15"
  }
 },
 "nbformat": 4,
 "nbformat_minor": 5
}
