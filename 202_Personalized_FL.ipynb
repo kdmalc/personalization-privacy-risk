{
 "cells": [
  {
   "cell_type": "markdown",
   "id": "48d39628",
   "metadata": {},
   "source": [
    "__Purpose:__ Introduce Personalized Federated Learning, specifically by implementing APFL on our dataset and then trying other methods.\n",
    "<br>\n",
    "1. We are still assuming we can test on the second half (updates 10-19ish) since (human/co-adaptive) learning should be complete by then!  For reasons shown in earlier NBs"
   ]
  },
  {
   "cell_type": "code",
   "execution_count": 25,
   "id": "d2f09a37",
   "metadata": {},
   "outputs": [],
   "source": [
    "import pandas as pd\n",
    "import os\n",
    "import numpy as np\n",
    "import random\n",
    "from matplotlib import pyplot as plt\n",
    "from scipy.optimize import minimize\n",
    "import copy\n",
    "\n",
    "from experiment_params import *\n",
    "from cost_funcs import *\n",
    "from fl_sim_classes import *\n",
    "import time\n",
    "import pickle\n",
    "from sklearn.decomposition import PCA"
   ]
  },
  {
   "cell_type": "code",
   "execution_count": 2,
   "id": "b9450bff",
   "metadata": {},
   "outputs": [],
   "source": [
    "path = r'C:\\Users\\kdmen\\Desktop\\Research\\personalization-privacy-risk\\Data'\n",
    "cond0_filename = r'\\cond0_dict_list.p'\n",
    "all_decs_init_filename = r'\\all_decs_init.p'\n",
    "nofl_decs_filename = r'\\nofl_decs.p'\n",
    "id2color = {0:'lightcoral', 1:'maroon', 2:'chocolate', 3:'darkorange', 4:'gold', 5:'olive', 6:'olivedrab', \n",
    "            7:'lawngreen', 8:'aquamarine', 9:'deepskyblue', 10:'steelblue', 11:'violet', 12:'darkorchid', 13:'deeppink'}\n",
    "implemented_client_training_methods = ['EtaGradStep', 'EtaScipyMinStep', 'FullScipyMinStep']\n",
    "implement_these_methods_next = ['APFL', 'AFL', 'PersA_FL_MAML', 'PersA_FL_ME', 'PFA']\n",
    "num_participants = 14\n",
    "\n",
    "# For exclusion when plotting later on\n",
    "bad_nodes = [1,3,13]\n",
    "\n",
    "with open(path+cond0_filename, 'rb') as fp:\n",
    "    cond0_training_and_labels_lst = pickle.load(fp)\n",
    "\n",
    "D_0_7 = np.random.rand(2,7)"
   ]
  },
  {
   "cell_type": "markdown",
   "id": "76eefe71",
   "metadata": {},
   "source": [
    "# Testing APFL"
   ]
  },
  {
   "cell_type": "markdown",
   "id": "8ed36785",
   "metadata": {},
   "source": [
    "Testing the APFL Implementation\n",
    "> Why does the client and global server need num_steps... is it not just set by the server?"
   ]
  },
  {
   "cell_type": "markdown",
   "id": "10f75f84",
   "metadata": {},
   "source": [
    "Dynamic learning rate, adaptive off; USING REAL HESSIAN"
   ]
  },
  {
   "cell_type": "code",
   "execution_count": 3,
   "id": "aefb6278",
   "metadata": {},
   "outputs": [
    {
     "name": "stdout",
     "output_type": "stream",
     "text": [
      "Round 0 of 250\n",
      "Client1: Recalculating the Hessian for new update 10!\n",
      "Client4: Recalculating the Hessian for new update 10!\n",
      "Round 1 of 250\n",
      "Round 2 of 250\n",
      "Round 3 of 250\n",
      "Round 4 of 250\n",
      "Round 5 of 250\n",
      "Round 6 of 250\n",
      "Round 7 of 250\n",
      "Round 8 of 250\n",
      "Round 9 of 250\n",
      "Round 10 of 250\n",
      "Client2: Recalculating the Hessian for new update 10!\n",
      "Round 11 of 250\n",
      "Round 12 of 250\n",
      "Round 13 of 250\n",
      "Round 14 of 250\n",
      "Round 15 of 250\n",
      "Round 16 of 250\n",
      "Round 17 of 250\n",
      "Round 18 of 250\n",
      "Round 19 of 250\n",
      "Round 20 of 250\n",
      "Client8: Recalculating the Hessian for new update 10!\n",
      "Client11: Recalculating the Hessian for new update 10!\n",
      "Round 21 of 250\n",
      "Round 22 of 250\n",
      "Round 23 of 250\n",
      "Round 24 of 250\n",
      "Round 25 of 250\n",
      "Round 26 of 250\n",
      "Round 27 of 250\n",
      "Round 28 of 250\n",
      "Round 29 of 250\n",
      "Round 30 of 250\n",
      "Client7: Recalculating the Hessian for new update 10!\n",
      "Round 31 of 250\n",
      "Round 32 of 250\n",
      "Round 33 of 250\n",
      "Round 34 of 250\n",
      "Round 35 of 250\n",
      "Round 36 of 250\n",
      "Round 37 of 250\n",
      "Round 38 of 250\n",
      "Round 39 of 250\n",
      "Round 40 of 250\n",
      "Client9: Recalculating the Hessian for new update 10!\n",
      "Client10: Recalculating the Hessian for new update 10!\n",
      "Round 41 of 250\n",
      "Round 42 of 250\n",
      "Round 43 of 250\n",
      "Round 44 of 250\n",
      "Round 45 of 250\n",
      "Round 46 of 250\n",
      "Round 47 of 250\n",
      "Round 48 of 250\n",
      "Round 49 of 250\n",
      "Round 50 of 250\n",
      "Client0: Recalculating the Hessian for new update 10!\n",
      "Round 51 of 250\n",
      "Round 52 of 250\n",
      "Round 53 of 250\n",
      "Round 54 of 250\n",
      "Round 55 of 250\n",
      "Round 56 of 250\n",
      "Round 57 of 250\n",
      "Round 58 of 250\n",
      "Round 59 of 250\n",
      "Round 60 of 250\n",
      "Client12: Recalculating the Hessian for new update 10!\n",
      "Round 61 of 250\n",
      "Round 62 of 250\n",
      "Round 63 of 250\n",
      "Round 64 of 250\n",
      "Round 65 of 250\n",
      "Round 66 of 250\n",
      "Round 67 of 250\n",
      "Round 68 of 250\n",
      "Round 69 of 250\n",
      "Round 70 of 250\n",
      "Round 71 of 250\n",
      "Round 72 of 250\n",
      "Round 73 of 250\n",
      "Round 74 of 250\n",
      "Round 75 of 250\n",
      "Round 76 of 250\n",
      "Round 77 of 250\n",
      "Round 78 of 250\n",
      "Round 79 of 250\n",
      "Round 80 of 250\n",
      "Round 81 of 250\n",
      "Round 82 of 250\n",
      "Round 83 of 250\n",
      "Round 84 of 250\n",
      "Round 85 of 250\n",
      "Round 86 of 250\n",
      "Round 87 of 250\n",
      "Round 88 of 250\n",
      "Round 89 of 250\n",
      "Round 90 of 250\n",
      "Client6: Recalculating the Hessian for new update 10!\n",
      "Round 91 of 250\n",
      "Round 92 of 250\n",
      "Round 93 of 250\n",
      "Round 94 of 250\n",
      "Round 95 of 250\n",
      "Round 96 of 250\n",
      "Round 97 of 250\n",
      "Round 98 of 250\n",
      "Round 99 of 250\n",
      "Round 100 of 250\n",
      "Round 101 of 250\n",
      "Round 102 of 250\n",
      "Round 103 of 250\n",
      "Round 104 of 250\n",
      "Round 105 of 250\n",
      "Round 106 of 250\n",
      "Round 107 of 250\n",
      "Round 108 of 250\n",
      "Round 109 of 250\n",
      "Round 110 of 250\n",
      "Client5: Recalculating the Hessian for new update 10!\n",
      "Round 111 of 250\n",
      "Round 112 of 250\n",
      "Round 113 of 250\n",
      "Round 114 of 250\n",
      "Round 115 of 250\n",
      "Round 116 of 250\n",
      "Round 117 of 250\n",
      "Round 118 of 250\n",
      "Round 119 of 250\n",
      "Round 120 of 250\n",
      "Round 121 of 250\n",
      "Round 122 of 250\n",
      "Round 123 of 250\n",
      "Round 124 of 250\n",
      "Round 125 of 250\n",
      "Round 126 of 250\n",
      "Round 127 of 250\n",
      "Round 128 of 250\n",
      "Round 129 of 250\n",
      "Round 130 of 250\n",
      "Client3: Recalculating the Hessian for new update 10!\n",
      "Round 131 of 250\n",
      "Round 132 of 250\n",
      "Round 133 of 250\n",
      "Round 134 of 250\n",
      "Round 135 of 250\n",
      "Round 136 of 250\n",
      "Round 137 of 250\n",
      "Round 138 of 250\n",
      "Round 139 of 250\n",
      "Round 140 of 250\n",
      "Round 141 of 250\n",
      "Round 142 of 250\n",
      "Round 143 of 250\n",
      "Round 144 of 250\n",
      "Round 145 of 250\n",
      "Round 146 of 250\n",
      "Round 147 of 250\n",
      "Round 148 of 250\n",
      "Round 149 of 250\n",
      "Round 150 of 250\n",
      "Round 151 of 250\n",
      "Round 152 of 250\n",
      "Round 153 of 250\n",
      "Round 154 of 250\n",
      "Round 155 of 250\n",
      "Round 156 of 250\n",
      "Round 157 of 250\n",
      "Round 158 of 250\n",
      "Round 159 of 250\n",
      "Round 160 of 250\n",
      "Round 161 of 250\n",
      "Round 162 of 250\n",
      "Round 163 of 250\n",
      "Round 164 of 250\n",
      "Round 165 of 250\n",
      "Round 166 of 250\n",
      "Round 167 of 250\n",
      "Round 168 of 250\n",
      "Round 169 of 250\n",
      "Round 170 of 250\n",
      "Round 171 of 250\n",
      "Round 172 of 250\n",
      "Round 173 of 250\n",
      "Round 174 of 250\n",
      "Round 175 of 250\n",
      "Round 176 of 250\n",
      "Round 177 of 250\n",
      "Round 178 of 250\n",
      "Round 179 of 250\n",
      "Round 180 of 250\n",
      "Round 181 of 250\n",
      "Round 182 of 250\n",
      "Round 183 of 250\n",
      "Round 184 of 250\n",
      "Client11: Recalculating the Hessian for new update 11!\n",
      "Round 185 of 250\n",
      "Round 186 of 250\n",
      "Round 187 of 250\n",
      "Round 188 of 250\n",
      "Round 189 of 250\n",
      "Round 190 of 250\n",
      "Round 191 of 250\n",
      "Round 192 of 250\n",
      "Round 193 of 250\n",
      "Round 194 of 250\n",
      "Round 195 of 250\n",
      "Round 196 of 250\n",
      "Round 197 of 250\n",
      "Round 198 of 250\n",
      "Round 199 of 250\n",
      "Round 200 of 250\n",
      "Round 201 of 250\n",
      "Round 202 of 250\n",
      "Round 203 of 250\n",
      "Round 204 of 250\n",
      "Client7: Recalculating the Hessian for new update 11!\n",
      "Round 205 of 250\n",
      "Round 206 of 250\n",
      "Round 207 of 250\n",
      "Round 208 of 250\n",
      "Round 209 of 250\n",
      "Round 210 of 250\n",
      "Round 211 of 250\n",
      "Round 212 of 250\n",
      "Round 213 of 250\n",
      "Round 214 of 250\n",
      "Round 215 of 250\n",
      "Round 216 of 250\n",
      "Round 217 of 250\n",
      "Round 218 of 250\n",
      "Round 219 of 250\n",
      "Round 220 of 250\n",
      "Round 221 of 250\n",
      "Round 222 of 250\n",
      "Round 223 of 250\n",
      "Round 224 of 250\n",
      "Round 225 of 250\n",
      "Round 226 of 250\n",
      "Round 227 of 250\n",
      "Round 228 of 250\n",
      "Round 229 of 250\n",
      "Round 230 of 250\n",
      "Round 231 of 250\n",
      "Round 232 of 250\n",
      "Round 233 of 250\n",
      "Round 234 of 250\n",
      "Round 235 of 250\n",
      "Round 236 of 250\n",
      "Round 237 of 250\n",
      "Round 238 of 250\n",
      "Round 239 of 250\n",
      "Round 240 of 250\n",
      "Round 241 of 250\n",
      "Round 242 of 250\n",
      "Round 243 of 250\n",
      "Round 244 of 250\n",
      "Round 245 of 250\n",
      "Round 246 of 250\n",
      "Round 247 of 250\n",
      "Round 248 of 250\n",
      "Round 249 of 250\n",
      "(Current Local Round, Current Local Update)\n",
      "(45, 10)\n",
      "(36, 10)\n",
      "(9, 10)\n",
      "(9, 10)\n",
      "(18, 10)\n",
      "(27, 10)\n",
      "(36, 10)\n",
      "(63, 11)\n",
      "(45, 10)\n",
      "(36, 10)\n",
      "(36, 10)\n",
      "(72, 11)\n",
      "(18, 10)\n",
      "(0, 10)\n"
     ]
    }
   ],
   "source": [
    "user_c0_APFL_realhess_noeta = [Client(i, D_0_7, 'NAN', cond0_training_and_labels_lst[i], \n",
    "                       'streaming', use_real_hess=True, adaptive=False, \n",
    "                       num_steps=10, global_method='APFL') for i in range(14)]\n",
    "global_model_APFL_realhess_noeta = Server(1, D_0_7, 'APFL', user_c0_APFL_realhess_noeta, num_steps=10)\n",
    "\n",
    "big_loop_iters = 250\n",
    "for i in range(big_loop_iters):\n",
    "    print(f\"Round {i} of {big_loop_iters}\")\n",
    "    global_model_APFL_realhess_noeta.execute_FL_loop()\n",
    "    \n",
    "print(\"(Current Local Round, Current Local Update)\")\n",
    "for my_client in global_model_APFL_realhess_noeta.all_clients:\n",
    "    print((my_client.current_round, my_client.current_update))"
   ]
  },
  {
   "cell_type": "code",
   "execution_count": 5,
   "id": "e0623f20",
   "metadata": {},
   "outputs": [
    {
     "data": {
      "image/png": "[encoded data removed]",
      "text/plain": [
       "<Figure size 640x480 with 1 Axes>"
      ]
     },
     "metadata": {},
     "output_type": "display_data"
    }
   ],
   "source": [
    "condensed_external_plotting(user_c0_APFL_realhess_noeta, 'local', global_error=False, dim_reduc_factor=10, show_update_change=False, custom_title='Eta=1e-10 Cost Func')"
   ]
  },
  {
   "cell_type": "code",
   "execution_count": 8,
   "id": "6b7a0b3b",
   "metadata": {},
   "outputs": [
    {
     "data": {
      "image/png": "[encoded data removed]",
      "text/plain": [
       "<Figure size 640x480 with 1 Axes>"
      ]
     },
     "metadata": {},
     "output_type": "display_data"
    }
   ],
   "source": [
    "condensed_external_plotting(user_c0_APFL_realhess_noeta, 'local', plot_gradient=True, local_error=False, \n",
    "                            global_error=False, show_update_change=False, custom_title='Real Hess Gradient')"
   ]
  },
  {
   "cell_type": "markdown",
   "id": "b32e6d74",
   "metadata": {},
   "source": [
    "Bruh"
   ]
  },
  {
   "cell_type": "code",
   "execution_count": null,
   "id": "5cd6d77f",
   "metadata": {},
   "outputs": [],
   "source": []
  },
  {
   "cell_type": "markdown",
   "id": "e66f1d0f",
   "metadata": {},
   "source": [
    "Learning rate of 1e-10, adaptive off"
   ]
  },
  {
   "cell_type": "code",
   "execution_count": null,
   "id": "89320e7d",
   "metadata": {},
   "outputs": [],
   "source": [
    "user_c0_APFL_eta_m10 = [Client(i, D_0_7, 'NAN', cond0_training_and_labels_lst[i], \n",
    "                       'streaming', eta=1e-10, input_eta=True, gradient_clipping=True, adaptive=False, \n",
    "                       num_steps=10, global_method='APFL') for i in range(14)]\n",
    "global_model_APFL_eta_m10 = Server(1, D_0_7, 'APFL', user_c0_APFL_eta_m10, num_steps=10)\n",
    "\n",
    "big_loop_iters = 500\n",
    "for i in range(big_loop_iters):\n",
    "    if i%10==0:\n",
    "        print(f\"Round {i} of {big_loop_iters}\")\n",
    "    global_model_APFL_eta_m10.execute_FL_loop()\n",
    "    \n",
    "print(\"(Current Local Round, Current Local Update)\")\n",
    "for my_client in global_model_APFL_eta_m10.all_clients:\n",
    "    print((my_client.current_round, my_client.current_update))\n"
   ]
  },
  {
   "cell_type": "code",
   "execution_count": null,
   "id": "a6ca1e1a",
   "metadata": {},
   "outputs": [],
   "source": [
    "condensed_external_plotting(user_c0_APFL_eta_m10, 'local', global_error=False, dim_reduc_factor=10, show_update_change=False, custom_title='Eta=1e-10 Cost Func')"
   ]
  },
  {
   "cell_type": "code",
   "execution_count": null,
   "id": "1502ee3a",
   "metadata": {},
   "outputs": [],
   "source": [
    "condensed_external_plotting(user_c0_APFL_eta_m10, 'local', plot_gradient=True, local_error=False, \n",
    "                            global_error=False, show_update_change=False, custom_title='Eta=1e-10 Gradient')"
   ]
  },
  {
   "cell_type": "code",
   "execution_count": null,
   "id": "673fb68a",
   "metadata": {},
   "outputs": [],
   "source": []
  },
  {
   "cell_type": "markdown",
   "id": "065beaf4",
   "metadata": {},
   "source": [
    "Safe Learning Rate APFL (Adaptive Off)\n",
    "> Gradient clipping appaers to be failing"
   ]
  },
  {
   "cell_type": "code",
   "execution_count": null,
   "id": "30000848",
   "metadata": {},
   "outputs": [],
   "source": [
    "user_c0_APFL_slr_15 = [Client(i, D_0_7, 'NAN', cond0_training_and_labels_lst[i], \n",
    "                       'streaming', safe_lr=15, adaptive=False, gradient_clipping=True, num_steps=10, \n",
    "                       global_method='APFL') for i in range(14)]\n",
    "global_model_APFL_slr_15 = Server(1, D_0_7, 'APFL', user_c0_APFL_slr_15, num_steps=10)\n",
    "global_model_APFL_slr_15.execute_FL_loop()"
   ]
  },
  {
   "cell_type": "code",
   "execution_count": null,
   "id": "02d41f5c",
   "metadata": {},
   "outputs": [],
   "source": [
    "big_loop_iters = 1000\n",
    "for i in range(big_loop_iters):\n",
    "    global_model_APFL_slr_15.execute_FL_loop()\n",
    "    \n",
    "print(\"(Current Local Round, Current Local Update)\")\n",
    "for my_client in global_model_APFL_slr_15.all_clients:\n",
    "    print((my_client.current_round, my_client.current_update))"
   ]
  },
  {
   "cell_type": "code",
   "execution_count": null,
   "id": "55a9ddde",
   "metadata": {},
   "outputs": [],
   "source": [
    "condensed_external_plotting(user_c0_APFL_slr_15, 'local', plot_gradient=True, local_error=False, \n",
    "                            global_error=False, show_update_change=False, custom_title='Safe Learning Rate 1/15L Gradient')"
   ]
  },
  {
   "cell_type": "markdown",
   "id": "48fad290",
   "metadata": {},
   "source": [
    "Vanilla APFL\n",
    "> Adaptive is on!"
   ]
  },
  {
   "cell_type": "code",
   "execution_count": null,
   "id": "154190a6",
   "metadata": {},
   "outputs": [],
   "source": [
    "user_c0_APFL = [Client(i, D_0_7, 'NAN', cond0_training_and_labels_lst[i], 'streaming', num_steps=10, gradient_clipping=True, global_method='APFL') for i in range(14)]\n",
    "global_model_APFL = Server(1, D_0_7, 'APFL', user_c0_APFL, num_steps=10)\n",
    "global_model_APFL.execute_FL_loop()"
   ]
  },
  {
   "cell_type": "code",
   "execution_count": null,
   "id": "843635fa",
   "metadata": {},
   "outputs": [],
   "source": [
    "big_loop_iters = 1000\n",
    "for i in range(big_loop_iters):\n",
    "    global_model_APFL.execute_FL_loop()\n",
    "    \n",
    "print(\"(Current Local Round, Current Local Update)\")\n",
    "for my_client in global_model_APFL.all_clients:\n",
    "    print((my_client.current_round, my_client.current_update))"
   ]
  },
  {
   "cell_type": "code",
   "execution_count": null,
   "id": "7e6a5854",
   "metadata": {},
   "outputs": [],
   "source": [
    "condensed_external_plotting(user_c0_APFL, 'local', plot_gradient=True, local_error=False, \n",
    "                            global_error=False, show_update_change=False, custom_title='Eta=10 Gradient')"
   ]
  },
  {
   "cell_type": "code",
   "execution_count": null,
   "id": "b8195776",
   "metadata": {},
   "outputs": [],
   "source": [
    "condensed_external_plotting(user_c0_APFL, 'local', plot_gradient=True, local_error=False,\n",
    "                            global_error=False, show_update_change=False, custom_title='Eta=10 Gradient')"
   ]
  },
  {
   "cell_type": "code",
   "execution_count": null,
   "id": "e9de0e72",
   "metadata": {},
   "outputs": [],
   "source": []
  },
  {
   "cell_type": "code",
   "execution_count": null,
   "id": "96a83891",
   "metadata": {},
   "outputs": [],
   "source": [
    "i = global_model_APFL.chosen_clients_lst[0].ID\n",
    "user_c0_APFL[i].personalized_error_log[-1]#[user_c0_APFL[i].ID]#[2]"
   ]
  },
  {
   "cell_type": "markdown",
   "id": "da888bc0",
   "metadata": {},
   "source": [
    "^ Int is not subscriptable!\n",
    "> Personalized_error_log is not being updated!"
   ]
  },
  {
   "cell_type": "code",
   "execution_count": null,
   "id": "e870eb73",
   "metadata": {
    "scrolled": true
   },
   "outputs": [],
   "source": [
    "eigvals, eigvecs = np.linalg.eig(user_c0_APFL[i].F.T@user_c0_APFL[i].F)\n",
    "eigvals[:10]"
   ]
  },
  {
   "cell_type": "code",
   "execution_count": null,
   "id": "fd216065",
   "metadata": {},
   "outputs": [],
   "source": [
    "mu = np.amin(eigvals)\n",
    "L = np.amax(eigvals)\n",
    "print(f\"mu: {mu}\")\n",
    "print(f\"L: {L.round(3)}\")\n",
    "if mu.real < 1e-10:\n",
    "    mu = 1e-3\n",
    "    print(f\"New mu: {mu}\")\n",
    "kappa = L/mu\n",
    "print(f\"kappa: {kappa.round(3)}\")\n",
    "\n",
    "# tau is 10 in the above run, for now\n",
    "a = np.max([128*kappa, 10])  # Max works on an array input, not multiple inputs\n",
    "eta_t = 16 / (mu*(1+a))\n",
    "print(f\"a: {a.round(3)}\")\n",
    "print(f\"eta_t: {eta_t.round(6)}\")\n",
    "print(f\"1/2L: {(1/(2*L)).round(6)}\")"
   ]
  },
  {
   "cell_type": "code",
   "execution_count": null,
   "id": "a07719ef",
   "metadata": {},
   "outputs": [],
   "source": [
    "lr_limit = 1/(2*L)\n",
    "print(lr_limit)"
   ]
  },
  {
   "cell_type": "code",
   "execution_count": null,
   "id": "baf92d8f",
   "metadata": {},
   "outputs": [],
   "source": [
    "safe_lr_limit = 1/(10*L)\n",
    "print(safe_lr_limit)"
   ]
  },
  {
   "cell_type": "code",
   "execution_count": null,
   "id": "1e1bcbb6",
   "metadata": {},
   "outputs": [],
   "source": [
    "eigvals_rounded = eigvals.round(7)\n",
    "\n",
    "print(\"10 Eigs\")\n",
    "print(eigvals_rounded[:10])\n",
    "print(\"Mu (min eigval)\")\n",
    "print(np.amin(eigvals_rounded))\n",
    "print(\"L (max eigval)\")\n",
    "print(np.amax(eigvals_rounded))"
   ]
  },
  {
   "cell_type": "code",
   "execution_count": null,
   "id": "6af27275",
   "metadata": {},
   "outputs": [],
   "source": [
    "eigvals_inplace = copy.copy(eigvals)\n",
    "eps = 1e-7\n",
    "\n",
    "eigvals_inplace[np.abs(eigvals_inplace) < eps] = 0\n",
    "\n",
    "print(\"10 Eigs\")\n",
    "print(eigvals_inplace[:10])\n",
    "print(\"Mu (min eigval)\")\n",
    "print(np.amin(eigvals_inplace))\n",
    "print(\"L (max eigval)\")\n",
    "print(np.amax(eigvals_inplace))"
   ]
  },
  {
   "cell_type": "code",
   "execution_count": null,
   "id": "e2080968",
   "metadata": {},
   "outputs": [],
   "source": [
    "eigvals_ReIm = copy.copy(eigvals)\n",
    "tol = 1e-7\n",
    "\n",
    "eigvals_ReIm.real[abs(eigvals_ReIm.real) < tol] = 0.0\n",
    "eigvals_ReIm.imag[abs(eigvals_ReIm.imag) < tol] = 0.0\n",
    "\n",
    "print(\"10 Eigs\")\n",
    "print(eigvals_ReIm[:10])\n",
    "print(\"Mu (min eigval)\")\n",
    "print(np.amin(eigvals_ReIm))\n",
    "print(\"L (max eigval)\")\n",
    "print(np.amax(eigvals_ReIm))"
   ]
  },
  {
   "cell_type": "markdown",
   "id": "0a37a420",
   "metadata": {},
   "source": [
    "Doing the reverse transposed order, this is supposed to be the same FOR REAL SQUARE MATRICES ONLY.  F is not square though..."
   ]
  },
  {
   "cell_type": "code",
   "execution_count": null,
   "id": "f0a700b7",
   "metadata": {
    "scrolled": true
   },
   "outputs": [],
   "source": [
    "eigvals2, eigvecs2 = np.linalg.eig(user_c0_APFL[i].F@user_c0_APFL[i].F.T)\n",
    "mu2 = np.amin(eigvals2)\n",
    "L2 = np.amax(eigvals2)\n",
    "\n",
    "print(f\"First 10 eigs: \\n {eigvals2[:10]}\\n\")\n",
    "print(f\"mu2: {mu2}\")\n",
    "print(f\"L2: {L2}\")"
   ]
  },
  {
   "cell_type": "markdown",
   "id": "135821d0",
   "metadata": {},
   "source": [
    "Misc stuff idk"
   ]
  },
  {
   "cell_type": "code",
   "execution_count": null,
   "id": "fe345a8d",
   "metadata": {},
   "outputs": [],
   "source": [
    "#i = 0\n",
    "# This should be the same i as the above loop\n",
    "\n",
    "print(f\"F.shape: {user_c0_APFL[i].F.shape}\")\n",
    "print(f\"Norm: {np.linalg.norm(user_c0_APFL[i].F)}\")\n",
    "print(f\"Sum: {np.sum((user_c0_APFL[i].F))}\")\n",
    "print(f\"**2 Sum: {np.sum((user_c0_APFL[i].F)**2)}\")"
   ]
  },
  {
   "cell_type": "code",
   "execution_count": null,
   "id": "a4b2eb35",
   "metadata": {},
   "outputs": [],
   "source": [
    "hess = user_c0_APFL[i].F@user_c0_APFL[i].F.T\n",
    "np.linalg.eig(hess)"
   ]
  },
  {
   "cell_type": "code",
   "execution_count": null,
   "id": "adf9a3ef",
   "metadata": {},
   "outputs": [],
   "source": [
    "print(\"Decs\")\n",
    "print(user_c0_APFL[i].local_w)\n",
    "print(user_c0_APFL[i].global_w)\n",
    "diff = user_c0_APFL[i].local_w - user_c0_APFL[i].global_w\n",
    "print(diff)\n",
    "print()\n",
    "print(\"Gradient\")\n",
    "out = gradient_cost_l2(user_c0_APFL[i].F, user_c0_APFL[i].mixed_w, user_c0_APFL[i].H, user_c0_APFL[i].V, user_c0_APFL[i].learning_batch, user_c0_APFL[i].alphaF, user_c0_APFL[i].alphaD, Ne=7)\n",
    "print(out.shape)\n",
    "print(out)"
   ]
  },
  {
   "cell_type": "code",
   "execution_count": null,
   "id": "b3c6ccbd",
   "metadata": {},
   "outputs": [],
   "source": [
    "np.inner(diff.flatten(), out.flatten())"
   ]
  },
  {
   "cell_type": "markdown",
   "id": "ddaaa051",
   "metadata": {},
   "source": [
    "Look at Vanilla APFL Run"
   ]
  },
  {
   "cell_type": "code",
   "execution_count": null,
   "id": "3753fbe8",
   "metadata": {},
   "outputs": [],
   "source": [
    "user_c0_APFL[0].adap_alpha[:22]"
   ]
  },
  {
   "cell_type": "code",
   "execution_count": null,
   "id": "3eae331a",
   "metadata": {},
   "outputs": [],
   "source": [
    "print(f\"F.shape: {user_c0_APFL[0].F.shape}\")\n",
    "print(f\"Norm: {np.linalg.norm(user_c0_APFL[0].F)}\")\n",
    "print(f\"Sum: {np.sum((user_c0_APFL[0].F))}\")\n",
    "print(f\"**2 Sum: {np.sum((user_c0_APFL[0].F)**2)}\")"
   ]
  },
  {
   "cell_type": "code",
   "execution_count": null,
   "id": "a897f875",
   "metadata": {},
   "outputs": [],
   "source": [
    "print(user_c0_APFL[0].local_w)\n",
    "print(user_c0_APFL[0].global_w)\n",
    "diff = user_c0_APFL[0].local_w - user_c0_APFL[0].global_w\n",
    "print(diff)\n",
    "out = gradient_cost_l2(user_c0_APFL[0].F, user_c0_APFL[0].mixed_w, user_c0_APFL[0].H, user_c0_APFL[0].V, user_c0_APFL[0].learning_batch, user_c0_APFL[0].alphaF, user_c0_APFL[0].alphaD, Ne=7)\n",
    "print(out.shape)\n",
    "print(out)"
   ]
  },
  {
   "cell_type": "code",
   "execution_count": null,
   "id": "178e24ca",
   "metadata": {},
   "outputs": [],
   "source": [
    "np.inner(diff.flatten(), out.flatten())"
   ]
  },
  {
   "cell_type": "markdown",
   "id": "5b734b72",
   "metadata": {},
   "source": [
    "Plot"
   ]
  },
  {
   "cell_type": "code",
   "execution_count": null,
   "id": "c24b97fe",
   "metadata": {},
   "outputs": [],
   "source": [
    "condensed_external_plotting(user_c0_APFL, 'local', pers_error=True, show_update_change=False, custom_title=\"APFL: Global, Local, and Pers Costs Per Iter\")"
   ]
  },
  {
   "cell_type": "code",
   "execution_count": null,
   "id": "dc4acd0b",
   "metadata": {},
   "outputs": [],
   "source": [
    "condensed_external_plotting(global_model_APFL, 'global', pers_error=True, show_update_change=False, custom_title=\"APFL: Global and Local Costs Per Iteration\")"
   ]
  },
  {
   "cell_type": "code",
   "execution_count": null,
   "id": "fe18b76d",
   "metadata": {},
   "outputs": [],
   "source": [
    "condensed_external_plotting(user_c0_APFL, 'local', plot_gradient=True, local_error=False, global_error=False, show_update_change=False, custom_title='GRADIENT')"
   ]
  },
  {
   "cell_type": "code",
   "execution_count": null,
   "id": "be670f61",
   "metadata": {},
   "outputs": [],
   "source": [
    "global_model_APFL.current_round"
   ]
  },
  {
   "cell_type": "code",
   "execution_count": null,
   "id": "31c0bd21",
   "metadata": {},
   "outputs": [],
   "source": [
    "#client_loss.append(input_data.global_error_log[j][i][2])\n",
    "len(global_model_APFL.global_error_log)"
   ]
  },
  {
   "cell_type": "code",
   "execution_count": null,
   "id": "b4ed5a51",
   "metadata": {},
   "outputs": [],
   "source": [
    "len(global_model_APFL.local_error_log)"
   ]
  },
  {
   "cell_type": "code",
   "execution_count": null,
   "id": "04015e91",
   "metadata": {},
   "outputs": [],
   "source": [
    "len(global_model_APFL.personalized_error_log)"
   ]
  },
  {
   "cell_type": "code",
   "execution_count": null,
   "id": "4465670c",
   "metadata": {},
   "outputs": [],
   "source": [
    "assert(1==0)"
   ]
  },
  {
   "cell_type": "markdown",
   "id": "8bfff773",
   "metadata": {},
   "source": [
    "# DEVELOPMENT"
   ]
  },
  {
   "cell_type": "markdown",
   "id": "e846069e",
   "metadata": {},
   "source": [
    "# Personalized FL Algorithms\n",
    "ALL PERSONALIZATION ALGORITHMS\n",
    "1. APFL\n",
    "1. Cesar/Taha: AFL + PARS-PUSH\n",
    "1. PFA: PP F Adaptation for Effective Model Personalization\n",
    "1. Pers RT FL for Epileptic Seizure Detection\n",
    "1. An Efficient Framework for Clustered FL\n",
    "1. Pers FL with DP\n",
    "## Adaptive Personalized FL Testing Ground"
   ]
  },
  {
   "cell_type": "markdown",
   "id": "bfd91d63",
   "metadata": {},
   "source": [
    "Adapting their code to actually be able to be run in something other than top-down server-only approach\n",
    "> Their Github: https://github.com/MLOPTPSU/FedTorch <br>\n",
    "> APFL link: https://github.com/MLOPTPSU/FedTorch/blob/ab8068dbc96804a5c1a8b898fd115175cfebfe75/fedtorch/comms/trainings/federated/apfl.py#L33\n",
    "\n",
    "loss.backward() computes dloss/dx for every parameter x which has requires_grad=True. These are accumulated into x.grad for every parameter x. Loss.backward() does not update the weights, only computes the gradients.  The graph is used by loss.backward() to compute gradients.  In pseudo-code: x.grad += dloss/dx\n",
    "\n",
    "optimizer.step updates the value of x using the gradient x.grad. For example, the SGD optimizer performs:\n",
    "\n",
    "x += -lr * x.grad\n",
    "optimizer.zero_grad() clears x.grad for every parameter x in the optimizer. It’s important to call this before loss.backward(), otherwise you’ll accumulate the gradients from multiple passes.\n",
    "\n",
    "optimizer.zero_grad() and optimizer.step() do not affect the graph of autograd objects. They only touch the model’s parameters and the parameter’s grad attributes.\n",
    "\n",
    "If you have multiple losses (loss1, loss2) you can sum them and then call backwards once:\n",
    "\n",
    "loss3 = loss1 + loss2\n",
    "loss3.backward()"
   ]
  },
  {
   "cell_type": "code",
   "execution_count": null,
   "id": "79f1c4e3",
   "metadata": {},
   "outputs": [],
   "source": [
    "#python run_mpi.py -f -ft apfl -n 10 -d mnist -lg 0.1 -b 50 -c 20 -k 1.0 -fs local_step -l 10 -r 2 -pa 0.5 -fp\n",
    "#'--num_epochs': args.num_epochs_per_comm * args.num_comms,\n",
    "\n",
    "# num_epochs_per_comm=1\n",
    "# num_clients=20\n",
    "# batch_size=50\n",
    "# num_comms=100\n",
    "# lr_gamma=1.0\n",
    "# lr_mu = 1"
   ]
  },
  {
   "cell_type": "code",
   "execution_count": null,
   "id": "16784d97",
   "metadata": {},
   "outputs": [],
   "source": []
  }
 ],
 "metadata": {
  "kernelspec": {
   "display_name": "Python 3 (ipykernel)",
   "language": "python",
   "name": "python3"
  },
  "language_info": {
   "codemirror_mode": {
    "name": "ipython",
    "version": 3
   },
   "file_extension": ".py",
   "mimetype": "text/x-python",
   "name": "python",
   "nbconvert_exporter": "python",
   "pygments_lexer": "ipython3",
   "version": "3.9.15"
  }
 },
 "nbformat": 4,
 "nbformat_minor": 5
}
