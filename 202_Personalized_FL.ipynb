{
 "cells": [
  {
   "cell_type": "markdown",
   "id": "48d39628",
   "metadata": {},
   "source": [
    "__Purpose:__ Introduce Personalized Federated Learning, specifically by implementing APFL on our dataset and then trying other methods.\n",
    "<br>\n",
    "1. We are still assuming we can test on the second half (updates 10-19ish) since (human/co-adaptive) learning should be complete by then!  For reasons shown in earlier NBs"
   ]
  },
  {
   "cell_type": "code",
   "execution_count": 1,
   "id": "d2f09a37",
   "metadata": {},
   "outputs": [],
   "source": [
    "import pandas as pd\n",
    "import os\n",
    "import numpy as np\n",
    "import random\n",
    "from matplotlib import pyplot as plt\n",
    "from scipy.optimize import minimize\n",
    "import copy\n",
    "\n",
    "from experiment_params import *\n",
    "from cost_funcs import *\n",
    "from fl_sim_classes import *\n",
    "import time\n",
    "import pickle\n",
    "from sklearn.decomposition import PCA"
   ]
  },
  {
   "cell_type": "code",
   "execution_count": 2,
   "id": "b9450bff",
   "metadata": {},
   "outputs": [],
   "source": [
    "path = r'C:\\Users\\kdmen\\Desktop\\Research\\personalization-privacy-risk\\Data'\n",
    "cond0_filename = r'\\cond0_dict_list.p'\n",
    "all_decs_init_filename = r'\\all_decs_init.p'\n",
    "nofl_decs_filename = r'\\nofl_decs.p'\n",
    "id2color = {0:'lightcoral', 1:'maroon', 2:'chocolate', 3:'darkorange', 4:'gold', 5:'olive', 6:'olivedrab', \n",
    "            7:'lawngreen', 8:'aquamarine', 9:'deepskyblue', 10:'steelblue', 11:'violet', 12:'darkorchid', 13:'deeppink'}\n",
    "implemented_client_training_methods = ['EtaGradStep', 'EtaScipyMinStep', 'FullScipyMinStep']\n",
    "implement_these_methods_next = ['APFL', 'AFL', 'PersA_FL_MAML', 'PersA_FL_ME', 'PFA']\n",
    "num_participants = 14\n",
    "\n",
    "# For exclusion when plotting later on\n",
    "bad_nodes = [1,3,13]\n",
    "\n",
    "with open(path+cond0_filename, 'rb') as fp:\n",
    "    cond0_training_and_labels_lst = pickle.load(fp)\n",
    "\n",
    "D_0_7 = np.random.rand(2,7)"
   ]
  },
  {
   "cell_type": "markdown",
   "id": "76eefe71",
   "metadata": {},
   "source": [
    "# Testing APFL"
   ]
  },
  {
   "cell_type": "markdown",
   "id": "8ed36785",
   "metadata": {},
   "source": [
    "Testing the APFL Implementation"
   ]
  },
  {
   "cell_type": "code",
   "execution_count": 3,
   "id": "c96646bb",
   "metadata": {},
   "outputs": [],
   "source": [
    "user_c0_APFL = [Client(i, D_0_7, 'NAN', cond0_training_and_labels_lst[i], 'streaming', num_steps=10, delay_scaling=0, global_method='APFL', verbose=True) for i in range(14)]\n",
    "global_model_APFL = Server(1, D_0_7, 'APFL', user_c0_APFL, num_steps=10)\n",
    "\n",
    "global_model_APFL.execute_FL_loop()"
   ]
  },
  {
   "cell_type": "code",
   "execution_count": 18,
   "id": "6467cf6b",
   "metadata": {},
   "outputs": [
    {
     "name": "stdout",
     "output_type": "stream",
     "text": [
      "ROUND 0\n",
      "24.555\n",
      "38.974\n",
      "\n",
      "ROUND 1\n",
      "24.555\n",
      "38.974\n",
      "\n",
      "ROUND 2\n",
      "24.555\n",
      "38.974\n",
      "\n",
      "ROUND 3\n",
      "24.555\n",
      "38.974\n",
      "\n",
      "ROUND 4\n",
      "24.555\n",
      "38.974\n",
      "\n",
      "ROUND 5\n",
      "24.555\n",
      "38.974\n",
      "\n",
      "ROUND 6\n",
      "24.555\n",
      "38.974\n",
      "\n",
      "ROUND 7\n",
      "24.555\n",
      "38.974\n",
      "\n",
      "ROUND 8\n",
      "24.555\n",
      "60.844\n",
      "\n",
      "ROUND 9\n",
      "24.555\n",
      "60.844\n",
      "\n",
      "ROUND 10\n",
      "24.555\n",
      "60.844\n",
      "\n",
      "ROUND 11\n",
      "24.555\n",
      "60.844\n",
      "\n",
      "ROUND 12\n",
      "24.555\n",
      "60.844\n",
      "\n",
      "ROUND 13\n",
      "24.555\n",
      "60.844\n",
      "\n",
      "ROUND 14\n",
      "24.555\n",
      "60.844\n",
      "\n",
      "ROUND 15\n",
      "24.555\n",
      "60.844\n",
      "\n",
      "ROUND 16\n",
      "24.555\n",
      "60.844\n",
      "\n",
      "ROUND 17\n",
      "24.555\n",
      "60.844\n",
      "\n",
      "ROUND 18\n",
      "171.326\n",
      "66.986\n",
      "\n",
      "ROUND 19\n",
      "171.326\n",
      "66.986\n",
      "\n"
     ]
    }
   ],
   "source": [
    "for i in range(20):\n",
    "    global_model_APFL.execute_FL_loop()\n",
    "    print(f\"ROUND {i}\")\n",
    "    for my_client in global_model_APFL.chosen_clients_lst:\n",
    "        print(round(np.linalg.norm(( my_client.F@np.transpose(my_client.F) + my_client.alphaD*np.identity(my_client.F.shape[0]))), 3))\n",
    "    #print(global_model_APFL.current_round)\n",
    "    #print(len(global_model_APFL.global_error_log))\n",
    "    print()"
   ]
  },
  {
   "cell_type": "code",
   "execution_count": 5,
   "id": "0111c0c7",
   "metadata": {},
   "outputs": [
    {
     "name": "stdout",
     "output_type": "stream",
     "text": [
      "1\n"
     ]
    }
   ],
   "source": [
    "for i in range(num_participants):\n",
    "    try:\n",
    "        user_c0_APFL[i].F.shape\n",
    "        # If it works then break the loop\n",
    "        break\n",
    "    except AttributeError:\n",
    "        pass\n",
    "\n",
    "print(i)"
   ]
  },
  {
   "cell_type": "code",
   "execution_count": 6,
   "id": "fe345a8d",
   "metadata": {},
   "outputs": [
    {
     "name": "stdout",
     "output_type": "stream",
     "text": [
      "F.shape: (7, 600)\n",
      "Norm: 18.0560351978601\n",
      "Sum: -1.8330518789887549\n",
      "**2 Sum: 326.0204070663629\n"
     ]
    }
   ],
   "source": [
    "#i = 0\n",
    "# This should be the same i as the above loop\n",
    "\n",
    "print(f\"F.shape: {user_c0_APFL[i].F.shape}\")\n",
    "print(f\"Norm: {np.linalg.norm(user_c0_APFL[i].F)}\")\n",
    "print(f\"Sum: {np.sum((user_c0_APFL[i].F))}\")\n",
    "print(f\"**2 Sum: {np.sum((user_c0_APFL[i].F)**2)}\")"
   ]
  },
  {
   "cell_type": "code",
   "execution_count": 7,
   "id": "adf9a3ef",
   "metadata": {},
   "outputs": [
    {
     "name": "stdout",
     "output_type": "stream",
     "text": [
      "Decs\n",
      "[[0.42721042 0.92184039 0.8355447  0.05466291 0.35606762 0.15698356\n",
      "  0.88587743]\n",
      " [0.19945789 0.69742648 0.04548692 0.9536932  0.15330048 0.12891423\n",
      "  0.38623709]]\n",
      "[[1.70867034 3.68700025 3.34185281 0.21863008 1.42413253 0.62787332\n",
      "  3.54316705]\n",
      " [0.79775293 2.78943236 0.18193031 3.81440291 0.61314254 0.51560674\n",
      "  1.54479867]]\n",
      "[[-1.28145992 -2.76515986 -2.50630811 -0.16396717 -1.06806491 -0.47088976\n",
      "  -2.65728962]\n",
      " [-0.59829504 -2.09200589 -0.13644339 -2.86070971 -0.45984206 -0.38669251\n",
      "  -1.15856158]]\n",
      "\n",
      "Gradient\n",
      "(14,)\n",
      "[-0.00430178 -0.0074557  -0.00668952 -0.00041606 -0.00282735 -0.00124343\n",
      " -0.00702894 -0.00194385 -0.00571408 -0.00037653 -0.00761596 -0.00121454\n",
      " -0.00102654 -0.0030667 ]\n"
     ]
    }
   ],
   "source": [
    "print(\"Decs\")\n",
    "print(user_c0_APFL[i].local_w)\n",
    "print(user_c0_APFL[i].global_w)\n",
    "diff = user_c0_APFL[i].local_w - user_c0_APFL[i].global_w\n",
    "print(diff)\n",
    "print()\n",
    "print(\"Gradient\")\n",
    "out = gradient_cost_l2(user_c0_APFL[i].F, user_c0_APFL[i].mixed_w, user_c0_APFL[i].H, user_c0_APFL[i].V, user_c0_APFL[i].learning_batch, user_c0_APFL[i].alphaF, user_c0_APFL[i].alphaD, Ne=7)\n",
    "print(out.shape)\n",
    "print(out)"
   ]
  },
  {
   "cell_type": "code",
   "execution_count": 8,
   "id": "b3c6ccbd",
   "metadata": {},
   "outputs": [
    {
     "data": {
      "text/plain": [
       "0.10470993583025784"
      ]
     },
     "execution_count": 8,
     "metadata": {},
     "output_type": "execute_result"
    }
   ],
   "source": [
    "np.inner(diff.flatten(), out.flatten())"
   ]
  },
  {
   "cell_type": "markdown",
   "id": "ddaaa051",
   "metadata": {},
   "source": [
    "Run loop"
   ]
  },
  {
   "cell_type": "code",
   "execution_count": 19,
   "id": "4b5cc0ac",
   "metadata": {
    "scrolled": false
   },
   "outputs": [
    {
     "name": "stdout",
     "output_type": "stream",
     "text": [
      "Client 1: New update after lrt passed: (new update, current global round, current local round): (14, 1382, 200)\n",
      "\n",
      "Client 1: New update after lrt passed: (new update, current global round, current local round): (15, 1867, 250)\n",
      "\n",
      "(Current Local Round, Current Local Update)\n",
      "(333, 16)\n",
      "(297, 15)\n",
      "(252, 15)\n",
      "(324, 16)\n",
      "(144, 12)\n",
      "(288, 15)\n",
      "(342, 16)\n",
      "(225, 14)\n",
      "(306, 16)\n",
      "(280, 15)\n",
      "(162, 13)\n",
      "(216, 14)\n",
      "(253, 15)\n",
      "(324, 16)\n"
     ]
    }
   ],
   "source": [
    "big_loop_iters = 1000\n",
    "for i in range(big_loop_iters):\n",
    "    global_model_APFL.execute_FL_loop()\n",
    "    \n",
    "print(\"(Current Local Round, Current Local Update)\")\n",
    "for my_client in global_model_APFL.all_clients:\n",
    "    print((my_client.current_round, my_client.current_update))"
   ]
  },
  {
   "cell_type": "code",
   "execution_count": 20,
   "id": "3753fbe8",
   "metadata": {},
   "outputs": [
    {
     "data": {
      "text/plain": [
       "[0.01,\n",
       " 0.8069180791741183,\n",
       " -10068.40406458191,\n",
       " -525163550.9842372,\n",
       " -27367133284454.97,\n",
       " 3.3388531204832576e+24,\n",
       " -2.4542548560270618e+51,\n",
       " 1.6191119817699753e+116,\n",
       " -5.1911802513078846e+272,\n",
       " nan,\n",
       " nan,\n",
       " nan,\n",
       " nan,\n",
       " nan,\n",
       " nan,\n",
       " nan,\n",
       " nan,\n",
       " nan,\n",
       " nan,\n",
       " nan,\n",
       " nan,\n",
       " nan]"
      ]
     },
     "execution_count": 20,
     "metadata": {},
     "output_type": "execute_result"
    }
   ],
   "source": [
    "user_c0_APFL[0].adap_alpha[:22]"
   ]
  },
  {
   "cell_type": "code",
   "execution_count": 21,
   "id": "3eae331a",
   "metadata": {},
   "outputs": [
    {
     "name": "stdout",
     "output_type": "stream",
     "text": [
      "F.shape: (7, 600)\n",
      "Norm: 16.83643986861527\n",
      "Sum: -1.9273889360912264\n",
      "**2 Sum: 283.46570744949776\n"
     ]
    }
   ],
   "source": [
    "print(f\"F.shape: {user_c0_APFL[0].F.shape}\")\n",
    "print(f\"Norm: {np.linalg.norm(user_c0_APFL[0].F)}\")\n",
    "print(f\"Sum: {np.sum((user_c0_APFL[0].F))}\")\n",
    "print(f\"**2 Sum: {np.sum((user_c0_APFL[0].F)**2)}\")"
   ]
  },
  {
   "cell_type": "code",
   "execution_count": 22,
   "id": "a897f875",
   "metadata": {},
   "outputs": [
    {
     "name": "stdout",
     "output_type": "stream",
     "text": [
      "[[nan nan nan nan nan nan nan]\n",
      " [nan nan nan nan nan nan nan]]\n",
      "[[nan nan nan nan nan nan nan]\n",
      " [nan nan nan nan nan nan nan]]\n",
      "[[nan nan nan nan nan nan nan]\n",
      " [nan nan nan nan nan nan nan]]\n",
      "(14,)\n",
      "[nan nan nan nan nan nan nan nan nan nan nan nan nan nan]\n"
     ]
    }
   ],
   "source": [
    "print(user_c0_APFL[0].local_w)\n",
    "print(user_c0_APFL[0].global_w)\n",
    "diff = user_c0_APFL[0].local_w - user_c0_APFL[0].global_w\n",
    "print(diff)\n",
    "out = gradient_cost_l2(user_c0_APFL[0].F, user_c0_APFL[0].mixed_w, user_c0_APFL[0].H, user_c0_APFL[0].V, user_c0_APFL[0].learning_batch, user_c0_APFL[0].alphaF, user_c0_APFL[0].alphaD, Ne=7)\n",
    "print(out.shape)\n",
    "print(out)"
   ]
  },
  {
   "cell_type": "code",
   "execution_count": 23,
   "id": "178e24ca",
   "metadata": {},
   "outputs": [
    {
     "data": {
      "text/plain": [
       "nan"
      ]
     },
     "execution_count": 23,
     "metadata": {},
     "output_type": "execute_result"
    }
   ],
   "source": [
    "np.inner(diff.flatten(), out.flatten())"
   ]
  },
  {
   "cell_type": "markdown",
   "id": "5b734b72",
   "metadata": {},
   "source": [
    "Plot"
   ]
  },
  {
   "cell_type": "code",
   "execution_count": 24,
   "id": "c24b97fe",
   "metadata": {},
   "outputs": [
    {
     "data": {
      "image/png": "[encoded data removed]",
      "text/plain": [
       "<Figure size 640x480 with 1 Axes>"
      ]
     },
     "metadata": {},
     "output_type": "display_data"
    }
   ],
   "source": [
    "condensed_external_plotting(user_c0_APFL, 'local', pers_error=True, show_update_change=False, custom_title=\"APFL: Global, Local, and Pers Costs Per Iter\")"
   ]
  },
  {
   "cell_type": "code",
   "execution_count": 25,
   "id": "dc4acd0b",
   "metadata": {},
   "outputs": [
    {
     "data": {
      "image/png": "[encoded data removed]",
      "text/plain": [
       "<Figure size 640x480 with 1 Axes>"
      ]
     },
     "metadata": {},
     "output_type": "display_data"
    }
   ],
   "source": [
    "condensed_external_plotting(global_model_APFL, 'global', pers_error=True, show_update_change=False, custom_title=\"APFL: Global and Local Costs Per Iteration\")"
   ]
  },
  {
   "cell_type": "code",
   "execution_count": 16,
   "id": "be670f61",
   "metadata": {},
   "outputs": [
    {
     "data": {
      "text/plain": [
       "1021"
      ]
     },
     "execution_count": 16,
     "metadata": {},
     "output_type": "execute_result"
    }
   ],
   "source": [
    "global_model_APFL.current_round"
   ]
  },
  {
   "cell_type": "code",
   "execution_count": 17,
   "id": "31c0bd21",
   "metadata": {},
   "outputs": [
    {
     "data": {
      "text/plain": [
       "2347"
      ]
     },
     "execution_count": 17,
     "metadata": {},
     "output_type": "execute_result"
    }
   ],
   "source": [
    "#client_loss.append(input_data.global_error_log[j][i][2])\n",
    "len(global_model_APFL.global_error_log)"
   ]
  },
  {
   "cell_type": "code",
   "execution_count": 19,
   "id": "b4ed5a51",
   "metadata": {},
   "outputs": [
    {
     "data": {
      "text/plain": [
       "2347"
      ]
     },
     "execution_count": 19,
     "metadata": {},
     "output_type": "execute_result"
    }
   ],
   "source": [
    "len(global_model_APFL.local_error_log)"
   ]
  },
  {
   "cell_type": "code",
   "execution_count": 20,
   "id": "04015e91",
   "metadata": {},
   "outputs": [
    {
     "data": {
      "text/plain": [
       "2347"
      ]
     },
     "execution_count": 20,
     "metadata": {},
     "output_type": "execute_result"
    }
   ],
   "source": [
    "len(global_model_APFL.personalized_error_log)"
   ]
  },
  {
   "cell_type": "code",
   "execution_count": 21,
   "id": "1bc806e9",
   "metadata": {},
   "outputs": [
    {
     "ename": "AssertionError",
     "evalue": "",
     "output_type": "error",
     "traceback": [
      "\u001b[1;31m---------------------------------------------------------------------------\u001b[0m",
      "\u001b[1;31mAssertionError\u001b[0m                            Traceback (most recent call last)",
      "\u001b[1;32m~\\AppData\\Local\\Temp\\ipykernel_1928\\3481756770.py\u001b[0m in \u001b[0;36m<cell line: 1>\u001b[1;34m()\u001b[0m\n\u001b[1;32m----> 1\u001b[1;33m \u001b[1;32massert\u001b[0m\u001b[1;33m(\u001b[0m\u001b[1;36m1\u001b[0m\u001b[1;33m==\u001b[0m\u001b[1;36m0\u001b[0m\u001b[1;33m)\u001b[0m\u001b[1;33m\u001b[0m\u001b[1;33m\u001b[0m\u001b[0m\n\u001b[0m",
      "\u001b[1;31mAssertionError\u001b[0m: "
     ]
    }
   ],
   "source": [
    "assert(1==0)"
   ]
  },
  {
   "cell_type": "markdown",
   "id": "8bfff773",
   "metadata": {},
   "source": [
    "# DEVELOPMENT"
   ]
  },
  {
   "cell_type": "markdown",
   "id": "e846069e",
   "metadata": {},
   "source": [
    "# Personalized FL Algorithms\n",
    "ALL PERSONALIZATION ALGORITHMS\n",
    "1. APFL\n",
    "1. Cesar/Taha: AFL\n",
    "1. Cesar/Taha: PersA-FL MAML\n",
    "1. Cesar/Taha: PersA-FL ME\n",
    "1. PFA: PP F Adaptation for Effective Model Personalization\n",
    "1. Pers RT FL for Epileptic Seizure Detection\n",
    "1. An Efficient Framework for Clustered FL\n",
    "1. Pers FL with DP\n",
    "## Adaptive Personalized FL Testing Ground"
   ]
  },
  {
   "cell_type": "markdown",
   "id": "bfd91d63",
   "metadata": {},
   "source": [
    "Adapting their code to actually be able to be run in something other than top-down server-only approach\n",
    "> Their Github: https://github.com/MLOPTPSU/FedTorch <br>\n",
    "> APFL link: https://github.com/MLOPTPSU/FedTorch/blob/ab8068dbc96804a5c1a8b898fd115175cfebfe75/fedtorch/comms/trainings/federated/apfl.py#L33\n",
    "\n",
    "loss.backward() computes dloss/dx for every parameter x which has requires_grad=True. These are accumulated into x.grad for every parameter x. Loss.backward() does not update the weights, only computes the gradients.  The graph is used by loss.backward() to compute gradients.  In pseudo-code: x.grad += dloss/dx\n",
    "\n",
    "optimizer.step updates the value of x using the gradient x.grad. For example, the SGD optimizer performs:\n",
    "\n",
    "x += -lr * x.grad\n",
    "optimizer.zero_grad() clears x.grad for every parameter x in the optimizer. It’s important to call this before loss.backward(), otherwise you’ll accumulate the gradients from multiple passes.\n",
    "\n",
    "optimizer.zero_grad() and optimizer.step() do not affect the graph of autograd objects. They only touch the model’s parameters and the parameter’s grad attributes.\n",
    "\n",
    "If you have multiple losses (loss1, loss2) you can sum them and then call backwards once:\n",
    "\n",
    "loss3 = loss1 + loss2\n",
    "loss3.backward()"
   ]
  },
  {
   "cell_type": "code",
   "execution_count": null,
   "id": "79f1c4e3",
   "metadata": {},
   "outputs": [],
   "source": [
    "#python run_mpi.py -f -ft apfl -n 10 -d mnist -lg 0.1 -b 50 -c 20 -k 1.0 -fs local_step -l 10 -r 2 -pa 0.5 -fp\n",
    "#'--num_epochs': args.num_epochs_per_comm * args.num_comms,\n",
    "\n",
    "# num_epochs_per_comm=1\n",
    "# num_clients=20\n",
    "# batch_size=50\n",
    "# num_comms=100\n",
    "# lr_gamma=1.0\n",
    "# lr_mu = 1"
   ]
  },
  {
   "cell_type": "markdown",
   "id": "77a6699f",
   "metadata": {},
   "source": [
    "## Personalized Asynchronous Federated Learning (Taha+Cesar)\n",
    "> https://arxiv.org/pdf/2210.01176.pdf"
   ]
  },
  {
   "cell_type": "code",
   "execution_count": null,
   "id": "605dde82",
   "metadata": {},
   "outputs": [],
   "source": [
    "assert(1==0)"
   ]
  },
  {
   "cell_type": "markdown",
   "id": "4fee4ed7",
   "metadata": {},
   "source": [
    "Basic AFL\n",
    "> My code is not configured to run this way, although this way is the most realistic (server waits for client responses).  Ideally would have some way to weight different clients if there are some that are spamming, or generally just faster than others and contributing more."
   ]
  },
  {
   "cell_type": "code",
   "execution_count": null,
   "id": "203fd581",
   "metadata": {},
   "outputs": [],
   "source": [
    "# Repeat until converged...\n",
    "# how do you know in a decentralized way lol\n",
    "#if self.update_recieved:\n",
    "#    self.w -= self.beta*self.latest_update"
   ]
  },
  {
   "cell_type": "markdown",
   "id": "abd427f0",
   "metadata": {},
   "source": [
    "Personalized AFL\n",
    "> 3 Methods (1 is just vanilla AFL)"
   ]
  },
  {
   "cell_type": "code",
   "execution_count": null,
   "id": "61d93aee",
   "metadata": {},
   "outputs": [],
   "source": [
    "#input: number of local steps Q, local stepsize η, MAML stepsize α, Moreau Envelope (ME) regularization parameter λ, minimum batch size b, estimation error ν.\n",
    "\n",
    "# Do client selection\n",
    "\n",
    "for my_client in self.chosen_clients_lst:\n",
    "    my_client.global_w = self.w\n",
    "    for q in range(Q):\n",
    "        #\"Sample a data batch D_{i, q} from distribution p_i\"\n",
    "        \n",
    "        # OPTION A (AFL) --> Just what is shown in the cell above\n",
    "        if self.global_method=='AFL':\n",
    "            # Server doesn't have client's grad input info... eg FDHV\n",
    "            # In their model/code, does the client send the params or the new weight?\n",
    "            \n",
    "            # Eqn 5 is the original\n",
    "            # Eqn 9 is the biased estimation of 5, shown below\n",
    "            self.w -= self.eta*gradient_cost_l2(self.F,self.D,self.H,self.V,self.learning_batch,self.alphaF,self.alphaD)\n",
    "        # OPTION B (PersA-FL: MAML)\n",
    "        elif self.global_method=='PersA_FL_MAML':\n",
    "            #\"Sample 2 databatches from distribution p_i\"\n",
    "            # I have no idea what these terms are lol\n",
    "            # I don't think I can use the analytical cost funcs here either now\n",
    "            self.w -= self.eta*(I-alpha*Hessian(self.w, D_dd))*grad(self.w-alpha*grad(D_d), D)\n",
    "        # OPTION C (PersA-FL: ME)\n",
    "        elif self.global_method=='PersA_FL_ME':\n",
    "            self.h = f(theta_i, D) + lambda*0.5*(np.linalg.norm(theta_i - self.w)^2)\n",
    "            #\"Minimize h wrt theta_i up to accuracy level v to find theta_tilde_i\"\n",
    "            #np.linalg.norm(grad_h(theta_tilde_i(self.w), self.w, D)) <= v\n",
    "            #scipy.minimize(...)\n",
    "            self.w -= self.eta*lambda*(self.w - theta_tilde_i(self.w))\n",
    "        \n",
    "        # ELSE\n",
    "        else:\n",
    "            print(f'Global method {self.method} not defined, please select one from the following: {self.implemented_global_training_methods}')\n",
    "delta_i = self.w_i_0 - self.w_i_Q\n",
    "# client i broadcasts delta_i to the server\n",
    "#\"Repeat until not interrupted by the server\""
   ]
  },
  {
   "cell_type": "code",
   "execution_count": null,
   "id": "d3ad4c98",
   "metadata": {},
   "outputs": [],
   "source": []
  },
  {
   "cell_type": "code",
   "execution_count": null,
   "id": "c87bd474",
   "metadata": {},
   "outputs": [],
   "source": []
  },
  {
   "cell_type": "code",
   "execution_count": null,
   "id": "16784d97",
   "metadata": {},
   "outputs": [],
   "source": []
  }
 ],
 "metadata": {
  "kernelspec": {
   "display_name": "Python 3 (ipykernel)",
   "language": "python",
   "name": "python3"
  },
  "language_info": {
   "codemirror_mode": {
    "name": "ipython",
    "version": 3
   },
   "file_extension": ".py",
   "mimetype": "text/x-python",
   "name": "python",
   "nbconvert_exporter": "python",
   "pygments_lexer": "ipython3",
   "version": "3.9.15"
  }
 },
 "nbformat": 4,
 "nbformat_minor": 5
}
