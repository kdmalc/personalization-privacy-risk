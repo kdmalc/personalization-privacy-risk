{
 "cells": [
  {
   "cell_type": "markdown",
   "id": "48d39628",
   "metadata": {},
   "source": [
    "__Purpose:__ Introduce Personalized Federated Learning, specifically by implementing APFL on our dataset and then trying other methods.\n",
    "<br>\n",
    "1. We are still assuming we can test on the second half (updates 10-19ish) since (human/co-adaptive) learning should be complete by then!  For reasons shown in earlier NBs"
   ]
  },
  {
   "cell_type": "code",
   "execution_count": 1,
   "id": "d2f09a37",
   "metadata": {},
   "outputs": [],
   "source": [
    "import pandas as pd\n",
    "import os\n",
    "import numpy as np\n",
    "import random\n",
    "from matplotlib import pyplot as plt\n",
    "from scipy.optimize import minimize\n",
    "import copy\n",
    "\n",
    "from experiment_params import *\n",
    "from cost_funcs import *\n",
    "from fl_sim_classes import *\n",
    "import time\n",
    "import pickle\n",
    "from sklearn.decomposition import PCA"
   ]
  },
  {
   "cell_type": "code",
   "execution_count": 2,
   "id": "b9450bff",
   "metadata": {},
   "outputs": [],
   "source": [
    "path = r'C:\\Users\\kdmen\\Desktop\\Research\\personalization-privacy-risk\\Data'\n",
    "cond0_filename = r'\\cond0_dict_list.p'\n",
    "all_decs_init_filename = r'\\all_decs_init.p'\n",
    "nofl_decs_filename = r'\\nofl_decs.p'\n",
    "id2color = {0:'lightcoral', 1:'maroon', 2:'chocolate', 3:'darkorange', 4:'gold', 5:'olive', 6:'olivedrab', \n",
    "            7:'lawngreen', 8:'aquamarine', 9:'deepskyblue', 10:'steelblue', 11:'violet', 12:'darkorchid', 13:'deeppink'}\n",
    "implemented_client_training_methods = ['EtaGradStep', 'EtaScipyMinStep', 'FullScipyMinStep']\n",
    "implement_these_methods_next = ['APFL', 'AFL', 'PersA_FL_MAML', 'PersA_FL_ME', 'PFA']\n",
    "num_participants = 14\n",
    "\n",
    "# For exclusion when plotting later on\n",
    "bad_nodes = [1,3,13]\n",
    "\n",
    "with open(path+cond0_filename, 'rb') as fp:\n",
    "    cond0_training_and_labels_lst = pickle.load(fp)\n",
    "\n",
    "D_0_7 = np.random.rand(2,7)"
   ]
  },
  {
   "cell_type": "markdown",
   "id": "76eefe71",
   "metadata": {},
   "source": [
    "# Testing APFL"
   ]
  },
  {
   "cell_type": "markdown",
   "id": "8ed36785",
   "metadata": {},
   "source": [
    "Testing the APFL Implementation"
   ]
  },
  {
   "cell_type": "code",
   "execution_count": 3,
   "id": "c96646bb",
   "metadata": {},
   "outputs": [],
   "source": [
    "user_c0_APFL = [Client(i, D_0_7, 'NAN', cond0_training_and_labels_lst[i], 'streaming', num_steps=10, delay_scaling=0, global_method='APFL') for i in range(14)]\n",
    "global_model_APFL = Server(1, D_0_7, 'APFL', user_c0_APFL, num_steps=10)\n",
    "\n",
    "global_model_APFL.execute_FL_loop()"
   ]
  },
  {
   "cell_type": "code",
   "execution_count": 4,
   "id": "6467cf6b",
   "metadata": {},
   "outputs": [],
   "source": [
    "for i in range(20):\n",
    "    global_model_APFL.execute_FL_loop()\n",
    "    #print(f\"ROUND {i}\")\n",
    "    #for my_client in global_model_APFL.chosen_clients_lst:\n",
    "    #    # So since APFL sets the chosen_clients_lst AFTER it runs instead of before each iter, the following line can actually fail...\n",
    "    #    #print(round(np.linalg.norm(( my_client.F@np.transpose(my_client.F) + my_client.alphaD*np.identity(my_client.F.shape[0]))), 3))\n",
    "    #print(global_model_APFL.current_round)\n",
    "    #print(len(global_model_APFL.global_error_log))\n",
    "    #print()"
   ]
  },
  {
   "cell_type": "code",
   "execution_count": 5,
   "id": "0111c0c7",
   "metadata": {},
   "outputs": [
    {
     "name": "stdout",
     "output_type": "stream",
     "text": [
      "0\n"
     ]
    }
   ],
   "source": [
    "for i in range(num_participants):\n",
    "    try:\n",
    "        user_c0_APFL[i].F.shape\n",
    "        # If it works then break the loop\n",
    "        break\n",
    "    except AttributeError:\n",
    "        pass\n",
    "\n",
    "print(i)"
   ]
  },
  {
   "cell_type": "code",
   "execution_count": 6,
   "id": "fe345a8d",
   "metadata": {},
   "outputs": [
    {
     "name": "stdout",
     "output_type": "stream",
     "text": [
      "F.shape: (7, 600)\n",
      "Norm: 11.603236952809484\n",
      "Sum: -0.890778764188731\n",
      "**2 Sum: 134.6351077830435\n"
     ]
    }
   ],
   "source": [
    "#i = 0\n",
    "# This should be the same i as the above loop\n",
    "\n",
    "print(f\"F.shape: {user_c0_APFL[i].F.shape}\")\n",
    "print(f\"Norm: {np.linalg.norm(user_c0_APFL[i].F)}\")\n",
    "print(f\"Sum: {np.sum((user_c0_APFL[i].F))}\")\n",
    "print(f\"**2 Sum: {np.sum((user_c0_APFL[i].F)**2)}\")"
   ]
  },
  {
   "cell_type": "code",
   "execution_count": 7,
   "id": "adf9a3ef",
   "metadata": {},
   "outputs": [
    {
     "name": "stdout",
     "output_type": "stream",
     "text": [
      "Decs\n",
      "[[0.73983159 0.88153219 0.40972142 0.70073796 0.63069285 0.54266225\n",
      "  0.90049639]\n",
      " [0.61049051 0.02360698 0.63218091 0.47213346 0.02742422 0.13120007\n",
      "  0.34924024]]\n",
      "[[2.95906309 3.52583431 1.63875199 2.80272362 2.52256703 2.17047298\n",
      "  3.6016933 ]\n",
      " [2.44174457 0.0944178  2.52851732 1.88838008 0.10968788 0.5247578\n",
      "  1.39684788]]\n",
      "[[-2.2192315  -2.64430212 -1.22903057 -2.10198567 -1.89187418 -1.62781074\n",
      "  -2.70119691]\n",
      " [-1.83125406 -0.07081083 -1.89633641 -1.41624662 -0.08226366 -0.39355773\n",
      "  -1.04760764]]\n",
      "\n",
      "Gradient\n",
      "(14,)\n",
      "[-0.00634522 -0.00718405 -0.00324682 -0.00555634 -0.00499468 -0.00429874\n",
      " -0.00713583 -0.00520283 -0.00024198 -0.00501857 -0.00374515 -0.00021841\n",
      " -0.00103709 -0.00276311]\n"
     ]
    }
   ],
   "source": [
    "print(\"Decs\")\n",
    "print(user_c0_APFL[i].local_w)\n",
    "print(user_c0_APFL[i].global_w)\n",
    "diff = user_c0_APFL[i].local_w - user_c0_APFL[i].global_w\n",
    "print(diff)\n",
    "print()\n",
    "print(\"Gradient\")\n",
    "out = gradient_cost_l2(user_c0_APFL[i].F, user_c0_APFL[i].mixed_w, user_c0_APFL[i].H, user_c0_APFL[i].V, user_c0_APFL[i].learning_batch, user_c0_APFL[i].alphaF, user_c0_APFL[i].alphaD, Ne=7)\n",
    "print(out.shape)\n",
    "print(out)"
   ]
  },
  {
   "cell_type": "code",
   "execution_count": 8,
   "id": "b3c6ccbd",
   "metadata": {},
   "outputs": [
    {
     "data": {
      "text/plain": [
       "0.11215679786792376"
      ]
     },
     "execution_count": 8,
     "metadata": {},
     "output_type": "execute_result"
    }
   ],
   "source": [
    "np.inner(diff.flatten(), out.flatten())"
   ]
  },
  {
   "cell_type": "markdown",
   "id": "ddaaa051",
   "metadata": {},
   "source": [
    "Run loop"
   ]
  },
  {
   "cell_type": "code",
   "execution_count": 9,
   "id": "4b5cc0ac",
   "metadata": {
    "scrolled": true
   },
   "outputs": [
    {
     "name": "stderr",
     "output_type": "stream",
     "text": [
      "C:\\Users\\kdmen\\Desktop\\Research\\personalization-privacy-risk\\fl_sim_classes.py:542: RuntimeWarning: overflow encountered in multiply\n",
      "  self.mixed_w = self.adap_alpha[-1]*self.local_w - (1 - self.adap_alpha[-1]) * self.global_w\n",
      "C:\\Users\\kdmen\\Desktop\\Research\\personalization-privacy-risk\\cost_funcs.py:41: RuntimeWarning: invalid value encountered in matmul\n",
      "  term1 = (np.linalg.norm((D@F + H@Vminus - Vplus))**2)*(alphaE)\n",
      "C:\\Users\\kdmen\\Desktop\\Research\\personalization-privacy-risk\\cost_funcs.py:23: RuntimeWarning: invalid value encountered in matmul\n",
      "  return ((2*(D@F + H@Vminus - Vplus)@F.T*(alphaE) + 2*alphaD*D ).flatten())\n",
      "C:\\Users\\kdmen\\Desktop\\Research\\personalization-privacy-risk\\fl_sim_classes.py:542: RuntimeWarning: invalid value encountered in subtract\n",
      "  self.mixed_w = self.adap_alpha[-1]*self.local_w - (1 - self.adap_alpha[-1]) * self.global_w\n",
      "C:\\Users\\kdmen\\Desktop\\Research\\personalization-privacy-risk\\fl_sim_classes.py:542: RuntimeWarning: overflow encountered in multiply\n",
      "  self.mixed_w = self.adap_alpha[-1]*self.local_w - (1 - self.adap_alpha[-1]) * self.global_w\n",
      "C:\\Users\\kdmen\\Desktop\\Research\\personalization-privacy-risk\\cost_funcs.py:41: RuntimeWarning: invalid value encountered in matmul\n",
      "  term1 = (np.linalg.norm((D@F + H@Vminus - Vplus))**2)*(alphaE)\n",
      "C:\\Users\\kdmen\\Desktop\\Research\\personalization-privacy-risk\\cost_funcs.py:23: RuntimeWarning: invalid value encountered in matmul\n",
      "  return ((2*(D@F + H@Vminus - Vplus)@F.T*(alphaE) + 2*alphaD*D ).flatten())\n",
      "C:\\Users\\kdmen\\Desktop\\Research\\personalization-privacy-risk\\fl_sim_classes.py:542: RuntimeWarning: overflow encountered in multiply\n",
      "  self.mixed_w = self.adap_alpha[-1]*self.local_w - (1 - self.adap_alpha[-1]) * self.global_w\n",
      "C:\\Users\\kdmen\\Desktop\\Research\\personalization-privacy-risk\\cost_funcs.py:41: RuntimeWarning: invalid value encountered in matmul\n",
      "  term1 = (np.linalg.norm((D@F + H@Vminus - Vplus))**2)*(alphaE)\n",
      "C:\\Users\\kdmen\\Desktop\\Research\\personalization-privacy-risk\\fl_sim_classes.py:542: RuntimeWarning: invalid value encountered in subtract\n",
      "  self.mixed_w = self.adap_alpha[-1]*self.local_w - (1 - self.adap_alpha[-1]) * self.global_w\n",
      "C:\\Users\\kdmen\\Desktop\\Research\\personalization-privacy-risk\\cost_funcs.py:23: RuntimeWarning: invalid value encountered in matmul\n",
      "  return ((2*(D@F + H@Vminus - Vplus)@F.T*(alphaE) + 2*alphaD*D ).flatten())\n"
     ]
    },
    {
     "name": "stdout",
     "output_type": "stream",
     "text": [
      "(Current Local Round, Current Local Update)\n",
      "(135, 12)\n",
      "(117, 12)\n",
      "(145, 12)\n",
      "(162, 13)\n",
      "(162, 13)\n",
      "(144, 12)\n",
      "(108, 12)\n",
      "(135, 12)\n",
      "(126, 12)\n",
      "(117, 12)\n",
      "(144, 12)\n",
      "(118, 12)\n",
      "(108, 12)\n",
      "(117, 12)\n"
     ]
    }
   ],
   "source": [
    "big_loop_iters = 1000\n",
    "for i in range(big_loop_iters):\n",
    "    global_model_APFL.execute_FL_loop()\n",
    "    \n",
    "print(\"(Current Local Round, Current Local Update)\")\n",
    "for my_client in global_model_APFL.all_clients:\n",
    "    print((my_client.current_round, my_client.current_update))"
   ]
  },
  {
   "cell_type": "code",
   "execution_count": 10,
   "id": "3753fbe8",
   "metadata": {},
   "outputs": [
    {
     "data": {
      "text/plain": [
       "[0.01,\n",
       " 0.010013192151570746,\n",
       " 0.009987318693372578,\n",
       " 0.009961444584102625,\n",
       " 0.00993556982376144,\n",
       " 0.009909694412349568,\n",
       " 0.009883818349867563,\n",
       " 0.009857941636315978,\n",
       " 0.009832064271695366,\n",
       " 0.009806186256006282,\n",
       " 0.009728545132888563,\n",
       " 0.0095727462778764,\n",
       " 0.009416918324663601,\n",
       " 0.009261061268085,\n",
       " 0.009105175102974592,\n",
       " 0.008949259824165534,\n",
       " 0.008793315426490134,\n",
       " 0.008637341904779865,\n",
       " 0.008481339253865357,\n",
       " -1.695065943528214,\n",
       " -38026.633573728745,\n",
       " -536576472.932253]"
      ]
     },
     "execution_count": 10,
     "metadata": {},
     "output_type": "execute_result"
    }
   ],
   "source": [
    "user_c0_APFL[0].adap_alpha[:22]"
   ]
  },
  {
   "cell_type": "code",
   "execution_count": 11,
   "id": "3eae331a",
   "metadata": {},
   "outputs": [
    {
     "name": "stdout",
     "output_type": "stream",
     "text": [
      "F.shape: (7, 600)\n",
      "Norm: 14.484250454580117\n",
      "Sum: -0.7574490359511259\n",
      "**2 Sum: 209.79351123100432\n"
     ]
    }
   ],
   "source": [
    "print(f\"F.shape: {user_c0_APFL[0].F.shape}\")\n",
    "print(f\"Norm: {np.linalg.norm(user_c0_APFL[0].F)}\")\n",
    "print(f\"Sum: {np.sum((user_c0_APFL[0].F))}\")\n",
    "print(f\"**2 Sum: {np.sum((user_c0_APFL[0].F)**2)}\")"
   ]
  },
  {
   "cell_type": "code",
   "execution_count": 12,
   "id": "a897f875",
   "metadata": {},
   "outputs": [
    {
     "name": "stdout",
     "output_type": "stream",
     "text": [
      "[[nan nan nan nan nan nan nan]\n",
      " [nan nan nan nan nan nan nan]]\n",
      "[[nan nan nan nan nan nan nan]\n",
      " [nan nan nan nan nan nan nan]]\n",
      "[[nan nan nan nan nan nan nan]\n",
      " [nan nan nan nan nan nan nan]]\n",
      "(14,)\n",
      "[nan nan nan nan nan nan nan nan nan nan nan nan nan nan]\n"
     ]
    }
   ],
   "source": [
    "print(user_c0_APFL[0].local_w)\n",
    "print(user_c0_APFL[0].global_w)\n",
    "diff = user_c0_APFL[0].local_w - user_c0_APFL[0].global_w\n",
    "print(diff)\n",
    "out = gradient_cost_l2(user_c0_APFL[0].F, user_c0_APFL[0].mixed_w, user_c0_APFL[0].H, user_c0_APFL[0].V, user_c0_APFL[0].learning_batch, user_c0_APFL[0].alphaF, user_c0_APFL[0].alphaD, Ne=7)\n",
    "print(out.shape)\n",
    "print(out)"
   ]
  },
  {
   "cell_type": "code",
   "execution_count": 13,
   "id": "178e24ca",
   "metadata": {},
   "outputs": [
    {
     "data": {
      "text/plain": [
       "nan"
      ]
     },
     "execution_count": 13,
     "metadata": {},
     "output_type": "execute_result"
    }
   ],
   "source": [
    "np.inner(diff.flatten(), out.flatten())"
   ]
  },
  {
   "cell_type": "markdown",
   "id": "5b734b72",
   "metadata": {},
   "source": [
    "Plot"
   ]
  },
  {
   "cell_type": "code",
   "execution_count": 14,
   "id": "c24b97fe",
   "metadata": {},
   "outputs": [
    {
     "data": {
      "image/png": "[encoded data removed]",
      "text/plain": [
       "<Figure size 640x480 with 1 Axes>"
      ]
     },
     "metadata": {},
     "output_type": "display_data"
    }
   ],
   "source": [
    "condensed_external_plotting(user_c0_APFL, 'local', pers_error=True, show_update_change=False, custom_title=\"APFL: Global, Local, and Pers Costs Per Iter\")"
   ]
  },
  {
   "cell_type": "code",
   "execution_count": 15,
   "id": "dc4acd0b",
   "metadata": {},
   "outputs": [
    {
     "data": {
      "image/png": "[encoded data removed]",
      "text/plain": [
       "<Figure size 640x480 with 1 Axes>"
      ]
     },
     "metadata": {},
     "output_type": "display_data"
    }
   ],
   "source": [
    "condensed_external_plotting(global_model_APFL, 'global', pers_error=True, show_update_change=False, custom_title=\"APFL: Global and Local Costs Per Iteration\")"
   ]
  },
  {
   "cell_type": "code",
   "execution_count": 16,
   "id": "be670f61",
   "metadata": {},
   "outputs": [
    {
     "data": {
      "text/plain": [
       "1021"
      ]
     },
     "execution_count": 16,
     "metadata": {},
     "output_type": "execute_result"
    }
   ],
   "source": [
    "global_model_APFL.current_round"
   ]
  },
  {
   "cell_type": "code",
   "execution_count": 17,
   "id": "31c0bd21",
   "metadata": {},
   "outputs": [
    {
     "data": {
      "text/plain": [
       "2347"
      ]
     },
     "execution_count": 17,
     "metadata": {},
     "output_type": "execute_result"
    }
   ],
   "source": [
    "#client_loss.append(input_data.global_error_log[j][i][2])\n",
    "len(global_model_APFL.global_error_log)"
   ]
  },
  {
   "cell_type": "code",
   "execution_count": 18,
   "id": "b4ed5a51",
   "metadata": {},
   "outputs": [
    {
     "data": {
      "text/plain": [
       "2347"
      ]
     },
     "execution_count": 18,
     "metadata": {},
     "output_type": "execute_result"
    }
   ],
   "source": [
    "len(global_model_APFL.local_error_log)"
   ]
  },
  {
   "cell_type": "code",
   "execution_count": 19,
   "id": "04015e91",
   "metadata": {},
   "outputs": [
    {
     "data": {
      "text/plain": [
       "2347"
      ]
     },
     "execution_count": 19,
     "metadata": {},
     "output_type": "execute_result"
    }
   ],
   "source": [
    "len(global_model_APFL.personalized_error_log)"
   ]
  },
  {
   "cell_type": "markdown",
   "id": "fff9eba0",
   "metadata": {},
   "source": [
    "Re-running but with input learning rate (eta) of 0.00001 (didn't work by itself)"
   ]
  },
  {
   "cell_type": "markdown",
   "id": "ff4c876f",
   "metadata": {},
   "source": [
    "Now also fix alpha (not adaptive anymore)"
   ]
  },
  {
   "cell_type": "markdown",
   "id": "18de4b3c",
   "metadata": {},
   "source": [
    "Now set eta to 0.000000001"
   ]
  },
  {
   "cell_type": "code",
   "execution_count": 42,
   "id": "c945b31e",
   "metadata": {},
   "outputs": [
    {
     "name": "stdout",
     "output_type": "stream",
     "text": [
      "1e-31\n"
     ]
    }
   ],
   "source": [
    "my_learning_rate = 0.0000000000000000000000000000001\n",
    "print(my_learning_rate)"
   ]
  },
  {
   "cell_type": "code",
   "execution_count": 43,
   "id": "8133abb9",
   "metadata": {},
   "outputs": [],
   "source": [
    "user_c0_APFL = [Client(i, D_0_7, 'NAN', cond0_training_and_labels_lst[i], 'streaming', input_eta=True, num_steps=10, adaptive=False, eta=my_learning_rate, delay_scaling=0, global_method='APFL') for i in range(14)]\n",
    "global_model_APFL = Server(1, D_0_7, 'APFL', user_c0_APFL, num_steps=10)\n",
    "\n",
    "global_model_APFL.execute_FL_loop()"
   ]
  },
  {
   "cell_type": "code",
   "execution_count": 44,
   "id": "84c51b77",
   "metadata": {},
   "outputs": [],
   "source": [
    "for i in range(20):\n",
    "    global_model_APFL.execute_FL_loop()"
   ]
  },
  {
   "cell_type": "code",
   "execution_count": 45,
   "id": "220f51f2",
   "metadata": {},
   "outputs": [
    {
     "name": "stdout",
     "output_type": "stream",
     "text": [
      "(Current Local Round, Current Local Update)\n",
      "(154, 13)\n",
      "(126, 12)\n",
      "(135, 12)\n",
      "(126, 12)\n",
      "(144, 12)\n",
      "(154, 13)\n",
      "(126, 12)\n",
      "(126, 12)\n",
      "(108, 12)\n",
      "(117, 12)\n",
      "(198, 13)\n",
      "(117, 12)\n",
      "(99, 11)\n",
      "(108, 12)\n"
     ]
    }
   ],
   "source": [
    "for i in range(big_loop_iters):\n",
    "    global_model_APFL.execute_FL_loop()\n",
    "    \n",
    "print(\"(Current Local Round, Current Local Update)\")\n",
    "for my_client in global_model_APFL.all_clients:\n",
    "    print((my_client.current_round, my_client.current_update))"
   ]
  },
  {
   "cell_type": "code",
   "execution_count": 46,
   "id": "a8c84b03",
   "metadata": {},
   "outputs": [
    {
     "data": {
      "text/plain": [
       "[0.25]"
      ]
     },
     "execution_count": 46,
     "metadata": {},
     "output_type": "execute_result"
    }
   ],
   "source": [
    "user_c0_APFL[0].adap_alpha[:22]"
   ]
  },
  {
   "cell_type": "code",
   "execution_count": 47,
   "id": "64d738d0",
   "metadata": {},
   "outputs": [
    {
     "data": {
      "image/png": "[encoded data removed]",
      "text/plain": [
       "<Figure size 640x480 with 1 Axes>"
      ]
     },
     "metadata": {},
     "output_type": "display_data"
    }
   ],
   "source": [
    "condensed_external_plotting(user_c0_APFL, 'local', pers_error=True, show_update_change=False, custom_title=\"APFL: Global, Local, and Pers Costs Per Iter\")"
   ]
  },
  {
   "cell_type": "code",
   "execution_count": 48,
   "id": "0afb0a55",
   "metadata": {},
   "outputs": [
    {
     "data": {
      "image/png": "[encoded data removed]",
      "text/plain": [
       "<Figure size 640x480 with 1 Axes>"
      ]
     },
     "metadata": {},
     "output_type": "display_data"
    }
   ],
   "source": [
    "condensed_external_plotting(global_model_APFL, 'global', pers_error=True, show_update_change=False, custom_title=\"APFL: Global and Local Costs Per Iteration\")"
   ]
  },
  {
   "cell_type": "code",
   "execution_count": 27,
   "id": "4465670c",
   "metadata": {},
   "outputs": [
    {
     "ename": "AssertionError",
     "evalue": "",
     "output_type": "error",
     "traceback": [
      "\u001b[1;31m---------------------------------------------------------------------------\u001b[0m",
      "\u001b[1;31mAssertionError\u001b[0m                            Traceback (most recent call last)",
      "\u001b[1;32m~\\AppData\\Local\\Temp\\ipykernel_10740\\3481756770.py\u001b[0m in \u001b[0;36m<cell line: 1>\u001b[1;34m()\u001b[0m\n\u001b[1;32m----> 1\u001b[1;33m \u001b[1;32massert\u001b[0m\u001b[1;33m(\u001b[0m\u001b[1;36m1\u001b[0m\u001b[1;33m==\u001b[0m\u001b[1;36m0\u001b[0m\u001b[1;33m)\u001b[0m\u001b[1;33m\u001b[0m\u001b[1;33m\u001b[0m\u001b[0m\n\u001b[0m",
      "\u001b[1;31mAssertionError\u001b[0m: "
     ]
    }
   ],
   "source": [
    "assert(1==0)"
   ]
  },
  {
   "cell_type": "markdown",
   "id": "8bfff773",
   "metadata": {},
   "source": [
    "# DEVELOPMENT"
   ]
  },
  {
   "cell_type": "markdown",
   "id": "e846069e",
   "metadata": {},
   "source": [
    "# Personalized FL Algorithms\n",
    "ALL PERSONALIZATION ALGORITHMS\n",
    "1. APFL\n",
    "1. Cesar/Taha: AFL\n",
    "1. Cesar/Taha: PersA-FL MAML\n",
    "1. Cesar/Taha: PersA-FL ME\n",
    "1. PFA: PP F Adaptation for Effective Model Personalization\n",
    "1. Pers RT FL for Epileptic Seizure Detection\n",
    "1. An Efficient Framework for Clustered FL\n",
    "1. Pers FL with DP\n",
    "## Adaptive Personalized FL Testing Ground"
   ]
  },
  {
   "cell_type": "markdown",
   "id": "bfd91d63",
   "metadata": {},
   "source": [
    "Adapting their code to actually be able to be run in something other than top-down server-only approach\n",
    "> Their Github: https://github.com/MLOPTPSU/FedTorch <br>\n",
    "> APFL link: https://github.com/MLOPTPSU/FedTorch/blob/ab8068dbc96804a5c1a8b898fd115175cfebfe75/fedtorch/comms/trainings/federated/apfl.py#L33\n",
    "\n",
    "loss.backward() computes dloss/dx for every parameter x which has requires_grad=True. These are accumulated into x.grad for every parameter x. Loss.backward() does not update the weights, only computes the gradients.  The graph is used by loss.backward() to compute gradients.  In pseudo-code: x.grad += dloss/dx\n",
    "\n",
    "optimizer.step updates the value of x using the gradient x.grad. For example, the SGD optimizer performs:\n",
    "\n",
    "x += -lr * x.grad\n",
    "optimizer.zero_grad() clears x.grad for every parameter x in the optimizer. It’s important to call this before loss.backward(), otherwise you’ll accumulate the gradients from multiple passes.\n",
    "\n",
    "optimizer.zero_grad() and optimizer.step() do not affect the graph of autograd objects. They only touch the model’s parameters and the parameter’s grad attributes.\n",
    "\n",
    "If you have multiple losses (loss1, loss2) you can sum them and then call backwards once:\n",
    "\n",
    "loss3 = loss1 + loss2\n",
    "loss3.backward()"
   ]
  },
  {
   "cell_type": "code",
   "execution_count": null,
   "id": "79f1c4e3",
   "metadata": {},
   "outputs": [],
   "source": [
    "#python run_mpi.py -f -ft apfl -n 10 -d mnist -lg 0.1 -b 50 -c 20 -k 1.0 -fs local_step -l 10 -r 2 -pa 0.5 -fp\n",
    "#'--num_epochs': args.num_epochs_per_comm * args.num_comms,\n",
    "\n",
    "# num_epochs_per_comm=1\n",
    "# num_clients=20\n",
    "# batch_size=50\n",
    "# num_comms=100\n",
    "# lr_gamma=1.0\n",
    "# lr_mu = 1"
   ]
  },
  {
   "cell_type": "markdown",
   "id": "77a6699f",
   "metadata": {},
   "source": [
    "## Personalized Asynchronous Federated Learning (Taha+Cesar)\n",
    "> https://arxiv.org/pdf/2210.01176.pdf"
   ]
  },
  {
   "cell_type": "code",
   "execution_count": null,
   "id": "605dde82",
   "metadata": {},
   "outputs": [],
   "source": [
    "assert(1==0)"
   ]
  },
  {
   "cell_type": "markdown",
   "id": "4fee4ed7",
   "metadata": {},
   "source": [
    "Basic AFL\n",
    "> My code is not configured to run this way, although this way is the most realistic (server waits for client responses).  Ideally would have some way to weight different clients if there are some that are spamming, or generally just faster than others and contributing more."
   ]
  },
  {
   "cell_type": "code",
   "execution_count": null,
   "id": "203fd581",
   "metadata": {},
   "outputs": [],
   "source": [
    "# Repeat until converged...\n",
    "# how do you know in a decentralized way lol\n",
    "#if self.update_recieved:\n",
    "#    self.w -= self.beta*self.latest_update"
   ]
  },
  {
   "cell_type": "markdown",
   "id": "abd427f0",
   "metadata": {},
   "source": [
    "Personalized AFL\n",
    "> 3 Methods (1 is just vanilla AFL)"
   ]
  },
  {
   "cell_type": "code",
   "execution_count": null,
   "id": "61d93aee",
   "metadata": {},
   "outputs": [],
   "source": [
    "#input: number of local steps Q, local stepsize η, MAML stepsize α, Moreau Envelope (ME) regularization parameter λ, minimum batch size b, estimation error ν.\n",
    "\n",
    "# Do client selection\n",
    "\n",
    "for my_client in self.chosen_clients_lst:\n",
    "    my_client.global_w = self.w\n",
    "    for q in range(Q):\n",
    "        #\"Sample a data batch D_{i, q} from distribution p_i\"\n",
    "        \n",
    "        # OPTION A (AFL) --> Just what is shown in the cell above\n",
    "        if self.global_method=='AFL':\n",
    "            # Server doesn't have client's grad input info... eg FDHV\n",
    "            # In their model/code, does the client send the params or the new weight?\n",
    "            \n",
    "            # Eqn 5 is the original\n",
    "            # Eqn 9 is the biased estimation of 5, shown below\n",
    "            self.w -= self.eta*gradient_cost_l2(self.F,self.D,self.H,self.V,self.learning_batch,self.alphaF,self.alphaD)\n",
    "        # OPTION B (PersA-FL: MAML)\n",
    "        elif self.global_method=='PersA_FL_MAML':\n",
    "            #\"Sample 2 databatches from distribution p_i\"\n",
    "            # I have no idea what these terms are lol\n",
    "            # I don't think I can use the analytical cost funcs here either now\n",
    "            self.w -= self.eta*(I-alpha*Hessian(self.w, D_dd))*grad(self.w-alpha*grad(D_d), D)\n",
    "        # OPTION C (PersA-FL: ME)\n",
    "        elif self.global_method=='PersA_FL_ME':\n",
    "            self.h = f(theta_i, D) + lambda*0.5*(np.linalg.norm(theta_i - self.w)^2)\n",
    "            #\"Minimize h wrt theta_i up to accuracy level v to find theta_tilde_i\"\n",
    "            #np.linalg.norm(grad_h(theta_tilde_i(self.w), self.w, D)) <= v\n",
    "            #scipy.minimize(...)\n",
    "            self.w -= self.eta*lambda*(self.w - theta_tilde_i(self.w))\n",
    "        \n",
    "        # ELSE\n",
    "        else:\n",
    "            print(f'Global method {self.method} not defined, please select one from the following: {self.implemented_global_training_methods}')\n",
    "delta_i = self.w_i_0 - self.w_i_Q\n",
    "# client i broadcasts delta_i to the server\n",
    "#\"Repeat until not interrupted by the server\""
   ]
  },
  {
   "cell_type": "code",
   "execution_count": null,
   "id": "d3ad4c98",
   "metadata": {},
   "outputs": [],
   "source": []
  },
  {
   "cell_type": "code",
   "execution_count": null,
   "id": "c87bd474",
   "metadata": {},
   "outputs": [],
   "source": []
  },
  {
   "cell_type": "code",
   "execution_count": null,
   "id": "16784d97",
   "metadata": {},
   "outputs": [],
   "source": []
  }
 ],
 "metadata": {
  "kernelspec": {
   "display_name": "Python 3 (ipykernel)",
   "language": "python",
   "name": "python3"
  },
  "language_info": {
   "codemirror_mode": {
    "name": "ipython",
    "version": 3
   },
   "file_extension": ".py",
   "mimetype": "text/x-python",
   "name": "python",
   "nbconvert_exporter": "python",
   "pygments_lexer": "ipython3",
   "version": "3.9.15"
  }
 },
 "nbformat": 4,
 "nbformat_minor": 5
}
