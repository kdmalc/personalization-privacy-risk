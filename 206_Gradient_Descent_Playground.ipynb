{
 "cells": [
  {
   "cell_type": "code",
   "execution_count": 2,
   "id": "73d802f7",
   "metadata": {},
   "outputs": [],
   "source": [
    "import pandas as pd\n",
    "import os\n",
    "import numpy as np\n",
    "import random\n",
    "from matplotlib import pyplot as plt\n",
    "from scipy.optimize import minimize\n",
    "import copy\n",
    "\n",
    "from experiment_params import *\n",
    "from cost_funcs import *\n",
    "from fl_sim_classes import *\n",
    "import time\n",
    "import pickle\n",
    "from sklearn.decomposition import PCA"
   ]
  },
  {
   "cell_type": "code",
   "execution_count": 3,
   "id": "7678d333",
   "metadata": {},
   "outputs": [],
   "source": [
    "path = r'C:\\Users\\kdmen\\Desktop\\Research\\personalization-privacy-risk\\Data'\n",
    "cond0_filename = r'\\cond0_dict_list.p'\n",
    "all_decs_init_filename = r'\\all_decs_init.p'\n",
    "nofl_decs_filename = r'\\nofl_decs.p'\n",
    "id2color = {0:'lightcoral', 1:'maroon', 2:'chocolate', 3:'darkorange', 4:'gold', 5:'olive', 6:'olivedrab', \n",
    "            7:'lawngreen', 8:'aquamarine', 9:'deepskyblue', 10:'steelblue', 11:'violet', 12:'darkorchid', 13:'deeppink'}\n",
    "implemented_client_training_methods = ['EtaGradStep', 'EtaScipyMinStep', 'FullScipyMinStep']\n",
    "implement_these_methods_next = ['APFL', 'AFL', 'PersA_FL_MAML', 'PersA_FL_ME', 'PFA']\n",
    "num_participants = 14\n",
    "\n",
    "# For exclusion when plotting later on\n",
    "bad_nodes = [1,3,13]\n",
    "\n",
    "with open(path+cond0_filename, 'rb') as fp:\n",
    "    cond0_training_and_labels_lst = pickle.load(fp)\n",
    "\n",
    "D_0_7 = np.random.rand(2,7)"
   ]
  },
  {
   "cell_type": "markdown",
   "id": "8f64188a",
   "metadata": {},
   "source": [
    "## Load in a Dataset"
   ]
  },
  {
   "cell_type": "code",
   "execution_count": 5,
   "id": "71681f75",
   "metadata": {},
   "outputs": [
    {
     "data": {
      "text/html": [
       "<div>\n",
       "<style scoped>\n",
       "    .dataframe tbody tr th:only-of-type {\n",
       "        vertical-align: middle;\n",
       "    }\n",
       "\n",
       "    .dataframe tbody tr th {\n",
       "        vertical-align: top;\n",
       "    }\n",
       "\n",
       "    .dataframe thead th {\n",
       "        text-align: right;\n",
       "    }\n",
       "</style>\n",
       "<table border=\"1\" class=\"dataframe\">\n",
       "  <thead>\n",
       "    <tr style=\"text-align: right;\">\n",
       "      <th></th>\n",
       "      <th>sepal_length</th>\n",
       "      <th>sepal_width</th>\n",
       "      <th>petal_length</th>\n",
       "      <th>petal_width</th>\n",
       "      <th>species</th>\n",
       "    </tr>\n",
       "  </thead>\n",
       "  <tbody>\n",
       "    <tr>\n",
       "      <th>0</th>\n",
       "      <td>5.1</td>\n",
       "      <td>3.5</td>\n",
       "      <td>1.4</td>\n",
       "      <td>0.2</td>\n",
       "      <td>setosa</td>\n",
       "    </tr>\n",
       "    <tr>\n",
       "      <th>1</th>\n",
       "      <td>4.9</td>\n",
       "      <td>3.0</td>\n",
       "      <td>1.4</td>\n",
       "      <td>0.2</td>\n",
       "      <td>setosa</td>\n",
       "    </tr>\n",
       "    <tr>\n",
       "      <th>2</th>\n",
       "      <td>4.7</td>\n",
       "      <td>3.2</td>\n",
       "      <td>1.3</td>\n",
       "      <td>0.2</td>\n",
       "      <td>setosa</td>\n",
       "    </tr>\n",
       "    <tr>\n",
       "      <th>3</th>\n",
       "      <td>4.6</td>\n",
       "      <td>3.1</td>\n",
       "      <td>1.5</td>\n",
       "      <td>0.2</td>\n",
       "      <td>setosa</td>\n",
       "    </tr>\n",
       "    <tr>\n",
       "      <th>4</th>\n",
       "      <td>5.0</td>\n",
       "      <td>3.6</td>\n",
       "      <td>1.4</td>\n",
       "      <td>0.2</td>\n",
       "      <td>setosa</td>\n",
       "    </tr>\n",
       "  </tbody>\n",
       "</table>\n",
       "</div>"
      ],
      "text/plain": [
       "   sepal_length  sepal_width  petal_length  petal_width species\n",
       "0           5.1          3.5           1.4          0.2  setosa\n",
       "1           4.9          3.0           1.4          0.2  setosa\n",
       "2           4.7          3.2           1.3          0.2  setosa\n",
       "3           4.6          3.1           1.5          0.2  setosa\n",
       "4           5.0          3.6           1.4          0.2  setosa"
      ]
     },
     "execution_count": 5,
     "metadata": {},
     "output_type": "execute_result"
    }
   ],
   "source": [
    "iris = pd.read_csv('https://raw.githubusercontent.com/mwaskom/seaborn-data/master/iris.csv')\n",
    "iris.head()"
   ]
  },
  {
   "cell_type": "code",
   "execution_count": 12,
   "id": "a4ee0148",
   "metadata": {},
   "outputs": [
    {
     "data": {
      "text/plain": [
       "<matplotlib.collections.PathCollection at 0x20e354102e0>"
      ]
     },
     "execution_count": 12,
     "metadata": {},
     "output_type": "execute_result"
    },
    {
     "data": {
      "image/png": "[encoded data removed]",
      "text/plain": [
       "<Figure size 640x480 with 1 Axes>"
      ]
     },
     "metadata": {},
     "output_type": "display_data"
    }
   ],
   "source": [
    "plt.scatter(iris.iloc[:,0], iris.iloc[:,3])"
   ]
  },
  {
   "cell_type": "code",
   "execution_count": 13,
   "id": "eb48f87d",
   "metadata": {},
   "outputs": [
    {
     "data": {
      "text/html": [
       "<div>\n",
       "<style scoped>\n",
       "    .dataframe tbody tr th:only-of-type {\n",
       "        vertical-align: middle;\n",
       "    }\n",
       "\n",
       "    .dataframe tbody tr th {\n",
       "        vertical-align: top;\n",
       "    }\n",
       "\n",
       "    .dataframe thead th {\n",
       "        text-align: right;\n",
       "    }\n",
       "</style>\n",
       "<table border=\"1\" class=\"dataframe\">\n",
       "  <thead>\n",
       "    <tr style=\"text-align: right;\">\n",
       "      <th></th>\n",
       "      <th>sepal_length</th>\n",
       "      <th>petal_width</th>\n",
       "    </tr>\n",
       "  </thead>\n",
       "  <tbody>\n",
       "    <tr>\n",
       "      <th>0</th>\n",
       "      <td>5.1</td>\n",
       "      <td>0.2</td>\n",
       "    </tr>\n",
       "    <tr>\n",
       "      <th>1</th>\n",
       "      <td>4.9</td>\n",
       "      <td>0.2</td>\n",
       "    </tr>\n",
       "    <tr>\n",
       "      <th>2</th>\n",
       "      <td>4.7</td>\n",
       "      <td>0.2</td>\n",
       "    </tr>\n",
       "    <tr>\n",
       "      <th>3</th>\n",
       "      <td>4.6</td>\n",
       "      <td>0.2</td>\n",
       "    </tr>\n",
       "    <tr>\n",
       "      <th>4</th>\n",
       "      <td>5.0</td>\n",
       "      <td>0.2</td>\n",
       "    </tr>\n",
       "  </tbody>\n",
       "</table>\n",
       "</div>"
      ],
      "text/plain": [
       "   sepal_length  petal_width\n",
       "0           5.1          0.2\n",
       "1           4.9          0.2\n",
       "2           4.7          0.2\n",
       "3           4.6          0.2\n",
       "4           5.0          0.2"
      ]
     },
     "execution_count": 13,
     "metadata": {},
     "output_type": "execute_result"
    }
   ],
   "source": [
    "data = iris[['sepal_length', 'petal_width' ]]\n",
    "data.head()"
   ]
  },
  {
   "cell_type": "code",
   "execution_count": 34,
   "id": "2a49fdaa",
   "metadata": {},
   "outputs": [],
   "source": [
    "X = pd.DataFrame(data.iloc[:, 0])\n",
    "## Add a columns of 1s as intercept to X\n",
    "X['intercept'] = 1\n",
    "y = data.iloc[:, 1]\n",
    "m = len(Y)\n",
    "theta = np.array([0, 0])"
   ]
  },
  {
   "cell_type": "code",
   "execution_count": 35,
   "id": "3a5ad73f",
   "metadata": {},
   "outputs": [],
   "source": [
    "iterations = 1500\n",
    "alpha = 0.01"
   ]
  },
  {
   "cell_type": "code",
   "execution_count": 28,
   "id": "4651e526",
   "metadata": {},
   "outputs": [],
   "source": [
    "def cost_function(X, y, theta):\n",
    "    \"\"\"\n",
    "    cost_function(X, y, theta) computes the cost of using theta as the\n",
    "    parameter for linear regression to fit the data points in X and y\n",
    "    \"\"\"\n",
    "    ## number of training examples\n",
    "    m = len(y) \n",
    "    \n",
    "    ## Calculate the cost with the given parameters\n",
    "    J = np.sum((X.dot(theta)-y)**2)/2/m\n",
    "    \n",
    "    return J"
   ]
  },
  {
   "cell_type": "code",
   "execution_count": 36,
   "id": "0866dc72",
   "metadata": {},
   "outputs": [
    {
     "data": {
      "text/plain": [
       "1.0077666666666667"
      ]
     },
     "execution_count": 36,
     "metadata": {},
     "output_type": "execute_result"
    }
   ],
   "source": [
    "cost_function(X, y, theta)"
   ]
  },
  {
   "cell_type": "code",
   "execution_count": 48,
   "id": "35432e67",
   "metadata": {},
   "outputs": [],
   "source": [
    "cost_history = [0] * iterations\n",
    "gradient_history = [0] * iterations\n",
    "\n",
    "for i in range(iterations):\n",
    "    hypothesis = X.dot(theta)\n",
    "    loss = hypothesis-y\n",
    "    gradient = X.T.dot(loss)/m\n",
    "    theta = theta - alpha*gradient\n",
    "    cost = cost_function(X, y, theta)\n",
    "\n",
    "    cost_history[i] = cost\n",
    "    gradient_history[i] = gradient"
   ]
  },
  {
   "cell_type": "code",
   "execution_count": 37,
   "id": "811d19a5",
   "metadata": {},
   "outputs": [],
   "source": [
    "def gradient_descent(X, y, theta, alpha, iterations):\n",
    "    \"\"\"\n",
    "    gradient_descent Performs gradient descent to learn theta\n",
    "    theta = GRADIENTDESENT(X, y, theta, alpha, num_iters) updates theta by \n",
    "    taking num_iters gradient steps with learning rate alpha\n",
    "    \"\"\"\n",
    "    cost_history = [0] * iterations\n",
    "    gradient_history = [0] * iterations\n",
    "    \n",
    "    for iteration in range(iterations):\n",
    "        hypothesis = X.dot(theta)\n",
    "        loss = hypothesis-y\n",
    "        gradient = X.T.dot(loss)/m\n",
    "        theta = theta - alpha*gradient\n",
    "        cost = cost_function(X, y, theta)\n",
    "        \n",
    "        cost_history[iteration] = cost\n",
    "        gradient_history[iteration] = gradient\n",
    "\n",
    "    return theta, cost_history, gradient_history"
   ]
  },
  {
   "cell_type": "code",
   "execution_count": 38,
   "id": "f2b510a1",
   "metadata": {},
   "outputs": [],
   "source": [
    "(t, c, g) = gradient_descent(X,y,theta,alpha, iterations)"
   ]
  },
  {
   "cell_type": "code",
   "execution_count": 39,
   "id": "1d3f2174",
   "metadata": {},
   "outputs": [
    {
     "data": {
      "text/plain": [
       "sepal_length    0.344598\n",
       "intercept      -0.768004\n",
       "dtype: float64"
      ]
     },
     "execution_count": 39,
     "metadata": {},
     "output_type": "execute_result"
    }
   ],
   "source": [
    "t"
   ]
  },
  {
   "cell_type": "code",
   "execution_count": 40,
   "id": "26ddd9a9",
   "metadata": {},
   "outputs": [],
   "source": [
    "x_axis = list(range(iterations))"
   ]
  },
  {
   "cell_type": "code",
   "execution_count": 45,
   "id": "a528acad",
   "metadata": {},
   "outputs": [
    {
     "data": {
      "image/png": "[encoded data removed]",
      "text/plain": [
       "<Figure size 640x480 with 1 Axes>"
      ]
     },
     "metadata": {},
     "output_type": "display_data"
    }
   ],
   "source": [
    "plt.plot(x_axis, c)\n",
    "plt.show()"
   ]
  },
  {
   "cell_type": "code",
   "execution_count": 44,
   "id": "a71315fd",
   "metadata": {},
   "outputs": [
    {
     "data": {
      "image/png": "[encoded data removed]",
      "text/plain": [
       "<Figure size 640x480 with 1 Axes>"
      ]
     },
     "metadata": {},
     "output_type": "display_data"
    }
   ],
   "source": [
    "plt.plot(x_axis, g)\n",
    "plt.show()"
   ]
  },
  {
   "cell_type": "code",
   "execution_count": null,
   "id": "c614e3b6",
   "metadata": {},
   "outputs": [],
   "source": []
  },
  {
   "cell_type": "code",
   "execution_count": null,
   "id": "eae62cde",
   "metadata": {},
   "outputs": [],
   "source": []
  },
  {
   "cell_type": "code",
   "execution_count": null,
   "id": "6a06431d",
   "metadata": {},
   "outputs": [],
   "source": [
    "class TrainingMethods:\n",
    "    # Different training approaches\n",
    "    \n",
    "    # This one blows up to NAN/overflow... not sure why\n",
    "    def train_eta_gradstep(self, w, eta, F, D, H, V, learning_batch, alphaF, alphaD, PCA_comps):\n",
    "        grad_cost = np.reshape(gradient_cost_l2(F, D, H, V, learning_batch, alphaF, alphaD, Ne=PCA_comps),(2, PCA_comps))\n",
    "        w_new = w - eta*grad_cost\n",
    "        return w_new\n",
    "\n",
    "    def train_eta_scipyminstep(self, w, eta, F, D, H, V, learning_batch, alphaF, alphaD, D0, display_info, PCA_comps, full=False):\n",
    "        # I turned off display_info because it's kind of annoying\n",
    "        if full:\n",
    "            out = minimize(lambda D: cost_l2(F,D,H,V,learning_batch,alphaF,alphaD,Ne=PCA_comps), D0, method='BFGS', jac=lambda D: gradient_cost_l2(F,D,H,V,learning_batch,alphaF,alphaD,Ne=PCA_comps))#, options={'disp': display_info})\n",
    "        else:\n",
    "            out = minimize(lambda D: cost_l2(F,D,H,V,learning_batch,alphaF,alphaD,Ne=PCA_comps), D0, method='BFGS', jac=lambda D: gradient_cost_l2(F,D,H,V,learning_batch,alphaF,alphaD,Ne=PCA_comps), options={'maxiter':eta}) #'disp': display_info, \n",
    "        w_new = np.reshape(out.x,(2, PCA_comps))\n",
    "        return w_new"
   ]
  },
  {
   "cell_type": "code",
   "execution_count": null,
   "id": "1f676b5b",
   "metadata": {},
   "outputs": [],
   "source": [
    "def gd(X, y, theta, alpha, iterations):\n",
    "    #KAI'S MATRIX VERSION\n",
    "    \"\"\"\n",
    "    gradient_descent Performs gradient descent to learn theta\n",
    "    theta = GRADIENTDESENT(X, y, theta, alpha, num_iters) updates theta by \n",
    "    taking num_iters gradient steps with learning rate alpha\n",
    "    \"\"\"\n",
    "    cost_history = [0] * iterations\n",
    "    gradient_history = [0] * iterations\n",
    "    \n",
    "    for i in range(iterations):\n",
    "        hypothesis = X@theta\n",
    "        loss = hypothesis-y\n",
    "        gradient = X.T@loss/m\n",
    "        theta = theta - alpha*gradient\n",
    "        cost = cost_function(X, y, theta)\n",
    "        cost_history[i] = cost\n",
    "        gradient_history[i] = gradient\n",
    "\n",
    "    return theta, cost_history, gradient_history"
   ]
  },
  {
   "cell_type": "code",
   "execution_count": null,
   "id": "cf15400b",
   "metadata": {},
   "outputs": [],
   "source": [
    "print(cond0_training_and_labels_lst[0]['training'].shape)\n",
    "print(cond0_training_and_labels_lst[0]['training'][update_ix[11]:update_ix[12]].shape)\n",
    "print(cond0_training_and_labels_lst[0]['labels'][update_ix[11]:update_ix[12]].shape)"
   ]
  },
  {
   "cell_type": "code",
   "execution_count": null,
   "id": "4fc0b88b",
   "metadata": {},
   "outputs": [],
   "source": [
    "dt = 1.0/60.0\n",
    "\n",
    "s_temp = cond0_training_and_labels_lst[0]['training'][update_ix[11]:update_ix[12]]\n",
    "if self.PCA_comps!=self.pca_channel_default:  \n",
    "    pca = PCA(n_components=self.PCA_comps)\n",
    "    s_temp = pca.fit_transform(s_temp)\n",
    "s = np.transpose(s_temp)\n",
    "\n",
    "v_actual = D@s\n",
    "p_actual = np.cumsum(v_actual, axis=1)*dt\n",
    "\n",
    "p_reference = np.transpose(cond0_training_and_labels_lst[0]['labels'][update_ix[11]:update_ix[12]])\n",
    "\n",
    "F = s[:,:-1]\n",
    "V = (p_reference - p_actual)*dt\n",
    "\n",
    "Vglobal = (np.transpose(self.labels[lower_bound:upper_bound,:]) - np.cumsum(self.global_w@s, axis=1)*self.dt)*self.dt\n",
    "Vlocal = (np.transpose(self.labels[lower_bound:upper_bound,:]) - np.cumsum(self.local_w@s, axis=1)*self.dt)*self.dt"
   ]
  },
  {
   "cell_type": "code",
   "execution_count": null,
   "id": "34dde158",
   "metadata": {},
   "outputs": [],
   "source": [
    "t = self.current_global_round\n",
    "eigvals, _ = np.linalg.eig(hessian_cost_l2(self.F, self.alphaD))\n",
    "mu = np.amin(eigvals)  # Mu is the minimum eigvalue\n",
    "if mu.imag < self.tol and mu.real < self.tol:\n",
    "    mu = self.alphaD\n",
    "elif mu.imag < self.tol:\n",
    "    mu = mu.real\n",
    "elif mu.real < self.tol:\n",
    "    print(\"Setting to imaginary only\")\n",
    "    mu = mu.imag\n",
    "L = np.amax(eigvals)  # L is the maximum eigvalue\n",
    "if L.imag < self.tol and L.real < self.tol:\n",
    "    raise ValueError(\"L is 0, thus implying func is not L-smooth\")\n",
    "elif mu.imag < self.tol:\n",
    "    L = L.real\n",
    "elif L.real < self.tol:\n",
    "    print(\"Setting to imaginary only\")\n",
    "    L = L.imag\n",
    "if self.verbose:\n",
    "    print(f\"ID: {self.ID}, L: {L}, mu: {mu}\")\n",
    "kappa = L/mu\n",
    "a = np.max([128*kappa, self.tau])\n",
    "eta_t = 16 / (mu*(t+a))\n",
    "if self.input_eta:\n",
    "    if self.safe_lr!=False:\n",
    "        raise ValueError(\"Cannot input eta AND use safe learning rate (they overwrite each other)\")\n",
    "    eta_t = self.eta\n",
    "elif self.safe_lr!=False:\n",
    "    eta_t = 1/(self.safe_lr*L)\n",
    "elif eta_t >= 1/(2*L):\n",
    "    raise ValueError(\"Learning rate is too large according to constaints on GD\")\n",
    "if self.verbose:\n",
    "    print(f\"ID: {self.ID}, eta_t: {eta_t}\")\n",
    "    print()\n",
    "self.p.append((t+a)**2)\n",
    "\n",
    "if self.adaptive:\n",
    "    self.adap_alpha.append(self.adap_alpha[-1] - eta_t*np.inner(np.reshape((self.local_w-self.global_w), (self.PCA_comps*2)), np.reshape(gradient_cost_l2(self.F, self.mixed_w, self.H, self.V, self.learning_batch, self.alphaF, self.alphaD, Ne=self.PCA_comps), (2*self.PCA_comps,))))\n",
    "\n",
    "# GRADIENT DESCENT BASED MODEL UPDATE\n",
    "# NOTE: eta_t IS DIFFERENT FROM CLIENT'S ETA (WHICH IS NOT USED)\n",
    "# I think the grads really ought to be reshaping this automatically, not sure why it's not\n",
    "\n",
    "global_gradient = np.reshape(gradient_cost_l2(self.F, self.global_w, self.H, self.Vglobal, self.learning_batch, self.alphaF, self.alphaD, Ne=self.PCA_comps), (2, self.PCA_comps))\n",
    "local_gradient = np.reshape(gradient_cost_l2(self.F, self.mixed_w, self.H, self.Vlocal, self.learning_batch, self.alphaF, self.alphaD, Ne=self.PCA_comps), (2, self.PCA_comps))\n",
    "# Gradient clipping\n",
    "if self.gradient_clipping:\n",
    "    if np.linalg.norm(global_gradient) > self.clipping_threshold:\n",
    "        global_gradient = self.clipping_threshold*global_gradient/np.linalg.norm(global_gradient)\n",
    "    if np.linalg.norm(local_gradient) > self.clipping_threshold:\n",
    "        local_gradient = self.clipping_threshold*local_gradient/np.linalg.norm(local_gradient)\n",
    "\n",
    "########################################\n",
    "# Or should I normalize the dec here?  I'll also turn this on since idc about computational speed rn\n",
    "#if self.normalize_dec:\n",
    "#    self.global_w /= np.amax(self.global_w)\n",
    "#    self.local_w /= np.amax(self.local_w)\n",
    "#    self.mixed_w /= np.amax(self.mixed_w)\n",
    "########################################\n",
    "\n",
    "# PSEUDOCODE: my_client.global_w -= my_client.eta * grad(f_i(my_client.global_w; my_client.smallChi))\n",
    "self.global_w -= eta_t * global_gradient\n",
    "# PSEUDOCODE: my_client.local_w -= my_client.eta * grad_v(f_i(my_client.v_bar; my_client.smallChi))\n",
    "self.local_w -= eta_t * local_gradient\n",
    "self.mixed_w = self.adap_alpha[-1]*self.local_w - (1 - self.adap_alpha[-1])*self.global_w\n",
    "########################################\n",
    "# Or should I normalize the dec here?  I'll also turn this on since idc about computational speed rn\n",
    "#if self.normalize_dec:\n",
    "#    self.global_w /= np.amax(self.global_w)\n",
    "#    self.local_w /= np.amax(self.local_w)\n",
    "#    self.mixed_w /= np.amax(self.mixed_w)\n",
    "########################################\n"
   ]
  },
  {
   "cell_type": "markdown",
   "id": "200bfc4e",
   "metadata": {},
   "source": []
  },
  {
   "cell_type": "code",
   "execution_count": null,
   "id": "cf9fe4a6",
   "metadata": {},
   "outputs": [],
   "source": []
  },
  {
   "cell_type": "code",
   "execution_count": null,
   "id": "9ad46650",
   "metadata": {},
   "outputs": [],
   "source": []
  },
  {
   "cell_type": "code",
   "execution_count": null,
   "id": "56695021",
   "metadata": {},
   "outputs": [],
   "source": []
  },
  {
   "cell_type": "code",
   "execution_count": null,
   "id": "f4f754b1",
   "metadata": {},
   "outputs": [],
   "source": []
  },
  {
   "cell_type": "code",
   "execution_count": null,
   "id": "a6bd2281",
   "metadata": {},
   "outputs": [],
   "source": [
    "def cost_l2(F, D, H, V, learning_batch, alphaF, alphaD, alphaE=1e-6, Nd=2, Ne=64):\n",
    "    Nt = learning_batch\n",
    "    D = np.reshape(D,(Nd,Ne))\n",
    "    Vplus = V[:,1:]\n",
    "    Vminus = V[:,:-1]\n",
    "    term1 = alphaE*(np.linalg.norm((D@F + H@Vminus - Vplus))**2)\n",
    "    term2 = alphaD*(np.linalg.norm(D)**2)\n",
    "    term3 = alphaF*(np.linalg.norm(F)**2)\n",
    "    return (term1 + term2 + term3)\n",
    "# This is the Error function used to compute the loss for SGD\n",
    "def E(a,b,data):\n",
    "    # E(a,b) = (y - (a*x +b))^2 \n",
    "    x,y = data # x and y coordinates of the point\n",
    "    return (y-(a*x+b))**2"
   ]
  },
  {
   "cell_type": "code",
   "execution_count": null,
   "id": "d333b559",
   "metadata": {},
   "outputs": [],
   "source": [
    "# This is the gradient of the Error function used to update the equation's coefficients (a and b) for SGD\n",
    "def gradientE(a,b,data):\n",
    "    # gradA = dE(a,b)/da = -2*x*(y-a*x+b)\n",
    "    # gradB = dE(a,b)/db = -2*(y-a*x+b)\n",
    "    x,y = data\n",
    "    gradientA = -2*x*(y-(a*x+b))\n",
    "    gradientB = -2*(y-(a*x+b))\n",
    "\n",
    "    return np.array([gradientA,gradientB])\n",
    "def gradient_cost_l2(F, D, H, V, learning_batch, alphaF, alphaD, alphaE=1e-6, Nd=2, Ne=64):\n",
    "    Nt = learning_batch\n",
    "    D = np.reshape(D,(Nd, Ne))\n",
    "    Vplus = V[:,1:]\n",
    "    Vminus = V[:,:-1]\n",
    "    return ((2*(D@F + H@Vminus - Vplus)@F.T*(alphaE) + 2*alphaD*D ).flatten())"
   ]
  },
  {
   "cell_type": "code",
   "execution_count": null,
   "id": "894130ee",
   "metadata": {},
   "outputs": [],
   "source": [
    "# This is the stochastic gradient descent algorithm\n",
    "def stochasticGradientDescent(E, gradientE, data, startingCoefficients, learningRate, nbIteration):\n",
    "    \n",
    "    coefHistory = [] # Used to save the value of a and b at each iteration\n",
    "    lossHistory = [] # Used to save the value of the loss at each iteration\n",
    "    gradientHistory = [] # Used to save the value of the gradient at each iteration\n",
    "    X = startingCoefficients # This is a tuple (a,b) with a and b the starting coefficients\n",
    "    \n",
    "    for _ in range((int)(nbIteration/len(data))): # nbIterations/len(data) = number of epochs\n",
    "        \n",
    "        for i in range(len(data)): # len(data) iterations are made here\n",
    "            \n",
    "            loss = E(*X,data[i]) # Compute the loss for one data and the coefficients a and b\n",
    "            grad = gradientE(*X,data[i]) # Compute the gradient for one data\n",
    "\n",
    "            # Save the coefficients, loss and gradient of the current data in the lists\n",
    "            coefHistory.append(X)\n",
    "            lossHistory.append(loss)\n",
    "            gradientHistory.append(grad)\n",
    "\n",
    "            X = X-learningRate*grad # Update the coefficients a and b \n",
    "        \n",
    "    return coefHistory, lossHistory, gradientHistory\n",
    "\n",
    "\n",
    "# This is mini-batch stochastic gradient descent algorithm\n",
    "def miniBatchSGD(E, gradientE, data, startingCoefficients, learningRate, nbEpoch, batchSize):\n",
    "    \n",
    "    coefHistory = [] # Used to save the value of a and b at each iteration\n",
    "    lossHistory = [] # Used to save the value of the loss at each iteration\n",
    "    gradientHistory = [] # Used to save the value of the gradient at each iteration\n",
    "    X = startingCoefficients # This is a tuple (a,b) with a and b the starting coefficients\n",
    "    \n",
    "    for _ in range(nbEpoch): \n",
    "        \n",
    "        for i in range((int)(np.ceil(len(data)/batchSize))): # Number of steps (iterations)\n",
    "            batchData = data[i*batchSize:i*batchSize+batchSize] #Create the sublist that contains batchSize data       \n",
    "            \n",
    "            loss = MSE(*X,batchData) # Compute the loss thanks to the data and the coefficients a and b\n",
    "            grad = gradientMSE(*X,batchData) # Compute the gradient \n",
    "\n",
    "            # Save the coefficients, loss and gradient of the current iteration (epoch) in the lists\n",
    "            coefHistory.append(X)\n",
    "            lossHistory.append(loss)\n",
    "            gradientHistory.append(grad)\n",
    "\n",
    "            X = X-learningRate*grad # Update the coefficients a and b \n",
    "        \n",
    "    return coefHistory, lossHistory, gradientHistory"
   ]
  },
  {
   "cell_type": "code",
   "execution_count": null,
   "id": "f4fd5e9a",
   "metadata": {},
   "outputs": [],
   "source": [
    "def condensed_external_plotting(input_data, version, exclusion_ID_lst=[], dim_reduc_factor=10, plot_gradient=False, global_error=True, local_error=True, pers_error=False, different_local_round_thresh_per_client=False, legend_on=False, plot_performance=False, plot_Dnorm=False, plot_Fnorm=False, num_participants=14, show_update_change=False, custom_title=\"\", ylim=-1):\n",
    "    id2color = {0:'lightcoral', 1:'maroon', 2:'chocolate', 3:'darkorange', 4:'gold', 5:'olive', 6:'olivedrab', \n",
    "            7:'lawngreen', 8:'aquamarine', 9:'deepskyblue', 10:'steelblue', 11:'violet', 12:'darkorchid', 13:'deeppink'}\n",
    "    \n",
    "    global_alpha = 0.25\n",
    "    global_linewidth = 3.5\n",
    "    local_linewidth = 0.5\n",
    "    pers_linewidth = 1\n",
    "    \n",
    "    def moving_average(numbers, window_size):\n",
    "        i = 0\n",
    "        moving_averages = []\n",
    "        while i < len(numbers) - window_size + 1:\n",
    "            this_window = numbers[i : i + window_size]\n",
    "\n",
    "            window_average = sum(this_window) / window_size\n",
    "            moving_averages.append(window_average)\n",
    "            i += window_size\n",
    "        return moving_averages\n",
    "    \n",
    "    if custom_title:\n",
    "        my_title = custom_title\n",
    "    elif global_error and local_error:\n",
    "        my_title = f'Global and Local Costs Per {version.title()} Iter'\n",
    "    elif global_error:\n",
    "        my_title = f'Global Cost Per {version.title()} Iter'\n",
    "    elif local_error:\n",
    "        my_title = f'Local Costs Per {version.title()} Iter'\n",
    "    else:\n",
    "        raise ValueError(\"You set both global and local to False.  At least one must be true in order to plot something.\")\n",
    "\n",
    "    # Determine if this is global or local, based on the input for now... could probably add a flag but meh\n",
    "    if version.upper()=='LOCAL':\n",
    "        user_database = input_data\n",
    "    elif version.upper()=='GLOBAL':\n",
    "        user_database = input_data.all_clients\n",
    "    else:\n",
    "        raise ValueError(\"log_type must be either global or local, please retry\")\n",
    "        \n",
    "    running_max = 0\n",
    "    for i in range(len(user_database)):\n",
    "        # Skip over users that distort the scale\n",
    "        if user_database[i].ID in exclusion_ID_lst:\n",
    "            continue \n",
    "        else: \n",
    "            # This is used for plotting later\n",
    "            if len(user_database[i].local_error_log) > running_max:\n",
    "                running_max = len(user_database[i].local_error_log)\n",
    "\n",
    "            if version.upper()=='LOCAL':\n",
    "                if global_error:\n",
    "                    df = pd.DataFrame(user_database[i].global_error_log)\n",
    "                    # Need to append a col of indices for the dim reduc... just reset index?\n",
    "                    df.reset_index(inplace=True)\n",
    "                    df10 = df.groupby(df.index//dim_reduc_factor, axis=0).mean()\n",
    "                    plt.plot(df10.values[1:, 0], df10.values[1:, 1], color=id2color[user_database[i].ID], linewidth=global_linewidth, alpha=global_alpha)\n",
    "                if local_error:\n",
    "                    df = pd.DataFrame(user_database[i].local_error_log)\n",
    "                    df.reset_index(inplace=True)\n",
    "                    df10 = df.groupby(df.index//dim_reduc_factor, axis=0).mean()\n",
    "                    plt.plot(df10.values[1:, 0], df10.values[1:, 1], color=id2color[user_database[i].ID], linewidth=local_linewidth)\n",
    "                if pers_error:\n",
    "                    df = pd.DataFrame(user_database[i].personalized_error_log)\n",
    "                    df.reset_index(inplace=True)\n",
    "                    df10 = df.groupby(df.index//dim_reduc_factor, axis=0).mean()\n",
    "                    plt.plot(df10.values[1:, 0], df10.values[1:, 1], color=id2color[user_database[i].ID], linewidth=pers_linewidth, linestyle=\"--\")\n",
    "                # NOT THE COST FUNC, THESE ARE THE INDIVIDUAL COMPONENTS OF IT\n",
    "                if plot_performance:\n",
    "                    df = pd.DataFrame(user_database[i].performance_log)\n",
    "                    df.reset_index(inplace=True)\n",
    "                    df10 = df.groupby(df.index//dim_reduc_factor, axis=0).mean()\n",
    "                    plt.plot(df10.values[1:, 0], df10.values[1:, 1], color=id2color[user_database[i].ID], linewidth=pers_linewidth, label=f\"User{user_database[i].ID} Performance\")\n",
    "                if plot_gradient:\n",
    "                    df = pd.DataFrame(user_database[i].gradient_log)\n",
    "                    df.reset_index(inplace=True)\n",
    "                    df10 = df.groupby(df.index//dim_reduc_factor, axis=0).mean()\n",
    "                    plt.plot(df10.values[1:, 0], df10.values[1:, 1], color=id2color[user_database[i].ID], linewidth=2, label=f\"User{user_database[i].ID} Gradient\")\n",
    "            elif version.upper()=='GLOBAL':\n",
    "                if plot_Fnorm or plot_Dnorm or plot_performance:\n",
    "                    print(\"Fnorm, Dnorm, and performance are currently not supported for version==GLOBAL\")\n",
    "                    \n",
    "                if global_error:\n",
    "                    client_loss = []\n",
    "                    client_global_round = []\n",
    "                    for j in range(input_data.current_round):\n",
    "                        client_loss.append(input_data.global_error_log[j][i][2])\n",
    "                        # This is actually the client local round\n",
    "                        client_global_round.append(input_data.global_error_log[j][i][1])\n",
    "                    # Why is the [1:] here?  What happens when dim_reduc=1? \n",
    "                    # Verify that this is the same as my envelope code...\n",
    "                    plt.plot(moving_average(client_global_round, dim_reduc_factor)[1:], moving_average(client_loss, dim_reduc_factor)[1:], color=id2color[user_database[i].ID], linewidth=global_linewidth, alpha=global_alpha)\n",
    "\n",
    "                if local_error:\n",
    "                    client_loss = []\n",
    "                    client_global_round = []\n",
    "                    for j in range(input_data.current_round):\n",
    "                        client_loss.append(input_data.local_error_log[j][i][2])\n",
    "                        client_global_round.append(input_data.local_error_log[j][i][1])\n",
    "                    plt.plot(moving_average(client_global_round, dim_reduc_factor)[1:], moving_average(client_loss, dim_reduc_factor)[1:], color=id2color[user_database[i].ID], linewidth=local_linewidth)\n",
    "               \n",
    "                if pers_error:\n",
    "                    client_loss = []\n",
    "                    client_global_round = []\n",
    "                    for j in range(input_data.current_round):\n",
    "                        client_loss.append(input_data.personalized_error_log[j][i][2])\n",
    "                        client_global_round.append(input_data.personalized_error_log[j][i][1])\n",
    "                    plt.plot(moving_average(client_global_round, dim_reduc_factor)[1:], moving_average(client_loss, dim_reduc_factor)[1:], color=id2color[user_database[i].ID], linewidth=pers_linewidth, linestyle=\"--\")\n",
    "\n",
    "                if show_update_change:\n",
    "                    for update_round in user_database[i].update_transition_log:\n",
    "                        plt.axvline(x=(update_round), color=id2color[user_database[i].ID], linewidth=0.5, alpha=0.6)  \n",
    "\n",
    "    plt.ylabel('Cost L2')\n",
    "    plt.xlabel('Iteration Number')\n",
    "    plt.title(my_title)\n",
    "    if version.upper()=='GLOBAL':\n",
    "        running_max = input_data.current_round\n",
    "    num_ticks = 5\n",
    "    plt.xticks(ticks=np.linspace(0,running_max,num_ticks,dtype=int))\n",
    "    plt.xlim((0,running_max+1))\n",
    "    if ylim!=-1:\n",
    "        plt.ylim((0,ylim))\n",
    "    if legend_on:\n",
    "        plt.legend()\n",
    "    plt.show()"
   ]
  },
  {
   "cell_type": "code",
   "execution_count": null,
   "id": "74e1e76a",
   "metadata": {},
   "outputs": [],
   "source": []
  },
  {
   "cell_type": "code",
   "execution_count": null,
   "id": "e2089fe9",
   "metadata": {},
   "outputs": [],
   "source": [
    "user_c0_APFL_eta_m10 = [Client(i, D_0_7, 'NAN', cond0_training_and_labels_lst[i], \n",
    "                       'streaming', eta=1e-10, input_eta=True, gradient_clipping=True, adaptive=False, \n",
    "                       num_steps=10, global_method='APFL') for i in range(14)]"
   ]
  },
  {
   "cell_type": "code",
   "execution_count": null,
   "id": "a94c14a1",
   "metadata": {},
   "outputs": [],
   "source": [
    "gradient_descent(X, y, theta, alpha, iterations)"
   ]
  },
  {
   "cell_type": "code",
   "execution_count": null,
   "id": "c649eb7c",
   "metadata": {},
   "outputs": [],
   "source": [
    "stochasticGradientDescent(E, gradientE, data, startingCoefficients, learningRate, nbIteration)"
   ]
  },
  {
   "cell_type": "code",
   "execution_count": null,
   "id": "526880c3",
   "metadata": {},
   "outputs": [],
   "source": [
    "miniBatchSGD(E, gradientE, data, startingCoefficients, learningRate, nbEpoch, batchSize)"
   ]
  },
  {
   "cell_type": "code",
   "execution_count": null,
   "id": "46b4925a",
   "metadata": {},
   "outputs": [],
   "source": []
  },
  {
   "cell_type": "code",
   "execution_count": null,
   "id": "b0ca0689",
   "metadata": {},
   "outputs": [],
   "source": []
  },
  {
   "cell_type": "code",
   "execution_count": null,
   "id": "feaa4070",
   "metadata": {},
   "outputs": [],
   "source": []
  },
  {
   "cell_type": "code",
   "execution_count": null,
   "id": "df2a46ec",
   "metadata": {},
   "outputs": [],
   "source": []
  },
  {
   "cell_type": "code",
   "execution_count": null,
   "id": "c66b15f1",
   "metadata": {},
   "outputs": [],
   "source": []
  }
 ],
 "metadata": {
  "kernelspec": {
   "display_name": "Python 3 (ipykernel)",
   "language": "python",
   "name": "python3"
  },
  "language_info": {
   "codemirror_mode": {
    "name": "ipython",
    "version": 3
   },
   "file_extension": ".py",
   "mimetype": "text/x-python",
   "name": "python",
   "nbconvert_exporter": "python",
   "pygments_lexer": "ipython3",
   "version": "3.9.15"
  }
 },
 "nbformat": 4,
 "nbformat_minor": 5
}
