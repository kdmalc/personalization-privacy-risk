{
 "cells": [
  {
   "cell_type": "code",
   "execution_count": null,
   "id": "f59151bd",
   "metadata": {},
   "outputs": [],
   "source": []
  },
  {
   "cell_type": "code",
   "execution_count": null,
   "id": "08ab3ca2",
   "metadata": {},
   "outputs": [],
   "source": []
  },
  {
   "cell_type": "markdown",
   "id": "f7ac5acc",
   "metadata": {},
   "source": [
    "# PARS-Push: Personalized, Robust Stochastic Gradient-Push\n",
    "- We consider a static, directed, and strongly connected network G = {[n], E} with no self-loops, and E ⊆ [n] × [n], where (i, j) ∈ E if there is an edge from node i to j. --> Eg this is not federated learning, appears to be fully distributed\n",
    "- The core of our method relies on the running sum technique developed in [20]–[22] which is equivalent to the Push-Sum algorithm [25] over a sequence of virtual time-varying augmented graphs. \n",
    "- PARS-Push has two key aspects: (i) robust asynchronous aggregation over a virtual, augmented graph, and (ii) stochastic gradient descent with respect to unbiased stochastic gradients of (4)."
   ]
  },
  {
   "cell_type": "markdown",
   "id": "3df50539",
   "metadata": {},
   "source": [
    "1. First, agent i select u+1 independent data batches curly_v wrt p_i, and after performing u steps of stochastic gradient descent starting from zi (Lines 6-11)\n",
    "\n",
    "1. Agent i computes an unbiased stochastic gradient of (4), and then updates xi in Line 12\n",
    "\n",
    "1. Second, node i updatesits parameters xi, yi, φx i , and φy i according to Line 14-15, \n",
    "\n",
    "1. Then sends the running sum parameters to its out-neighbors N_i^+ (Line 16)\n",
    "\n",
    "1. Finally, agent i processes the received messages from its in-neighbors N − i which leads to selecting the most recent updates (Lines 17-22)\n",
    "\n",
    "1. Consequently, agent i updates xi, yi, and zi in Lines 23-25 by combining newly received messages.\n"
   ]
  },
  {
   "cell_type": "code",
   "execution_count": null,
   "id": "7f2433c2",
   "metadata": {},
   "outputs": [],
   "source": [
    " ## Inputs\n",
    "#x_i  # exists in R^d; i is each node\n",
    "#theta_t  # exists in R for all t existing in Z0^+\n",
    "# Init\n",
    "y_i = 1\n",
    "z_i = x_i\n",
    "kappa_i = -1\n",
    "phi_i_x = 0\n",
    "phi_i_y = 0\n",
    "kappa_ij = -1  # For all (j, i) existing in Edges\n",
    "rho_ij_x = -1  # For all (j, i) existing in Edges\n",
    "rho_ij_y = -1  # For all (j, i) existing in Edges\n",
    "for t in range(1000):\n",
    "    for my_client in all_clients:\n",
    "        if my_client.available:\n",
    "            # Line 5\n",
    "            my_client.n = np.sum(theta)  # From my_client.kappa+1 to t\n",
    "            # Line 6-11\n",
    "            w_i = z_i\n",
    "            for r in range(u-1):\n",
    "                # Sample a batch D^t_{i, r} with size b from p_i\n",
    "                w_i^(r+1) = w_i^r - alpha*nabla_tilde(w_i^r, D^t_{i, r})\n",
    "            # Sample a batch D^t_{i, u} with size b from p_i\n",
    "            # Is that an introduction or just now shown ...\n",
    "            # Line 12\n",
    "            # Crazy eqn\n",
    "            x_i = x_i - n_i[...]\n",
    "            kappa_i = t\n",
    "            # Line 14-15\n",
    "            x_i = x_i/(d^+_i + 1)\n",
    "            y_i = y_i/(d^+_i + 1)\n",
    "            phi^x_i += x_i\n",
    "            phu^y_i += y_i\n",
    "            # Line 16\n",
    "            blah\n",
    "            # Lines 17-22\n",
    "            blah\n",
    "            for (phi^x_i, phi^y_i, kappa_i) in R_i:\n",
    "                if kappa_j > kappa_{ij}:\n",
    "                    blahx\n",
    "                    blahy\n",
    "            # Line 23\n",
    "            blahx\n",
    "            blahy\n",
    "            blahx\n",
    "            blahy\n",
    "#return z_i \n"
   ]
  },
  {
   "cell_type": "code",
   "execution_count": null,
   "id": "7a1be568",
   "metadata": {},
   "outputs": [],
   "source": []
  },
  {
   "cell_type": "code",
   "execution_count": null,
   "id": "7ae9a627",
   "metadata": {},
   "outputs": [],
   "source": []
  }
 ],
 "metadata": {
  "kernelspec": {
   "display_name": "Python 3 (ipykernel)",
   "language": "python",
   "name": "python3"
  },
  "language_info": {
   "codemirror_mode": {
    "name": "ipython",
    "version": 3
   },
   "file_extension": ".py",
   "mimetype": "text/x-python",
   "name": "python",
   "nbconvert_exporter": "python",
   "pygments_lexer": "ipython3",
   "version": "3.9.15"
  }
 },
 "nbformat": 4,
 "nbformat_minor": 5
}
