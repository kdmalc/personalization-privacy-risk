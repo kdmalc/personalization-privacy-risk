{
 "cells": [
  {
   "cell_type": "markdown",
   "id": "d17f193d",
   "metadata": {},
   "source": [
    "> __Purpose:__ Implement an initial privacy attack to quantify how much re-identiifcation and linkability risk exists from  filtered EMG data (should be highly unique). Thus, implement a basic ML model to link the EMG data back to the corresponding subject.  \n",
    "\n",
    "-- 7 Subjects, therefore pure guessing would be 14.28% correct on average"
   ]
  },
  {
   "cell_type": "code",
   "execution_count": 1,
   "id": "a61b3128",
   "metadata": {},
   "outputs": [],
   "source": [
    "import numpy as np\n",
    "import matplotlib.pyplot as plt\n",
    "import seaborn as sns\n",
    "from presentation_sns_config import *\n",
    "import pandas as pd\n",
    "from kcs_ml_infr import *\n",
    "from experiment_params import *\n",
    "\n",
    "from IPython.display import display\n",
    "\n",
    "# Make annoying KNN warning go away since I'm not going to edit scikit learn's code lol\n",
    "import warnings\n",
    "warnings.filterwarnings(\"ignore\")"
   ]
  },
  {
   "cell_type": "markdown",
   "id": "813563cf",
   "metadata": {},
   "source": [
    "# Filtered EMG Data Privacy Evaluation\n",
    ">Linking EMG Data to Participants\n",
    "1. Does the channel matter / improve performance? Within the same block (assuming different blocks have the strap re-put on) then presumably the same muscles should act in similar ways.  __Just do PCA on it and don't worry about it__\n",
    "2. Does the condition matter? Presumably, but the question is how much.  __Only look at condition for conditions that changed performance (eg learning rate speed)__\n",
    "3. Ways to compress the input data: PCA/LDA/nonlinearversion, or norms of the vectors... is it even necessary / beneficial to performance.  __Focus on just PCA for now__\n",
    "4. __No standard scaler since negative filtered EMG data has no meaning__\n",
    "1. Actually, do NMF instead of PCA since PCA can result in negative values which don't have any meaning for EMG data\n",
    "\n",
    "## 1) Create Envelope of Filtered EMG Data"
   ]
  },
  {
   "cell_type": "code",
   "execution_count": 2,
   "id": "6331b7ab",
   "metadata": {},
   "outputs": [],
   "source": [
    "# Dont rerun this code since it's already been done and also takes forever\n",
    "if 0:\n",
    "    t0 = time.time()\n",
    "\n",
    "    emg_data_df1 = pd.read_csv(\"Data\\emg_full_data1.csv\")\n",
    "    emg_labels_df1 = pd.read_csv(\"Data\\emg_full_labels1.csv\")\n",
    "    emg_data_df2 = pd.read_csv(\"Data\\emg_full_data2.csv\")\n",
    "    emg_labels_df2 = pd.read_csv(\"Data\\emg_full_labels2.csv\")\n",
    "\n",
    "    t1 = time.time()\n",
    "    total = t1-t0  \n",
    "    print(total)\n",
    "\n",
    "    emg_data_df = pd.concat((emg_data_df1, emg_data_df2))\n",
    "    emg_labels_df = pd.concat((emg_labels_df1, emg_labels_df2))\n",
    "    emg_data_df.drop('Unnamed: 0', axis=1, inplace=True)\n",
    "    emg_labels_df.drop('Unnamed: 0', axis=1, inplace=True)\n",
    "    labels_df = pd.DataFrame(emg_labels_df['Subject'].map(key_to_num))\n",
    "\n",
    "    t0 = time.time()\n",
    "\n",
    "    plt.plot(emg_data_df.iloc[0, :])\n",
    "    plt.show()\n",
    "\n",
    "    t1 = time.time()\n",
    "    total = t1-t0  \n",
    "    print(total)\n",
    "\n",
    "    # Do a crude moving average with no overlap\n",
    "    envelope_df50 = emg_data_df.groupby(np.arange(len(emg_data_df.columns))//50, axis=1).mean()\n",
    "    envelope_df100 = emg_data_df.groupby(np.arange(len(emg_data_df.columns))//100, axis=1).mean()\n",
    "    envelope_df150 = emg_data_df.groupby(np.arange(len(emg_data_df.columns))//150, axis=1).mean()\n",
    "    envelope_df200 = emg_data_df.groupby(np.arange(len(emg_data_df.columns))//200, axis=1).mean()\n",
    "    envelope_df250 = emg_data_df.groupby(np.arange(len(emg_data_df.columns))//250, axis=1).mean()\n",
    "    envelope_df300 = emg_data_df.groupby(np.arange(len(emg_data_df.columns))//250, axis=1).mean()\n",
    "\n",
    "    envelope_df50.to_csv(\"Data\\envelope_df50.csv\")\n",
    "    envelope_df100.to_csv(\"Data\\envelope_df100.csv\")\n",
    "    envelope_df150.to_csv(\"Data\\envelope_df150.csv\")\n",
    "    envelope_df200.to_csv(\"Data\\envelope_df200.csv\")\n",
    "    envelope_df250.to_csv(\"Data\\envelope_df250.csv\")\n",
    "    envelope_df300.to_csv(\"Data\\envelope_df300.csv\")\n",
    "\n",
    "    # This is substantially different than the original lol\n",
    "    plt.plot(envelope_df100.iloc[0, :])\n",
    "    plt.xlabel(\"Downsampled Time\")\n",
    "    plt.ylabel(\"EMG Reading\")\n",
    "    plt.title(\"Smoothed EMG Data (100 ms windows)\")\n",
    "    plt.show()\n",
    "\n",
    "    ex = emg_data_df.iloc[0, :].rolling(window=100).mean().dropna().plot()"
   ]
  },
  {
   "cell_type": "markdown",
   "id": "a850bb15",
   "metadata": {},
   "source": [
    "# Load In Data"
   ]
  },
  {
   "cell_type": "markdown",
   "id": "04a97330",
   "metadata": {},
   "source": [
    "Load in the other data\n",
    "> This cell takes ~2 minutes to run as a heads up"
   ]
  },
  {
   "cell_type": "code",
   "execution_count": 3,
   "id": "30b50886",
   "metadata": {},
   "outputs": [
    {
     "name": "stdout",
     "output_type": "stream",
     "text": [
      "(14336, 3)\n"
     ]
    },
    {
     "data": {
      "text/html": [
       "<div>\n",
       "<style scoped>\n",
       "    .dataframe tbody tr th:only-of-type {\n",
       "        vertical-align: middle;\n",
       "    }\n",
       "\n",
       "    .dataframe tbody tr th {\n",
       "        vertical-align: top;\n",
       "    }\n",
       "\n",
       "    .dataframe thead th {\n",
       "        text-align: right;\n",
       "    }\n",
       "</style>\n",
       "<table border=\"1\" class=\"dataframe\">\n",
       "  <thead>\n",
       "    <tr style=\"text-align: right;\">\n",
       "      <th></th>\n",
       "      <th>Subject</th>\n",
       "      <th>Condition</th>\n",
       "      <th>Channel</th>\n",
       "    </tr>\n",
       "  </thead>\n",
       "  <tbody>\n",
       "    <tr>\n",
       "      <th>0</th>\n",
       "      <td>METACPHS_S106</td>\n",
       "      <td>0</td>\n",
       "      <td>0</td>\n",
       "    </tr>\n",
       "    <tr>\n",
       "      <th>1</th>\n",
       "      <td>METACPHS_S106</td>\n",
       "      <td>0</td>\n",
       "      <td>1</td>\n",
       "    </tr>\n",
       "    <tr>\n",
       "      <th>2</th>\n",
       "      <td>METACPHS_S106</td>\n",
       "      <td>0</td>\n",
       "      <td>2</td>\n",
       "    </tr>\n",
       "    <tr>\n",
       "      <th>3</th>\n",
       "      <td>METACPHS_S106</td>\n",
       "      <td>0</td>\n",
       "      <td>3</td>\n",
       "    </tr>\n",
       "    <tr>\n",
       "      <th>4</th>\n",
       "      <td>METACPHS_S106</td>\n",
       "      <td>0</td>\n",
       "      <td>4</td>\n",
       "    </tr>\n",
       "  </tbody>\n",
       "</table>\n",
       "</div>"
      ],
      "text/plain": [
       "         Subject  Condition  Channel\n",
       "0  METACPHS_S106          0        0\n",
       "1  METACPHS_S106          0        1\n",
       "2  METACPHS_S106          0        2\n",
       "3  METACPHS_S106          0        3\n",
       "4  METACPHS_S106          0        4"
      ]
     },
     "execution_count": 3,
     "metadata": {},
     "output_type": "execute_result"
    }
   ],
   "source": [
    "emg_labels_df1 = pd.read_csv(\"Data\\emg_full_labels1.csv\")\n",
    "emg_labels_df2 = pd.read_csv(\"Data\\emg_full_labels2.csv\")\n",
    "emg_labels_df = pd.concat((emg_labels_df1, emg_labels_df2))\n",
    "\n",
    "try:\n",
    "    emg_labels_df.drop('Unnamed: 0', axis=1, inplace=True)\n",
    "except:\n",
    "    # Masterful code here\n",
    "    print(\"NO UNNAMED COLUMN DETECTED!\")\n",
    "\n",
    "print(emg_labels_df.shape)\n",
    "emg_labels_df.head()"
   ]
  },
  {
   "cell_type": "code",
   "execution_count": 4,
   "id": "204c1691",
   "metadata": {},
   "outputs": [
    {
     "data": {
      "text/html": [
       "<div>\n",
       "<style scoped>\n",
       "    .dataframe tbody tr th:only-of-type {\n",
       "        vertical-align: middle;\n",
       "    }\n",
       "\n",
       "    .dataframe tbody tr th {\n",
       "        vertical-align: top;\n",
       "    }\n",
       "\n",
       "    .dataframe thead th {\n",
       "        text-align: right;\n",
       "    }\n",
       "</style>\n",
       "<table border=\"1\" class=\"dataframe\">\n",
       "  <thead>\n",
       "    <tr style=\"text-align: right;\">\n",
       "      <th></th>\n",
       "      <th>Subject</th>\n",
       "    </tr>\n",
       "  </thead>\n",
       "  <tbody>\n",
       "    <tr>\n",
       "      <th>0</th>\n",
       "      <td>0</td>\n",
       "    </tr>\n",
       "    <tr>\n",
       "      <th>1</th>\n",
       "      <td>0</td>\n",
       "    </tr>\n",
       "    <tr>\n",
       "      <th>2</th>\n",
       "      <td>0</td>\n",
       "    </tr>\n",
       "    <tr>\n",
       "      <th>3</th>\n",
       "      <td>0</td>\n",
       "    </tr>\n",
       "    <tr>\n",
       "      <th>4</th>\n",
       "      <td>0</td>\n",
       "    </tr>\n",
       "  </tbody>\n",
       "</table>\n",
       "</div>"
      ],
      "text/plain": [
       "   Subject\n",
       "0        0\n",
       "1        0\n",
       "2        0\n",
       "3        0\n",
       "4        0"
      ]
     },
     "execution_count": 4,
     "metadata": {},
     "output_type": "execute_result"
    }
   ],
   "source": [
    "labels_df = pd.DataFrame(emg_labels_df['Subject'].map(key_to_num))\n",
    "labels_df.head()"
   ]
  },
  {
   "cell_type": "code",
   "execution_count": 5,
   "id": "979df175",
   "metadata": {},
   "outputs": [
    {
     "ename": "AssertionError",
     "evalue": "",
     "output_type": "error",
     "traceback": [
      "\u001b[1;31m---------------------------------------------------------------------------\u001b[0m",
      "\u001b[1;31mAssertionError\u001b[0m                            Traceback (most recent call last)",
      "\u001b[1;32m~\\AppData\\Local\\Temp\\ipykernel_10116\\4146507907.py\u001b[0m in \u001b[0;36m<cell line: 2>\u001b[1;34m()\u001b[0m\n\u001b[0;32m      1\u001b[0m \u001b[1;31m# The below needs to be run on raw EMG data not the filtered data.  Don't waste time running it again\u001b[0m\u001b[1;33m\u001b[0m\u001b[1;33m\u001b[0m\u001b[0m\n\u001b[1;32m----> 2\u001b[1;33m \u001b[1;32massert\u001b[0m\u001b[1;33m(\u001b[0m\u001b[1;36m1\u001b[0m\u001b[1;33m==\u001b[0m\u001b[1;36m0\u001b[0m\u001b[1;33m)\u001b[0m\u001b[1;33m\u001b[0m\u001b[1;33m\u001b[0m\u001b[0m\n\u001b[0m",
      "\u001b[1;31mAssertionError\u001b[0m: "
     ]
    }
   ],
   "source": [
    "# The below needs to be run on raw EMG data not the filtered data.  Don't waste time running it again\n",
    "assert(1==0)"
   ]
  },
  {
   "cell_type": "markdown",
   "id": "beb204dc",
   "metadata": {},
   "source": [
    "# Filtered EMG Data Privacy Evaluation\n",
    ">Linking EMG Data to Participants\n",
    "1. Does the channel matter / improve performance? Within the same block (assuming different blocks have the strap re-put on) then presumably the same muscles should act in similar ways.  __Just do PCA on it and don't worry about it__\n",
    "2. Does the condition matter? Presumably, but the question is how much.  __Only look at condition for conditions that changed performance (eg learning rate speed)__"
   ]
  },
  {
   "cell_type": "markdown",
   "id": "3e6433b2",
   "metadata": {},
   "source": [
    "## Load the Envelopes of Filtered EMG Data"
   ]
  },
  {
   "cell_type": "code",
   "execution_count": 6,
   "id": "8be26eda",
   "metadata": {},
   "outputs": [
    {
     "name": "stdout",
     "output_type": "stream",
     "text": [
      "100\n",
      "(7168, 208)\n"
     ]
    },
    {
     "data": {
      "text/html": [
       "<div>\n",
       "<style scoped>\n",
       "    .dataframe tbody tr th:only-of-type {\n",
       "        vertical-align: middle;\n",
       "    }\n",
       "\n",
       "    .dataframe tbody tr th {\n",
       "        vertical-align: top;\n",
       "    }\n",
       "\n",
       "    .dataframe thead th {\n",
       "        text-align: right;\n",
       "    }\n",
       "</style>\n",
       "<table border=\"1\" class=\"dataframe\">\n",
       "  <thead>\n",
       "    <tr style=\"text-align: right;\">\n",
       "      <th></th>\n",
       "      <th>0</th>\n",
       "      <th>1</th>\n",
       "      <th>2</th>\n",
       "      <th>3</th>\n",
       "      <th>4</th>\n",
       "      <th>5</th>\n",
       "      <th>6</th>\n",
       "      <th>7</th>\n",
       "      <th>8</th>\n",
       "      <th>9</th>\n",
       "      <th>...</th>\n",
       "      <th>198</th>\n",
       "      <th>199</th>\n",
       "      <th>200</th>\n",
       "      <th>201</th>\n",
       "      <th>202</th>\n",
       "      <th>203</th>\n",
       "      <th>204</th>\n",
       "      <th>205</th>\n",
       "      <th>206</th>\n",
       "      <th>207</th>\n",
       "    </tr>\n",
       "  </thead>\n",
       "  <tbody>\n",
       "    <tr>\n",
       "      <th>0</th>\n",
       "      <td>14.129705</td>\n",
       "      <td>11.959808</td>\n",
       "      <td>28.685874</td>\n",
       "      <td>33.823858</td>\n",
       "      <td>42.311438</td>\n",
       "      <td>22.872970</td>\n",
       "      <td>28.686864</td>\n",
       "      <td>91.792338</td>\n",
       "      <td>26.813570</td>\n",
       "      <td>28.583164</td>\n",
       "      <td>...</td>\n",
       "      <td>43.676011</td>\n",
       "      <td>39.113891</td>\n",
       "      <td>27.947874</td>\n",
       "      <td>31.573392</td>\n",
       "      <td>36.614566</td>\n",
       "      <td>35.604320</td>\n",
       "      <td>51.523493</td>\n",
       "      <td>31.292127</td>\n",
       "      <td>59.277122</td>\n",
       "      <td>51.997711</td>\n",
       "    </tr>\n",
       "    <tr>\n",
       "      <th>1</th>\n",
       "      <td>13.895036</td>\n",
       "      <td>12.063848</td>\n",
       "      <td>22.026072</td>\n",
       "      <td>27.027048</td>\n",
       "      <td>59.187831</td>\n",
       "      <td>23.013614</td>\n",
       "      <td>30.960467</td>\n",
       "      <td>81.718608</td>\n",
       "      <td>29.116355</td>\n",
       "      <td>28.694447</td>\n",
       "      <td>...</td>\n",
       "      <td>41.396844</td>\n",
       "      <td>44.348191</td>\n",
       "      <td>31.188022</td>\n",
       "      <td>30.580405</td>\n",
       "      <td>32.773796</td>\n",
       "      <td>39.768986</td>\n",
       "      <td>51.494867</td>\n",
       "      <td>29.641406</td>\n",
       "      <td>47.146682</td>\n",
       "      <td>58.581918</td>\n",
       "    </tr>\n",
       "    <tr>\n",
       "      <th>2</th>\n",
       "      <td>13.214033</td>\n",
       "      <td>15.229451</td>\n",
       "      <td>23.956005</td>\n",
       "      <td>25.832507</td>\n",
       "      <td>48.218284</td>\n",
       "      <td>29.437285</td>\n",
       "      <td>27.001414</td>\n",
       "      <td>35.878805</td>\n",
       "      <td>29.420835</td>\n",
       "      <td>31.587059</td>\n",
       "      <td>...</td>\n",
       "      <td>27.507856</td>\n",
       "      <td>35.271588</td>\n",
       "      <td>28.060107</td>\n",
       "      <td>24.463167</td>\n",
       "      <td>30.750010</td>\n",
       "      <td>39.033112</td>\n",
       "      <td>31.714344</td>\n",
       "      <td>17.286340</td>\n",
       "      <td>30.174009</td>\n",
       "      <td>49.750919</td>\n",
       "    </tr>\n",
       "    <tr>\n",
       "      <th>3</th>\n",
       "      <td>13.979167</td>\n",
       "      <td>16.414878</td>\n",
       "      <td>19.550628</td>\n",
       "      <td>21.984005</td>\n",
       "      <td>32.083749</td>\n",
       "      <td>26.856702</td>\n",
       "      <td>23.001818</td>\n",
       "      <td>21.776800</td>\n",
       "      <td>23.041464</td>\n",
       "      <td>24.603026</td>\n",
       "      <td>...</td>\n",
       "      <td>21.163787</td>\n",
       "      <td>27.844200</td>\n",
       "      <td>26.265045</td>\n",
       "      <td>24.563413</td>\n",
       "      <td>29.984113</td>\n",
       "      <td>35.764448</td>\n",
       "      <td>23.072423</td>\n",
       "      <td>15.670036</td>\n",
       "      <td>22.936556</td>\n",
       "      <td>38.122263</td>\n",
       "    </tr>\n",
       "    <tr>\n",
       "      <th>4</th>\n",
       "      <td>10.168381</td>\n",
       "      <td>10.501039</td>\n",
       "      <td>12.856129</td>\n",
       "      <td>16.059131</td>\n",
       "      <td>20.128401</td>\n",
       "      <td>13.435236</td>\n",
       "      <td>16.672336</td>\n",
       "      <td>18.134148</td>\n",
       "      <td>20.744904</td>\n",
       "      <td>21.606347</td>\n",
       "      <td>...</td>\n",
       "      <td>14.751494</td>\n",
       "      <td>19.967234</td>\n",
       "      <td>19.091210</td>\n",
       "      <td>16.293000</td>\n",
       "      <td>20.945203</td>\n",
       "      <td>25.093296</td>\n",
       "      <td>14.147869</td>\n",
       "      <td>10.369884</td>\n",
       "      <td>15.788238</td>\n",
       "      <td>26.206604</td>\n",
       "    </tr>\n",
       "  </tbody>\n",
       "</table>\n",
       "<p>5 rows × 208 columns</p>\n",
       "</div>"
      ],
      "text/plain": [
       "           0          1          2          3          4          5  \\\n",
       "0  14.129705  11.959808  28.685874  33.823858  42.311438  22.872970   \n",
       "1  13.895036  12.063848  22.026072  27.027048  59.187831  23.013614   \n",
       "2  13.214033  15.229451  23.956005  25.832507  48.218284  29.437285   \n",
       "3  13.979167  16.414878  19.550628  21.984005  32.083749  26.856702   \n",
       "4  10.168381  10.501039  12.856129  16.059131  20.128401  13.435236   \n",
       "\n",
       "           6          7          8          9  ...        198        199  \\\n",
       "0  28.686864  91.792338  26.813570  28.583164  ...  43.676011  39.113891   \n",
       "1  30.960467  81.718608  29.116355  28.694447  ...  41.396844  44.348191   \n",
       "2  27.001414  35.878805  29.420835  31.587059  ...  27.507856  35.271588   \n",
       "3  23.001818  21.776800  23.041464  24.603026  ...  21.163787  27.844200   \n",
       "4  16.672336  18.134148  20.744904  21.606347  ...  14.751494  19.967234   \n",
       "\n",
       "         200        201        202        203        204        205  \\\n",
       "0  27.947874  31.573392  36.614566  35.604320  51.523493  31.292127   \n",
       "1  31.188022  30.580405  32.773796  39.768986  51.494867  29.641406   \n",
       "2  28.060107  24.463167  30.750010  39.033112  31.714344  17.286340   \n",
       "3  26.265045  24.563413  29.984113  35.764448  23.072423  15.670036   \n",
       "4  19.091210  16.293000  20.945203  25.093296  14.147869  10.369884   \n",
       "\n",
       "         206        207  \n",
       "0  59.277122  51.997711  \n",
       "1  47.146682  58.581918  \n",
       "2  30.174009  49.750919  \n",
       "3  22.936556  38.122263  \n",
       "4  15.788238  26.206604  \n",
       "\n",
       "[5 rows x 208 columns]"
      ]
     },
     "execution_count": 6,
     "metadata": {},
     "output_type": "execute_result"
    }
   ],
   "source": [
    "envelope_df50 = pd.read_csv(\"Data\\envelope_df50.csv\")\n",
    "envelope_df100 = pd.read_csv(\"Data\\envelope_df100.csv\")\n",
    "envelope_df150 = pd.read_csv(\"Data\\envelope_df150.csv\")\n",
    "envelope_df200 = pd.read_csv(\"Data\\envelope_df200.csv\")\n",
    "envelope_df250 = pd.read_csv(\"Data\\envelope_df250.csv\")\n",
    "envelope_df300 = pd.read_csv(\"Data\\envelope_df300.csv\")\n",
    "\n",
    "raw_envs = [envelope_df50, envelope_df100, envelope_df150, envelope_df200, envelope_df250, envelope_df300]\n",
    "all_envs = [env.drop('Unnamed: 0', axis=1) for env in raw_envs]\n",
    "\n",
    "print(\"100\")\n",
    "print(all_envs[1].shape)\n",
    "all_envs[1].head()"
   ]
  },
  {
   "cell_type": "code",
   "execution_count": 7,
   "id": "41c7f956",
   "metadata": {},
   "outputs": [
    {
     "data": {
      "image/png": "[encoded data removed]",
      "text/plain": [
       "<Figure size 640x480 with 1 Axes>"
      ]
     },
     "metadata": {},
     "output_type": "display_data"
    }
   ],
   "source": [
    "plt.plot(envelope_df100.iloc[0, :])\n",
    "plt.xlabel(\"Downsampled Time\")\n",
    "plt.ylabel(\"EMG Reading\")\n",
    "plt.title(\"Smoothed EMG Data (100 ms windows)\")\n",
    "plt.show()"
   ]
  },
  {
   "cell_type": "markdown",
   "id": "3e1388f6",
   "metadata": {},
   "source": [
    "# Make ML Model Attack\n",
    "> Trying without doing any sample reduction just to see if the run times are bearable... if so, then maybe don't need to do any PCA and can save myself the trouble"
   ]
  },
  {
   "cell_type": "code",
   "execution_count": 8,
   "id": "1243befe",
   "metadata": {},
   "outputs": [],
   "source": [
    "# Machine learning\n",
    "from sklearn.model_selection import train_test_split\n",
    "from sklearn import model_selection, tree, preprocessing, metrics, linear_model\n",
    "from sklearn.svm import LinearSVC\n",
    "from sklearn.ensemble import GradientBoostingClassifier\n",
    "from sklearn.neighbors import KNeighborsClassifier\n",
    "from sklearn.linear_model import LogisticRegression, SGDClassifier\n",
    "from sklearn.tree import DecisionTreeClassifier"
   ]
  },
  {
   "cell_type": "code",
   "execution_count": 9,
   "id": "1b319090",
   "metadata": {},
   "outputs": [],
   "source": [
    "my_models = [LogisticRegression(), KNeighborsClassifier(), LinearSVC(), SGDClassifier(), DecisionTreeClassifier(), GradientBoostingClassifier()]"
   ]
  },
  {
   "cell_type": "code",
   "execution_count": 14,
   "id": "6e10d6fd",
   "metadata": {},
   "outputs": [
    {
     "name": "stdout",
     "output_type": "stream",
     "text": [
      "Envelope: 1 of 6\n"
     ]
    },
    {
     "ename": "ValueError",
     "evalue": "Found input variables with inconsistent numbers of samples: [7168, 14336]",
     "output_type": "error",
     "traceback": [
      "\u001b[1;31m---------------------------------------------------------------------------\u001b[0m",
      "\u001b[1;31mValueError\u001b[0m                                Traceback (most recent call last)",
      "\u001b[1;32m~\\AppData\\Local\\Temp\\ipykernel_10116\\1983122433.py\u001b[0m in \u001b[0;36m<cell line: 3>\u001b[1;34m()\u001b[0m\n\u001b[0;32m      3\u001b[0m \u001b[1;32mfor\u001b[0m \u001b[0midx\u001b[0m\u001b[1;33m,\u001b[0m \u001b[0mmy_env_df\u001b[0m \u001b[1;32min\u001b[0m \u001b[0menumerate\u001b[0m\u001b[1;33m(\u001b[0m\u001b[0mall_envs\u001b[0m\u001b[1;33m)\u001b[0m\u001b[1;33m:\u001b[0m\u001b[1;33m\u001b[0m\u001b[1;33m\u001b[0m\u001b[0m\n\u001b[0;32m      4\u001b[0m     \u001b[0mprint\u001b[0m\u001b[1;33m(\u001b[0m\u001b[1;34mf\"Envelope: {idx+1} of {len(all_envs)}\"\u001b[0m\u001b[1;33m)\u001b[0m\u001b[1;33m\u001b[0m\u001b[1;33m\u001b[0m\u001b[0m\n\u001b[1;32m----> 5\u001b[1;33m     \u001b[0mX_train\u001b[0m\u001b[1;33m,\u001b[0m \u001b[0my_train\u001b[0m\u001b[1;33m,\u001b[0m \u001b[0mX_test\u001b[0m\u001b[1;33m,\u001b[0m \u001b[0my_test\u001b[0m\u001b[1;33m,\u001b[0m \u001b[0mX_val\u001b[0m\u001b[1;33m,\u001b[0m \u001b[0my_val\u001b[0m \u001b[1;33m=\u001b[0m \u001b[0mtrain_test_val_split\u001b[0m\u001b[1;33m(\u001b[0m\u001b[0mmy_env_df\u001b[0m\u001b[1;33m,\u001b[0m \u001b[0mlabels_df\u001b[0m\u001b[1;33m,\u001b[0m \u001b[0mstratification\u001b[0m\u001b[1;33m=\u001b[0m\u001b[1;32mFalse\u001b[0m\u001b[1;33m)\u001b[0m\u001b[1;33m\u001b[0m\u001b[1;33m\u001b[0m\u001b[0m\n\u001b[0m\u001b[0;32m      6\u001b[0m     \u001b[0my_train\u001b[0m \u001b[1;33m=\u001b[0m \u001b[0mnp\u001b[0m\u001b[1;33m.\u001b[0m\u001b[0mravel\u001b[0m\u001b[1;33m(\u001b[0m\u001b[0my_train\u001b[0m\u001b[1;33m)\u001b[0m\u001b[1;33m\u001b[0m\u001b[1;33m\u001b[0m\u001b[0m\n\u001b[0;32m      7\u001b[0m \u001b[1;33m\u001b[0m\u001b[0m\n",
      "\u001b[1;32m~\\Desktop\\Research\\personalization-privacy-risk\\kcs_ml_infr.py\u001b[0m in \u001b[0;36mtrain_test_val_split\u001b[1;34m(input_df, label_df, rng_seed, stratification, validation, test_percent, val_percent)\u001b[0m\n\u001b[0;32m     63\u001b[0m     \u001b[1;31m# Stratify might be good to ensure that all classes are represented, I'm not sure if it'll do that by default\u001b[0m\u001b[1;33m\u001b[0m\u001b[1;33m\u001b[0m\u001b[0m\n\u001b[0;32m     64\u001b[0m     \u001b[0mmy_strat\u001b[0m \u001b[1;33m=\u001b[0m \u001b[0my_train_reg\u001b[0m \u001b[1;32mif\u001b[0m \u001b[0mstratification\u001b[0m \u001b[1;32melse\u001b[0m \u001b[1;32mNone\u001b[0m\u001b[1;33m\u001b[0m\u001b[1;33m\u001b[0m\u001b[0m\n\u001b[1;32m---> 65\u001b[1;33m     \u001b[0mX_train\u001b[0m\u001b[1;33m,\u001b[0m \u001b[0mX_test\u001b[0m\u001b[1;33m,\u001b[0m \u001b[0my_train\u001b[0m\u001b[1;33m,\u001b[0m \u001b[0my_test\u001b[0m \u001b[1;33m=\u001b[0m \u001b[0mtrain_test_split\u001b[0m\u001b[1;33m(\u001b[0m\u001b[0mx_train\u001b[0m\u001b[1;33m,\u001b[0m \u001b[0my_train_reg\u001b[0m\u001b[1;33m,\u001b[0m \u001b[0mstratify\u001b[0m\u001b[1;33m=\u001b[0m\u001b[0mmy_strat\u001b[0m\u001b[1;33m,\u001b[0m \u001b[0mtest_size\u001b[0m\u001b[1;33m=\u001b[0m\u001b[0mtest_percent\u001b[0m\u001b[1;33m,\u001b[0m \u001b[0mrandom_state\u001b[0m\u001b[1;33m=\u001b[0m\u001b[0mrng_seed\u001b[0m\u001b[1;33m,\u001b[0m \u001b[0mshuffle\u001b[0m\u001b[1;33m=\u001b[0m\u001b[1;32mTrue\u001b[0m\u001b[1;33m)\u001b[0m\u001b[1;33m\u001b[0m\u001b[1;33m\u001b[0m\u001b[0m\n\u001b[0m\u001b[0;32m     66\u001b[0m     \u001b[1;31m# Not sure how shuffle and random state interact...\u001b[0m\u001b[1;33m\u001b[0m\u001b[1;33m\u001b[0m\u001b[0m\n\u001b[0;32m     67\u001b[0m \u001b[1;33m\u001b[0m\u001b[0m\n",
      "\u001b[1;32m~\\miniconda3\\lib\\site-packages\\sklearn\\model_selection\\_split.py\u001b[0m in \u001b[0;36mtrain_test_split\u001b[1;34m(test_size, train_size, random_state, shuffle, stratify, *arrays)\u001b[0m\n\u001b[0;32m   2428\u001b[0m         \u001b[1;32mraise\u001b[0m \u001b[0mValueError\u001b[0m\u001b[1;33m(\u001b[0m\u001b[1;34m\"At least one array required as input\"\u001b[0m\u001b[1;33m)\u001b[0m\u001b[1;33m\u001b[0m\u001b[1;33m\u001b[0m\u001b[0m\n\u001b[0;32m   2429\u001b[0m \u001b[1;33m\u001b[0m\u001b[0m\n\u001b[1;32m-> 2430\u001b[1;33m     \u001b[0marrays\u001b[0m \u001b[1;33m=\u001b[0m \u001b[0mindexable\u001b[0m\u001b[1;33m(\u001b[0m\u001b[1;33m*\u001b[0m\u001b[0marrays\u001b[0m\u001b[1;33m)\u001b[0m\u001b[1;33m\u001b[0m\u001b[1;33m\u001b[0m\u001b[0m\n\u001b[0m\u001b[0;32m   2431\u001b[0m \u001b[1;33m\u001b[0m\u001b[0m\n\u001b[0;32m   2432\u001b[0m     \u001b[0mn_samples\u001b[0m \u001b[1;33m=\u001b[0m \u001b[0m_num_samples\u001b[0m\u001b[1;33m(\u001b[0m\u001b[0marrays\u001b[0m\u001b[1;33m[\u001b[0m\u001b[1;36m0\u001b[0m\u001b[1;33m]\u001b[0m\u001b[1;33m)\u001b[0m\u001b[1;33m\u001b[0m\u001b[1;33m\u001b[0m\u001b[0m\n",
      "\u001b[1;32m~\\miniconda3\\lib\\site-packages\\sklearn\\utils\\validation.py\u001b[0m in \u001b[0;36mindexable\u001b[1;34m(*iterables)\u001b[0m\n\u001b[0;32m    431\u001b[0m \u001b[1;33m\u001b[0m\u001b[0m\n\u001b[0;32m    432\u001b[0m     \u001b[0mresult\u001b[0m \u001b[1;33m=\u001b[0m \u001b[1;33m[\u001b[0m\u001b[0m_make_indexable\u001b[0m\u001b[1;33m(\u001b[0m\u001b[0mX\u001b[0m\u001b[1;33m)\u001b[0m \u001b[1;32mfor\u001b[0m \u001b[0mX\u001b[0m \u001b[1;32min\u001b[0m \u001b[0miterables\u001b[0m\u001b[1;33m]\u001b[0m\u001b[1;33m\u001b[0m\u001b[1;33m\u001b[0m\u001b[0m\n\u001b[1;32m--> 433\u001b[1;33m     \u001b[0mcheck_consistent_length\u001b[0m\u001b[1;33m(\u001b[0m\u001b[1;33m*\u001b[0m\u001b[0mresult\u001b[0m\u001b[1;33m)\u001b[0m\u001b[1;33m\u001b[0m\u001b[1;33m\u001b[0m\u001b[0m\n\u001b[0m\u001b[0;32m    434\u001b[0m     \u001b[1;32mreturn\u001b[0m \u001b[0mresult\u001b[0m\u001b[1;33m\u001b[0m\u001b[1;33m\u001b[0m\u001b[0m\n\u001b[0;32m    435\u001b[0m \u001b[1;33m\u001b[0m\u001b[0m\n",
      "\u001b[1;32m~\\miniconda3\\lib\\site-packages\\sklearn\\utils\\validation.py\u001b[0m in \u001b[0;36mcheck_consistent_length\u001b[1;34m(*arrays)\u001b[0m\n\u001b[0;32m    385\u001b[0m     \u001b[0muniques\u001b[0m \u001b[1;33m=\u001b[0m \u001b[0mnp\u001b[0m\u001b[1;33m.\u001b[0m\u001b[0munique\u001b[0m\u001b[1;33m(\u001b[0m\u001b[0mlengths\u001b[0m\u001b[1;33m)\u001b[0m\u001b[1;33m\u001b[0m\u001b[1;33m\u001b[0m\u001b[0m\n\u001b[0;32m    386\u001b[0m     \u001b[1;32mif\u001b[0m \u001b[0mlen\u001b[0m\u001b[1;33m(\u001b[0m\u001b[0muniques\u001b[0m\u001b[1;33m)\u001b[0m \u001b[1;33m>\u001b[0m \u001b[1;36m1\u001b[0m\u001b[1;33m:\u001b[0m\u001b[1;33m\u001b[0m\u001b[1;33m\u001b[0m\u001b[0m\n\u001b[1;32m--> 387\u001b[1;33m         raise ValueError(\n\u001b[0m\u001b[0;32m    388\u001b[0m             \u001b[1;34m\"Found input variables with inconsistent numbers of samples: %r\"\u001b[0m\u001b[1;33m\u001b[0m\u001b[1;33m\u001b[0m\u001b[0m\n\u001b[0;32m    389\u001b[0m             \u001b[1;33m%\u001b[0m \u001b[1;33m[\u001b[0m\u001b[0mint\u001b[0m\u001b[1;33m(\u001b[0m\u001b[0ml\u001b[0m\u001b[1;33m)\u001b[0m \u001b[1;32mfor\u001b[0m \u001b[0ml\u001b[0m \u001b[1;32min\u001b[0m \u001b[0mlengths\u001b[0m\u001b[1;33m]\u001b[0m\u001b[1;33m\u001b[0m\u001b[1;33m\u001b[0m\u001b[0m\n",
      "\u001b[1;31mValueError\u001b[0m: Found input variables with inconsistent numbers of samples: [7168, 14336]"
     ]
    }
   ],
   "source": [
    "all_envs_res_df = pd.DataFrame()\n",
    "\n",
    "for idx, my_env_df in enumerate(all_envs):\n",
    "    print(f\"Envelope: {idx+1} of {len(all_envs)}\")\n",
    "    X_train, y_train, X_test, y_test, X_val, y_val = train_test_val_split(my_env_df, labels_df, stratification=False)\n",
    "    y_train = np.ravel(y_train)\n",
    "\n",
    "    print(\"X_train\")\n",
    "    print(X_train.shape)\n",
    "    #display(X_train.head())\n",
    "    \n",
    "    for model_num, model in enumerate(my_models):\n",
    "        print(f\"Model: {model_num+1} of {len(my_models)}\")\n",
    "        all_envs_res_df = train_model(model, X_train, y_train, cv, all_envs_res_df)\n",
    "\n",
    "all_envs_res_df.head()    "
   ]
  },
  {
   "cell_type": "code",
   "execution_count": null,
   "id": "476f9526",
   "metadata": {},
   "outputs": [],
   "source": [
    "print(all_envs_res_df.shape)"
   ]
  },
  {
   "cell_type": "code",
   "execution_count": null,
   "id": "9f9d4b3a",
   "metadata": {},
   "outputs": [],
   "source": [
    "test_df = pd.DataFrame(columns=['Algorithm', 'CV Acc', 'Test Acc', 'K Folds'])\n",
    "\n",
    "# THIS DOES NOT ITER THROUGH ALL ENVELOPES RIGHT NOW\n",
    "for model_num, model in enumerate(my_models):\n",
    "    test_df = test_model(model, X_train, y_train, X_test, y_test, test_df, cv)\n",
    "    \n",
    "test_df.head(100)"
   ]
  },
  {
   "cell_type": "code",
   "execution_count": null,
   "id": "8e98c0bf",
   "metadata": {},
   "outputs": [],
   "source": [
    "all_envs_res_df.reset_index(inplace=True)\n",
    "all_envs_res_df.drop('index', axis=1, inplace=True)\n",
    "all_envs_res_df.head()"
   ]
  },
  {
   "cell_type": "code",
   "execution_count": null,
   "id": "edad12c8",
   "metadata": {},
   "outputs": [],
   "source": [
    "# Not plotting all 7 model right now\n",
    "lr_df = all_envs_res_df[all_envs_res_df['Algorithm']=='LogisticRegression()']\n",
    "knn_df = all_envs_res_df[all_envs_res_df['Algorithm']=='KNeighborsClassifier()']\n",
    "svc_df = all_envs_res_df[all_envs_res_df['Algorithm']=='LinearSVC()']\n",
    "dt_df = all_envs_res_df[all_envs_res_df['Algorithm']=='DecisionTreeClassifier()']\n",
    "gbt_df = all_envs_res_df[all_envs_res_df['Algorithm']=='GradientBoostingClassifier()']"
   ]
  },
  {
   "cell_type": "code",
   "execution_count": null,
   "id": "2e67b975",
   "metadata": {},
   "outputs": [],
   "source": [
    "envir_list = [50, 100, 150, 200, 250, 300]\n",
    "my_x_updates = envir_list\n",
    "\n",
    "plt.figure(figsize=(9,7))\n",
    "plt.plot(my_x_updates, lr_df.iloc[:, 2], label='LogReg')\n",
    "plt.plot(my_x_updates, knn_df.iloc[:, 2], label='KNN')\n",
    "plt.plot(my_x_updates, svc_df.iloc[:, 2], label='SVC')\n",
    "plt.plot(my_x_updates, dt_df.iloc[:, 2], label='DTree')\n",
    "plt.plot(my_x_updates, gbt_df.iloc[:, 2], label='GBC')\n",
    "\n",
    "plt.scatter(my_x_updates, lr_df.iloc[:, 2])#, label='LogReg')\n",
    "plt.scatter(my_x_updates, knn_df.iloc[:, 2])#, label='KNN')\n",
    "plt.scatter(my_x_updates, svc_df.iloc[:, 2])#, label='SVC')\n",
    "plt.scatter(my_x_updates, dt_df.iloc[:, 2])#, label='DTree')\n",
    "plt.scatter(my_x_updates, gbt_df.iloc[:, 2])#, label='GBC')\n",
    "plt.yticks(np.arange(0, 120, 20.0))\n",
    "plt.grid(axis='y')\n",
    "plt.xlabel('Filtering Window Size (ms)')\n",
    "plt.ylabel('Training Accuracy')\n",
    "plt.title('Adversary Linkage Capability as a function of Filtering Window Size')\n",
    "plt.legend(loc='best')\n",
    "plt.show()"
   ]
  },
  {
   "cell_type": "code",
   "execution_count": null,
   "id": "b85a5399",
   "metadata": {
    "scrolled": false
   },
   "outputs": [],
   "source": [
    "envir_list = [50, 100, 150, 200, 250, 300]\n",
    "my_x_updates = envir_list\n",
    "\n",
    "plt.figure(figsize=(9,7))\n",
    "plt.plot(my_x_updates, lr_df.iloc[:, 2], label='LogReg')\n",
    "plt.plot(my_x_updates, knn_df.iloc[:, 2], label='KNN')\n",
    "plt.plot(my_x_updates, svc_df.iloc[:, 2], label='SVC')\n",
    "plt.plot(my_x_updates, dt_df.iloc[:, 2], label='DTree')\n",
    "plt.plot(my_x_updates, gbt_df.iloc[:, 2], label='GBC')\n",
    "\n",
    "plt.scatter(my_x_updates, lr_df.iloc[:, 2])#, label='LogReg')\n",
    "plt.scatter(my_x_updates, knn_df.iloc[:, 2])#, label='KNN')\n",
    "plt.scatter(my_x_updates, svc_df.iloc[:, 2])#, label='SVC')\n",
    "plt.scatter(my_x_updates, dt_df.iloc[:, 2])#, label='DTree')\n",
    "plt.scatter(my_x_updates, gbt_df.iloc[:, 2])#, label='GBC')\n",
    "plt.yticks(np.arange(40, 120, 20.0))\n",
    "plt.grid(axis='y')\n",
    "plt.xlabel('Filtering Window Size (ms)')\n",
    "plt.ylabel('Training Accuracy')\n",
    "plt.title('Adversary Linkage Capability as a function of Filtering Window Size')\n",
    "plt.legend(loc='lower left')\n",
    "plt.show()"
   ]
  },
  {
   "cell_type": "markdown",
   "id": "f4d668a6",
   "metadata": {},
   "source": [
    "This is about what we would expect, although there is significant variation between models.  Generally, a smaller filtering window acts as less dimensionality reduction, and therefore the most information is preserved.  High filtering windows get rid of the most information and thus should have the lowest accuracies.  Perhaps we ought to test the decoder accuracy with differing window sizes, but I think that would be difficult to verify given the co-adaptive nature of the signal collection."
   ]
  },
  {
   "cell_type": "code",
   "execution_count": null,
   "id": "0319f6a2",
   "metadata": {},
   "outputs": [],
   "source": [
    "assert(1==0)"
   ]
  },
  {
   "cell_type": "markdown",
   "id": "5a7db8f0",
   "metadata": {},
   "source": [
    "## Investigate How Performance Changes Per Update\n",
    "> E.g. as we use later intervals (note, not more intervals, just the later ones), does the EMG performance linking improve? Intuitively it should not."
   ]
  },
  {
   "cell_type": "code",
   "execution_count": null,
   "id": "fc209b2a",
   "metadata": {},
   "outputs": [],
   "source": [
    "print(update_ix)\n",
    "print()\n",
    "\n",
    "# Scale update_ix to be for the new envelope_df, as it is currently meant for the original dataset\n",
    "env_update_ix = np.array(np.ceil(update_ix/20770*envelope_df.shape[1]), dtype='int')\n",
    "print(env_update_ix)"
   ]
  },
  {
   "cell_type": "code",
   "execution_count": null,
   "id": "554fc945",
   "metadata": {},
   "outputs": [],
   "source": [
    "def nth_emg_model(nth_emg_df, emg_label_df, n, my_models, my_metrics_cols=['Algorithm', 'One Off Acc', 'CV Acc', 'K Folds', 'N'], cv=5, test=True):\n",
    "    ''''''\n",
    "\n",
    "    X_train, y_train, X_test, y_test, X_val, y_val = train_test_val_split(nth_emg_df, emg_label_df)\n",
    "    y_train = np.ravel(y_train)\n",
    "\n",
    "    dec_res_df = pd.DataFrame(columns=my_metrics_cols)\n",
    "    #print(\"TRAINING\")\n",
    "    for model_num, model in enumerate(my_models):\n",
    "        #print(f\"{model_num} of {len(my_models)}\")\n",
    "        dec_res_df = train_model(model, X_train, y_train, cv, dec_res_df, dec_num=n)\n",
    "        \n",
    "    test_df = pd.DataFrame(columns=['Algorithm', 'CV Acc', 'Test Acc', 'K Folds'])\n",
    "    if test:\n",
    "        #print(\"TESTING\")\n",
    "        for model in my_models:\n",
    "            #print(f\"{model_num} of {len(my_models)}\")\n",
    "            test_df = test_model(model, X_train, y_train, X_test, y_test, test_df, cv, dec_num=n)\n",
    "            \n",
    "    return dec_res_df, test_df"
   ]
  },
  {
   "cell_type": "markdown",
   "id": "a24806a1",
   "metadata": {},
   "source": [
    "This cell also takes forever to run too lol\n",
    "> ONLY 18 updates because here we have to take full intervals as opposed to just grabbing the value at the update time (19 update indices and thus 18 intervals)"
   ]
  },
  {
   "cell_type": "code",
   "execution_count": null,
   "id": "05123a63",
   "metadata": {},
   "outputs": [],
   "source": [
    "test_df = pd.DataFrame(columns=['Algorithm', 'One Off Acc', 'CV Acc', 'K Folds', 'N'])\n",
    "test_df.head()\n",
    "\n",
    "for i in range(19):\n",
    "    print(f\"{i} of 18\")\n",
    "    if i==18:\n",
    "        pass\n",
    "    else:\n",
    "        current_emg_df = envelope_df.iloc[:, env_update_ix[i]:env_update_ix[i+1]]\n",
    "        current_dec_res_df, current_test_df = nth_emg_model(current_emg_df, labels_df, i, my_models, test=True)\n",
    "        test_df = pd.concat((test_df, current_test_df))"
   ]
  },
  {
   "cell_type": "code",
   "execution_count": null,
   "id": "aea8d055",
   "metadata": {},
   "outputs": [],
   "source": [
    "test_df.head(7)"
   ]
  },
  {
   "cell_type": "code",
   "execution_count": null,
   "id": "b3ce747e",
   "metadata": {},
   "outputs": [],
   "source": [
    "lr_df = test_df[test_df['Algorithm']=='LogisticRegression()']\n",
    "knn_df = test_df[test_df['Algorithm']=='KNeighborsClassifier()']\n",
    "svc_df = test_df[test_df['Algorithm']=='LinearSVC()']\n",
    "dt_df = test_df[test_df['Algorithm']=='DecisionTreeClassifier()']\n",
    "gbt_df = test_df[test_df['Algorithm']=='GradientBoostingClassifier()']"
   ]
  },
  {
   "cell_type": "code",
   "execution_count": null,
   "id": "daceb3e6",
   "metadata": {},
   "outputs": [],
   "source": [
    "plt.figure(figsize=(9,7))\n",
    "plt.plot(list(range(18)), lr_df.iloc[:, 5], label='LogReg')\n",
    "plt.plot(list(range(18)), knn_df.iloc[:, 5], label='KNN')\n",
    "plt.plot(list(range(18)), svc_df.iloc[:, 5], label='SVC')\n",
    "plt.plot(list(range(18)), dt_df.iloc[:, 5], label='DTree')\n",
    "plt.plot(list(range(18)), gbt_df.iloc[:, 5], label='GBC')\n",
    "plt.xticks(np.arange(0, 19, 1.0))\n",
    "plt.yticks(np.arange(0, 120, 20.0))\n",
    "plt.grid(axis='y')\n",
    "plt.xlabel('Update Number')\n",
    "plt.ylabel('Testing Accuracy')\n",
    "plt.title('Model Accuracy as a function of EMG Update Interval')\n",
    "plt.legend(loc='best')\n",
    "plt.show()"
   ]
  },
  {
   "cell_type": "markdown",
   "id": "9eeebb7e",
   "metadata": {},
   "source": [
    "Note the massive drop at the last update is because the last update is not the same size as the rest of the updates, it is much smaller and thus the drop in performance."
   ]
  },
  {
   "cell_type": "code",
   "execution_count": null,
   "id": "977b6cd3",
   "metadata": {},
   "outputs": [],
   "source": []
  }
 ],
 "metadata": {
  "kernelspec": {
   "display_name": "Python 3 (ipykernel)",
   "language": "python",
   "name": "python3"
  },
  "language_info": {
   "codemirror_mode": {
    "name": "ipython",
    "version": 3
   },
   "file_extension": ".py",
   "mimetype": "text/x-python",
   "name": "python",
   "nbconvert_exporter": "python",
   "pygments_lexer": "ipython3",
   "version": "3.9.15"
  }
 },
 "nbformat": 4,
 "nbformat_minor": 5
}
