{
 "cells": [
  {
   "cell_type": "markdown",
   "id": "d17f193d",
   "metadata": {},
   "source": [
    "> __Purpose:__ Implement an initial privacy attack to quantify how much re-identiifcation and linkability risk exists from personalization parameters (the decoder used in the co-adaptation algorithm). Thus, implement a basic ML model to link the decoder matrices back to the corresponding subject.  \n",
    "\n",
    "- 14 Subjects, therefore random guessing would be 7.14% correct on average"
   ]
  },
  {
   "cell_type": "code",
   "execution_count": 1,
   "id": "a61b3128",
   "metadata": {},
   "outputs": [],
   "source": [
    "import numpy as np\n",
    "import matplotlib.pyplot as plt\n",
    "import time\n",
    "import pandas as pd\n",
    "import pickle\n",
    "import random\n",
    "from kcs_ml_infr import *\n",
    "from experiment_params import *\n",
    "\n",
    "# Machine learning\n",
    "from sklearn.model_selection import train_test_split\n",
    "from sklearn import model_selection, tree, preprocessing, metrics, linear_model\n",
    "\n",
    "from sklearn.svm import LinearSVC\n",
    "from sklearn.ensemble import GradientBoostingClassifier\n",
    "from sklearn.neighbors import KNeighborsClassifier\n",
    "from sklearn.naive_bayes import GaussianNB\n",
    "from sklearn.linear_model import LogisticRegression, SGDClassifier\n",
    "from sklearn.tree import DecisionTreeClassifier\n",
    "\n",
    "# Make annoying KNN warning go away since I'm not going to edit scikit learn's code lol\n",
    "import warnings\n",
    "warnings.filterwarnings(\"ignore\")\n",
    "\n",
    "random.seed(a=1)"
   ]
  },
  {
   "cell_type": "markdown",
   "id": "a850bb15",
   "metadata": {},
   "source": [
    "# Load In Data"
   ]
  },
  {
   "cell_type": "code",
   "execution_count": 2,
   "id": "f141f3e9",
   "metadata": {},
   "outputs": [],
   "source": [
    "my_models = [LogisticRegression(), KNeighborsClassifier(), LinearSVC(), SGDClassifier(), DecisionTreeClassifier(), GradientBoostingClassifier()]"
   ]
  },
  {
   "cell_type": "code",
   "execution_count": 3,
   "id": "b5ae40cd",
   "metadata": {},
   "outputs": [
    {
     "name": "stdout",
     "output_type": "stream",
     "text": [
      "(2128, 4)\n"
     ]
    },
    {
     "data": {
      "text/html": [
       "<div>\n",
       "<style scoped>\n",
       "    .dataframe tbody tr th:only-of-type {\n",
       "        vertical-align: middle;\n",
       "    }\n",
       "\n",
       "    .dataframe tbody tr th {\n",
       "        vertical-align: top;\n",
       "    }\n",
       "\n",
       "    .dataframe thead th {\n",
       "        text-align: right;\n",
       "    }\n",
       "</style>\n",
       "<table border=\"1\" class=\"dataframe\">\n",
       "  <thead>\n",
       "    <tr style=\"text-align: right;\">\n",
       "      <th></th>\n",
       "      <th>Subject</th>\n",
       "      <th>Condition</th>\n",
       "      <th>Update Number</th>\n",
       "      <th>Flattened Decoder</th>\n",
       "    </tr>\n",
       "  </thead>\n",
       "  <tbody>\n",
       "    <tr>\n",
       "      <th>0</th>\n",
       "      <td>METACPHS_S106</td>\n",
       "      <td>0</td>\n",
       "      <td>0</td>\n",
       "      <td>[2.72214435e-03 2.60593156e-03 3.08748960e-03 ...</td>\n",
       "    </tr>\n",
       "    <tr>\n",
       "      <th>1</th>\n",
       "      <td>METACPHS_S106</td>\n",
       "      <td>0</td>\n",
       "      <td>1</td>\n",
       "      <td>[2.72214435e-03 2.60593156e-03 3.08748960e-03 ...</td>\n",
       "    </tr>\n",
       "    <tr>\n",
       "      <th>2</th>\n",
       "      <td>METACPHS_S106</td>\n",
       "      <td>0</td>\n",
       "      <td>2</td>\n",
       "      <td>[-0.34157085  0.08410593 -0.54057447  0.444319...</td>\n",
       "    </tr>\n",
       "    <tr>\n",
       "      <th>3</th>\n",
       "      <td>METACPHS_S106</td>\n",
       "      <td>0</td>\n",
       "      <td>3</td>\n",
       "      <td>[-0.17386248  0.00370517  0.40721562 -0.515221...</td>\n",
       "    </tr>\n",
       "    <tr>\n",
       "      <th>4</th>\n",
       "      <td>METACPHS_S106</td>\n",
       "      <td>0</td>\n",
       "      <td>4</td>\n",
       "      <td>[ 0.83210615 -1.32612423  0.28718983  1.302252...</td>\n",
       "    </tr>\n",
       "  </tbody>\n",
       "</table>\n",
       "</div>"
      ],
      "text/plain": [
       "         Subject  Condition  Update Number   \n",
       "0  METACPHS_S106          0              0  \\\n",
       "1  METACPHS_S106          0              1   \n",
       "2  METACPHS_S106          0              2   \n",
       "3  METACPHS_S106          0              3   \n",
       "4  METACPHS_S106          0              4   \n",
       "\n",
       "                                   Flattened Decoder  \n",
       "0  [2.72214435e-03 2.60593156e-03 3.08748960e-03 ...  \n",
       "1  [2.72214435e-03 2.60593156e-03 3.08748960e-03 ...  \n",
       "2  [-0.34157085  0.08410593 -0.54057447  0.444319...  \n",
       "3  [-0.17386248  0.00370517  0.40721562 -0.515221...  \n",
       "4  [ 0.83210615 -1.32612423  0.28718983  1.302252...  "
      ]
     },
     "execution_count": 3,
     "metadata": {},
     "output_type": "execute_result"
    }
   ],
   "source": [
    "#dec_flattened_df1 = pd.read_csv(\"C:\\\\Users\\\\kdmen\\\\Desktop\\\\Research\\\\Data\\\\dec_full_flattened_df1.csv\")\n",
    "#dec_flattened_df2 = pd.read_csv(\"C:\\\\Users\\\\kdmen\\\\Desktop\\\\Research\\\\Data\\\\dec_full_flattened_df2.csv\")\n",
    "dec_flattened_df1 = pd.read_csv(\"C:\\\\Users\\\\kdmen\\\\Desktop\\\\Research\\\\Data\\\\dec_flattened_df1.csv\")\n",
    "dec_flattened_df2 = pd.read_csv(\"C:\\\\Users\\\\kdmen\\\\Desktop\\\\Research\\\\Data\\\\dec_flattened_df2.csv\")\n",
    "dec_flattened_df = pd.concat((dec_flattened_df1, dec_flattened_df2))\n",
    "\n",
    "if (dec_flattened_df.columns[0] == 'Unnamed: 0'):\n",
    "    dec_flattened_df.drop(dec_flattened_df.columns[0], axis=1, inplace=True)\n",
    "\n",
    "print(dec_flattened_df.shape)\n",
    "dec_flattened_df.head(5)"
   ]
  },
  {
   "cell_type": "code",
   "execution_count": 4,
   "id": "081821bf",
   "metadata": {},
   "outputs": [
    {
     "data": {
      "text/html": [
       "<div>\n",
       "<style scoped>\n",
       "    .dataframe tbody tr th:only-of-type {\n",
       "        vertical-align: middle;\n",
       "    }\n",
       "\n",
       "    .dataframe tbody tr th {\n",
       "        vertical-align: top;\n",
       "    }\n",
       "\n",
       "    .dataframe thead th {\n",
       "        text-align: right;\n",
       "    }\n",
       "</style>\n",
       "<table border=\"1\" class=\"dataframe\">\n",
       "  <thead>\n",
       "    <tr style=\"text-align: right;\">\n",
       "      <th></th>\n",
       "      <th>Subject</th>\n",
       "      <th>Condition</th>\n",
       "      <th>Update Number</th>\n",
       "      <th>Flattened Decoder</th>\n",
       "    </tr>\n",
       "  </thead>\n",
       "  <tbody>\n",
       "    <tr>\n",
       "      <th>1059</th>\n",
       "      <td>METACPHS_S112</td>\n",
       "      <td>7</td>\n",
       "      <td>14</td>\n",
       "      <td>[ 1.72746602e-01 -6.46751979e-01  1.08992359e+...</td>\n",
       "    </tr>\n",
       "    <tr>\n",
       "      <th>1060</th>\n",
       "      <td>METACPHS_S112</td>\n",
       "      <td>7</td>\n",
       "      <td>15</td>\n",
       "      <td>[-3.07344160e-02  6.03699218e-02  4.26590818e-...</td>\n",
       "    </tr>\n",
       "    <tr>\n",
       "      <th>1061</th>\n",
       "      <td>METACPHS_S112</td>\n",
       "      <td>7</td>\n",
       "      <td>16</td>\n",
       "      <td>[ 9.17285360e-02  1.60315698e-01  3.93406660e-...</td>\n",
       "    </tr>\n",
       "    <tr>\n",
       "      <th>1062</th>\n",
       "      <td>METACPHS_S112</td>\n",
       "      <td>7</td>\n",
       "      <td>17</td>\n",
       "      <td>[ 1.20744948e-01 -4.79756037e-01  2.03405148e+...</td>\n",
       "    </tr>\n",
       "    <tr>\n",
       "      <th>1063</th>\n",
       "      <td>METACPHS_S112</td>\n",
       "      <td>7</td>\n",
       "      <td>18</td>\n",
       "      <td>[ 0.04912337  0.06417236  2.15931676 -2.307400...</td>\n",
       "    </tr>\n",
       "  </tbody>\n",
       "</table>\n",
       "</div>"
      ],
      "text/plain": [
       "            Subject  Condition  Update Number   \n",
       "1059  METACPHS_S112          7             14  \\\n",
       "1060  METACPHS_S112          7             15   \n",
       "1061  METACPHS_S112          7             16   \n",
       "1062  METACPHS_S112          7             17   \n",
       "1063  METACPHS_S112          7             18   \n",
       "\n",
       "                                      Flattened Decoder  \n",
       "1059  [ 1.72746602e-01 -6.46751979e-01  1.08992359e+...  \n",
       "1060  [-3.07344160e-02  6.03699218e-02  4.26590818e-...  \n",
       "1061  [ 9.17285360e-02  1.60315698e-01  3.93406660e-...  \n",
       "1062  [ 1.20744948e-01 -4.79756037e-01  2.03405148e+...  \n",
       "1063  [ 0.04912337  0.06417236  2.15931676 -2.307400...  "
      ]
     },
     "execution_count": 4,
     "metadata": {},
     "output_type": "execute_result"
    }
   ],
   "source": [
    "dec_flattened_df.tail(5)"
   ]
  },
  {
   "cell_type": "code",
   "execution_count": 5,
   "id": "46f81440",
   "metadata": {},
   "outputs": [],
   "source": [
    "# SPLIT BASED ON CONDITION NUMBERS\n",
    "# initialization conditions\n",
    "pos_init = [0, 1, 4, 5]\n",
    "neg_init = [2, 3, 6, 7]"
   ]
  },
  {
   "cell_type": "markdown",
   "id": "264e144b",
   "metadata": {},
   "source": [
    "Why was I looking at positive vs negative init effect on adversarial accuracy lol\n"
   ]
  },
  {
   "cell_type": "code",
   "execution_count": 6,
   "id": "a2592522",
   "metadata": {},
   "outputs": [],
   "source": [
    "pos_dec_df = dec_flattened_df[dec_flattened_df[\"Condition\"].isin(pos_init)]\n",
    "neg_dec_df = dec_flattened_df[dec_flattened_df[\"Condition\"].isin(neg_init)]"
   ]
  },
  {
   "cell_type": "code",
   "execution_count": 7,
   "id": "4e46e7fc",
   "metadata": {},
   "outputs": [
    {
     "data": {
      "text/html": [
       "<div>\n",
       "<style scoped>\n",
       "    .dataframe tbody tr th:only-of-type {\n",
       "        vertical-align: middle;\n",
       "    }\n",
       "\n",
       "    .dataframe tbody tr th {\n",
       "        vertical-align: top;\n",
       "    }\n",
       "\n",
       "    .dataframe thead th {\n",
       "        text-align: right;\n",
       "    }\n",
       "</style>\n",
       "<table border=\"1\" class=\"dataframe\">\n",
       "  <thead>\n",
       "    <tr style=\"text-align: right;\">\n",
       "      <th></th>\n",
       "      <th>Subject</th>\n",
       "      <th>Condition</th>\n",
       "      <th>Update Number</th>\n",
       "      <th>Flattened Decoder</th>\n",
       "    </tr>\n",
       "  </thead>\n",
       "  <tbody>\n",
       "    <tr>\n",
       "      <th>0</th>\n",
       "      <td>METACPHS_S106</td>\n",
       "      <td>0</td>\n",
       "      <td>0</td>\n",
       "      <td>[2.72214435e-03 2.60593156e-03 3.08748960e-03 ...</td>\n",
       "    </tr>\n",
       "    <tr>\n",
       "      <th>1</th>\n",
       "      <td>METACPHS_S106</td>\n",
       "      <td>0</td>\n",
       "      <td>1</td>\n",
       "      <td>[2.72214435e-03 2.60593156e-03 3.08748960e-03 ...</td>\n",
       "    </tr>\n",
       "    <tr>\n",
       "      <th>2</th>\n",
       "      <td>METACPHS_S106</td>\n",
       "      <td>0</td>\n",
       "      <td>2</td>\n",
       "      <td>[-0.34157085  0.08410593 -0.54057447  0.444319...</td>\n",
       "    </tr>\n",
       "    <tr>\n",
       "      <th>3</th>\n",
       "      <td>METACPHS_S106</td>\n",
       "      <td>0</td>\n",
       "      <td>3</td>\n",
       "      <td>[-0.17386248  0.00370517  0.40721562 -0.515221...</td>\n",
       "    </tr>\n",
       "    <tr>\n",
       "      <th>4</th>\n",
       "      <td>METACPHS_S106</td>\n",
       "      <td>0</td>\n",
       "      <td>4</td>\n",
       "      <td>[ 0.83210615 -1.32612423  0.28718983  1.302252...</td>\n",
       "    </tr>\n",
       "  </tbody>\n",
       "</table>\n",
       "</div>"
      ],
      "text/plain": [
       "         Subject  Condition  Update Number   \n",
       "0  METACPHS_S106          0              0  \\\n",
       "1  METACPHS_S106          0              1   \n",
       "2  METACPHS_S106          0              2   \n",
       "3  METACPHS_S106          0              3   \n",
       "4  METACPHS_S106          0              4   \n",
       "\n",
       "                                   Flattened Decoder  \n",
       "0  [2.72214435e-03 2.60593156e-03 3.08748960e-03 ...  \n",
       "1  [2.72214435e-03 2.60593156e-03 3.08748960e-03 ...  \n",
       "2  [-0.34157085  0.08410593 -0.54057447  0.444319...  \n",
       "3  [-0.17386248  0.00370517  0.40721562 -0.515221...  \n",
       "4  [ 0.83210615 -1.32612423  0.28718983  1.302252...  "
      ]
     },
     "execution_count": 7,
     "metadata": {},
     "output_type": "execute_result"
    }
   ],
   "source": [
    "pos_dec_df.head()"
   ]
  },
  {
   "cell_type": "code",
   "execution_count": 8,
   "id": "47fc38f7",
   "metadata": {},
   "outputs": [],
   "source": [
    "pos_dec_expanded_df = pd.DataFrame()\n",
    "for my_row in range(pos_dec_df.shape[0]):\n",
    "    test=pd.DataFrame(pos_dec_df.iloc[my_row,3].strip(\"[]\").split()).T\n",
    "    pos_dec_expanded_df = pd.concat((pos_dec_expanded_df, test))\n",
    "\n",
    "pos_dec_expanded_df.reset_index(inplace=True, drop=True)\n",
    "pos_dec_expanded_df.insert(loc=0, column='Update Number', value=list(pos_dec_df['Update Number']))\n",
    "pos_dec_expanded_df.insert(loc=0, column='Condition', value=list(pos_dec_df['Condition']))\n",
    "pos_dec_expanded_df.insert(loc=0, column='Subject', value=list(pos_dec_df['Subject']))"
   ]
  },
  {
   "cell_type": "markdown",
   "id": "f3e76ca5",
   "metadata": {},
   "source": [
    "# Concat All 19 Update Model Results\n",
    "> Should I be trying to use the same model but predicting on different datasets too?"
   ]
  },
  {
   "cell_type": "code",
   "execution_count": 9,
   "id": "6b04f68e",
   "metadata": {},
   "outputs": [],
   "source": [
    "def make_all_update_models(flattened_input_df, my_metrics_columns=['Algorithm', 'One Off Acc', 'CV Acc', 'K Folds'], my_models_list=[LogisticRegression(), KNeighborsClassifier(), GaussianNB(), LinearSVC(), SGDClassifier(), DecisionTreeClassifier(), GradientBoostingClassifier()], make_df=True, full_test_df=pd.DataFrame()):\n",
    "\n",
    "    if make_df:\n",
    "        full_test_df = pd.DataFrame(columns=my_metrics_columns)\n",
    "\n",
    "    for i in range(19):\n",
    "        print(f\"{i} of {19}\")\n",
    "        ith_df, ith_test_df = nth_decoder_model(flattened_input_df, i, my_models_list, test=True)\n",
    "\n",
    "        full_test_df = pd.concat((full_test_df, ith_test_df))\n",
    "\n",
    "    full_test_df.drop('K Folds', axis=1, inplace=True)\n",
    "    full_test_df.drop('One Off Acc', axis=1, inplace=True)\n",
    "    full_test_df.drop('CV Acc', axis=1, inplace=True)\n",
    "\n",
    "    return full_test_df"
   ]
  },
  {
   "cell_type": "code",
   "execution_count": 10,
   "id": "ff7e4f41",
   "metadata": {},
   "outputs": [
    {
     "name": "stdout",
     "output_type": "stream",
     "text": [
      "0 of 19\n",
      "1 of 19\n",
      "2 of 19\n",
      "3 of 19\n",
      "4 of 19\n",
      "5 of 19\n",
      "6 of 19\n",
      "7 of 19\n",
      "8 of 19\n",
      "9 of 19\n",
      "10 of 19\n",
      "11 of 19\n",
      "12 of 19\n",
      "13 of 19\n",
      "14 of 19\n",
      "15 of 19\n",
      "16 of 19\n",
      "17 of 19\n",
      "18 of 19\n"
     ]
    },
    {
     "data": {
      "text/html": [
       "<div>\n",
       "<style scoped>\n",
       "    .dataframe tbody tr th:only-of-type {\n",
       "        vertical-align: middle;\n",
       "    }\n",
       "\n",
       "    .dataframe tbody tr th {\n",
       "        vertical-align: top;\n",
       "    }\n",
       "\n",
       "    .dataframe thead th {\n",
       "        text-align: right;\n",
       "    }\n",
       "</style>\n",
       "<table border=\"1\" class=\"dataframe\">\n",
       "  <thead>\n",
       "    <tr style=\"text-align: right;\">\n",
       "      <th></th>\n",
       "      <th>Algorithm</th>\n",
       "      <th>Test Acc</th>\n",
       "      <th>N</th>\n",
       "    </tr>\n",
       "  </thead>\n",
       "  <tbody>\n",
       "    <tr>\n",
       "      <th>0</th>\n",
       "      <td>LogisticRegression()</td>\n",
       "      <td>0.0</td>\n",
       "      <td>0</td>\n",
       "    </tr>\n",
       "    <tr>\n",
       "      <th>0</th>\n",
       "      <td>KNeighborsClassifier()</td>\n",
       "      <td>0.0</td>\n",
       "      <td>0</td>\n",
       "    </tr>\n",
       "    <tr>\n",
       "      <th>0</th>\n",
       "      <td>GaussianNB()</td>\n",
       "      <td>100.0</td>\n",
       "      <td>0</td>\n",
       "    </tr>\n",
       "    <tr>\n",
       "      <th>0</th>\n",
       "      <td>LinearSVC()</td>\n",
       "      <td>0.0</td>\n",
       "      <td>0</td>\n",
       "    </tr>\n",
       "    <tr>\n",
       "      <th>0</th>\n",
       "      <td>SGDClassifier()</td>\n",
       "      <td>5.882</td>\n",
       "      <td>0</td>\n",
       "    </tr>\n",
       "    <tr>\n",
       "      <th>0</th>\n",
       "      <td>DecisionTreeClassifier()</td>\n",
       "      <td>100.0</td>\n",
       "      <td>0</td>\n",
       "    </tr>\n",
       "    <tr>\n",
       "      <th>0</th>\n",
       "      <td>GradientBoostingClassifier()</td>\n",
       "      <td>100.0</td>\n",
       "      <td>0</td>\n",
       "    </tr>\n",
       "    <tr>\n",
       "      <th>0</th>\n",
       "      <td>LogisticRegression()</td>\n",
       "      <td>0.0</td>\n",
       "      <td>1</td>\n",
       "    </tr>\n",
       "  </tbody>\n",
       "</table>\n",
       "</div>"
      ],
      "text/plain": [
       "                      Algorithm Test Acc  N\n",
       "0          LogisticRegression()      0.0  0\n",
       "0        KNeighborsClassifier()      0.0  0\n",
       "0                  GaussianNB()    100.0  0\n",
       "0                   LinearSVC()      0.0  0\n",
       "0               SGDClassifier()    5.882  0\n",
       "0      DecisionTreeClassifier()    100.0  0\n",
       "0  GradientBoostingClassifier()    100.0  0\n",
       "0          LogisticRegression()      0.0  1"
      ]
     },
     "execution_count": 10,
     "metadata": {},
     "output_type": "execute_result"
    }
   ],
   "source": [
    "# Setting all column names to strings, idk why this was breaking it just now\n",
    "pos_dec_expanded_df.columns = pos_dec_expanded_df.columns.astype(str)\n",
    "\n",
    "full_pos_test_df = make_all_update_models(pos_dec_expanded_df)\n",
    "full_pos_test_df.head(8)"
   ]
  },
  {
   "cell_type": "code",
   "execution_count": 11,
   "id": "66ca928e",
   "metadata": {},
   "outputs": [],
   "source": [
    "pos_lr_df = full_pos_test_df[full_pos_test_df['Algorithm']=='LogisticRegression()']\n",
    "pos_knn_df = full_pos_test_df[full_pos_test_df['Algorithm']=='KNeighborsClassifier()']\n",
    "pos_svc_df = full_pos_test_df[full_pos_test_df['Algorithm']=='LinearSVC()']\n",
    "pos_sgd_df = full_pos_test_df[full_pos_test_df['Algorithm']=='SGDClassifier()']\n",
    "pos_dt_df = full_pos_test_df[full_pos_test_df['Algorithm']=='DecisionTreeClassifier()']\n",
    "pos_gbt_df = full_pos_test_df[full_pos_test_df['Algorithm']=='GradientBoostingClassifier()']"
   ]
  },
  {
   "cell_type": "markdown",
   "id": "9ea74b77",
   "metadata": {},
   "source": [
    "# FOR POSTER"
   ]
  },
  {
   "cell_type": "code",
   "execution_count": 12,
   "id": "06adbb28",
   "metadata": {},
   "outputs": [
    {
     "data": {
      "image/png": "[encoded data removed]",
      "text/plain": [
       "<Figure size 900x700 with 1 Axes>"
      ]
     },
     "metadata": {},
     "output_type": "display_data"
    }
   ],
   "source": [
    "skip_block = 0\n",
    "end_block = 18\n",
    "col_num = 1\n",
    "my_x_updates = list(range(end_block))[skip_block:]\n",
    "\n",
    "plt.figure(figsize=(9,7))\n",
    "plt.plot(my_x_updates, pos_lr_df.iloc[skip_block:end_block, col_num], marker=\".\", markersize=20, color='blue', linewidth=3, label='Adversarial Linkage Model')\n",
    "plt.hlines(14.29, 0, 17, color='red', linestyle='--', label='Expected Accuracy of Random Guesses')\n",
    "#plt.text(x, 5, \"Random Guesses\", color='red') #verticalalignment='center', \n",
    "plt.xticks(np.arange(0, 19, 1.0))\n",
    "#plt.yticks(np.arange(0, 120, 20.0))\n",
    "plt.grid(axis='y')\n",
    "plt.xlabel('Update Number')\n",
    "plt.ylabel('Testing Accuracy')\n",
    "plt.title('Adversarial Model Accuracy Per Decoder Model Update')\n",
    "plt.legend(loc='center right')\n",
    "plt.show()"
   ]
  },
  {
   "cell_type": "code",
   "execution_count": null,
   "id": "b8b0706b",
   "metadata": {},
   "outputs": [],
   "source": [
    "assert(1==0)"
   ]
  },
  {
   "cell_type": "code",
   "execution_count": 13,
   "id": "de5fe8b1",
   "metadata": {},
   "outputs": [],
   "source": [
    "pos_lr_df.to_csv(r\"C:\\Users\\kdmen\\Desktop\\Research\\personalization-privacy-risk\\599_PrivacyAnalysis\\Poster_Plotting\\107P_lr.csv\")\n",
    "pos_knn_df.to_csv(r\"C:\\Users\\kdmen\\Desktop\\Research\\personalization-privacy-risk\\599_PrivacyAnalysis\\Poster_Plotting\\107P_knn.csv\")\n",
    "pos_svc_df.to_csv(r\"C:\\Users\\kdmen\\Desktop\\Research\\personalization-privacy-risk\\599_PrivacyAnalysis\\Poster_Plotting\\107P_svc.csv\")\n",
    "pos_sgd_df.to_csv(r\"C:\\Users\\kdmen\\Desktop\\Research\\personalization-privacy-risk\\599_PrivacyAnalysis\\Poster_Plotting\\107P_sgd.csv\")\n",
    "pos_dt_df.to_csv(r\"C:\\Users\\kdmen\\Desktop\\Research\\personalization-privacy-risk\\599_PrivacyAnalysis\\Poster_Plotting\\107P_dt.csv\")\n",
    "pos_gbt_df.to_csv(r\"C:\\Users\\kdmen\\Desktop\\Research\\personalization-privacy-risk\\599_PrivacyAnalysis\\Poster_Plotting\\107P_gbt.csv\")"
   ]
  },
  {
   "cell_type": "code",
   "execution_count": null,
   "id": "e558aedb",
   "metadata": {},
   "outputs": [],
   "source": []
  }
 ],
 "metadata": {
  "kernelspec": {
   "display_name": "Python 3 (ipykernel)",
   "language": "python",
   "name": "python3"
  },
  "language_info": {
   "codemirror_mode": {
    "name": "ipython",
    "version": 3
   },
   "file_extension": ".py",
   "mimetype": "text/x-python",
   "name": "python",
   "nbconvert_exporter": "python",
   "pygments_lexer": "ipython3",
   "version": "3.10.10"
  }
 },
 "nbformat": 4,
 "nbformat_minor": 5
}
