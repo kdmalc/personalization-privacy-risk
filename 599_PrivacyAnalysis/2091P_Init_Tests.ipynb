{
 "cells": [
  {
   "cell_type": "markdown",
   "id": "48d39628",
   "metadata": {},
   "source": [
    "__Purpose:__ Test the performance of already trained decoders to see if they continue to achieve the best performance, and to see if personalization is necessary/possible.  Ideally, this NB should show that the outputs of previous training rounds will maintain their high performance.  I am ambivalent about whether or not we would expect any further improvement over training."
   ]
  },
  {
   "cell_type": "code",
   "execution_count": 1,
   "id": "d2f09a37",
   "metadata": {},
   "outputs": [],
   "source": [
    "import pandas as pd\n",
    "import os\n",
    "import numpy as np\n",
    "import random\n",
    "from matplotlib import pyplot as plt\n",
    "from scipy.optimize import minimize\n",
    "import copy\n",
    "\n",
    "#import seaborn as sns\n",
    "#from presentation_sns_config import *\n",
    "\n",
    "from experiment_params import *\n",
    "from cost_funcs import *\n",
    "#from fl_sim_classes import *\n",
    "from fl_sim_client import *\n",
    "from fl_sim_server import *\n",
    "import time\n",
    "import pickle\n",
    "from sklearn.decomposition import PCA"
   ]
  },
  {
   "cell_type": "code",
   "execution_count": 2,
   "id": "b9450bff",
   "metadata": {},
   "outputs": [],
   "source": [
    "path = r'C:\\Users\\kdmen\\Desktop\\Research\\Data'\n",
    "cond0_filename = r'\\cond0_dict_list.p'\n",
    "all_decs_init_filename = r'\\all_decs_init.p'\n",
    "nofl_decs_filename = r'\\nofl_decs.p'\n",
    "id2color = {0:'lightcoral', 1:'maroon', 2:'chocolate', 3:'darkorange', 4:'gold', 5:'olive', 6:'olivedrab', \n",
    "            7:'lawngreen', 8:'aquamarine', 9:'deepskyblue', 10:'steelblue', 11:'violet', 12:'darkorchid', 13:'deeppink'}\n",
    "implemented_client_training_methods = ['EtaGradStep', 'EtaScipyMinStep', 'FullScipyMinStep']\n",
    "implement_these_methods_next = ['APFL', 'AFL', 'PersA_FL_MAML', 'PersA_FL_ME', 'PFA']\n",
    "num_participants = 14\n",
    "\n",
    "# For exclusion when plotting later on\n",
    "bad_nodes = [1,3,13]"
   ]
  },
  {
   "cell_type": "markdown",
   "id": "43df453f",
   "metadata": {},
   "source": [
    "# Verify Federated Set Up Runs"
   ]
  },
  {
   "cell_type": "code",
   "execution_count": 3,
   "id": "6b2b6fb7",
   "metadata": {},
   "outputs": [],
   "source": [
    "with open(path+cond0_filename, 'rb') as fp:\n",
    "    cond0_training_and_labels_lst = pickle.load(fp)\n",
    "    \n",
    "with open(path+all_decs_init_filename, 'rb') as fp:\n",
    "    init_decoders = pickle.load(fp)\n",
    "cond0_init_decs = [dec[0, :, :] for dec in init_decoders]"
   ]
  },
  {
   "cell_type": "code",
   "execution_count": 4,
   "id": "582dfd02",
   "metadata": {},
   "outputs": [],
   "source": [
    "D_0 = np.random.rand(2,64)\n",
    "D_0_7 = np.random.rand(2,7)"
   ]
  },
  {
   "cell_type": "markdown",
   "id": "01f96dcd",
   "metadata": {},
   "source": [
    "# No-FL Case\n",
    "## Random Inits"
   ]
  },
  {
   "cell_type": "code",
   "execution_count": 5,
   "id": "4d5395a2",
   "metadata": {},
   "outputs": [
    {
     "name": "stdout",
     "output_type": "stream",
     "text": [
      "use_up16_for_test: True\n",
      "test_split_product_index = local_data['training'].shape[0]*test_split_frac = 6231.0\n",
      "train_test_update_number_split (closest update): 6008\n"
     ]
    },
    {
     "ename": "IndexError",
     "evalue": "list index out of range",
     "output_type": "error",
     "traceback": [
      "\u001b[1;31m---------------------------------------------------------------------------\u001b[0m",
      "\u001b[1;31mIndexError\u001b[0m                                Traceback (most recent call last)",
      "Cell \u001b[1;32mIn[5], line 1\u001b[0m\n\u001b[1;32m----> 1\u001b[0m user_nofl_rand_init \u001b[38;5;241m=\u001b[39m [Client(i, D_0, \u001b[38;5;124m'\u001b[39m\u001b[38;5;124mFullScipyMinStep\u001b[39m\u001b[38;5;124m'\u001b[39m, cond0_training_and_labels_lst[i], \u001b[38;5;124m'\u001b[39m\u001b[38;5;124madvance_each_iter\u001b[39m\u001b[38;5;124m'\u001b[39m, global_method\u001b[38;5;241m=\u001b[39m\u001b[38;5;124m'\u001b[39m\u001b[38;5;124mNoFL\u001b[39m\u001b[38;5;124m'\u001b[39m, track_cost_components\u001b[38;5;241m=\u001b[39m\u001b[38;5;28;01mTrue\u001b[39;00m, set_alphaF_zero\u001b[38;5;241m=\u001b[39m\u001b[38;5;28;01mTrue\u001b[39;00m, normalize_EMG\u001b[38;5;241m=\u001b[39m\u001b[38;5;28;01mFalse\u001b[39;00m, PCA_comps\u001b[38;5;241m=\u001b[39m\u001b[38;5;241m64\u001b[39m, delay_scaling\u001b[38;5;241m=\u001b[39m\u001b[38;5;241m0\u001b[39m) \u001b[38;5;28;01mfor\u001b[39;00m i \u001b[38;5;129;01min\u001b[39;00m \u001b[38;5;28mrange\u001b[39m(\u001b[38;5;241m14\u001b[39m)]\n\u001b[0;32m      2\u001b[0m global_model_nofl_rand_init \u001b[38;5;241m=\u001b[39m Server(\u001b[38;5;241m-\u001b[39m\u001b[38;5;241m1\u001b[39m, D_0, \u001b[38;5;124m'\u001b[39m\u001b[38;5;124mNoFL\u001b[39m\u001b[38;5;124m'\u001b[39m, user_nofl_rand_init, PCA_comps\u001b[38;5;241m=\u001b[39m\u001b[38;5;241m64\u001b[39m)\n\u001b[0;32m      4\u001b[0m num_updates_left \u001b[38;5;241m=\u001b[39m \u001b[38;5;241m18\u001b[39m\n",
      "Cell \u001b[1;32mIn[5], line 1\u001b[0m, in \u001b[0;36m<listcomp>\u001b[1;34m(.0)\u001b[0m\n\u001b[1;32m----> 1\u001b[0m user_nofl_rand_init \u001b[38;5;241m=\u001b[39m [\u001b[43mClient\u001b[49m\u001b[43m(\u001b[49m\u001b[43mi\u001b[49m\u001b[43m,\u001b[49m\u001b[43m \u001b[49m\u001b[43mD_0\u001b[49m\u001b[43m,\u001b[49m\u001b[43m \u001b[49m\u001b[38;5;124;43m'\u001b[39;49m\u001b[38;5;124;43mFullScipyMinStep\u001b[39;49m\u001b[38;5;124;43m'\u001b[39;49m\u001b[43m,\u001b[49m\u001b[43m \u001b[49m\u001b[43mcond0_training_and_labels_lst\u001b[49m\u001b[43m[\u001b[49m\u001b[43mi\u001b[49m\u001b[43m]\u001b[49m\u001b[43m,\u001b[49m\u001b[43m \u001b[49m\u001b[38;5;124;43m'\u001b[39;49m\u001b[38;5;124;43madvance_each_iter\u001b[39;49m\u001b[38;5;124;43m'\u001b[39;49m\u001b[43m,\u001b[49m\u001b[43m \u001b[49m\u001b[43mglobal_method\u001b[49m\u001b[38;5;241;43m=\u001b[39;49m\u001b[38;5;124;43m'\u001b[39;49m\u001b[38;5;124;43mNoFL\u001b[39;49m\u001b[38;5;124;43m'\u001b[39;49m\u001b[43m,\u001b[49m\u001b[43m \u001b[49m\u001b[43mtrack_cost_components\u001b[49m\u001b[38;5;241;43m=\u001b[39;49m\u001b[38;5;28;43;01mTrue\u001b[39;49;00m\u001b[43m,\u001b[49m\u001b[43m \u001b[49m\u001b[43mset_alphaF_zero\u001b[49m\u001b[38;5;241;43m=\u001b[39;49m\u001b[38;5;28;43;01mTrue\u001b[39;49;00m\u001b[43m,\u001b[49m\u001b[43m \u001b[49m\u001b[43mnormalize_EMG\u001b[49m\u001b[38;5;241;43m=\u001b[39;49m\u001b[38;5;28;43;01mFalse\u001b[39;49;00m\u001b[43m,\u001b[49m\u001b[43m \u001b[49m\u001b[43mPCA_comps\u001b[49m\u001b[38;5;241;43m=\u001b[39;49m\u001b[38;5;241;43m64\u001b[39;49m\u001b[43m,\u001b[49m\u001b[43m \u001b[49m\u001b[43mdelay_scaling\u001b[49m\u001b[38;5;241;43m=\u001b[39;49m\u001b[38;5;241;43m0\u001b[39;49m\u001b[43m)\u001b[49m \u001b[38;5;28;01mfor\u001b[39;00m i \u001b[38;5;129;01min\u001b[39;00m \u001b[38;5;28mrange\u001b[39m(\u001b[38;5;241m14\u001b[39m)]\n\u001b[0;32m      2\u001b[0m global_model_nofl_rand_init \u001b[38;5;241m=\u001b[39m Server(\u001b[38;5;241m-\u001b[39m\u001b[38;5;241m1\u001b[39m, D_0, \u001b[38;5;124m'\u001b[39m\u001b[38;5;124mNoFL\u001b[39m\u001b[38;5;124m'\u001b[39m, user_nofl_rand_init, PCA_comps\u001b[38;5;241m=\u001b[39m\u001b[38;5;241m64\u001b[39m)\n\u001b[0;32m      4\u001b[0m num_updates_left \u001b[38;5;241m=\u001b[39m \u001b[38;5;241m18\u001b[39m\n",
      "File \u001b[1;32m~\\Desktop\\Research\\personalization-privacy-risk\\599_PrivacyAnalysis\\fl_sim_client.py:49\u001b[0m, in \u001b[0;36mClient.__init__\u001b[1;34m(self, ID, w, method, local_data, data_stream, smoothbatch, current_round, PCA_comps, availability, global_method, normalize_dec, normalize_EMG, starting_update, track_cost_components, track_lr_comps, use_real_hess, gradient_clipping, log_decs, clipping_threshold, tol, adaptive, eta, track_gradient, wprev_global, num_steps, use_zvel, APFL_input_eta, safe_lr_factor, set_alphaF_zero, mix_in_each_steps, mix_mixed_SB, delay_scaling, random_delays, download_delay, upload_delay, copy_type, validate_memory_IDs, local_round_threshold, condition_number, verbose, test_split_type, test_split_frac, use_up16_for_test)\u001b[0m\n\u001b[0;32m     47\u001b[0m \u001b[38;5;28mprint\u001b[39m(\u001b[38;5;124mf\u001b[39m\u001b[38;5;124m\"\u001b[39m\u001b[38;5;124mtest_split_product_index = local_data[\u001b[39m\u001b[38;5;124m'\u001b[39m\u001b[38;5;124mtraining\u001b[39m\u001b[38;5;124m'\u001b[39m\u001b[38;5;124m].shape[0]*test_split_frac = \u001b[39m\u001b[38;5;132;01m{\u001b[39;00mtest_split_product_index\u001b[38;5;132;01m}\u001b[39;00m\u001b[38;5;124m\"\u001b[39m)\n\u001b[0;32m     48\u001b[0m \u001b[38;5;28mprint\u001b[39m(\u001b[38;5;124mf\u001b[39m\u001b[38;5;124m\"\u001b[39m\u001b[38;5;124mtrain_test_update_number_split (closest update): \u001b[39m\u001b[38;5;132;01m{\u001b[39;00mtrain_test_update_number_split\u001b[38;5;132;01m}\u001b[39;00m\u001b[38;5;124m\"\u001b[39m)\n\u001b[1;32m---> 49\u001b[0m \u001b[38;5;28mself\u001b[39m\u001b[38;5;241m.\u001b[39mtest_split_idx \u001b[38;5;241m=\u001b[39m \u001b[43mModelBase\u001b[49m\u001b[38;5;241;43m.\u001b[39;49m\u001b[43mupdate_ix\u001b[49m\u001b[43m[\u001b[49m\u001b[43mtrain_test_update_number_split\u001b[49m\u001b[43m]\u001b[49m\n\u001b[0;32m     50\u001b[0m \u001b[38;5;28mprint\u001b[39m(\u001b[38;5;124mf\u001b[39m\u001b[38;5;124m\"\u001b[39m\u001b[38;5;124mtest_split_product_index (actual data index): \u001b[39m\u001b[38;5;132;01m{\u001b[39;00m\u001b[38;5;28mself\u001b[39m\u001b[38;5;241m.\u001b[39mtest_split_idx\u001b[38;5;132;01m}\u001b[39;00m\u001b[38;5;124m\"\u001b[39m)\n\u001b[0;32m     51\u001b[0m \u001b[38;5;28mself\u001b[39m\u001b[38;5;241m.\u001b[39mtraining_data \u001b[38;5;241m=\u001b[39m local_data[\u001b[38;5;124m'\u001b[39m\u001b[38;5;124mtraining\u001b[39m\u001b[38;5;124m'\u001b[39m]\u001b[38;5;66;03m#[:self.test_split_idx, :]\u001b[39;00m\n",
      "\u001b[1;31mIndexError\u001b[0m: list index out of range"
     ]
    }
   ],
   "source": [
    "user_nofl_rand_init = [Client(i, D_0, 'FullScipyMinStep', cond0_training_and_labels_lst[i], 'advance_each_iter', global_method='NoFL', track_cost_components=True, set_alphaF_zero=True, normalize_EMG=False, PCA_comps=64, delay_scaling=0) for i in range(14)]\n",
    "global_model_nofl_rand_init = Server(-1, D_0, 'NoFL', user_nofl_rand_init, PCA_comps=64)\n",
    "\n",
    "num_updates_left = 18\n",
    "for i in range(num_updates_left):\n",
    "    global_model_nofl_rand_init.execute_FL_loop()\n",
    "    \n",
    "condensed_external_plotting(user_nofl_rand_init, 'local', global_error=False, dim_reduc_factor=1, show_update_change=False, custom_title='EMG NOT NORMALIZED: Using Random Inits: Client Cost Function')"
   ]
  },
  {
   "cell_type": "code",
   "execution_count": null,
   "id": "559279bb",
   "metadata": {
    "scrolled": false
   },
   "outputs": [],
   "source": [
    "user_nofl_rand_init = [Client(i, D_0, 'FullScipyMinStep', cond0_training_and_labels_lst[i], 'advance_each_iter', global_method='NoFL', track_cost_components=True, set_alphaF_zero=True, normalize_EMG=True, PCA_comps=64, delay_scaling=0) for i in range(14)]\n",
    "global_model_nofl_rand_init = Server(-1, D_0, 'NoFL', user_nofl_rand_init, PCA_comps=64)\n",
    "\n",
    "num_updates_left = 18\n",
    "for i in range(num_updates_left):\n",
    "    global_model_nofl_rand_init.execute_FL_loop()\n",
    "    \n",
    "condensed_external_plotting(user_nofl_rand_init, 'local', global_error=False, dim_reduc_factor=1, show_update_change=False, custom_title='Using Random Inits: Client Cost Function')"
   ]
  },
  {
   "cell_type": "markdown",
   "id": "25dc241f",
   "metadata": {},
   "source": [
    "## CPHS Inits"
   ]
  },
  {
   "cell_type": "code",
   "execution_count": null,
   "id": "21cd7bae",
   "metadata": {},
   "outputs": [],
   "source": [
    "avg_cond0_init = cond0_init_decs[0]\n",
    "for i in range(1, 14):\n",
    "    avg_cond0_init += cond0_init_decs[i]\n",
    "avg_cond0_init /= 14"
   ]
  },
  {
   "cell_type": "code",
   "execution_count": null,
   "id": "74fbb812",
   "metadata": {},
   "outputs": [],
   "source": [
    "user_c0_no_fl_w_cphs_init = [Client(i, cond0_init_decs[i], 'FullScipyMinStep', cond0_training_and_labels_lst[i], 'advance_each_iter', global_method='NoFL', track_cost_components=True, set_alphaF_zero=True, normalize_EMG=False, PCA_comps=64, delay_scaling=0) for i in range(14)]\n",
    "global_model_no_fl_w_cphs_init = Server(-1, avg_cond0_init, 'NoFL', user_c0_no_fl_w_cphs_init, PCA_comps=64)\n",
    "\n",
    "num_updates_left = 18\n",
    "for i in range(num_updates_left):\n",
    "    global_model_no_fl_w_cphs_init.execute_FL_loop()\n",
    "    \n",
    "condensed_external_plotting(user_c0_no_fl_w_cphs_init, 'local', global_error=False, dim_reduc_factor=1, show_update_change=False, custom_title='Using CPHS Init Decs: Client Cost Eval with No FL')"
   ]
  },
  {
   "cell_type": "markdown",
   "id": "aa54fdee",
   "metadata": {},
   "source": [
    "## Using Final Client Decs as Client Inits"
   ]
  },
  {
   "cell_type": "code",
   "execution_count": null,
   "id": "76bf40b8",
   "metadata": {},
   "outputs": [],
   "source": [
    "avg_client_init = user_c0_no_fl_w_cphs_init[0].w\n",
    "for i in range(1, 14):\n",
    "    avg_client_init += user_c0_no_fl_w_cphs_init[i].w\n",
    "avg_client_init /= 14"
   ]
  },
  {
   "cell_type": "code",
   "execution_count": null,
   "id": "3417b64d",
   "metadata": {},
   "outputs": [],
   "source": [
    "avg_client_init"
   ]
  },
  {
   "cell_type": "code",
   "execution_count": null,
   "id": "ca1a2af7",
   "metadata": {},
   "outputs": [],
   "source": [
    "user_c0_no_fl_wclient_init = [Client(i, user_c0_no_fl_w_cphs_init[i].w, 'FullScipyMinStep', cond0_training_and_labels_lst[i], 'advance_each_iter', global_method='NoFL', track_cost_components=True, set_alphaF_zero=True, normalize_EMG=False, PCA_comps=64, delay_scaling=0) for i in range(14)]\n",
    "global_model_no_fl_wclient_init = Server(-1, avg_client_init, 'NoFL', user_c0_no_fl_wclient_init, PCA_comps=64)\n",
    "\n",
    "num_updates_left = 18\n",
    "for i in range(num_updates_left):\n",
    "    global_model_no_fl_wclient_init.execute_FL_loop()\n",
    "    \n",
    "condensed_external_plotting(user_c0_no_fl_wclient_init, 'local', global_error=False, dim_reduc_factor=1, show_update_change=False, ylim_max=400, custom_title='NoFL Client Decs As Local Inits: Client Cost Function')"
   ]
  },
  {
   "cell_type": "code",
   "execution_count": null,
   "id": "16afe904",
   "metadata": {},
   "outputs": [],
   "source": [
    "user_c0_no_fl_wclient_init[0].local_error_log"
   ]
  },
  {
   "cell_type": "markdown",
   "id": "4ea68ba9",
   "metadata": {},
   "source": [
    "How is the training error zero... I guess I should add a test run and be plotting test error..."
   ]
  },
  {
   "cell_type": "markdown",
   "id": "aaee865a",
   "metadata": {},
   "source": [
    "# Federated Learning\n",
    "## 1 Scipy Step, 500 Iterations\n",
    "> Note that the thicker, lighter lines are the global model accuracies, whereas the thin lines are the local accuracies."
   ]
  },
  {
   "cell_type": "code",
   "execution_count": null,
   "id": "85218300",
   "metadata": {},
   "outputs": [],
   "source": [
    "user_c0_1ScipyStep = [Client(i, D_0_7, 'EtaScipyMinStep', cond0_training_and_labels_lst[i], 'streaming', set_alphaF_zero=True, delay_scaling=0, verbose=True) for i in range(14)]\n",
    "global_model_1scipystep = Server(1, D_0_7, 'FedAvg', user_c0_1ScipyStep)\n",
    "\n",
    "big_loop_iters = 500\n",
    "for i in range(big_loop_iters):\n",
    "    global_model_1scipystep.execute_FL_loop()\n",
    "    \n",
    "condensed_external_plotting(user_c0_1ScipyStep, 'local', custom_title='1SS: Random Inits: Global and Local Costs Per Iteration')"
   ]
  },
  {
   "cell_type": "code",
   "execution_count": null,
   "id": "9e18e09e",
   "metadata": {},
   "outputs": [],
   "source": [
    "#condensed_external_plotting(user_c0_1ScipyStep, 'local', custom_title='1 SciPy Step: Global and Local Costs Per Iteration')"
   ]
  },
  {
   "cell_type": "markdown",
   "id": "d0988bce",
   "metadata": {},
   "source": [
    "## Using Final Client Decs as Local Inits\n",
    "> Local error log is all 0s for some reason......."
   ]
  },
  {
   "cell_type": "code",
   "execution_count": null,
   "id": "3628c353",
   "metadata": {},
   "outputs": [],
   "source": [
    "user_c0_1ScipyStep_wclient_init = [Client(i, user_c0_1ScipyStep[i].w, 'EtaScipyMinStep', cond0_training_and_labels_lst[i], 'streaming', set_alphaF_zero=True, delay_scaling=0, verbose=True) for i in range(14)]\n",
    "global_model_1scipystep_wclient_init = Server(1, D_0_7, 'FedAvg', user_c0_1ScipyStep_wclient_init)\n",
    "\n",
    "for i in range(big_loop_iters):\n",
    "    global_model_1scipystep_wclient_init.execute_FL_loop()\n",
    "    \n",
    "condensed_external_plotting(user_c0_1ScipyStep_wclient_init, 'local', ylim_min=-0.0001, ylim_max=0.008, custom_title='1SS: Trained Client Decs as Init: Local Cost Function')"
   ]
  },
  {
   "cell_type": "markdown",
   "id": "1f00883e",
   "metadata": {},
   "source": [
    "## Using Final Global Model as Client Init for All"
   ]
  },
  {
   "cell_type": "code",
   "execution_count": null,
   "id": "564385b5",
   "metadata": {},
   "outputs": [],
   "source": [
    "user_c0_1ScipyStep_wglobal_init = [Client(i, global_model_1scipystep.w, 'EtaScipyMinStep', cond0_training_and_labels_lst[i], 'streaming', set_alphaF_zero=True, delay_scaling=0, verbose=True) for i in range(14)]\n",
    "global_model_1scipystep_wglobal_init = Server(1, D_0_7, 'FedAvg', user_c0_1ScipyStep_wglobal_init)\n",
    "\n",
    "for i in range(big_loop_iters):\n",
    "    global_model_1scipystep_wglobal_init.execute_FL_loop()\n",
    "    \n",
    "condensed_external_plotting(user_c0_1ScipyStep_wglobal_init, 'local', ylim_max=0.008, custom_title='1SS: Global As Local Init: Global and Local Costs Per Iteration')"
   ]
  },
  {
   "cell_type": "markdown",
   "id": "caf7ceb8",
   "metadata": {},
   "source": [
    "## Using Final Global Model as Both Init for All\n",
    "> Global model also set to prev final global"
   ]
  },
  {
   "cell_type": "code",
   "execution_count": null,
   "id": "b96927d2",
   "metadata": {},
   "outputs": [],
   "source": [
    "user_c0_1ScipyStep_wglobalx2_init = [Client(i, global_model_1scipystep.w, 'EtaScipyMinStep', cond0_training_and_labels_lst[i], 'streaming', set_alphaF_zero=True, delay_scaling=0, verbose=True) for i in range(14)]\n",
    "global_model_1scipystep_wglobalx2_init = Server(1, global_model_1scipystep.w, 'FedAvg', user_c0_1ScipyStep_wglobalx2_init)\n",
    "\n",
    "for i in range(big_loop_iters):\n",
    "    global_model_1scipystep_wglobalx2_init.execute_FL_loop()\n",
    "    \n",
    "condensed_external_plotting(user_c0_1ScipyStep_wglobalx2_init, 'local', ylim_max=0.008, custom_title='1SS: Global As All Inits: Global and Local Costs Per Iteration')"
   ]
  },
  {
   "cell_type": "markdown",
   "id": "2be10509",
   "metadata": {},
   "source": [
    "# Aggregated NoFL Plot"
   ]
  },
  {
   "cell_type": "code",
   "execution_count": null,
   "id": "aa140330",
   "metadata": {},
   "outputs": [],
   "source": [
    "all_users, all_dfs, all_vecs = central_tendency_plotting([user_nofl_rand_init, user_c0_no_fl_w_cphs_init, user_c0_no_fl_wclient_init], iterable_labels=['Shared Random Init', 'CPHS Init', 'Prev Client Inits'], input_linewidth=3, my_legend_loc='upper left', local_error=True, global_error=False, custom_title='NoFL Model Error As a Function of Initialization')"
   ]
  },
  {
   "cell_type": "code",
   "execution_count": null,
   "id": "612f697b",
   "metadata": {},
   "outputs": [],
   "source": [
    "all_users, all_dfs, all_vecs = central_tendency_plotting([user_nofl_rand_init, user_c0_no_fl_wclient_init], iterable_labels=['Shared Random Init', 'Prev Client Inits'], input_linewidth=3, my_legend_loc='upper left', local_error=True, global_error=False, custom_title='NoFL Model Error As a Function of Initialization')"
   ]
  },
  {
   "cell_type": "code",
   "execution_count": null,
   "id": "c2408c2c",
   "metadata": {},
   "outputs": [],
   "source": [
    "all_users, all_dfs, all_vecs = central_tendency_plotting([user_nofl_rand_init, user_c0_no_fl_wclient_init], iterable_labels=['Shared Random Init', 'Prev Client Inits'], input_linewidth=3, my_legend_loc='upper left', local_error=True, global_error=False, ylim_min=0, ylim_max=20, custom_title='NoFL Model Error As a Function of Initialization')"
   ]
  },
  {
   "cell_type": "markdown",
   "id": "187acc7a",
   "metadata": {},
   "source": [
    "# Aggregated FL Plot"
   ]
  },
  {
   "cell_type": "code",
   "execution_count": null,
   "id": "e30ee449",
   "metadata": {
    "scrolled": false
   },
   "outputs": [],
   "source": [
    "all_users, all_dfs, all_vecs = central_tendency_plotting([user_c0_1ScipyStep, user_c0_1ScipyStep_wclient_init, user_c0_1ScipyStep_wglobalx2_init], iterable_labels=['Shared Random Init', 'Prev Client Inits', 'Prev Global Init'], input_linewidth=3, my_legend_loc='upper left', local_error=True, global_error=False, custom_title='FL Model Local Error As a Function of Initialization')"
   ]
  },
  {
   "cell_type": "code",
   "execution_count": null,
   "id": "81964ada",
   "metadata": {},
   "outputs": [],
   "source": [
    "all_users, all_dfs, all_vecs = central_tendency_plotting([user_c0_1ScipyStep, user_c0_1ScipyStep_wclient_init, user_c0_1ScipyStep_wglobalx2_init], iterable_labels=['Global: Shared Random', 'Local: Shared Random', 'Global: Prev Client', 'Local: Prev Client', 'Global: Prev Global', 'Local: Prev Global'], input_linewidth=3, my_legend_loc='upper left', local_error=True, global_error=True, custom_title='FL Model Error As a Function of Initialization Matrix')"
   ]
  },
  {
   "cell_type": "code",
   "execution_count": null,
   "id": "4ace5850",
   "metadata": {},
   "outputs": [],
   "source": [
    "all_users, all_dfs, all_vecs = central_tendency_plotting([user_c0_1ScipyStep, user_c0_1ScipyStep_wclient_init, user_c0_1ScipyStep_wglobalx2_init], iterable_labels=['Global: Shared Random', 'Local: Shared Random', 'Global: Prev Client', 'Local: Prev Client', 'Global: Prev Global', 'Local: Prev Global'], input_linewidth=3, local_error=True, global_error=True, custom_title='FL Model Error As a Function of Initialization Matrix')"
   ]
  },
  {
   "cell_type": "code",
   "execution_count": null,
   "id": "210f78be",
   "metadata": {},
   "outputs": [],
   "source": [
    "all_users, all_dfs, all_vecs = central_tendency_plotting([user_c0_1ScipyStep, user_c0_1ScipyStep_wclient_init, user_c0_1ScipyStep_wglobalx2_init], iterable_labels=['Global: Shared Random', 'Local: Shared Random', 'Global: Prev Client', 'Local: Prev Client', 'Global: Prev Global', 'Local: Prev Global'], input_linewidth=3, local_error=True, global_error=True, my_legend_loc='center right', custom_title='FL Model Error As a Function of Initialization Matrix')"
   ]
  },
  {
   "cell_type": "code",
   "execution_count": null,
   "id": "91f971e7",
   "metadata": {},
   "outputs": [],
   "source": [
    "all_users, all_dfs, all_vecs = central_tendency_plotting([user_c0_1ScipyStep, user_c0_1ScipyStep_wclient_init, user_c0_1ScipyStep_wglobalx2_init], iterable_labels=['Global: Shared Random', 'Local: Shared Random', 'Global: Prev Client', 'Local: Prev Client', 'Global: Prev Global', 'Local: Prev Global'], input_linewidth=3, local_error=True, global_error=True, my_legend_loc='lower right', custom_title='FL Model Error As a Function of Initialization Matrix')"
   ]
  },
  {
   "cell_type": "code",
   "execution_count": null,
   "id": "9fa0db13",
   "metadata": {},
   "outputs": [],
   "source": []
  }
 ],
 "metadata": {
  "kernelspec": {
   "display_name": "Python 3 (ipykernel)",
   "language": "python",
   "name": "python3"
  },
  "language_info": {
   "codemirror_mode": {
    "name": "ipython",
    "version": 3
   },
   "file_extension": ".py",
   "mimetype": "text/x-python",
   "name": "python",
   "nbconvert_exporter": "python",
   "pygments_lexer": "ipython3",
   "version": "3.10.10"
  }
 },
 "nbformat": 4,
 "nbformat_minor": 5
}
