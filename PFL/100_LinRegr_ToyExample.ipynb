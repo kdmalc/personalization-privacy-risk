{
 "cells": [
  {
   "cell_type": "code",
   "execution_count": 1,
   "id": "f06f7715",
   "metadata": {},
   "outputs": [],
   "source": [
    "import numpy as np\n",
    "import matplotlib.pyplot as plt\n",
    "import torch"
   ]
  },
  {
   "cell_type": "code",
   "execution_count": 2,
   "id": "33065505",
   "metadata": {},
   "outputs": [],
   "source": [
    "x_data = np.array([1, 2, 3, 4, 5])\n",
    "y_data = x_data * 2"
   ]
  },
  {
   "cell_type": "markdown",
   "id": "c875878d",
   "metadata": {},
   "source": [
    "## PyTorch Implementation"
   ]
  },
  {
   "cell_type": "code",
   "execution_count": 3,
   "id": "b33f3311",
   "metadata": {},
   "outputs": [],
   "source": [
    "x = np.random.rand(50)\n",
    "x = x * 10\n",
    "\n",
    "y = x * 3 - 4\n",
    "y += np.random.randn(50)\n",
    "\n",
    "x_torch = torch.FloatTensor(x).reshape(-1, 1)\n",
    "y_torch = torch.FloatTensor(y).reshape(-1, 1)"
   ]
  },
  {
   "cell_type": "code",
   "execution_count": 4,
   "id": "1980e1ba",
   "metadata": {},
   "outputs": [],
   "source": [
    "class LinearModel(torch.nn.Module):\n",
    "    def __init__(self):\n",
    "        super(LinearModel, self).__init__()\n",
    "        self.linear = torch.nn.Linear(1, 1)\n",
    "\n",
    "    def forward(self, x):\n",
    "        return self.linear(x)"
   ]
  },
  {
   "cell_type": "code",
   "execution_count": 5,
   "id": "4b247433",
   "metadata": {},
   "outputs": [],
   "source": [
    "model = LinearModel()\n",
    "criterion = torch.nn.MSELoss()\n",
    "optimizer = torch.optim.SGD(model.parameters(), lr=0.01)"
   ]
  },
  {
   "cell_type": "markdown",
   "id": "7cc576e3",
   "metadata": {},
   "source": [
    "Train the model for 1000 epochs.\\\n",
    "1) Do the forward propagation.\\\n",
    "2) Calculate loss\\\n",
    "3) Backpropagation\\\n",
    "4) Update the parameters by using `optimizer.step()`\\\n",
    "5) Zero the gradients"
   ]
  },
  {
   "cell_type": "code",
   "execution_count": 6,
   "id": "9e03bbc2",
   "metadata": {},
   "outputs": [],
   "source": [
    "all_loss = []\n",
    "\n",
    "for epoch in range(1000):\n",
    "    y_hat = model(x_torch)\n",
    "\n",
    "    loss = criterion(y_hat, y_torch)\n",
    "    loss.backward()\n",
    "    all_loss.append(loss.item())\n",
    "\n",
    "    optimizer.step()\n",
    "    optimizer.zero_grad()"
   ]
  },
  {
   "cell_type": "code",
   "execution_count": 7,
   "id": "90be2ed7",
   "metadata": {},
   "outputs": [],
   "source": [
    "y_pred = model.forward(x_torch)"
   ]
  },
  {
   "cell_type": "code",
   "execution_count": 8,
   "id": "3eed408d",
   "metadata": {},
   "outputs": [
    {
     "data": {
      "text/plain": [
       "[<matplotlib.lines.Line2D at 0x22a2d849540>]"
      ]
     },
     "execution_count": 8,
     "metadata": {},
     "output_type": "execute_result"
    },
    {
     "data": {
      "image/png": "[encoded data removed]",
      "text/plain": [
       "<Figure size 640x480 with 1 Axes>"
      ]
     },
     "metadata": {},
     "output_type": "display_data"
    }
   ],
   "source": [
    "plt.plot(x_torch, y_torch, 'go')\n",
    "plt.plot(x_torch, y_pred.detach().numpy(), '--')"
   ]
  },
  {
   "cell_type": "code",
   "execution_count": 9,
   "id": "8cb4f315",
   "metadata": {},
   "outputs": [
    {
     "name": "stdout",
     "output_type": "stream",
     "text": [
      "linear.weight Parameter containing:\n",
      "tensor([[3.0390]], requires_grad=True)\n",
      "linear.bias Parameter containing:\n",
      "tensor([-3.9953], requires_grad=True)\n"
     ]
    }
   ],
   "source": [
    "for name, param in model.named_parameters():\n",
    "    print(name, param)"
   ]
  },
  {
   "cell_type": "code",
   "execution_count": 14,
   "id": "b7f79087",
   "metadata": {},
   "outputs": [
    {
     "data": {
      "text/plain": [
       "False"
      ]
     },
     "execution_count": 14,
     "metadata": {},
     "output_type": "execute_result"
    }
   ],
   "source": [
    "torch.cuda.is_available()"
   ]
  },
  {
   "cell_type": "code",
   "execution_count": 17,
   "id": "d8111db9",
   "metadata": {},
   "outputs": [],
   "source": [
    "num_input_channels = 64  # Change once I add PCA\n",
    "input_size = num_input_channels\n",
    "# ^ IRL I'm not sure we are guaranteed to get equalength trials\n",
    "#  Thus may be better to do every time point individually? Not sure\n",
    "output_size = 2  # 2D Velocity\n",
    "\n",
    "learning_rate = 0.01"
   ]
  },
  {
   "cell_type": "code",
   "execution_count": 18,
   "id": "ea5f406e",
   "metadata": {},
   "outputs": [],
   "source": [
    "model = LinearModel()\n",
    "criterion = torch.nn.MSELoss()\n",
    "optimizer = torch.optim.SGD(model.parameters(), lr=learning_rate)"
   ]
  },
  {
   "cell_type": "code",
   "execution_count": 19,
   "id": "295e9223",
   "metadata": {},
   "outputs": [],
   "source": [
    "x = np.random.rand(50)\n",
    "x = x * 10\n",
    "\n",
    "y = x * 3 - 4\n",
    "y += np.random.randn(50)\n",
    "\n",
    "x_torch = torch.FloatTensor(x).reshape(-1, 1)\n",
    "y_torch = torch.FloatTensor(y).reshape(-1, 1)"
   ]
  },
  {
   "cell_type": "code",
   "execution_count": 20,
   "id": "26fedc10",
   "metadata": {},
   "outputs": [
    {
     "data": {
      "text/plain": [
       "torch.Size([50, 1])"
      ]
     },
     "execution_count": 20,
     "metadata": {},
     "output_type": "execute_result"
    }
   ],
   "source": [
    "y_torch.shape"
   ]
  },
  {
   "cell_type": "code",
   "execution_count": 21,
   "id": "fbdbc3e1",
   "metadata": {},
   "outputs": [],
   "source": [
    "all_loss = []\n",
    "\n",
    "for epoch in range(1000):\n",
    "    y_hat = model(x_torch)\n",
    "\n",
    "    loss = criterion(y_hat, y_torch)\n",
    "    loss.backward()\n",
    "    all_loss.append(loss.item())\n",
    "\n",
    "    optimizer.step()\n",
    "    optimizer.zero_grad()"
   ]
  },
  {
   "cell_type": "code",
   "execution_count": 22,
   "id": "c55a05a0",
   "metadata": {},
   "outputs": [],
   "source": [
    "y_pred = model.forward(x_torch)"
   ]
  },
  {
   "cell_type": "code",
   "execution_count": 23,
   "id": "0a248288",
   "metadata": {},
   "outputs": [
    {
     "data": {
      "text/plain": [
       "[<matplotlib.lines.Line2D at 0x22a2da9e470>]"
      ]
     },
     "execution_count": 23,
     "metadata": {},
     "output_type": "execute_result"
    },
    {
     "data": {
      "image/png": "[encoded data removed]",
      "text/plain": [
       "<Figure size 640x480 with 1 Axes>"
      ]
     },
     "metadata": {},
     "output_type": "display_data"
    }
   ],
   "source": [
    "plt.plot(x_torch, y_torch, 'go')\n",
    "plt.plot(x_torch, y_pred.detach().numpy(), '--')"
   ]
  },
  {
   "cell_type": "code",
   "execution_count": 24,
   "id": "7546b588",
   "metadata": {},
   "outputs": [
    {
     "name": "stdout",
     "output_type": "stream",
     "text": [
      "linear.weight Parameter containing:\n",
      "tensor([[2.9768]], requires_grad=True)\n",
      "linear.bias Parameter containing:\n",
      "tensor([-3.8681], requires_grad=True)\n"
     ]
    }
   ],
   "source": [
    "for name, param in model.named_parameters():\n",
    "    print(name, param)"
   ]
  },
  {
   "cell_type": "code",
   "execution_count": null,
   "id": "ef955c8e",
   "metadata": {},
   "outputs": [],
   "source": []
  }
 ],
 "metadata": {
  "kernelspec": {
   "display_name": "Python 3 (ipykernel)",
   "language": "python",
   "name": "python3"
  },
  "language_info": {
   "codemirror_mode": {
    "name": "ipython",
    "version": 3
   },
   "file_extension": ".py",
   "mimetype": "text/x-python",
   "name": "python",
   "nbconvert_exporter": "python",
   "pygments_lexer": "ipython3",
   "version": "3.10.10"
  }
 },
 "nbformat": 4,
 "nbformat_minor": 5
}
