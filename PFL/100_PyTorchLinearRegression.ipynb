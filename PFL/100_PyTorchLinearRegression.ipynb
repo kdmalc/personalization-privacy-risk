{
 "cells": [
  {
   "cell_type": "code",
   "execution_count": 1,
   "id": "f06f7715",
   "metadata": {},
   "outputs": [],
   "source": [
    "import numpy as np\n",
    "import matplotlib.pyplot as plt\n",
    "import torch"
   ]
  },
  {
   "cell_type": "code",
   "execution_count": 2,
   "id": "33065505",
   "metadata": {},
   "outputs": [],
   "source": [
    "x_data = np.array([1, 2, 3, 4, 5])\n",
    "y_data = x_data * 2"
   ]
  },
  {
   "cell_type": "markdown",
   "id": "c875878d",
   "metadata": {},
   "source": [
    "## PyTorch Implementation"
   ]
  },
  {
   "cell_type": "code",
   "execution_count": 3,
   "id": "b33f3311",
   "metadata": {},
   "outputs": [],
   "source": [
    "x = np.random.rand(50)\n",
    "x = x * 10\n",
    "\n",
    "y = x * 3 - 4\n",
    "y += np.random.randn(50)\n",
    "\n",
    "x_torch = torch.FloatTensor(x).reshape(-1, 1)\n",
    "y_torch = torch.FloatTensor(y).reshape(-1, 1)"
   ]
  },
  {
   "cell_type": "code",
   "execution_count": 4,
   "id": "1980e1ba",
   "metadata": {},
   "outputs": [],
   "source": [
    "class LinearModel(torch.nn.Module):\n",
    "    def __init__(self):\n",
    "        super(LinearModel, self).__init__()\n",
    "        self.linear = torch.nn.Linear(1, 1)\n",
    "\n",
    "    def forward(self, x):\n",
    "        return self.linear(x)"
   ]
  },
  {
   "cell_type": "code",
   "execution_count": 5,
   "id": "4b247433",
   "metadata": {},
   "outputs": [],
   "source": [
    "model = LinearModel()\n",
    "criterion = torch.nn.MSELoss()\n",
    "optimizer = torch.optim.SGD(model.parameters(), lr=0.01)"
   ]
  },
  {
   "cell_type": "markdown",
   "id": "7cc576e3",
   "metadata": {},
   "source": [
    "Train the model for 1000 epochs.\\\n",
    "1) Do the forward propagation.\\\n",
    "2) Calculate loss\\\n",
    "3) Backpropagation\\\n",
    "4) Update the parameters by using `optimizer.step()`\\\n",
    "5) Zero the gradients"
   ]
  },
  {
   "cell_type": "code",
   "execution_count": 6,
   "id": "9e03bbc2",
   "metadata": {},
   "outputs": [],
   "source": [
    "all_loss = []\n",
    "\n",
    "for epoch in range(1000):\n",
    "    y_hat = model(x_torch)\n",
    "\n",
    "    loss = criterion(y_hat, y_torch)\n",
    "    loss.backward()\n",
    "    all_loss.append(loss.item())\n",
    "\n",
    "    optimizer.step()\n",
    "    optimizer.zero_grad()"
   ]
  },
  {
   "cell_type": "code",
   "execution_count": 7,
   "id": "90be2ed7",
   "metadata": {},
   "outputs": [],
   "source": [
    "y_pred = model.forward(x_torch)"
   ]
  },
  {
   "cell_type": "code",
   "execution_count": 8,
   "id": "3eed408d",
   "metadata": {},
   "outputs": [
    {
     "data": {
      "text/plain": [
       "[<matplotlib.lines.Line2D at 0x19bc0f89390>]"
      ]
     },
     "execution_count": 8,
     "metadata": {},
     "output_type": "execute_result"
    },
    {
     "data": {
      "image/png": "[encoded data removed]",
      "text/plain": [
       "<Figure size 640x480 with 1 Axes>"
      ]
     },
     "metadata": {},
     "output_type": "display_data"
    }
   ],
   "source": [
    "plt.plot(x_torch, y_torch, 'go')\n",
    "plt.plot(x_torch, y_pred.detach().numpy(), '--')"
   ]
  },
  {
   "cell_type": "code",
   "execution_count": 9,
   "id": "8cb4f315",
   "metadata": {},
   "outputs": [
    {
     "name": "stdout",
     "output_type": "stream",
     "text": [
      "linear.weight Parameter containing:\n",
      "tensor([[2.9874]], requires_grad=True)\n",
      "linear.bias Parameter containing:\n",
      "tensor([-3.9658], requires_grad=True)\n"
     ]
    }
   ],
   "source": [
    "for name, param in model.named_parameters():\n",
    "    print(name, param)"
   ]
  },
  {
   "cell_type": "markdown",
   "id": "d7c1677f",
   "metadata": {},
   "source": [
    "# Integrating CPHS Data and Code"
   ]
  },
  {
   "cell_type": "markdown",
   "id": "f6131067",
   "metadata": {},
   "source": [
    "## Load Data"
   ]
  },
  {
   "cell_type": "code",
   "execution_count": 10,
   "id": "009e722c",
   "metadata": {},
   "outputs": [],
   "source": [
    "import pickle\n",
    "\n",
    "with open(r\"C:\\Users\\kdmen\\Desktop\\Research\\personalization-privacy-risk\\Data\\continuous_full_data_block1.pickle\", 'rb') as handle:\n",
    "    #refs_block1, poss_block1, dec_vels_block1, int_vel_block1, emgs_block1, Ws_block1, Hs_block1, alphas_block1, pDs_block1, times_block1, conditions_block1 = pickle.load(handle)\n",
    "    refs_block1, _, _, _, emgs_block1, _, _, _, _, _, _ = pickle.load(handle)\n",
    "\n",
    "#with open(r\"C:\\Users\\kdmen\\Desktop\\Research\\personalization-privacy-risk\\Data\\continuous_full_data_block2.pickle\", 'rb') as handle:\n",
    "#    #refs_block2, poss_block2, dec_vels_block2, int_vel_block2, emgs_block2, Ws_block2, Hs_block2, alphas_block2, pDs_block2, times_block2, conditions_block2 = pickle.load(handle)\n",
    "#    refs_block2, _, _, _, emgs_block2, _, _, _, _, _, _ = pickle.load(handle)"
   ]
  },
  {
   "cell_type": "code",
   "execution_count": 11,
   "id": "f4f7ca7d",
   "metadata": {},
   "outputs": [],
   "source": [
    "keys = ['METACPHS_S106', 'METACPHS_S107', 'METACPHS_S108', 'METACPHS_S109', 'METACPHS_S110', 'METACPHS_S111', 'METACPHS_S112', 'METACPHS_S113', 'METACPHS_S114', 'METACPHS_S115', 'METACPHS_S116', 'METACPHS_S117', 'METACPHS_S118', 'METACPHS_S119']\n",
    "key_to_num = dict()\n",
    "num_to_key = dict()\n",
    "for idx, key in enumerate(keys):\n",
    "    key_to_num[key] = idx\n",
    "    num_to_key[idx] = key\n",
    "\n",
    "num_conds = 8\n",
    "num_channels = 64\n",
    "num_updates = 19\n",
    "cphs_starting_update = 10\n",
    "update_ix = [0,  1200,  2402,  3604,  4806,  6008,  7210,  8412,  9614, 10816, 12018, 13220, 14422, 15624, 16826, 18028, 19230, 20432, 20769]"
   ]
  },
  {
   "cell_type": "code",
   "execution_count": 12,
   "id": "84acc893",
   "metadata": {},
   "outputs": [
    {
     "name": "stdout",
     "output_type": "stream",
     "text": [
      "EMG Input shape: (8, 20770, 64)\n",
      "2D Velocity Label shape: (8, 20770, 2)\n"
     ]
    }
   ],
   "source": [
    "print(f\"EMG Input shape: {emgs_block1[keys[0]].shape}\")\n",
    "print(f\"2D Velocity Label shape: {refs_block1[keys[0]].shape}\")"
   ]
  },
  {
   "cell_type": "code",
   "execution_count": 13,
   "id": "72c8307a",
   "metadata": {},
   "outputs": [
    {
     "name": "stdout",
     "output_type": "stream",
     "text": [
      "Condition 1\n"
     ]
    }
   ],
   "source": [
    "print(\"Condition 1\")\n",
    "F1tens_full = torch.from_numpy(emgs_block1[keys[0]][0, :, :])\n",
    "VREF1tens_full = torch.from_numpy(refs_block1[keys[0]][0, :, :])"
   ]
  },
  {
   "cell_type": "code",
   "execution_count": 14,
   "id": "b7f79087",
   "metadata": {},
   "outputs": [
    {
     "data": {
      "text/plain": [
       "False"
      ]
     },
     "execution_count": 14,
     "metadata": {},
     "output_type": "execute_result"
    }
   ],
   "source": [
    "torch.cuda.is_available()"
   ]
  },
  {
   "cell_type": "code",
   "execution_count": 15,
   "id": "e98c2c81",
   "metadata": {},
   "outputs": [],
   "source": [
    "# 2-norm\n",
    "#x.norm(dim=1, p=2)\n",
    "#torch.linalg.norm(x, dim=1, ord=2)\n",
    "#x.pow(2).sum(dim=1).sqrt()\n",
    "\n",
    "# https://pytorch.org/docs/stable/generated/torch.norm.html"
   ]
  },
  {
   "cell_type": "code",
   "execution_count": 16,
   "id": "8e71276d",
   "metadata": {},
   "outputs": [],
   "source": [
    "# TENSOR-IFY THIS FUNCTION!!!\n",
    "def cost_l2_torch(F, D, V, learning_batch, lambdaF=1e-7, lambdaD=1e-3, lambdaE=1e-6, Nd=2, Ne=64):\n",
    "    # c_L2 = (lambdaE||DF + V+||_2)^2 + lambdaD*(||D||_2)^2 + lambdaF*(||F||_2)^2\n",
    "    \n",
    "    '''\n",
    "    F: 64 channels x time EMG signals\n",
    "    V: 2 x time target velocity\n",
    "    D: 2 (x y vel) x 64 channels decoder\n",
    "    H: 2 x 2 state transition matrix\n",
    "    alphaE is 1e-6 for all conditions\n",
    "    ''' \n",
    "\n",
    "    Nt = learning_batch\n",
    "    D = np.reshape(D,(Nd,Ne))\n",
    "    Vplus = V[:,1:]\n",
    "    # Performance\n",
    "    term1 = lambdaE*(np.linalg.norm((D@F - Vplus))**2)\n",
    "    # D Norm\n",
    "    term2 = lambdaD*(np.linalg.norm(D)**2)\n",
    "    # F Norm\n",
    "    term3 = lambdaF*(np.linalg.norm(F)**2)\n",
    "    return (term1 + term2 + term3)"
   ]
  },
  {
   "cell_type": "code",
   "execution_count": 17,
   "id": "d8111db9",
   "metadata": {},
   "outputs": [],
   "source": [
    "num_input_channels = 64  # Change once I add PCA\n",
    "input_size = num_input_channels\n",
    "# ^ IRL I'm not sure we are guaranteed to get equalength trials\n",
    "#  Thus may be better to do every time point individually? Not sure\n",
    "output_size = 2  # 2D Velocity\n",
    "\n",
    "learning_rate = 0.01"
   ]
  },
  {
   "cell_type": "code",
   "execution_count": 18,
   "id": "ea5f406e",
   "metadata": {},
   "outputs": [],
   "source": [
    "model = LinearModel()\n",
    "criterion = torch.nn.MSELoss()\n",
    "optimizer = torch.optim.SGD(model.parameters(), lr=learning_rate)"
   ]
  },
  {
   "cell_type": "code",
   "execution_count": 19,
   "id": "295e9223",
   "metadata": {},
   "outputs": [],
   "source": [
    "x = np.random.rand(50)\n",
    "x = x * 10\n",
    "\n",
    "y = x * 3 - 4\n",
    "y += np.random.randn(50)\n",
    "\n",
    "x_torch = torch.FloatTensor(x).reshape(-1, 1)\n",
    "y_torch = torch.FloatTensor(y).reshape(-1, 1)"
   ]
  },
  {
   "cell_type": "code",
   "execution_count": 20,
   "id": "26fedc10",
   "metadata": {},
   "outputs": [
    {
     "data": {
      "text/plain": [
       "torch.Size([50, 1])"
      ]
     },
     "execution_count": 20,
     "metadata": {},
     "output_type": "execute_result"
    }
   ],
   "source": [
    "y_torch.shape"
   ]
  },
  {
   "cell_type": "code",
   "execution_count": 21,
   "id": "fbdbc3e1",
   "metadata": {},
   "outputs": [],
   "source": [
    "all_loss = []\n",
    "\n",
    "for epoch in range(1000):\n",
    "    y_hat = model(x_torch)\n",
    "\n",
    "    loss = criterion(y_hat, y_torch)\n",
    "    loss.backward()\n",
    "    all_loss.append(loss.item())\n",
    "\n",
    "    optimizer.step()\n",
    "    optimizer.zero_grad()"
   ]
  },
  {
   "cell_type": "code",
   "execution_count": null,
   "id": "c55a05a0",
   "metadata": {},
   "outputs": [],
   "source": [
    "y_pred = model.forward(x_torch)"
   ]
  },
  {
   "cell_type": "code",
   "execution_count": null,
   "id": "0a248288",
   "metadata": {},
   "outputs": [],
   "source": [
    "plt.plot(x_torch, y_torch, 'go')\n",
    "plt.plot(x_torch, y_pred.detach().numpy(), '--')"
   ]
  },
  {
   "cell_type": "code",
   "execution_count": null,
   "id": "7546b588",
   "metadata": {},
   "outputs": [],
   "source": [
    "for name, param in model.named_parameters():\n",
    "    print(name, param)"
   ]
  },
  {
   "cell_type": "code",
   "execution_count": 23,
   "id": "f642b84a",
   "metadata": {},
   "outputs": [],
   "source": [
    "# Other option which should give same result:\n",
    "model = torch.nn.Linear(input_size, output_size)  # Single layer nn for Lin Regr"
   ]
  },
  {
   "cell_type": "code",
   "execution_count": 25,
   "id": "be47a35f",
   "metadata": {},
   "outputs": [
    {
     "data": {
      "text/plain": [
       "torch.Size([2, 64])"
      ]
     },
     "execution_count": 25,
     "metadata": {},
     "output_type": "execute_result"
    }
   ],
   "source": [
    "model.weight.shape"
   ]
  },
  {
   "cell_type": "code",
   "execution_count": null,
   "id": "b3db13e4",
   "metadata": {},
   "outputs": [],
   "source": [
    "assert(1==0)"
   ]
  },
  {
   "cell_type": "code",
   "execution_count": null,
   "id": "6a953015",
   "metadata": {},
   "outputs": [],
   "source": [
    "num_epochs = 100\n",
    "loss_log = []\n",
    "criterion = cost_l2_torch\n",
    "for my_epoch in range(num_epochs):\n",
    "    # forward pass and loss\n",
    "    y_pred = model(X)\n",
    "    #loss = criterion(emg_streamed_batch, model.weight, IDK, emg_streamed_batch.shape[0])\n",
    "    #F, D, V, learning_batch\n",
    "\n",
    "    \n",
    "    # backward pass\n",
    "    loss.backward()\n",
    "    loss_log.append(loss.item())\n",
    "    \n",
    "    # update\n",
    "    optimizer.step()\n",
    "    \n",
    "    optimizer.zero_grad()\n",
    "    \n",
    "    if (my_epoch+1)%10==0:\n",
    "        print(f\"Epoch: {my_epoch+1}, loss: {loss.item():.4f}\")"
   ]
  },
  {
   "cell_type": "code",
   "execution_count": null,
   "id": "cd88f460",
   "metadata": {},
   "outputs": [],
   "source": []
  },
  {
   "cell_type": "code",
   "execution_count": null,
   "id": "fc5e81b4",
   "metadata": {},
   "outputs": [],
   "source": [
    "# I can't run this code since my data isn't 1D...\n",
    "#predicted = model(X).detach().numpy()\n",
    "#plt.plot(X_numpy, y_numpy, 'ro')\n",
    "#plt.plot(X_numpy, predicted, 'b')\n",
    "#plt.show()\n",
    "\n",
    "# Plot loss per epoch instead\n",
    "plot.plot(range(num_epochs), loss_log)\n",
    "plt.title(\"Training Loss Per Epoch\")\n",
    "plt.show()"
   ]
  },
  {
   "cell_type": "code",
   "execution_count": null,
   "id": "ef955c8e",
   "metadata": {},
   "outputs": [],
   "source": []
  }
 ],
 "metadata": {
  "kernelspec": {
   "display_name": "Python 3 (ipykernel)",
   "language": "python",
   "name": "python3"
  },
  "language_info": {
   "codemirror_mode": {
    "name": "ipython",
    "version": 3
   },
   "file_extension": ".py",
   "mimetype": "text/x-python",
   "name": "python",
   "nbconvert_exporter": "python",
   "pygments_lexer": "ipython3",
   "version": "3.10.10"
  }
 },
 "nbformat": 4,
 "nbformat_minor": 5
}
