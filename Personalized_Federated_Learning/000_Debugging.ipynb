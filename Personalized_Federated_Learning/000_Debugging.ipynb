{
 "cells": [
  {
   "cell_type": "code",
   "execution_count": 1,
   "id": "c5add6f8",
   "metadata": {},
   "outputs": [],
   "source": [
    "import torch\n",
    "from flcore.pflniid_utils.data_utils import read_client_data\n",
    "from flcore.clients.clientavg import clientAVG"
   ]
  },
  {
   "cell_type": "code",
   "execution_count": 2,
   "id": "1413334f",
   "metadata": {},
   "outputs": [],
   "source": [
    "import copy\n",
    "import argparse\n",
    "import os\n",
    "import time\n",
    "import warnings\n",
    "import numpy as np\n",
    "import logging\n",
    "from flcore.servers.serveravg import FedAvg\n",
    "from flcore.servers.serverlocal import Local"
   ]
  },
  {
   "cell_type": "code",
   "execution_count": 3,
   "id": "fccfa2cc",
   "metadata": {},
   "outputs": [],
   "source": [
    "parser = argparse.ArgumentParser()"
   ]
  },
  {
   "cell_type": "code",
   "execution_count": 4,
   "id": "6403217f",
   "metadata": {},
   "outputs": [
    {
     "data": {
      "text/plain": [
       "_StoreAction(option_strings=['-nnc', '--num_new_clients'], dest='num_new_clients', nargs=None, const=None, default=0, type=<class 'int'>, choices=None, required=False, help=None, metavar=None)"
      ]
     },
     "execution_count": 4,
     "metadata": {},
     "output_type": "execute_result"
    }
   ],
   "source": [
    "# general\n",
    "parser.add_argument('-go', \"--goal\", type=str, default=\"test\", \n",
    "                    help=\"The goal for this experiment\")\n",
    "parser.add_argument('-dev', \"--device\", type=str, default=\"cpu\",  # KAI: Changed the default to cpu\n",
    "                    choices=[\"cpu\", \"cuda\"])\n",
    "parser.add_argument('-did', \"--device_id\", type=str, default=\"0\")\n",
    "parser.add_argument('-data', \"--dataset\", type=str, default=\"cphs\")  # KAI: Changed the default to cphs (from mnist)\n",
    "#parser.add_argument('-nb', \"--num_classes\", type=int, default=10)  # Not doing classification...\n",
    "parser.add_argument('-m', \"--model\", type=str, default=\"Linear Regression\")  # KAI: Changed the default to Linear Regression\n",
    "parser.add_argument('-lbs', \"--batch_size\", type=int, default=1200)  # Setting it to a full update would be 1300ish... how many batches does it run? In one epoch? Not even sure where that is set\n",
    "# The 1300 and the batch size are 2 separate things...\n",
    "# I want to restrict the given dataset to just the 1300, but then iterate in batches... or do I since we don't have that much data and can probably just use all the data at once? Make batch size match the update size? ...\n",
    "parser.add_argument('-lr', \"--local_learning_rate\", type=float, default=0.005,\n",
    "                    help=\"Local learning rate\")\n",
    "parser.add_argument('-ld', \"--learning_rate_decay\", type=bool, default=False)\n",
    "parser.add_argument('-ldg', \"--learning_rate_decay_gamma\", type=float, default=0.99)\n",
    "parser.add_argument('-gr', \"--global_rounds\", type=int, default=250)  # KAI: Switched to 250 down from 2000\n",
    "parser.add_argument('-ls', \"--local_epochs\", type=int, default=1, \n",
    "                    help=\"Multiple update steps in one local epoch.\")  # KAI: I think it was 1 originally.  I'm gonna keep it there.  Does this mean I can set batchsize to 1300 and cook?Is my setup capable or running multiple epochs? Implicitly I was doing 1 epoch before, using the full update data I believe...\n",
    "parser.add_argument('-algo', \"--algorithm\", type=str, default=\"FedAvg\")\n",
    "parser.add_argument('-jr', \"--join_ratio\", type=float, default=0.2,\n",
    "                    help=\"Ratio of clients per round\")\n",
    "parser.add_argument('-rjr', \"--random_join_ratio\", type=bool, default=False,\n",
    "                    help=\"Random ratio of clients per round\")\n",
    "parser.add_argument('-nc', \"--num_clients\", type=int, default=14,\n",
    "                    help=\"Total number of clients\")\n",
    "parser.add_argument('-dp', \"--privacy\", type=bool, default=False,\n",
    "                    help=\"differential privacy\")\n",
    "parser.add_argument('-dps', \"--dp_sigma\", type=float, default=0.0)\n",
    "parser.add_argument('-sfn', \"--save_folder_name\", type=str, default='items')\n",
    "\n",
    "# SECTION: practical\n",
    "parser.add_argument('-cdr', \"--client_drop_rate\", type=float, default=0.0,\n",
    "                    help=\"Rate for clients that train but drop out\")\n",
    "parser.add_argument('-tsr', \"--train_slow_rate\", type=float, default=0.0,\n",
    "                    help=\"The rate for slow clients when training locally\")\n",
    "parser.add_argument('-ssr', \"--send_slow_rate\", type=float, default=0.0,\n",
    "                    help=\"The rate for slow clients when sending global model\")\n",
    "parser.add_argument('-ts', \"--time_select\", type=bool, default=False,\n",
    "                    help=\"Whether to group and select clients at each round according to time cost\")\n",
    "parser.add_argument('-tth', \"--time_threthold\", type=float, default=10000,\n",
    "                    help=\"The threthold for droping slow clients\")\n",
    "\n",
    "# SECTION: Kai's additional args\n",
    "parser.add_argument('-pca_channels', \"--pca_channels\", type=int, default=64,\n",
    "                    help=\"Number of principal components. 64 means do not use any PCA\")\n",
    "parser.add_argument('-lambdas', \"--lambdas\", type=list, default=[0, 1e-3, 1e-4],\n",
    "                    help=\"Lamda F, D, E penalty terms \")\n",
    "parser.add_argument('-starting_update', \"--starting_update\", type=int, default=0,\n",
    "                    help=\"Which update to start on (for CPHS Simulation). Use 0 or 10.\")\n",
    "parser.add_argument('-test_split', \"--test_split\", type=float, default=0.2,\n",
    "                    help=\"Percent of data to use for testing\")\n",
    "parser.add_argument('-device_channels', \"--device_channels\", type=int, default=64,\n",
    "                    help=\"Number of recording channels with the used EMG device\")\n",
    "parser.add_argument('-dt', \"--dt\", type=float, default=1/60,\n",
    "                    help=\"Delta time, amount of time (sec?) between measurements\")\n",
    "parser.add_argument('-normalize_emg', \"--normalize_emg\", type=bool, default=False,\n",
    "                    help=\"Normalize the input EMG signals\")\n",
    "parser.add_argument('-normalize_V', \"--normalize_V\", type=bool, default=False,\n",
    "                    help=\"Normalize the V term in the cost function\")\n",
    "parser.add_argument('-local_round_threshold', \"--local_round_threshold\", type=int, default=50,\n",
    "                    help=\"Number of communication rounds per client until a client will advance to the next batch of streamed data\")\n",
    "parser.add_argument('-debug_mode', \"--debug_mode\", type=bool, default=False,\n",
    "                    help=\"In debug mode, the code is run to minimize overhead time in order to debug as fast as possible.  Namely, the data is held at the server to decrease init time, and communication delays are ignored.\")\n",
    "parser.add_argument('-condition_number', \"--condition_number\", type=int, default=1,\n",
    "                    help=\"Which condition number (trial) to train on\")\n",
    "\n",
    "\n",
    "\n",
    "parser.add_argument('-t', \"--times\", type=int, default=1,\n",
    "                    help=\"Running times\")\n",
    "parser.add_argument('-ab', \"--auto_break\", type=bool, default=False)\n",
    "parser.add_argument('-dlg', \"--dlg_eval\", type=bool, default=False)\n",
    "parser.add_argument('-eg', \"--eval_gap\", type=int, default=1,\n",
    "                    help=\"Rounds gap for evaluation\")\n",
    "parser.add_argument('-nnc', \"--num_new_clients\", type=int, default=0)\n",
    "\n",
    "\n",
    "# This one for sure breaks it\n",
    "#parser.add_argument('-fte', \"--fine_tuning_epoch\", type=int, default=0)"
   ]
  },
  {
   "cell_type": "code",
   "execution_count": 5,
   "id": "64ca082d",
   "metadata": {},
   "outputs": [
    {
     "data": {
      "text/plain": [
       "0"
      ]
     },
     "execution_count": 5,
     "metadata": {},
     "output_type": "execute_result"
    }
   ],
   "source": [
    "# SECTION: Idk what these are lol\n",
    "'''\n",
    "parser.add_argument('-eg', \"--eval_gap\", type=int, default=1,\n",
    "                    help=\"Rounds gap for evaluation\")\n",
    "parser.add_argument('-pv', \"--prev\", type=int, default=0,\n",
    "                    help=\"Previous Running times\")\n",
    "parser.add_argument('-t', \"--times\", type=int, default=1,\n",
    "                    help=\"Running times\")\n",
    "parser.add_argument('-ab', \"--auto_break\", type=bool, default=False)\n",
    "parser.add_argument('-dlg', \"--dlg_eval\", type=bool, default=False)  # DLG = Deep Leakage from Gradients\n",
    "parser.add_argument('-dlgg', \"--dlg_gap\", type=int, default=100)\n",
    "parser.add_argument('-bnpc', \"--batch_num_per_client\", type=int, default=2)  # Only used with DLG\n",
    "parser.add_argument('-nnc', \"--num_new_clients\", type=int, default=0)\n",
    "parser.add_argument('-fte', \"--fine_tuning_epoch\", type=int, default=0)\n",
    "'''\n",
    "#args = parser.parse_known_args()\n",
    "0"
   ]
  },
  {
   "cell_type": "code",
   "execution_count": 6,
   "id": "0c8d6f64",
   "metadata": {},
   "outputs": [],
   "source": [
    "#args = parser.parse_args()\n",
    "args = parser.parse_known_args()"
   ]
  },
  {
   "cell_type": "code",
   "execution_count": 7,
   "id": "3a187189",
   "metadata": {},
   "outputs": [
    {
     "data": {
      "text/plain": [
       "(Namespace(goal='test', device='cpu', device_id='0', dataset='cphs', model='LinearRegression', batch_size=1200, local_learning_rate=0.005, learning_rate_decay=False, learning_rate_decay_gamma=0.99, global_rounds=250, local_epochs=1, algorithm='FedAvg', join_ratio=0.2, random_join_ratio=False, num_clients=14, privacy=False, dp_sigma=0.0, save_folder_name='items', client_drop_rate=0.0, train_slow_rate=0.0, send_slow_rate=0.0, time_select=False, time_threthold=10000, pca_channels=64, lambdas=[0, 0.001, 0.0001], starting_update=0, test_split=0.2, device_channels=64, dt=0.016666666666666666, normalize_emg=False, normalize_V=False, local_round_threshold=50, debug_mode=False, condition_number=1, times=1, auto_break=False, dlg_eval=False, eval_gap=1, num_new_clients=0),\n",
       " ['-f',\n",
       "  'C:\\\\Users\\\\kdmen\\\\AppData\\\\Roaming\\\\jupyter\\\\runtime\\\\kernel-fcf87f18-9cd8-43af-a01e-ddbeca581a9f.json'])"
      ]
     },
     "execution_count": 7,
     "metadata": {},
     "output_type": "execute_result"
    }
   ],
   "source": [
    "args"
   ]
  },
  {
   "cell_type": "code",
   "execution_count": 8,
   "id": "6139a2bf",
   "metadata": {},
   "outputs": [
    {
     "data": {
      "text/plain": [
       "Namespace(goal='test', device='cpu', device_id='0', dataset='cphs', model='LinearRegression', batch_size=1200, local_learning_rate=0.005, learning_rate_decay=False, learning_rate_decay_gamma=0.99, global_rounds=250, local_epochs=1, algorithm='FedAvg', join_ratio=0.2, random_join_ratio=False, num_clients=14, privacy=False, dp_sigma=0.0, save_folder_name='items', client_drop_rate=0.0, train_slow_rate=0.0, send_slow_rate=0.0, time_select=False, time_threthold=10000, pca_channels=64, lambdas=[0, 0.001, 0.0001], starting_update=0, test_split=0.2, device_channels=64, dt=0.016666666666666666, normalize_emg=False, normalize_V=False, local_round_threshold=50, debug_mode=False, condition_number=1, times=1, auto_break=False, dlg_eval=False, eval_gap=1, num_new_clients=0)"
      ]
     },
     "execution_count": 8,
     "metadata": {},
     "output_type": "execute_result"
    }
   ],
   "source": [
    "args = args[0]\n",
    "args"
   ]
  },
  {
   "cell_type": "code",
   "execution_count": 9,
   "id": "6a418a3a",
   "metadata": {},
   "outputs": [
    {
     "name": "stdout",
     "output_type": "stream",
     "text": [
      "Algorithm: FedAvg\n",
      "Local batch size: 1200\n",
      "Local steps: 1\n",
      "Local learing rate: 0.005\n",
      "Local learing rate decay: False\n",
      "Total number of clients: 14\n",
      "Clients join in each round: 0.2\n",
      "Clients randomly join: False\n",
      "Client drop rate: 0.0\n",
      "Client select regarding time: False\n",
      "Running times: 1\n",
      "Dataset: cphs\n",
      "Backbone: LinearRegression\n",
      "Using device: cpu\n",
      "Using DP: False\n",
      "Auto break: False\n",
      "Global rounds: 250\n",
      "DLG attack: False\n",
      "Total number of new clients: 0\n",
      "KAI'S ADDITIONS\n",
      "Lambda penalty terms (F, D, E): [0, 0.001, 0.0001]\n",
      "Starting update: 0\n",
      "Testing split: 0.2\n",
      "Normalize EMG input: False\n",
      "Normalize V term: False\n",
      "Local round threshold: 50\n",
      "In Debug Mode: False\n",
      "==================================================\n"
     ]
    }
   ],
   "source": [
    "#args = parser.parse_args()\n",
    "\n",
    "# I always need to run on CPU only since I don't have Nvidia GPU available\n",
    "#os.environ[\"CUDA_VISIBLE_DEVICES\"] = args.device_id\n",
    "#if args.device == \"cuda\" and not torch.cuda.is_available():\n",
    "#    print(\"\\ncuda is not avaiable.\\n\")\n",
    "#    args.device = \"cpu\"\n",
    "\n",
    "#print(\"=\" * 50)\n",
    "\n",
    "print(\"Algorithm: {}\".format(args.algorithm))\n",
    "print(\"Local batch size: {}\".format(args.batch_size))\n",
    "print(\"Local steps: {}\".format(args.local_epochs))\n",
    "print(\"Local learing rate: {}\".format(args.local_learning_rate))\n",
    "print(\"Local learing rate decay: {}\".format(args.learning_rate_decay))\n",
    "if args.learning_rate_decay:\n",
    "    print(\"Local learing rate decay gamma: {}\".format(args.learning_rate_decay_gamma))\n",
    "print(\"Total number of clients: {}\".format(args.num_clients))\n",
    "print(\"Clients join in each round: {}\".format(args.join_ratio))\n",
    "print(\"Clients randomly join: {}\".format(args.random_join_ratio))\n",
    "print(\"Client drop rate: {}\".format(args.client_drop_rate))\n",
    "print(\"Client select regarding time: {}\".format(args.time_select))\n",
    "if args.time_select:\n",
    "    print(\"Time threthold: {}\".format(args.time_threthold))\n",
    "print(\"Running times: {}\".format(args.times))\n",
    "print(\"Dataset: {}\".format(args.dataset))\n",
    "print(\"Backbone: {}\".format(args.model))\n",
    "print(\"Using device: {}\".format(args.device))\n",
    "print(\"Using DP: {}\".format(args.privacy))\n",
    "if args.privacy:\n",
    "    print(\"Sigma for DP: {}\".format(args.dp_sigma))\n",
    "print(\"Auto break: {}\".format(args.auto_break))\n",
    "if not args.auto_break:\n",
    "    print(\"Global rounds: {}\".format(args.global_rounds))\n",
    "if args.device == \"cuda\":\n",
    "    print(\"Cuda device id: {}\".format(os.environ[\"CUDA_VISIBLE_DEVICES\"]))\n",
    "print(\"DLG attack: {}\".format(args.dlg_eval))\n",
    "if args.dlg_eval:\n",
    "    print(\"DLG attack round gap: {}\".format(args.dlg_gap))\n",
    "print(\"Total number of new clients: {}\".format(args.num_new_clients))\n",
    "#print(\"Fine tuning epoches on new clients: {}\".format(args.fine_tuning_epoch))\n",
    "\n",
    "print(\"KAI'S ADDITIONS\")\n",
    "if args.pca_channels!=64:\n",
    "    print(\"Number of PCA Components Used: {}\".format(args.pca_channels))\n",
    "print(\"Lambda penalty terms (F, D, E): {}\".format(args.lambdas))\n",
    "print(\"Starting update: {}\".format(args.starting_update))\n",
    "print(\"Testing split: {}\".format(args.test_split))\n",
    "if args.dt!=1/60:\n",
    "    print(\"dt: {}\".format(args.dt))\n",
    "print(\"Normalize EMG input: {}\".format(args.normalize_emg))\n",
    "print(\"Normalize V term: {}\".format(args.normalize_V))\n",
    "print(\"Local round threshold: {}\".format(args.local_round_threshold))\n",
    "print(\"In Debug Mode: {}\".format(args.debug_mode))\n",
    "\n",
    "print(\"=\" * 50)"
   ]
  },
  {
   "cell_type": "code",
   "execution_count": 10,
   "id": "fa80d745",
   "metadata": {},
   "outputs": [],
   "source": [
    "dataset = 'cphs'"
   ]
  },
  {
   "cell_type": "code",
   "execution_count": 11,
   "id": "680a324e",
   "metadata": {},
   "outputs": [],
   "source": [
    "# All the selfs aren't defined since this is outside the class\n",
    "\n",
    "def _train(self):\n",
    "    trainloader = self.load_train_data()\n",
    "    self.model.train()\n",
    "\n",
    "    start_time = time.time()\n",
    "\n",
    "    max_local_steps = self.local_epochs\n",
    "\n",
    "    for step in range(max_local_steps):\n",
    "        for i, (x, y) in enumerate(trainloader):\n",
    "            print(f\"Step {step}, pair {i} in traindl\")\n",
    "            print(f\"x.size(): {x.size()}\")\n",
    "            if type(x) == type([]):\n",
    "                x[0] = x[0].to(self.device)\n",
    "            else:\n",
    "                x = x.to(self.device)\n",
    "            y = y.to(self.device)\n",
    "            output = self.model(x)\n",
    "            loss = self.loss(output, y, self.model)\n",
    "            self.optimizer.zero_grad()\n",
    "            loss.backward()\n",
    "            self.optimizer.step()"
   ]
  },
  {
   "cell_type": "code",
   "execution_count": 12,
   "id": "b79ddf89",
   "metadata": {},
   "outputs": [
    {
     "name": "stdout",
     "output_type": "stream",
     "text": [
      "Client0, train=True: read_data() called!\n",
      "Client0, train=False: read_data() called!\n"
     ]
    },
    {
     "ename": "AttributeError",
     "evalue": "'str' object has no attribute 'children'",
     "output_type": "error",
     "traceback": [
      "\u001b[1;31m---------------------------------------------------------------------------\u001b[0m",
      "\u001b[1;31mAttributeError\u001b[0m                            Traceback (most recent call last)",
      "Cell \u001b[1;32mIn[12], line 5\u001b[0m\n\u001b[0;32m      3\u001b[0m train_data \u001b[38;5;241m=\u001b[39m read_client_data(dataset, i, is_train\u001b[38;5;241m=\u001b[39m\u001b[38;5;28;01mTrue\u001b[39;00m)\n\u001b[0;32m      4\u001b[0m test_data \u001b[38;5;241m=\u001b[39m read_client_data(dataset, i, is_train\u001b[38;5;241m=\u001b[39m\u001b[38;5;28;01mFalse\u001b[39;00m)\n\u001b[1;32m----> 5\u001b[0m client \u001b[38;5;241m=\u001b[39m \u001b[43mclientAVG\u001b[49m\u001b[43m(\u001b[49m\u001b[43margs\u001b[49m\u001b[43m,\u001b[49m\u001b[43m \u001b[49m\n\u001b[0;32m      6\u001b[0m \u001b[43m                \u001b[49m\u001b[43mID\u001b[49m\u001b[38;5;241;43m=\u001b[39;49m\u001b[43mi\u001b[49m\u001b[43m,\u001b[49m\u001b[43m \u001b[49m\n\u001b[0;32m      7\u001b[0m \u001b[43m                \u001b[49m\u001b[43mtrain_samples\u001b[49m\u001b[38;5;241;43m=\u001b[39;49m\u001b[38;5;28;43mlen\u001b[39;49m\u001b[43m(\u001b[49m\u001b[43mtrain_data\u001b[49m\u001b[43m)\u001b[49m\u001b[43m,\u001b[49m\u001b[43m \u001b[49m\n\u001b[0;32m      8\u001b[0m \u001b[43m                \u001b[49m\u001b[43mtest_samples\u001b[49m\u001b[38;5;241;43m=\u001b[39;49m\u001b[38;5;28;43mlen\u001b[39;49m\u001b[43m(\u001b[49m\u001b[43mtest_data\u001b[49m\u001b[43m)\u001b[49m\u001b[43m,\u001b[49m\u001b[43m \u001b[49m\n\u001b[0;32m      9\u001b[0m \u001b[43m                \u001b[49m\u001b[43mtrain_slow\u001b[49m\u001b[38;5;241;43m=\u001b[39;49m\u001b[38;5;28;43;01mFalse\u001b[39;49;00m\u001b[43m,\u001b[49m\u001b[43m \u001b[49m\n\u001b[0;32m     10\u001b[0m \u001b[43m                \u001b[49m\u001b[43msend_slow\u001b[49m\u001b[38;5;241;43m=\u001b[39;49m\u001b[38;5;28;43;01mFalse\u001b[39;49;00m\u001b[43m)\u001b[49m\n\u001b[0;32m     11\u001b[0m my_clients\u001b[38;5;241m.\u001b[39mappend(client)\n",
      "File \u001b[1;32m~\\Desktop\\Research\\personalization-privacy-risk\\Personalized_Federated_Learning\\flcore\\clients\\clientavg.py:13\u001b[0m, in \u001b[0;36mclientAVG.__init__\u001b[1;34m(self, args, ID, train_samples, test_samples, **kwargs)\u001b[0m\n\u001b[0;32m     12\u001b[0m \u001b[38;5;28;01mdef\u001b[39;00m \u001b[38;5;21m__init__\u001b[39m(\u001b[38;5;28mself\u001b[39m, args, ID, train_samples, test_samples, \u001b[38;5;241m*\u001b[39m\u001b[38;5;241m*\u001b[39mkwargs):\n\u001b[1;32m---> 13\u001b[0m     \u001b[38;5;28msuper\u001b[39m()\u001b[38;5;241m.\u001b[39m\u001b[38;5;21m__init__\u001b[39m(args, ID, train_samples, test_samples, \u001b[38;5;241m*\u001b[39m\u001b[38;5;241m*\u001b[39mkwargs)\n",
      "File \u001b[1;32m~\\Desktop\\Research\\personalization-privacy-risk\\Personalized_Federated_Learning\\flcore\\clients\\clientbase.py:45\u001b[0m, in \u001b[0;36mClient.__init__\u001b[1;34m(self, args, ID, train_samples, test_samples, **kwargs)\u001b[0m\n\u001b[0;32m     43\u001b[0m \u001b[38;5;28mself\u001b[39m\u001b[38;5;241m.\u001b[39mhas_BatchNorm \u001b[38;5;241m=\u001b[39m \u001b[38;5;28;01mFalse\u001b[39;00m\n\u001b[0;32m     44\u001b[0m \u001b[38;5;66;03m# KAI: Idk what this is doing...\u001b[39;00m\n\u001b[1;32m---> 45\u001b[0m \u001b[38;5;28;01mfor\u001b[39;00m layer \u001b[38;5;129;01min\u001b[39;00m \u001b[38;5;28;43mself\u001b[39;49m\u001b[38;5;241;43m.\u001b[39;49m\u001b[43mmodel\u001b[49m\u001b[38;5;241;43m.\u001b[39;49m\u001b[43mchildren\u001b[49m():\n\u001b[0;32m     46\u001b[0m     \u001b[38;5;28;01mif\u001b[39;00m \u001b[38;5;28misinstance\u001b[39m(layer, nn\u001b[38;5;241m.\u001b[39mBatchNorm2d):\n\u001b[0;32m     47\u001b[0m         \u001b[38;5;28mself\u001b[39m\u001b[38;5;241m.\u001b[39mhas_BatchNorm \u001b[38;5;241m=\u001b[39m \u001b[38;5;28;01mTrue\u001b[39;00m\n",
      "\u001b[1;31mAttributeError\u001b[0m: 'str' object has no attribute 'children'"
     ]
    }
   ],
   "source": [
    "my_clients = []\n",
    "for i in range(14):\n",
    "    train_data = read_client_data(dataset, i, is_train=True)\n",
    "    test_data = read_client_data(dataset, i, is_train=False)\n",
    "    client = clientAVG(args, \n",
    "                    ID=i, \n",
    "                    train_samples=len(train_data), \n",
    "                    test_samples=len(test_data), \n",
    "                    train_slow=False, \n",
    "                    send_slow=False)\n",
    "    my_clients.append(client)"
   ]
  },
  {
   "cell_type": "code",
   "execution_count": null,
   "id": "86c58512",
   "metadata": {},
   "outputs": [],
   "source": [
    "my_clients.train()"
   ]
  },
  {
   "cell_type": "code",
   "execution_count": null,
   "id": "55f6ec80",
   "metadata": {},
   "outputs": [],
   "source": []
  }
 ],
 "metadata": {
  "kernelspec": {
   "display_name": "Python 3 (ipykernel)",
   "language": "python",
   "name": "python3"
  },
  "language_info": {
   "codemirror_mode": {
    "name": "ipython",
    "version": 3
   },
   "file_extension": ".py",
   "mimetype": "text/x-python",
   "name": "python",
   "nbconvert_exporter": "python",
   "pygments_lexer": "ipython3",
   "version": "3.10.10"
  }
 },
 "nbformat": 4,
 "nbformat_minor": 5
}
