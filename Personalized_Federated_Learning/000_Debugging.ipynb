{
 "cells": [
  {
   "cell_type": "markdown",
   "id": "4f491f4a",
   "metadata": {},
   "source": [
    "Evaluate global model\n",
    "Traceback (most recent call last):\n",
    "  File \"C:\\Users\\kdmen\\Desktop\\Research\\personalization-privacy-risk\\Personalized_Federated_Learning\\main.py\", line 271, in \\<module>\n",
    "    run(args)\n",
    "  File \"C:\\Users\\kdmen\\Desktop\\Research\\personalization-privacy-risk\\Personalized_Federated_Learning\\main.py\", line 102, in run\n",
    "    server.train()\n",
    "  File \"C:\\Users\\kdmen\\Desktop\\Research\\personalization-privacy-risk\\Personalized_Federated_Learning\\flcore\\servers\\serveravg.py\", line 33, in train\n",
    "    self.evaluate()\n",
    "  File \"C:\\Users\\kdmen\\Desktop\\Research\\personalization-privacy-risk\\Personalized_Federated_Learning\\flcore\\servers\\serverbase.py\", line 261, in evaluate\n",
    "    stats = self.test_metrics()\n",
    "  File \"C:\\Users\\kdmen\\Desktop\\Research\\personalization-privacy-risk\\Personalized_Federated_Learning\\flcore\\servers\\serverbase.py\", line 231, in test_metrics\n",
    "    ct, ns, auc = c.test_metrics()\n",
    "  File \"C:\\Users\\kdmen\\Desktop\\Research\\personalization-privacy-risk\\Personalized_Federated_Learning\\flcore\\clients\\clientbase.py\", line 173, in test_metrics\n",
    "    test_acc += (torch.sum(torch.argmax(output, dim=1) == y)).item()\n",
    "RuntimeError: The size of tensor a (1200) must match the size of tensor b (2) at non-singleton dimension 1"
   ]
  },
  {
   "cell_type": "code",
   "execution_count": null,
   "id": "a1e7aded",
   "metadata": {},
   "outputs": [],
   "source": [
    "def test_metrics(self):\n",
    "    testloaderfull = self.load_test_data()\n",
    "    simulate_data_streaming(testloaderfull)\n",
    "    # self.model = self.load_model('model')\n",
    "    # self.model.to(self.device)\n",
    "    self.model.eval()\n",
    "\n",
    "    test_acc = 0\n",
    "    test_num = self.F.size()[1]\n",
    "    #y_prob = []\n",
    "    #y_true = []\n",
    "\n",
    "    with torch.no_grad():\n",
    "        test_acc = CPHSLoss(self.F, self.model.weight, self.V, test_num, lambdaF=self.lambdaF, lambdaD=self.lambdaD, lambdaE=self.lambdaE, Nd=2, Ne=self.pca_channels, return_cost_func_comps=False)\n",
    "        \n",
    "    # self.model.cpu()\n",
    "    # self.save_model(self.model, 'model')\n",
    "\n",
    "    #y_prob = np.concatenate(y_prob, axis=0)\n",
    "    #y_true = np.concatenate(y_true, axis=0)\n",
    "    # AUC not defined for regression, only for classification\n",
    "    #auc = metrics.roc_auc_score(y_true, y_prob, average='micro')\n",
    "    \n",
    "    return test_acc, test_num"
   ]
  },
  {
   "cell_type": "code",
   "execution_count": null,
   "id": "b76eefa7",
   "metadata": {},
   "outputs": [],
   "source": []
  },
  {
   "cell_type": "code",
   "execution_count": null,
   "id": "c52feb0a",
   "metadata": {},
   "outputs": [],
   "source": []
  }
 ],
 "metadata": {
  "kernelspec": {
   "display_name": "Python 3 (ipykernel)",
   "language": "python",
   "name": "python3"
  },
  "language_info": {
   "codemirror_mode": {
    "name": "ipython",
    "version": 3
   },
   "file_extension": ".py",
   "mimetype": "text/x-python",
   "name": "python",
   "nbconvert_exporter": "python",
   "pygments_lexer": "ipython3",
   "version": "3.10.10"
  }
 },
 "nbformat": 4,
 "nbformat_minor": 5
}
