{
 "cells": [
  {
   "cell_type": "code",
   "execution_count": 2,
   "id": "c5add6f8",
   "metadata": {},
   "outputs": [],
   "source": [
    "import torch"
   ]
  },
  {
   "cell_type": "code",
   "execution_count": 5,
   "id": "28c53be8",
   "metadata": {},
   "outputs": [
    {
     "data": {
      "text/plain": [
       "tensor([[0., 1., 2., 3., 4., 5., 6., 7., 8., 9.],\n",
       "        [0., 1., 2., 3., 4., 5., 6., 7., 8., 9.],\n",
       "        [0., 1., 2., 3., 4., 5., 6., 7., 8., 9.]])"
      ]
     },
     "execution_count": 5,
     "metadata": {},
     "output_type": "execute_result"
    }
   ],
   "source": [
    "tt = torch.zeros(1200,64)\n",
    "for i in range(64):\n",
    "    tt[:, i] = i\n",
    "tt[:3,:10]"
   ]
  },
  {
   "cell_type": "code",
   "execution_count": 11,
   "id": "69c2851d",
   "metadata": {},
   "outputs": [
    {
     "name": "stdout",
     "output_type": "stream",
     "text": [
      "torch.Size([1200, 64])\n",
      "tensor([[ 0.,  1.,  3.,  6., 10., 15., 21., 28., 36., 45.],\n",
      "        [ 0.,  1.,  3.,  6., 10., 15., 21., 28., 36., 45.],\n",
      "        [ 0.,  1.,  3.,  6., 10., 15., 21., 28., 36., 45.]])\n"
     ]
    }
   ],
   "source": [
    "ttdim1 = torch.cumsum(tt, dim=1)\n",
    "print(ttdim1.size())\n",
    "print(ttdim1[:3,:10])"
   ]
  },
  {
   "cell_type": "code",
   "execution_count": 12,
   "id": "e841ae11",
   "metadata": {},
   "outputs": [
    {
     "name": "stdout",
     "output_type": "stream",
     "text": [
      "torch.Size([1200, 64])\n",
      "tensor([[ 0.,  1.,  2.,  3.,  4.,  5.,  6.,  7.,  8.,  9.],\n",
      "        [ 0.,  2.,  4.,  6.,  8., 10., 12., 14., 16., 18.],\n",
      "        [ 0.,  3.,  6.,  9., 12., 15., 18., 21., 24., 27.]])\n"
     ]
    }
   ],
   "source": [
    "ttdim0 = torch.cumsum(tt, dim=0)\n",
    "print(ttdim0.size())\n",
    "print(ttdim0[:3,:10])"
   ]
  },
  {
   "cell_type": "code",
   "execution_count": null,
   "id": "2ef2e82c",
   "metadata": {},
   "outputs": [],
   "source": []
  },
  {
   "cell_type": "code",
   "execution_count": 13,
   "id": "b76eefa7",
   "metadata": {},
   "outputs": [],
   "source": [
    "import numpy as np"
   ]
  },
  {
   "cell_type": "code",
   "execution_count": 14,
   "id": "c52feb0a",
   "metadata": {},
   "outputs": [
    {
     "data": {
      "text/plain": [
       "array([[0., 1., 2., 3., 4., 5., 6., 7., 8., 9.],\n",
       "       [0., 1., 2., 3., 4., 5., 6., 7., 8., 9.],\n",
       "       [0., 1., 2., 3., 4., 5., 6., 7., 8., 9.]], dtype=float32)"
      ]
     },
     "execution_count": 14,
     "metadata": {},
     "output_type": "execute_result"
    }
   ],
   "source": [
    "tnp = tt.numpy()\n",
    "tnp[:3,:10]"
   ]
  },
  {
   "cell_type": "code",
   "execution_count": 21,
   "id": "748e28e7",
   "metadata": {},
   "outputs": [
    {
     "name": "stdout",
     "output_type": "stream",
     "text": [
      "(1200, 64)\n",
      "[[ 0.  1.  2.  3.  4.  5.  6.  7.  8.  9.]\n",
      " [ 0.  2.  4.  6.  8. 10. 12. 14. 16. 18.]\n",
      " [ 0.  3.  6.  9. 12. 15. 18. 21. 24. 27.]]\n"
     ]
    }
   ],
   "source": [
    "tnpax0 = np.cumsum(tnp, axis=0)\n",
    "print(tnpax0.shape)\n",
    "print(tnpax0[:3,:10])"
   ]
  },
  {
   "cell_type": "code",
   "execution_count": 22,
   "id": "59466b7a",
   "metadata": {},
   "outputs": [
    {
     "name": "stdout",
     "output_type": "stream",
     "text": [
      "(1200, 64)\n",
      "[[ 0.  1.  2.  3.  4.  5.  6.  7.  8.  9.]\n",
      " [ 0.  2.  4.  6.  8. 10. 12. 14. 16. 18.]\n",
      " [ 0.  3.  6.  9. 12. 15. 18. 21. 24. 27.]]\n"
     ]
    }
   ],
   "source": [
    "tnpax1 = np.cumsum(tnp, axis=0)\n",
    "print(tnpax1.shape)\n",
    "print(tnpax1[:3,:10])"
   ]
  },
  {
   "cell_type": "code",
   "execution_count": null,
   "id": "680a324e",
   "metadata": {},
   "outputs": [],
   "source": []
  },
  {
   "cell_type": "code",
   "execution_count": null,
   "id": "8059858b",
   "metadata": {},
   "outputs": [],
   "source": []
  },
  {
   "cell_type": "code",
   "execution_count": null,
   "id": "b79ddf89",
   "metadata": {},
   "outputs": [],
   "source": []
  }
 ],
 "metadata": {
  "kernelspec": {
   "display_name": "Python 3 (ipykernel)",
   "language": "python",
   "name": "python3"
  },
  "language_info": {
   "codemirror_mode": {
    "name": "ipython",
    "version": 3
   },
   "file_extension": ".py",
   "mimetype": "text/x-python",
   "name": "python",
   "nbconvert_exporter": "python",
   "pygments_lexer": "ipython3",
   "version": "3.10.10"
  }
 },
 "nbformat": 4,
 "nbformat_minor": 5
}
