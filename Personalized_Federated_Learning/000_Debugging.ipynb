{
 "cells": [
  {
   "cell_type": "code",
   "execution_count": 1,
   "id": "c5add6f8",
   "metadata": {},
   "outputs": [],
   "source": [
    "import torch\n",
    "from flcore.pflniid_utils.data_utils import read_client_data\n",
    "from flcore.clients.clientavg import clientAVG"
   ]
  },
  {
   "cell_type": "code",
   "execution_count": 2,
   "id": "1413334f",
   "metadata": {},
   "outputs": [],
   "source": [
    "import copy\n",
    "import argparse\n",
    "import os\n",
    "import time\n",
    "import warnings\n",
    "import numpy as np\n",
    "import logging\n",
    "from flcore.servers.serveravg import FedAvg\n",
    "from flcore.servers.serverlocal import Local"
   ]
  },
  {
   "cell_type": "code",
   "execution_count": 3,
   "id": "fccfa2cc",
   "metadata": {},
   "outputs": [],
   "source": [
    "parser = argparse.ArgumentParser()"
   ]
  },
  {
   "cell_type": "code",
   "execution_count": 4,
   "id": "6403217f",
   "metadata": {},
   "outputs": [
    {
     "data": {
      "text/plain": [
       "_StoreAction(option_strings=['-nnc', '--num_new_clients'], dest='num_new_clients', nargs=None, const=None, default=0, type=<class 'int'>, choices=None, required=False, help=None, metavar=None)"
      ]
     },
     "execution_count": 4,
     "metadata": {},
     "output_type": "execute_result"
    }
   ],
   "source": [
    "# general\n",
    "parser.add_argument('-go', \"--goal\", type=str, default=\"test\", \n",
    "                    help=\"The goal for this experiment\")\n",
    "parser.add_argument('-dev', \"--device\", type=str, default=\"cpu\",  # KAI: Changed the default to cpu\n",
    "                    choices=[\"cpu\", \"cuda\"])\n",
    "parser.add_argument('-did', \"--device_id\", type=str, default=\"0\")\n",
    "parser.add_argument('-data', \"--dataset\", type=str, default=\"cphs\")  # KAI: Changed the default to cphs (from mnist)\n",
    "#parser.add_argument('-nb', \"--num_classes\", type=int, default=10)  # Not doing classification...\n",
    "parser.add_argument('-m', \"--model\", type=str, default=\"LinearRegression\")  # KAI: Changed the default to Linear Regression\n",
    "parser.add_argument('-lbs', \"--batch_size\", type=int, default=1200)  # Setting it to a full update would be 1300ish... how many batches does it run? In one epoch? Not even sure where that is set\n",
    "# The 1300 and the batch size are 2 separate things...\n",
    "# I want to restrict the given dataset to just the 1300, but then iterate in batches... or do I since we don't have that much data and can probably just use all the data at once? Make batch size match the update size? ...\n",
    "parser.add_argument('-lr', \"--local_learning_rate\", type=float, default=0.005,\n",
    "                    help=\"Local learning rate\")\n",
    "parser.add_argument('-ld', \"--learning_rate_decay\", type=bool, default=False)\n",
    "parser.add_argument('-ldg', \"--learning_rate_decay_gamma\", type=float, default=0.99)\n",
    "parser.add_argument('-gr', \"--global_rounds\", type=int, default=250)  # KAI: Switched to 250 down from 2000\n",
    "parser.add_argument('-ls', \"--local_epochs\", type=int, default=1, \n",
    "                    help=\"Multiple update steps in one local epoch.\")  # KAI: I think it was 1 originally.  I'm gonna keep it there.  Does this mean I can set batchsize to 1300 and cook?Is my setup capable or running multiple epochs? Implicitly I was doing 1 epoch before, using the full update data I believe...\n",
    "parser.add_argument('-algo', \"--algorithm\", type=str, default=\"FedAvg\")\n",
    "parser.add_argument('-jr', \"--join_ratio\", type=float, default=0.2,\n",
    "                    help=\"Ratio of clients per round\")\n",
    "parser.add_argument('-rjr', \"--random_join_ratio\", type=bool, default=False,\n",
    "                    help=\"Random ratio of clients per round\")\n",
    "parser.add_argument('-nc', \"--num_clients\", type=int, default=14,\n",
    "                    help=\"Total number of clients\")\n",
    "parser.add_argument('-dp', \"--privacy\", type=bool, default=False,\n",
    "                    help=\"differential privacy\")\n",
    "parser.add_argument('-dps', \"--dp_sigma\", type=float, default=0.0)\n",
    "parser.add_argument('-sfn', \"--save_folder_name\", type=str, default='items')\n",
    "\n",
    "# SECTION: practical\n",
    "parser.add_argument('-cdr', \"--client_drop_rate\", type=float, default=0.0,\n",
    "                    help=\"Rate for clients that train but drop out\")\n",
    "parser.add_argument('-tsr', \"--train_slow_rate\", type=float, default=0.0,\n",
    "                    help=\"The rate for slow clients when training locally\")\n",
    "parser.add_argument('-ssr', \"--send_slow_rate\", type=float, default=0.0,\n",
    "                    help=\"The rate for slow clients when sending global model\")\n",
    "parser.add_argument('-ts', \"--time_select\", type=bool, default=False,\n",
    "                    help=\"Whether to group and select clients at each round according to time cost\")\n",
    "parser.add_argument('-tth', \"--time_threthold\", type=float, default=10000,\n",
    "                    help=\"The threthold for droping slow clients\")\n",
    "\n",
    "# SECTION: Kai's additional args\n",
    "parser.add_argument('-pca_channels', \"--pca_channels\", type=int, default=64,\n",
    "                    help=\"Number of principal components. 64 means do not use any PCA\")\n",
    "parser.add_argument('-lambdas', \"--lambdas\", type=list, default=[0, 1e-3, 1e-4],\n",
    "                    help=\"Lamda F, D, E penalty terms \")\n",
    "parser.add_argument('-starting_update', \"--starting_update\", type=int, default=0,\n",
    "                    help=\"Which update to start on (for CPHS Simulation). Use 0 or 10.\")\n",
    "parser.add_argument('-test_split', \"--test_split\", type=float, default=0.2,\n",
    "                    help=\"Percent of data to use for testing\")\n",
    "parser.add_argument('-device_channels', \"--device_channels\", type=int, default=64,\n",
    "                    help=\"Number of recording channels with the used EMG device\")\n",
    "parser.add_argument('-dt', \"--dt\", type=float, default=1/60,\n",
    "                    help=\"Delta time, amount of time (sec?) between measurements\")\n",
    "parser.add_argument('-normalize_emg', \"--normalize_emg\", type=bool, default=False,\n",
    "                    help=\"Normalize the input EMG signals\")\n",
    "parser.add_argument('-normalize_V', \"--normalize_V\", type=bool, default=False,\n",
    "                    help=\"Normalize the V term in the cost function\")\n",
    "parser.add_argument('-local_round_threshold', \"--local_round_threshold\", type=int, default=50,\n",
    "                    help=\"Number of communication rounds per client until a client will advance to the next batch of streamed data\")\n",
    "parser.add_argument('-debug_mode', \"--debug_mode\", type=bool, default=False,\n",
    "                    help=\"In debug mode, the code is run to minimize overhead time in order to debug as fast as possible.  Namely, the data is held at the server to decrease init time, and communication delays are ignored.\")\n",
    "parser.add_argument('-condition_number', \"--condition_number\", type=int, default=1,\n",
    "                    help=\"Which condition number (trial) to train on\")\n",
    "\n",
    "\n",
    "\n",
    "parser.add_argument('-t', \"--times\", type=int, default=1,\n",
    "                    help=\"Running times\")\n",
    "parser.add_argument('-ab', \"--auto_break\", type=bool, default=False)\n",
    "parser.add_argument('-dlg', \"--dlg_eval\", type=bool, default=False)\n",
    "parser.add_argument('-dlgg', \"--dlg_gap\", type=int, default=100)\n",
    "parser.add_argument('-bnpc', \"--batch_num_per_client\", type=int, default=2)  # Only used with DLG\n",
    "parser.add_argument('-eg', \"--eval_gap\", type=int, default=1,\n",
    "                    help=\"Rounds gap for evaluation\")\n",
    "parser.add_argument('-nnc', \"--num_new_clients\", type=int, default=0)\n",
    "\n",
    "\n",
    "# This one for sure breaks it\n",
    "#parser.add_argument('-fte', \"--fine_tuning_epoch\", type=int, default=0)"
   ]
  },
  {
   "cell_type": "code",
   "execution_count": 7,
   "id": "0c8d6f64",
   "metadata": {},
   "outputs": [],
   "source": [
    "#args = parser.parse_args()\n",
    "args = parser.parse_known_args()"
   ]
  },
  {
   "cell_type": "code",
   "execution_count": 8,
   "id": "3a187189",
   "metadata": {},
   "outputs": [
    {
     "data": {
      "text/plain": [
       "(Namespace(goal='test', device='cpu', device_id='0', dataset='cphs', model='LinearRegression', batch_size=1200, local_learning_rate=0.005, learning_rate_decay=False, learning_rate_decay_gamma=0.99, global_rounds=250, local_epochs=1, algorithm='FedAvg', join_ratio=0.2, random_join_ratio=False, num_clients=14, privacy=False, dp_sigma=0.0, save_folder_name='items', client_drop_rate=0.0, train_slow_rate=0.0, send_slow_rate=0.0, time_select=False, time_threthold=10000, pca_channels=64, lambdas=[0, 0.001, 0.0001], starting_update=0, test_split=0.2, device_channels=64, dt=0.016666666666666666, normalize_emg=False, normalize_V=False, local_round_threshold=50, debug_mode=False, condition_number=1, times=1, auto_break=False, dlg_eval=False, dlg_gap=100, batch_num_per_client=2, eval_gap=1, num_new_clients=0),\n",
       " ['-f',\n",
       "  'C:\\\\Users\\\\kdmen\\\\AppData\\\\Roaming\\\\jupyter\\\\runtime\\\\kernel-91f155c2-6045-4889-bdcf-cf25e0647c4e.json'])"
      ]
     },
     "execution_count": 8,
     "metadata": {},
     "output_type": "execute_result"
    }
   ],
   "source": [
    "args"
   ]
  },
  {
   "cell_type": "code",
   "execution_count": 9,
   "id": "6139a2bf",
   "metadata": {},
   "outputs": [
    {
     "data": {
      "text/plain": [
       "Namespace(goal='test', device='cpu', device_id='0', dataset='cphs', model='LinearRegression', batch_size=1200, local_learning_rate=0.005, learning_rate_decay=False, learning_rate_decay_gamma=0.99, global_rounds=250, local_epochs=1, algorithm='FedAvg', join_ratio=0.2, random_join_ratio=False, num_clients=14, privacy=False, dp_sigma=0.0, save_folder_name='items', client_drop_rate=0.0, train_slow_rate=0.0, send_slow_rate=0.0, time_select=False, time_threthold=10000, pca_channels=64, lambdas=[0, 0.001, 0.0001], starting_update=0, test_split=0.2, device_channels=64, dt=0.016666666666666666, normalize_emg=False, normalize_V=False, local_round_threshold=50, debug_mode=False, condition_number=1, times=1, auto_break=False, dlg_eval=False, dlg_gap=100, batch_num_per_client=2, eval_gap=1, num_new_clients=0, fine_tuning_epoch=0)"
      ]
     },
     "execution_count": 9,
     "metadata": {},
     "output_type": "execute_result"
    }
   ],
   "source": [
    "args = args[0]\n",
    "args.fine_tuning_epoch=0\n",
    "args"
   ]
  },
  {
   "cell_type": "code",
   "execution_count": 11,
   "id": "cc8ac4ae",
   "metadata": {},
   "outputs": [],
   "source": [
    "dataset = 'cphs'"
   ]
  },
  {
   "cell_type": "markdown",
   "id": "df473841",
   "metadata": {},
   "source": [
    "Runs and crashes in the same way that the command line version does! Yay!"
   ]
  },
  {
   "cell_type": "code",
   "execution_count": null,
   "id": "8accba7b",
   "metadata": {},
   "outputs": [],
   "source": [
    "time_list = []\n",
    "#reporter = MemReporter()\n",
    "model_str = args.model\n",
    "\n",
    "# Switched args.prev to 0 since it wasn't working\n",
    "for i in range(0, args.times):\n",
    "    print(f\"\\n============= Running time: {i}th =============\")\n",
    "    print(\"Creating server and clients ...\")\n",
    "    start = time.time()\n",
    "\n",
    "    # Generate args.model\n",
    "    if model_str == \"LinearRegression\":\n",
    "        args.model = torch.nn.Linear(args.pca_channels, 2)  #input_size, output_size\n",
    "    else:\n",
    "        raise NotImplementedError\n",
    "\n",
    "    print(args.model)\n",
    "\n",
    "    # select algorithm\n",
    "    if args.algorithm == \"FedAvg\":\n",
    "        server = FedAvg(args, i)\n",
    "    elif args.algorithm == \"Local\":\n",
    "        server = Local(args, i)\n",
    "    else:\n",
    "        raise NotImplementedError\n",
    "\n",
    "    server.train()\n",
    "\n",
    "    time_list.append(time.time()-start)\n",
    "\n",
    "print(f\"\\nAverage time cost: {round(np.average(time_list), 2)}s.\")"
   ]
  },
  {
   "cell_type": "code",
   "execution_count": null,
   "id": "680a324e",
   "metadata": {},
   "outputs": [],
   "source": [
    "# All the selfs aren't defined since this is outside the class\n",
    "\n",
    "def _train(self):\n",
    "    trainloader = self.load_train_data()\n",
    "    self.model.train()\n",
    "\n",
    "    start_time = time.time()\n",
    "\n",
    "    max_local_steps = self.local_epochs\n",
    "\n",
    "    for step in range(max_local_steps):\n",
    "        for i, (x, y) in enumerate(trainloader):\n",
    "            print(f\"Step {step}, pair {i} in traindl\")\n",
    "            print(f\"x.size(): {x.size()}\")\n",
    "            if type(x) == type([]):\n",
    "                x[0] = x[0].to(self.device)\n",
    "            else:\n",
    "                x = x.to(self.device)\n",
    "            y = y.to(self.device)\n",
    "            output = self.model(x)\n",
    "            loss = self.loss(output, y, self.model)\n",
    "            self.optimizer.zero_grad()\n",
    "            loss.backward()\n",
    "            self.optimizer.step()"
   ]
  },
  {
   "cell_type": "code",
   "execution_count": null,
   "id": "b79ddf89",
   "metadata": {},
   "outputs": [],
   "source": [
    "my_clients = []\n",
    "for i in range(14):\n",
    "    train_data = read_client_data(dataset, i, is_train=True)\n",
    "    test_data = read_client_data(dataset, i, is_train=False)\n",
    "    client = clientAVG(args, \n",
    "                    ID=i, \n",
    "                    train_samples=len(train_data), \n",
    "                    test_samples=len(test_data), \n",
    "                    train_slow=False, \n",
    "                    send_slow=False)\n",
    "    my_clients.append(client)"
   ]
  },
  {
   "cell_type": "code",
   "execution_count": null,
   "id": "86c58512",
   "metadata": {},
   "outputs": [],
   "source": [
    "my_clients.train()"
   ]
  },
  {
   "cell_type": "code",
   "execution_count": null,
   "id": "55f6ec80",
   "metadata": {},
   "outputs": [],
   "source": []
  }
 ],
 "metadata": {
  "kernelspec": {
   "display_name": "Python 3 (ipykernel)",
   "language": "python",
   "name": "python3"
  },
  "language_info": {
   "codemirror_mode": {
    "name": "ipython",
    "version": 3
   },
   "file_extension": ".py",
   "mimetype": "text/x-python",
   "name": "python",
   "nbconvert_exporter": "python",
   "pygments_lexer": "ipython3",
   "version": "3.10.10"
  }
 },
 "nbformat": 4,
 "nbformat_minor": 5
}
