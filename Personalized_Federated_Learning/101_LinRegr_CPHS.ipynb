{
 "cells": [
  {
   "cell_type": "code",
   "execution_count": 1,
   "id": "f06f7715",
   "metadata": {},
   "outputs": [],
   "source": [
    "import numpy as np\n",
    "import matplotlib.pyplot as plt\n",
    "import torch"
   ]
  },
  {
   "cell_type": "markdown",
   "id": "d7c1677f",
   "metadata": {},
   "source": [
    "# Integrating CPHS Data and Code"
   ]
  },
  {
   "cell_type": "markdown",
   "id": "f6131067",
   "metadata": {},
   "source": [
    "## Load Data"
   ]
  },
  {
   "cell_type": "code",
   "execution_count": 2,
   "id": "009e722c",
   "metadata": {},
   "outputs": [],
   "source": [
    "import pickle\n",
    "\n",
    "with open(r\"C:\\Users\\kdmen\\Desktop\\Research\\personalization-privacy-risk\\Data\\continuous_full_data_block1.pickle\", 'rb') as handle:\n",
    "    #refs_block1, poss_block1, dec_vels_block1, int_vel_block1, emgs_block1, Ws_block1, Hs_block1, alphas_block1, pDs_block1, times_block1, conditions_block1 = pickle.load(handle)\n",
    "    refs_block1, _, _, _, emgs_block1, _, _, _, _, _, _ = pickle.load(handle)\n",
    "\n",
    "#with open(r\"C:\\Users\\kdmen\\Desktop\\Research\\personalization-privacy-risk\\Data\\continuous_full_data_block2.pickle\", 'rb') as handle:\n",
    "#    #refs_block2, poss_block2, dec_vels_block2, int_vel_block2, emgs_block2, Ws_block2, Hs_block2, alphas_block2, pDs_block2, times_block2, conditions_block2 = pickle.load(handle)\n",
    "#    refs_block2, _, _, _, emgs_block2, _, _, _, _, _, _ = pickle.load(handle)"
   ]
  },
  {
   "cell_type": "code",
   "execution_count": 3,
   "id": "f4f7ca7d",
   "metadata": {},
   "outputs": [],
   "source": [
    "keys = ['METACPHS_S106', 'METACPHS_S107', 'METACPHS_S108', 'METACPHS_S109', 'METACPHS_S110', 'METACPHS_S111', 'METACPHS_S112', 'METACPHS_S113', 'METACPHS_S114', 'METACPHS_S115', 'METACPHS_S116', 'METACPHS_S117', 'METACPHS_S118', 'METACPHS_S119']\n",
    "key_to_num = dict()\n",
    "num_to_key = dict()\n",
    "for idx, key in enumerate(keys):\n",
    "    key_to_num[key] = idx\n",
    "    num_to_key[idx] = key\n",
    "\n",
    "num_conds = 8\n",
    "num_channels = 64\n",
    "num_updates = 19\n",
    "cphs_starting_update = 10\n",
    "update_ix = [0,  1200,  2402,  3604,  4806,  6008,  7210,  8412,  9614, 10816, 12018, 13220, 14422, 15624, 16826, 18028, 19230, 20432, 20769]"
   ]
  },
  {
   "cell_type": "code",
   "execution_count": 4,
   "id": "84acc893",
   "metadata": {},
   "outputs": [
    {
     "name": "stdout",
     "output_type": "stream",
     "text": [
      "EMG Input shape: (8, 20770, 64)\n",
      "2D Velocity Label shape: (8, 20770, 2)\n"
     ]
    }
   ],
   "source": [
    "print(f\"EMG Input shape: {emgs_block1[keys[0]].shape}\")\n",
    "print(f\"2D Velocity Label shape: {refs_block1[keys[0]].shape}\")"
   ]
  },
  {
   "cell_type": "code",
   "execution_count": 5,
   "id": "72c8307a",
   "metadata": {},
   "outputs": [
    {
     "name": "stdout",
     "output_type": "stream",
     "text": [
      "Condition 1\n"
     ]
    }
   ],
   "source": [
    "print(\"Condition 1\")\n",
    "F1tens_full = torch.from_numpy(emgs_block1[keys[0]][0, :, :])\n",
    "PREF1tens_full = torch.from_numpy(refs_block1[keys[0]][0, :, :])"
   ]
  },
  {
   "cell_type": "code",
   "execution_count": 6,
   "id": "d8111db9",
   "metadata": {},
   "outputs": [
    {
     "name": "stdout",
     "output_type": "stream",
     "text": [
      "Shape of linear model weights: torch.Size([2, 64])\n"
     ]
    }
   ],
   "source": [
    "num_input_channels = 64  # Change once I add PCA\n",
    "input_size = num_input_channels\n",
    "# ^ IRL I'm not sure we are guaranteed to get equalength trials\n",
    "#  Thus may be better to do every time point individually? Not sure\n",
    "output_size = 2  # 2D Velocity\n",
    "\n",
    "learning_rate = 0.00001\n",
    "\n",
    "# Other option which should give same result:\n",
    "model = torch.nn.Linear(input_size, output_size)  # Single layer nn for Lin Regr\n",
    "print(f\"Shape of linear model weights: {model.weight.shape}\")\n",
    "\n",
    "criterion = torch.nn.MSELoss()\n",
    "optimizer = torch.optim.SGD(model.parameters(), lr=learning_rate)"
   ]
  },
  {
   "cell_type": "markdown",
   "id": "5dc59fd9",
   "metadata": {},
   "source": [
    "## PyTorch Linear Regression With Streamed Data"
   ]
  },
  {
   "cell_type": "code",
   "execution_count": 7,
   "id": "201f61a2",
   "metadata": {},
   "outputs": [],
   "source": [
    "# TENSOR-IFY THIS FUNCTION!!!\n",
    "def cost_l2_torch(F, D, V, learning_batch, lambdaF=1e-7, lambdaD=1e-3, lambdaE=1e-6, Nd=2, Ne=64):\n",
    "    # c_L2 = (lambdaE||DF + V+||_2)^2 + lambdaD*(||D||_2)^2 + lambdaF*(||F||_2)^2\n",
    "    \n",
    "    '''\n",
    "    F: 64 channels x time EMG signals\n",
    "    V: 2 x time target velocity\n",
    "    D: 2 (x y vel) x 64 channels decoder\n",
    "    H: 2 x 2 state transition matrix\n",
    "    alphaE is 1e-6 for all conditions\n",
    "    ''' \n",
    "    \n",
    "    # Hmm should I detach and use numpy or just stick with tensor ops?\n",
    "    # I don't want gradient to be tracked here but idk if it matters...\n",
    "\n",
    "    Nt = learning_batch\n",
    "    D = D.view(Nd, Ne)  #np.reshape(D,(Nd,Ne))\n",
    "    Vplus = V[:,1:]\n",
    "    # Performance\n",
    "    term1 = lambdaE*(torch.linalg.matrix_norm((torch.matmul(D, F) - Vplus))**2)\n",
    "    # D Norm\n",
    "    term2 = lambdaD*(torch.linalg.matrix_norm((D)**2))\n",
    "    # F Norm\n",
    "    term3 = lambdaF*(torch.linalg.matrix_norm((F)**2))\n",
    "    return (term1 + term2 + term3)"
   ]
  },
  {
   "cell_type": "code",
   "execution_count": 8,
   "id": "13e65636",
   "metadata": {},
   "outputs": [],
   "source": [
    "s_temp = torch.tensor(emgs_block1[keys[0]][0], dtype=torch.float32)\n",
    "# First, normalize the entire s matrix\n",
    "s_normed = s_temp\n",
    "#s_normed = s_temp/np.amax(s_temp)\n",
    "\n",
    "#if self.PCA_comps!=self.pca_channel_default:  \n",
    "#    pca = PCA(n_components=self.PCA_comps)\n",
    "#    s_normed = pca.fit_transform(s_normed)\n",
    "s = np.transpose(s_normed)\n",
    "#s = s_normed\n",
    "emg_streamed_batch = s[:,:-1] # F\n",
    "v_actual =  torch.matmul(model.weight, s)\n",
    "p_actual = torch.cumsum(v_actual, dim=1)/60  # Numerical integration of v_actual to get p_actual\n",
    "p_reference = torch.transpose(torch.tensor(refs_block1[keys[0]][0], dtype=torch.float32), 0, 1)\n",
    "V = (p_reference - p_actual)/60\n",
    "\n",
    "y = p_reference[:, :-1]  # To match the input"
   ]
  },
  {
   "cell_type": "code",
   "execution_count": 9,
   "id": "8f975866",
   "metadata": {},
   "outputs": [
    {
     "name": "stdout",
     "output_type": "stream",
     "text": [
      "s.size:                   torch.Size([64, 20770])\n",
      "emg_streamed_batch.size:  torch.Size([64, 20769])\n",
      "v_actual.size:            torch.Size([2, 20770])\n",
      "p_actual.size:            torch.Size([2, 20770])\n",
      "p_reference.size:         torch.Size([2, 20770])\n",
      "V.size:                   torch.Size([2, 20770])\n",
      "y.size:                   torch.Size([2, 20769])\n"
     ]
    }
   ],
   "source": [
    "print(f\"s.size:                   {s.size()}\")\n",
    "print(f\"emg_streamed_batch.size:  {emg_streamed_batch.size()}\")\n",
    "print(f\"v_actual.size:            {v_actual.size()}\")\n",
    "print(f\"p_actual.size:            {p_actual.size()}\")\n",
    "print(f\"p_reference.size:         {p_reference.size()}\")\n",
    "print(f\"V.size:                   {V.size()}\")\n",
    "print(f\"y.size:                   {y.size()}\")"
   ]
  },
  {
   "cell_type": "code",
   "execution_count": 10,
   "id": "5e17ca27",
   "metadata": {},
   "outputs": [],
   "source": [
    "# I think this is implicitly SGD?\n",
    "'''\n",
    "num_epochs = 100\n",
    "loss_log = []\n",
    "for my_epoch in range(num_epochs):\n",
    "    # forward pass and loss\n",
    "    y_pred = model(emg_streamed_batch)\n",
    "    # F, D, V, learning_batch\n",
    "    loss = cost_l2_torch(emg_streamed_batch, model.weight, V, emg_streamed_batch.shape[0])\n",
    "    # backward pass\n",
    "    loss.backward()\n",
    "    loss_log.append(loss.item())\n",
    "    # update weights\n",
    "    optimizer.step()\n",
    "    # reset gradient so it doesn't accumulate\n",
    "    optimizer.zero_grad()\n",
    "    \n",
    "    if (my_epoch+1)%10==0:\n",
    "        print(f\"Epoch: {my_epoch+1}, loss: {loss.item():.4f}\")\n",
    "'''\n",
    "\n",
    "# This is without SGD\n",
    "loss_log = []\n",
    "# reset gradient so it doesn't accumulate\n",
    "optimizer.zero_grad()\n",
    "# forward pass and loss\n",
    "y_pred = model(torch.transpose(emg_streamed_batch, 0, 1))\n",
    "# F, D, V, learning_batch\n",
    "#loss = cost_l2_torch(emg_streamed_batch, model.weight, V, emg_streamed_batch.shape[0])\n",
    "loss = criterion(y_pred, torch.transpose(y, 0, 1))\n",
    "# backward pass\n",
    "loss.backward(retain_graph=True)\n",
    "loss_log.append(loss.item())\n",
    "# update weights\n",
    "optimizer.step()\n"
   ]
  },
  {
   "cell_type": "code",
   "execution_count": 11,
   "id": "ddc83c18",
   "metadata": {},
   "outputs": [
    {
     "data": {
      "text/plain": [
       "[389.7366638183594]"
      ]
     },
     "execution_count": 11,
     "metadata": {},
     "output_type": "execute_result"
    }
   ],
   "source": [
    "loss_log"
   ]
  },
  {
   "cell_type": "code",
   "execution_count": 12,
   "id": "a8c21bcf",
   "metadata": {},
   "outputs": [],
   "source": [
    "for _ in range(20):\n",
    "    # forward pass and loss\n",
    "    y_pred = model(torch.transpose(emg_streamed_batch, 0, 1))\n",
    "    # F, D, V, learning_batch\n",
    "    loss = cost_l2_torch(emg_streamed_batch, model.weight, V, emg_streamed_batch.shape[0])\n",
    "    # backward pass\n",
    "    loss.backward(retain_graph=True)\n",
    "    loss_log.append(loss.item())\n",
    "    # update weights\n",
    "    optimizer.step()\n",
    "    # reset gradient so it doesn't accumulate\n",
    "    optimizer.zero_grad()"
   ]
  },
  {
   "cell_type": "code",
   "execution_count": 13,
   "id": "fc5e81b4",
   "metadata": {},
   "outputs": [
    {
     "data": {
      "image/png": "[encoded data removed]",
      "text/plain": [
       "<Figure size 640x480 with 1 Axes>"
      ]
     },
     "metadata": {},
     "output_type": "display_data"
    }
   ],
   "source": [
    "plt.plot(range(len(loss_log)), loss_log)\n",
    "plt.title(\"Training Loss Per Iteration\")\n",
    "plt.show()"
   ]
  },
  {
   "cell_type": "code",
   "execution_count": 15,
   "id": "a5d741c5",
   "metadata": {},
   "outputs": [
    {
     "name": "stdout",
     "output_type": "stream",
     "text": [
      "Final Loss: 3.547281265258789\n",
      "----- ----- ----- ----- -----\n",
      "Prediction:\n",
      "weight\n",
      "torch.Size([2, 64])\n",
      "tensor([[ 0.0071, -0.0782, -0.0301, -0.1003,  0.0489,  0.0886, -0.0993, -0.1256,\n",
      "          0.0548,  0.0460, -0.0231, -0.0860,  0.0059,  0.0601,  0.0322, -0.0528,\n",
      "          0.0283, -0.0355,  0.0994, -0.1262, -0.0036,  0.0144,  0.0440, -0.1220,\n",
      "          0.0742, -0.0356, -0.0914, -0.0166,  0.0517,  0.0301, -0.1092,  0.0802,\n",
      "         -0.1256, -0.0552,  0.0481,  0.1079, -0.0866,  0.1107, -0.1059,  0.0643,\n",
      "         -0.0391,  0.0065,  0.0860, -0.0419, -0.0227,  0.0707,  0.0177,  0.0236,\n",
      "          0.0257,  0.0628, -0.0245, -0.0977,  0.0489, -0.0370,  0.0780,  0.0706,\n",
      "          0.1011, -0.0394,  0.0197, -0.0712,  0.0596, -0.0798,  0.0258, -0.0994],\n",
      "        [ 0.1083, -0.0759, -0.0734, -0.0190,  0.0708, -0.0247, -0.0164, -0.1121,\n",
      "          0.0650,  0.0810, -0.1092, -0.0432,  0.0771,  0.0228, -0.0680,  0.0002,\n",
      "          0.1034,  0.0141,  0.0680,  0.0365, -0.0089,  0.0968, -0.0879,  0.0099,\n",
      "          0.0590,  0.0506, -0.0353, -0.0521,  0.0403,  0.0345,  0.0963, -0.0414,\n",
      "          0.0202,  0.0713, -0.0235, -0.0229,  0.0718,  0.0143,  0.0492, -0.1000,\n",
      "         -0.0797, -0.0841, -0.1235, -0.0178, -0.0558, -0.0997, -0.0710,  0.0096,\n",
      "         -0.0082,  0.0126, -0.0954, -0.0083, -0.0478, -0.1052,  0.1018,  0.0279,\n",
      "          0.0099, -0.0663, -0.1116,  0.1185,  0.0325,  0.0886, -0.1051,  0.0906]])\n",
      "\n",
      "bias\n",
      "torch.Size([2])\n",
      "tensor([ 0.0632, -0.0596])\n",
      "\n"
     ]
    }
   ],
   "source": [
    "print(f\"Final Loss: {loss_log[-1]}\")\n",
    "print(\"----- ----- ----- ----- -----\")\n",
    "print(\"Prediction:\")\n",
    "for name, param in model.named_parameters():\n",
    "    if param.requires_grad:\n",
    "        print(name)\n",
    "        print(param.shape)\n",
    "        print(param.data)\n",
    "        print()"
   ]
  },
  {
   "cell_type": "markdown",
   "id": "61b415b2",
   "metadata": {},
   "source": [
    "# Validation with SKLearn\n",
    "> Note that using Least Squares, we can solve for the closed-form solution (e.g. don't need to iteratively solve via gradient descent).  However, for the federated case, we can't just use the one-shot closed-form solution since averaging local solutions can perform arbitrarily poorly (...); likewise, each client does not have the full dataset (e.g. all the data in the network) and thus will not solve for the overall solution (only their local solution, which as discussed above, is a poor global solution)."
   ]
  },
  {
   "cell_type": "code",
   "execution_count": 16,
   "id": "b7a05888",
   "metadata": {},
   "outputs": [
    {
     "data": {
      "text/html": [
       "<style>#sk-container-id-1 {color: black;background-color: white;}#sk-container-id-1 pre{padding: 0;}#sk-container-id-1 div.sk-toggleable {background-color: white;}#sk-container-id-1 label.sk-toggleable__label {cursor: pointer;display: block;width: 100%;margin-bottom: 0;padding: 0.3em;box-sizing: border-box;text-align: center;}#sk-container-id-1 label.sk-toggleable__label-arrow:before {content: \"▸\";float: left;margin-right: 0.25em;color: #696969;}#sk-container-id-1 label.sk-toggleable__label-arrow:hover:before {color: black;}#sk-container-id-1 div.sk-estimator:hover label.sk-toggleable__label-arrow:before {color: black;}#sk-container-id-1 div.sk-toggleable__content {max-height: 0;max-width: 0;overflow: hidden;text-align: left;background-color: #f0f8ff;}#sk-container-id-1 div.sk-toggleable__content pre {margin: 0.2em;color: black;border-radius: 0.25em;background-color: #f0f8ff;}#sk-container-id-1 input.sk-toggleable__control:checked~div.sk-toggleable__content {max-height: 200px;max-width: 100%;overflow: auto;}#sk-container-id-1 input.sk-toggleable__control:checked~label.sk-toggleable__label-arrow:before {content: \"▾\";}#sk-container-id-1 div.sk-estimator input.sk-toggleable__control:checked~label.sk-toggleable__label {background-color: #d4ebff;}#sk-container-id-1 div.sk-label input.sk-toggleable__control:checked~label.sk-toggleable__label {background-color: #d4ebff;}#sk-container-id-1 input.sk-hidden--visually {border: 0;clip: rect(1px 1px 1px 1px);clip: rect(1px, 1px, 1px, 1px);height: 1px;margin: -1px;overflow: hidden;padding: 0;position: absolute;width: 1px;}#sk-container-id-1 div.sk-estimator {font-family: monospace;background-color: #f0f8ff;border: 1px dotted black;border-radius: 0.25em;box-sizing: border-box;margin-bottom: 0.5em;}#sk-container-id-1 div.sk-estimator:hover {background-color: #d4ebff;}#sk-container-id-1 div.sk-parallel-item::after {content: \"\";width: 100%;border-bottom: 1px solid gray;flex-grow: 1;}#sk-container-id-1 div.sk-label:hover label.sk-toggleable__label {background-color: #d4ebff;}#sk-container-id-1 div.sk-serial::before {content: \"\";position: absolute;border-left: 1px solid gray;box-sizing: border-box;top: 0;bottom: 0;left: 50%;z-index: 0;}#sk-container-id-1 div.sk-serial {display: flex;flex-direction: column;align-items: center;background-color: white;padding-right: 0.2em;padding-left: 0.2em;position: relative;}#sk-container-id-1 div.sk-item {position: relative;z-index: 1;}#sk-container-id-1 div.sk-parallel {display: flex;align-items: stretch;justify-content: center;background-color: white;position: relative;}#sk-container-id-1 div.sk-item::before, #sk-container-id-1 div.sk-parallel-item::before {content: \"\";position: absolute;border-left: 1px solid gray;box-sizing: border-box;top: 0;bottom: 0;left: 50%;z-index: -1;}#sk-container-id-1 div.sk-parallel-item {display: flex;flex-direction: column;z-index: 1;position: relative;background-color: white;}#sk-container-id-1 div.sk-parallel-item:first-child::after {align-self: flex-end;width: 50%;}#sk-container-id-1 div.sk-parallel-item:last-child::after {align-self: flex-start;width: 50%;}#sk-container-id-1 div.sk-parallel-item:only-child::after {width: 0;}#sk-container-id-1 div.sk-dashed-wrapped {border: 1px dashed gray;margin: 0 0.4em 0.5em 0.4em;box-sizing: border-box;padding-bottom: 0.4em;background-color: white;}#sk-container-id-1 div.sk-label label {font-family: monospace;font-weight: bold;display: inline-block;line-height: 1.2em;}#sk-container-id-1 div.sk-label-container {text-align: center;}#sk-container-id-1 div.sk-container {/* jupyter's `normalize.less` sets `[hidden] { display: none; }` but bootstrap.min.css set `[hidden] { display: none !important; }` so we also need the `!important` here to be able to override the default hidden behavior on the sphinx rendered scikit-learn.org. See: https://github.com/scikit-learn/scikit-learn/issues/21755 */display: inline-block !important;position: relative;}#sk-container-id-1 div.sk-text-repr-fallback {display: none;}</style><div id=\"sk-container-id-1\" class=\"sk-top-container\"><div class=\"sk-text-repr-fallback\"><pre>LinearRegression()</pre><b>In a Jupyter environment, please rerun this cell to show the HTML representation or trust the notebook. <br />On GitHub, the HTML representation is unable to render, please try loading this page with nbviewer.org.</b></div><div class=\"sk-container\" hidden><div class=\"sk-item\"><div class=\"sk-estimator sk-toggleable\"><input class=\"sk-toggleable__control sk-hidden--visually\" id=\"sk-estimator-id-1\" type=\"checkbox\" checked><label for=\"sk-estimator-id-1\" class=\"sk-toggleable__label sk-toggleable__label-arrow\">LinearRegression</label><div class=\"sk-toggleable__content\"><pre>LinearRegression()</pre></div></div></div></div></div>"
      ],
      "text/plain": [
       "LinearRegression()"
      ]
     },
     "execution_count": 16,
     "metadata": {},
     "output_type": "execute_result"
    }
   ],
   "source": [
    "import sklearn.linear_model\n",
    "linr = sklearn.linear_model.LinearRegression()\n",
    "linr.fit(torch.transpose(emg_streamed_batch,0,1), torch.transpose(y,0,1))"
   ]
  },
  {
   "cell_type": "code",
   "execution_count": 17,
   "id": "6e9b5906",
   "metadata": {},
   "outputs": [
    {
     "name": "stdout",
     "output_type": "stream",
     "text": [
      "Score Loss: 0.06864621346144306\n",
      "Criterion Loss: 333.3614807128906\n",
      "---------------------------------------------\n",
      "Prediction:\n",
      "b_pred = (2,)\n",
      "[ 0.46993703 -0.0385526 ]\n",
      "\n",
      "w_pred = (2, 64)\n",
      "[[ 2.40124483e-02 -9.36831385e-02  1.53238133e-01 -2.23963380e-01\n",
      "  -1.79743603e-01 -1.52014822e-01  2.40779668e-01  3.73023778e-01\n",
      "   6.10416055e-01 -5.79407990e-01  9.19592939e-03  1.05793029e-01\n",
      "  -2.82876372e-01  2.14374751e-01  8.16345364e-02 -5.95871434e-02\n",
      "  -3.16082209e-01 -2.66652666e-02 -4.11208197e-02 -1.66244283e-02\n",
      "  -1.83624029e-03  1.98739648e-01  5.33615574e-02  1.72303990e-01\n",
      "  -1.19486839e-01 -1.52319809e-02 -7.01479763e-02 -3.99511755e-01\n",
      "   1.07548825e-01 -4.21305507e-01  2.95056522e-01 -4.54902083e-01\n",
      "  -3.40486497e-01  2.85937697e-01  1.11674048e-01 -4.24735904e-01\n",
      "   4.20217931e-01 -3.73527288e-01 -2.73745775e-01  2.68808544e-01\n",
      "   2.14586690e-01 -4.32256341e-01 -4.97918457e-01  1.61880925e-02\n",
      "   1.24138124e-01 -3.05034369e-02  2.83400714e-01  2.15865955e-01\n",
      "   6.93321377e-02 -5.48151657e-02  1.11066133e-01 -1.46704882e-01\n",
      "   1.45181388e-01 -1.35537818e-01 -3.02067310e-01  9.08516645e-02\n",
      "  -4.61067230e-01  8.43123555e-01 -1.79695249e-01  1.57283866e+00\n",
      "  -1.33132026e-01 -2.56337613e-01  3.69142950e-01  2.06256270e-01]\n",
      " [-4.65831459e-02  4.24673781e-05  2.19382029e-02 -3.99212986e-02\n",
      "   1.88593939e-02 -9.58197266e-02 -1.18246786e-02  2.20314264e-01\n",
      "  -2.33872887e-02  1.89983979e-01  6.08197786e-03  1.47556290e-02\n",
      "  -1.18766334e-02 -8.66188705e-02  2.16203779e-02  3.31549436e-01\n",
      "  -6.36246204e-02 -6.57423679e-03  2.77661048e-02  2.75825020e-02\n",
      "  -3.72598991e-02  5.02919331e-02  3.10741365e-03  1.51383691e-02\n",
      "  -8.25146735e-02  6.36563301e-02 -9.25042480e-03 -2.61451870e-01\n",
      "   3.04324210e-01 -1.35267317e-01  1.78778227e-02  2.98067689e-01\n",
      "  -2.05520794e-01  1.92700088e-01 -1.90378398e-01 -5.03293127e-02\n",
      "   1.31945625e-01 -2.95377076e-02  1.54360920e-01 -1.31660089e-01\n",
      "  -3.23072851e-01  1.07531771e-02 -2.85676897e-01 -8.96105468e-02\n",
      "   2.33228073e-01 -1.12568021e-01  2.32372843e-02  8.15365314e-02\n",
      "   7.61221275e-02 -1.08268023e-01  7.67839998e-02 -2.77212504e-02\n",
      "   2.56254524e-02  8.14215466e-03  2.32614391e-03 -1.58011526e-01\n",
      "  -1.34008117e-02 -8.89552534e-02 -1.17295692e-02 -1.42516658e-01\n",
      "   1.24271788e-01 -1.17905639e-01  5.89600876e-02 -1.14092350e-01]]\n"
     ]
    }
   ],
   "source": [
    "x_segment = torch.transpose(emg_streamed_batch,0,1)#[0:10, :]\n",
    "y_segment = torch.transpose(y,0,1)#[0:10, :]\n",
    "\n",
    "print(f\"Score Loss: {linr.score(x_segment, y_segment)}\")\n",
    "print(f\"Criterion Loss: {criterion(torch.tensor(linr.predict(x_segment)), y_segment)}\")\n",
    "print(\"---------------------------------------------\")\n",
    "print(\"Prediction:\")\n",
    "print(f\"b_pred = {linr.intercept_.shape}\")\n",
    "print(linr.intercept_)\n",
    "print()\n",
    "print(f\"w_pred = {linr.coef_.shape}\")\n",
    "print(linr.coef_)"
   ]
  },
  {
   "cell_type": "code",
   "execution_count": null,
   "id": "f2da8afb",
   "metadata": {},
   "outputs": [],
   "source": [
    "# I don't really see the value in testing the same model at every training pair...\n"
   ]
  },
  {
   "cell_type": "code",
   "execution_count": null,
   "id": "2a22c117",
   "metadata": {},
   "outputs": [],
   "source": []
  },
  {
   "cell_type": "code",
   "execution_count": null,
   "id": "df1448f1",
   "metadata": {},
   "outputs": [],
   "source": []
  },
  {
   "cell_type": "code",
   "execution_count": null,
   "id": "54c373a8",
   "metadata": {},
   "outputs": [],
   "source": []
  }
 ],
 "metadata": {
  "kernelspec": {
   "display_name": "Python 3 (ipykernel)",
   "language": "python",
   "name": "python3"
  },
  "language_info": {
   "codemirror_mode": {
    "name": "ipython",
    "version": 3
   },
   "file_extension": ".py",
   "mimetype": "text/x-python",
   "name": "python",
   "nbconvert_exporter": "python",
   "pygments_lexer": "ipython3",
   "version": "3.10.10"
  }
 },
 "nbformat": 4,
 "nbformat_minor": 5
}
