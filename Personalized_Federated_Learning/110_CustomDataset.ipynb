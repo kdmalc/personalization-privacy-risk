{
 "cells": [
  {
   "cell_type": "code",
   "execution_count": 3,
   "id": "e1104575",
   "metadata": {},
   "outputs": [],
   "source": [
    "import torch\n",
    "import pandas as pd\n",
    "import numpy as np\n",
    "\n",
    "import pickle\n",
    "\n",
    "#from utils.emg_dataset_class import *"
   ]
  },
  {
   "cell_type": "code",
   "execution_count": 5,
   "id": "ef12d82e",
   "metadata": {},
   "outputs": [],
   "source": [
    "with open(r\"C:\\Users\\kdmen\\Desktop\\Research\\personalization-privacy-risk\\Data\\continuous_full_data_block1.pickle\", 'rb') as handle:\n",
    "    #refs_block1, poss_block1, dec_vels_block1, int_vel_block1, emgs_block1, Ws_block1, Hs_block1, alphas_block1, pDs_block1, times_block1, conditions_block1 = pickle.load(handle)\n",
    "    refs_block1, _, _, _, emgs_block1, _, _, _, _, _, _ = pickle.load(handle)"
   ]
  },
  {
   "cell_type": "code",
   "execution_count": 6,
   "id": "86e88a3a",
   "metadata": {},
   "outputs": [],
   "source": [
    "keys = ['METACPHS_S106', 'METACPHS_S107', 'METACPHS_S108', 'METACPHS_S109', 'METACPHS_S110', 'METACPHS_S111', 'METACPHS_S112', 'METACPHS_S113', 'METACPHS_S114', 'METACPHS_S115', 'METACPHS_S116', 'METACPHS_S117', 'METACPHS_S118', 'METACPHS_S119']"
   ]
  },
  {
   "cell_type": "code",
   "execution_count": null,
   "id": "b1917517",
   "metadata": {},
   "outputs": [],
   "source": [
    "# What code is this from...\n",
    "#dataset = utils.data.TensorDataset(train_x, train_y)\n",
    "#dataloader = utils.data.DataLoader(dataset)"
   ]
  },
  {
   "cell_type": "code",
   "execution_count": 20,
   "id": "ec224128",
   "metadata": {},
   "outputs": [],
   "source": [
    "print(emgs_block1[keys[0]].shape)\n",
    "print(emgs_block1[keys[0]][0,:,:].shape)\n",
    "s106_emg = emgs_block1[keys[0]][0,:,:]"
   ]
  },
  {
   "cell_type": "code",
   "execution_count": 22,
   "id": "c8223c34",
   "metadata": {},
   "outputs": [],
   "source": [
    "print(refs_block1[keys[0]].shape)\n",
    "s106_labels = refs_block1[keys[0]][0,:,:]"
   ]
  },
  {
   "cell_type": "code",
   "execution_count": 23,
   "id": "d5e25ef3",
   "metadata": {},
   "outputs": [
    {
     "data": {
      "text/plain": [
       "torch.Size([41540])"
      ]
     },
     "execution_count": 23,
     "metadata": {},
     "output_type": "execute_result"
    }
   ],
   "source": [
    "tensor_labels = torch.tensor(s106_labels.reshape(-1)).long()\n",
    "tensor_labels.size()"
   ]
  },
  {
   "cell_type": "markdown",
   "id": "c2f9832b",
   "metadata": {},
   "source": [
    "Needs to accept/track\n",
    "1. Client (subject/key)\n",
    "2. Condition number\n",
    "- Ideally do not want to reload dataset every single time I instantiate a client\n",
    "- How to extend for real-time / live streaming capabilities?"
   ]
  },
  {
   "cell_type": "code",
   "execution_count": 27,
   "id": "1f422d12",
   "metadata": {},
   "outputs": [
    {
     "name": "stdout",
     "output_type": "stream",
     "text": [
      "Input Data\n",
      "torch.Size([64])\n",
      "Label\n",
      "tensor([0, 0])\n"
     ]
    }
   ],
   "source": [
    "s106_dataset = CustomEMGDataset(s106_emg, s106_labels)\n",
    "idx0 = s106_dataset[0]\n",
    "print(\"Input Data\")\n",
    "print(idx0[0].shape)\n",
    "print(\"Label\")\n",
    "print(idx0[1])"
   ]
  },
  {
   "cell_type": "code",
   "execution_count": null,
   "id": "cc4a5075",
   "metadata": {},
   "outputs": [],
   "source": []
  }
 ],
 "metadata": {
  "kernelspec": {
   "display_name": "Python 3 (ipykernel)",
   "language": "python",
   "name": "python3"
  },
  "language_info": {
   "codemirror_mode": {
    "name": "ipython",
    "version": 3
   },
   "file_extension": ".py",
   "mimetype": "text/x-python",
   "name": "python",
   "nbconvert_exporter": "python",
   "pygments_lexer": "ipython3",
   "version": "3.10.10"
  }
 },
 "nbformat": 4,
 "nbformat_minor": 5
}
