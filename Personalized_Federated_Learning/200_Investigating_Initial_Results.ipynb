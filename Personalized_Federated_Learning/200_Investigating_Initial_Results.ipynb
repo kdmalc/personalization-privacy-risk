{
 "cells": [
  {
   "cell_type": "code",
   "execution_count": 12,
   "id": "801a6ae9",
   "metadata": {},
   "outputs": [],
   "source": [
    "import numpy as np\n",
    "import h5py\n",
    "import torch\n",
    "import os"
   ]
  },
  {
   "cell_type": "code",
   "execution_count": 9,
   "id": "f5edf7f0",
   "metadata": {},
   "outputs": [
    {
     "name": "stdout",
     "output_type": "stream",
     "text": [
      "Success1\n",
      "['rs_train_loss']\n",
      "25\n",
      "[1.47895608e+02 4.87728266e+05 5.62705744e+05 5.85808350e+05\n",
      " 1.06053322e+08 1.06817372e+08 1.40781018e+08 2.50673019e+08\n",
      " 1.74296036e+10 1.74494854e+10 3.88691931e+10 6.17720373e+11\n",
      " 6.18009871e+11 6.18010644e+11 4.26431019e+12 4.26551946e+12\n",
      " 4.26552816e+12 4.27065956e+12 2.40950891e+13 3.07321323e+15\n",
      " 3.07531117e+15 5.52562001e+15 6.15860884e+15 2.91489981e+18\n",
      " 2.92684808e+18]\n"
     ]
    }
   ],
   "source": [
    "with h5py.File('../results/cphs_Local_test_0.h5', 'r') as f:\n",
    "    print(\"Success1\")\n",
    "    print(list(f))\n",
    "    data = f['rs_train_loss']\n",
    "    print(len(data))\n",
    "    print(np.array(data))\n",
    "    "
   ]
  },
  {
   "cell_type": "code",
   "execution_count": 10,
   "id": "ffdde9fc",
   "metadata": {},
   "outputs": [
    {
     "name": "stdout",
     "output_type": "stream",
     "text": [
      "Keys: <KeysViewHDF5 ['rs_train_loss']>\n",
      "<class 'h5py._hl.dataset.Dataset'>\n"
     ]
    }
   ],
   "source": [
    "with h5py.File('../results/cphs_Local_test_0.h5', 'r') as f:\n",
    "    # Print all root level object names (aka keys) \n",
    "    # these can be group or dataset names \n",
    "    print(\"Keys: %s\" % f.keys())\n",
    "    # get first object name/key; may or may NOT be a group\n",
    "    a_group_key = list(f.keys())[0]\n",
    "\n",
    "    # get the object type for a_group_key: usually group or dataset\n",
    "    print(type(f[a_group_key])) \n",
    "\n",
    "    # If a_group_key is a group name, \n",
    "    # this gets the object names in the group and returns as a list\n",
    "    data = list(f[a_group_key])\n",
    "\n",
    "    # If a_group_key is a dataset name, \n",
    "    # this gets the dataset values and returns as a list\n",
    "    data = list(f[a_group_key])\n",
    "    # preferred methods to get dataset values:\n",
    "    ds_obj = f[a_group_key]      # returns as a h5py dataset object\n",
    "    ds_arr = f[a_group_key][()]  # returns as a numpy array"
   ]
  },
  {
   "cell_type": "code",
   "execution_count": 14,
   "id": "544c2632",
   "metadata": {},
   "outputs": [
    {
     "name": "stdout",
     "output_type": "stream",
     "text": [
      "Linear(in_features=64, out_features=2, bias=True)\n"
     ]
    }
   ],
   "source": [
    "item_path = r'C:\\Users\\kdmen\\Desktop\\Research\\personalization-privacy-risk\\Personalized_Federated_Learning\\models\\cphs'\n",
    "#torch.save(item, os.path.join(item_path, \"client_\" + str(self.id) + \"_\" + item_name + \".pt\"))\n",
    "#my_model_file = os.path.join(item_path, \"client_\" + str(self.id) + \"_\" + item_name + \".pt\")\n",
    "my_model_file = os.path.join(item_path, \"Local_server.pt\")\n",
    "\n",
    "# Load the file\n",
    "local_model = torch.load(my_model_file)\n",
    "\n",
    "# Print the head of the file\n",
    "print(local_model)"
   ]
  },
  {
   "cell_type": "code",
   "execution_count": 15,
   "id": "2693f4d0",
   "metadata": {},
   "outputs": [
    {
     "name": "stdout",
     "output_type": "stream",
     "text": [
      "Name: Param\n",
      "weight: Parameter containing:\n",
      "tensor([[-0.0009,  0.0671, -0.1029, -0.0920, -0.0481,  0.0335, -0.0025,  0.0991,\n",
      "         -0.0111,  0.0331, -0.0378, -0.0246, -0.1194, -0.0828, -0.0515,  0.0046,\n",
      "          0.0494,  0.0750, -0.0847, -0.0544,  0.0454,  0.1038, -0.0257,  0.0935,\n",
      "         -0.0201,  0.0132,  0.1132, -0.1160, -0.0787, -0.0316, -0.0487,  0.1080,\n",
      "         -0.0810, -0.0575, -0.0873, -0.1171, -0.0730,  0.1074,  0.0558,  0.0606,\n",
      "          0.0066, -0.0641,  0.0211, -0.1167, -0.0903, -0.0644,  0.0789,  0.0733,\n",
      "         -0.0554, -0.0045,  0.0799,  0.1243,  0.0496,  0.0169,  0.0838, -0.0736,\n",
      "          0.0233, -0.0969, -0.0866, -0.0646,  0.0566,  0.0503, -0.0740,  0.0378],\n",
      "        [ 0.0686, -0.0158,  0.0048,  0.0290,  0.0775,  0.1200, -0.0963, -0.0458,\n",
      "          0.0491,  0.1036,  0.1088,  0.1103,  0.0249, -0.1087,  0.0115, -0.0782,\n",
      "         -0.1165,  0.1111,  0.0950, -0.1247,  0.0234, -0.0211, -0.0206, -0.0572,\n",
      "          0.0481, -0.0740,  0.0458,  0.0632,  0.0895,  0.0467, -0.1237, -0.0811,\n",
      "          0.0624,  0.0262, -0.0975, -0.0720,  0.1176,  0.0842, -0.0545, -0.0315,\n",
      "         -0.1191, -0.0022, -0.0941, -0.0964, -0.0069,  0.0188, -0.0512,  0.0742,\n",
      "         -0.0761,  0.1134,  0.0857, -0.1054, -0.0311,  0.0056,  0.0182,  0.0296,\n",
      "          0.0491,  0.0075, -0.0610,  0.0591, -0.1199, -0.0741, -0.0313, -0.0609]],\n",
      "       requires_grad=True)\n",
      "bias: Parameter containing:\n",
      "tensor([-0.0437, -0.1025], requires_grad=True)\n"
     ]
    }
   ],
   "source": [
    "#for param in local_model.parameters():\n",
    "#    print(param)\n",
    "# or\n",
    "print(\"Name: Param\")\n",
    "for name, param in local_model.named_parameters():\n",
    "    print(f\"{name}: {param}\")"
   ]
  },
  {
   "cell_type": "code",
   "execution_count": null,
   "id": "b645d5f4",
   "metadata": {},
   "outputs": [],
   "source": []
  }
 ],
 "metadata": {
  "kernelspec": {
   "display_name": "Python 3 (ipykernel)",
   "language": "python",
   "name": "python3"
  },
  "language_info": {
   "codemirror_mode": {
    "name": "ipython",
    "version": 3
   },
   "file_extension": ".py",
   "mimetype": "text/x-python",
   "name": "python",
   "nbconvert_exporter": "python",
   "pygments_lexer": "ipython3",
   "version": "3.10.10"
  }
 },
 "nbformat": 4,
 "nbformat_minor": 5
}
