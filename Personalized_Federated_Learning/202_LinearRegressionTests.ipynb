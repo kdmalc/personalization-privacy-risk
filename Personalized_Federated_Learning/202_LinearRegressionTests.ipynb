{
 "cells": [
  {
   "cell_type": "code",
   "execution_count": 2,
   "id": "c5caefd0",
   "metadata": {},
   "outputs": [],
   "source": [
    "import copy\n",
    "import torch\n",
    "import torch.nn as nn\n",
    "import numpy as np\n",
    "import random\n",
    "import os\n",
    "#import torch.nn.functional as F\n",
    "from torch.utils.data import DataLoader\n",
    "from sklearn import metrics\n",
    "\n",
    "from sklearn.decomposition import PCA\n",
    "from utils.custom_loss_class import CPHSLoss\n",
    "from utils.custom_loss_class2 import CPHSLoss2\n",
    "import matplotlib.pyplot as plt"
   ]
  },
  {
   "cell_type": "code",
   "execution_count": 3,
   "id": "fcdf8bd8",
   "metadata": {},
   "outputs": [],
   "source": [
    "import time\n",
    "import pickle\n",
    "from math import isnan"
   ]
  },
  {
   "cell_type": "code",
   "execution_count": 4,
   "id": "9a769a72",
   "metadata": {},
   "outputs": [],
   "source": [
    "#class CPHSLoss(torch.nn.modules.loss._Loss):\n",
    "#def __init__(self, F, D, V, learning_batch, lambdaF=0, lambdaD=1e-3, lambdaE=1e-6, Nd=2, Ne=64, return_cost_func_comps=False, verbose=False, dt=1/60, normalize_V=False) -> None:\n",
    "#def forward(self, outputs, targets, my_model):\n",
    "\n",
    "#self.loss = CPHSLoss(self.F, self.model.weight, self.V, self.F.size()[1], lambdaF=self.lambdaF, lambdaD=self.lambdaD, lambdaE=self.lambdaE, Nd=2, Ne=self.pca_channels, return_cost_func_comps=self.return_cost_func_comps)\n",
    "#loss_value.backwards()"
   ]
  },
  {
   "cell_type": "markdown",
   "id": "215b5a78",
   "metadata": {},
   "source": [
    "# Load In Data And Params"
   ]
  },
  {
   "cell_type": "code",
   "execution_count": 5,
   "id": "84ee00ac",
   "metadata": {},
   "outputs": [],
   "source": [
    "with open(r\"C:\\Users\\kdmen\\Desktop\\Research\\personalization-privacy-risk\\Data\\continuous_full_data_block1.pickle\", 'rb') as handle:\n",
    "    #refs_block1, poss_block1, dec_vels_block1, int_vel_block1, emgs_block1, Ws_block1, Hs_block1, alphas_block1, pDs_block1, times_block1, conditions_block1 = pickle.load(handle)\n",
    "    refs_block1, _, _, _, emgs_block1, _, _, _, _, _, _ = pickle.load(handle)\n",
    "    \n",
    "keys = ['METACPHS_S106', 'METACPHS_S107', 'METACPHS_S108', 'METACPHS_S109', 'METACPHS_S110', 'METACPHS_S111', 'METACPHS_S112', 'METACPHS_S113', 'METACPHS_S114', 'METACPHS_S115', 'METACPHS_S116', 'METACPHS_S117', 'METACPHS_S118', 'METACPHS_S119']\n",
    "key_to_num = dict()\n",
    "num_to_key = dict()\n",
    "for idx, key in enumerate(keys):\n",
    "    key_to_num[key] = idx\n",
    "    num_to_key[idx] = key\n",
    "\n",
    "num_conds = 8\n",
    "num_channels = 64\n",
    "num_updates = 19\n",
    "cphs_starting_update = 10\n",
    "update_ix = [0,  1200,  2402,  3604,  4806,  6008,  7210,  8412,  9614, 10816, 12018, 13220, 14422, 15624, 16826, 18028, 19230, 20432, 20769]"
   ]
  },
  {
   "cell_type": "markdown",
   "id": "04e34286",
   "metadata": {},
   "source": [
    "# Testing Basic PyTorch and SKLearn Linear Regression"
   ]
  },
  {
   "cell_type": "code",
   "execution_count": 6,
   "id": "cc09ed5b",
   "metadata": {},
   "outputs": [],
   "source": [
    "# THIS IS FROM TORCH_LINREGR.PY\n",
    "\n",
    "def cost_l2_torch(F, D, V, learning_batch, lambdaF=0, lambdaD=1e-3, lambdaE=1e-6, Nd=2, Ne=64, return_cost_func_comps=False):\n",
    "    # c_L2 = (lambdaE||DF + V+||_2)^2 + lambdaD*(||D||_2)^2 + lambdaF*(||F||_2)^2\n",
    "    \n",
    "    # Don't use return_cost_func_comps since I don't think loss.item() will return a tuple, it only returns scalaras AFAIK\n",
    "    \n",
    "    '''\n",
    "    F: 64 channels x time EMG signals\n",
    "    V: 2 x time target velocity\n",
    "    D: 2 (x y vel) x 64 channels decoder\n",
    "    H: 2 x 2 state transition matrix\n",
    "    alphaE is 1e-6 for all conditions\n",
    "    ''' \n",
    "    \n",
    "    # Hmm should I detach and use numpy or just stick with tensor ops?\n",
    "    # I don't want gradient to be tracked here but idk if it matters...\n",
    "\n",
    "    Nt = learning_batch\n",
    "    D = D.view(Nd, Ne)  #np.reshape(D,(Nd,Ne))\n",
    "    Vplus = V[:,1:]\n",
    "    # Performance\n",
    "    term1 = lambdaE*(torch.linalg.matrix_norm((torch.matmul(D, F) - Vplus))**2)\n",
    "    # D Norm\n",
    "    term2 = lambdaD*(torch.linalg.matrix_norm((D)**2))\n",
    "    # F Norm\n",
    "    term3 = lambdaF*(torch.linalg.matrix_norm((F)**2))\n",
    "    return (term1 + term2 + term3)\n",
    "\n",
    "def full_train_linregr_updates(model, full_trial_input_data, full_trial_labels, learning_rate, lambdasFDE=[0, 1e-3, 1e-6], use_CPHSLoss=False, normalize_emg=False, PCA_comps=64, num_iters_per_update=30, normalize_V=False, starting_update=10, use_full_input_data=False, stream_data_updates=True, dt=1/60, loss_log=None, verbose=False, verbose_norms=False, return_cost_func_comps=False, update_ix=[0,  1200,  2402,  3604,  4806,  6008,  7210,  8412,  9614, 10816, 12018, 13220, 14422, 15624, 16826, 18028, 19230, 20432, 20769]):\n",
    "    print(f\"learning_rate {learning_rate}\")\n",
    "    print(f\"lambdasFDE {lambdasFDE}\")\n",
    "    print(f\"use_CPHSLoss {use_CPHSLoss}\")\n",
    "    print(f\"normalize_emg {normalize_emg}\")\n",
    "    print(f\"num_iters_per_update {num_iters_per_update}\")\n",
    "    print(f\"starting_update {starting_update}\")\n",
    "    print(f\"normalize_V {normalize_V}\")\n",
    "    print(f\"use_full_input_data {use_full_input_data}\")\n",
    "    print(f\"stream_data_updates {stream_data_updates}\")\n",
    "    print(f\"return_cost_func_comps {return_cost_func_comps}\")    \n",
    "    \n",
    "    ##################\n",
    "    ETerm_log = []\n",
    "    DTerm_log = []\n",
    "    ##################\n",
    "    \n",
    "    if loss_log is None:\n",
    "        loss_log = list()\n",
    "    \n",
    "    optimizer = torch.optim.SGD(model.parameters(), lr=learning_rate)\n",
    "            \n",
    "    if use_full_input_data:\n",
    "        num_updates = 1  # e.g. only complete 1 loop, using the full data\n",
    "    else:\n",
    "        #num_updates = len(update_ix[starting_update:])-1-1\n",
    "        #-1 to account for the update+1 we do for upper bound\n",
    "        #-1 again to account for us wanting to skip the last update since it is truncated\n",
    "        \n",
    "        # Take amount of input data and divide by 1200 AKA roughly the length of an update. Convert to int\n",
    "        num_updates = int(np.floor(full_trial_input_data[starting_update:, :].shape[0] / 1200))\n",
    "    if verbose:\n",
    "        print(f\"Num_updates: {num_updates}\")\n",
    "    \n",
    "    print_switch = 1\n",
    "        \n",
    "    for update in range(starting_update, num_updates):  \n",
    "        if verbose:\n",
    "            print(f\"Current Update: {update}\")\n",
    "        \n",
    "        if use_full_input_data:\n",
    "            lower_bound = 0\n",
    "            upper_bound = -1\n",
    "        elif stream_data_updates:\n",
    "            lower_bound = update_ix[update]\n",
    "            upper_bound = update_ix[update+1]\n",
    "        else:\n",
    "            raise(\"Not Implemented\")\n",
    "        if verbose:\n",
    "            print(f\"Lower bound: {lower_bound}, Upper bound: {upper_bound}\")\n",
    "\n",
    "        for i in range(num_iters_per_update):\n",
    "            if i==0:  # Then we reset our vars with the new update's data\n",
    "                s_temp = full_trial_input_data[lower_bound:upper_bound]\n",
    "                p_reference = torch.transpose(full_trial_labels[lower_bound:upper_bound], 0, 1)\n",
    "\n",
    "                # First, normalize the entire s matrix\n",
    "                if normalize_emg:\n",
    "                    s_normed = s_temp / torch.linalg.norm(s_temp, ord='fro')\n",
    "                    assert (torch.linalg.norm(s_normed, ord='fro')<1.2) and (torch.linalg.norm(s_normed, ord='fro')>0.8)\n",
    "                else:\n",
    "                    s_normed = s_temp\n",
    "                # Apply PCA if applicable\n",
    "                if PCA_comps!=64:  # 64 is the number of channels present on the recording armband  \n",
    "                    pca = PCA(n_components=PCA_comps)\n",
    "                    s = torch.transpose(torch.tensor(pca.fit_transform(s_normed), dtype=torch.float32), 0, 1)\n",
    "                else:\n",
    "                    s = torch.transpose(s_normed, 0, 1)\n",
    "                    \n",
    "                emg_streamed_batch = s[:,:-1] # F\n",
    "                v_actual =  torch.matmul(model.weight, s)\n",
    "                p_actual = torch.cumsum(v_actual, dim=1)*dt  # Numerical integration of v_actual to get p_actual\n",
    "                V = (p_reference - p_actual)*dt\n",
    "                if normalize_V:\n",
    "                    V = V/torch.linalg.norm(V, ord='fro')\n",
    "                    assert (torch.linalg.norm(V, ord='fro')<1.2) and (torch.linalg.norm(V, ord='fro')>0.8)\n",
    "\n",
    "                y = p_reference[:, :-1]  # To match the input\n",
    "                \n",
    "                if verbose_norms:\n",
    "                    print(f\"Norm of Final s: {torch.linalg.norm(s, ord='fro')}\")\n",
    "                    print(f\"Norm of emg_streamed_batch: {torch.linalg.norm(emg_streamed_batch, ord='fro')}\")\n",
    "                    print(f\"Norm of D: {torch.linalg.norm(model.weight, ord='fro')}\")\n",
    "                    print(f\"Norm of V: {torch.linalg.norm(V, ord='fro')}\")\n",
    "                    print()\n",
    "\n",
    "            # TRAIN MODEL\n",
    "            # reset gradient so it doesn't accumulate\n",
    "            optimizer.zero_grad()\n",
    "            # forward pass and loss\n",
    "            y_pred = model(torch.transpose(emg_streamed_batch, 0, 1))  # Why do I have to transpose again here... my original code didn't\n",
    "            # F, D, V, learning_batch\n",
    "            if use_CPHSLoss:\n",
    "                criterion = CPHSLoss\n",
    "                # Uhh what's the difference...\n",
    "                loss = criterion(emg_streamed_batch, model.weight, V, emg_streamed_batch.shape[1], Ne=PCA_comps, lambdaF=lambdasFDE[0], lambdaD=lambdasFDE[1], lambdaE=lambdasFDE[2])  #, return_cost_func_comps=return_cost_func_comps)\n",
    "                loss = self.loss(output, y, self.model)\n",
    "            else:\n",
    "                criterion = cost_l2_torch\n",
    "                loss = criterion(emg_streamed_batch, model.weight, V, emg_streamed_batch.shape[1], Ne=PCA_comps, lambdaF=lambdasFDE[0], lambdaD=lambdasFDE[1], lambdaE=lambdasFDE[2])  #, return_cost_func_comps=return_cost_func_comps)\n",
    "\n",
    "            if print_switch:\n",
    "                print(f\"Loss Function = {criterion}\")\n",
    "                print_switch = 0\n",
    "            \n",
    "            # CPHSLoss doesn't return anything! Not sure why it thinks loss is equal to CPHSLoss instead of None tho\n",
    "            #self.loss = CPHSLoss(self.F, self.model.weight, self.V, self.F.size()[1], lambdaF=self.lambdaF, lambdaD=self.lambdaD, lambdaE=self.lambdaE, Nd=2, Ne=self.pca_channels, return_cost_func_comps=self.return_cost_func_comps)\n",
    "            #loss_value.backwards()\n",
    "            \n",
    "            if return_cost_func_comps:\n",
    "                #D = D.view(Nd, Ne)  #np.reshape(D,(Nd,Ne))             \n",
    "                ETerm_log.append(lambdasFDE[2]*(torch.linalg.matrix_norm((torch.matmul(model.weight, emg_streamed_batch) - V[:,1:]))**2))\n",
    "                DTerm_log.append(lambdasFDE[1]*(torch.linalg.matrix_norm((model.weight)**2)))\n",
    "            # backward pass\n",
    "            loss.backward(retain_graph=True)\n",
    "            loss_log.append(loss.item())\n",
    "            # update weights\n",
    "            optimizer.step()\n",
    "            \n",
    "        if use_full_input_data:\n",
    "            if verbose:\n",
    "                print(\"Returning early!\")\n",
    "            # Eg we only go through 1 outer loop since we already looped through the full data\n",
    "            if return_cost_func_comps:\n",
    "                return model, loss_log, ETerm_log, DTerm_log\n",
    "            else:\n",
    "                return model, loss_log\n",
    "    \n",
    "    if return_cost_func_comps:\n",
    "        return model, loss_log, ETerm_log, DTerm_log\n",
    "    else:\n",
    "        return model, loss_log"
   ]
  },
  {
   "cell_type": "markdown",
   "id": "c4423058",
   "metadata": {},
   "source": [
    "## From NB106"
   ]
  },
  {
   "cell_type": "code",
   "execution_count": 7,
   "id": "c02df1b6",
   "metadata": {},
   "outputs": [],
   "source": [
    "# Functioning params from NB101-106\n",
    "lambdaF = 0\n",
    "lambdaD = 1e-10\n",
    "lambdaE = 1e-6\n",
    "lambdasFDE=[lambdaF, lambdaD, lambdaE]\n",
    "learning_rate = 0.0001\n",
    "\n",
    "dt=1/60\n",
    "\n",
    "#train/test split at update_ix[16]\n",
    "cli0_cond1_traindata = torch.from_numpy(emgs_block1[keys[0]][0, :update_ix[16], :]).type(torch.float32)\n",
    "cli0_cond1_trainlabels = torch.from_numpy(refs_block1[keys[0]][0, :update_ix[16], :]).type(torch.float32)\n",
    "cli0_cond1_testdata = torch.from_numpy(emgs_block1[keys[0]][0, update_ix[16]:, :]).type(torch.float32)\n",
    "cli0_cond1_testlabels = torch.from_numpy(refs_block1[keys[0]][0, update_ix[16]:, :]).type(torch.float32)\n",
    "\n",
    "lower_bound = update_ix[10]\n",
    "upper_bound = update_ix[11]\n",
    "#s_temp = cli0_cond1_traindata[lower_bound:upper_bound]\n",
    "#p_reference = torch.transpose(cli0_cond1_trainlabels[lower_bound:upper_bound], 0, 1)"
   ]
  },
  {
   "cell_type": "code",
   "execution_count": 8,
   "id": "7785c3d7",
   "metadata": {},
   "outputs": [
    {
     "ename": "AttributeError",
     "evalue": "'Tensor' object has no attribute 'backwards'",
     "output_type": "error",
     "traceback": [
      "\u001b[1;31m---------------------------------------------------------------------------\u001b[0m",
      "\u001b[1;31mAttributeError\u001b[0m                            Traceback (most recent call last)",
      "Cell \u001b[1;32mIn[8], line 24\u001b[0m\n\u001b[0;32m     20\u001b[0m \u001b[38;5;66;03m#loss = self.loss(output, y, self.model)\u001b[39;00m\n\u001b[0;32m     21\u001b[0m \u001b[38;5;66;03m#def forward(self, outputs, targets, my_model):\u001b[39;00m\n\u001b[0;32m     22\u001b[0m loss \u001b[38;5;241m=\u001b[39m loss_func(output, torch\u001b[38;5;241m.\u001b[39mtranspose(y, \u001b[38;5;241m0\u001b[39m, \u001b[38;5;241m1\u001b[39m), model_CPHSLoss)\n\u001b[1;32m---> 24\u001b[0m \u001b[43mloss\u001b[49m\u001b[38;5;241;43m.\u001b[39;49m\u001b[43mbackwards\u001b[49m()\n",
      "\u001b[1;31mAttributeError\u001b[0m: 'Tensor' object has no attribute 'backwards'"
     ]
    }
   ],
   "source": [
    "s_temp = cli0_cond1_traindata[lower_bound:upper_bound]\n",
    "p_reference = torch.transpose(cli0_cond1_trainlabels[lower_bound:upper_bound], 0, 1)\n",
    "model_CPHSLoss = torch.nn.Linear(64, 2)\n",
    "optimizer = torch.optim.SGD(model_CPHSLoss.parameters(), lr=learning_rate)\n",
    "\n",
    "s_normed = s_temp\n",
    "s = torch.transpose(s_normed, 0, 1)\n",
    "emg_streamed_batch = s[:,:-1] # F\n",
    "v_actual =  torch.matmul(model_CPHSLoss.weight, s)\n",
    "p_actual = torch.cumsum(v_actual, dim=1)*dt  # Numerical integration of v_actual to get p_actual\n",
    "V = (p_reference - p_actual)*dt\n",
    "y = p_reference[:, :-1]  # To match the input\n",
    "\n",
    "########################################################\n",
    "\n",
    "loss_func = CPHSLoss(emg_streamed_batch, model_CPHSLoss, V, emg_streamed_batch.size()[1], lambdaF=lambdasFDE[0], lambdaD=lambdasFDE[1], lambdaE=lambdasFDE[2], Nd=2, Ne=64, return_cost_func_comps=False)\n",
    "\n",
    "output = model_CPHSLoss(torch.transpose(emg_streamed_batch, 0, 1))\n",
    "\n",
    "#loss = self.loss(output, y, self.model)\n",
    "#def forward(self, outputs, targets, my_model):\n",
    "loss = loss_func(output, torch.transpose(y, 0, 1), model_CPHSLoss)\n",
    "      \n",
    "loss.backwards()"
   ]
  },
  {
   "cell_type": "code",
   "execution_count": 20,
   "id": "e5cfe93d",
   "metadata": {},
   "outputs": [
    {
     "ename": "AttributeError",
     "evalue": "'Tensor' object has no attribute 'backwards'",
     "output_type": "error",
     "traceback": [
      "\u001b[1;31m---------------------------------------------------------------------------\u001b[0m",
      "\u001b[1;31mAttributeError\u001b[0m                            Traceback (most recent call last)",
      "Cell \u001b[1;32mIn[20], line 25\u001b[0m\n\u001b[0;32m     22\u001b[0m loss2 \u001b[38;5;241m=\u001b[39m loss_func2(output, transposed_label) \u001b[38;5;241m+\u001b[39m lambdasFDE[\u001b[38;5;241m0\u001b[39m]\u001b[38;5;241m*\u001b[39m(torch\u001b[38;5;241m.\u001b[39mlinalg\u001b[38;5;241m.\u001b[39mnorm(transposed_input)\u001b[38;5;241m*\u001b[39m\u001b[38;5;241m*\u001b[39m\u001b[38;5;241m2\u001b[39m) \u001b[38;5;241m+\u001b[39m lambdasFDE[\u001b[38;5;241m1\u001b[39m]\u001b[38;5;241m*\u001b[39m(torch\u001b[38;5;241m.\u001b[39mlinalg\u001b[38;5;241m.\u001b[39mnorm(model_CPHSLoss2\u001b[38;5;241m.\u001b[39mweight)\u001b[38;5;241m*\u001b[39m\u001b[38;5;241m*\u001b[39m\u001b[38;5;241m2\u001b[39m)\n\u001b[0;32m     23\u001b[0m \u001b[38;5;66;03m#model_CPHSLoss2.weight\u001b[39;00m\n\u001b[1;32m---> 25\u001b[0m \u001b[43mloss2\u001b[49m\u001b[38;5;241;43m.\u001b[39;49m\u001b[43mbackwards\u001b[49m()\n",
      "\u001b[1;31mAttributeError\u001b[0m: 'Tensor' object has no attribute 'backwards'"
     ]
    }
   ],
   "source": [
    "s_temp = cli0_cond1_traindata[lower_bound:upper_bound]\n",
    "p_reference = torch.transpose(cli0_cond1_trainlabels[lower_bound:upper_bound], 0, 1)\n",
    "model_CPHSLoss2 = torch.nn.Linear(64, 2)\n",
    "optimizer = torch.optim.SGD(model_CPHSLoss2.parameters(), lr=learning_rate)\n",
    "\n",
    "s_normed = s_temp\n",
    "s = torch.transpose(s_normed, 0, 1)\n",
    "emg_streamed_batch = s[:,:-1] # F\n",
    "v_actual =  torch.matmul(model_CPHSLoss2.weight, s)\n",
    "p_actual = torch.cumsum(v_actual, dim=1)*dt  # Numerical integration of v_actual to get p_actual\n",
    "V = (p_reference - p_actual)*dt\n",
    "y = p_reference[:, :-1]  # To match the input\n",
    "\n",
    "########################################################\n",
    "\n",
    "loss_func2 = CPHSLoss2(lambdaF=lambdasFDE[0], lambdaD=lambdasFDE[1], lambdaE=lambdasFDE[2], Nd=2, Ne=64, return_cost_func_comps=False)\n",
    "\n",
    "#loss = self.loss(output, y, self.model)\n",
    "transposed_input = torch.transpose(emg_streamed_batch, 0, 1)\n",
    "transposed_label = torch.transpose(y, 0, 1)\n",
    "output = model_CPHSLoss2(transposed_input)\n",
    "loss2 = loss_func2(output, transposed_label) + lambdasFDE[0]*(torch.linalg.norm(transposed_input)**2) + lambdasFDE[1]*(torch.linalg.norm(model_CPHSLoss2.weight)**2)\n",
    "#model_CPHSLoss2.weight\n",
    "      \n",
    "loss2.backwards()"
   ]
  },
  {
   "cell_type": "markdown",
   "id": "48b55161",
   "metadata": {},
   "source": [
    "Wtf"
   ]
  },
  {
   "cell_type": "code",
   "execution_count": null,
   "id": "36f75b90",
   "metadata": {},
   "outputs": [],
   "source": []
  },
  {
   "cell_type": "code",
   "execution_count": null,
   "id": "f4ff311d",
   "metadata": {},
   "outputs": [],
   "source": []
  },
  {
   "cell_type": "code",
   "execution_count": null,
   "id": "9b3db2ac",
   "metadata": {},
   "outputs": [],
   "source": []
  },
  {
   "cell_type": "markdown",
   "id": "35daec7e",
   "metadata": {},
   "source": []
  },
  {
   "cell_type": "code",
   "execution_count": 7,
   "id": "d3105135",
   "metadata": {},
   "outputs": [
    {
     "name": "stdout",
     "output_type": "stream",
     "text": [
      "learning_rate 0.0001\n",
      "lambdasFDE [0, 1e-10, 1e-06]\n",
      "use_CPHSLoss False\n",
      "normalize_emg False\n",
      "num_iters_per_update 30\n",
      "normalize_V False\n",
      "normalize_V 0\n",
      "use_full_input_data True\n",
      "stream_data_updates False\n",
      "return_cost_func_comps False\n",
      "Loss Function = <function cost_l2_torch at 0x00000215B5424550>\n"
     ]
    },
    {
     "data": {
      "image/png": "[encoded data removed]",
      "text/plain": [
       "<Figure size 640x480 with 1 Axes>"
      ]
     },
     "metadata": {},
     "output_type": "display_data"
    }
   ],
   "source": [
    "# Other option which should give same result:\n",
    "untrained_model_FullData = torch.nn.Linear(64, 2)  # Single layer nn for Lin Regr\n",
    "optimizer = torch.optim.SGD(untrained_model_FullData.parameters(), lr=learning_rate)\n",
    "\n",
    "#def full_train_linregr_updates(model, full_trial_input_data, full_trial_labels, \n",
    "#    learning_rate, lambdasFDE=[0, 1e-3, 1e-6], use_CPHSLoss=False, normalize_emg=False, PCA_comps=64, \n",
    "#    num_iters_per_update=30, normalize_V=False, starting_update=10, use_full_input_data=False, stream_data_updates=True, \n",
    "#    dt=1/60, loss_log=None, verbose=False, verbose_norms=False, return_cost_func_comps=False, update_ix=...):\n",
    "trained_model_FullData, loss_log_FullData = full_train_linregr_updates(untrained_model_FullData, cli0_cond1_traindata, cli0_cond1_trainlabels, learning_rate, \n",
    "                                                                       num_iters_per_update=30, lambdasFDE=[lambdaF, lambdaD, lambdaE], \n",
    "                                                                       stream_data_updates=False, use_full_input_data=True, starting_update=0)\n",
    "\n",
    "plt.plot(range(len(loss_log_FullData)), loss_log_FullData, linewidth=3)\n",
    "plt.title(\"Training Loss On Nonstreamed Training Data [Updates 0-16]\")\n",
    "plt.xlabel('Iteration Number')\n",
    "plt.ylabel('Cost L2')\n",
    "plt.show()"
   ]
  },
  {
   "cell_type": "code",
   "execution_count": 8,
   "id": "32ccb2a4",
   "metadata": {},
   "outputs": [
    {
     "name": "stdout",
     "output_type": "stream",
     "text": [
      "learning_rate 0.0001\n",
      "lambdasFDE [0, 1e-10, 1e-06]\n",
      "use_CPHSLoss False\n",
      "normalize_emg False\n",
      "num_iters_per_update 30\n",
      "normalize_V False\n",
      "normalize_V 0\n",
      "use_full_input_data False\n",
      "stream_data_updates True\n",
      "return_cost_func_comps False\n",
      "Loss Function = <function cost_l2_torch at 0x00000215B5424550>\n"
     ]
    },
    {
     "data": {
      "image/png": "[encoded data removed]",
      "text/plain": [
       "<Figure size 640x480 with 1 Axes>"
      ]
     },
     "metadata": {},
     "output_type": "display_data"
    }
   ],
   "source": [
    "# Other option which should give same result:\n",
    "untrained_model_FullData = torch.nn.Linear(64, 2)  # Single layer nn for Lin Regr\n",
    "\n",
    "trained_model_streamed, loss_log_streamed = full_train_linregr_updates(untrained_model_FullData, cli0_cond1_traindata, cli0_cond1_trainlabels, learning_rate, \n",
    "                                                                       num_iters_per_update=30, lambdasFDE=[lambdaF, lambdaD, lambdaE], \n",
    "                                                                       stream_data_updates=True, use_full_input_data=False, starting_update=0)\n",
    "\n",
    "plt.plot(range(len(loss_log_streamed)), loss_log_streamed, linewidth=3)\n",
    "plt.title(\"Training Loss On Streamed Training Data [Updates 0-16]\")\n",
    "plt.xlabel('Iteration Number')\n",
    "plt.ylabel('Cost L2')\n",
    "plt.show()"
   ]
  },
  {
   "cell_type": "code",
   "execution_count": 9,
   "id": "53f7e040",
   "metadata": {},
   "outputs": [
    {
     "name": "stdout",
     "output_type": "stream",
     "text": [
      "learning_rate 0.0001\n",
      "lambdasFDE [0, 1e-10, 1e-06]\n",
      "use_CPHSLoss False\n",
      "normalize_emg False\n",
      "num_iters_per_update 30\n",
      "normalize_V False\n",
      "normalize_V 10\n",
      "use_full_input_data False\n",
      "stream_data_updates True\n",
      "return_cost_func_comps False\n",
      "Loss Function = <function cost_l2_torch at 0x00000215B5424550>\n"
     ]
    },
    {
     "data": {
      "image/png": "[encoded data removed]",
      "text/plain": [
       "<Figure size 640x480 with 1 Axes>"
      ]
     },
     "metadata": {},
     "output_type": "display_data"
    }
   ],
   "source": [
    "# Other option which should give same result:\n",
    "untrained_model_FullData = torch.nn.Linear(64, 2)  # Single layer nn for Lin Regr\n",
    "\n",
    "trained_model_streamed10, loss_log_streamed10 = full_train_linregr_updates(untrained_model_FullData, cli0_cond1_traindata, cli0_cond1_trainlabels, learning_rate, \n",
    "                                                                       num_iters_per_update=30, lambdasFDE=[lambdaF, lambdaD, lambdaE], \n",
    "                                                                       stream_data_updates=True, use_full_input_data=False, starting_update=10)\n",
    "\n",
    "plt.plot(range(len(loss_log_streamed10)), loss_log_streamed10, linewidth=3)\n",
    "plt.title(\"Training Loss On Streamed Training Data [Updates 10-16]\")\n",
    "plt.xlabel('Iteration Number')\n",
    "plt.ylabel('Cost L2')\n",
    "plt.show()"
   ]
  },
  {
   "cell_type": "markdown",
   "id": "8bbe9a3f",
   "metadata": {},
   "source": [
    "## Using CPHSLoss"
   ]
  },
  {
   "cell_type": "code",
   "execution_count": 11,
   "id": "82a34e51",
   "metadata": {},
   "outputs": [
    {
     "name": "stdout",
     "output_type": "stream",
     "text": [
      "learning_rate 0.0001\n",
      "lambdasFDE [0, 1e-10, 1e-06]\n",
      "use_CPHSLoss True\n",
      "normalize_emg False\n",
      "num_iters_per_update 30\n",
      "normalize_V False\n",
      "normalize_V 0\n",
      "use_full_input_data True\n",
      "stream_data_updates False\n",
      "return_cost_func_comps False\n",
      "Loss Function = <class 'utils.custom_loss_class.CPHSLoss'>\n"
     ]
    },
    {
     "ename": "AttributeError",
     "evalue": "'CPHSLoss' object has no attribute 'backward'",
     "output_type": "error",
     "traceback": [
      "\u001b[1;31m---------------------------------------------------------------------------\u001b[0m",
      "\u001b[1;31mAttributeError\u001b[0m                            Traceback (most recent call last)",
      "Cell \u001b[1;32mIn[11], line 15\u001b[0m\n\u001b[0;32m      9\u001b[0m cli0_cond1_testlabels \u001b[38;5;241m=\u001b[39m torch\u001b[38;5;241m.\u001b[39mfrom_numpy(refs_block1[keys[\u001b[38;5;241m0\u001b[39m]][\u001b[38;5;241m0\u001b[39m, update_ix[\u001b[38;5;241m16\u001b[39m]:, :])\u001b[38;5;241m.\u001b[39mtype(torch\u001b[38;5;241m.\u001b[39mfloat32)\n\u001b[0;32m     11\u001b[0m \u001b[38;5;66;03m#def full_train_linregr_updates(model, full_trial_input_data, full_trial_labels, \u001b[39;00m\n\u001b[0;32m     12\u001b[0m \u001b[38;5;66;03m#    learning_rate, lambdasFDE=[0, 1e-3, 1e-6], use_CPHSLoss=False, normalize_emg=False, PCA_comps=64, \u001b[39;00m\n\u001b[0;32m     13\u001b[0m \u001b[38;5;66;03m#    num_iters_per_update=30, normalize_V=False, starting_update=10, use_full_input_data=False, stream_data_updates=True, \u001b[39;00m\n\u001b[0;32m     14\u001b[0m \u001b[38;5;66;03m#    dt=1/60, loss_log=None, verbose=False, verbose_norms=False, return_cost_func_comps=False, update_ix=...):\u001b[39;00m\n\u001b[1;32m---> 15\u001b[0m trained_model_FullData, loss_log_FullData \u001b[38;5;241m=\u001b[39m \u001b[43mfull_train_linregr_updates\u001b[49m\u001b[43m(\u001b[49m\u001b[43muntrained_model_FullData\u001b[49m\u001b[43m,\u001b[49m\u001b[43m \u001b[49m\u001b[43mcli0_cond1_traindata\u001b[49m\u001b[43m,\u001b[49m\u001b[43m \u001b[49m\u001b[43mcli0_cond1_trainlabels\u001b[49m\u001b[43m,\u001b[49m\u001b[43m \u001b[49m\u001b[43mlearning_rate\u001b[49m\u001b[43m,\u001b[49m\u001b[43m \u001b[49m\n\u001b[0;32m     16\u001b[0m \u001b[43m                                                                       \u001b[49m\u001b[43mnum_iters_per_update\u001b[49m\u001b[38;5;241;43m=\u001b[39;49m\u001b[38;5;241;43m30\u001b[39;49m\u001b[43m,\u001b[49m\u001b[43m \u001b[49m\u001b[43mlambdasFDE\u001b[49m\u001b[38;5;241;43m=\u001b[39;49m\u001b[43m[\u001b[49m\u001b[43mlambdaF\u001b[49m\u001b[43m,\u001b[49m\u001b[43m \u001b[49m\u001b[43mlambdaD\u001b[49m\u001b[43m,\u001b[49m\u001b[43m \u001b[49m\u001b[43mlambdaE\u001b[49m\u001b[43m]\u001b[49m\u001b[43m,\u001b[49m\u001b[43m \u001b[49m\n\u001b[0;32m     17\u001b[0m \u001b[43m                                                                       \u001b[49m\u001b[43mstream_data_updates\u001b[49m\u001b[38;5;241;43m=\u001b[39;49m\u001b[38;5;28;43;01mFalse\u001b[39;49;00m\u001b[43m,\u001b[49m\u001b[43m \u001b[49m\u001b[43muse_full_input_data\u001b[49m\u001b[38;5;241;43m=\u001b[39;49m\u001b[38;5;28;43;01mTrue\u001b[39;49;00m\u001b[43m,\u001b[49m\u001b[43m \u001b[49m\u001b[43mstarting_update\u001b[49m\u001b[38;5;241;43m=\u001b[39;49m\u001b[38;5;241;43m0\u001b[39;49m\u001b[43m,\u001b[49m\n\u001b[0;32m     18\u001b[0m \u001b[43m                                                                       \u001b[49m\u001b[43muse_CPHSLoss\u001b[49m\u001b[38;5;241;43m=\u001b[39;49m\u001b[38;5;28;43;01mTrue\u001b[39;49;00m\u001b[43m)\u001b[49m\n\u001b[0;32m     20\u001b[0m plt\u001b[38;5;241m.\u001b[39mplot(\u001b[38;5;28mrange\u001b[39m(\u001b[38;5;28mlen\u001b[39m(loss_log_FullData)), loss_log_FullData, linewidth\u001b[38;5;241m=\u001b[39m\u001b[38;5;241m3\u001b[39m)\n\u001b[0;32m     21\u001b[0m plt\u001b[38;5;241m.\u001b[39mtitle(\u001b[38;5;124m\"\u001b[39m\u001b[38;5;124mTraining Loss On Nonstreamed Training Data [Updates 0-16]\u001b[39m\u001b[38;5;124m\"\u001b[39m)\n",
      "Cell \u001b[1;32mIn[6], line 139\u001b[0m, in \u001b[0;36mfull_train_linregr_updates\u001b[1;34m(model, full_trial_input_data, full_trial_labels, learning_rate, lambdasFDE, use_CPHSLoss, normalize_emg, PCA_comps, num_iters_per_update, normalize_V, starting_update, use_full_input_data, stream_data_updates, dt, loss_log, verbose, verbose_norms, return_cost_func_comps, update_ix)\u001b[0m\n\u001b[0;32m    137\u001b[0m     DTerm_log\u001b[38;5;241m.\u001b[39mappend(lambdasFDE[\u001b[38;5;241m1\u001b[39m]\u001b[38;5;241m*\u001b[39m(torch\u001b[38;5;241m.\u001b[39mlinalg\u001b[38;5;241m.\u001b[39mmatrix_norm((model\u001b[38;5;241m.\u001b[39mweight)\u001b[38;5;241m*\u001b[39m\u001b[38;5;241m*\u001b[39m\u001b[38;5;241m2\u001b[39m)))\n\u001b[0;32m    138\u001b[0m \u001b[38;5;66;03m# backward pass\u001b[39;00m\n\u001b[1;32m--> 139\u001b[0m \u001b[43mloss\u001b[49m\u001b[38;5;241;43m.\u001b[39;49m\u001b[43mbackward\u001b[49m(retain_graph\u001b[38;5;241m=\u001b[39m\u001b[38;5;28;01mTrue\u001b[39;00m)\n\u001b[0;32m    140\u001b[0m loss_log\u001b[38;5;241m.\u001b[39mappend(loss\u001b[38;5;241m.\u001b[39mitem())\n\u001b[0;32m    141\u001b[0m \u001b[38;5;66;03m# update weights\u001b[39;00m\n",
      "File \u001b[1;32m~\\miniconda3\\envs\\fl_torch\\lib\\site-packages\\torch\\nn\\modules\\module.py:1614\u001b[0m, in \u001b[0;36mModule.__getattr__\u001b[1;34m(self, name)\u001b[0m\n\u001b[0;32m   1612\u001b[0m     \u001b[38;5;28;01mif\u001b[39;00m name \u001b[38;5;129;01min\u001b[39;00m modules:\n\u001b[0;32m   1613\u001b[0m         \u001b[38;5;28;01mreturn\u001b[39;00m modules[name]\n\u001b[1;32m-> 1614\u001b[0m \u001b[38;5;28;01mraise\u001b[39;00m \u001b[38;5;167;01mAttributeError\u001b[39;00m(\u001b[38;5;124m\"\u001b[39m\u001b[38;5;124m'\u001b[39m\u001b[38;5;132;01m{}\u001b[39;00m\u001b[38;5;124m'\u001b[39m\u001b[38;5;124m object has no attribute \u001b[39m\u001b[38;5;124m'\u001b[39m\u001b[38;5;132;01m{}\u001b[39;00m\u001b[38;5;124m'\u001b[39m\u001b[38;5;124m\"\u001b[39m\u001b[38;5;241m.\u001b[39mformat(\n\u001b[0;32m   1615\u001b[0m     \u001b[38;5;28mtype\u001b[39m(\u001b[38;5;28mself\u001b[39m)\u001b[38;5;241m.\u001b[39m\u001b[38;5;18m__name__\u001b[39m, name))\n",
      "\u001b[1;31mAttributeError\u001b[0m: 'CPHSLoss' object has no attribute 'backward'"
     ]
    }
   ],
   "source": [
    "# Other option which should give same result:\n",
    "untrained_model_FullData = torch.nn.Linear(64, 2)  # Single layer nn for Lin Regr\n",
    "optimizer = torch.optim.SGD(untrained_model_FullData.parameters(), lr=learning_rate)\n",
    "\n",
    "#train/test split at update_ix[16]\n",
    "cli0_cond1_traindata = torch.from_numpy(emgs_block1[keys[0]][0, :update_ix[16], :]).type(torch.float32)\n",
    "cli0_cond1_trainlabels = torch.from_numpy(refs_block1[keys[0]][0, :update_ix[16], :]).type(torch.float32)\n",
    "cli0_cond1_testdata = torch.from_numpy(emgs_block1[keys[0]][0, update_ix[16]:, :]).type(torch.float32)\n",
    "cli0_cond1_testlabels = torch.from_numpy(refs_block1[keys[0]][0, update_ix[16]:, :]).type(torch.float32)\n",
    "\n",
    "#def full_train_linregr_updates(model, full_trial_input_data, full_trial_labels, \n",
    "#    learning_rate, lambdasFDE=[0, 1e-3, 1e-6], use_CPHSLoss=False, normalize_emg=False, PCA_comps=64, \n",
    "#    num_iters_per_update=30, normalize_V=False, starting_update=10, use_full_input_data=False, stream_data_updates=True, \n",
    "#    dt=1/60, loss_log=None, verbose=False, verbose_norms=False, return_cost_func_comps=False, update_ix=...):\n",
    "trained_model_FullData, loss_log_FullData = full_train_linregr_updates(untrained_model_FullData, cli0_cond1_traindata, cli0_cond1_trainlabels, learning_rate, \n",
    "                                                                       num_iters_per_update=30, lambdasFDE=[lambdaF, lambdaD, lambdaE], \n",
    "                                                                       stream_data_updates=False, use_full_input_data=True, starting_update=0,\n",
    "                                                                       use_CPHSLoss=True)\n",
    "\n",
    "plt.plot(range(len(loss_log_FullData)), loss_log_FullData, linewidth=3)\n",
    "plt.title(\"Training Loss On Nonstreamed Training Data [Updates 0-16]\")\n",
    "plt.xlabel('Iteration Number')\n",
    "plt.ylabel('Cost L2')\n",
    "plt.show()"
   ]
  },
  {
   "cell_type": "code",
   "execution_count": null,
   "id": "e75b5a3f",
   "metadata": {},
   "outputs": [],
   "source": [
    "# Other option which should give same result:\n",
    "untrained_model_FullData = torch.nn.Linear(64, 2)  # Single layer nn for Lin Regr\n",
    "\n",
    "trained_model_streamed, loss_log_streamed = full_train_linregr_updates(untrained_model_FullData, cli0_cond1_traindata, cli0_cond1_trainlabels, learning_rate, \n",
    "                                                                       num_iters_per_update=30, lambdasFDE=[lambdaF, lambdaD, lambdaE], \n",
    "                                                                       stream_data_updates=True, use_full_input_data=False, starting_update=0,\n",
    "                                                                       use_CPHSLoss=True)\n",
    "\n",
    "plt.plot(range(len(loss_log_streamed)), loss_log_streamed, linewidth=3)\n",
    "plt.title(\"Training Loss On Streamed Training Data [Updates 0-16]\")\n",
    "plt.xlabel('Iteration Number')\n",
    "plt.ylabel('Cost L2')\n",
    "plt.show()"
   ]
  },
  {
   "cell_type": "code",
   "execution_count": null,
   "id": "f11714c7",
   "metadata": {},
   "outputs": [],
   "source": [
    "# Other option which should give same result:\n",
    "untrained_model_FullData = torch.nn.Linear(64, 2)  # Single layer nn for Lin Regr\n",
    "\n",
    "trained_model_streamed10, loss_log_streamed10 = full_train_linregr_updates(untrained_model_FullData, cli0_cond1_traindata, cli0_cond1_trainlabels, learning_rate, \n",
    "                                                                       num_iters_per_update=30, lambdasFDE=[lambdaF, lambdaD, lambdaE], \n",
    "                                                                       stream_data_updates=True, use_full_input_data=False, starting_update=10,\n",
    "                                                                       use_CPHSLoss=True)\n",
    "\n",
    "plt.plot(range(len(loss_log_streamed10)), loss_log_streamed10, linewidth=3)\n",
    "plt.title(\"Training Loss On Streamed Training Data [Updates 10-16]\")\n",
    "plt.xlabel('Iteration Number')\n",
    "plt.ylabel('Cost L2')\n",
    "plt.show()"
   ]
  },
  {
   "cell_type": "code",
   "execution_count": null,
   "id": "db6a0d2b",
   "metadata": {},
   "outputs": [],
   "source": []
  },
  {
   "cell_type": "code",
   "execution_count": null,
   "id": "9ac3306c",
   "metadata": {},
   "outputs": [],
   "source": []
  },
  {
   "cell_type": "code",
   "execution_count": null,
   "id": "2f490011",
   "metadata": {},
   "outputs": [],
   "source": []
  },
  {
   "cell_type": "code",
   "execution_count": 10,
   "id": "12981e1a",
   "metadata": {},
   "outputs": [
    {
     "ename": "AssertionError",
     "evalue": "",
     "output_type": "error",
     "traceback": [
      "\u001b[1;31m---------------------------------------------------------------------------\u001b[0m",
      "\u001b[1;31mAssertionError\u001b[0m                            Traceback (most recent call last)",
      "Cell \u001b[1;32mIn[10], line 1\u001b[0m\n\u001b[1;32m----> 1\u001b[0m \u001b[38;5;28;01massert\u001b[39;00m(\u001b[38;5;28;01mFalse\u001b[39;00m)\n",
      "\u001b[1;31mAssertionError\u001b[0m: "
     ]
    }
   ],
   "source": [
    "assert(False)"
   ]
  },
  {
   "cell_type": "markdown",
   "id": "a4115bbd",
   "metadata": {},
   "source": [
    "## New PyTorch Only Code"
   ]
  },
  {
   "cell_type": "code",
   "execution_count": null,
   "id": "b41ab1fe",
   "metadata": {},
   "outputs": [],
   "source": [
    "# our model\n",
    "model = torch.nn.Linear(64, 2)\n",
    "\n",
    "# Construct our loss function and an Optimizer. The call to model.parameters()\n",
    "# in the SGD constructor will contain the learnable parameters of the two\n",
    "# nn.Linear modules which are members of the model.\n",
    "\n",
    "criterion = torch.nn.MSELoss(reduction='sum')\n",
    "\n",
    "#optimizer = torch.optim.SGD(model.parameters(), lr=0.01)\n",
    "optimizer = torch.optim.SGD(model.parameters(), lr=0.005)\n",
    "# Making LR tiny slows it down but it still blows up...\n",
    "\n",
    "# Training loop\n",
    "i=10\n",
    "for epoch in range(10):\n",
    "    #for i, (x_data, y_data) in enumerate(trainloader):\n",
    "    x_data = torch.tensor(emgs_block1[keys[0]][0, update_ix[i]:update_ix[i+1], :], dtype=torch.float32)\n",
    "    y_data = torch.tensor(refs_block1[keys[0]][0, update_ix[i]:update_ix[i+1], :], dtype=torch.float32)\n",
    "    # 1) Forward pass: Compute predicted y by passing x to the model\n",
    "    y_pred = model(x_data)\n",
    "\n",
    "    # 2) Compute and print loss\n",
    "    loss = criterion(y_pred, y_data)\n",
    "    #assert(not isnan(loss))\n",
    "    if isnan(loss):\n",
    "        print(\"LOSS IS NAN\")\n",
    "        break\n",
    "    print(f'Epoch: {epoch} | Update {i} | Loss: {loss.item()} ')\n",
    "\n",
    "    # Zero gradients, perform a backward pass, and update the weights.\n",
    "    optimizer.zero_grad()\n",
    "    loss.backward()\n",
    "    optimizer.step()"
   ]
  },
  {
   "cell_type": "code",
   "execution_count": null,
   "id": "a5af8829",
   "metadata": {},
   "outputs": [],
   "source": [
    "# our model\n",
    "model = torch.nn.Linear(64, 2)\n",
    "\n",
    "# Construct our loss function and an Optimizer. The call to model.parameters()\n",
    "# in the SGD constructor will contain the learnable parameters of the two\n",
    "# nn.Linear modules which are members of the model.\n",
    "\n",
    "criterion = torch.nn.MSELoss(reduction='sum')\n",
    "\n",
    "#optimizer = torch.optim.SGD(model.parameters(), lr=0.01)\n",
    "optimizer = torch.optim.SGD(model.parameters(), lr=0.005)\n",
    "# Making LR tiny slows it down but it still blows up...\n",
    "\n",
    "# Training loop\n",
    "for epoch in range(10):\n",
    "    #for i, (x_data, y_data) in enumerate(trainloader):\n",
    "    for i in range(10, 16):\n",
    "        x_data = torch.tensor(emgs_block1[keys[0]][0, update_ix[i]:update_ix[i+1], :], dtype=torch.float32)\n",
    "        y_data = torch.tensor(refs_block1[keys[0]][0, update_ix[i]:update_ix[i+1], :], dtype=torch.float32)\n",
    "        # 1) Forward pass: Compute predicted y by passing x to the model\n",
    "        y_pred = model(x_data)\n",
    "\n",
    "        # 2) Compute and print loss\n",
    "        loss = criterion(y_pred, y_data)\n",
    "        #assert(not isnan(loss))\n",
    "        if isnan(loss):\n",
    "            print(\"LOSS IS NAN\")\n",
    "            break\n",
    "        print(f'Epoch: {epoch} | Update {i} | Loss: {loss.item()} ')\n",
    "\n",
    "        # Zero gradients, perform a backward pass, and update the weights.\n",
    "        optimizer.zero_grad()\n",
    "        loss.backward()\n",
    "        optimizer.step()"
   ]
  },
  {
   "cell_type": "code",
   "execution_count": null,
   "id": "0775de12",
   "metadata": {},
   "outputs": [],
   "source": [
    "#refs_block1, _, _, _, emgs_block1, _, _, _, _, _, _ = pickle.load(handle)\n",
    "print(emgs_block1[keys[0]].shape)\n",
    "print(refs_block1[keys[0]].shape)"
   ]
  },
  {
   "cell_type": "code",
   "execution_count": null,
   "id": "066b9ce4",
   "metadata": {},
   "outputs": [],
   "source": [
    "cli0_cond1_samples = emgs_block1[keys[0]][0, update_ix[10]:update_ix[11], :]\n",
    "cli0_cond1_labels = refs_block1[keys[0]][0, update_ix[10]:update_ix[11], :]"
   ]
  },
  {
   "cell_type": "code",
   "execution_count": null,
   "id": "b3ad6f07",
   "metadata": {},
   "outputs": [],
   "source": [
    "# our model\n",
    "model = torch.nn.Linear(64, 2)\n",
    "\n",
    "# Construct our loss function and an Optimizer. The call to model.parameters()\n",
    "# in the SGD constructor will contain the learnable parameters of the two\n",
    "# nn.Linear modules which are members of the model.\n",
    "\n",
    "criterion = torch.nn.MSELoss(reduction='sum')\n",
    "\n",
    "#optimizer = torch.optim.SGD(model.parameters(), lr=0.01)\n",
    "optimizer = torch.optim.SGD(model.parameters(), lr=0.00001)\n",
    "# Making LR tiny slows it down but it still blows up...\n",
    "\n",
    "x_data = torch.tensor(cli0_cond1_samples, dtype=torch.float32)\n",
    "y_data = torch.tensor(cli0_cond1_labels, dtype=torch.float32)\n",
    "\n",
    "# Training loop\n",
    "for epoch in range(10):\n",
    "    #for i, (x_data, y_data) in enumerate(trainloader):\n",
    "    \n",
    "    # 1) Forward pass: Compute predicted y by passing x to the model\n",
    "    y_pred = model(x_data)\n",
    "\n",
    "    # 2) Compute and print loss\n",
    "    loss = criterion(y_pred, y_data)\n",
    "    print(f'Epoch: {epoch} | Loss: {loss.item()} ')\n",
    "\n",
    "    # Zero gradients, perform a backward pass, and update the weights.\n",
    "    optimizer.zero_grad()\n",
    "    loss.backward()\n",
    "    optimizer.step()"
   ]
  },
  {
   "cell_type": "code",
   "execution_count": null,
   "id": "ae254810",
   "metadata": {},
   "outputs": [],
   "source": []
  },
  {
   "cell_type": "code",
   "execution_count": null,
   "id": "a44eeb42",
   "metadata": {},
   "outputs": [],
   "source": [
    "for i in range(len(keys)):\n",
    "    print(f\"CLIENT{i}\")\n",
    "\n",
    "    # our model\n",
    "    model = torch.nn.Linear(64, 2)\n",
    "\n",
    "    # Construct our loss function and an Optimizer. The call to model.parameters()\n",
    "    # in the SGD constructor will contain the learnable parameters of the two\n",
    "    # nn.Linear modules which are members of the model.\n",
    "\n",
    "    criterion = torch.nn.MSELoss(reduction='sum')\n",
    "\n",
    "    #optimizer = torch.optim.SGD(model.parameters(), lr=0.01)\n",
    "    optimizer = torch.optim.SGD(model.parameters(), lr=0.00001)\n",
    "    # Making LR tiny slows it down but it still blows up...\n",
    "\n",
    "    x_data = torch.tensor(emgs_block1[keys[i]][0, update_ix[10]:, :], dtype=torch.float32)\n",
    "    y_data = torch.tensor(refs_block1[keys[i]][0, update_ix[10]:, :], dtype=torch.float32)\n",
    "\n",
    "    # Training loop\n",
    "    for epoch in range(10):\n",
    "        #for i, (x_data, y_data) in enumerate(trainloader):\n",
    "\n",
    "        # 1) Forward pass: Compute predicted y by passing x to the model\n",
    "        y_pred = model(x_data)\n",
    "\n",
    "        # 2) Compute and print loss\n",
    "        loss = criterion(y_pred, y_data)\n",
    "        print(f'Epoch: {epoch} | Loss: {loss.item()} ')\n",
    "\n",
    "        # Zero gradients, perform a backward pass, and update the weights.\n",
    "        optimizer.zero_grad()\n",
    "        loss.backward()\n",
    "        optimizer.step()\n",
    "    print()"
   ]
  },
  {
   "cell_type": "markdown",
   "id": "0a3155c5",
   "metadata": {},
   "source": [
    "I guess try and train an sklearn model on the data? No idea what's going on..."
   ]
  },
  {
   "cell_type": "code",
   "execution_count": null,
   "id": "a79aa8d0",
   "metadata": {},
   "outputs": [],
   "source": [
    "from sklearn.linear_model import LinearRegression"
   ]
  },
  {
   "cell_type": "code",
   "execution_count": null,
   "id": "c92170c1",
   "metadata": {},
   "outputs": [],
   "source": [
    "len(update_ix)"
   ]
  },
  {
   "cell_type": "code",
   "execution_count": null,
   "id": "b993fd4f",
   "metadata": {},
   "outputs": [],
   "source": [
    "def train_and_eval_sklr(emgs_block1, refs_block1, lowerbound, upperbound, test_bool=True, test_data_lb=17, test_data_ub=18):\n",
    "    print(f\"Lowerbound Update: {lowerbound}, Upperbound Update: {upperbound}\")\n",
    "    x_data = torch.tensor(emgs_block1[keys[0]][0, update_ix[lowerbound]:update_ix[upperbound], :], dtype=torch.float32)\n",
    "    y_data = torch.tensor(refs_block1[keys[0]][0, update_ix[lowerbound]:update_ix[upperbound], :], dtype=torch.float32)\n",
    "\n",
    "    reg = LinearRegression().fit(x_data, y_data)\n",
    "    train_score = reg.score(x_data, y_data)\n",
    "    print(f\"train_score: {train_score:0.4f}\")\n",
    "    \n",
    "    #reg.predict()\n",
    "    if test_bool:\n",
    "        print(f\"Testing Lowerbound Update: {test_data_lb}, Testing Upperbound Update: {test_data_ub}\")\n",
    "        x_test = torch.tensor(emgs_block1[keys[0]][0, update_ix[test_data_lb]:update_ix[test_data_ub], :], dtype=torch.float32)\n",
    "        y_test = torch.tensor(refs_block1[keys[0]][0, update_ix[test_data_lb]:update_ix[test_data_ub], :], dtype=torch.float32)\n",
    "        test_score = reg.score(x_test, y_test)\n",
    "        print(f\"test_score: {test_score:0.4f}\")\n",
    "    \n",
    "    print()"
   ]
  },
  {
   "cell_type": "code",
   "execution_count": null,
   "id": "95148ecf",
   "metadata": {},
   "outputs": [],
   "source": [
    "for i in range(10,16):\n",
    "    train_and_eval_sklr(emgs_block1, refs_block1, i, i+1)"
   ]
  },
  {
   "cell_type": "code",
   "execution_count": null,
   "id": "735dde50",
   "metadata": {},
   "outputs": [],
   "source": [
    "for i in range(10,16):\n",
    "    train_and_eval_sklr(emgs_block1, refs_block1, i, 16)"
   ]
  },
  {
   "cell_type": "code",
   "execution_count": null,
   "id": "8e523109",
   "metadata": {},
   "outputs": [],
   "source": []
  }
 ],
 "metadata": {
  "kernelspec": {
   "display_name": "Python 3 (ipykernel)",
   "language": "python",
   "name": "python3"
  },
  "language_info": {
   "codemirror_mode": {
    "name": "ipython",
    "version": 3
   },
   "file_extension": ".py",
   "mimetype": "text/x-python",
   "name": "python",
   "nbconvert_exporter": "python",
   "pygments_lexer": "ipython3",
   "version": "3.10.10"
  }
 },
 "nbformat": 4,
 "nbformat_minor": 5
}
