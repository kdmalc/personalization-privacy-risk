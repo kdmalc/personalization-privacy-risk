{
 "cells": [
  {
   "cell_type": "code",
   "execution_count": 1,
   "id": "91c7442b-0a55-4a2f-bc83-c09da02bc862",
   "metadata": {},
   "outputs": [],
   "source": [
    "import numpy as np\n",
    "import h5py\n",
    "import torch\n",
    "import os\n",
    "import matplotlib.pyplot as plt"
   ]
  },
  {
   "cell_type": "markdown",
   "id": "66183d36-5c0e-4267-a815-5376c2784acf",
   "metadata": {},
   "source": [
    "Want to compare:\n",
    "1. Centralized ML (ALL models: RNN, LSTM, LinRegr)\n",
    "2. Sequential FL (ALL models: RNN< LSTM, LinRegr)"
   ]
  },
  {
   "cell_type": "code",
   "execution_count": 2,
   "id": "b6dcde8a-9779-470f-bc72-278c9e0768a3",
   "metadata": {},
   "outputs": [
    {
     "data": {
      "text/plain": [
       "'C:\\\\Users\\\\kdmen\\\\Desktop\\\\Research\\\\personalization-privacy-risk\\\\Personalized_Federated_Learning\\\\results\\\\DeepNetworks576\\\\'"
      ]
     },
     "execution_count": 2,
     "metadata": {},
     "output_type": "execute_result"
    }
   ],
   "source": [
    "results_dir_path = \"C:\\\\Users\\\\kdmen\\Desktop\\\\Research\\\\personalization-privacy-risk\\\\Personalized_Federated_Learning\\\\results\\\\DeepNetworks576\\\\\"\n",
    "results_dir_path"
   ]
  },
  {
   "cell_type": "code",
   "execution_count": 3,
   "id": "af385931-fadd-4534-b712-cf02ef7418c7",
   "metadata": {},
   "outputs": [],
   "source": [
    "seq_res_lst = [\"12-09_15-35_Seq_FedAvgLinRegr15_bs1\", \n",
    "\"12-09_15-47_Seq_FedAvgLinRegr10_bs1202\", \n",
    "\"12-09_15-48_Seq_FedAvgLinRegr10_bs32\", \n",
    "\"12-09_20-04_Seq_FedAvgRNN10_FirstDeepSeqWorking\", \n",
    "\"12-09_20-11_Seq_FedAvgRNN100_TestUnseenFlat\", \n",
    "\"12-09_20-21_Seq_FedAvgLinRegr100_TestUnseenBigGap\", \n",
    "\"12-09_20-28_Seq_FedAvgLinRegr100_su0_StillBigGap\", \n",
    "\"12-09_20-42_Seq_FedAvgLinRegr100_Used1500ParamsAndGapGone\", \n",
    "\"12-09_20-45_Seq_FedAvgLinRegr100_SwitchedToCond3NoChange\", \n",
    "\"12-09_20-57_Seq_FedAvgLinRegr100_1500ParamsBut_su1\", \n",
    "\"12-09_21-05_Seq_FedAvgLinRegr100_1500ParamsBut_su2\", \n",
    "\"12-09_22-18_Seq_FedAvgLinRegr1500_bs1202\", \n",
    "\"12-09_23-13_Seq_FedAvgRNN1500_bs1202_sl1_hs32_lr1\", \n",
    "\"12-10_10-28_Seq_FedAvgRNN1500_bs64_sl8_hs32_lr1\", \n",
    "\"12-10_11-22_Seq_FedAvgRNN1500_bs64_sl8_hs32_lrp1\", \n",
    "\"12-10_14-11_Seq_FedAvgLSTM500_bs64_hs32_sl8_lrp1\", \n",
    "\"12-10_14-32_Seq_FedAvgLSTM500_bs1200_hs32_sl1_lrp1\"]\n",
    "\n",
    "seq_filename = \"FedAvg_test.h5\""
   ]
  },
  {
   "cell_type": "code",
   "execution_count": 4,
   "id": "18c893d6-da04-48a1-9ddb-f8a4cd7f9f43",
   "metadata": {},
   "outputs": [],
   "source": [
    "centralized_res_lst =[\"12-05_11-37_CentralizedRNN_Flat\", \n",
    "\"12-05_12-18_CentralizedRNN_25rounds\", \n",
    "\"12-05_12-27_CentralizedLSTM5\", \n",
    "\"12-05_13-30_CentralizedRNN50_bs1_sl100\", \n",
    "\"12-05_14-09_CentralizedLSTM25_bs1_sl100\", \n",
    "\"12-05_15-22_CentralizedLinRegr25_nohypers\", \n",
    "\"12-07_11-52_CentralizedRNN10_hs24_LRp5_bs32_sl100\", \n",
    "\"12-07_11-54_CentralizedRNN10_hs10_LRp5_bs32_sl100\", \n",
    "\"12-07_13-05_CentralizedRNN10_hs64_LRp5_bs32_sl100\", \n",
    "\"12-07_13-09_CentralizedRNN10_hs88_LRp5_bs32_sl100\", \n",
    "\"12-07_13-15_CentralizedRNN10_hs128_LRp5_bs32_sl100\", \n",
    "\"12-07_13-22_CentralizedRNN10_hs180_LRp5_bs32_sl100\", \n",
    "\"12-07_13-34_CentralizedRNN10_hs256_LRp5_bs32_sl100\", \n",
    "\"12-07_14-12_CentralizedRNN10_hs128_LR1_bs32_sl100\", \n",
    "\"12-07_14-42_CentralizedLinRegr10_LRp1_bs32_sl100\", \n",
    "\"12-07_14-45_CentralizedLSTM10_hs128_LRp5_bs32_sl100\", \n",
    "\"12-07_15-10_CentralizedLSTM10_hs16_LRp5_bs32_sl100\", \n",
    "\"12-07_15-13_CentralizedLSTM10_hs64_LRp5_bs32_sl100\"]\n",
    "\n",
    "cent_fileame = \"Centralized_test.h5\""
   ]
  },
  {
   "cell_type": "code",
   "execution_count": 10,
   "id": "c17c04d4-c53f-461d-8c3f-74865706c9cf",
   "metadata": {},
   "outputs": [
    {
     "name": "stdout",
     "output_type": "stream",
     "text": [
      "['client_testing_logs', 'cost_func_tuples_by_client', 'curr_live_rs_test_loss', 'gradient_norm_lists_by_client', 'prev_live_rs_test_loss', 'rs_test_loss', 'rs_train_loss', 'unseen_live_rs_test_loss']\n",
      "\n",
      "fs['rs_train_loss'][0]: 3.2588475738478187e-10\n",
      "fs['rs_test_loss'][0]: 1.0437074160436168\n",
      "fs['curr_live_rs_test_loss'][0]: 9.879956431430546e-11\n",
      "fs['prev_live_rs_test_loss'][0]: 0.00025664495002238513\n",
      "fs['unseen_live_rs_test_loss'][0]: 1.0437074160436168\n",
      "\n",
      "Complete\n"
     ]
    }
   ],
   "source": [
    "full_file_name = results_dir_path + seq_res_lst[0] + \"\\\\\" + seq_filename\n",
    "with h5py.File(full_file_name, 'r') as fs:\n",
    "    a_group_key = list(fs.keys())\n",
    "    print(f\"{a_group_key}\\n\")\n",
    "    \n",
    "    #train_losses_log[file_idx] = fs['rs_train_loss'][()]\n",
    "    #test_losses_log[file_idx]  = fs['rs_test_loss'][()]\n",
    "    \n",
    "    print(f\"fs['rs_train_loss'][0]: {fs['rs_train_loss'][-1]}\")\n",
    "    print(f\"fs['rs_test_loss'][0]: {fs['rs_test_loss'][-1]}\")\n",
    "    print(f\"fs['curr_live_rs_test_loss'][0]: {fs['curr_live_rs_test_loss'][-1]}\")\n",
    "    print(f\"fs['prev_live_rs_test_loss'][0]: {fs['prev_live_rs_test_loss'][-1]}\")\n",
    "    print(f\"fs['unseen_live_rs_test_loss'][0]: {fs['unseen_live_rs_test_loss'][-1]}\")\n",
    "    #print(f\"fs['rs_train_loss'][0]: {fs['rs_train_loss'][-1]}\")\n",
    "\n",
    "print(\"\\nComplete\")"
   ]
  },
  {
   "cell_type": "code",
   "execution_count": 6,
   "id": "40ce7773-44ec-4ddd-86f7-6b0cb6d943db",
   "metadata": {},
   "outputs": [
    {
     "ename": "AssertionError",
     "evalue": "",
     "output_type": "error",
     "traceback": [
      "\u001b[1;31m---------------------------------------------------------------------------\u001b[0m",
      "\u001b[1;31mAssertionError\u001b[0m                            Traceback (most recent call last)",
      "Cell \u001b[1;32mIn[6], line 1\u001b[0m\n\u001b[1;32m----> 1\u001b[0m \u001b[38;5;28;01massert\u001b[39;00m(\u001b[38;5;241m1\u001b[39m\u001b[38;5;241m==\u001b[39m\u001b[38;5;241m0\u001b[39m)\n",
      "\u001b[1;31mAssertionError\u001b[0m: "
     ]
    }
   ],
   "source": [
    "assert(1==0)"
   ]
  },
  {
   "cell_type": "code",
   "execution_count": null,
   "id": "a9aa7dd2-eefc-4156-9db3-17cc562de1ed",
   "metadata": {},
   "outputs": [],
   "source": []
  },
  {
   "cell_type": "code",
   "execution_count": null,
   "id": "cf93f33b-b95f-4915-9041-cafc02d7529f",
   "metadata": {},
   "outputs": [],
   "source": []
  },
  {
   "cell_type": "code",
   "execution_count": null,
   "id": "b8a0a8b5-4512-44e5-90bc-bd6669c66083",
   "metadata": {},
   "outputs": [],
   "source": []
  },
  {
   "cell_type": "code",
   "execution_count": null,
   "id": "1e910e02-503e-4c4a-9644-058cc38b20e8",
   "metadata": {},
   "outputs": [],
   "source": [
    "base_path = r\"C:\\\\Users\\\\kdmen\\\\Desktop\\\\Research\\\\personalization-privacy-risk\\\\Personalized_Federated_Learning\\\\results\\\\Deep576\\\\\"\n",
    "filenames = [\"12-05_11-37_CentralizedRNN_Flat\", \"12-05_12-18_CentralizedRNN_25rounds\", \"12-05_13-30_CentralizedRNN50_bs1_sl100\", \"12-05_14-09_CentralizedLSTM25_bs1_sl100\", \"12-05_15-22_CentralizedLinRegr25_nohypers\"]\n",
    "label_names = [\"Cent_RNN_bs32_sl1000_lr0p001\", \"Cent_RNN_bs32_sl1000_lr0p01\", \"Cent_RNN_bs1_sl100_lr0p1\", \"Cent_LSTM_bs1_sl100_lr0p1\", \"Cent_LinRegr_lr0p1\"]\n",
    "# This one was only 5 roudns so I removed it: \"12-05_12-27_CentralizedLSTM5\"\n",
    "h5filename = r\"\\\\Centralized_test.h5\"\n",
    "full_filepaths_lst = [base_path+f+h5filename for f in filenames]\n",
    "\n",
    "for f in full_filepaths_lst:\n",
    "    print(f)\n"
   ]
  },
  {
   "cell_type": "code",
   "execution_count": null,
   "id": "dedb1ccf-5f0b-4a87-a1ff-df7960eb1060",
   "metadata": {},
   "outputs": [],
   "source": [
    "train_losses_log = [0]*len(filenames)\n",
    "test_losses_log = [0]*len(filenames)\n",
    "\n",
    "for file_idx, file in enumerate(full_filepaths_lst):\n",
    "    with h5py.File(file, 'r') as f:\n",
    "        a_group_key = list(f.keys())\n",
    "        if file_idx==0:\n",
    "            print(a_group_key)\n",
    "        train_losses_log[file_idx] = f['rs_train_loss'][()]\n",
    "        test_losses_log[file_idx]  = f['rs_test_loss'][()]\n",
    "\n",
    "print(\"Complete\")"
   ]
  },
  {
   "cell_type": "code",
   "execution_count": null,
   "id": "34d126b6-ecec-4881-adbc-e796086a6091",
   "metadata": {},
   "outputs": [],
   "source": [
    "for cli_loss_idx in range(len(train_losses_log)):\n",
    "    plt.plot(range(len(train_losses_log[cli_loss_idx][:25])), train_losses_log[cli_loss_idx][:25], label=label_names[cli_loss_idx])\n",
    "plt.title(\"Train Losses\")\n",
    "plt.xlabel(\"Epoch\")\n",
    "plt.ylabel(\"Training Loss\")\n",
    "plt.legend()\n",
    "plt.show()"
   ]
  },
  {
   "cell_type": "code",
   "execution_count": null,
   "id": "a5bccfa9-b9d3-4a1d-b10f-ec4cd8228f76",
   "metadata": {},
   "outputs": [],
   "source": [
    "for cli_loss_idx in range(len(test_losses_log)):\n",
    "    plt.plot(range(25), test_losses_log[cli_loss_idx][:25], label=label_names[cli_loss_idx])\n",
    "plt.title(\"Test Losses\")\n",
    "plt.xlabel(\"Epoch\")\n",
    "plt.ylabel(\"Test Loss\")\n",
    "plt.legend()\n",
    "plt.show()"
   ]
  },
  {
   "cell_type": "code",
   "execution_count": null,
   "id": "b674c6a1-f390-4a02-8689-670ca2443cba",
   "metadata": {},
   "outputs": [],
   "source": [
    "my_title = 'Decoding Model Testing Error'\n",
    "legend_on = True\n",
    "axes_off_list = []\n",
    "input_linewidth = 3\n",
    "my_legend_loc = 'best'\n",
    "\n",
    "axes_font = {'family': 'serif', 'color':  'black', 'weight': 'normal', 'size': 16}\n",
    "title_font = {'family': 'serif', 'color':  'black', 'weight': 'normal', 'size': 22}\n",
    "\n",
    "# Create a figure and axes object\n",
    "fig, ax = plt.subplots(figsize=(9,7))  # Adjust the figsize based on your poster size\n",
    "\n",
    "# Define colors for plotting\n",
    "colors = {'GLOBAL': 'orange', 'LOCAL': 'darkorchid', 'PERS': 'blue'}\n",
    "\n",
    "for cli_loss_idx in range(len(test_losses_log)):\n",
    "    #plt.plot(range(25), test_losses_log[cli_loss_idx][:25], label=label_names[cli_loss_idx])\n",
    "    #ax.plot(scaled_step_indices[:-2], test_cost_df_FLSim_PCA10.iloc[-1, :-2], linewidth=input_linewidth, label=\"Averaged Local Models\", color='blue')\n",
    "    ax.plot(range(25), test_losses_log[cli_loss_idx][:25], label=label_names[cli_loss_idx], linewidth=input_linewidth)\n",
    "\n",
    "ax.set_ylabel('Cost Function Evaluation', fontdict=axes_font)  # Adjust font size\n",
    "ax.set_xlabel('Epoch', fontdict=axes_font)  # Adjust font size\n",
    "ax.set_title('Centralized Deep Models Performance', fontdict=title_font)\n",
    "\n",
    "#ax.set_title(my_title, fontsize=36)  # Adjust font size\n",
    "ax.set_ylim(-0.001, 0.5)\n",
    "#ax.set_xlim(0, 600)\n",
    "\n",
    "#xtick_positions = np.arange(0, 601, 100)\n",
    "#xtick_labels = [str(pos) for pos in xtick_positions]  # Convert positions to strings\n",
    "tick_font = {'family': 'serif', 'color': 'black', 'weight': 'normal', 'size': 12}\n",
    "#plt.xticks(xtick_positions, xtick_labels, fontdict=tick_font)\n",
    "#ax1.set_xticklabels(xtick_labels, fontdict=tick_font)\n",
    "\n",
    "#ytick_positions = np.arange(0.002, 0.014, 0.002)\n",
    "#ytick_labels = [str(pos) for pos in ytick_positions]  # Convert positions to strings\n",
    "#plt.yticks(ytick_positions, ytick_labels, fontdict=tick_font)\n",
    "\n",
    "legend_font = {'family': 'serif', 'size': 12}\n",
    "ax.legend(loc='best', prop=legend_font)#, bbox_to_anchor=(0.2, 0.4))  # Adjust legend font size\n",
    "ax.spines[['right', 'top']].set_visible(False)\n",
    "\n",
    "plt.show()"
   ]
  },
  {
   "cell_type": "code",
   "execution_count": null,
   "id": "b52de149-5b61-4d8a-8c1d-16f0e389e5ab",
   "metadata": {},
   "outputs": [],
   "source": [
    "for cli_loss_idx in range(len(test_losses_log)):\n",
    "    plt.plot(range(25), test_losses_log[cli_loss_idx][:25], label=label_names[cli_loss_idx])\n",
    "plt.title(\"Test Losses\")\n",
    "plt.ylim(0, 0.5)\n",
    "plt.xlabel(\"Epoch\")\n",
    "plt.ylabel(\"Test Loss\")\n",
    "plt.legend()\n",
    "plt.show()"
   ]
  },
  {
   "cell_type": "code",
   "execution_count": null,
   "id": "1e878825-9b07-43a5-93b5-4eb750fd1da6",
   "metadata": {},
   "outputs": [],
   "source": [
    "for cli_loss_idx in range(len(test_losses_log)):\n",
    "    plt.plot(range(25), test_losses_log[cli_loss_idx][:25], label=label_names[cli_loss_idx])\n",
    "plt.title(\"Test Losses\")\n",
    "plt.ylim(-0.000005, 0.00005)\n",
    "plt.xlabel(\"Epoch\")\n",
    "plt.ylabel(\"Test Loss\")\n",
    "plt.legend()\n",
    "plt.show()"
   ]
  },
  {
   "cell_type": "code",
   "execution_count": null,
   "id": "a8a277d9-16cb-4097-b9d5-999582501efb",
   "metadata": {},
   "outputs": [],
   "source": []
  }
 ],
 "metadata": {
  "kernelspec": {
   "display_name": "Python 3 (ipykernel)",
   "language": "python",
   "name": "python3"
  },
  "language_info": {
   "codemirror_mode": {
    "name": "ipython",
    "version": 3
   },
   "file_extension": ".py",
   "mimetype": "text/x-python",
   "name": "python",
   "nbconvert_exporter": "python",
   "pygments_lexer": "ipython3",
   "version": "3.10.12"
  }
 },
 "nbformat": 4,
 "nbformat_minor": 5
}
