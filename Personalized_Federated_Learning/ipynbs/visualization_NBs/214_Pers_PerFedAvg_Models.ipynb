{
 "cells": [
  {
   "cell_type": "code",
   "execution_count": 1,
   "id": "801a6ae9",
   "metadata": {},
   "outputs": [],
   "source": [
    "import numpy as np\n",
    "import h5py\n",
    "import torch\n",
    "import os\n",
    "import matplotlib.pyplot as plt"
   ]
  },
  {
   "cell_type": "code",
   "execution_count": 16,
   "id": "854d51f3-84d6-4057-ae4f-e004b1f93be2",
   "metadata": {},
   "outputs": [],
   "source": [
    "IDs = ['METACPHS_S106', 'METACPHS_S107', 'METACPHS_S108', 'METACPHS_S109', 'METACPHS_S110', 'METACPHS_S111', 'METACPHS_S112', 'METACPHS_S113', 'METACPHS_S114', 'METACPHS_S115', 'METACPHS_S116', 'METACPHS_S117', 'METACPHS_S118', 'METACPHS_S119']"
   ]
  },
  {
   "cell_type": "code",
   "execution_count": 19,
   "id": "47308126",
   "metadata": {},
   "outputs": [
    {
     "name": "stdout",
     "output_type": "stream",
     "text": [
      "['client_testing_logs', 'cost_func_tuples_by_client', 'curr_live_rs_test_loss', 'gradient_norm_lists_by_client', 'prev_live_rs_test_loss', 'rs_test_loss', 'rs_train_loss', 'unseen_live_rs_test_loss']\n",
      "\n",
      "<HDF5 group \"/client_testing_logs\" (14 members)>\n"
     ]
    }
   ],
   "source": [
    "# PerFedAvg 1/12/24\n",
    "h5_path = r\"C:\\Users\\kdmen\\Desktop\\Research\\personalization-privacy-risk\\Personalized_Federated_Learning\\results\\01-12_15-10_Seq_PerAvg_LinRegr1000\"\n",
    "h5_file_name = r\"PerAvg_test.h5\"\n",
    "with h5py.File(os.path.join(h5_path, h5_file_name), 'r') as f:\n",
    "    a_group_key = list(f.keys())[0]\n",
    "    print(list(f.keys()))\n",
    "    client_list = list(f[a_group_key])\n",
    "    group = f[a_group_key]\n",
    "    print()\n",
    "    print(group)\n",
    "    rs_train_loss_GROUP = f['rs_train_loss']\n",
    "    seqperavg1000_train_loss = rs_train_loss_GROUP[()]\n",
    "    rs_test_loss_GROUP = f['rs_test_loss']\n",
    "    seqperavg1000_test_loss = rs_test_loss_GROUP[()]\n",
    "    seqperavg1000_client_testing_logs = f['client_testing_logs']\n",
    "    S106_arr = (np.array(seqperavg1000_client_testing_logs[IDs[0]]))\n"
   ]
  },
  {
   "cell_type": "code",
   "execution_count": 20,
   "id": "2c002dbb-8ec9-4e05-b086-cb6e402ba2e3",
   "metadata": {},
   "outputs": [
    {
     "data": {
      "text/plain": [
       "array([1.86571479e-03, 1.48072315e-03, 1.28159090e-03, ...,\n",
       "       2.82491874e-05, 2.81901757e-05, 2.81313096e-05])"
      ]
     },
     "execution_count": 20,
     "metadata": {},
     "output_type": "execute_result"
    }
   ],
   "source": [
    "S106_arr"
   ]
  },
  {
   "cell_type": "code",
   "execution_count": 21,
   "id": "c735d936-a0e8-439b-ac42-6e3ab2636001",
   "metadata": {},
   "outputs": [
    {
     "data": {
      "text/plain": [
       "(1001,)"
      ]
     },
     "execution_count": 21,
     "metadata": {},
     "output_type": "execute_result"
    }
   ],
   "source": [
    "S106_arr.shape"
   ]
  },
  {
   "cell_type": "code",
   "execution_count": 22,
   "id": "aacde07d-a6d7-4624-8610-72775f4d3f05",
   "metadata": {},
   "outputs": [
    {
     "data": {
      "text/plain": [
       "array([2.86666755e-05, 2.86065615e-05, 2.85466058e-05, 2.84868065e-05,\n",
       "       2.84271700e-05, 2.83676854e-05, 2.83083591e-05, 2.82491874e-05,\n",
       "       2.81901757e-05, 2.81313096e-05])"
      ]
     },
     "execution_count": 22,
     "metadata": {},
     "output_type": "execute_result"
    }
   ],
   "source": [
    "S106_arr[-10:]"
   ]
  },
  {
   "cell_type": "code",
   "execution_count": 23,
   "id": "25b2b226-6160-47a1-880b-738dde1e6093",
   "metadata": {},
   "outputs": [
    {
     "data": {
      "text/plain": [
       "[<matplotlib.lines.Line2D at 0x27adede9960>]"
      ]
     },
     "execution_count": 23,
     "metadata": {},
     "output_type": "execute_result"
    },
    {
     "data": {
      "image/png": "[encoded data removed]",
      "text/plain": [
       "<Figure size 640x480 with 1 Axes>"
      ]
     },
     "metadata": {},
     "output_type": "display_data"
    }
   ],
   "source": [
    "plt.plot(S106_arr)"
   ]
  },
  {
   "cell_type": "markdown",
   "id": "8f7d7fee-4fae-4456-9bf9-b7282d5d58c6",
   "metadata": {},
   "source": [
    "1. In what function does client_testing_log get written to?\n",
    "    1. client_base.test_metrics(), directly after shared_loss_calc, saves the averaged version\n",
    "    2. It uses self.model in the client file, therefore this is the \"local\" personalized model\n",
    "1. How does it get combined and saved by the server?\n",
    "2. So where does the global model get trained/tested? Does it get either/both? Where is this called out? In FedAvg files or?\n",
    "    1. Maybe this is why the global model instabilities disappeared... have I only been visualizing the local model performance?\n"
   ]
  },
  {
   "cell_type": "code",
   "execution_count": null,
   "id": "ab60d8ad-b325-4d80-986e-2a286471b7f0",
   "metadata": {},
   "outputs": [],
   "source": []
  },
  {
   "cell_type": "code",
   "execution_count": null,
   "id": "30e1003f-03cd-4da8-98c6-75f8cf3dfb01",
   "metadata": {},
   "outputs": [],
   "source": []
  },
  {
   "cell_type": "code",
   "execution_count": null,
   "id": "3269caec-bade-4d7c-bf46-e75ca4f86ec9",
   "metadata": {},
   "outputs": [],
   "source": []
  },
  {
   "cell_type": "code",
   "execution_count": null,
   "id": "09f3f9a7-e251-43f6-994c-906ced4c668c",
   "metadata": {},
   "outputs": [],
   "source": []
  },
  {
   "cell_type": "code",
   "execution_count": null,
   "id": "893c467c-f40f-4d96-bd2b-9bd82d0de7d8",
   "metadata": {},
   "outputs": [],
   "source": []
  },
  {
   "cell_type": "code",
   "execution_count": null,
   "id": "81b2e668-43af-4d78-ac40-4fc4ae753289",
   "metadata": {},
   "outputs": [],
   "source": []
  },
  {
   "cell_type": "code",
   "execution_count": null,
   "id": "63ce2cb6-c432-49b7-ba6a-f185734e5452",
   "metadata": {},
   "outputs": [],
   "source": []
  },
  {
   "cell_type": "code",
   "execution_count": null,
   "id": "5b847afa-2fd5-4e15-a452-d614eff7c5a2",
   "metadata": {},
   "outputs": [],
   "source": []
  },
  {
   "cell_type": "code",
   "execution_count": null,
   "id": "7c27f545-65f4-4e4d-b8e3-3a47cbe97a7a",
   "metadata": {},
   "outputs": [],
   "source": []
  },
  {
   "cell_type": "code",
   "execution_count": null,
   "id": "c9c13178-2ab1-4a3f-9aa7-3b00c17e3839",
   "metadata": {},
   "outputs": [],
   "source": []
  },
  {
   "cell_type": "code",
   "execution_count": null,
   "id": "675f3345-af3e-4ff9-b989-25b2e55e37f0",
   "metadata": {},
   "outputs": [],
   "source": []
  },
  {
   "cell_type": "code",
   "execution_count": null,
   "id": "123af904-ca30-45ea-90af-e6fc02e4d0c4",
   "metadata": {},
   "outputs": [],
   "source": []
  },
  {
   "cell_type": "code",
   "execution_count": null,
   "id": "cfe1e777-1ea3-48c4-a9e7-1198ea5a2fd0",
   "metadata": {},
   "outputs": [],
   "source": []
  },
  {
   "cell_type": "code",
   "execution_count": null,
   "id": "50655c68-2513-463f-930a-0f7fa9b679d0",
   "metadata": {},
   "outputs": [],
   "source": []
  },
  {
   "cell_type": "code",
   "execution_count": null,
   "id": "789b54de-e8e0-40f1-abf3-b07c0e01bbe3",
   "metadata": {},
   "outputs": [],
   "source": []
  },
  {
   "cell_type": "code",
   "execution_count": null,
   "id": "c532aa3b-ccc3-46c1-91ff-eebc6ce19527",
   "metadata": {},
   "outputs": [],
   "source": [
    "plt.plot(range(len(Blocal100_train_loss)), Blocal100_train_loss, label='B: Local')\n",
    "plt.plot(range(len(Bfedavg100_train_loss)), Bfedavg100_train_loss, label='B: FedAvg')\n",
    "plt.plot(range(len(Bapfl100_train_loss)), Bapfl100_train_loss, label='B: APFL')\n",
    "plt.title(\"rs_train_loss (averaged over all clients)\")\n",
    "plt.xlabel(\"Training Round\")\n",
    "plt.ylabel(\"Training Loss\")\n",
    "plt.legend()\n",
    "plt.show()"
   ]
  },
  {
   "cell_type": "code",
   "execution_count": null,
   "id": "d9eeafd9-7cdb-43f6-94c2-6c79ee0da6d9",
   "metadata": {},
   "outputs": [],
   "source": []
  },
  {
   "cell_type": "code",
   "execution_count": null,
   "id": "57bf53d7-ce4b-467c-9cec-19945c76aee0",
   "metadata": {},
   "outputs": [],
   "source": []
  },
  {
   "cell_type": "code",
   "execution_count": null,
   "id": "cc5c543c-197f-4e2a-8ea8-5eb69310d00f",
   "metadata": {},
   "outputs": [],
   "source": [
    "\n",
    "# FEDVG\n",
    "h5_path = r\"C:\\Users\\kdmen\\Desktop\\Research\\personalization-privacy-risk\\Personalized_Federated_Learning\\results\\08-14_22-14_FedAvg100_BS601\"\n",
    "h5_file_name = r\"cphs_FedAvg_test.h5\"\n",
    "with h5py.File(os.path.join(h5_path, h5_file_name), 'r') as f:\n",
    "    a_group_key = list(f.keys())[0]\n",
    "    client_list = list(f[a_group_key])\n",
    "    group = f[a_group_key]\n",
    "    rs_train_loss_GROUP = f['rs_train_loss']\n",
    "    Bfedavg100_train_loss = rs_train_loss_GROUP[()]\n",
    "    rs_test_loss_GROUP = f['rs_test_loss']\n",
    "    Bfedavg100_test_loss = rs_test_loss_GROUP[()]\n",
    "    \n",
    "# APFL\n",
    "h5_path = r\"C:\\Users\\kdmen\\Desktop\\Research\\personalization-privacy-risk\\Personalized_Federated_Learning\\results\\08-14_22-24_APFL100_BS601\"\n",
    "h5_file_name = r\"cphs_APFL_test.h5\"\n",
    "with h5py.File(os.path.join(h5_path, h5_file_name), 'r') as f:\n",
    "    a_group_key = list(f.keys())[0]\n",
    "    client_list = list(f[a_group_key])\n",
    "    group = f[a_group_key]\n",
    "    rs_train_loss_GROUP = f['rs_train_loss']\n",
    "    Bapfl100_train_loss = rs_train_loss_GROUP[()]\n",
    "    rs_test_loss_GROUP = f['rs_test_loss']\n",
    "    Bapfl100_test_loss = rs_test_loss_GROUP[()]\n",
    "######################################################   \n",
    "\n",
    "plt.plot(range(len(Blocal100_train_loss)), Blocal100_train_loss, label='B: Local')\n",
    "plt.plot(range(len(Bfedavg100_train_loss)), Bfedavg100_train_loss, label='B: FedAvg')\n",
    "plt.plot(range(len(Bapfl100_train_loss)), Bapfl100_train_loss, label='B: APFL')\n",
    "plt.title(\"rs_train_loss (averaged over all clients)\")\n",
    "plt.xlabel(\"Training Round\")\n",
    "plt.ylabel(\"Training Loss\")\n",
    "plt.legend()\n",
    "plt.show()\n",
    "\n",
    "plt.plot(range(len(Blocal100_train_loss)), Blocal100_train_loss, label='B: Local')\n",
    "plt.plot(range(len(Bfedavg100_train_loss)), Bfedavg100_train_loss, label='B: FedAvg')\n",
    "plt.plot(range(len(Bapfl100_train_loss)), Bapfl100_train_loss, label='B: APFL')\n",
    "plt.title(\"rs_test_loss (averaged over all clients)\")\n",
    "plt.xlabel(\"Training Round\")\n",
    "plt.ylabel(\"Test Loss\")\n",
    "plt.legend()\n",
    "plt.show()"
   ]
  },
  {
   "cell_type": "code",
   "execution_count": null,
   "id": "3f420155",
   "metadata": {},
   "outputs": [],
   "source": []
  },
  {
   "cell_type": "code",
   "execution_count": 5,
   "id": "534d8b00",
   "metadata": {},
   "outputs": [
    {
     "name": "stdout",
     "output_type": "stream",
     "text": [
      "f.keys(): <KeysViewHDF5 ['cost_func_tuples_by_client', 'gradient_norm_lists_by_client', 'rs_test_loss', 'rs_train_loss']>\n",
      "a_group_key: cost_func_tuples_by_client\n"
     ]
    }
   ],
   "source": [
    "# FEDVG\n",
    "h5_path = r\"C:\\Users\\kdmen\\Desktop\\Research\\personalization-privacy-risk\\Personalized_Federated_Learning\\results\\08-14_22-14_FedAvg100_BS601\"\n",
    "h5_file_name = r\"cphs_FedAvg_test.h5\"\n",
    "with h5py.File(os.path.join(h5_path, h5_file_name), 'r') as f:\n",
    "    a_group_key = list(f.keys())[0]\n",
    "    print(f\"f.keys(): {f.keys()}\")\n",
    "    print(f\"a_group_key: {list(f.keys())[0]}\")\n",
    "    client_list = list(f[a_group_key])\n",
    "    group = f[a_group_key]\n",
    "    rs_train_loss_GROUP = f['rs_train_loss']\n",
    "    Bfedavg100_train_loss = rs_train_loss_GROUP[()]\n",
    "    rs_test_loss_GROUP = f['rs_test_loss']\n",
    "    Bfedavg100_test_loss = rs_test_loss_GROUP[()]"
   ]
  },
  {
   "cell_type": "code",
   "execution_count": 6,
   "id": "d1077bb0",
   "metadata": {},
   "outputs": [
    {
     "name": "stdout",
     "output_type": "stream",
     "text": [
      "f.keys(): <KeysViewHDF5 ['rs_test_loss', 'rs_train_loss']>\n",
      "a_group_key: rs_test_loss\n"
     ]
    }
   ],
   "source": [
    "# APFL\n",
    "h5_path = r\"C:\\Users\\kdmen\\Desktop\\Research\\personalization-privacy-risk\\Personalized_Federated_Learning\\results\\08-14_22-24_APFL100_BS601\"\n",
    "h5_file_name = r\"cphs_APFL_test.h5\"\n",
    "with h5py.File(os.path.join(h5_path, h5_file_name), 'r') as f:\n",
    "    a_group_key = list(f.keys())[0]\n",
    "    print(f\"f.keys(): {f.keys()}\")\n",
    "    print(f\"a_group_key: {list(f.keys())[0]}\")\n",
    "    client_list = list(f[a_group_key])\n",
    "    group = f[a_group_key]\n",
    "    rs_train_loss_GROUP = f['rs_train_loss']\n",
    "    Bapfl100_train_loss = rs_train_loss_GROUP[()]\n",
    "    rs_test_loss_GROUP = f['rs_test_loss']\n",
    "    Bapfl100_test_loss = rs_test_loss_GROUP[()]"
   ]
  },
  {
   "cell_type": "code",
   "execution_count": null,
   "id": "8270ebd8",
   "metadata": {},
   "outputs": [],
   "source": []
  },
  {
   "cell_type": "code",
   "execution_count": null,
   "id": "907d9552",
   "metadata": {},
   "outputs": [],
   "source": []
  },
  {
   "cell_type": "code",
   "execution_count": null,
   "id": "02119dee",
   "metadata": {},
   "outputs": [],
   "source": []
  }
 ],
 "metadata": {
  "kernelspec": {
   "display_name": "Python 3 (ipykernel)",
   "language": "python",
   "name": "python3"
  },
  "language_info": {
   "codemirror_mode": {
    "name": "ipython",
    "version": 3
   },
   "file_extension": ".py",
   "mimetype": "text/x-python",
   "name": "python",
   "nbconvert_exporter": "python",
   "pygments_lexer": "ipython3",
   "version": "3.10.12"
  }
 },
 "nbformat": 4,
 "nbformat_minor": 5
}
