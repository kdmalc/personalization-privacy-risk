{
 "cells": [
  {
   "cell_type": "code",
   "execution_count": 13,
   "id": "2ff404f8",
   "metadata": {},
   "outputs": [],
   "source": [
    "import argparse\n",
    "from main import *\n",
    "import copy"
   ]
  },
  {
   "cell_type": "code",
   "execution_count": 14,
   "id": "f0d05a74",
   "metadata": {},
   "outputs": [],
   "source": [
    "#path_to_main = r'C:\\Users\\kdmen\\Desktop\\Research\\personalization-privacy-risk\\Personalized_Federated_Learning'\n",
    "#full_main = r'C:\\Users\\kdmen\\Desktop\\Research\\personalization-privacy-risk\\Personalized_Federated_Learning\\main.py'\n",
    "#%run C:\\Users\\kdmen\\Desktop\\Research\\personalization-privacy-risk\\Personalized_Federated_Learning\\main.py"
   ]
  },
  {
   "cell_type": "code",
   "execution_count": 15,
   "id": "674f2423",
   "metadata": {},
   "outputs": [
    {
     "data": {
      "text/plain": [
       "Namespace(goal='test', device='cpu', device_id='0', dataset='cphs', model=Linear(in_features=10, out_features=2, bias=True), batch_size=1202, local_learning_rate=1, learning_rate_decay=False, learning_rate_decay_gamma=0.99, global_rounds=100, local_epochs=3, algorithm='FedAvg', join_ratio=0.3, random_join_ratio=False, privacy=False, dp_sigma=0.0, save_folder_name='items', eval_gap=1, prev=0, times=1, auto_break=False, dlg_eval=False, dlg_gap=100, batch_num_per_client=None, new_clients_ID_lst=[], fine_tuning_epoch=0, client_drop_rate=0.0, train_slow_rate=0.0, send_slow_rate=0.0, time_select=False, time_threshold=10000, loss_threshold=10000, beta=0.0, lamda=1.0, mu=0, K=5, p_learning_rate=0.01, alpha=1.0, plocal_steps=1, itk=4000, pca_channels=10, lambdaF=0.0, lambdaD=0.001, lambdaE=0.0001, starting_update=10, test_split_fraction=0.2, test_split_each_update=False, test_split_users=False, test_subj_IDs=[], device_channels=64, dt=0.016666666666666666, normalize_data=True, local_round_threshold=50, debug_mode=False, condition_number_lst=[1], train_subj_IDs=['METACPHS_S106', 'METACPHS_S107', 'METACPHS_S108', 'METACPHS_S109', 'METACPHS_S110', 'METACPHS_S111', 'METACPHS_S112', 'METACPHS_S113', 'METACPHS_S114', 'METACPHS_S115', 'METACPHS_S116', 'METACPHS_S117', 'METACPHS_S118', 'METACPHS_S119'], verbose=False, slow_clients_bool=False, return_cost_func_comps=True, linear_model_bias=True, num_decimal_points=5, run_train_metrics=True, sequential=False, live_clients='[]', static_clients='[]', static_vs_live_weighting=0.75, prev_model_directory='')"
      ]
     },
     "execution_count": 15,
     "metadata": {},
     "output_type": "execute_result"
    }
   ],
   "source": [
    "args"
   ]
  },
  {
   "cell_type": "code",
   "execution_count": 16,
   "id": "232d0d77",
   "metadata": {},
   "outputs": [
    {
     "data": {
      "text/plain": [
       "Namespace(goal='test', device='cpu', device_id='0', dataset='cphs', model=Linear(in_features=10, out_features=2, bias=True), batch_size=1202, local_learning_rate=1, learning_rate_decay=False, learning_rate_decay_gamma=0.99, global_rounds=100, local_epochs=3, algorithm='FedAvg', join_ratio=0.3, random_join_ratio=False, privacy=False, dp_sigma=0.0, save_folder_name='items', eval_gap=1, prev=0, times=1, auto_break=False, dlg_eval=False, dlg_gap=100, batch_num_per_client=None, new_clients_ID_lst=[], fine_tuning_epoch=0, client_drop_rate=0.0, train_slow_rate=0.0, send_slow_rate=0.0, time_select=False, time_threshold=10000, loss_threshold=10000, beta=0.0, lamda=1.0, mu=0, K=5, p_learning_rate=0.01, alpha=1.0, plocal_steps=1, itk=4000, pca_channels=10, lambdaF=0.0, lambdaD=0.001, lambdaE=0.0001, starting_update=10, test_split_fraction=0.2, test_split_each_update=False, test_split_users=False, test_subj_IDs=[], device_channels=64, dt=0.016666666666666666, normalize_data=True, local_round_threshold=50, debug_mode=False, condition_number_lst=[1], train_subj_IDs=['METACPHS_S106', 'METACPHS_S107', 'METACPHS_S108', 'METACPHS_S109', 'METACPHS_S110', 'METACPHS_S111', 'METACPHS_S112', 'METACPHS_S113', 'METACPHS_S114', 'METACPHS_S115', 'METACPHS_S116', 'METACPHS_S117', 'METACPHS_S118', 'METACPHS_S119'], verbose=False, slow_clients_bool=False, return_cost_func_comps=True, linear_model_bias=True, num_decimal_points=5, run_train_metrics=True, sequential=False, live_clients='[]', static_clients='[]', static_vs_live_weighting=0.75, prev_model_directory='')"
      ]
     },
     "execution_count": 16,
     "metadata": {},
     "output_type": "execute_result"
    }
   ],
   "source": [
    "vanilla_fedavg_args = copy.deepcopy(args)\n",
    "vanilla_local_args = copy.deepcopy(args)\n",
    "seq_args = copy.deepcopy(args)"
   ]
  },
  {
   "cell_type": "code",
   "execution_count": null,
   "id": "2ec8f946",
   "metadata": {},
   "outputs": [],
   "source": [
    "## SEQUENTIAL TRAINING PARAMS\n",
    "seq_args.sequential = True\n",
    "# Setting S106 as the live client\n",
    "seq_args.live_clients = ['METACPHS_S106']\n",
    "seq_args.static_clients = ['METACPHS_S107', 'METACPHS_S108', 'METACPHS_S109', 'METACPHS_S110', 'METACPHS_S111', 'METACPHS_S112', 'METACPHS_S113', 'METACPHS_S114', 'METACPHS_S115', 'METACPHS_S116', 'METACPHS_S117', 'METACPHS_S118', 'METACPHS_S119']\n",
    "seq_args.static_vs_live_weighting = 0.75\n",
    "#seq_args.prev_model_directory --> Can just use the default, although it is kinda broken"
   ]
  },
  {
   "cell_type": "code",
   "execution_count": null,
   "id": "47f11b8b",
   "metadata": {},
   "outputs": [],
   "source": [
    "#def load_item(self, item_name):\n",
    "#    return torch.load(os.path.join(self.save_folder_name, \"server_\" + item_name + \".pt\"))"
   ]
  },
  {
   "cell_type": "markdown",
   "id": "b90e9a88",
   "metadata": {},
   "source": [
    "Fix the global model saving, idk where it is going...\n",
    "- I think I found it, but where is the existing one (not in a directory) coming from?"
   ]
  },
  {
   "cell_type": "markdown",
   "id": "bad33591",
   "metadata": {},
   "source": [
    "Devise scheme for always selecting live clients, although may depend on how many there are. IRL only one but maybe sims should support more than 1 live at once? idk"
   ]
  },
  {
   "cell_type": "code",
   "execution_count": null,
   "id": "4f097f9b",
   "metadata": {},
   "outputs": [],
   "source": []
  },
  {
   "cell_type": "code",
   "execution_count": null,
   "id": "d52dc345",
   "metadata": {},
   "outputs": [],
   "source": []
  },
  {
   "cell_type": "code",
   "execution_count": null,
   "id": "350f8a6c",
   "metadata": {},
   "outputs": [],
   "source": []
  },
  {
   "cell_type": "code",
   "execution_count": null,
   "id": "4cba264b",
   "metadata": {},
   "outputs": [],
   "source": []
  },
  {
   "cell_type": "code",
   "execution_count": null,
   "id": "555abc4f",
   "metadata": {},
   "outputs": [],
   "source": []
  }
 ],
 "metadata": {
  "kernelspec": {
   "display_name": "Python 3 (ipykernel)",
   "language": "python",
   "name": "python3"
  },
  "language_info": {
   "codemirror_mode": {
    "name": "ipython",
    "version": 3
   },
   "file_extension": ".py",
   "mimetype": "text/x-python",
   "name": "python",
   "nbconvert_exporter": "python",
   "pygments_lexer": "ipython3",
   "version": "3.10.10"
  }
 },
 "nbformat": 4,
 "nbformat_minor": 5
}
