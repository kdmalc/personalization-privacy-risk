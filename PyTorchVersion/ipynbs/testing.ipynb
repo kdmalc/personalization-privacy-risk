{
 "cells": [
  {
   "cell_type": "code",
   "execution_count": 8,
   "id": "86225b79-4c78-4f27-a0fe-b14c06f92e5c",
   "metadata": {},
   "outputs": [
    {
     "name": "stdout",
     "output_type": "stream",
     "text": [
      "S107\n",
      "['S101', 'S102', 'S103', 'S104', 'S105', 'S106', 'S107', 'S108', 'S109']\n",
      "Subject ID S107 found in the list!\n"
     ]
    }
   ],
   "source": [
    "subject_ids_list = ['METACPHS_S101', 'METACPHS_S102', 'METACPHS_S103', 'METACPHS_S104', 'METACPHS_S105', 'METACPHS_S106', 'METACPHS_S107', 'METACPHS_S108', 'METACPHS_S109']\n",
    "string_to_compare = \"S107_Labels_8by20770by2\"\n",
    "\n",
    "# Extract the subject ID from the string\n",
    "subject_id = string_to_compare.split('_')[0]\n",
    "print(subject_id)\n",
    "\n",
    "sIDs_only_lst = [fullID.split('_')[1] for fullID in subject_ids_list]\n",
    "print(sIDs_only_lst)\n",
    "\n",
    "# Check if the subject ID is in the list\n",
    "if subject_id in sIDs_only_lst:\n",
    "    # Implement your logic here\n",
    "    print(f\"Subject ID {subject_id} found in the list!\")\n",
    "else:\n",
    "    print(f\"Subject ID {subject_id} not found in the list.\")"
   ]
  },
  {
   "cell_type": "code",
   "execution_count": null,
   "id": "d840a38c-e512-40fd-bc06-42ee04558c6b",
   "metadata": {},
   "outputs": [],
   "source": []
  }
 ],
 "metadata": {
  "kernelspec": {
   "display_name": "Python 3 (ipykernel)",
   "language": "python",
   "name": "python3"
  },
  "language_info": {
   "codemirror_mode": {
    "name": "ipython",
    "version": 3
   },
   "file_extension": ".py",
   "mimetype": "text/x-python",
   "name": "python",
   "nbconvert_exporter": "python",
   "pygments_lexer": "ipython3",
   "version": "3.10.12"
  }
 },
 "nbformat": 4,
 "nbformat_minor": 5
}
