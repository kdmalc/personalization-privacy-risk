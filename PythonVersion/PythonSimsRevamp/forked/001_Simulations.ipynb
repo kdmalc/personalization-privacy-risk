{
 "cells": [
  {
   "cell_type": "markdown",
   "id": "fa4ab2c7-1a6f-461b-bfd5-b2ba168e49b5",
   "metadata": {},
   "source": [
    "# discrete offline analysis to optimize settings"
   ]
  },
  {
   "cell_type": "code",
   "execution_count": 1,
   "id": "014cd146-e801-4dce-8849-8d5c3a06acbd",
   "metadata": {},
   "outputs": [],
   "source": [
    "# need to do filtering to get the filtered EMG signals from raw EMG signals \n",
    "def filter_signal(raw_signal, mean_flag = True):\n",
    "    \"\"\"\n",
    "    generic function that filters the raw signal\n",
    "    Args:\n",
    "        raw_signal [num of sensors x number of samples ]\n",
    "    Returns:\n",
    "        filtered_signal [num of sensors x number of samples] if mean_flag is False otherwise; [num of sensors x 1]\n",
    "    \"\"\"\n",
    "\n",
    "    # mean_flag = False, we want all the data, not the averaged data\n",
    "    filtered_signal = filt_delinearize(raw_signal, mean_flag=mean_flag)\n",
    "\n",
    "    return filtered_signal\n",
    "    \n",
    "# high and low pass filtering with FIR filters\n",
    "def filt_fir(emg_raw, mean_flag = True):\n",
    "    \"\"\"\n",
    "    inputs: \n",
    "    emg_raw: the raw EMG signal to perform the RMS filtering on\n",
    "    mean_flag[bool]: True, final output will be taken average, otherwise, not\n",
    "\n",
    "    output:\n",
    "    emg_filt: filtered EMG signal\n",
    "    \"\"\"\n",
    "    fs = 2048\n",
    "    taps_lp = firwin(numtaps=31,cutoff=40,fs=fs,pass_zero='lowpass')\n",
    "    taps_hp = firwin(numtaps=31,cutoff=40,fs=fs,pass_zero='highpass')\n",
    "\n",
    "    emg_hp = lfilter(taps_hp, 1.0, emg_raw)\n",
    "    emg_rect = abs(emg_hp)\n",
    "    emg_lp = lfilter(taps_lp,1.0,emg_rect)\n",
    "    emg_filt = np.mean(abs(emg_lp),axis=1)  \n",
    "\n",
    "    return emg_filt\n",
    "\n",
    "# delinearize filter\n",
    "def filt_delinearize(emg_raw, mean_flag = True):\n",
    "    \"\"\"\n",
    "    inputs:\n",
    "    emg_raw: the raw EMG signal to perform the RMS filtering on\n",
    "    output:\n",
    "    emg_filt: filtered EMG signal\n",
    "    \"\"\"\n",
    "    # emg_raw = abs(np.asarray(emg_raw))\n",
    "    wN = emg_raw.shape[1]\n",
    "    # DETREND FIRST HALF OF DATA BEFORE TAKING AVERAGE (TODO: ask Momona about this)\n",
    "    data1 = detrend(emg_raw[:,:int(wN/2)], axis=1,type='linear')\n",
    "    data2 = detrend(emg_raw[:,int(wN/2):], axis=1,type='linear')\n",
    "    datanew = np.concatenate((data1,data2),axis=1)\n",
    "    emg_filt = np.mean(abs(datanew),axis=1)\n",
    "    return emg_filt\n",
    "\n",
    "# set up gradient of cost:\n",
    "# d(c_L2(D))/d(D) = 2*(DF + HV - V+)*F.T + 2*alphaD*D\n",
    "def gradient_cost_l2(F, D, H, V, alphaF=1e-2, alphaD=1e-2):\n",
    "    '''\n",
    "    F: 64 channels x time EMG signals\n",
    "    V: 2 x time target velocity\n",
    "    D: 2 (x y vel) x 64 channels decoder # TODO: we now have a timeseries component - consult Sam\n",
    "    H: 2 x 2 state transition matrix\n",
    "    ''' \n",
    "    Nd = 2\n",
    "    Ne = 64\n",
    "    Nt = learning_batch\n",
    "\n",
    "    # TODO: add depth (time) to D\n",
    "    D = np.reshape(D,(Nd, Ne))\n",
    "    Vplus = V[:,1:]\n",
    "    Vminus = V[:,:-1]\n",
    "\n",
    "    return ((2 * (D@F + H@Vminus - Vplus) @ F.T / (Nd*Nt) \n",
    "        + 2 * alphaD * D / (Nd*Ne)).flatten())\n",
    "\n",
    "# set up gradient of cost:\n",
    "# d(c_L2(D))/d(D) = 2*(DF + HV - V+)*F.T + 2*alphaD*D\n",
    "def gradient_cost_l2_discrete(F, D, H, V, alphaF=1e-2, alphaD=1e-2):\n",
    "    '''\n",
    "    F: 64 channels x time EMG signals\n",
    "    V: 2 x time target velocity\n",
    "    D: 2 (x y vel) x 64 channels decoder # TODO: we now have a timeseries component - consult Sam\n",
    "    H: 2 x 2 state transition matrix\n",
    "    ''' \n",
    "    Nd = 2\n",
    "    Ne = 64\n",
    "    Nt = learning_batch\n",
    "\n",
    "    # TODO: add depth (time) to D\n",
    "    D = np.reshape(D,(Nd, Ne))\n",
    "    Vplus = V[:,1:]\n",
    "    Vminus = V[:,:-1]\n",
    "    v_unbounded = D@F\n",
    "    theta = np.arctan2(v_unbounded[1],v_unbounded[0])\n",
    "    v_actual = np.asarray([10*np.cos(theta),10*np.sin(theta)])\n",
    "    return ((2 * (v_actual + H@Vminus - Vplus) @ F.T / (Nd*Nt) \n",
    "        + 2 * alphaD * D / (Nd*Ne)).flatten())\n",
    "        \n",
    "# set up the cost function: \n",
    "# c_L2 = (||DF + HV - V+||_2)^2 + alphaD*(||D||_2)^2 + alphaF*(||F||_2)^2\n",
    "def cost_l2_discrete(F, D, H, V, alphaF=1e-2, alphaD=1e-2):\n",
    "    '''\n",
    "    F: 64 channels x time EMG signals\n",
    "    V: 2 x time target velocity\n",
    "    D: 2 (x y vel) x 64 channels decoder\n",
    "    H: 2 x 2 state transition matrix\n",
    "    ''' \n",
    "    Nd = 2\n",
    "    Ne = 64 # default = 64\n",
    "    Nt = learning_batch\n",
    "    # TODO: add depth (time) to D\n",
    "    D = np.reshape(D,(Nd,Ne))\n",
    "    Vplus = V[:,1:]\n",
    "    Vminus = V[:,:-1]\n",
    "    v_unbounded = D@F\n",
    "    theta = np.arctan2(v_unbounded[1],v_unbounded[0])\n",
    "    v_actual = np.asarray([10*np.cos(theta),10*np.sin(theta)])\n",
    "    e = ( np.sum( (v_actual + H@Vminus - Vplus)**2 ) / (Nd*Nt) \n",
    "            + alphaD * np.sum( D**2 ) / (Nd*Ne)\n",
    "            + alphaF * np.sum( F**2 ) / (Ne*Nt) )\n",
    "    return e\n",
    "\n",
    "# set up the cost function: \n",
    "# c_L2 = (||DF + HV - V+||_2)^2 + alphaD*(||D||_2)^2 + alphaF*(||F||_2)^2\n",
    "def cost_l2(F, D, H, V, alphaF=1e-2, alphaD=1e-2):\n",
    "    '''\n",
    "    F: 64 channels x time EMG signals\n",
    "    V: 2 x time target velocity\n",
    "    D: 2 (x y vel) x 64 channels decoder\n",
    "    H: 2 x 2 state transition matrix\n",
    "    ''' \n",
    "    Nd = 2\n",
    "    Ne = 64 # default = 64\n",
    "    Nt = learning_batch\n",
    "    # TODO: add depth (time) to D\n",
    "    D = np.reshape(D,(Nd,Ne))\n",
    "    Vplus = V[:,1:]\n",
    "    Vminus = V[:,:-1]\n",
    "\n",
    "    e = ( np.sum( (D @ F + H@Vminus - Vplus)**2 ) / (Nd*Nt) \n",
    "            + alphaD * np.sum( D**2 ) / (Nd*Ne)\n",
    "            + alphaF * np.sum( F**2 ) / (Ne*Nt) )\n",
    "    return e\n",
    "\n",
    "def estimate_decoder(F, H, V):\n",
    "    return (V[:,1:]-H@V[:,:-1])@np.linalg.pinv(F)"
   ]
  },
  {
   "cell_type": "code",
   "execution_count": 4,
   "id": "a51e3f04-053a-425a-a870-0fcde563c4ab",
   "metadata": {},
   "outputs": [],
   "source": [
    "import h5py as h5\n",
    "import aopy \n",
    "import pandas as pd\n",
    "import os\n",
    "import numpy as np\n",
    "from numpy.matlib import repmat\n",
    "from matplotlib import pyplot as plt\n",
    "from scipy.signal import detrend, firwin, freqz, lfilter\n",
    "from sklearn.model_selection import train_test_split,ShuffleSplit\n",
    "import copy as copy\n",
    "from scipy.optimize import minimize,least_squares\n",
    "import copy\n",
    "from itertools import permutations"
   ]
  },
  {
   "cell_type": "code",
   "execution_count": 5,
   "id": "365f1d46",
   "metadata": {},
   "outputs": [
    {
     "name": "stdout",
     "output_type": "stream",
     "text": [
      "C:\\Users\\kdmen\\Desktop\\Research\\personalization-privacy-risk\n"
     ]
    }
   ],
   "source": [
    "print(os.getcwd())"
   ]
  },
  {
   "cell_type": "code",
   "execution_count": 4,
   "id": "55ddd2b6",
   "metadata": {},
   "outputs": [],
   "source": [
    "filename = \"weiner_discrete_task_data_META_S155834.h5\"\n",
    "\n",
    "# if you want to check to make sure file exists\n",
    "# from os.path import exists\n",
    "# file_exists = exists(filename)\n",
    "# print(file_exists)\n",
    "\n",
    "weiner_task_data, weiner_config = aopy.data.load_bmi3d_hdf_table(\"\", filename, 'weiner')"
   ]
  },
  {
   "cell_type": "markdown",
   "id": "4f054d55-7b6f-43fb-b0cc-a0502b3957e6",
   "metadata": {},
   "source": [
    "# extract data and save to pandas dataframe"
   ]
  },
  {
   "cell_type": "code",
   "execution_count": 113,
   "id": "916e23f6-b2a1-4fb8-b6c8-b76245c9d697",
   "metadata": {},
   "outputs": [
    {
     "name": "stdout",
     "output_type": "stream",
     "text": [
      "('timestamp', 'decoded_cursor_position', 'decoded_velocity', 'weiner_filter_w', 'weiner_filter_h', 'alpha', 'subject_id', 'decoder_id', 'raw_emg', 'filtered_emg', 'reference', 'cued_target_position')\n"
     ]
    }
   ],
   "source": [
    "weiner_task_data, weiner_config = aopy.data.load_bmi3d_hdf_table('',filename, 'weiner')\n",
    "f = weiner_task_data\n",
    "print(f.dtype.names) # get the names of the fields\n",
    "\n",
    "timestamp = f['timestamp']\n",
    "decoded_cursor_position = f['decoded_cursor_position']\n",
    "decoded_velocity = f['decoded_velocity']\n",
    "weiner_filter_w = f['weiner_filter_w']\n",
    "weiner_filter_h = f['weiner_filter_h']\n",
    "alpha = f['alpha']\n",
    "raw_emg = f['raw_emg']\n",
    "filtered_emg = f['filtered_emg']\n",
    "reference = f['reference']\n",
    "cued_target_position = f['cued_target_position']\n",
    "\n",
    "# change target positions to angle\n",
    "cued_angles = np.arctan2(cued_target_position[:,1], cued_target_position[:,0])\n",
    "cued_angles_classes = (cued_angles*2/np.pi+2.001).astype(int) # need to add that 0.001 so all the numbers can round down during int conversion"
   ]
  },
  {
   "cell_type": "code",
   "execution_count": 114,
   "id": "b7395bbc-545a-448d-9849-e86192bd82fc",
   "metadata": {},
   "outputs": [
    {
     "data": {
      "text/plain": [
       "Text(0, 0.5, 'voltages that are int idk')"
      ]
     },
     "execution_count": 114,
     "metadata": {},
     "output_type": "execute_result"
    },
    {
     "data": {
      "image/png": "[encoded data removed]",
      "text/plain": [
       "<Figure size 432x288 with 1 Axes>"
      ]
     },
     "metadata": {
      "needs_background": "light"
     },
     "output_type": "display_data"
    }
   ],
   "source": [
    "plt.plot(raw_emg[1,10,:])\n",
    "plt.title('raw data for one channel looks like EMG')\n",
    "plt.xlabel('num samples (over 1 sec)')\n",
    "plt.ylabel('voltages that are int idk')"
   ]
  },
  {
   "cell_type": "markdown",
   "id": "e00382b9",
   "metadata": {},
   "source": [
    "# preprocessing"
   ]
  },
  {
   "cell_type": "markdown",
   "id": "9eb297e4",
   "metadata": {},
   "source": [
    "## filter data \n",
    "\n",
    "raw EMG size is 50 trials x 64 channels x 2048 timepoints (1 second of data)\n",
    "\n",
    "filtered EMG size is 50 trials x 64 channels x 60 timepoints (1 second of data)\n",
    "\n",
    "- input (``raw_emg``): raw EMG (1 second sample)\n",
    "\n",
    "- output (``filtered_signals``): downsampled and filtered EMG signals at 60 Hz for 1 second"
   ]
  },
  {
   "cell_type": "code",
   "execution_count": 115,
   "id": "f8619e03",
   "metadata": {},
   "outputs": [],
   "source": [
    "# FILTER SIGNALS TO APPROPRIATE SIZE\n",
    "\n",
    "win_downsample = int(np.floor(raw_emg.shape[2]/2048*60))\n",
    "filtered_signals = np.zeros((50, 64,  win_downsample))\n",
    "window = np.floor(2048/60)\n",
    "for trial in range(1,raw_emg.shape[0]):\n",
    "    for ix in range(win_downsample - 1):\n",
    "        # window the signal\n",
    "        window_signal = raw_emg[trial,:,int(ix*window):int((ix+1)*window)]\n",
    "        # print(window_signal[0,0])\n",
    "        # filter the windowed signal\n",
    "        filtered_signal = filter_signal(window_signal)\n",
    "        filtered_signals[trial,:,ix] = np.squeeze(filtered_signal)\n",
    "        # print(filtered_signal)"
   ]
  },
  {
   "cell_type": "code",
   "execution_count": 116,
   "id": "741d4c48",
   "metadata": {},
   "outputs": [
    {
     "data": {
      "text/plain": [
       "Text(0, 0.5, 'voltages that are int idk')"
      ]
     },
     "execution_count": 116,
     "metadata": {},
     "output_type": "execute_result"
    },
    {
     "data": {
      "image/png": "[encoded data removed]",
      "text/plain": [
       "<Figure size 432x288 with 1 Axes>"
      ]
     },
     "metadata": {
      "needs_background": "light"
     },
     "output_type": "display_data"
    }
   ],
   "source": [
    "plt.plot(filtered_signals[1,10,:])\n",
    "plt.title('filtered data for one channel looks like EMG')\n",
    "plt.xlabel('num samples (over 1 sec)')\n",
    "plt.ylabel('voltages that are int idk')"
   ]
  },
  {
   "cell_type": "markdown",
   "id": "96a75425",
   "metadata": {},
   "source": [
    "# let's try running some simulations\n",
    "\n",
    "``cued_target_position``: 50 trials x x and y pos\n",
    "\n",
    "we are ignoring the first trial because the human signals are 0 for some reason :/ "
   ]
  },
  {
   "cell_type": "code",
   "execution_count": 196,
   "id": "766cccc1",
   "metadata": {},
   "outputs": [],
   "source": [
    "# constrain p - do we want to include radius distance when we update the new decoder?\n",
    "def constrain_p_actual(p):\n",
    "    '''\n",
    "    input: decoded velocity (2,)\n",
    "    output: constrained decoded velocity (2,)\n",
    "    '''\n",
    "    # if np.linalg.norm(p) >= 10:\n",
    "    theta = np.arctan2(p[1],p[0])\n",
    "    return [10*np.cos(theta),10*np.sin(theta)]\n",
    "    # else:\n",
    "    #     return p\n",
    "\n",
    "# integrate velocity \n",
    "def compute_position(v):\n",
    "    '''\n",
    "    input v: velocity (2,T)\n",
    "    output: position (2,)\n",
    "    '''\n",
    "    return np.sum(v,axis=1)\n",
    "    \n",
    "# given decoder, what is the new position?\n",
    "def output_new_decoder(s,D,p_intended):\n",
    "    '''\n",
    "    s: (64 x (60 timepoints x learning batch size))\n",
    "    D: (2 x 64) previous D computed or random\n",
    "    p_intended: (2 x 60 timepoints x learning batch size)\n",
    "    '''\n",
    "    # take first trial, random decoder, and do target classification\n",
    "    v = D@s # actual decoded velocity (2,60)\n",
    "\n",
    "    # integrate decoded velocities into positions\n",
    "    p = []\n",
    "    for ix in range(v.shape[1]):\n",
    "        p.append(np.sum(v[:,:ix],axis=1))\n",
    "    p = np.asarray(p).T # actual decoded position (2,60)\n",
    "\n",
    "    # want error between intended and actual velocity but need to constrain actual velocity to target radius\n",
    "    p_constrained = np.asarray([constrain_p_actual(p_) for p_ in p.T]).T # constrained, (2,60)\n",
    "    # compute error between intended and actual position and take derivative to get intended velocity\n",
    "    v_intended = p_intended - p_constrained # (2,60)\n",
    "    return v_intended,p_constrained\n",
    "\n",
    "# given decoder, what is the new position?\n",
    "def output_new_decoder_constant_intention(s,D,p_intended):\n",
    "    '''\n",
    "    s: (64 x (60 timepoints x learning batch size))\n",
    "    D: (2 x 64) previous D computed or random\n",
    "    p_intended: (2 x 60 timepoints x learning batch size)\n",
    "    '''\n",
    "    # take first trial, random decoder, and do target classification\n",
    "    v = D@s # actual decoded velocity (2,60)\n",
    "\n",
    "    # integrate decoded velocities into positions\n",
    "    p = []\n",
    "    for ix in range(v.shape[1]):\n",
    "        p.append(np.sum(v[:,:ix],axis=1))\n",
    "    p = np.asarray(p).T # actual decoded position (2,60)\n",
    "\n",
    "    # want error between intended and actual velocity but need to constrain actual velocity to target radius\n",
    "    p_constrained = np.asarray([constrain_p_actual(p_) for p_ in p.T]).T # constrained, (2,60)\n",
    "    # compute error between intended and actual position and take derivative to get intended velocity\n",
    "    v_intended = p_intended # (2,60) # divide by 60 was removed\n",
    "    return v_intended,p_constrained"
   ]
  },
  {
   "cell_type": "code",
   "execution_count": 3,
   "id": "0c5a607c",
   "metadata": {},
   "outputs": [
    {
     "name": "stdout",
     "output_type": "stream",
     "text": [
      "(4, 2)\n",
      "[[ 1.0000000e+01  0.0000000e+00]\n",
      " [ 6.1232340e-16  1.0000000e+01]\n",
      " [-1.0000000e+01  1.2246468e-15]\n",
      " [-1.8369702e-15 -1.0000000e+01]]\n"
     ]
    }
   ],
   "source": [
    "import numpy as np\n",
    "\n",
    "num_targets = 4\n",
    "TARGET_LOCATION_RADIUS = 10\n",
    "thetas = 2*np.pi/num_targets*np.arange(0,num_targets) # convert number of targets to angles\n",
    "target_positions = TARGET_LOCATION_RADIUS*np.asarray([np.cos(thetas),np.sin(thetas)]).T\n",
    "print(target_positions.shape)\n",
    "print(target_positions)"
   ]
  },
  {
   "cell_type": "code",
   "execution_count": null,
   "id": "1ad42757",
   "metadata": {},
   "outputs": [],
   "source": [
    "def classify(decoded_cursor_velocity, print_indx = False):\n",
    "    \n",
    "    # pick the smallest distance diff\n",
    "    dist_diffs = np.linalg.norm((decoded_cursor_velocity.T - target_positions),\n",
    "                                axis = 1) # this should be an array\n",
    "    \n",
    "    min_dist_diffs = np.argmin(dist_diffs)\n",
    "\n",
    "    classified_target = target_positions[min_dist_diffs,:]#[:, None]\n",
    "\n",
    "    # target_postions is a global variabe\n",
    "    return classified_target\n",
    "\n",
    "def classification_accuracy(p_target,p_classify): \n",
    "    '''\n",
    "    inputs: \n",
    "        p_target: target positions (trials x 2)\n",
    "        p_classify: classified positions (trials x 2)\n",
    "    output:\n",
    "        success_rate: classification accuracy (number)\n",
    "    '''\n",
    "    target_pos_diff = p_classify - p_target\n",
    "    target_pos_diff_norm = np.linalg.norm(target_pos_diff, axis = 1)\n",
    "    target_pos_count = sum(target_pos_diff_norm < 0.01)\n",
    "    success_rate = target_pos_count / len(target_pos_diff_norm)\n",
    "    return success_rate"
   ]
  },
  {
   "cell_type": "code",
   "execution_count": 197,
   "id": "beaa703d",
   "metadata": {},
   "outputs": [],
   "source": [
    "# Added 2 new parameters\n",
    "def simulation(D,learning_batch,alpha,alphaF=1e-2,alphaD=1e-2,display_info=False,num_iters=False):\n",
    "    p_classify = []\n",
    "    accuracy_temp = []\n",
    "    num_updates = int(np.floor((filtered_signals.shape[0]-1)/learning_batch)) # how many times can we update decoder based on learning batch    \n",
    "\n",
    "    # RANDOMIZE DATASET\n",
    "    randomized_integers = np.random.permutation(range(0,cued_target_position.shape[0]))\n",
    "    filtered_signals_randomized = filtered_signals[randomized_integers]\n",
    "    cued_target_position_randomized = cued_target_position[randomized_integers]\n",
    "    # batches the trials into each of the update batch\n",
    "    for ix in range(num_updates):\n",
    "        s = np.hstack([x for x in filtered_signals_randomized[int(ix*learning_batch+1):int((ix+1)*learning_batch+1),:,:]])# stack s (64 x (60 timepoints x learning batch size))\n",
    "        p_intended = np.hstack([np.tile(x[:,np.newaxis],60) for x in cued_target_position_randomized[int(ix*learning_batch+1):int((ix+1)*learning_batch+1),:]]) # stack p_intended (2 x 60 timepoints x learning batch size)\n",
    "        v_intended,p_constrained = output_new_decoder(s,D[-1],p_intended)\n",
    "\n",
    "        # CLASSIFY CURRENT DECODER ACCURACY\n",
    "        v_actual = D[-1]@s\n",
    "        for trial in range(learning_batch):\n",
    "            v_trial = v_actual[:,int(trial*60):int((trial+1)*60)] # velocities for each trials (2,60)\n",
    "            p_final = np.sum(v_trial,axis=1)[:,np.newaxis] # final position after integration (2,)\n",
    "            p_classify.append(classify(p_final))\n",
    "        \n",
    "        # UPDATE DECODER\n",
    "        u = copy.deepcopy(s) # u is the person's signal s (64 CHANNELS X TIMEPOINTS)\n",
    "        q = copy.deepcopy(v_intended) # use cued positions as velocity vectors for updating decoder should be 2 x num_trials\n",
    "\n",
    "        # emg_windows against intended_targets (trial specific cued target)\n",
    "        F = copy.deepcopy(u[:,:-1]) # note: truncate F for estimate_decoder\n",
    "        V = copy.deepcopy(q)\n",
    "\n",
    "        # initial decoder estimate for gradient descent\n",
    "        D0 = np.random.rand(2,64)\n",
    "\n",
    "        # set alphas\n",
    "        H = np.zeros((2,2))\n",
    "        # use scipy minimize for gradient descent and provide pre-computed analytical gradient for speed\n",
    "        if num_iters is False:\n",
    "            out = minimize(lambda D: cost_l2(F,D,H,V), D0, method='BFGS', jac = lambda D: gradient_cost_l2(F,D,H,V), options={'disp': display_info})\n",
    "        else:\n",
    "            out = minimize(lambda D: cost_l2(F,D,H,V), D0, method='BFGS', jac = lambda D: gradient_cost_l2(F,D,H,V), options={'disp': display_info, 'maxiter':num_iters})\n",
    "        \n",
    "        # reshape to decoder parameters\n",
    "        W_hat = np.reshape(out.x,(2, 64))\n",
    "\n",
    "        # DO SMOOTHBATCH\n",
    "        W_new = alpha*D[-1] + ((1 - alpha) * W_hat)\n",
    "        D.append(W_new)\n",
    "\n",
    "        # COMPUTE CLASSIFICATION ACURACY \n",
    "        p_target = (cued_target_position[randomized_integers])[int(ix*learning_batch+1):int((ix+1)*learning_batch+1),:] # obtain target\n",
    "        accuracy_temp.append(classification_accuracy(p_target,p_classify[-learning_batch:]))\n",
    "\n",
    "    p_classify = np.asarray(p_classify)\n",
    "    return accuracy_temp,D,p_constrained"
   ]
  },
  {
   "cell_type": "code",
   "execution_count": 198,
   "id": "ce75876c",
   "metadata": {},
   "outputs": [],
   "source": [
    "def simulation_constant_intent(D,learning_batch,alpha,alphaF=1e-2,alphaD=1e-2):\n",
    "    p_classify = []\n",
    "    accuracy_temp = []\n",
    "    num_updates = int(np.floor((filtered_signals.shape[0]-1)/learning_batch)) # how many times can we update decoder based on learning batch    \n",
    "\n",
    "    # RANDOMIZE DATASET\n",
    "    randomized_integers = np.random.permutation(range(0,cued_target_position.shape[0]))\n",
    "    filtered_signals_randomized = filtered_signals[randomized_integers]\n",
    "    cued_target_position_randomized = cued_target_position[randomized_integers]\n",
    "    for ix in range(num_updates):\n",
    "        s = np.hstack([x for x in filtered_signals_randomized[int(ix*learning_batch+1):int((ix+1)*learning_batch+1),:,:]])# stack s (64 x (60 timepoints x learning batch size))\n",
    "        p_intended = np.hstack([np.tile(x[:,np.newaxis],60) for x in cued_target_position_randomized[int(ix*learning_batch+1):int((ix+1)*learning_batch+1),:]]) # stack p_intended (2 x 60 timepoints x learning batch size)\n",
    "        v_intended,p_constrained = output_new_decoder_constant_intention(s,D[-1],p_intended)\n",
    "\n",
    "        # CLASSIFY CURRENT DECODER ACCURACY\n",
    "        v_actual = D[-1]@s\n",
    "        for trial in range(learning_batch):\n",
    "            v_trial = v_actual[:,int(trial*60):int((trial+1)*60)] # velocities for each trials (2,60)\n",
    "            p_final = np.sum(v_trial,axis=1)[:,np.newaxis] # final position after integration (2,)\n",
    "            p_classify.append(classify(p_final))\n",
    "        \n",
    "        # UPDATE DECODER\n",
    "        u = copy.deepcopy(s) # u is the person's signal s (64 CHANNELS X TIMEPOINTS)\n",
    "        q = copy.deepcopy(v_intended) # use cued positions as velocity vectors for updating decoder should be 2 x num_trials\n",
    "\n",
    "        # emg_windows against intended_targets (trial specific cued target)\n",
    "        F = copy.deepcopy(u[:,:-1]) # note: truncate F for estimate_decoder\n",
    "        V = copy.deepcopy(q)\n",
    "\n",
    "        # initial decoder estimate for gradient descent\n",
    "        D0 = np.random.rand(2,64)\n",
    "\n",
    "        # set alphas\n",
    "        H = np.zeros((2,2))\n",
    "        # use scipy minimize for gradient descent and provide pre-computed analytical gradient for speed\n",
    "        out = minimize(lambda D: cost_l2(F,D,H,V), D0, method='BFGS', jac = lambda D: gradient_cost_l2(F,D,H,V), options={'disp': False})\n",
    "\n",
    "        # reshape to decoder parameters\n",
    "        W_hat = np.reshape(out.x,(2, 64))\n",
    "\n",
    "        # DO SMOOTHBATCH\n",
    "        W_new = alpha*D[-1] + ((1 - alpha) * W_hat)\n",
    "        D.append(W_new)\n",
    "\n",
    "        # COMPUTE CLASSIFICATION ACURACY \n",
    "        p_target = (cued_target_position[randomized_integers])[int(ix*learning_batch+1):int((ix+1)*learning_batch+1),:] # obtain target\n",
    "        accuracy_temp.append(classification_accuracy(p_target,p_classify[-learning_batch:]))\n",
    "\n",
    "    p_classify = np.asarray(p_classify)\n",
    "    return accuracy_temp,D,p_constrained"
   ]
  },
  {
   "cell_type": "code",
   "execution_count": 199,
   "id": "cbef4e74",
   "metadata": {},
   "outputs": [],
   "source": [
    "def simulation_constant_intent_bounded(D,learning_batch,alpha,alphaF=1e-2,alphaD=1e-2):\n",
    "    p_classify = []\n",
    "    accuracy_temp = []\n",
    "    num_updates = int(np.floor((filtered_signals.shape[0]-1)/learning_batch)) # how many times can we update decoder based on learning batch    \n",
    "\n",
    "    # RANDOMIZE DATASET\n",
    "    randomized_integers = np.random.permutation(range(0,cued_target_position.shape[0]))\n",
    "    filtered_signals_randomized = filtered_signals[randomized_integers]\n",
    "    cued_target_position_randomized = cued_target_position[randomized_integers]\n",
    "    for ix in range(num_updates):\n",
    "        s = np.hstack([x for x in filtered_signals_randomized[int(ix*learning_batch+1):int((ix+1)*learning_batch+1),:,:]])# stack s (64 x (60 timepoints x learning batch size))\n",
    "        p_intended = np.hstack([np.tile(x[:,np.newaxis],60) for x in cued_target_position_randomized[int(ix*learning_batch+1):int((ix+1)*learning_batch+1),:]]) # stack p_intended (2 x 60 timepoints x learning batch size)\n",
    "        v_intended,p_constrained = output_new_decoder_constant_intention(s,D[-1],p_intended)\n",
    "\n",
    "        # CLASSIFY CURRENT DECODER ACCURACY\n",
    "        v_actual = D[-1]@s\n",
    "        for trial in range(learning_batch):\n",
    "            v_trial = v_actual[:,int(trial*60):int((trial+1)*60)] # velocities for each trials (2,60)\n",
    "            p_final = np.sum(v_trial,axis=1)[:,np.newaxis] # final position after integration (2,)\n",
    "            p_classify.append(classify(p_final))\n",
    "        \n",
    "        # UPDATE DECODER\n",
    "        u = copy.deepcopy(s) # u is the person's signal s (64 CHANNELS X TIMEPOINTS)\n",
    "        q = copy.deepcopy(v_intended) # use cued positions as velocity vectors for updating decoder should be 2 x num_trials\n",
    "\n",
    "        # emg_windows against intended_targets (trial specific cued target)\n",
    "        F = copy.deepcopy(u[:,:-1]) # note: truncate F for estimate_decoder\n",
    "        V = copy.deepcopy(q)\n",
    "\n",
    "        # initial decoder estimate for gradient descent\n",
    "        D0 = np.random.rand(2,64)\n",
    "\n",
    "        # set alphas\n",
    "        H = np.zeros((2,2))\n",
    "        # use scipy minimize for gradient descent and provide pre-computed analytical gradient for speed\n",
    "        out = minimize(lambda D: cost_l2_discrete(F,D,H,V), D0, method='BFGS', jac = lambda D: gradient_cost_l2_discrete(F,D,H,V), options={'disp': False})\n",
    "\n",
    "        # reshape to decoder parameters\n",
    "        W_hat = np.reshape(out.x,(2, 64))\n",
    "\n",
    "        # DO SMOOTHBATCH\n",
    "        W_new = alpha*D[-1] + ((1 - alpha) * W_hat)\n",
    "        D.append(W_new)\n",
    "\n",
    "        # COMPUTE CLASSIFICATION ACURACY \n",
    "        p_target = (cued_target_position[randomized_integers])[int(ix*learning_batch+1):int((ix+1)*learning_batch+1),:] # obtain target\n",
    "        accuracy_temp.append(classification_accuracy(p_target,p_classify[-learning_batch:]))\n",
    "\n",
    "    p_classify = np.asarray(p_classify)\n",
    "    return accuracy_temp,D,p_constrained"
   ]
  },
  {
   "cell_type": "code",
   "execution_count": 200,
   "id": "782d3f55",
   "metadata": {},
   "outputs": [],
   "source": [
    "def simulation_bounded_pos(D,learning_batch,alpha,alphaF=1e-2,alphaD=1e-2):\n",
    "    p_classify = []\n",
    "    accuracy_temp = []\n",
    "    num_updates = int(np.floor((filtered_signals.shape[0]-1)/learning_batch)) # how many times can we update decoder based on learning batch    \n",
    "\n",
    "    # RANDOMIZE DATASET\n",
    "    randomized_integers = np.random.permutation(range(1,cued_target_position.shape[0]))\n",
    "    filtered_signals_randomized = filtered_signals[randomized_integers]\n",
    "    cued_target_position_randomized = cued_target_position[randomized_integers]\n",
    "    for ix in range(num_updates):\n",
    "        s = np.hstack([x for x in filtered_signals_randomized[int(ix*learning_batch):int((ix+1)*learning_batch),:,:]])# stack s (64 x (60 timepoints x learning batch size))\n",
    "        p_intended = np.hstack([np.tile(x[:,np.newaxis],60) for x in cued_target_position_randomized[int(ix*learning_batch):int((ix+1)*learning_batch),:]]) # stack p_intended (2 x 60 timepoints x learning batch size)\n",
    "        v_intended,p_constrained = output_new_decoder(s,D[-1],p_intended)\n",
    "\n",
    "        # CLASSIFY CURRENT DECODER ACCURACY\n",
    "        v_actual = D[-1]@s\n",
    "        for trial in range(learning_batch):\n",
    "            v_trial = v_actual[:,int(trial*60):int((trial+1)*60)] # velocities for each trials (2,60)\n",
    "            p_final = np.sum(v_trial,axis=1)[:,np.newaxis] # final position after integration (2,)\n",
    "            p_classify.append(classify(p_final))\n",
    "        \n",
    "        # UPDATE DECODER\n",
    "        u = copy.deepcopy(s) # u is the person's signal s (64 CHANNELS X TIMEPOINTS)\n",
    "        q = copy.deepcopy(v_intended) # use cued positions as velocity vectors for updating decoder should be 2 x num_trials\n",
    "\n",
    "        # emg_windows against intended_targets (trial specific cued target)\n",
    "        F = copy.deepcopy(u[:,:-1]) # note: truncate F for estimate_decoder\n",
    "        V = copy.deepcopy(q)\n",
    "\n",
    "        # initial decoder estimate for gradient descent\n",
    "        D0 = np.random.rand(2,64)\n",
    "\n",
    "        # set alphas\n",
    "        H = np.zeros((2,2))\n",
    "        # use scipy minimize for gradient descent and provide pre-computed analytical gradient for speed\n",
    "        out = minimize(lambda D: cost_l2_discrete(F,D,H,V), D0, method='BFGS', jac = lambda D: gradient_cost_l2_discrete(F,D,H,V), options={'disp': False})\n",
    "\n",
    "        # reshape to decoder parameters\n",
    "        W_hat = np.reshape(out.x,(2, 64))\n",
    "\n",
    "        # DO SMOOTHBATCH\n",
    "        W_new = alpha*D[-1] + ((1 - alpha) * W_hat)\n",
    "        D.append(W_new)\n",
    "\n",
    "        # COMPUTE CLASSIFICATION ACURACY \n",
    "        p_target = (cued_target_position[randomized_integers])[int(ix*learning_batch+1):int((ix+1)*learning_batch+1),:] # obtain target\n",
    "        accuracy_temp.append(classification_accuracy(p_target,p_classify[-learning_batch:]))\n",
    "\n",
    "    p_classify = np.asarray(p_classify)\n",
    "    return accuracy_temp,D,p_constrained"
   ]
  },
  {
   "cell_type": "code",
   "execution_count": 212,
   "id": "9ddbd991",
   "metadata": {},
   "outputs": [
    {
     "ename": "KeyboardInterrupt",
     "evalue": "",
     "output_type": "error",
     "traceback": [
      "\u001b[1;31m---------------------------------------------------------------------------\u001b[0m",
      "\u001b[1;31mKeyboardInterrupt\u001b[0m                         Traceback (most recent call last)",
      "\u001b[1;32m<ipython-input-212-f3ac073f7dbf>\u001b[0m in \u001b[0;36m<module>\u001b[1;34m\u001b[0m\n\u001b[0;32m     21\u001b[0m     \u001b[0maccuracy_constant_\u001b[0m\u001b[1;33m,\u001b[0m\u001b[0mD_constant\u001b[0m\u001b[1;33m,\u001b[0m\u001b[0mp_constrained_constant\u001b[0m \u001b[1;33m=\u001b[0m \u001b[0msimulation_constant_intent\u001b[0m\u001b[1;33m(\u001b[0m\u001b[0mD_constant\u001b[0m\u001b[1;33m,\u001b[0m\u001b[0mlearning_batch\u001b[0m\u001b[1;33m,\u001b[0m\u001b[0malpha\u001b[0m\u001b[1;33m,\u001b[0m\u001b[0malphaF\u001b[0m\u001b[1;33m=\u001b[0m\u001b[0malphaF\u001b[0m\u001b[1;33m,\u001b[0m\u001b[0malphaD\u001b[0m\u001b[1;33m=\u001b[0m\u001b[0malphaD\u001b[0m\u001b[1;33m)\u001b[0m\u001b[1;33m\u001b[0m\u001b[1;33m\u001b[0m\u001b[0m\n\u001b[0;32m     22\u001b[0m     \u001b[0maccuracy_constant\u001b[0m\u001b[1;33m.\u001b[0m\u001b[0mextend\u001b[0m\u001b[1;33m(\u001b[0m\u001b[0maccuracy_constant_\u001b[0m\u001b[1;33m)\u001b[0m\u001b[1;33m\u001b[0m\u001b[1;33m\u001b[0m\u001b[0m\n\u001b[1;32m---> 23\u001b[1;33m     \u001b[0maccuracy_\u001b[0m\u001b[1;33m,\u001b[0m\u001b[0mD\u001b[0m\u001b[1;33m,\u001b[0m\u001b[0mp_constrained\u001b[0m \u001b[1;33m=\u001b[0m \u001b[0msimulation\u001b[0m\u001b[1;33m(\u001b[0m\u001b[0mD\u001b[0m\u001b[1;33m,\u001b[0m\u001b[0mlearning_batch\u001b[0m\u001b[1;33m,\u001b[0m\u001b[0malpha\u001b[0m\u001b[1;33m,\u001b[0m\u001b[0malphaF\u001b[0m\u001b[1;33m=\u001b[0m\u001b[0malphaF\u001b[0m\u001b[1;33m,\u001b[0m\u001b[0malphaD\u001b[0m\u001b[1;33m=\u001b[0m\u001b[0malphaD\u001b[0m\u001b[1;33m)\u001b[0m\u001b[1;33m\u001b[0m\u001b[1;33m\u001b[0m\u001b[0m\n\u001b[0m\u001b[0;32m     24\u001b[0m     \u001b[0maccuracy\u001b[0m\u001b[1;33m.\u001b[0m\u001b[0mextend\u001b[0m\u001b[1;33m(\u001b[0m\u001b[0maccuracy_\u001b[0m\u001b[1;33m)\u001b[0m\u001b[1;33m\u001b[0m\u001b[1;33m\u001b[0m\u001b[0m\n\u001b[0;32m     25\u001b[0m     \u001b[0maccuracy_bounded_\u001b[0m\u001b[1;33m,\u001b[0m\u001b[0mD_bounded\u001b[0m\u001b[1;33m,\u001b[0m\u001b[0mp_bounded\u001b[0m \u001b[1;33m=\u001b[0m \u001b[0msimulation_bounded_pos\u001b[0m\u001b[1;33m(\u001b[0m\u001b[0mD_bounded\u001b[0m\u001b[1;33m,\u001b[0m\u001b[0mlearning_batch\u001b[0m\u001b[1;33m,\u001b[0m\u001b[0malpha\u001b[0m\u001b[1;33m,\u001b[0m\u001b[0malphaF\u001b[0m\u001b[1;33m=\u001b[0m\u001b[0malphaF\u001b[0m\u001b[1;33m,\u001b[0m\u001b[0malphaD\u001b[0m\u001b[1;33m=\u001b[0m\u001b[0malphaD\u001b[0m\u001b[1;33m)\u001b[0m\u001b[1;33m\u001b[0m\u001b[1;33m\u001b[0m\u001b[0m\n",
      "\u001b[1;32m<ipython-input-197-084481960d42>\u001b[0m in \u001b[0;36msimulation\u001b[1;34m(D, learning_batch, alpha, alphaF, alphaD)\u001b[0m\n\u001b[0;32m     34\u001b[0m         \u001b[0mH\u001b[0m \u001b[1;33m=\u001b[0m \u001b[0mnp\u001b[0m\u001b[1;33m.\u001b[0m\u001b[0mzeros\u001b[0m\u001b[1;33m(\u001b[0m\u001b[1;33m(\u001b[0m\u001b[1;36m2\u001b[0m\u001b[1;33m,\u001b[0m\u001b[1;36m2\u001b[0m\u001b[1;33m)\u001b[0m\u001b[1;33m)\u001b[0m\u001b[1;33m\u001b[0m\u001b[1;33m\u001b[0m\u001b[0m\n\u001b[0;32m     35\u001b[0m         \u001b[1;31m# use scipy minimize for gradient descent and provide pre-computed analytical gradient for speed\u001b[0m\u001b[1;33m\u001b[0m\u001b[1;33m\u001b[0m\u001b[1;33m\u001b[0m\u001b[0m\n\u001b[1;32m---> 36\u001b[1;33m         \u001b[0mout\u001b[0m \u001b[1;33m=\u001b[0m \u001b[0mminimize\u001b[0m\u001b[1;33m(\u001b[0m\u001b[1;32mlambda\u001b[0m \u001b[0mD\u001b[0m\u001b[1;33m:\u001b[0m \u001b[0mcost_l2\u001b[0m\u001b[1;33m(\u001b[0m\u001b[0mF\u001b[0m\u001b[1;33m,\u001b[0m\u001b[0mD\u001b[0m\u001b[1;33m,\u001b[0m\u001b[0mH\u001b[0m\u001b[1;33m,\u001b[0m\u001b[0mV\u001b[0m\u001b[1;33m)\u001b[0m\u001b[1;33m,\u001b[0m \u001b[0mD0\u001b[0m\u001b[1;33m,\u001b[0m \u001b[0mmethod\u001b[0m\u001b[1;33m=\u001b[0m\u001b[1;34m'BFGS'\u001b[0m\u001b[1;33m,\u001b[0m \u001b[0mjac\u001b[0m \u001b[1;33m=\u001b[0m \u001b[1;32mlambda\u001b[0m \u001b[0mD\u001b[0m\u001b[1;33m:\u001b[0m \u001b[0mgradient_cost_l2\u001b[0m\u001b[1;33m(\u001b[0m\u001b[0mF\u001b[0m\u001b[1;33m,\u001b[0m\u001b[0mD\u001b[0m\u001b[1;33m,\u001b[0m\u001b[0mH\u001b[0m\u001b[1;33m,\u001b[0m\u001b[0mV\u001b[0m\u001b[1;33m)\u001b[0m\u001b[1;33m,\u001b[0m \u001b[0moptions\u001b[0m\u001b[1;33m=\u001b[0m\u001b[1;33m{\u001b[0m\u001b[1;34m'disp'\u001b[0m\u001b[1;33m:\u001b[0m \u001b[1;32mFalse\u001b[0m\u001b[1;33m}\u001b[0m\u001b[1;33m)\u001b[0m\u001b[1;33m\u001b[0m\u001b[1;33m\u001b[0m\u001b[0m\n\u001b[0m\u001b[0;32m     37\u001b[0m \u001b[1;33m\u001b[0m\u001b[0m\n\u001b[0;32m     38\u001b[0m         \u001b[1;31m# reshape to decoder parameters\u001b[0m\u001b[1;33m\u001b[0m\u001b[1;33m\u001b[0m\u001b[1;33m\u001b[0m\u001b[0m\n",
      "\u001b[1;32m~\\.conda\\envs\\py369_env\\lib\\site-packages\\scipy\\optimize\\_minimize.py\u001b[0m in \u001b[0;36mminimize\u001b[1;34m(fun, x0, args, method, jac, hess, hessp, bounds, constraints, tol, callback, options)\u001b[0m\n\u001b[0;32m    610\u001b[0m         \u001b[1;32mreturn\u001b[0m \u001b[0m_minimize_cg\u001b[0m\u001b[1;33m(\u001b[0m\u001b[0mfun\u001b[0m\u001b[1;33m,\u001b[0m \u001b[0mx0\u001b[0m\u001b[1;33m,\u001b[0m \u001b[0margs\u001b[0m\u001b[1;33m,\u001b[0m \u001b[0mjac\u001b[0m\u001b[1;33m,\u001b[0m \u001b[0mcallback\u001b[0m\u001b[1;33m,\u001b[0m \u001b[1;33m**\u001b[0m\u001b[0moptions\u001b[0m\u001b[1;33m)\u001b[0m\u001b[1;33m\u001b[0m\u001b[1;33m\u001b[0m\u001b[0m\n\u001b[0;32m    611\u001b[0m     \u001b[1;32melif\u001b[0m \u001b[0mmeth\u001b[0m \u001b[1;33m==\u001b[0m \u001b[1;34m'bfgs'\u001b[0m\u001b[1;33m:\u001b[0m\u001b[1;33m\u001b[0m\u001b[1;33m\u001b[0m\u001b[0m\n\u001b[1;32m--> 612\u001b[1;33m         \u001b[1;32mreturn\u001b[0m \u001b[0m_minimize_bfgs\u001b[0m\u001b[1;33m(\u001b[0m\u001b[0mfun\u001b[0m\u001b[1;33m,\u001b[0m \u001b[0mx0\u001b[0m\u001b[1;33m,\u001b[0m \u001b[0margs\u001b[0m\u001b[1;33m,\u001b[0m \u001b[0mjac\u001b[0m\u001b[1;33m,\u001b[0m \u001b[0mcallback\u001b[0m\u001b[1;33m,\u001b[0m \u001b[1;33m**\u001b[0m\u001b[0moptions\u001b[0m\u001b[1;33m)\u001b[0m\u001b[1;33m\u001b[0m\u001b[1;33m\u001b[0m\u001b[0m\n\u001b[0m\u001b[0;32m    613\u001b[0m     \u001b[1;32melif\u001b[0m \u001b[0mmeth\u001b[0m \u001b[1;33m==\u001b[0m \u001b[1;34m'newton-cg'\u001b[0m\u001b[1;33m:\u001b[0m\u001b[1;33m\u001b[0m\u001b[1;33m\u001b[0m\u001b[0m\n\u001b[0;32m    614\u001b[0m         return _minimize_newtoncg(fun, x0, args, jac, hess, hessp, callback,\n",
      "\u001b[1;32m~\\.conda\\envs\\py369_env\\lib\\site-packages\\scipy\\optimize\\optimize.py\u001b[0m in \u001b[0;36m_minimize_bfgs\u001b[1;34m(fun, x0, args, jac, callback, gtol, norm, eps, maxiter, disp, return_all, finite_diff_rel_step, **unknown_options)\u001b[0m\n\u001b[0;32m   1134\u001b[0m             \u001b[0malpha_k\u001b[0m\u001b[1;33m,\u001b[0m \u001b[0mfc\u001b[0m\u001b[1;33m,\u001b[0m \u001b[0mgc\u001b[0m\u001b[1;33m,\u001b[0m \u001b[0mold_fval\u001b[0m\u001b[1;33m,\u001b[0m \u001b[0mold_old_fval\u001b[0m\u001b[1;33m,\u001b[0m \u001b[0mgfkp1\u001b[0m \u001b[1;33m=\u001b[0m\u001b[0;31m \u001b[0m\u001b[0;31m\\\u001b[0m\u001b[1;33m\u001b[0m\u001b[1;33m\u001b[0m\u001b[0m\n\u001b[0;32m   1135\u001b[0m                      _line_search_wolfe12(f, myfprime, xk, pk, gfk,\n\u001b[1;32m-> 1136\u001b[1;33m                                           old_fval, old_old_fval, amin=1e-100, amax=1e100)\n\u001b[0m\u001b[0;32m   1137\u001b[0m         \u001b[1;32mexcept\u001b[0m \u001b[0m_LineSearchError\u001b[0m\u001b[1;33m:\u001b[0m\u001b[1;33m\u001b[0m\u001b[1;33m\u001b[0m\u001b[0m\n\u001b[0;32m   1138\u001b[0m             \u001b[1;31m# Line search failed to find a better solution.\u001b[0m\u001b[1;33m\u001b[0m\u001b[1;33m\u001b[0m\u001b[1;33m\u001b[0m\u001b[0m\n",
      "\u001b[1;32m~\\.conda\\envs\\py369_env\\lib\\site-packages\\scipy\\optimize\\optimize.py\u001b[0m in \u001b[0;36m_line_search_wolfe12\u001b[1;34m(f, fprime, xk, pk, gfk, old_fval, old_old_fval, **kwargs)\u001b[0m\n\u001b[0;32m    934\u001b[0m     ret = line_search_wolfe1(f, fprime, xk, pk, gfk,\n\u001b[0;32m    935\u001b[0m                              \u001b[0mold_fval\u001b[0m\u001b[1;33m,\u001b[0m \u001b[0mold_old_fval\u001b[0m\u001b[1;33m,\u001b[0m\u001b[1;33m\u001b[0m\u001b[1;33m\u001b[0m\u001b[0m\n\u001b[1;32m--> 936\u001b[1;33m                              **kwargs)\n\u001b[0m\u001b[0;32m    937\u001b[0m \u001b[1;33m\u001b[0m\u001b[0m\n\u001b[0;32m    938\u001b[0m     \u001b[1;32mif\u001b[0m \u001b[0mret\u001b[0m\u001b[1;33m[\u001b[0m\u001b[1;36m0\u001b[0m\u001b[1;33m]\u001b[0m \u001b[1;32mis\u001b[0m \u001b[1;32mnot\u001b[0m \u001b[1;32mNone\u001b[0m \u001b[1;32mand\u001b[0m \u001b[0mextra_condition\u001b[0m \u001b[1;32mis\u001b[0m \u001b[1;32mnot\u001b[0m \u001b[1;32mNone\u001b[0m\u001b[1;33m:\u001b[0m\u001b[1;33m\u001b[0m\u001b[1;33m\u001b[0m\u001b[0m\n",
      "\u001b[1;32m~\\.conda\\envs\\py369_env\\lib\\site-packages\\scipy\\optimize\\linesearch.py\u001b[0m in \u001b[0;36mline_search_wolfe1\u001b[1;34m(f, fprime, xk, pk, gfk, old_fval, old_old_fval, args, c1, c2, amax, amin, xtol)\u001b[0m\n\u001b[0;32m     96\u001b[0m     stp, fval, old_fval = scalar_search_wolfe1(\n\u001b[0;32m     97\u001b[0m             \u001b[0mphi\u001b[0m\u001b[1;33m,\u001b[0m \u001b[0mderphi\u001b[0m\u001b[1;33m,\u001b[0m \u001b[0mold_fval\u001b[0m\u001b[1;33m,\u001b[0m \u001b[0mold_old_fval\u001b[0m\u001b[1;33m,\u001b[0m \u001b[0mderphi0\u001b[0m\u001b[1;33m,\u001b[0m\u001b[1;33m\u001b[0m\u001b[1;33m\u001b[0m\u001b[0m\n\u001b[1;32m---> 98\u001b[1;33m             c1=c1, c2=c2, amax=amax, amin=amin, xtol=xtol)\n\u001b[0m\u001b[0;32m     99\u001b[0m \u001b[1;33m\u001b[0m\u001b[0m\n\u001b[0;32m    100\u001b[0m     \u001b[1;32mreturn\u001b[0m \u001b[0mstp\u001b[0m\u001b[1;33m,\u001b[0m \u001b[0mfc\u001b[0m\u001b[1;33m[\u001b[0m\u001b[1;36m0\u001b[0m\u001b[1;33m]\u001b[0m\u001b[1;33m,\u001b[0m \u001b[0mgc\u001b[0m\u001b[1;33m[\u001b[0m\u001b[1;36m0\u001b[0m\u001b[1;33m]\u001b[0m\u001b[1;33m,\u001b[0m \u001b[0mfval\u001b[0m\u001b[1;33m,\u001b[0m \u001b[0mold_fval\u001b[0m\u001b[1;33m,\u001b[0m \u001b[0mgval\u001b[0m\u001b[1;33m[\u001b[0m\u001b[1;36m0\u001b[0m\u001b[1;33m]\u001b[0m\u001b[1;33m\u001b[0m\u001b[1;33m\u001b[0m\u001b[0m\n",
      "\u001b[1;32m~\\.conda\\envs\\py369_env\\lib\\site-packages\\scipy\\optimize\\linesearch.py\u001b[0m in \u001b[0;36mscalar_search_wolfe1\u001b[1;34m(phi, derphi, phi0, old_phi0, derphi0, c1, c2, amax, amin, xtol)\u001b[0m\n\u001b[0;32m    171\u001b[0m             \u001b[0malpha1\u001b[0m \u001b[1;33m=\u001b[0m \u001b[0mstp\u001b[0m\u001b[1;33m\u001b[0m\u001b[1;33m\u001b[0m\u001b[0m\n\u001b[0;32m    172\u001b[0m             \u001b[0mphi1\u001b[0m \u001b[1;33m=\u001b[0m \u001b[0mphi\u001b[0m\u001b[1;33m(\u001b[0m\u001b[0mstp\u001b[0m\u001b[1;33m)\u001b[0m\u001b[1;33m\u001b[0m\u001b[1;33m\u001b[0m\u001b[0m\n\u001b[1;32m--> 173\u001b[1;33m             \u001b[0mderphi1\u001b[0m \u001b[1;33m=\u001b[0m \u001b[0mderphi\u001b[0m\u001b[1;33m(\u001b[0m\u001b[0mstp\u001b[0m\u001b[1;33m)\u001b[0m\u001b[1;33m\u001b[0m\u001b[1;33m\u001b[0m\u001b[0m\n\u001b[0m\u001b[0;32m    174\u001b[0m         \u001b[1;32melse\u001b[0m\u001b[1;33m:\u001b[0m\u001b[1;33m\u001b[0m\u001b[1;33m\u001b[0m\u001b[0m\n\u001b[0;32m    175\u001b[0m             \u001b[1;32mbreak\u001b[0m\u001b[1;33m\u001b[0m\u001b[1;33m\u001b[0m\u001b[0m\n",
      "\u001b[1;32m~\\.conda\\envs\\py369_env\\lib\\site-packages\\scipy\\optimize\\linesearch.py\u001b[0m in \u001b[0;36mderphi\u001b[1;34m(s)\u001b[0m\n\u001b[0;32m     85\u001b[0m \u001b[1;33m\u001b[0m\u001b[0m\n\u001b[0;32m     86\u001b[0m     \u001b[1;32mdef\u001b[0m \u001b[0mderphi\u001b[0m\u001b[1;33m(\u001b[0m\u001b[0ms\u001b[0m\u001b[1;33m)\u001b[0m\u001b[1;33m:\u001b[0m\u001b[1;33m\u001b[0m\u001b[1;33m\u001b[0m\u001b[0m\n\u001b[1;32m---> 87\u001b[1;33m         \u001b[0mgval\u001b[0m\u001b[1;33m[\u001b[0m\u001b[1;36m0\u001b[0m\u001b[1;33m]\u001b[0m \u001b[1;33m=\u001b[0m \u001b[0mfprime\u001b[0m\u001b[1;33m(\u001b[0m\u001b[0mxk\u001b[0m \u001b[1;33m+\u001b[0m \u001b[0ms\u001b[0m\u001b[1;33m*\u001b[0m\u001b[0mpk\u001b[0m\u001b[1;33m,\u001b[0m \u001b[1;33m*\u001b[0m\u001b[0mnewargs\u001b[0m\u001b[1;33m)\u001b[0m\u001b[1;33m\u001b[0m\u001b[1;33m\u001b[0m\u001b[0m\n\u001b[0m\u001b[0;32m     88\u001b[0m         \u001b[1;32mif\u001b[0m \u001b[0mgradient\u001b[0m\u001b[1;33m:\u001b[0m\u001b[1;33m\u001b[0m\u001b[1;33m\u001b[0m\u001b[0m\n\u001b[0;32m     89\u001b[0m             \u001b[0mgc\u001b[0m\u001b[1;33m[\u001b[0m\u001b[1;36m0\u001b[0m\u001b[1;33m]\u001b[0m \u001b[1;33m+=\u001b[0m \u001b[1;36m1\u001b[0m\u001b[1;33m\u001b[0m\u001b[1;33m\u001b[0m\u001b[0m\n",
      "\u001b[1;32m~\\.conda\\envs\\py369_env\\lib\\site-packages\\scipy\\optimize\\_differentiable_functions.py\u001b[0m in \u001b[0;36mgrad\u001b[1;34m(self, x)\u001b[0m\n\u001b[0;32m    186\u001b[0m         \u001b[1;32mif\u001b[0m \u001b[1;32mnot\u001b[0m \u001b[0mnp\u001b[0m\u001b[1;33m.\u001b[0m\u001b[0marray_equal\u001b[0m\u001b[1;33m(\u001b[0m\u001b[0mx\u001b[0m\u001b[1;33m,\u001b[0m \u001b[0mself\u001b[0m\u001b[1;33m.\u001b[0m\u001b[0mx\u001b[0m\u001b[1;33m)\u001b[0m\u001b[1;33m:\u001b[0m\u001b[1;33m\u001b[0m\u001b[1;33m\u001b[0m\u001b[0m\n\u001b[0;32m    187\u001b[0m             \u001b[0mself\u001b[0m\u001b[1;33m.\u001b[0m\u001b[0m_update_x_impl\u001b[0m\u001b[1;33m(\u001b[0m\u001b[0mx\u001b[0m\u001b[1;33m)\u001b[0m\u001b[1;33m\u001b[0m\u001b[1;33m\u001b[0m\u001b[0m\n\u001b[1;32m--> 188\u001b[1;33m         \u001b[0mself\u001b[0m\u001b[1;33m.\u001b[0m\u001b[0m_update_grad\u001b[0m\u001b[1;33m(\u001b[0m\u001b[1;33m)\u001b[0m\u001b[1;33m\u001b[0m\u001b[1;33m\u001b[0m\u001b[0m\n\u001b[0m\u001b[0;32m    189\u001b[0m         \u001b[1;32mreturn\u001b[0m \u001b[0mself\u001b[0m\u001b[1;33m.\u001b[0m\u001b[0mg\u001b[0m\u001b[1;33m\u001b[0m\u001b[1;33m\u001b[0m\u001b[0m\n\u001b[0;32m    190\u001b[0m \u001b[1;33m\u001b[0m\u001b[0m\n",
      "\u001b[1;32m~\\.conda\\envs\\py369_env\\lib\\site-packages\\scipy\\optimize\\_differentiable_functions.py\u001b[0m in \u001b[0;36m_update_grad\u001b[1;34m(self)\u001b[0m\n\u001b[0;32m    169\u001b[0m     \u001b[1;32mdef\u001b[0m \u001b[0m_update_grad\u001b[0m\u001b[1;33m(\u001b[0m\u001b[0mself\u001b[0m\u001b[1;33m)\u001b[0m\u001b[1;33m:\u001b[0m\u001b[1;33m\u001b[0m\u001b[1;33m\u001b[0m\u001b[0m\n\u001b[0;32m    170\u001b[0m         \u001b[1;32mif\u001b[0m \u001b[1;32mnot\u001b[0m \u001b[0mself\u001b[0m\u001b[1;33m.\u001b[0m\u001b[0mg_updated\u001b[0m\u001b[1;33m:\u001b[0m\u001b[1;33m\u001b[0m\u001b[1;33m\u001b[0m\u001b[0m\n\u001b[1;32m--> 171\u001b[1;33m             \u001b[0mself\u001b[0m\u001b[1;33m.\u001b[0m\u001b[0m_update_grad_impl\u001b[0m\u001b[1;33m(\u001b[0m\u001b[1;33m)\u001b[0m\u001b[1;33m\u001b[0m\u001b[1;33m\u001b[0m\u001b[0m\n\u001b[0m\u001b[0;32m    172\u001b[0m             \u001b[0mself\u001b[0m\u001b[1;33m.\u001b[0m\u001b[0mg_updated\u001b[0m \u001b[1;33m=\u001b[0m \u001b[1;32mTrue\u001b[0m\u001b[1;33m\u001b[0m\u001b[1;33m\u001b[0m\u001b[0m\n\u001b[0;32m    173\u001b[0m \u001b[1;33m\u001b[0m\u001b[0m\n",
      "\u001b[1;32m~\\.conda\\envs\\py369_env\\lib\\site-packages\\scipy\\optimize\\_differentiable_functions.py\u001b[0m in \u001b[0;36mupdate_grad\u001b[1;34m()\u001b[0m\n\u001b[0;32m     83\u001b[0m \u001b[1;33m\u001b[0m\u001b[0m\n\u001b[0;32m     84\u001b[0m             \u001b[1;32mdef\u001b[0m \u001b[0mupdate_grad\u001b[0m\u001b[1;33m(\u001b[0m\u001b[1;33m)\u001b[0m\u001b[1;33m:\u001b[0m\u001b[1;33m\u001b[0m\u001b[1;33m\u001b[0m\u001b[0m\n\u001b[1;32m---> 85\u001b[1;33m                 \u001b[0mself\u001b[0m\u001b[1;33m.\u001b[0m\u001b[0mg\u001b[0m \u001b[1;33m=\u001b[0m \u001b[0mgrad_wrapped\u001b[0m\u001b[1;33m(\u001b[0m\u001b[0mself\u001b[0m\u001b[1;33m.\u001b[0m\u001b[0mx\u001b[0m\u001b[1;33m)\u001b[0m\u001b[1;33m\u001b[0m\u001b[1;33m\u001b[0m\u001b[0m\n\u001b[0m\u001b[0;32m     86\u001b[0m \u001b[1;33m\u001b[0m\u001b[0m\n\u001b[0;32m     87\u001b[0m         \u001b[1;32melif\u001b[0m \u001b[0mgrad\u001b[0m \u001b[1;32min\u001b[0m \u001b[0mFD_METHODS\u001b[0m\u001b[1;33m:\u001b[0m\u001b[1;33m\u001b[0m\u001b[1;33m\u001b[0m\u001b[0m\n",
      "\u001b[1;32m~\\.conda\\envs\\py369_env\\lib\\site-packages\\scipy\\optimize\\_differentiable_functions.py\u001b[0m in \u001b[0;36mgrad_wrapped\u001b[1;34m(x)\u001b[0m\n\u001b[0;32m     80\u001b[0m             \u001b[1;32mdef\u001b[0m \u001b[0mgrad_wrapped\u001b[0m\u001b[1;33m(\u001b[0m\u001b[0mx\u001b[0m\u001b[1;33m)\u001b[0m\u001b[1;33m:\u001b[0m\u001b[1;33m\u001b[0m\u001b[1;33m\u001b[0m\u001b[0m\n\u001b[0;32m     81\u001b[0m                 \u001b[0mself\u001b[0m\u001b[1;33m.\u001b[0m\u001b[0mngev\u001b[0m \u001b[1;33m+=\u001b[0m \u001b[1;36m1\u001b[0m\u001b[1;33m\u001b[0m\u001b[1;33m\u001b[0m\u001b[0m\n\u001b[1;32m---> 82\u001b[1;33m                 \u001b[1;32mreturn\u001b[0m \u001b[0mnp\u001b[0m\u001b[1;33m.\u001b[0m\u001b[0matleast_1d\u001b[0m\u001b[1;33m(\u001b[0m\u001b[0mgrad\u001b[0m\u001b[1;33m(\u001b[0m\u001b[0mx\u001b[0m\u001b[1;33m,\u001b[0m \u001b[1;33m*\u001b[0m\u001b[0margs\u001b[0m\u001b[1;33m)\u001b[0m\u001b[1;33m)\u001b[0m\u001b[1;33m\u001b[0m\u001b[1;33m\u001b[0m\u001b[0m\n\u001b[0m\u001b[0;32m     83\u001b[0m \u001b[1;33m\u001b[0m\u001b[0m\n\u001b[0;32m     84\u001b[0m             \u001b[1;32mdef\u001b[0m \u001b[0mupdate_grad\u001b[0m\u001b[1;33m(\u001b[0m\u001b[1;33m)\u001b[0m\u001b[1;33m:\u001b[0m\u001b[1;33m\u001b[0m\u001b[1;33m\u001b[0m\u001b[0m\n",
      "\u001b[1;32m<ipython-input-197-084481960d42>\u001b[0m in \u001b[0;36m<lambda>\u001b[1;34m(D)\u001b[0m\n\u001b[0;32m     34\u001b[0m         \u001b[0mH\u001b[0m \u001b[1;33m=\u001b[0m \u001b[0mnp\u001b[0m\u001b[1;33m.\u001b[0m\u001b[0mzeros\u001b[0m\u001b[1;33m(\u001b[0m\u001b[1;33m(\u001b[0m\u001b[1;36m2\u001b[0m\u001b[1;33m,\u001b[0m\u001b[1;36m2\u001b[0m\u001b[1;33m)\u001b[0m\u001b[1;33m)\u001b[0m\u001b[1;33m\u001b[0m\u001b[1;33m\u001b[0m\u001b[0m\n\u001b[0;32m     35\u001b[0m         \u001b[1;31m# use scipy minimize for gradient descent and provide pre-computed analytical gradient for speed\u001b[0m\u001b[1;33m\u001b[0m\u001b[1;33m\u001b[0m\u001b[1;33m\u001b[0m\u001b[0m\n\u001b[1;32m---> 36\u001b[1;33m         \u001b[0mout\u001b[0m \u001b[1;33m=\u001b[0m \u001b[0mminimize\u001b[0m\u001b[1;33m(\u001b[0m\u001b[1;32mlambda\u001b[0m \u001b[0mD\u001b[0m\u001b[1;33m:\u001b[0m \u001b[0mcost_l2\u001b[0m\u001b[1;33m(\u001b[0m\u001b[0mF\u001b[0m\u001b[1;33m,\u001b[0m\u001b[0mD\u001b[0m\u001b[1;33m,\u001b[0m\u001b[0mH\u001b[0m\u001b[1;33m,\u001b[0m\u001b[0mV\u001b[0m\u001b[1;33m)\u001b[0m\u001b[1;33m,\u001b[0m \u001b[0mD0\u001b[0m\u001b[1;33m,\u001b[0m \u001b[0mmethod\u001b[0m\u001b[1;33m=\u001b[0m\u001b[1;34m'BFGS'\u001b[0m\u001b[1;33m,\u001b[0m \u001b[0mjac\u001b[0m \u001b[1;33m=\u001b[0m \u001b[1;32mlambda\u001b[0m \u001b[0mD\u001b[0m\u001b[1;33m:\u001b[0m \u001b[0mgradient_cost_l2\u001b[0m\u001b[1;33m(\u001b[0m\u001b[0mF\u001b[0m\u001b[1;33m,\u001b[0m\u001b[0mD\u001b[0m\u001b[1;33m,\u001b[0m\u001b[0mH\u001b[0m\u001b[1;33m,\u001b[0m\u001b[0mV\u001b[0m\u001b[1;33m)\u001b[0m\u001b[1;33m,\u001b[0m \u001b[0moptions\u001b[0m\u001b[1;33m=\u001b[0m\u001b[1;33m{\u001b[0m\u001b[1;34m'disp'\u001b[0m\u001b[1;33m:\u001b[0m \u001b[1;32mFalse\u001b[0m\u001b[1;33m}\u001b[0m\u001b[1;33m)\u001b[0m\u001b[1;33m\u001b[0m\u001b[1;33m\u001b[0m\u001b[0m\n\u001b[0m\u001b[0;32m     37\u001b[0m \u001b[1;33m\u001b[0m\u001b[0m\n\u001b[0;32m     38\u001b[0m         \u001b[1;31m# reshape to decoder parameters\u001b[0m\u001b[1;33m\u001b[0m\u001b[1;33m\u001b[0m\u001b[1;33m\u001b[0m\u001b[0m\n",
      "\u001b[1;32m<ipython-input-109-b97bee4b2f36>\u001b[0m in \u001b[0;36mgradient_cost_l2\u001b[1;34m(F, D, H, V, alphaF, alphaD)\u001b[0m\n\u001b[0;32m     70\u001b[0m     \u001b[0mVminus\u001b[0m \u001b[1;33m=\u001b[0m \u001b[0mV\u001b[0m\u001b[1;33m[\u001b[0m\u001b[1;33m:\u001b[0m\u001b[1;33m,\u001b[0m\u001b[1;33m:\u001b[0m\u001b[1;33m-\u001b[0m\u001b[1;36m1\u001b[0m\u001b[1;33m]\u001b[0m\u001b[1;33m\u001b[0m\u001b[1;33m\u001b[0m\u001b[0m\n\u001b[0;32m     71\u001b[0m \u001b[1;33m\u001b[0m\u001b[0m\n\u001b[1;32m---> 72\u001b[1;33m     return ((2 * (D@F + H@Vminus - Vplus) @ F.T / (Nd*Nt) \n\u001b[0m\u001b[0;32m     73\u001b[0m         + 2 * alphaD * D / (Nd*Ne)).flatten())\n\u001b[0;32m     74\u001b[0m \u001b[1;33m\u001b[0m\u001b[0m\n",
      "\u001b[1;31mKeyboardInterrupt\u001b[0m: "
     ]
    }
   ],
   "source": [
    "learning_batch = 8\n",
    "alpha = .95 # higher alpha means more old decoder (slower update)\n",
    "alphaF=1e-1\n",
    "alphaD = 1e-1\n",
    "# create random decoder \n",
    "D_0 = np.random.rand(2,64)\n",
    "D = []\n",
    "D_constant = []\n",
    "D_bounded = []\n",
    "D_constant_bounded = []\n",
    "D.append(D_0)\n",
    "D_constant.append(D_0)\n",
    "D_bounded.append(D_0)\n",
    "D_constant_bounded.append(D_0)\n",
    "accuracy = []\n",
    "accuracy_constant = []\n",
    "accuracy_bounded = []\n",
    "accuracy_constant_bounded = []\n",
    "\n",
    "for ix in range(10000):\n",
    "    accuracy_constant_,D_constant,p_constrained_constant = simulation_constant_intent(D_constant,learning_batch,alpha,alphaF=alphaF,alphaD=alphaD)\n",
    "    accuracy_constant.extend(accuracy_constant_)\n",
    "    accuracy_,D,p_constrained = simulation(D,learning_batch,alpha,alphaF=alphaF,alphaD=alphaD)    \n",
    "    accuracy.extend(accuracy_)\n",
    "    accuracy_bounded_,D_bounded,p_bounded = simulation_bounded_pos(D_bounded,learning_batch,alpha,alphaF=alphaF,alphaD=alphaD)  \n",
    "    accuracy_bounded.extend(accuracy_bounded_)\n",
    "    accuracy_constant_bounded_,D_constant_bounded,p_constant_bounded = simulation_constant_intent_bounded(D_constant_bounded,learning_batch,alpha,alphaF=alphaF,alphaD=alphaD)\n",
    "    accuracy_constant_bounded.extend(accuracy_constant_bounded_)"
   ]
  },
  {
   "cell_type": "markdown",
   "id": "552f3dc5",
   "metadata": {},
   "source": [
    "# get cumulative accuracy\n",
    "\n",
    "going with constant target -- ``simulation_constant_intent``"
   ]
  },
  {
   "cell_type": "code",
   "execution_count": 213,
   "id": "74b9f693",
   "metadata": {},
   "outputs": [],
   "source": [
    "def plot_cum_accuracy(accuracy,title):\n",
    "    cumulative_accuracy = []\n",
    "\n",
    "    for ix in range(len(accuracy)):\n",
    "        average_accuracy = np.mean(np.asarray(accuracy[0:ix]))\n",
    "        cumulative_accuracy.append(average_accuracy)\n",
    "\n",
    "    plt.plot(cumulative_accuracy)\n",
    "    plt.title(title)\n",
    "    plt.ylabel('percentage correct')\n",
    "    plt.xlabel('decoder update number')\n"
   ]
  },
  {
   "cell_type": "code",
   "execution_count": 214,
   "id": "c7e38b31",
   "metadata": {},
   "outputs": [
    {
     "name": "stderr",
     "output_type": "stream",
     "text": [
      "C:\\Users\\aolab\\.conda\\envs\\py369_env\\lib\\site-packages\\numpy\\core\\fromnumeric.py:3118: RuntimeWarning: Mean of empty slice.\n",
      "  out=out, **kwargs)\n",
      "C:\\Users\\aolab\\.conda\\envs\\py369_env\\lib\\site-packages\\numpy\\core\\_methods.py:85: RuntimeWarning: invalid value encountered in double_scalars\n",
      "  ret = ret.dtype.type(ret / rcount)\n"
     ]
    },
    {
     "data": {
      "image/png": "[encoded data removed]",
      "text/plain": [
       "<Figure size 432x288 with 1 Axes>"
      ]
     },
     "metadata": {
      "needs_background": "light"
     },
     "output_type": "display_data"
    }
   ],
   "source": [
    "plot_cum_accuracy(accuracy_constant,\"constant target - model 2\")"
   ]
  },
  {
   "cell_type": "code",
   "execution_count": 215,
   "id": "e86b8741",
   "metadata": {},
   "outputs": [
    {
     "data": {
      "image/png": "[encoded data removed]",
      "text/plain": [
       "<Figure size 432x288 with 1 Axes>"
      ]
     },
     "metadata": {
      "needs_background": "light"
     },
     "output_type": "display_data"
    }
   ],
   "source": [
    "plot_cum_accuracy(accuracy,\"baseline - model 1\")"
   ]
  },
  {
   "cell_type": "code",
   "execution_count": 216,
   "id": "6df2b0cb",
   "metadata": {},
   "outputs": [
    {
     "data": {
      "image/png": "[encoded data removed]",
      "text/plain": [
       "<Figure size 432x288 with 1 Axes>"
      ]
     },
     "metadata": {
      "needs_background": "light"
     },
     "output_type": "display_data"
    }
   ],
   "source": [
    "plot_cum_accuracy(accuracy_constant_bounded,\"bounded target, constant target - model 3\")"
   ]
  },
  {
   "cell_type": "code",
   "execution_count": 217,
   "id": "066d4004",
   "metadata": {},
   "outputs": [
    {
     "data": {
      "image/png": "[encoded data removed]",
      "text/plain": [
       "<Figure size 432x288 with 1 Axes>"
      ]
     },
     "metadata": {
      "needs_background": "light"
     },
     "output_type": "display_data"
    }
   ],
   "source": [
    "plot_cum_accuracy(accuracy_bounded,\"bounded target - model 4\")"
   ]
  },
  {
   "cell_type": "code",
   "execution_count": null,
   "id": "09448a42",
   "metadata": {},
   "outputs": [],
   "source": []
  },
  {
   "cell_type": "code",
   "execution_count": null,
   "id": "ea84114f",
   "metadata": {},
   "outputs": [],
   "source": []
  },
  {
   "cell_type": "code",
   "execution_count": null,
   "id": "01f4bbd2",
   "metadata": {},
   "outputs": [],
   "source": []
  }
 ],
 "metadata": {
  "kernelspec": {
   "display_name": "Python 3 (ipykernel)",
   "language": "python",
   "name": "python3"
  },
  "language_info": {
   "codemirror_mode": {
    "name": "ipython",
    "version": 3
   },
   "file_extension": ".py",
   "mimetype": "text/x-python",
   "name": "python",
   "nbconvert_exporter": "python",
   "pygments_lexer": "ipython3",
   "version": "3.10.10"
  }
 },
 "nbformat": 4,
 "nbformat_minor": 5
}
