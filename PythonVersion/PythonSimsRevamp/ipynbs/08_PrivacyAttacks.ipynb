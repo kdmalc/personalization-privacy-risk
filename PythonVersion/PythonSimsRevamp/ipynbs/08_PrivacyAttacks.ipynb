{
 "cells": [
  {
   "cell_type": "code",
   "execution_count": 2,
   "id": "89f9c39b-5e49-4097-b4ef-97fbd2832a06",
   "metadata": {},
   "outputs": [],
   "source": [
    "import os\n",
    "import numpy as np\n",
    "import random\n",
    "import pickle\n",
    "import copy\n",
    "from matplotlib import pyplot as plt\n",
    "from datetime import datetime\n",
    "from sklearn.model_selection import KFold\n",
    "\n",
    "np.random.seed(0)\n",
    "random.seed(0)"
   ]
  },
  {
   "cell_type": "code",
   "execution_count": null,
   "id": "49b1725c-7d47-4a1b-9b0d-0f3600660e20",
   "metadata": {},
   "outputs": [],
   "source": [
    "new_num_kfolds = 7"
   ]
  },
  {
   "cell_type": "code",
   "execution_count": 32,
   "id": "81b73345-c201-4d65-a2f7-f1e91ff4942d",
   "metadata": {},
   "outputs": [
    {
     "name": "stdout",
     "output_type": "stream",
     "text": [
      "['client_local_model_log', 'client_local_test_log', 'gradient_norm_lists_by_client', 'local_test_error_log', 'local_train_error_log']\n"
     ]
    }
   ],
   "source": [
    "# INTRA\n",
    "\n",
    "cv_results_path = r\"C:\\Users\\kdmen\\Desktop\\Research\\personalization-privacy-risk\\PythonVersion\\PythonSimsRevamp\\results\\FinalSims\"\n",
    "nofl_filename = \"FULLSCIPYMIN_NOFL_KFold0.h5\" \n",
    "\n",
    "directory_str = \"09-19_22-56_NOFL\"\n",
    "h5_path = os.path.join(cv_results_path, directory_str, nofl_filename)\n",
    "with h5py.File(h5_path, 'r') as f:\n",
    "    a_group_key = list(f.keys())#[0]\n",
    "    print(a_group_key)\n",
    "\n",
    "    local_test_error_log = f['local_test_error_log'][()]\n",
    "    local_train_error_log = f['local_train_error_log'][()]\n",
    "    \n",
    "    client_local_model_log_keys = list(f['client_local_model_log'].keys())\n",
    "    #print(\"Keys in 'client_local_test_log':\", client_local_model_log_keys)\n",
    "    client_local_model_log_data = {}\n",
    "    for key in client_local_test_log_keys:\n",
    "        try:\n",
    "            client_local_model_log_data[key] = f['client_local_model_log'][key][:]\n",
    "        except KeyError:\n",
    "            pass\n",
    "            \n",
    "    client_local_test_log_keys = list(f['client_local_test_log'].keys())\n",
    "    # Iterate over the keys and extract the corresponding data\n",
    "    client_local_test_log_data = {}\n",
    "    for key in client_local_test_log_keys:\n",
    "        client_local_test_log_data[key] = f['client_local_test_log'][key][:]\n",
    "\n",
    "    client_gradnorm_log_keys = list(f['gradient_norm_lists_by_client'].keys())\n",
    "    # Iterate over the keys and extract the corresponding data\n",
    "    client_gradnorm_log_data = {}\n",
    "    for key in client_gradnorm_log_keys:\n",
    "        client_gradnorm_log_data[key] = f['gradient_norm_lists_by_client'][key][:]\n"
   ]
  },
  {
   "cell_type": "code",
   "execution_count": null,
   "id": "4f80f317-0516-4aa3-a543-221add94f58c",
   "metadata": {},
   "outputs": [],
   "source": []
  },
  {
   "cell_type": "code",
   "execution_count": null,
   "id": "603da46b-0192-402c-b10e-34e9e9dfc0ab",
   "metadata": {},
   "outputs": [],
   "source": []
  },
  {
   "cell_type": "code",
   "execution_count": null,
   "id": "7a6ba859-b3ec-406d-baf4-ab059707c534",
   "metadata": {},
   "outputs": [],
   "source": []
  },
  {
   "cell_type": "code",
   "execution_count": null,
   "id": "6064b89b-1d6b-4b79-a875-260ddd5fd706",
   "metadata": {},
   "outputs": [],
   "source": []
  },
  {
   "cell_type": "code",
   "execution_count": null,
   "id": "aa18658d-480a-492e-bed9-89a61f365030",
   "metadata": {},
   "outputs": [],
   "source": []
  },
  {
   "cell_type": "code",
   "execution_count": null,
   "id": "39996a74-f0c8-487e-8597-d3469545fd82",
   "metadata": {},
   "outputs": [],
   "source": []
  },
  {
   "cell_type": "code",
   "execution_count": null,
   "id": "30bf63e6-e122-4460-a2ef-8febf00e09e8",
   "metadata": {},
   "outputs": [],
   "source": []
  },
  {
   "cell_type": "code",
   "execution_count": null,
   "id": "73c30ed9-c753-42a6-b226-6ff48db88b90",
   "metadata": {},
   "outputs": [],
   "source": []
  },
  {
   "cell_type": "code",
   "execution_count": null,
   "id": "fba1d788-66a5-4279-971f-9ef22e26840c",
   "metadata": {},
   "outputs": [],
   "source": []
  },
  {
   "cell_type": "code",
   "execution_count": null,
   "id": "f877ac05-455f-4250-874b-73706ea12e27",
   "metadata": {},
   "outputs": [],
   "source": []
  },
  {
   "cell_type": "code",
   "execution_count": null,
   "id": "53fc3702-d9e1-467a-800a-ad9b39f57dcb",
   "metadata": {},
   "outputs": [],
   "source": []
  },
  {
   "cell_type": "code",
   "execution_count": null,
   "id": "aedd7077-f9be-468c-9c7e-7d1c8a107054",
   "metadata": {},
   "outputs": [],
   "source": []
  },
  {
   "cell_type": "code",
   "execution_count": null,
   "id": "2190ccb7-76a1-421e-8746-24c67e0a535c",
   "metadata": {},
   "outputs": [],
   "source": []
  },
  {
   "cell_type": "code",
   "execution_count": null,
   "id": "fb17d429-a97e-4949-8a2b-5c9ca83c7c8c",
   "metadata": {},
   "outputs": [],
   "source": []
  }
 ],
 "metadata": {
  "kernelspec": {
   "display_name": "Python 3 (ipykernel)",
   "language": "python",
   "name": "python3"
  },
  "language_info": {
   "codemirror_mode": {
    "name": "ipython",
    "version": 3
   },
   "file_extension": ".py",
   "mimetype": "text/x-python",
   "name": "python",
   "nbconvert_exporter": "python",
   "pygments_lexer": "ipython3",
   "version": "3.10.12"
  }
 },
 "nbformat": 4,
 "nbformat_minor": 5
}
