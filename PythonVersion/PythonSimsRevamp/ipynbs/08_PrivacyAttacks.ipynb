{
 "cells": [
  {
   "cell_type": "code",
   "execution_count": 1,
   "id": "89f9c39b-5e49-4097-b4ef-97fbd2832a06",
   "metadata": {},
   "outputs": [],
   "source": [
    "import os\n",
    "import numpy as np\n",
    "import random\n",
    "import pickle\n",
    "import copy\n",
    "from matplotlib import pyplot as plt\n",
    "from datetime import datetime\n",
    "from sklearn.model_selection import KFold\n",
    "import h5py\n",
    "\n",
    "np.random.seed(0)\n",
    "random.seed(0)"
   ]
  },
  {
   "cell_type": "code",
   "execution_count": 34,
   "id": "49b1725c-7d47-4a1b-9b0d-0f3600660e20",
   "metadata": {},
   "outputs": [],
   "source": [
    "new_num_kfolds = 7\n",
    "NUM_CLIENTS = 14\n",
    "local_round_threshold = 20\n",
    "num_usuable_updates = 7"
   ]
  },
  {
   "cell_type": "code",
   "execution_count": 3,
   "id": "fbb5d89b-14a8-455b-8913-55c31f6005b4",
   "metadata": {},
   "outputs": [
    {
     "data": {
      "text/plain": [
       "'09-19_23-30_NOFL'"
      ]
     },
     "execution_count": 3,
     "metadata": {},
     "output_type": "execute_result"
    }
   ],
   "source": [
    "# INTRA\n",
    "'09-19_22-56_NOFL'\n",
    "'09-19_23-04_FEDAVG' \n",
    "'09-19_23-05_PFAFO_GDLS'\n",
    "\n",
    "# CROSS\n",
    "'09-19_23-07_PFAFO_GDLS'\n",
    "'09-19_23-25_FEDAVG'\n",
    "'09-19_23-30_NOFL'"
   ]
  },
  {
   "cell_type": "code",
   "execution_count": 4,
   "id": "81b73345-c201-4d65-a2f7-f1e91ff4942d",
   "metadata": {},
   "outputs": [
    {
     "name": "stdout",
     "output_type": "stream",
     "text": [
      "['client_local_model_log', 'client_local_test_log', 'global_dec_log', 'global_test_error_log', 'global_train_error_log', 'gradient_norm_lists_by_client', 'local_test_error_log', 'local_train_error_log']\n"
     ]
    }
   ],
   "source": [
    "# CROSS\n",
    "\n",
    "cv_results_path = r\"C:\\Users\\kdmen\\Desktop\\Research\\personalization-privacy-risk\\PythonVersion\\PythonSimsRevamp\\results\\FinalSims\"\n",
    "nofl_filename = \"FULLSCIPYMIN_NOFL_KFold0.h5\" \n",
    "fedavg_filename = \"GDLS_FEDAVG_KFold0.h5\" \n",
    "\n",
    "directory_str = \"09-19_23-25_FEDAVG\"\n",
    "h5_path = os.path.join(cv_results_path, directory_str, fedavg_filename)\n",
    "with h5py.File(h5_path, 'r') as f:\n",
    "    a_group_key = list(f.keys())#[0]\n",
    "    print(a_group_key)\n",
    "\n",
    "    local_test_error_log = f['local_test_error_log'][()]\n",
    "    local_train_error_log = f['local_train_error_log'][()]\n",
    "    \n",
    "    client_local_model_log_keys = list(f['client_local_model_log'].keys())\n",
    "    #print(\"Keys in 'client_local_test_log':\", client_local_model_log_keys)\n",
    "    client_local_model_log_data = {}\n",
    "    for key in client_local_model_log_keys:\n",
    "        try:\n",
    "            client_local_model_log_data[key] = f['client_local_model_log'][key][:]\n",
    "        except KeyError:\n",
    "            pass\n",
    "            \n",
    "    client_local_test_log_keys = list(f['client_local_test_log'].keys())\n",
    "    # Iterate over the keys and extract the corresponding data\n",
    "    client_local_test_log_data = {}\n",
    "    for key in client_local_test_log_keys:\n",
    "        client_local_test_log_data[key] = f['client_local_test_log'][key][:]\n",
    "\n",
    "    client_gradnorm_log_keys = list(f['gradient_norm_lists_by_client'].keys())\n",
    "    # Iterate over the keys and extract the corresponding data\n",
    "    client_gradnorm_log_data = {}\n",
    "    for key in client_gradnorm_log_keys:\n",
    "        client_gradnorm_log_data[key] = f['gradient_norm_lists_by_client'][key][:]\n",
    "\n",
    "    if \"FEDAVG\" in directory_str:\n",
    "        global_dec_log = f['global_dec_log'][()]\n"
   ]
  },
  {
   "cell_type": "code",
   "execution_count": 5,
   "id": "56f8f5bf-918e-45cc-a7bc-c97de12271f5",
   "metadata": {},
   "outputs": [
    {
     "data": {
      "text/plain": [
       "['S0_client_local_model_log',\n",
       " 'S10_client_local_model_log',\n",
       " 'S11_client_local_model_log',\n",
       " 'S12_client_local_model_log',\n",
       " 'S13_client_local_model_log',\n",
       " 'S1_client_local_model_log',\n",
       " 'S2_client_local_model_log',\n",
       " 'S3_client_local_model_log',\n",
       " 'S4_client_local_model_log',\n",
       " 'S5_client_local_model_log',\n",
       " 'S6_client_local_model_log',\n",
       " 'S7_client_local_model_log',\n",
       " 'S8_client_local_model_log',\n",
       " 'S9_client_local_model_log']"
      ]
     },
     "execution_count": 5,
     "metadata": {},
     "output_type": "execute_result"
    }
   ],
   "source": [
    "client_local_model_log_keys"
   ]
  },
  {
   "cell_type": "code",
   "execution_count": 8,
   "id": "ef80738a-3542-4ff8-b977-cca829207177",
   "metadata": {},
   "outputs": [
    {
     "name": "stdout",
     "output_type": "stream",
     "text": [
      "(1, 2, 64)\n",
      "(105, 2, 64)\n",
      "(105, 2, 64)\n",
      "(114, 2, 64)\n",
      "(104, 2, 64)\n",
      "(1, 2, 64)\n",
      "(106, 2, 64)\n",
      "(103, 2, 64)\n",
      "(104, 2, 64)\n",
      "(106, 2, 64)\n",
      "(101, 2, 64)\n",
      "(104, 2, 64)\n",
      "(105, 2, 64)\n",
      "(105, 2, 64)\n"
     ]
    }
   ],
   "source": [
    "for i in range(NUM_CLIENTS):\n",
    "    print(client_local_model_log_data[client_local_model_log_keys[i]].shape)"
   ]
  },
  {
   "cell_type": "code",
   "execution_count": 9,
   "id": "dcded4bb-1ca0-4142-b692-f2f2e7b81d2b",
   "metadata": {},
   "outputs": [
    {
     "data": {
      "text/plain": [
       "(251, 2, 64)"
      ]
     },
     "execution_count": 9,
     "metadata": {},
     "output_type": "execute_result"
    }
   ],
   "source": [
    "global_dec_log.shape"
   ]
  },
  {
   "cell_type": "markdown",
   "id": "ef4c6a78-c098-4024-993a-827f1bd013f8",
   "metadata": {},
   "source": [
    "## Mutual Information"
   ]
  },
  {
   "cell_type": "code",
   "execution_count": 10,
   "id": "e8514079-83c9-4608-9bbe-017da5954073",
   "metadata": {},
   "outputs": [],
   "source": [
    "from sklearn.neighbors import KernelDensity\n",
    "from sklearn.metrics import mutual_info_score\n",
    "import numpy as np\n",
    "from sklearn.decomposition import PCA\n",
    "from sklearn.feature_selection import mutual_info_regression"
   ]
  },
  {
   "cell_type": "code",
   "execution_count": 14,
   "id": "5fcf9ee2-c870-4885-8173-d4fcc1a9429a",
   "metadata": {},
   "outputs": [],
   "source": [
    "import os\n",
    "import random\n",
    "import pickle\n",
    "\n",
    "path = r'C:\\Users\\kdmen\\Desktop\\Research\\Data\\CPHS_EMG'\n",
    "model_saving_dir = r\"C:\\Users\\kdmen\\Desktop\\Research\\personalization-privacy-risk\\PythonVersion\\PythonSimsRevamp\\models\"\n",
    "cond0_filename = r'\\cond0_dict_list.p'\n",
    "\n",
    "np.random.seed(0)\n",
    "random.seed(0)\n",
    "\n",
    "with open(path+cond0_filename, 'rb') as fp:\n",
    "    cond0_training_and_labels_lst = pickle.load(fp)"
   ]
  },
  {
   "cell_type": "code",
   "execution_count": 12,
   "id": "8d0c1ff2-8cbc-493b-a849-957d29ad6b4e",
   "metadata": {},
   "outputs": [
    {
     "name": "stdout",
     "output_type": "stream",
     "text": [
      "[   0 1202 2404 3606 4808 6010 7212]\n"
     ]
    }
   ],
   "source": [
    "NUM_CLIENTS = 14\n",
    "update_ix = [0,  1200,  2402,  3604,  4806,  6008,  7210,  8412,  9614, 10816, 12018, 13220, 14422, 15624, 16826, 18028, 19230, 20432, 20769]\n",
    "STARTING_UPDATE = 10\n",
    "starting_update_ix = update_ix[STARTING_UPDATE]\n",
    "final_usable_update = 17\n",
    "final_usable_update_ix = update_ix[final_usable_update]\n",
    "adj_update_ix = np.array(update_ix[STARTING_UPDATE:final_usable_update]) - starting_update_ix\n",
    "print(adj_update_ix)"
   ]
  },
  {
   "cell_type": "code",
   "execution_count": 16,
   "id": "d3d0a541-1ced-4d55-b04d-6c2747a4a9cc",
   "metadata": {},
   "outputs": [],
   "source": [
    "client_data = dict()\n",
    "client_labels = dict()\n",
    "# Sets the full data and label sets for each client\n",
    "for i in range(NUM_CLIENTS):\n",
    "    client_data[i] = cond0_training_and_labels_lst[i]['training'][starting_update_ix:final_usable_update_ix, :]\n",
    "    client_labels[i] = cond0_training_and_labels_lst[i]['labels'][starting_update_ix:final_usable_update_ix, :]\n",
    "\n",
    "upper_bound = 1202\n",
    "lower_bound = 0\n",
    "\n",
    "# Need to edit each update so taht it is preprocessed (eg normalized, for PFA create 2 batches?)\n",
    "## And need to divide each into updates, right now is just a full matrix\n",
    "## Create F, v, p, etc? ... I think I'm only using F..."
   ]
  },
  {
   "cell_type": "code",
   "execution_count": 20,
   "id": "d777962f-ccac-4aa5-8f63-926e71ae48e4",
   "metadata": {},
   "outputs": [
    {
     "name": "stdout",
     "output_type": "stream",
     "text": [
      "Cli 0: Dataset shape (8414, 64), divisible by 1202? 7.0\n",
      "Cli 1: Dataset shape (8414, 64), divisible by 1202? 7.0\n",
      "Cli 2: Dataset shape (8414, 64), divisible by 1202? 7.0\n",
      "Cli 3: Dataset shape (8414, 64), divisible by 1202? 7.0\n",
      "Cli 4: Dataset shape (8414, 64), divisible by 1202? 7.0\n",
      "Cli 5: Dataset shape (8414, 64), divisible by 1202? 7.0\n",
      "Cli 6: Dataset shape (8414, 64), divisible by 1202? 7.0\n",
      "Cli 7: Dataset shape (8414, 64), divisible by 1202? 7.0\n",
      "Cli 8: Dataset shape (8414, 64), divisible by 1202? 7.0\n",
      "Cli 9: Dataset shape (8414, 64), divisible by 1202? 7.0\n",
      "Cli 10: Dataset shape (8414, 64), divisible by 1202? 7.0\n",
      "Cli 11: Dataset shape (8414, 64), divisible by 1202? 7.0\n",
      "Cli 12: Dataset shape (8414, 64), divisible by 1202? 7.0\n",
      "Cli 13: Dataset shape (8414, 64), divisible by 1202? 7.0\n"
     ]
    }
   ],
   "source": [
    "for i in range(NUM_CLIENTS):\n",
    "    print(f\"Cli {i}: Dataset shape {client_data[i].shape}, divisible by 1202? {client_data[i].shape[0]/1202}\")"
   ]
  },
  {
   "cell_type": "code",
   "execution_count": null,
   "id": "0a4c553c-2c43-4988-a944-5e8980895394",
   "metadata": {},
   "outputs": [],
   "source": [
    "# Thus, everything is already partitioned into the updates of size 1202 for me, and the 7 folds"
   ]
  },
  {
   "cell_type": "code",
   "execution_count": 25,
   "id": "6afa2387-f0dc-4a1a-8954-7020ac993a43",
   "metadata": {},
   "outputs": [],
   "source": [
    "client_F_dict = dict()\n",
    "for i in range(NUM_CLIENTS):\n",
    "    client_dataset = client_data[i]\n",
    "    cli_F_lst = []\n",
    "\n",
    "    chunk_size = 1202\n",
    "    for j in range(0, len(client_dataset), chunk_size):\n",
    "        s_temp = client_dataset[j:j + chunk_size]\n",
    "\n",
    "        #s_temp = copy.deepcopy(self.training_data[lower_bound:upper_bound,:])\n",
    "        #self.p_reference = copy.deepcopy(np.transpose(self.training_labels[lower_bound:upper_bound,:]))\n",
    "            \n",
    "        if \"PFA\" in directory_str:\n",
    "            mid_point = upper_bound//2\n",
    "            s_temp2 = copy.deepcopy(s_temp[mid_point:upper_bound,:])\n",
    "            s_temp = copy.deepcopy(s_temp[lower_bound:mid_point,:])\n",
    "\n",
    "            s_normed = s_temp/np.amax(s_temp)\n",
    "            s = np.transpose(s_normed)\n",
    "            F = s[:,:-1] # note: truncate F for estimate_decoder\n",
    "            #v_actual = self.w@self.s\n",
    "            #p_actual = np.cumsum(v_actual, axis=1)*self.dt  # Numerical integration of v_actual to get p_actual\n",
    "            \n",
    "            #self.p_reference2 = copy.deepcopy(np.transpose(self.training_labels[mid_point:upper_bound,:]))\n",
    "            s_normed2 = s_temp2/np.amax(s_temp2)\n",
    "            s2 = np.transpose(s_normed2)\n",
    "            F2 = self.s2[:,:-1] # note: truncate F for estimate_decoder\n",
    "            #v_actual2 = self.w@self.s2\n",
    "            #p_actual2 = np.cumsum(v_actual2, axis=1)*self.dt  # Numerical integration of v_actual to get p_actual\n",
    "            \n",
    "            cli_F_lst.append(F)\n",
    "            cli_F_lst.append(F2)\n",
    "        else:\n",
    "            s_normed = s_temp/np.amax(s_temp)\n",
    "            s = np.transpose(s_normed)\n",
    "            F = s[:,:-1] # note: truncate F for estimate_decoder\n",
    "            cli_F_lst.append(F)\n",
    "    \n",
    "    client_F_dict[i] = copy.deepcopy(cli_F_lst)\n"
   ]
  },
  {
   "cell_type": "code",
   "execution_count": 46,
   "id": "b0f5c0d1-5a75-4ade-964f-1ab436f5f377",
   "metadata": {},
   "outputs": [],
   "source": [
    "# Find the longest array based on shape[0]\n",
    "max_length = max(client_local_model_log_data[key].shape[0] for key in client_local_model_log_keys)\n",
    "# Generate the indices for equally spaced sampling from global_dec_log\n",
    "indices = np.linspace(0, len(global_dec_log) - 1, max_length).astype(int)\n",
    "# Sample global_dec_log to match the length of the longest client array\n",
    "sampled_global_dec_log = global_dec_log[indices]"
   ]
  },
  {
   "cell_type": "code",
   "execution_count": 48,
   "id": "d369405a-d7cf-43d4-9eab-b26b358da198",
   "metadata": {},
   "outputs": [
    {
     "name": "stdout",
     "output_type": "stream",
     "text": [
      "Cli 0 skipped for being too short!\n"
     ]
    },
    {
     "ename": "ValueError",
     "evalue": "Expected 2D array, got 1D array instead:\narray=[ 1.61853578 -0.05241973 -1.48932333 -0.03775793 -1.46250113 -0.036605\n -0.65015244 -0.16457455 -0.68384152 -0.17121581  2.31732347 -0.17282482\n  2.32191697 -0.18583318  1.63069617 -0.18500374  1.60433625 -0.18605728\n -1.64564529 -0.04443971  0.87458748 -0.10993016  0.8837154  -0.11026909\n  0.97318932 -0.12709926 -1.34630024 -0.08066563  1.23202806 -0.15725434\n -1.68915978 -0.04626251  1.96575053 -0.20341307  1.97050534 -0.20357212\n  2.7377672  -0.12491077  2.68156069 -0.12567602  2.11714516 -0.19398344\n -0.45689085  0.01854197 -0.50499446 -0.00899143 -0.9180853  -0.01595032\n -0.99811455 -0.025854   -0.91314379 -0.04796634 -0.78707961 -0.05559237\n -0.61341076 -0.05028045  2.25510326 -0.20158185 -1.73259247 -0.0481771\n  0.25866457  2.39435427  1.20565099  2.57477129  2.37219268  0.08577424\n  1.38139628 -0.17867383  1.40222057 -0.17883229  0.93540244 -0.12392266\n  0.90661241 -0.12226623 -1.72373686 -0.04784751 -1.73009022 -0.04804858\n -1.67485285 -0.04566534 -1.01010666 -0.0215415  -1.73252557 -0.04816405\n -1.65697339 -0.04483903 -1.73894638 -0.04853015  2.92612954 -0.13440427\n -1.0395642   0.03294817 -1.68351376 -0.04596925 -1.70277606 -0.04688709\n -1.59139136 -0.04200064 -1.52251007 -0.03910005 -1.12091831 -0.0320706\n -1.37260422 -0.03257889 -1.68905575 -0.0463121   2.92571137 -0.00901796\n  2.88524859 -0.00426114 -1.72340098 -0.04770045 -1.69602713 -0.0464844\n  2.27768428 -0.13796515  0.0687447  -0.06946914  1.46174308 -0.14173927\n -1.67633734 -0.04567148 -1.53284172 -0.03951662 -1.3157556  -0.03018443\n -1.36639865 -0.0325638 ].\nReshape your data either using array.reshape(-1, 1) if your data has a single feature or array.reshape(1, -1) if it contains a single sample.",
     "output_type": "error",
     "traceback": [
      "\u001b[1;31m---------------------------------------------------------------------------\u001b[0m",
      "\u001b[1;31mValueError\u001b[0m                                Traceback (most recent call last)",
      "Cell \u001b[1;32mIn[48], line 31\u001b[0m\n\u001b[0;32m     28\u001b[0m X_train_PCA \u001b[38;5;241m=\u001b[39m pca\u001b[38;5;241m.\u001b[39mfit_transform(X_train)\u001b[38;5;241m.\u001b[39mflatten()\n\u001b[0;32m     30\u001b[0m \u001b[38;5;66;03m# Step 2: Compute mutual information between reduced training data and local model weights\u001b[39;00m\n\u001b[1;32m---> 31\u001b[0m cli_mi_local[i]\u001b[38;5;241m.\u001b[39mappend(\u001b[43mmutual_info_regression\u001b[49m\u001b[43m(\u001b[49m\u001b[43mX_train_PCA\u001b[49m\u001b[43m,\u001b[49m\u001b[43m \u001b[49m\u001b[43mmodel\u001b[49m\u001b[38;5;241;43m.\u001b[39;49m\u001b[43mflatten\u001b[49m\u001b[43m(\u001b[49m\u001b[43m)\u001b[49m\u001b[43m)\u001b[49m)\n\u001b[0;32m     33\u001b[0m \u001b[38;5;66;03m# COMPARE EACH GLOBAL MODEL (from the adjusted list) TO THE TRAINING DATA\u001b[39;00m\n\u001b[0;32m     34\u001b[0m \u001b[38;5;66;03m#if model_idx%20==0:\u001b[39;00m\n\u001b[0;32m     35\u001b[0m cli_mi_global\u001b[38;5;241m.\u001b[39mappend(mutual_info_regression(X_train_PCA, sampled_global_dec_log[model_idx]\u001b[38;5;241m.\u001b[39mflatten()))\n",
      "File \u001b[1;32m~\\miniconda3\\envs\\fl_torch\\lib\\site-packages\\sklearn\\feature_selection\\_mutual_info.py:388\u001b[0m, in \u001b[0;36mmutual_info_regression\u001b[1;34m(X, y, discrete_features, n_neighbors, copy, random_state)\u001b[0m\n\u001b[0;32m    312\u001b[0m \u001b[38;5;28;01mdef\u001b[39;00m \u001b[38;5;21mmutual_info_regression\u001b[39m(\n\u001b[0;32m    313\u001b[0m     X, y, \u001b[38;5;241m*\u001b[39m, discrete_features\u001b[38;5;241m=\u001b[39m\u001b[38;5;124m\"\u001b[39m\u001b[38;5;124mauto\u001b[39m\u001b[38;5;124m\"\u001b[39m, n_neighbors\u001b[38;5;241m=\u001b[39m\u001b[38;5;241m3\u001b[39m, copy\u001b[38;5;241m=\u001b[39m\u001b[38;5;28;01mTrue\u001b[39;00m, random_state\u001b[38;5;241m=\u001b[39m\u001b[38;5;28;01mNone\u001b[39;00m\n\u001b[0;32m    314\u001b[0m ):\n\u001b[0;32m    315\u001b[0m \u001b[38;5;250m    \u001b[39m\u001b[38;5;124;03m\"\"\"Estimate mutual information for a continuous target variable.\u001b[39;00m\n\u001b[0;32m    316\u001b[0m \n\u001b[0;32m    317\u001b[0m \u001b[38;5;124;03m    Mutual information (MI) [1]_ between two random variables is a non-negative\u001b[39;00m\n\u001b[1;32m   (...)\u001b[0m\n\u001b[0;32m    386\u001b[0m \u001b[38;5;124;03m           of a Random Vector\", Probl. Peredachi Inf., 23:2 (1987), 9-16\u001b[39;00m\n\u001b[0;32m    387\u001b[0m \u001b[38;5;124;03m    \"\"\"\u001b[39;00m\n\u001b[1;32m--> 388\u001b[0m     \u001b[38;5;28;01mreturn\u001b[39;00m \u001b[43m_estimate_mi\u001b[49m\u001b[43m(\u001b[49m\u001b[43mX\u001b[49m\u001b[43m,\u001b[49m\u001b[43m \u001b[49m\u001b[43my\u001b[49m\u001b[43m,\u001b[49m\u001b[43m \u001b[49m\u001b[43mdiscrete_features\u001b[49m\u001b[43m,\u001b[49m\u001b[43m \u001b[49m\u001b[38;5;28;43;01mFalse\u001b[39;49;00m\u001b[43m,\u001b[49m\u001b[43m \u001b[49m\u001b[43mn_neighbors\u001b[49m\u001b[43m,\u001b[49m\u001b[43m \u001b[49m\u001b[43mcopy\u001b[49m\u001b[43m,\u001b[49m\u001b[43m \u001b[49m\u001b[43mrandom_state\u001b[49m\u001b[43m)\u001b[49m\n",
      "File \u001b[1;32m~\\miniconda3\\envs\\fl_torch\\lib\\site-packages\\sklearn\\feature_selection\\_mutual_info.py:255\u001b[0m, in \u001b[0;36m_estimate_mi\u001b[1;34m(X, y, discrete_features, discrete_target, n_neighbors, copy, random_state)\u001b[0m\n\u001b[0;32m    198\u001b[0m \u001b[38;5;28;01mdef\u001b[39;00m \u001b[38;5;21m_estimate_mi\u001b[39m(\n\u001b[0;32m    199\u001b[0m     X,\n\u001b[0;32m    200\u001b[0m     y,\n\u001b[1;32m   (...)\u001b[0m\n\u001b[0;32m    205\u001b[0m     random_state\u001b[38;5;241m=\u001b[39m\u001b[38;5;28;01mNone\u001b[39;00m,\n\u001b[0;32m    206\u001b[0m ):\n\u001b[0;32m    207\u001b[0m \u001b[38;5;250m    \u001b[39m\u001b[38;5;124;03m\"\"\"Estimate mutual information between the features and the target.\u001b[39;00m\n\u001b[0;32m    208\u001b[0m \n\u001b[0;32m    209\u001b[0m \u001b[38;5;124;03m    Parameters\u001b[39;00m\n\u001b[1;32m   (...)\u001b[0m\n\u001b[0;32m    253\u001b[0m \u001b[38;5;124;03m           Data Sets\". PLoS ONE 9(2), 2014.\u001b[39;00m\n\u001b[0;32m    254\u001b[0m \u001b[38;5;124;03m    \"\"\"\u001b[39;00m\n\u001b[1;32m--> 255\u001b[0m     X, y \u001b[38;5;241m=\u001b[39m \u001b[43mcheck_X_y\u001b[49m\u001b[43m(\u001b[49m\u001b[43mX\u001b[49m\u001b[43m,\u001b[49m\u001b[43m \u001b[49m\u001b[43my\u001b[49m\u001b[43m,\u001b[49m\u001b[43m \u001b[49m\u001b[43maccept_sparse\u001b[49m\u001b[38;5;241;43m=\u001b[39;49m\u001b[38;5;124;43m\"\u001b[39;49m\u001b[38;5;124;43mcsc\u001b[39;49m\u001b[38;5;124;43m\"\u001b[39;49m\u001b[43m,\u001b[49m\u001b[43m \u001b[49m\u001b[43my_numeric\u001b[49m\u001b[38;5;241;43m=\u001b[39;49m\u001b[38;5;129;43;01mnot\u001b[39;49;00m\u001b[43m \u001b[49m\u001b[43mdiscrete_target\u001b[49m\u001b[43m)\u001b[49m\n\u001b[0;32m    256\u001b[0m     n_samples, n_features \u001b[38;5;241m=\u001b[39m X\u001b[38;5;241m.\u001b[39mshape\n\u001b[0;32m    258\u001b[0m     \u001b[38;5;28;01mif\u001b[39;00m \u001b[38;5;28misinstance\u001b[39m(discrete_features, (\u001b[38;5;28mstr\u001b[39m, \u001b[38;5;28mbool\u001b[39m)):\n",
      "File \u001b[1;32m~\\miniconda3\\envs\\fl_torch\\lib\\site-packages\\sklearn\\utils\\validation.py:1104\u001b[0m, in \u001b[0;36mcheck_X_y\u001b[1;34m(X, y, accept_sparse, accept_large_sparse, dtype, order, copy, force_all_finite, ensure_2d, allow_nd, multi_output, ensure_min_samples, ensure_min_features, y_numeric, estimator)\u001b[0m\n\u001b[0;32m   1099\u001b[0m         estimator_name \u001b[38;5;241m=\u001b[39m _check_estimator_name(estimator)\n\u001b[0;32m   1100\u001b[0m     \u001b[38;5;28;01mraise\u001b[39;00m \u001b[38;5;167;01mValueError\u001b[39;00m(\n\u001b[0;32m   1101\u001b[0m         \u001b[38;5;124mf\u001b[39m\u001b[38;5;124m\"\u001b[39m\u001b[38;5;132;01m{\u001b[39;00mestimator_name\u001b[38;5;132;01m}\u001b[39;00m\u001b[38;5;124m requires y to be passed, but the target y is None\u001b[39m\u001b[38;5;124m\"\u001b[39m\n\u001b[0;32m   1102\u001b[0m     )\n\u001b[1;32m-> 1104\u001b[0m X \u001b[38;5;241m=\u001b[39m \u001b[43mcheck_array\u001b[49m\u001b[43m(\u001b[49m\n\u001b[0;32m   1105\u001b[0m \u001b[43m    \u001b[49m\u001b[43mX\u001b[49m\u001b[43m,\u001b[49m\n\u001b[0;32m   1106\u001b[0m \u001b[43m    \u001b[49m\u001b[43maccept_sparse\u001b[49m\u001b[38;5;241;43m=\u001b[39;49m\u001b[43maccept_sparse\u001b[49m\u001b[43m,\u001b[49m\n\u001b[0;32m   1107\u001b[0m \u001b[43m    \u001b[49m\u001b[43maccept_large_sparse\u001b[49m\u001b[38;5;241;43m=\u001b[39;49m\u001b[43maccept_large_sparse\u001b[49m\u001b[43m,\u001b[49m\n\u001b[0;32m   1108\u001b[0m \u001b[43m    \u001b[49m\u001b[43mdtype\u001b[49m\u001b[38;5;241;43m=\u001b[39;49m\u001b[43mdtype\u001b[49m\u001b[43m,\u001b[49m\n\u001b[0;32m   1109\u001b[0m \u001b[43m    \u001b[49m\u001b[43morder\u001b[49m\u001b[38;5;241;43m=\u001b[39;49m\u001b[43morder\u001b[49m\u001b[43m,\u001b[49m\n\u001b[0;32m   1110\u001b[0m \u001b[43m    \u001b[49m\u001b[43mcopy\u001b[49m\u001b[38;5;241;43m=\u001b[39;49m\u001b[43mcopy\u001b[49m\u001b[43m,\u001b[49m\n\u001b[0;32m   1111\u001b[0m \u001b[43m    \u001b[49m\u001b[43mforce_all_finite\u001b[49m\u001b[38;5;241;43m=\u001b[39;49m\u001b[43mforce_all_finite\u001b[49m\u001b[43m,\u001b[49m\n\u001b[0;32m   1112\u001b[0m \u001b[43m    \u001b[49m\u001b[43mensure_2d\u001b[49m\u001b[38;5;241;43m=\u001b[39;49m\u001b[43mensure_2d\u001b[49m\u001b[43m,\u001b[49m\n\u001b[0;32m   1113\u001b[0m \u001b[43m    \u001b[49m\u001b[43mallow_nd\u001b[49m\u001b[38;5;241;43m=\u001b[39;49m\u001b[43mallow_nd\u001b[49m\u001b[43m,\u001b[49m\n\u001b[0;32m   1114\u001b[0m \u001b[43m    \u001b[49m\u001b[43mensure_min_samples\u001b[49m\u001b[38;5;241;43m=\u001b[39;49m\u001b[43mensure_min_samples\u001b[49m\u001b[43m,\u001b[49m\n\u001b[0;32m   1115\u001b[0m \u001b[43m    \u001b[49m\u001b[43mensure_min_features\u001b[49m\u001b[38;5;241;43m=\u001b[39;49m\u001b[43mensure_min_features\u001b[49m\u001b[43m,\u001b[49m\n\u001b[0;32m   1116\u001b[0m \u001b[43m    \u001b[49m\u001b[43mestimator\u001b[49m\u001b[38;5;241;43m=\u001b[39;49m\u001b[43mestimator\u001b[49m\u001b[43m,\u001b[49m\n\u001b[0;32m   1117\u001b[0m \u001b[43m    \u001b[49m\u001b[43minput_name\u001b[49m\u001b[38;5;241;43m=\u001b[39;49m\u001b[38;5;124;43m\"\u001b[39;49m\u001b[38;5;124;43mX\u001b[39;49m\u001b[38;5;124;43m\"\u001b[39;49m\u001b[43m,\u001b[49m\n\u001b[0;32m   1118\u001b[0m \u001b[43m\u001b[49m\u001b[43m)\u001b[49m\n\u001b[0;32m   1120\u001b[0m y \u001b[38;5;241m=\u001b[39m _check_y(y, multi_output\u001b[38;5;241m=\u001b[39mmulti_output, y_numeric\u001b[38;5;241m=\u001b[39my_numeric, estimator\u001b[38;5;241m=\u001b[39mestimator)\n\u001b[0;32m   1122\u001b[0m check_consistent_length(X, y)\n",
      "File \u001b[1;32m~\\miniconda3\\envs\\fl_torch\\lib\\site-packages\\sklearn\\utils\\validation.py:900\u001b[0m, in \u001b[0;36mcheck_array\u001b[1;34m(array, accept_sparse, accept_large_sparse, dtype, order, copy, force_all_finite, ensure_2d, allow_nd, ensure_min_samples, ensure_min_features, estimator, input_name)\u001b[0m\n\u001b[0;32m    898\u001b[0m     \u001b[38;5;66;03m# If input is 1D raise error\u001b[39;00m\n\u001b[0;32m    899\u001b[0m     \u001b[38;5;28;01mif\u001b[39;00m array\u001b[38;5;241m.\u001b[39mndim \u001b[38;5;241m==\u001b[39m \u001b[38;5;241m1\u001b[39m:\n\u001b[1;32m--> 900\u001b[0m         \u001b[38;5;28;01mraise\u001b[39;00m \u001b[38;5;167;01mValueError\u001b[39;00m(\n\u001b[0;32m    901\u001b[0m             \u001b[38;5;124m\"\u001b[39m\u001b[38;5;124mExpected 2D array, got 1D array instead:\u001b[39m\u001b[38;5;130;01m\\n\u001b[39;00m\u001b[38;5;124marray=\u001b[39m\u001b[38;5;132;01m{}\u001b[39;00m\u001b[38;5;124m.\u001b[39m\u001b[38;5;130;01m\\n\u001b[39;00m\u001b[38;5;124m\"\u001b[39m\n\u001b[0;32m    902\u001b[0m             \u001b[38;5;124m\"\u001b[39m\u001b[38;5;124mReshape your data either using array.reshape(-1, 1) if \u001b[39m\u001b[38;5;124m\"\u001b[39m\n\u001b[0;32m    903\u001b[0m             \u001b[38;5;124m\"\u001b[39m\u001b[38;5;124myour data has a single feature or array.reshape(1, -1) \u001b[39m\u001b[38;5;124m\"\u001b[39m\n\u001b[0;32m    904\u001b[0m             \u001b[38;5;124m\"\u001b[39m\u001b[38;5;124mif it contains a single sample.\u001b[39m\u001b[38;5;124m\"\u001b[39m\u001b[38;5;241m.\u001b[39mformat(array)\n\u001b[0;32m    905\u001b[0m         )\n\u001b[0;32m    907\u001b[0m \u001b[38;5;28;01mif\u001b[39;00m dtype_numeric \u001b[38;5;129;01mand\u001b[39;00m array\u001b[38;5;241m.\u001b[39mdtype\u001b[38;5;241m.\u001b[39mkind \u001b[38;5;129;01min\u001b[39;00m \u001b[38;5;124m\"\u001b[39m\u001b[38;5;124mUSV\u001b[39m\u001b[38;5;124m\"\u001b[39m:\n\u001b[0;32m    908\u001b[0m     \u001b[38;5;28;01mraise\u001b[39;00m \u001b[38;5;167;01mValueError\u001b[39;00m(\n\u001b[0;32m    909\u001b[0m         \u001b[38;5;124m\"\u001b[39m\u001b[38;5;124mdtype=\u001b[39m\u001b[38;5;124m'\u001b[39m\u001b[38;5;124mnumeric\u001b[39m\u001b[38;5;124m'\u001b[39m\u001b[38;5;124m is not compatible with arrays of bytes/strings.\u001b[39m\u001b[38;5;124m\"\u001b[39m\n\u001b[0;32m    910\u001b[0m         \u001b[38;5;124m\"\u001b[39m\u001b[38;5;124mConvert your data to numeric values explicitly instead.\u001b[39m\u001b[38;5;124m\"\u001b[39m\n\u001b[0;32m    911\u001b[0m     )\n",
      "\u001b[1;31mValueError\u001b[0m: Expected 2D array, got 1D array instead:\narray=[ 1.61853578 -0.05241973 -1.48932333 -0.03775793 -1.46250113 -0.036605\n -0.65015244 -0.16457455 -0.68384152 -0.17121581  2.31732347 -0.17282482\n  2.32191697 -0.18583318  1.63069617 -0.18500374  1.60433625 -0.18605728\n -1.64564529 -0.04443971  0.87458748 -0.10993016  0.8837154  -0.11026909\n  0.97318932 -0.12709926 -1.34630024 -0.08066563  1.23202806 -0.15725434\n -1.68915978 -0.04626251  1.96575053 -0.20341307  1.97050534 -0.20357212\n  2.7377672  -0.12491077  2.68156069 -0.12567602  2.11714516 -0.19398344\n -0.45689085  0.01854197 -0.50499446 -0.00899143 -0.9180853  -0.01595032\n -0.99811455 -0.025854   -0.91314379 -0.04796634 -0.78707961 -0.05559237\n -0.61341076 -0.05028045  2.25510326 -0.20158185 -1.73259247 -0.0481771\n  0.25866457  2.39435427  1.20565099  2.57477129  2.37219268  0.08577424\n  1.38139628 -0.17867383  1.40222057 -0.17883229  0.93540244 -0.12392266\n  0.90661241 -0.12226623 -1.72373686 -0.04784751 -1.73009022 -0.04804858\n -1.67485285 -0.04566534 -1.01010666 -0.0215415  -1.73252557 -0.04816405\n -1.65697339 -0.04483903 -1.73894638 -0.04853015  2.92612954 -0.13440427\n -1.0395642   0.03294817 -1.68351376 -0.04596925 -1.70277606 -0.04688709\n -1.59139136 -0.04200064 -1.52251007 -0.03910005 -1.12091831 -0.0320706\n -1.37260422 -0.03257889 -1.68905575 -0.0463121   2.92571137 -0.00901796\n  2.88524859 -0.00426114 -1.72340098 -0.04770045 -1.69602713 -0.0464844\n  2.27768428 -0.13796515  0.0687447  -0.06946914  1.46174308 -0.14173927\n -1.67633734 -0.04567148 -1.53284172 -0.03951662 -1.3157556  -0.03018443\n -1.36639865 -0.0325638 ].\nReshape your data either using array.reshape(-1, 1) if your data has a single feature or array.reshape(1, -1) if it contains a single sample."
     ]
    }
   ],
   "source": [
    "# So now I need to link each set of 20 consecutive models to each update. Eg 1-20-->F1, 21-40-->F2, ... 140+-->F7 (might not get to F7!)\n",
    "## So it should iterative through consecutive models\n",
    "\n",
    "cli_mi_local = {i: [] for i in range(NUM_CLIENTS)}\n",
    "cli_mi_global = {i: [] for i in range(NUM_CLIENTS)}\n",
    "for i in range(NUM_CLIENTS):\n",
    "    cli_i_model_log = client_local_model_log_data[client_local_model_log_keys[i]]\n",
    "    if cli_i_model_log.shape[0]<2:\n",
    "        # Client didnt train (eg it was probably a testset client)\n",
    "        print(f\"Cli {i} skipped for being too short!\")\n",
    "    else:\n",
    "        for model_idx, model in enumerate(cli_i_model_log):\n",
    "            # Models and dataset may not be aligned\n",
    "            ## Eg some may be saved in order of 0, 10, 11, 12, 13, 1, ... whereas the other may be saved as 0, 1, 2, 3, ...\n",
    "\n",
    "            if model_idx > local_round_threshold * num_usuable_updates:\n",
    "                input_index = 7\n",
    "            else:\n",
    "                input_index = model_idx // local_round_threshold\n",
    "            # Access the corresponding input for this chunk\n",
    "            X_train = client_F_dict[i][input_index]  # TODO: THIS DOES NOT SUPPORT 2 BATCH PFA RIGHT NOW!\n",
    "            #print(f\"Model idx: {model_idx}; Update (input) index: {input_index}'\")\n",
    "\n",
    "            # COMPARE EACH LOCAL MODEL TO THE TRAINING DATA TO GENERATE A MUTUAL INFORMATION CURVE\n",
    "            # Step 1: Dimensionality reduction of training data using PCA\n",
    "            # Reduce X_train to 2 dimensions to match model weights shape\n",
    "            pca = PCA(n_components=2)\n",
    "            X_train_PCA = pca.fit_transform(X_train).flatten()\n",
    "            \n",
    "            # Step 2: Compute mutual information between reduced training data and local model weights\n",
    "            cli_mi_local[i].append(mutual_info_regression(X_train_PCA, model.flatten()))\n",
    "            \n",
    "            # COMPARE EACH GLOBAL MODEL (from the adjusted list) TO THE TRAINING DATA\n",
    "            #if model_idx%20==0:\n",
    "            cli_mi_global.append(mutual_info_regression(X_train_PCA, sampled_global_dec_log[model_idx].flatten()))"
   ]
  },
  {
   "cell_type": "code",
   "execution_count": null,
   "id": "cd0dedb4-4d99-43a6-890b-00cb7fa55780",
   "metadata": {},
   "outputs": [],
   "source": [
    "# Dummy training data (64 examples, 1202 features)\n",
    "X_train = np.random.rand(64, 1202)\n",
    "\n",
    "# Dummy local model weights (64 examples, 2 features)\n",
    "client_local_model_weights = np.random.rand(64, 2)\n",
    "\n",
    "# Dummy global model weights (64 examples, 2 features)\n",
    "global_model_weights = np.random.rand(64, 2)\n",
    "\n",
    "# Step 1: Compute summary statistics for each example in X_train\n",
    "# Let's use mean and variance as our summary statistics\n",
    "X_train_summary = np.vstack([np.mean(X_train, axis=1), np.var(X_train, axis=1)]).T  # Shape: (64, 2)\n",
    "\n",
    "# Step 2: Compute mutual information between summary statistics and local model weights\n",
    "mi_local = []\n",
    "for i in range(client_local_model_weights.shape[1]):\n",
    "    mi_local.append(mutual_info_regression(X_train_summary, client_local_model_weights[:, i]))\n",
    "\n",
    "# Step 3: Compute mutual information between summary statistics and global model weights\n",
    "mi_global = []\n",
    "for i in range(global_model_weights.shape[1]):\n",
    "    mi_global.append(mutual_info_regression(X_train_summary, global_model_weights[:, i]))\n",
    "\n",
    "# Output mutual information scores\n",
    "print(\"Mutual Information (summary stats) between X_train and local model weights:\", mi_local)\n",
    "print(\"Mutual Information (summary stats) between X_train and global model weights:\", mi_global)\n"
   ]
  },
  {
   "cell_type": "code",
   "execution_count": null,
   "id": "21ebb69b-8ddc-49d8-97f0-7a1146034da3",
   "metadata": {},
   "outputs": [],
   "source": [
    "# Helper function to compute entropy using KDE\n",
    "def kde_entropy(X, bandwidth=1.0):\n",
    "    kde = KernelDensity(bandwidth=bandwidth)\n",
    "    kde.fit(X)\n",
    "    log_density = kde.score_samples(X)\n",
    "    return -np.mean(log_density)\n",
    "\n",
    "# Helper function to compute mutual information using KDE\n",
    "def kde_mutual_information(X, Y, bandwidth=1.0):\n",
    "    # Joint entropy H(X,Y)\n",
    "    XY = np.hstack([X, Y])\n",
    "    joint_entropy = kde_entropy(XY, bandwidth)\n",
    "    \n",
    "    # Marginal entropies H(X) and H(Y)\n",
    "    entropy_X = kde_entropy(X, bandwidth)\n",
    "    entropy_Y = kde_entropy(Y, bandwidth)\n",
    "    \n",
    "    # MI = H(X) + H(Y) - H(X,Y)\n",
    "    mutual_info = entropy_X + entropy_Y - joint_entropy\n",
    "    return mutual_info\n",
    "\n",
    "# Dummy training data (64 examples, 1202 features)\n",
    "X_train = np.random.rand(64, 1202)\n",
    "\n",
    "# Dummy local model weights (64 examples, 2 features)\n",
    "client_local_model_weights = np.random.rand(64, 2)\n",
    "\n",
    "# Dummy global model weights (64 examples, 2 features)\n",
    "global_model_weights = np.random.rand(64, 2)\n",
    "\n",
    "# Step 1: Reduce the training data dimensionality using PCA to match model weights (optional, depending on your scenario)\n",
    "# Alternatively, you can use summary statistics, but let's use PCA here for KDE method\n",
    "pca = PCA(n_components=2)\n",
    "X_train_reduced = pca.fit_transform(X_train)\n",
    "\n",
    "# Step 2: Compute KDE-based mutual information between reduced training data and local model weights\n",
    "mi_local_kde = kde_mutual_information(X_train_reduced, client_local_model_weights)\n",
    "\n",
    "# Step 3: Compute KDE-based mutual information between reduced training data and global model weights\n",
    "mi_global_kde = kde_mutual_information(X_train_reduced, global_model_weights)\n",
    "\n",
    "# Output mutual information scores\n",
    "print(\"KDE-based Mutual Information between X_train and local model weights:\", mi_local_kde)\n",
    "print(\"KDE-based Mutual Information between X_train and global model weights:\", mi_global_kde)\n"
   ]
  },
  {
   "cell_type": "code",
   "execution_count": null,
   "id": "0bc2f56e-d181-4bb9-a485-2e5c0e2e9131",
   "metadata": {},
   "outputs": [],
   "source": []
  },
  {
   "cell_type": "code",
   "execution_count": null,
   "id": "ce341bb6-e799-4763-82fb-d651d203e115",
   "metadata": {},
   "outputs": [],
   "source": []
  },
  {
   "cell_type": "code",
   "execution_count": null,
   "id": "f0734616-314c-4731-be30-e0fa61a2b13a",
   "metadata": {},
   "outputs": [],
   "source": []
  },
  {
   "cell_type": "code",
   "execution_count": null,
   "id": "50de3260-3034-414e-86e0-2442da04b5cd",
   "metadata": {},
   "outputs": [],
   "source": []
  },
  {
   "cell_type": "code",
   "execution_count": null,
   "id": "2907a136-a301-4d6e-b5a4-4b9ec536c5f5",
   "metadata": {},
   "outputs": [],
   "source": []
  },
  {
   "cell_type": "code",
   "execution_count": null,
   "id": "b3ef4b2c-450a-4506-a007-acd1b73a2cb4",
   "metadata": {},
   "outputs": [],
   "source": []
  },
  {
   "cell_type": "code",
   "execution_count": null,
   "id": "c6dc3aca-f616-4cdc-8b23-b7995e551729",
   "metadata": {},
   "outputs": [],
   "source": []
  },
  {
   "cell_type": "code",
   "execution_count": null,
   "id": "f708fe28-3c9a-47c6-b4b5-c15e64dc40d1",
   "metadata": {},
   "outputs": [],
   "source": []
  },
  {
   "cell_type": "code",
   "execution_count": null,
   "id": "6ad3e433-005d-402e-9e77-b5eb4a3ff979",
   "metadata": {},
   "outputs": [],
   "source": []
  },
  {
   "cell_type": "markdown",
   "id": "ba679ad2-5110-4dbf-b582-14600af1b93b",
   "metadata": {},
   "source": [
    "## Membership Inference Attack"
   ]
  },
  {
   "cell_type": "code",
   "execution_count": 52,
   "id": "66dcf95d-12a6-4d52-a517-e97a9069009e",
   "metadata": {},
   "outputs": [
    {
     "name": "stdout",
     "output_type": "stream",
     "text": [
      "['client_local_model_log', 'client_local_test_log', 'global_dec_log', 'global_test_error_log', 'global_train_error_log', 'gradient_norm_lists_by_client', 'local_test_error_log', 'local_train_error_log']\n"
     ]
    }
   ],
   "source": [
    "# CROSS\n",
    "\n",
    "cv_results_path = r\"C:\\Users\\kdmen\\Desktop\\Research\\personalization-privacy-risk\\PythonVersion\\PythonSimsRevamp\\results\"\n",
    "nofl_filename = \"FULLSCIPYMIN_NOFL_KFold0.h5\" \n",
    "fedavg_filename = \"GDLS_FEDAVG_model_without_users_0_and_1.h5\" \n",
    "\n",
    "directory_str = \"09-24_18-46_FEDAVG\"\n",
    "h5_path = os.path.join(cv_results_path, directory_str, fedavg_filename)\n",
    "with h5py.File(h5_path, 'r') as f:\n",
    "    a_group_key = list(f.keys())#[0]\n",
    "    print(a_group_key)\n",
    "\n",
    "    local_test_error_log = f['local_test_error_log'][()]\n",
    "    local_train_error_log = f['local_train_error_log'][()]\n",
    "    \n",
    "    client_local_model_log_keys = list(f['client_local_model_log'].keys())\n",
    "    #print(\"Keys in 'client_local_test_log':\", client_local_model_log_keys)\n",
    "    client_local_model_log_data = {}\n",
    "    for key in client_local_model_log_keys:\n",
    "        try:\n",
    "            client_local_model_log_data[key] = f['client_local_model_log'][key][:]\n",
    "        except KeyError:\n",
    "            pass\n",
    "            \n",
    "    client_local_test_log_keys = list(f['client_local_test_log'].keys())\n",
    "    # Iterate over the keys and extract the corresponding data\n",
    "    client_local_test_log_data = {}\n",
    "    for key in client_local_test_log_keys:\n",
    "        client_local_test_log_data[key] = f['client_local_test_log'][key][:]\n",
    "\n",
    "    client_gradnorm_log_keys = list(f['gradient_norm_lists_by_client'].keys())\n",
    "    # Iterate over the keys and extract the corresponding data\n",
    "    client_gradnorm_log_data = {}\n",
    "    for key in client_gradnorm_log_keys:\n",
    "        client_gradnorm_log_data[key] = f['gradient_norm_lists_by_client'][key][:]\n",
    "\n",
    "    if \"FEDAVG\" in directory_str:\n",
    "        global_dec_log = f['global_dec_log'][()]\n"
   ]
  },
  {
   "cell_type": "code",
   "execution_count": 55,
   "id": "c1c5bfa8-090d-42ce-beab-4064e242a64e",
   "metadata": {},
   "outputs": [],
   "source": [
    "with open(cv_results_path+f\"\\\\{directory_str}\\\\membership_inference_results.pkl\", 'rb') as f:\n",
    "    membership_inference_results = pickle.load(f)"
   ]
  },
  {
   "cell_type": "code",
   "execution_count": 56,
   "id": "a82ee420-89d4-40dd-94a7-6ac9691b18c5",
   "metadata": {},
   "outputs": [
    {
     "data": {
      "text/plain": [
       "{'model_without_users_0_and_1': [0.2111205,\n",
       "  0.1223625,\n",
       "  0.0002366,\n",
       "  0.0002401,\n",
       "  0.0002381,\n",
       "  0.0002481,\n",
       "  0.0002519,\n",
       "  0.0002145,\n",
       "  0.0001992,\n",
       "  0.0002242,\n",
       "  0.0001864,\n",
       "  0.0002175,\n",
       "  0.0001975,\n",
       "  0.000222],\n",
       " 'model_without_users_0_and_2': [0.211437,\n",
       "  0.000273,\n",
       "  0.0363288,\n",
       "  0.0002672,\n",
       "  0.0002371,\n",
       "  0.000247,\n",
       "  0.0002525,\n",
       "  0.0002142,\n",
       "  0.0001992,\n",
       "  0.0002122,\n",
       "  0.0001873,\n",
       "  0.0002171,\n",
       "  0.0001974,\n",
       "  0.0002222],\n",
       " 'model_without_users_0_and_3': [0.2114938,\n",
       "  0.0002728,\n",
       "  0.0002426,\n",
       "  0.316108,\n",
       "  0.0002377,\n",
       "  0.0002479,\n",
       "  0.0002502,\n",
       "  0.0002003,\n",
       "  0.000199,\n",
       "  0.0002236,\n",
       "  0.0001864,\n",
       "  0.0002177,\n",
       "  0.0001975,\n",
       "  0.0001969],\n",
       " 'model_without_users_0_and_4': [0.2109569,\n",
       "  0.0002757,\n",
       "  0.0002448,\n",
       "  0.0002416,\n",
       "  0.075253,\n",
       "  0.0002495,\n",
       "  0.0002507,\n",
       "  0.0002005,\n",
       "  0.0001999,\n",
       "  0.0002129,\n",
       "  0.0001869,\n",
       "  0.0002196,\n",
       "  0.0001987,\n",
       "  0.0002224]}"
      ]
     },
     "execution_count": 56,
     "metadata": {},
     "output_type": "execute_result"
    }
   ],
   "source": [
    "membership_inference_results"
   ]
  },
  {
   "cell_type": "code",
   "execution_count": 64,
   "id": "b7c1ffa4-5eda-4f34-9865-0caa6bf6a473",
   "metadata": {},
   "outputs": [
    {
     "data": {
      "image/png": "[encoded data removed]",
      "text/plain": [
       "<Figure size 640x480 with 1 Axes>"
      ]
     },
     "metadata": {},
     "output_type": "display_data"
    }
   ],
   "source": [
    "key0 = list(membership_inference_results.keys())[0]\n",
    "\n",
    "plt.hist(membership_inference_results[key0], bins=5, edgecolor='black')\n",
    "# Add labels and title\n",
    "plt.xlabel('Global model loss on each clients training data')\n",
    "plt.ylabel('Count')\n",
    "plt.title('Histogram of model_without_users_0_and_1')\n",
    "plt.show()"
   ]
  },
  {
   "cell_type": "code",
   "execution_count": 65,
   "id": "366411fb-4fdf-4414-9ea7-d7c64e414b8f",
   "metadata": {},
   "outputs": [
    {
     "data": {
      "image/png": "[encoded data removed]",
      "text/plain": [
       "<Figure size 640x480 with 1 Axes>"
      ]
     },
     "metadata": {},
     "output_type": "display_data"
    }
   ],
   "source": [
    "plt.scatter(range(len(membership_inference_results[key0])), membership_inference_results[key0])\n",
    "plt.xlabel('Client ID')\n",
    "plt.ylabel('Global model loss on clients training data')\n",
    "plt.title('Scatterplot of model_without_users_0_and_1')\n",
    "plt.show()"
   ]
  },
  {
   "cell_type": "markdown",
   "id": "955875a2-6800-4d7a-98ec-53a5747d9e56",
   "metadata": {},
   "source": [
    "Now I am stuck, I am not sure how to train a membership inference model. I feed it the loss from each client and the label of it that sample was in the dataset? For all clients at once or just a single client membership inference per model? ..."
   ]
  },
  {
   "cell_type": "code",
   "execution_count": 66,
   "id": "ee19f58a-23c4-4f20-aa2e-8cc9d98c751d",
   "metadata": {},
   "outputs": [],
   "source": [
    "# Initialize an empty dictionary to store the new mappings\n",
    "model_without_single_user_dict = {f\"model_without_user_{i}\": [] for i in range(NUM_CLIENTS)}  # For users 0 to 13\n",
    "\n",
    "# Iterate through each key and its corresponding value in the original dictionary\n",
    "for key, model_list in membership_inference_results.items():\n",
    "    # Extract the user numbers from the key (format \"model_without_users_X_and_Y\")\n",
    "    users_str = key.replace(\"model_without_users_\", \"\")\n",
    "    user_IDs = list(map(int, users_str.split('_and_')))\n",
    "\n",
    "    # Add the model list to the new dictionary for both users\n",
    "    for user in user_IDs:\n",
    "        model_without_single_user_dict[f\"model_without_user_{user}\"].append(model_list)\n",
    "\n",
    "# Optional: Remove duplicates in each list (if necessary)\n",
    "#for key, model_list in new_dict.items():\n",
    "#    new_dict[key] = list(set(model_list))  # Remove duplicates\n"
   ]
  },
  {
   "cell_type": "code",
   "execution_count": 67,
   "id": "512f0477-8029-4d40-9161-d5a340da44e1",
   "metadata": {},
   "outputs": [
    {
     "data": {
      "text/plain": [
       "{'model_without_user_0': [[0.2111205,\n",
       "   0.1223625,\n",
       "   0.0002366,\n",
       "   0.0002401,\n",
       "   0.0002381,\n",
       "   0.0002481,\n",
       "   0.0002519,\n",
       "   0.0002145,\n",
       "   0.0001992,\n",
       "   0.0002242,\n",
       "   0.0001864,\n",
       "   0.0002175,\n",
       "   0.0001975,\n",
       "   0.000222],\n",
       "  [0.211437,\n",
       "   0.000273,\n",
       "   0.0363288,\n",
       "   0.0002672,\n",
       "   0.0002371,\n",
       "   0.000247,\n",
       "   0.0002525,\n",
       "   0.0002142,\n",
       "   0.0001992,\n",
       "   0.0002122,\n",
       "   0.0001873,\n",
       "   0.0002171,\n",
       "   0.0001974,\n",
       "   0.0002222],\n",
       "  [0.2114938,\n",
       "   0.0002728,\n",
       "   0.0002426,\n",
       "   0.316108,\n",
       "   0.0002377,\n",
       "   0.0002479,\n",
       "   0.0002502,\n",
       "   0.0002003,\n",
       "   0.000199,\n",
       "   0.0002236,\n",
       "   0.0001864,\n",
       "   0.0002177,\n",
       "   0.0001975,\n",
       "   0.0001969],\n",
       "  [0.2109569,\n",
       "   0.0002757,\n",
       "   0.0002448,\n",
       "   0.0002416,\n",
       "   0.075253,\n",
       "   0.0002495,\n",
       "   0.0002507,\n",
       "   0.0002005,\n",
       "   0.0001999,\n",
       "   0.0002129,\n",
       "   0.0001869,\n",
       "   0.0002196,\n",
       "   0.0001987,\n",
       "   0.0002224]],\n",
       " 'model_without_user_1': [[0.2111205,\n",
       "   0.1223625,\n",
       "   0.0002366,\n",
       "   0.0002401,\n",
       "   0.0002381,\n",
       "   0.0002481,\n",
       "   0.0002519,\n",
       "   0.0002145,\n",
       "   0.0001992,\n",
       "   0.0002242,\n",
       "   0.0001864,\n",
       "   0.0002175,\n",
       "   0.0001975,\n",
       "   0.000222]],\n",
       " 'model_without_user_2': [[0.211437,\n",
       "   0.000273,\n",
       "   0.0363288,\n",
       "   0.0002672,\n",
       "   0.0002371,\n",
       "   0.000247,\n",
       "   0.0002525,\n",
       "   0.0002142,\n",
       "   0.0001992,\n",
       "   0.0002122,\n",
       "   0.0001873,\n",
       "   0.0002171,\n",
       "   0.0001974,\n",
       "   0.0002222]],\n",
       " 'model_without_user_3': [[0.2114938,\n",
       "   0.0002728,\n",
       "   0.0002426,\n",
       "   0.316108,\n",
       "   0.0002377,\n",
       "   0.0002479,\n",
       "   0.0002502,\n",
       "   0.0002003,\n",
       "   0.000199,\n",
       "   0.0002236,\n",
       "   0.0001864,\n",
       "   0.0002177,\n",
       "   0.0001975,\n",
       "   0.0001969]],\n",
       " 'model_without_user_4': [[0.2109569,\n",
       "   0.0002757,\n",
       "   0.0002448,\n",
       "   0.0002416,\n",
       "   0.075253,\n",
       "   0.0002495,\n",
       "   0.0002507,\n",
       "   0.0002005,\n",
       "   0.0001999,\n",
       "   0.0002129,\n",
       "   0.0001869,\n",
       "   0.0002196,\n",
       "   0.0001987,\n",
       "   0.0002224]],\n",
       " 'model_without_user_5': [],\n",
       " 'model_without_user_6': [],\n",
       " 'model_without_user_7': [],\n",
       " 'model_without_user_8': [],\n",
       " 'model_without_user_9': [],\n",
       " 'model_without_user_10': [],\n",
       " 'model_without_user_11': [],\n",
       " 'model_without_user_12': [],\n",
       " 'model_without_user_13': []}"
      ]
     },
     "execution_count": 67,
     "metadata": {},
     "output_type": "execute_result"
    }
   ],
   "source": [
    "model_without_single_user_dict"
   ]
  },
  {
   "cell_type": "code",
   "execution_count": null,
   "id": "6e67c58f-6ff0-442d-8481-b7665c65c151",
   "metadata": {},
   "outputs": [],
   "source": []
  },
  {
   "cell_type": "code",
   "execution_count": null,
   "id": "e0eaa241-92ff-41b8-b0e0-0cfb5863910d",
   "metadata": {},
   "outputs": [],
   "source": []
  },
  {
   "cell_type": "code",
   "execution_count": null,
   "id": "4ea9fa25-b2bf-4bf1-907a-3684a4d7fbac",
   "metadata": {},
   "outputs": [],
   "source": []
  },
  {
   "cell_type": "code",
   "execution_count": null,
   "id": "f857da1a-62b3-4d65-b88f-4c6c7e37be79",
   "metadata": {},
   "outputs": [],
   "source": []
  },
  {
   "cell_type": "code",
   "execution_count": null,
   "id": "fda30b5c-6a36-4b88-9fbd-6c28f42ea1f2",
   "metadata": {},
   "outputs": [],
   "source": []
  },
  {
   "cell_type": "code",
   "execution_count": null,
   "id": "e589283e-84c0-4757-b937-7c321584bd1b",
   "metadata": {},
   "outputs": [],
   "source": []
  },
  {
   "cell_type": "code",
   "execution_count": null,
   "id": "bf6e0b3f-d686-4abc-8595-6ae26fe469be",
   "metadata": {},
   "outputs": [],
   "source": []
  },
  {
   "cell_type": "code",
   "execution_count": null,
   "id": "2d53438b-3326-4142-9641-0977b5c09b79",
   "metadata": {},
   "outputs": [],
   "source": [
    "import numpy as np\n",
    "from scipy.stats import norm\n",
    "\n",
    "# Example values\n",
    "conf_obs = 0.8  # Example confidence score\n",
    "mu_in = 0.7\n",
    "sigma_in = 0.1\n",
    "mu_out = 0.5\n",
    "sigma_out = 0.2\n",
    "\n",
    "# Calculate the probability densities\n",
    "p_in = norm.pdf(conf_obs, mu_in, sigma_in)\n",
    "p_out = norm.pdf(conf_obs, mu_out, sigma_out)\n",
    "\n",
    "# Calculate G\n",
    "G = p_in / p_out\n",
    "\n",
    "print(f\"G = {G}\")\n"
   ]
  },
  {
   "cell_type": "code",
   "execution_count": null,
   "id": "3e2a69f8-581a-4343-8202-0d0707b8df8e",
   "metadata": {},
   "outputs": [],
   "source": []
  },
  {
   "cell_type": "markdown",
   "id": "499619ea-e42a-405b-9b3f-99693029b3c9",
   "metadata": {},
   "source": [
    "How to make MIA work for my FL case <br>\n",
    "Also for Local... allegedly, between INTRA and CROSS, the local models should actually be the same (as long as the model didn't advance all the way to the final updates where the cut is in INTRA, although that probably happened, although is likely a miniscule effect). So this approach would then allow me to tell from what user the local model came from. So presumably, Local will have good defense against interception based attacks (eg ones that use model weights to classify models to users) but will get BTFOd by membership inference attacks. MIA is ofc a much more involved attack."
   ]
  },
  {
   "cell_type": "code",
   "execution_count": 50,
   "id": "384b54b5-1032-4eee-b91b-ba208a86f870",
   "metadata": {},
   "outputs": [],
   "source": [
    "from itertools import combinations\n",
    "import numpy as np\n",
    "from sklearn.metrics import accuracy_score\n",
    "from sklearn.model_selection import train_test_split"
   ]
  },
  {
   "cell_type": "code",
   "execution_count": null,
   "id": "603da46b-0192-402c-b10e-34e9e9dfc0ab",
   "metadata": {},
   "outputs": [],
   "source": [
    "# Function to simulate membership inference attack\n",
    "def membership_inference_attack(client_models, X_train, X_test, y_train, y_test):\n",
    "    shadow_model = train_shadow_model(client_models, X_train, y_train)\n",
    "    attack_model = train_attack_model(shadow_model, X_train, X_test, y_train, y_test)\n",
    "    \n",
    "    # Predict membership for some test data\n",
    "    y_pred = attack_model.predict(X_test)\n",
    "    return accuracy_score(y_test, y_pred)\n",
    "\n",
    "# Function to train shadow model\n",
    "def train_shadow_model(client_models, X_train, y_train):\n",
    "    # Simulate using the client models to mimic the behavior of the original model\n",
    "    shadow_model = ClientModel()\n",
    "    shadow_model.train(X_train, y_train)\n",
    "    return shadow_model\n",
    "\n",
    "# Function to train attack model (classifier predicting membership status)\n",
    "def train_attack_model(shadow_model, X_train, X_test, y_train, y_test):\n",
    "    attack_X_train, attack_X_test, attack_y_train, attack_y_test = create_attack_dataset(shadow_model, X_train, X_test)\n",
    "    attack_model = AttackModel()\n",
    "    attack_model.train(attack_X_train, attack_y_train)\n",
    "    return attack_model\n",
    "\n",
    "# Function to create attack dataset from shadow model outputs\n",
    "def create_attack_dataset(shadow_model, X_train, X_test):\n",
    "    train_confidences = shadow_model.predict_proba(X_train)\n",
    "    test_confidences = shadow_model.predict_proba(X_test)\n",
    "    \n",
    "    attack_X = np.concatenate([train_confidences, test_confidences])\n",
    "    attack_y = np.concatenate([np.ones(len(train_confidences)), np.zeros(len(test_confidences))])\n",
    "    \n",
    "    return train_test_split(attack_X, attack_y, test_size=0.5)\n",
    "\n",
    "# Example usage\n",
    "client_models = [ClientModel() for _ in range(14)]  # Placeholder for client models\n",
    "\n",
    "# Assuming you have X_train, y_train, X_test, y_test already loaded\n",
    "membership_inference_acc = membership_inference_attack(client_models, X_train, X_test, y_train, y_test)\n",
    "print(f\"Membership Inference Attack Accuracy: {membership_inference_acc}\")\n"
   ]
  },
  {
   "cell_type": "code",
   "execution_count": null,
   "id": "ce11e2c1-1717-44b0-ae12-2173a8cc806a",
   "metadata": {},
   "outputs": [],
   "source": [
    "for client_id in range(14):\n",
    "    for model_id in range(100):\n",
    "        model = client_models[client_id][model_id]\n",
    "        \n",
    "        # Membership Inference\n",
    "        membership_inference_acc = membership_inference_attack(client_models, X_train, X_test, y_train, y_test)\n",
    "        \n",
    "        # Model Inversion\n",
    "        target_output = model.predict(some_input)  # Select some target output\n",
    "        inverted_input = model_inversion_attack(model, target_output, input_shape)\n",
    "        \n",
    "        print(f\"Client {client_id}, Model {model_id}, Membership Inference Acc: {membership_inference_acc}\")\n"
   ]
  },
  {
   "cell_type": "markdown",
   "id": "72a5c298-2e6a-4f87-8b1e-6952a1df5183",
   "metadata": {},
   "source": [
    "## Model Inversion Attack"
   ]
  },
  {
   "cell_type": "code",
   "execution_count": null,
   "id": "6064b89b-1d6b-4b79-a875-260ddd5fd706",
   "metadata": {},
   "outputs": [],
   "source": [
    "if False:\n",
    "    import torch\n",
    "    import torch.nn as nn\n",
    "    import torch.optim as optim\n",
    "    \n",
    "    # Function to perform model inversion attack\n",
    "    def model_inversion_attack(model, target_output, input_shape, num_iterations=1000, learning_rate=1e-2):\n",
    "        # Initialize input (with random noise)\n",
    "        inverted_input = torch.randn(input_shape, requires_grad=True)\n",
    "        optimizer = optim.Adam([inverted_input], lr=learning_rate)\n",
    "        \n",
    "        loss_fn = nn.MSELoss()\n",
    "        \n",
    "        for i in range(num_iterations):\n",
    "            optimizer.zero_grad()\n",
    "            output = model(inverted_input)\n",
    "            loss = loss_fn(output, target_output)\n",
    "            loss.backward()\n",
    "            optimizer.step()\n",
    "        \n",
    "        return inverted_input.detach()\n",
    "    \n",
    "    # Example usage\n",
    "    client_models = [ClientModel() for _ in range(14)]  # Placeholder for client models\n",
    "    target_model = client_models[0]  # Assume you are attacking the first client\n",
    "    target_output = torch.tensor([0.1, 0.9])  # Target output we want to reproduce\n",
    "    \n",
    "    # Perform inversion attack to get reconstructed input\n",
    "    inverted_input = model_inversion_attack(target_model, target_output, input_shape=(1, 28, 28))  # Example input shape (e.g. for images)\n",
    "    print(\"Reconstructed input:\", inverted_input)\n"
   ]
  },
  {
   "cell_type": "code",
   "execution_count": null,
   "id": "00706f56-40c8-4464-ba18-3677844f1625",
   "metadata": {},
   "outputs": [],
   "source": [
    "# Gradient Descent Model Inversion Attack on a Linear Regression Model\n",
    "def model_inversion_attack(weights, target_output, input_shape, num_iterations=1000, learning_rate=0.01):\n",
    "    # Initialize a random input (e.g., random noise)\n",
    "    inverted_input = np.random.randn(*input_shape)\n",
    "    \n",
    "    for i in range(num_iterations):\n",
    "        # Compute the output from the current inverted input\n",
    "        output = np.dot(inverted_input, weights)\n",
    "        \n",
    "        # Compute the loss (Mean Squared Error between target and current output)\n",
    "        loss = np.mean((output - target_output) ** 2)\n",
    "        \n",
    "        # Compute gradient of the loss with respect to the input\n",
    "        grad = 2 * np.dot((output - target_output), weights.T) / len(target_output)\n",
    "        \n",
    "        # Update the inverted input by moving in the direction of the negative gradient\n",
    "        inverted_input -= learning_rate * grad\n",
    "        \n",
    "        if i % 100 == 0:  # Print loss every 100 iterations\n",
    "            print(f\"Iteration {i}, Loss: {loss}\")\n",
    "    \n",
    "    return inverted_input\n",
    "\n",
    "# Example usage:\n",
    "np.random.seed(42)\n",
    "\n",
    "# Assume a simple linear regression model (2 features, 1 target)\n",
    "weights = np.array([[2.0, -1.0]]).T  # A 2x1 weight matrix\n",
    "\n",
    "# Target output we want to reproduce\n",
    "target_output = np.array([0.5])\n",
    "\n",
    "# Perform the model inversion attack to find an input that reproduces the target output\n",
    "inverted_input = model_inversion_attack(weights, target_output, input_shape=(1, 2), num_iterations=1000, learning_rate=0.01)\n",
    "\n",
    "print(\"Reconstructed input:\", inverted_input)\n"
   ]
  },
  {
   "cell_type": "code",
   "execution_count": null,
   "id": "aa18658d-480a-492e-bed9-89a61f365030",
   "metadata": {},
   "outputs": [],
   "source": []
  },
  {
   "cell_type": "code",
   "execution_count": null,
   "id": "39996a74-f0c8-487e-8597-d3469545fd82",
   "metadata": {},
   "outputs": [],
   "source": []
  },
  {
   "cell_type": "code",
   "execution_count": null,
   "id": "30bf63e6-e122-4460-a2ef-8febf00e09e8",
   "metadata": {},
   "outputs": [],
   "source": []
  },
  {
   "cell_type": "code",
   "execution_count": null,
   "id": "73c30ed9-c753-42a6-b226-6ff48db88b90",
   "metadata": {},
   "outputs": [],
   "source": []
  },
  {
   "cell_type": "code",
   "execution_count": null,
   "id": "fba1d788-66a5-4279-971f-9ef22e26840c",
   "metadata": {},
   "outputs": [],
   "source": []
  },
  {
   "cell_type": "code",
   "execution_count": null,
   "id": "f877ac05-455f-4250-874b-73706ea12e27",
   "metadata": {},
   "outputs": [],
   "source": []
  },
  {
   "cell_type": "code",
   "execution_count": null,
   "id": "53fc3702-d9e1-467a-800a-ad9b39f57dcb",
   "metadata": {},
   "outputs": [],
   "source": []
  },
  {
   "cell_type": "code",
   "execution_count": null,
   "id": "aedd7077-f9be-468c-9c7e-7d1c8a107054",
   "metadata": {},
   "outputs": [],
   "source": []
  },
  {
   "cell_type": "code",
   "execution_count": null,
   "id": "2190ccb7-76a1-421e-8746-24c67e0a535c",
   "metadata": {},
   "outputs": [],
   "source": []
  },
  {
   "cell_type": "code",
   "execution_count": null,
   "id": "fb17d429-a97e-4949-8a2b-5c9ca83c7c8c",
   "metadata": {},
   "outputs": [],
   "source": []
  }
 ],
 "metadata": {
  "kernelspec": {
   "display_name": "Python 3 (ipykernel)",
   "language": "python",
   "name": "python3"
  },
  "language_info": {
   "codemirror_mode": {
    "name": "ipython",
    "version": 3
   },
   "file_extension": ".py",
   "mimetype": "text/x-python",
   "name": "python",
   "nbconvert_exporter": "python",
   "pygments_lexer": "ipython3",
   "version": "3.10.12"
  }
 },
 "nbformat": 4,
 "nbformat_minor": 5
}
