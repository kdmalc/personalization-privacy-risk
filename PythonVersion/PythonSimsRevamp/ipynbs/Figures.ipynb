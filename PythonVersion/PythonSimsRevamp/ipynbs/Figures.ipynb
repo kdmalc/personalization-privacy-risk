{
 "cells": [
  {
   "cell_type": "code",
   "execution_count": 2,
   "id": "1cd1d435-bc78-4514-9d71-f3c29d59c050",
   "metadata": {},
   "outputs": [],
   "source": [
    "import numpy as np\n",
    "import h5py\n",
    "import torch\n",
    "import os\n",
    "import matplotlib.pyplot as plt"
   ]
  },
  {
   "cell_type": "code",
   "execution_count": 9,
   "id": "340c0360-ee1c-4df9-a131-2b7ffb1c06a4",
   "metadata": {},
   "outputs": [
    {
     "name": "stdout",
     "output_type": "stream",
     "text": [
      "['AveragedCV_local_test_error_log', 'AveragedCV_local_train_error_log', 'Fold0_client0_test_loss_log', 'Fold0_client10_test_loss_log', 'Fold0_client11_test_loss_log', 'Fold0_client12_test_loss_log', 'Fold0_client13_test_loss_log', 'Fold0_client1_test_loss_log', 'Fold0_client2_test_loss_log', 'Fold0_client3_test_loss_log', 'Fold0_client4_test_loss_log', 'Fold0_client5_test_loss_log', 'Fold0_client6_test_loss_log', 'Fold0_client7_test_loss_log', 'Fold0_client8_test_loss_log', 'Fold0_client9_test_loss_log', 'Fold0_local_test_error_log', 'Fold0_local_train_error_log', 'Fold1_client0_test_loss_log', 'Fold1_client10_test_loss_log', 'Fold1_client11_test_loss_log', 'Fold1_client12_test_loss_log', 'Fold1_client13_test_loss_log', 'Fold1_client1_test_loss_log', 'Fold1_client2_test_loss_log', 'Fold1_client3_test_loss_log', 'Fold1_client4_test_loss_log', 'Fold1_client5_test_loss_log', 'Fold1_client6_test_loss_log', 'Fold1_client7_test_loss_log', 'Fold1_client8_test_loss_log', 'Fold1_client9_test_loss_log', 'Fold1_local_test_error_log', 'Fold1_local_train_error_log', 'Fold2_client0_test_loss_log', 'Fold2_client10_test_loss_log', 'Fold2_client11_test_loss_log', 'Fold2_client12_test_loss_log', 'Fold2_client13_test_loss_log', 'Fold2_client1_test_loss_log', 'Fold2_client2_test_loss_log', 'Fold2_client3_test_loss_log', 'Fold2_client4_test_loss_log', 'Fold2_client5_test_loss_log', 'Fold2_client6_test_loss_log', 'Fold2_client7_test_loss_log', 'Fold2_client8_test_loss_log', 'Fold2_client9_test_loss_log', 'Fold2_local_test_error_log', 'Fold2_local_train_error_log', 'Fold3_client0_test_loss_log', 'Fold3_client10_test_loss_log', 'Fold3_client11_test_loss_log', 'Fold3_client12_test_loss_log', 'Fold3_client13_test_loss_log', 'Fold3_client1_test_loss_log', 'Fold3_client2_test_loss_log', 'Fold3_client3_test_loss_log', 'Fold3_client4_test_loss_log', 'Fold3_client5_test_loss_log', 'Fold3_client6_test_loss_log', 'Fold3_client7_test_loss_log', 'Fold3_client8_test_loss_log', 'Fold3_client9_test_loss_log', 'Fold3_local_test_error_log', 'Fold3_local_train_error_log', 'Fold4_client0_test_loss_log', 'Fold4_client10_test_loss_log', 'Fold4_client11_test_loss_log', 'Fold4_client12_test_loss_log', 'Fold4_client13_test_loss_log', 'Fold4_client1_test_loss_log', 'Fold4_client2_test_loss_log', 'Fold4_client3_test_loss_log', 'Fold4_client4_test_loss_log', 'Fold4_client5_test_loss_log', 'Fold4_client6_test_loss_log', 'Fold4_client7_test_loss_log', 'Fold4_client8_test_loss_log', 'Fold4_client9_test_loss_log', 'Fold4_local_test_error_log', 'Fold4_local_train_error_log']\n",
      "\n",
      "\n",
      "\n",
      "\n",
      "AveragedCV_local_test_error_log shape: (20,)\n",
      "AveragedCV_local_train_error_log shape: (20,)\n",
      "Fold0_client0_test_loss_log shape: (0,)\n",
      "Fold0_client10_test_loss_log shape: (0,)\n",
      "Fold0_client11_test_loss_log shape: (0,)\n",
      "Fold0_client12_test_loss_log shape: (0,)\n",
      "Fold0_client13_test_loss_log shape: (0,)\n",
      "Fold0_client1_test_loss_log shape: (0,)\n",
      "Fold0_client2_test_loss_log shape: (0,)\n",
      "Fold0_client3_test_loss_log shape: (0,)\n",
      "Fold0_client4_test_loss_log shape: (0,)\n",
      "Fold0_client5_test_loss_log shape: (0,)\n",
      "Fold0_client6_test_loss_log shape: (0,)\n",
      "Fold0_client7_test_loss_log shape: (0,)\n",
      "Fold0_client8_test_loss_log shape: (0,)\n",
      "Fold0_client9_test_loss_log shape: (0,)\n",
      "Fold0_local_test_error_log shape: (20,)\n",
      "Fold0_local_train_error_log shape: (20,)\n",
      "Fold1_client0_test_loss_log shape: (0,)\n",
      "Fold1_client10_test_loss_log shape: (0,)\n",
      "Fold1_client11_test_loss_log shape: (0,)\n",
      "Fold1_client12_test_loss_log shape: (0,)\n",
      "Fold1_client13_test_loss_log shape: (0,)\n",
      "Fold1_client1_test_loss_log shape: (0,)\n",
      "Fold1_client2_test_loss_log shape: (0,)\n",
      "Fold1_client3_test_loss_log shape: (0,)\n",
      "Fold1_client4_test_loss_log shape: (0,)\n",
      "Fold1_client5_test_loss_log shape: (0,)\n",
      "Fold1_client6_test_loss_log shape: (0,)\n",
      "Fold1_client7_test_loss_log shape: (0,)\n",
      "Fold1_client8_test_loss_log shape: (0,)\n",
      "Fold1_client9_test_loss_log shape: (0,)\n",
      "Fold1_local_test_error_log shape: (20,)\n",
      "Fold1_local_train_error_log shape: (20,)\n",
      "Fold2_client0_test_loss_log shape: (0,)\n",
      "Fold2_client10_test_loss_log shape: (0,)\n",
      "Fold2_client11_test_loss_log shape: (0,)\n",
      "Fold2_client12_test_loss_log shape: (0,)\n",
      "Fold2_client13_test_loss_log shape: (0,)\n",
      "Fold2_client1_test_loss_log shape: (0,)\n",
      "Fold2_client2_test_loss_log shape: (0,)\n",
      "Fold2_client3_test_loss_log shape: (0,)\n",
      "Fold2_client4_test_loss_log shape: (0,)\n",
      "Fold2_client5_test_loss_log shape: (0,)\n",
      "Fold2_client6_test_loss_log shape: (0,)\n",
      "Fold2_client7_test_loss_log shape: (0,)\n",
      "Fold2_client8_test_loss_log shape: (0,)\n",
      "Fold2_client9_test_loss_log shape: (0,)\n",
      "Fold2_local_test_error_log shape: (20,)\n",
      "Fold2_local_train_error_log shape: (20,)\n",
      "Fold3_client0_test_loss_log shape: (0,)\n",
      "Fold3_client10_test_loss_log shape: (0,)\n",
      "Fold3_client11_test_loss_log shape: (0,)\n",
      "Fold3_client12_test_loss_log shape: (0,)\n",
      "Fold3_client13_test_loss_log shape: (0,)\n",
      "Fold3_client1_test_loss_log shape: (0,)\n",
      "Fold3_client2_test_loss_log shape: (0,)\n",
      "Fold3_client3_test_loss_log shape: (0,)\n",
      "Fold3_client4_test_loss_log shape: (0,)\n",
      "Fold3_client5_test_loss_log shape: (0,)\n",
      "Fold3_client6_test_loss_log shape: (0,)\n",
      "Fold3_client7_test_loss_log shape: (0,)\n",
      "Fold3_client8_test_loss_log shape: (0,)\n",
      "Fold3_client9_test_loss_log shape: (0,)\n",
      "Fold3_local_test_error_log shape: (20,)\n",
      "Fold3_local_train_error_log shape: (20,)\n",
      "Fold4_client0_test_loss_log shape: (0,)\n",
      "Fold4_client10_test_loss_log shape: (0,)\n",
      "Fold4_client11_test_loss_log shape: (0,)\n",
      "Fold4_client12_test_loss_log shape: (0,)\n",
      "Fold4_client13_test_loss_log shape: (0,)\n",
      "Fold4_client1_test_loss_log shape: (0,)\n",
      "Fold4_client2_test_loss_log shape: (0,)\n",
      "Fold4_client3_test_loss_log shape: (0,)\n",
      "Fold4_client4_test_loss_log shape: (0,)\n",
      "Fold4_client5_test_loss_log shape: (0,)\n",
      "Fold4_client6_test_loss_log shape: (0,)\n",
      "Fold4_client7_test_loss_log shape: (0,)\n",
      "Fold4_client8_test_loss_log shape: (0,)\n",
      "Fold4_client9_test_loss_log shape: (0,)\n",
      "Fold4_local_test_error_log shape: (20,)\n",
      "Fold4_local_train_error_log shape: (20,)\n"
     ]
    }
   ],
   "source": [
    "cv_results_path = r\"C:\\Users\\kdmen\\Desktop\\Research\\personalization-privacy-risk\\PythonVersion\\PythonSimsRevamp\\results\"\n",
    "directory_str = \"08-19_23-02_NOFL\"\n",
    "fedavg_filename = \"FULLSCIPYMIN_NOFL_CrossValResults.h5\"\n",
    "\n",
    "h5_path = os.path.join(cv_results_path, directory_str, fedavg_filename)\n",
    "with h5py.File(h5_path, 'r') as f:\n",
    "    a_group_key = list(f.keys())#[0]\n",
    "    print(a_group_key)\n",
    "    #AvgCV_val_test_loss = f['Fold0_client0_test_loss_log'][()]\n",
    "    #extraction_lst = list()\n",
    "    extraction_dict = dict()\n",
    "    print(\"\\n\\n\\n\")\n",
    "    for key in a_group_key:\n",
    "        #extraction_lst.append(f[key][()])\n",
    "        extraction_dict[key] = f[key][()]\n",
    "        if type(f[key][()]) == type([]):\n",
    "            print(f\"{key} len: {len(f[key][()])}\")\n",
    "        elif type(f[key][()]) == type(np.array(0)):\n",
    "            print(f\"{key} shape: {f[key][()].shape}\")\n",
    "        \n",
    "    \n",
    "    "
   ]
  },
  {
   "cell_type": "code",
   "execution_count": 6,
   "id": "bf4ceae2-b8f5-48cb-a606-9c61816d0a7f",
   "metadata": {},
   "outputs": [
    {
     "data": {
      "text/plain": [
       "(20,)"
      ]
     },
     "execution_count": 6,
     "metadata": {},
     "output_type": "execute_result"
    }
   ],
   "source": [
    "extraction_dict[a_group_key[0]].shape"
   ]
  },
  {
   "cell_type": "code",
   "execution_count": null,
   "id": "c4b8113e-3bd3-42e5-85de-e10337125726",
   "metadata": {},
   "outputs": [],
   "source": []
  }
 ],
 "metadata": {
  "kernelspec": {
   "display_name": "Python 3 (ipykernel)",
   "language": "python",
   "name": "python3"
  },
  "language_info": {
   "codemirror_mode": {
    "name": "ipython",
    "version": 3
   },
   "file_extension": ".py",
   "mimetype": "text/x-python",
   "name": "python",
   "nbconvert_exporter": "python",
   "pygments_lexer": "ipython3",
   "version": "3.10.12"
  }
 },
 "nbformat": 4,
 "nbformat_minor": 5
}
