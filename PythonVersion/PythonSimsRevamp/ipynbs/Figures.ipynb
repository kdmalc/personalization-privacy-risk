{
 "cells": [
  {
   "cell_type": "code",
   "execution_count": null,
   "id": "1cd1d435-bc78-4514-9d71-f3c29d59c050",
   "metadata": {},
   "outputs": [],
   "source": [
    "import numpy as np\n",
    "import h5py\n",
    "import torch\n",
    "import os\n",
    "import matplotlib.pyplot as plt"
   ]
  },
  {
   "cell_type": "code",
   "execution_count": null,
   "id": "340c0360-ee1c-4df9-a131-2b7ffb1c06a4",
   "metadata": {},
   "outputs": [],
   "source": [
    "cv_results_path = r\"C:\\Users\\kdmen\\Desktop\\Research\\personalization-privacy-risk\\PythonVersion\\PythonSimsRevamp\\results\"\n",
    "directory_str = \"08-12_21-24_PFAFO\"\n",
    "fedavg_filename = \"MAXITERSCIPYMIN_PFAFO_CrossValResults.h5\"\n",
    "\n",
    "h5_path = os.path.join(cv_results_path, directory_str, fedavg_filename)\n",
    "with h5py.File(h5_path, 'r') as f:\n",
    "    a_group_key = list(f.keys())#[0]\n",
    "    print(a_group_key)\n",
    "    AvgCV_val_test_loss = f['AveragedCV_local_test_error_log'][()]\n",
    "    AvgCV_val_train_loss = f['AveragedCV_local_train_error_log'][()]\n",
    "    f0_val_test_loss = f['Fold0_local_test_error_log'][()]\n",
    "    f0_val_train_loss = f['Fold0_local_train_error_log'][()]\n",
    "    f1_val_test_loss = f['Fold1_local_test_error_log'][()]\n",
    "    f1_val_train_loss = f['Fold1_local_train_error_log'][()]\n",
    "    f2_val_test_loss = f['Fold2_local_test_error_log'][()]\n",
    "    f2_val_train_loss = f['Fold2_local_train_error_log'][()]\n",
    "    f3_val_test_loss = f['Fold3_local_test_error_log'][()]\n",
    "    f3_val_train_loss = f['Fold3_local_train_error_log'][()]\n",
    "    f4_val_test_loss = f['Fold4_local_test_error_log'][()]\n",
    "    f4_val_train_loss = f['Fold4_local_train_error_log'][()]\n",
    "    "
   ]
  }
 ],
 "metadata": {
  "kernelspec": {
   "display_name": "Python 3 (ipykernel)",
   "language": "python",
   "name": "python3"
  },
  "language_info": {
   "codemirror_mode": {
    "name": "ipython",
    "version": 3
   },
   "file_extension": ".py",
   "mimetype": "text/x-python",
   "name": "python",
   "nbconvert_exporter": "python",
   "pygments_lexer": "ipython3",
   "version": "3.10.12"
  }
 },
 "nbformat": 4,
 "nbformat_minor": 5
}
