{
 "cells": [
  {
   "cell_type": "code",
   "execution_count": 22,
   "id": "1cd1d435-bc78-4514-9d71-f3c29d59c050",
   "metadata": {},
   "outputs": [],
   "source": [
    "import numpy as np\n",
    "import pandas as pd\n",
    "import h5py\n",
    "import torch\n",
    "import os\n",
    "import matplotlib.pyplot as plt\n",
    "import seaborn as sns"
   ]
  },
  {
   "cell_type": "code",
   "execution_count": 3,
   "id": "28f7c343-97e9-461a-a796-3da5ccfbd83d",
   "metadata": {},
   "outputs": [],
   "source": [
    "NUM_PLOTTED_CONDITIONS = 6\n",
    "NUM_PLOTTED_CONDITIONS_WITH_GLOBAL = 10\n",
    "NUM_CLIENTS = 14\n",
    "NUM_FOLDS = 5"
   ]
  },
  {
   "cell_type": "code",
   "execution_count": 4,
   "id": "c3a30b0d-60a8-43db-8f95-a215f005168d",
   "metadata": {},
   "outputs": [],
   "source": [
    "def load_final_model_performances(cv_results_path, filename, type=None, num_clients=14, num_folds=7, verbose=False):\n",
    "    extraction_dict = dict()\n",
    "    for i in range(num_folds):\n",
    "        h5_path = os.path.join(cv_results_path, filename+f\"{i}.h5\")\n",
    "        #print(h5_path)\n",
    "        \n",
    "        # Load data from HDF5 file\n",
    "        with h5py.File(h5_path, 'r') as f:\n",
    "            #print(f.keys())\n",
    "            a_group_key = list(f.keys())\n",
    "            for key in a_group_key:\n",
    "                #print(key)\n",
    "        \n",
    "                if key==\"client_local_test_log\":\n",
    "                    client_keys = list(f[key])\n",
    "                    #print(client_keys)\n",
    "                    for ck in client_keys:\n",
    "                        ed_key = f\"{ck}_fold{i}\"  # Does this never update from or something...\n",
    "                        #print(f\"Key: {key}, Client: {ck}, Fold: {i}\")\n",
    "    \n",
    "                        # So this doenst have any knoledge of the fold number???\n",
    "                        if len(list(f[key][ck]))==0:\n",
    "                            #print(f\"{ed_key} SKIPPED!\")\n",
    "                            pass\n",
    "                        else:\n",
    "                            #print(f\"{ed_key} SUCCESS!\")\n",
    "                            extraction_dict[ed_key] = list(f[key][ck])\n",
    "                elif key==\"global_test_error_log\" and \"NOFL\" not in filename:\n",
    "                    # Do I need to turn this off for NoFL? Or will it just be empty and append something empty...\n",
    "                    ed_key = f\"{key}_fold{i}\"\n",
    "                    #print(ed_key)\n",
    "                    extraction_dict[ed_key] = list(f[key])\n",
    "                elif key==\"local_test_error_log\":\n",
    "                    # Genuinely have no idea what this is... is it client_local_test_log but already averaged out?? No clue\n",
    "                    ed_key = f\"{key}_fold{i}\"\n",
    "                    #print(ed_key)\n",
    "                    extraction_dict[ed_key] = list(f[key])\n",
    "                else:\n",
    "                    pass\n",
    "            #print()\n",
    "\n",
    "    # So now that all that is extracted and saved to the dict, iterate through the dict and... average by client?\n",
    "    client_logs = {f'S{i}_client_local_test_log': [] for i in range(num_clients)}  # S0 to S13\n",
    "    global_test_log = []\n",
    "    local_test_log = []\n",
    "    for fold in range(num_folds):\n",
    "        for i in range(num_clients):\n",
    "            # Access client local test logs for each fold\n",
    "            client_key = f'S{i}_client_local_test_log_fold{fold}'\n",
    "            try:\n",
    "                client_data = np.array(extraction_dict[client_key])\n",
    "                #print(f\"{client_key}: {client_data.shape}\") --> It doesnt get to here if it fails!\n",
    "    \n",
    "                if len(client_logs[f'S{i}_client_local_test_log']) == 0:\n",
    "                    client_logs[f'S{i}_client_local_test_log'] = client_data\n",
    "                else:\n",
    "                    client_logs[f'S{i}_client_local_test_log'] += client_data\n",
    "                    \n",
    "                #print(f\"{client_key} SUCCESS!\")\n",
    "            except KeyError:\n",
    "                # It was a testing client and thus not saved, so just skip to the next iter\n",
    "                #print(f\"{client_key} FAILED!\")\n",
    "                pass\n",
    "\n",
    "        #print(filename)\n",
    "        if \"NOFL\" in filename:\n",
    "            pass\n",
    "        else: \n",
    "            # Access global and local test logs for each fold\n",
    "            global_key = f'global_test_error_log_fold{fold}'\n",
    "            #print(extraction_dict.keys())\n",
    "            global_data = extraction_dict[global_key][:]\n",
    "            if len(global_test_log) == 0:\n",
    "                global_test_log = np.array(global_data)\n",
    "            else:\n",
    "                global_test_log += np.array(global_data)\n",
    "        \n",
    "        local_key = f'local_test_error_log_fold{fold}'\n",
    "        local_data = extraction_dict[local_key][:]\n",
    "        if len(local_test_log) == 0:\n",
    "            local_test_log = np.array(local_data)\n",
    "        else:\n",
    "            local_test_log += np.array(local_data)\n",
    "    \n",
    "    # Average the client test logs and the global/local test errors\n",
    "    ## In the cross scenario, it should divide client_logs by 6, not 7, since each client is withheld once\n",
    "    averaged_client_logs = {client: np.array(client_logs[client]) / num_folds for client in client_logs}\n",
    "    if \"NOFL\" in filename:\n",
    "        averaged_global_test_log = None\n",
    "    else:    \n",
    "        averaged_global_test_log = np.array(global_test_log) / num_folds\n",
    "    averaged_local_test_log = np.array(local_test_log) / num_folds\n",
    "    \n",
    "    # Return the results\n",
    "    return averaged_client_logs, averaged_global_test_log, averaged_local_test_log\n"
   ]
  },
  {
   "cell_type": "markdown",
   "id": "ecbae2a4-52d4-4996-80b5-f3ce9e976b95",
   "metadata": {},
   "source": [
    "# Sims Results Plot"
   ]
  },
  {
   "cell_type": "code",
   "execution_count": 6,
   "id": "44f142b3-648a-4249-8e39-d6d31ef01d23",
   "metadata": {},
   "outputs": [],
   "source": [
    "results_path = r'C:\\Users\\kdmen\\Desktop\\Research\\personalization-privacy-risk\\PythonVersion\\PythonSimsRevamp\\results'\n",
    "current_directory = r'\\FinalSimRes'\n",
    "base_path = results_path + current_directory\n",
    "\n",
    "'''\n",
    "# CROSS\n",
    "10-05_14-23_NOFL_Cross\n",
    "10-05_14-32_PFAFO_Cross5\n",
    "10-05_14-48_FEDAVG_Cross5\n",
    "10-05_15-08_FEDAVG_Cross1\n",
    "10-05_15-14_PFAFO_Cross1\n",
    "\n",
    "# INTRA\n",
    "10-05_13-44_NOFL_Intra\n",
    "10-05_13-46_FEDAVG_Intra5\n",
    "10-05_13-55_FEDAVG_Intra1\n",
    "10-05_14-10_PFAFO_Intra1\n",
    "10-05_14-13_PFAFO_Intra5\n",
    "'''\n",
    "\n",
    "# CROSS\n",
    "cpfa_avg_cli_logs, cpfa_avg_glo_tst_log, cpfa_avg_loc_tst_log = load_final_model_performances(base_path+r'\\10-05_14-32_PFAFO_Cross5', 'GDLS_PFAFO_KFold', type=\"CROSS\")\n",
    "cfa_avg_cli_logs, cfa_avg_glo_tst_log, cfa_avg_loc_tst_log = load_final_model_performances(base_path+r'\\10-05_14-48_FEDAVG_Cross5', 'GDLS_FEDAVG_KFold', type=\"CROSS\")\n",
    "cnofl_avg_cli_logs, _, cnofl_avg_loc_tst_log = load_final_model_performances(base_path+r'\\10-05_14-23_NOFL_Cross', 'FULLSCIPYMIN_NOFL_KFold', type=\"CROSS\")\n",
    "# INTRA\n",
    "ipfa_avg_cli_logs, ipfa_avg_glo_tst_log, ipfa_avg_loc_tst_log = load_final_model_performances(base_path+r'\\10-05_14-13_PFAFO_Intra5', 'GDLS_PFAFO_KFold', type=\"INTRA\")\n",
    "ifa_avg_cli_logs, ifa_avg_glo_tst_log, ifa_avg_loc_tst_log = load_final_model_performances(base_path+r'\\10-05_13-46_FEDAVG_Intra5', 'GDLS_FEDAVG_KFold', type=\"INTRA\")\n",
    "inofl_avg_cli_logs, _, inofl_avg_loc_tst_log = load_final_model_performances(base_path+r'\\10-05_13-44_NOFL_Intra', 'FULLSCIPYMIN_NOFL_KFold', type=\"INTRA\")\n"
   ]
  },
  {
   "cell_type": "code",
   "execution_count": 7,
   "id": "e90ca543-e834-4fa2-a8af-c6cde88842dc",
   "metadata": {},
   "outputs": [
    {
     "data": {
      "text/plain": [
       "['S0_client_local_test_log',\n",
       " 'S1_client_local_test_log',\n",
       " 'S2_client_local_test_log',\n",
       " 'S3_client_local_test_log',\n",
       " 'S4_client_local_test_log',\n",
       " 'S5_client_local_test_log',\n",
       " 'S6_client_local_test_log',\n",
       " 'S7_client_local_test_log',\n",
       " 'S8_client_local_test_log',\n",
       " 'S9_client_local_test_log',\n",
       " 'S10_client_local_test_log',\n",
       " 'S11_client_local_test_log',\n",
       " 'S12_client_local_test_log',\n",
       " 'S13_client_local_test_log']"
      ]
     },
     "execution_count": 7,
     "metadata": {},
     "output_type": "execute_result"
    }
   ],
   "source": [
    "keys = list(cpfa_avg_cli_logs.keys())\n",
    "keys"
   ]
  },
  {
   "cell_type": "code",
   "execution_count": 8,
   "id": "f4780cea-9c73-4b53-a399-8d799c1c4480",
   "metadata": {},
   "outputs": [],
   "source": [
    "cpfa_avg_cli_dict = {i: value for i, value in enumerate(cpfa_avg_cli_logs.values())}\n",
    "cfa_avg_cli_dict = {i: value for i, value in enumerate(cfa_avg_cli_logs.values())}\n",
    "cnofl_avg_cli_dict = {i: value for i, value in enumerate(cnofl_avg_cli_logs.values())}\n",
    "ipfa_avg_cli_dict = {i: value for i, value in enumerate(ipfa_avg_cli_logs.values())}\n",
    "ifa_avg_cli_dict = {i: value for i, value in enumerate(ifa_avg_cli_logs.values())}\n",
    "inofl_avg_cli_dict = {i: value for i, value in enumerate(inofl_avg_cli_logs.values())}\n"
   ]
  },
  {
   "cell_type": "code",
   "execution_count": 9,
   "id": "72a1fdbf-43be-4757-8a7d-2322ecf6b664",
   "metadata": {},
   "outputs": [],
   "source": [
    "def mean_of_last_n(values, n=10):\n",
    "    return np.mean(values[-n:])\n",
    "\n",
    "# Create lists by calculating the mean of the last 10 values\n",
    "cpfa_avg_cli_lst = [mean_of_last_n(cli_log) for cli_log in cpfa_avg_cli_logs.values()]\n",
    "cfa_avg_cli_lst = [mean_of_last_n(cli_log) for cli_log in cfa_avg_cli_logs.values()]\n",
    "cnofl_avg_cli_lst = [mean_of_last_n(cli_log) for cli_log in cnofl_avg_cli_logs.values()]\n",
    "ipfa_avg_cli_lst = [mean_of_last_n(cli_log) for cli_log in ipfa_avg_cli_logs.values()]\n",
    "ifa_avg_cli_lst = [mean_of_last_n(cli_log) for cli_log in ifa_avg_cli_logs.values()]\n",
    "inofl_avg_cli_lst = [mean_of_last_n(cli_log) for cli_log in inofl_avg_cli_logs.values()]\n"
   ]
  },
  {
   "cell_type": "code",
   "execution_count": 10,
   "id": "b5286485-3173-405a-bda0-43664eea8e87",
   "metadata": {},
   "outputs": [
    {
     "data": {
      "text/plain": [
       "[1.2776575664559067e-06,\n",
       " 1.0105792618169173e-06,\n",
       " 8.582097260579316e-07,\n",
       " 1.4739363493955515e-06,\n",
       " 1.1500988490327914e-06,\n",
       " 7.813016971179134e-07,\n",
       " 7.738445220691144e-07,\n",
       " 1.119351118931838e-06,\n",
       " 4.7059166122801727e-07,\n",
       " 1.0677695713907473e-06,\n",
       " 9.89121133954513e-07,\n",
       " 1.0245945389856636e-06,\n",
       " 4.2974958909049063e-07,\n",
       " 4.983168919424254e-07]"
      ]
     },
     "execution_count": 10,
     "metadata": {},
     "output_type": "execute_result"
    }
   ],
   "source": [
    "inofl_avg_cli_lst"
   ]
  },
  {
   "cell_type": "code",
   "execution_count": 11,
   "id": "f9871e19-01af-498b-ba44-c1cb55b32ce6",
   "metadata": {},
   "outputs": [],
   "source": [
    "#cli_fold_log_lst = \n",
    "INTRA_cli_fold_log_lst = [inofl_avg_cli_dict, ifa_avg_cli_dict, ipfa_avg_cli_dict]\n",
    "CROSS_cli_fold_log_lst = [cnofl_avg_cli_dict, cfa_avg_cli_dict, cpfa_avg_cli_dict]\n",
    "\n",
    "INTRA_finalavg_cli_fold_log_lst = [inofl_avg_cli_lst, ifa_avg_cli_lst, ipfa_avg_cli_lst]\n",
    "CROSS_finalavg_cli_fold_log_lst = [cnofl_avg_cli_lst, cfa_avg_cli_lst, cpfa_avg_cli_lst]\n",
    "\n",
    "all_trials_lst = [inofl_avg_cli_lst, ifa_avg_cli_lst, ipfa_avg_cli_lst, cnofl_avg_cli_lst, cfa_avg_cli_lst, cpfa_avg_cli_lst]"
   ]
  },
  {
   "cell_type": "code",
   "execution_count": 12,
   "id": "3dfec9a9-d9b4-423f-be45-2f354b2bb4e5",
   "metadata": {},
   "outputs": [
    {
     "name": "stdout",
     "output_type": "stream",
     "text": [
      "(84, 4)\n"
     ]
    },
    {
     "data": {
      "text/html": [
       "<div>\n",
       "<style scoped>\n",
       "    .dataframe tbody tr th:only-of-type {\n",
       "        vertical-align: middle;\n",
       "    }\n",
       "\n",
       "    .dataframe tbody tr th {\n",
       "        vertical-align: top;\n",
       "    }\n",
       "\n",
       "    .dataframe thead th {\n",
       "        text-align: right;\n",
       "    }\n",
       "</style>\n",
       "<table border=\"1\" class=\"dataframe\">\n",
       "  <thead>\n",
       "    <tr style=\"text-align: right;\">\n",
       "      <th></th>\n",
       "      <th>Scenario</th>\n",
       "      <th>Algorithm</th>\n",
       "      <th>Client</th>\n",
       "      <th>Test Loss</th>\n",
       "    </tr>\n",
       "  </thead>\n",
       "  <tbody>\n",
       "    <tr>\n",
       "      <th>0</th>\n",
       "      <td>Intra-Subject</td>\n",
       "      <td>LocalBatchMin</td>\n",
       "      <td>1</td>\n",
       "      <td>1.277658e-06</td>\n",
       "    </tr>\n",
       "    <tr>\n",
       "      <th>1</th>\n",
       "      <td>Intra-Subject</td>\n",
       "      <td>LocalBatchMin</td>\n",
       "      <td>2</td>\n",
       "      <td>1.010579e-06</td>\n",
       "    </tr>\n",
       "    <tr>\n",
       "      <th>2</th>\n",
       "      <td>Intra-Subject</td>\n",
       "      <td>LocalBatchMin</td>\n",
       "      <td>3</td>\n",
       "      <td>8.582097e-07</td>\n",
       "    </tr>\n",
       "    <tr>\n",
       "      <th>3</th>\n",
       "      <td>Intra-Subject</td>\n",
       "      <td>LocalBatchMin</td>\n",
       "      <td>4</td>\n",
       "      <td>1.473936e-06</td>\n",
       "    </tr>\n",
       "    <tr>\n",
       "      <th>4</th>\n",
       "      <td>Intra-Subject</td>\n",
       "      <td>LocalBatchMin</td>\n",
       "      <td>5</td>\n",
       "      <td>1.150099e-06</td>\n",
       "    </tr>\n",
       "  </tbody>\n",
       "</table>\n",
       "</div>"
      ],
      "text/plain": [
       "        Scenario      Algorithm  Client     Test Loss\n",
       "0  Intra-Subject  LocalBatchMin       1  1.277658e-06\n",
       "1  Intra-Subject  LocalBatchMin       2  1.010579e-06\n",
       "2  Intra-Subject  LocalBatchMin       3  8.582097e-07\n",
       "3  Intra-Subject  LocalBatchMin       4  1.473936e-06\n",
       "4  Intra-Subject  LocalBatchMin       5  1.150099e-06"
      ]
     },
     "execution_count": 12,
     "metadata": {},
     "output_type": "execute_result"
    }
   ],
   "source": [
    "\n",
    "# Define the scenario and algorithm information\n",
    "scenarios = ['Intra-Subject'] * 3 + ['Cross-Subject'] * 3\n",
    "algorithms = ['LocalBatchMin', 'FedAvg', 'Per-FedAvg', 'LocalBatchMin', 'FedAvg', 'Per-FedAvg']\n",
    "\n",
    "# Create an empty list to store rows\n",
    "rows = []\n",
    "\n",
    "# Loop over each trial result, scenario, and algorithm to create rows\n",
    "for i, trial_results in enumerate(all_trials_lst):\n",
    "    for client_idx, result in enumerate(trial_results):\n",
    "        rows.append([scenarios[i], algorithms[i], client_idx + 1, result])\n",
    "\n",
    "# Convert to a DataFrame\n",
    "df = pd.DataFrame(rows, columns=['Scenario', 'Algorithm', 'Client', 'Test Loss'])\n",
    "\n",
    "print(df.shape)\n",
    "df.head()"
   ]
  },
  {
   "cell_type": "code",
   "execution_count": 13,
   "id": "a23fceda-928b-49de-8c55-a02e337b815b",
   "metadata": {},
   "outputs": [],
   "source": [
    "# Save the DataFrame to a CSV file\n",
    "#df.to_csv('sim__results_condition_losses.csv', index=False)"
   ]
  },
  {
   "cell_type": "code",
   "execution_count": 14,
   "id": "da37d202-63cd-4cd6-83eb-b3ef67e5a1be",
   "metadata": {},
   "outputs": [
    {
     "name": "stdout",
     "output_type": "stream",
     "text": [
      "(6, 16)\n"
     ]
    },
    {
     "data": {
      "text/html": [
       "<div>\n",
       "<style scoped>\n",
       "    .dataframe tbody tr th:only-of-type {\n",
       "        vertical-align: middle;\n",
       "    }\n",
       "\n",
       "    .dataframe tbody tr th {\n",
       "        vertical-align: top;\n",
       "    }\n",
       "\n",
       "    .dataframe thead th {\n",
       "        text-align: right;\n",
       "    }\n",
       "</style>\n",
       "<table border=\"1\" class=\"dataframe\">\n",
       "  <thead>\n",
       "    <tr style=\"text-align: right;\">\n",
       "      <th></th>\n",
       "      <th>Scenario</th>\n",
       "      <th>Algorithm</th>\n",
       "      <th>Test Loss Client_1</th>\n",
       "      <th>Test Loss Client_2</th>\n",
       "      <th>Test Loss Client_3</th>\n",
       "      <th>Test Loss Client_4</th>\n",
       "      <th>Test Loss Client_5</th>\n",
       "      <th>Test Loss Client_6</th>\n",
       "      <th>Test Loss Client_7</th>\n",
       "      <th>Test Loss Client_8</th>\n",
       "      <th>Test Loss Client_9</th>\n",
       "      <th>Test Loss Client_10</th>\n",
       "      <th>Test Loss Client_11</th>\n",
       "      <th>Test Loss Client_12</th>\n",
       "      <th>Test Loss Client_13</th>\n",
       "      <th>Test Loss Client_14</th>\n",
       "    </tr>\n",
       "  </thead>\n",
       "  <tbody>\n",
       "    <tr>\n",
       "      <th>0</th>\n",
       "      <td>Intra-Subject</td>\n",
       "      <td>LocalBatchMin</td>\n",
       "      <td>1.277658e-06</td>\n",
       "      <td>1.010579e-06</td>\n",
       "      <td>8.582097e-07</td>\n",
       "      <td>1.473936e-06</td>\n",
       "      <td>1.150099e-06</td>\n",
       "      <td>7.813017e-07</td>\n",
       "      <td>7.738445e-07</td>\n",
       "      <td>1.119351e-06</td>\n",
       "      <td>4.705917e-07</td>\n",
       "      <td>1.067770e-06</td>\n",
       "      <td>9.891211e-07</td>\n",
       "      <td>1.024595e-06</td>\n",
       "      <td>4.297496e-07</td>\n",
       "      <td>4.983169e-07</td>\n",
       "    </tr>\n",
       "    <tr>\n",
       "      <th>1</th>\n",
       "      <td>Intra-Subject</td>\n",
       "      <td>FedAvg</td>\n",
       "      <td>2.099321e-07</td>\n",
       "      <td>2.097514e-07</td>\n",
       "      <td>1.962876e-07</td>\n",
       "      <td>2.073569e-07</td>\n",
       "      <td>2.056376e-07</td>\n",
       "      <td>2.084448e-07</td>\n",
       "      <td>1.977096e-07</td>\n",
       "      <td>1.700018e-07</td>\n",
       "      <td>1.746748e-07</td>\n",
       "      <td>1.711814e-07</td>\n",
       "      <td>1.756953e-07</td>\n",
       "      <td>1.720394e-07</td>\n",
       "      <td>1.754470e-07</td>\n",
       "      <td>1.770753e-07</td>\n",
       "    </tr>\n",
       "    <tr>\n",
       "      <th>2</th>\n",
       "      <td>Intra-Subject</td>\n",
       "      <td>Per-FedAvg</td>\n",
       "      <td>2.062377e-07</td>\n",
       "      <td>2.071192e-07</td>\n",
       "      <td>1.980129e-07</td>\n",
       "      <td>2.072254e-07</td>\n",
       "      <td>2.053047e-07</td>\n",
       "      <td>2.082156e-07</td>\n",
       "      <td>1.985883e-07</td>\n",
       "      <td>1.718933e-07</td>\n",
       "      <td>1.747856e-07</td>\n",
       "      <td>1.736425e-07</td>\n",
       "      <td>1.743739e-07</td>\n",
       "      <td>1.741356e-07</td>\n",
       "      <td>1.767734e-07</td>\n",
       "      <td>1.771520e-07</td>\n",
       "    </tr>\n",
       "    <tr>\n",
       "      <th>3</th>\n",
       "      <td>Cross-Subject</td>\n",
       "      <td>LocalBatchMin</td>\n",
       "      <td>4.074979e-03</td>\n",
       "      <td>5.164923e-03</td>\n",
       "      <td>4.716512e-03</td>\n",
       "      <td>4.174560e-03</td>\n",
       "      <td>4.964350e-03</td>\n",
       "      <td>4.921355e-03</td>\n",
       "      <td>5.980499e-03</td>\n",
       "      <td>7.084225e-03</td>\n",
       "      <td>6.612236e-03</td>\n",
       "      <td>4.799999e-03</td>\n",
       "      <td>4.813089e-03</td>\n",
       "      <td>3.569071e-03</td>\n",
       "      <td>6.851207e-03</td>\n",
       "      <td>8.111559e-03</td>\n",
       "    </tr>\n",
       "    <tr>\n",
       "      <th>4</th>\n",
       "      <td>Cross-Subject</td>\n",
       "      <td>FedAvg</td>\n",
       "      <td>1.358696e-03</td>\n",
       "      <td>1.351354e-03</td>\n",
       "      <td>1.358346e-03</td>\n",
       "      <td>1.349561e-03</td>\n",
       "      <td>1.351753e-03</td>\n",
       "      <td>1.347144e-03</td>\n",
       "      <td>1.384212e-03</td>\n",
       "      <td>1.374950e-03</td>\n",
       "      <td>1.395079e-03</td>\n",
       "      <td>1.384159e-03</td>\n",
       "      <td>1.401616e-03</td>\n",
       "      <td>1.390523e-03</td>\n",
       "      <td>1.383862e-03</td>\n",
       "      <td>1.378956e-03</td>\n",
       "    </tr>\n",
       "  </tbody>\n",
       "</table>\n",
       "</div>"
      ],
      "text/plain": [
       "        Scenario      Algorithm  Test Loss Client_1  Test Loss Client_2   \n",
       "0  Intra-Subject  LocalBatchMin        1.277658e-06        1.010579e-06  \\\n",
       "1  Intra-Subject         FedAvg        2.099321e-07        2.097514e-07   \n",
       "2  Intra-Subject     Per-FedAvg        2.062377e-07        2.071192e-07   \n",
       "3  Cross-Subject  LocalBatchMin        4.074979e-03        5.164923e-03   \n",
       "4  Cross-Subject         FedAvg        1.358696e-03        1.351354e-03   \n",
       "\n",
       "   Test Loss Client_3  Test Loss Client_4  Test Loss Client_5   \n",
       "0        8.582097e-07        1.473936e-06        1.150099e-06  \\\n",
       "1        1.962876e-07        2.073569e-07        2.056376e-07   \n",
       "2        1.980129e-07        2.072254e-07        2.053047e-07   \n",
       "3        4.716512e-03        4.174560e-03        4.964350e-03   \n",
       "4        1.358346e-03        1.349561e-03        1.351753e-03   \n",
       "\n",
       "   Test Loss Client_6  Test Loss Client_7  Test Loss Client_8   \n",
       "0        7.813017e-07        7.738445e-07        1.119351e-06  \\\n",
       "1        2.084448e-07        1.977096e-07        1.700018e-07   \n",
       "2        2.082156e-07        1.985883e-07        1.718933e-07   \n",
       "3        4.921355e-03        5.980499e-03        7.084225e-03   \n",
       "4        1.347144e-03        1.384212e-03        1.374950e-03   \n",
       "\n",
       "   Test Loss Client_9  Test Loss Client_10  Test Loss Client_11   \n",
       "0        4.705917e-07         1.067770e-06         9.891211e-07  \\\n",
       "1        1.746748e-07         1.711814e-07         1.756953e-07   \n",
       "2        1.747856e-07         1.736425e-07         1.743739e-07   \n",
       "3        6.612236e-03         4.799999e-03         4.813089e-03   \n",
       "4        1.395079e-03         1.384159e-03         1.401616e-03   \n",
       "\n",
       "   Test Loss Client_12  Test Loss Client_13  Test Loss Client_14  \n",
       "0         1.024595e-06         4.297496e-07         4.983169e-07  \n",
       "1         1.720394e-07         1.754470e-07         1.770753e-07  \n",
       "2         1.741356e-07         1.767734e-07         1.771520e-07  \n",
       "3         3.569071e-03         6.851207e-03         8.111559e-03  \n",
       "4         1.390523e-03         1.383862e-03         1.378956e-03  "
      ]
     },
     "execution_count": 14,
     "metadata": {},
     "output_type": "execute_result"
    }
   ],
   "source": [
    "\n",
    "# Create an empty list to store rows\n",
    "rows = []\n",
    "\n",
    "# Loop over each trial result, scenario, and algorithm to create rows\n",
    "for i, trial_results in enumerate(all_trials_lst):\n",
    "    row = [scenarios[i], algorithms[i]] + trial_results\n",
    "    rows.append(row)\n",
    "\n",
    "# Create DataFrame with columns for each client\n",
    "columns = ['Scenario', 'Algorithm'] + [f'Test Loss Client_{j+1}' for j in range(len(all_trials_lst[0]))]\n",
    "df = pd.DataFrame(rows, columns=columns)\n",
    "\n",
    "print(df.shape)\n",
    "df.head()"
   ]
  },
  {
   "cell_type": "code",
   "execution_count": 15,
   "id": "1014c887-97c8-405a-8e8f-7cb60b453252",
   "metadata": {},
   "outputs": [],
   "source": [
    "#cpfa_final_global_loss = mean_of_last_n(cpfa_avg_glo_tst_log)\n",
    "#cfa_final_global_loss = mean_of_last_n(cfa_avg_glo_tst_log)\n",
    "#ipfa_final_global_loss = mean_of_last_n(ipfa_avg_glo_tst_log)\n",
    "#ifa_final_global_loss = mean_of_last_n(ifa_avg_glo_tst_log)"
   ]
  },
  {
   "cell_type": "markdown",
   "id": "3d49d129-cece-4a2a-8b45-b3a4785e7911",
   "metadata": {},
   "source": [
    "> In intra: global model is evaluated but on many separate test sets... so there should be a per client global loss...\n",
    "\n",
    "            - Is what I have for intra global loss rn just the averaged loss across each clients local test set? Not sure... but presumably...\n",
    "\n",
    "> In cross: global model is evaulated on a single aggregated test set, so there is only a single loss vector"
   ]
  },
  {
   "cell_type": "code",
   "execution_count": null,
   "id": "826a953e-eb7f-4b40-bdcb-c5050951a440",
   "metadata": {},
   "outputs": [],
   "source": []
  },
  {
   "cell_type": "code",
   "execution_count": null,
   "id": "06ed17d2-3b05-4382-b4aa-832acbaf838a",
   "metadata": {},
   "outputs": [],
   "source": []
  },
  {
   "cell_type": "code",
   "execution_count": 16,
   "id": "23d3c6fd-98bc-4215-8894-97e76a2f3dce",
   "metadata": {},
   "outputs": [
    {
     "data": {
      "image/png": "[encoded data removed]",
      "text/plain": [
       "<Figure size 640x480 with 1 Axes>"
      ]
     },
     "metadata": {},
     "output_type": "display_data"
    }
   ],
   "source": [
    "for cli_fold_log in INTRA_finalavg_cli_fold_log_lst:\n",
    "    plt.scatter(range(len(cli_fold_log)), cli_fold_log)\n",
    "plt.title(\"Intra-subject Losses By User\")\n",
    "plt.ylabel('Loss')\n",
    "plt.xlabel('User ID')\n",
    "plt.show()"
   ]
  },
  {
   "cell_type": "code",
   "execution_count": 17,
   "id": "6c93e319-1fc2-4e2d-85b6-5076afe97a96",
   "metadata": {},
   "outputs": [
    {
     "data": {
      "image/png": "[encoded data removed]",
      "text/plain": [
       "<Figure size 640x480 with 1 Axes>"
      ]
     },
     "metadata": {},
     "output_type": "display_data"
    }
   ],
   "source": [
    "for cli_fold_log in CROSS_finalavg_cli_fold_log_lst:\n",
    "    plt.scatter(range(len(cli_fold_log)), cli_fold_log)\n",
    "plt.title(\"Cross-subject Losses By User\")\n",
    "plt.ylabel('Loss')\n",
    "plt.xlabel('User ID')\n",
    "plt.show()"
   ]
  },
  {
   "cell_type": "code",
   "execution_count": 18,
   "id": "8ab69b35-2ef8-401e-9205-ebae5cab85d7",
   "metadata": {},
   "outputs": [
    {
     "data": {
      "image/png": "[encoded data removed]",
      "text/plain": [
       "<Figure size 640x480 with 1 Axes>"
      ]
     },
     "metadata": {},
     "output_type": "display_data"
    }
   ],
   "source": [
    "for cli_idx, cli_fold_log in enumerate(INTRA_cli_fold_log_lst):\n",
    "    for cli_idx in range(NUM_CLIENTS):\n",
    "        plt.scatter(range(len(cli_fold_log[cli_idx])), cli_fold_log[cli_idx])"
   ]
  },
  {
   "cell_type": "markdown",
   "id": "d43b8324-8f65-4105-bf02-46d28329bb74",
   "metadata": {},
   "source": [
    "> Global models:"
   ]
  },
  {
   "cell_type": "code",
   "execution_count": 19,
   "id": "4c356d2e-75a8-455a-bc6e-aa8de4779bf6",
   "metadata": {},
   "outputs": [],
   "source": [
    "cpfa_final_global_loss = mean_of_last_n(cpfa_avg_glo_tst_log)\n",
    "cfa_final_global_loss = mean_of_last_n(cfa_avg_glo_tst_log)\n",
    "ipfa_final_global_loss = mean_of_last_n(ipfa_avg_glo_tst_log)\n",
    "ifa_final_global_loss = mean_of_last_n(ifa_avg_glo_tst_log)\n"
   ]
  },
  {
   "cell_type": "code",
   "execution_count": 20,
   "id": "0abb0d3c-7306-4389-9bb6-164aa7fc6e18",
   "metadata": {},
   "outputs": [
    {
     "name": "stdout",
     "output_type": "stream",
     "text": [
      "cpfa_final_global_loss: 0.001591974585117313\n",
      "cfa_final_global_loss: 0.001591795695679914\n",
      "ipfa_final_global_loss: 1.8872805098211622e-07\n",
      "ifa_final_global_loss: 1.8861044875185247e-07\n"
     ]
    }
   ],
   "source": [
    "print(f\"cpfa_final_global_loss: {cpfa_final_global_loss}\")\n",
    "print(f\"cfa_final_global_loss: {cfa_final_global_loss}\")\n",
    "print(f\"ipfa_final_global_loss: {ipfa_final_global_loss}\")\n",
    "print(f\"ifa_final_global_loss: {ifa_final_global_loss}\")"
   ]
  },
  {
   "cell_type": "markdown",
   "id": "30250964-9024-4a0c-8336-74a4703e86d2",
   "metadata": {},
   "source": [
    "## Performance: Final Avg Test Loss"
   ]
  },
  {
   "cell_type": "code",
   "execution_count": 23,
   "id": "4c130105-fd89-4b1e-be11-1b573c675562",
   "metadata": {},
   "outputs": [
    {
     "data": {
      "image/png": "[encoded data removed]",
      "text/plain": [
       "<Figure size 500x600 with 2 Axes>"
      ]
     },
     "metadata": {},
     "output_type": "display_data"
    }
   ],
   "source": [
    "# Set seaborn style for better aesthetics\n",
    "sns.set(style=\"whitegrid\")\n",
    "\n",
    "# Set up the figure and two subplots (without shared x-axis)\n",
    "fig, (ax1, ax2) = plt.subplots(2, 1, figsize=(5, 6))\n",
    "\n",
    "# Define x-tick labels\n",
    "x_labels_intra = ['Local', 'FedAvg', 'PerFedAvg']\n",
    "x_labels_cross = ['Local', 'FedAvg', 'PerFedAvg']\n",
    "\n",
    "# Positions for the local and global data points\n",
    "positions_intra = np.arange(len(x_labels_intra))\n",
    "positions_cross = np.arange(len(x_labels_cross))\n",
    "\n",
    "# BOX PLOTS\n",
    "box_width = 0.4  # Reduce the box plot width\n",
    "# Intra-subject (first subplot)\n",
    "all_trials_intra = all_trials_lst[:3]\n",
    "boxplot_elements1 = ax1.boxplot(all_trials_intra, positions=positions_intra, widths=box_width, patch_artist=True, zorder=0)\n",
    "# Cross-subject (second subplot)\n",
    "all_trials_cross = all_trials_lst[3:]\n",
    "boxplot_elements2 = ax2.boxplot(all_trials_cross, positions=positions_cross, widths=box_width, patch_artist=True, zorder=0)\n",
    "\n",
    "# Colors and adjustments\n",
    "light_blue = 'lightblue'\n",
    "dark_blue = 'darkblue'\n",
    "light_grey = 'lightgrey'\n",
    "dark_grey = 'dimgrey'\n",
    "offset = 0.3\n",
    "global_model_marker = 's'  # square marker for global model\n",
    "\n",
    "# Customize boxplot colors (set somewhat transparent boxes)\n",
    "for box in boxplot_elements1['boxes'] + boxplot_elements2['boxes']:\n",
    "    box.set_facecolor(light_blue)\n",
    "    box.set_edgecolor(dark_blue)\n",
    "    box.set_alpha(0.3)  # Adjust transparency to see scatter points more clearly\n",
    "\n",
    "# Set median color to a darker shade of blue\n",
    "for median in boxplot_elements1['medians'] + boxplot_elements2['medians']:\n",
    "    median.set_color(dark_blue)\n",
    "\n",
    "# Scatter plots for local points (full opacity, no alpha)\n",
    "for i in range(len(all_trials_lst)):\n",
    "    if i < 3:  # Intra-subject case (first subplot)\n",
    "        ax1.scatter([i] * len(all_trials_lst[i]), all_trials_lst[i], color=dark_blue, zorder=1, label='Local model performance')\n",
    "    else:  # Cross-subject case (second subplot)\n",
    "        ax2.scatter([i - 3] * len(all_trials_lst[i]), all_trials_lst[i], color=dark_blue, zorder=1, label='Local model performance')\n",
    "\n",
    "# Scatter plots for global model points (light grey, offset on x-axis, full opacity)\n",
    "global_model_data = [ifa_final_global_loss, ipfa_final_global_loss, cfa_final_global_loss, cpfa_final_global_loss]\n",
    "\n",
    "for i, global_loss in enumerate(global_model_data[:2]):\n",
    "    ax1.scatter([i+1 + offset], global_loss, color=dark_grey, zorder=2, marker=global_model_marker, label='Global model performance')\n",
    "\n",
    "for i, global_loss in enumerate(global_model_data[2:], start=3):\n",
    "    ax2.scatter([i+1 - 3 + offset], global_loss, color=dark_grey, zorder=2, marker=global_model_marker, label='Global model performance')\n",
    "\n",
    "# Set consistent font sizes for both plots\n",
    "for ax in [ax1, ax2]:\n",
    "    ax.set_ylabel(\"Test Loss\", fontsize=14, weight='bold')\n",
    "    ax.spines['top'].set_visible(False)\n",
    "    ax.spines['right'].set_visible(False)\n",
    "\n",
    "# Set x-tick labels individually for each plot\n",
    "ax1.set_xticks(positions_intra)\n",
    "ax1.set_xticklabels(x_labels_intra, fontsize=12)\n",
    "\n",
    "ax2.set_xticks(positions_cross)\n",
    "ax2.set_xticklabels(x_labels_cross, fontsize=12)\n",
    "ax2.ticklabel_format(style='scientific', axis='y', scilimits=(0, 0))\n",
    "\n",
    "# After plotting points and boxplots in ax1 and ax2\n",
    "handles_ax1, labels_ax1 = ax1.get_legend_handles_labels()\n",
    "unique_ax1 = dict(zip(labels_ax1, handles_ax1))  # Removes duplicates\n",
    "#\n",
    "handles_ax2, labels_ax2 = ax2.get_legend_handles_labels()\n",
    "unique_ax2 = dict(zip(labels_ax2, handles_ax2))  # Removes duplicates\n",
    "#\n",
    "# Set legends with unique labels for both subplots\n",
    "ax1.legend(unique_ax1.values(), unique_ax1.keys(), loc='upper right', fontsize=10)\n",
    "ax2.legend(unique_ax2.values(), unique_ax2.keys(), loc='upper right', fontsize=10)\n",
    "\n",
    "ax1.grid(False)\n",
    "ax2.grid(False)\n",
    "\n",
    "plt.tight_layout()\n",
    "\n",
    "# Save and show the figure\n",
    "plt.savefig('SimsResults_OffsetGlobal.jpg', dpi=500)\n",
    "plt.show()\n"
   ]
  },
  {
   "cell_type": "code",
   "execution_count": 29,
   "id": "dd70923c-a904-48b1-97a2-3eccba50fce6",
   "metadata": {},
   "outputs": [
    {
     "data": {
      "image/png": "[encoded data removed]",
      "text/plain": [
       "<Figure size 500x600 with 2 Axes>"
      ]
     },
     "metadata": {},
     "output_type": "display_data"
    }
   ],
   "source": [
    "# Set seaborn style for better aesthetics\n",
    "sns.set(style=\"whitegrid\")\n",
    "\n",
    "# Set up the figure and two subplots (without shared x-axis)\n",
    "fig, (ax1, ax2) = plt.subplots(2, 1, figsize=(5, 6))\n",
    "\n",
    "# Define x-tick labels\n",
    "x_labels_intra = ['Local', 'FedAvg', 'PerFedAvg']\n",
    "x_labels_cross = ['Local', 'FedAvg', 'PerFedAvg']\n",
    "\n",
    "# Positions for the local and global data points\n",
    "positions_intra = np.arange(len(x_labels_intra))\n",
    "positions_cross = np.arange(len(x_labels_cross))\n",
    "\n",
    "# BOX PLOTS\n",
    "box_width = 0.4  # Reduce the box plot width\n",
    "# Intra-subject (first subplot)\n",
    "all_trials_intra = all_trials_lst[:3]\n",
    "boxplot_elements1 = ax1.boxplot(all_trials_intra, positions=positions_intra, widths=box_width, patch_artist=True, zorder=0)\n",
    "# Cross-subject (second subplot)\n",
    "all_trials_cross = all_trials_lst[3:]\n",
    "boxplot_elements2 = ax2.boxplot(all_trials_cross, positions=positions_cross, widths=box_width, patch_artist=True, zorder=0)\n",
    "\n",
    "# Colors and adjustments\n",
    "light_blue = 'lightblue'\n",
    "dark_blue = 'darkblue'\n",
    "light_grey = 'lightgrey'\n",
    "dark_grey = 'dimgrey'\n",
    "cyan = 'cyan'  # cyan color for global model line\n",
    "\n",
    "# Customize boxplot colors (set somewhat transparent boxes)\n",
    "for box in boxplot_elements1['boxes'] + boxplot_elements2['boxes']:\n",
    "    box.set_facecolor(light_blue)\n",
    "    box.set_edgecolor(dark_blue)\n",
    "    box.set_alpha(0.3)  # Adjust transparency to see scatter points more clearly\n",
    "\n",
    "# Set median color to a darker shade of blue\n",
    "for median in boxplot_elements1['medians'] + boxplot_elements2['medians']:\n",
    "    median.set_color(dark_blue)\n",
    "\n",
    "# Scatter plots for local points (full opacity, no alpha)\n",
    "for i in range(len(all_trials_lst)):\n",
    "    if i < 3:  # Intra-subject case (first subplot)\n",
    "        ax1.scatter([i] * len(all_trials_lst[i]), all_trials_lst[i], color=dark_blue, zorder=1, label='Local model performance')\n",
    "    else:  # Cross-subject case (second subplot)\n",
    "        ax2.scatter([i - 3] * len(all_trials_lst[i]), all_trials_lst[i], color=dark_blue, zorder=1, label='Local model performance')\n",
    "\n",
    "# Global model data for cyan line on box plots\n",
    "global_model_data = [ifa_final_global_loss, ipfa_final_global_loss, cfa_final_global_loss, cpfa_final_global_loss]\n",
    "\n",
    "# Plot cyan lines for global model performance on the box plots (same as median line)\n",
    "# For intra-subject (ax1)\n",
    "global_positions = [1, 2]\n",
    "for i, global_loss in enumerate(global_model_data[:2]):\n",
    "    ax1.hlines(global_loss, global_positions[i] - box_width / 2, global_positions[i] + box_width / 2, color=cyan, linewidth=2, label='Global Model', zorder=2)\n",
    "# For cross-subject (ax2)\n",
    "for i, global_loss in enumerate(global_model_data[2:], start=0):\n",
    "    ax2.hlines(global_loss, global_positions[i] - box_width / 2, global_positions[i] + box_width / 2, color=cyan, linewidth=2, label='Global Model', zorder=2)\n",
    "\n",
    "# Set consistent font sizes for both plots\n",
    "for ax in [ax1, ax2]:\n",
    "    ax.set_ylabel(\"Test Loss\", fontsize=14, weight='bold')\n",
    "    ax.spines['top'].set_visible(False)\n",
    "    ax.spines['right'].set_visible(False)\n",
    "\n",
    "# Set x-tick labels individually for each plot\n",
    "ax1.set_xticks(positions_intra)\n",
    "ax1.set_xticklabels(x_labels_intra, fontsize=12)\n",
    "\n",
    "ax2.set_xticks(positions_cross)\n",
    "ax2.set_xticklabels(x_labels_cross, fontsize=12)\n",
    "ax2.ticklabel_format(style='scientific', axis='y', scilimits=(0, 0))\n",
    "\n",
    "# After plotting points and boxplots in ax1 and ax2\n",
    "handles_ax1, labels_ax1 = ax1.get_legend_handles_labels()\n",
    "unique_ax1 = dict(zip(labels_ax1, handles_ax1))  # Removes duplicates\n",
    "#\n",
    "handles_ax2, labels_ax2 = ax2.get_legend_handles_labels()\n",
    "unique_ax2 = dict(zip(labels_ax2, handles_ax2))  # Removes duplicates\n",
    "#\n",
    "# Set legends with unique labels for both subplots\n",
    "ax1.legend(unique_ax1.values(), unique_ax1.keys(), loc='upper right', fontsize=10)\n",
    "ax2.legend(unique_ax2.values(), unique_ax2.keys(), loc='upper right', fontsize=10)\n",
    "\n",
    "ax1.grid(False)\n",
    "ax2.grid(False)\n",
    "\n",
    "plt.tight_layout()\n",
    "\n",
    "# Save and show the figure\n",
    "plt.savefig('SimsResults_CyanGlobal.jpg', dpi=500)\n",
    "plt.show()\n"
   ]
  },
  {
   "cell_type": "code",
   "execution_count": null,
   "id": "44e2953c-86a6-448b-92c2-112cf998a485",
   "metadata": {},
   "outputs": [],
   "source": []
  },
  {
   "cell_type": "code",
   "execution_count": 32,
   "id": "7081e05e-54f2-4d66-a99a-6d40cc7d62bf",
   "metadata": {},
   "outputs": [
    {
     "data": {
      "image/png": "[encoded data removed]",
      "text/plain": [
       "<Figure size 500x600 with 2 Axes>"
      ]
     },
     "metadata": {},
     "output_type": "display_data"
    }
   ],
   "source": [
    "\n",
    "# Set seaborn style for better aesthetics\n",
    "sns.set(style=\"whitegrid\")\n",
    "\n",
    "# Set up the figure and two subplots (without shared x-axis)\n",
    "fig, (ax1, ax2) = plt.subplots(2, 1, figsize=(5, 6))\n",
    "\n",
    "# Define x-tick labels (only FedAvg and PerFedAvg)\n",
    "x_labels_intra = ['FedAvg', 'PerFedAvg']\n",
    "x_labels_cross = ['FedAvg', 'PerFedAvg']\n",
    "\n",
    "# Positions for the intra and cross-subject data points (adjusted to skip \"Local\")\n",
    "positions_intra = np.arange(len(x_labels_intra))\n",
    "positions_cross = np.arange(len(x_labels_cross))\n",
    "\n",
    "# BOX PLOTS\n",
    "box_width = 0.4  # Reduce the box plot width\n",
    "\n",
    "# Intra-subject (first subplot) - only using FedAvg and PerFedAvg\n",
    "all_trials_intra = all_trials_lst[1:3]  # Skip index 0 (Local)\n",
    "boxplot_elements1 = ax1.boxplot(all_trials_intra, positions=positions_intra, widths=box_width, patch_artist=True, zorder=0)\n",
    "\n",
    "# Cross-subject (second subplot) - only using FedAvg and PerFedAvg\n",
    "all_trials_cross = all_trials_lst[4:6]  # Skip index 3 (Local)\n",
    "boxplot_elements2 = ax2.boxplot(all_trials_cross, positions=positions_cross, widths=box_width, patch_artist=True, zorder=0)\n",
    "\n",
    "# Colors and adjustments\n",
    "light_blue = 'lightblue'\n",
    "dark_blue = 'darkblue'\n",
    "cyan = 'cyan'  # cyan color for global model line\n",
    "\n",
    "# Customize boxplot colors (set somewhat transparent boxes)\n",
    "for box in boxplot_elements1['boxes'] + boxplot_elements2['boxes']:\n",
    "    box.set_facecolor(light_blue)\n",
    "    box.set_edgecolor(dark_blue)\n",
    "    box.set_alpha(0.3)  # Adjust transparency to see scatter points more clearly\n",
    "\n",
    "# Set median color to a darker shade of blue\n",
    "for median in boxplot_elements1['medians'] + boxplot_elements2['medians']:\n",
    "    median.set_color(dark_blue)\n",
    "\n",
    "# Global model data for cyan line on box plots (FedAvg and PerFedAvg only)\n",
    "global_model_data = [ifa_final_global_loss, ipfa_final_global_loss, cfa_final_global_loss, cpfa_final_global_loss]\n",
    "\n",
    "# Plot cyan lines for global model performance on the box plots\n",
    "# For intra-subject (ax1)\n",
    "global_positions = [0, 1]  # Adjusted to match FedAvg and PerFedAvg positions\n",
    "for i, global_loss in enumerate(global_model_data[:2]):\n",
    "    ax1.hlines(global_loss, global_positions[i] - box_width / 2, global_positions[i] + box_width / 2, color=cyan, linewidth=2, label='Global Model', zorder=2)\n",
    "\n",
    "# For cross-subject (ax2)\n",
    "for i, global_loss in enumerate(global_model_data[2:], start=0):\n",
    "    ax2.hlines(global_loss, global_positions[i] - box_width / 2, global_positions[i] + box_width / 2, color=cyan, linewidth=2, label='Global Model', zorder=2)\n",
    "\n",
    "# Set consistent font sizes for both plots\n",
    "for ax in [ax1, ax2]:\n",
    "    ax.set_ylabel(\"Test Loss\", fontsize=14, weight='bold')\n",
    "    ax.spines['top'].set_visible(False)\n",
    "    ax.spines['right'].set_visible(False)\n",
    "\n",
    "# Set x-tick labels individually for each plot\n",
    "ax1.set_xticks(positions_intra)\n",
    "ax1.set_xticklabels(x_labels_intra, fontsize=12)\n",
    "\n",
    "ax2.set_xticks(positions_cross)\n",
    "ax2.set_xticklabels(x_labels_cross, fontsize=12)\n",
    "ax2.ticklabel_format(style='scientific', axis='y', scilimits=(0, 0))\n",
    "\n",
    "# After plotting points and boxplots in ax1 and ax2\n",
    "handles_ax1, labels_ax1 = ax1.get_legend_handles_labels()\n",
    "unique_ax1 = dict(zip(labels_ax1, handles_ax1))  # Removes duplicates\n",
    "\n",
    "handles_ax2, labels_ax2 = ax2.get_legend_handles_labels()\n",
    "unique_ax2 = dict(zip(labels_ax2, handles_ax2))  # Removes duplicates\n",
    "\n",
    "# Set legends with unique labels for both subplots\n",
    "ax1.legend(unique_ax1.values(), unique_ax1.keys(), loc='upper right', fontsize=10)\n",
    "ax2.legend(unique_ax2.values(), unique_ax2.keys(), loc='upper right', fontsize=10)\n",
    "\n",
    "ax1.grid(False)\n",
    "ax2.grid(False)\n",
    "\n",
    "plt.tight_layout()\n",
    "\n",
    "# Save and show the figure\n",
    "#plt.savefig('SimsResults_CyanGlobal_FL_ONLY.jpg', dpi=500)\n",
    "plt.show()\n"
   ]
  },
  {
   "cell_type": "code",
   "execution_count": null,
   "id": "4874348d-fa6a-448e-b455-c1d307b63de3",
   "metadata": {},
   "outputs": [],
   "source": []
  },
  {
   "cell_type": "markdown",
   "id": "8c50d1e2-1c0b-4405-9ef3-4b50da7715ce",
   "metadata": {},
   "source": [
    "## Final Avg Performance Error"
   ]
  },
  {
   "cell_type": "code",
   "execution_count": null,
   "id": "156a49a3-a0f1-4e7d-b61c-9ee36226dd94",
   "metadata": {},
   "outputs": [],
   "source": [
    "# Calculate the average time-domain error across all subjects\n",
    "\n",
    "time_x = times_block1[k][c]\n",
    "td_error = np.empty((2, len(keys), len(conds), min_time)) # len(update_ix)-2 so we can avoid the last interval\n",
    "\n",
    "# get the time-domain error average across batches\n",
    "for iK, key in enumerate(keys):\n",
    "    for iC, cond in enumerate(conds):\n",
    "        # BLOCK 1\n",
    "        b = 0\n",
    "        ref = refs_block1[key][iC] # ref = time x 2\n",
    "        pos = poss_block1[key][iC] # pos = time x 2\n",
    "        td_error[b, iK, iC, :] = calc_time_domain_error(ref, pos)\n",
    "        \n",
    "        # BLOCK 2\n",
    "        b = 1\n",
    "        ref = refs_block2[key][iC] # ref = time x 2\n",
    "        pos = poss_block2[key][iC] # pos = time x 2\n",
    "        td_error[b, iK, iC, :] = calc_time_domain_error(ref, pos)\n",
    "        \n",
    "# first 20 seconds after ramp \n",
    "t0_start = RAMP \n",
    "t0_end = int(tscale*25)-1 # so that both times are the same \n",
    "print(\"first 20 seconds after ramp, starting at index: \", t0_start, \"ending at index: \", t0_end)\n",
    "\n",
    "# take the average of the first 20 seconds across subjects, blocks and conditions\n",
    "td_error_first = np.mean(td_error[:, :, :, t0_start:t0_end], axis = -1) # 2 x 7 x 8\n",
    "assert(td_error_first.shape == (2, len(keys), len(conds)))\n",
    "\n",
    "# last 20 seconds\n",
    "t1_end = int(tscale*20)\n",
    "print(\"last 20 seconds, starting at index: \", t1_end)\n",
    "\n",
    "# make sure that the time lengths are the same\n",
    "assert((t0_end - t0_start) == t1_end)\n",
    "\n",
    "# take average of the last 20 seconds, across subjects blocks and conditions\n",
    "td_error_last = np.mean(td_error[:, :, :, -t1_end:], axis=-1) # -t1_end takes the last 20 seconds index\n",
    "assert(td_error_last.shape == (2, len(keys), len(conds)))\n",
    "\n",
    "# BLOCK 1 - without the 5 seconds ramp\n",
    "b = 0\n",
    "td_b1_25, td_b1_50, td_bl_75 = np.percentile(td_error[b, :, :, t0_start:], [25, 50, 75], axis=(0, 1))\n",
    "plt.plot(time_x[t0_start:], td_b1_50)\n",
    "plt.fill_between(time_x[t0_start:], td_b1_25, td_bl_75, alpha=0.2)\n",
    "\n",
    "# BLOCK 2 - without the 5 seconds ramp\n",
    "b = 1\n",
    "td_b2_25, td_b2_50, td_b2_75 = np.percentile(td_error[b, :, :, t0_start:], [25, 50, 75], axis=(0, 1))\n",
    "plt.plot(time_x[t0_start:], td_b2_50)\n",
    "plt.fill_between(time_x[t0_start:], td_b2_25, td_b2_75, alpha=0.2)\n",
    "\n",
    "plt.title(\"Comparing time-domain error without the ramp\")\n",
    "plt.xlabel(\"time (seconds)\")\n",
    "plt.ylabel(\"$||t - y||_2$\")\n",
    "plt.box(False)"
   ]
  },
  {
   "cell_type": "code",
   "execution_count": null,
   "id": "64a622e0-8296-4cc2-be32-23999a7d81d7",
   "metadata": {},
   "outputs": [],
   "source": []
  },
  {
   "cell_type": "code",
   "execution_count": 68,
   "id": "b9dcb3d4-d368-46e4-8ad5-1e0bf54f2436",
   "metadata": {},
   "outputs": [
    {
     "name": "stdout",
     "output_type": "stream",
     "text": [
      "key {key}; client keys:\n",
      "['S0_client_local_cost_func_comps_log', 'S10_client_local_cost_func_comps_log', 'S11_client_local_cost_func_comps_log', 'S12_client_local_cost_func_comps_log', 'S13_client_local_cost_func_comps_log', 'S1_client_local_cost_func_comps_log', 'S2_client_local_cost_func_comps_log', 'S3_client_local_cost_func_comps_log', 'S4_client_local_cost_func_comps_log', 'S5_client_local_cost_func_comps_log', 'S6_client_local_cost_func_comps_log', 'S7_client_local_cost_func_comps_log', 'S8_client_local_cost_func_comps_log', 'S9_client_local_cost_func_comps_log']\n",
      "S0_client_local_cost_func_comps_log_fold0 SUCCESS!\n",
      "S10_client_local_cost_func_comps_log_fold0 SUCCESS!\n",
      "S11_client_local_cost_func_comps_log_fold0 SUCCESS!\n",
      "S12_client_local_cost_func_comps_log_fold0 SUCCESS!\n",
      "S13_client_local_cost_func_comps_log_fold0 SUCCESS!\n",
      "S1_client_local_cost_func_comps_log_fold0 SUCCESS!\n",
      "S2_client_local_cost_func_comps_log_fold0 SUCCESS!\n",
      "S3_client_local_cost_func_comps_log_fold0 SUCCESS!\n",
      "S4_client_local_cost_func_comps_log_fold0 SUCCESS!\n",
      "S5_client_local_cost_func_comps_log_fold0 SUCCESS!\n",
      "S6_client_local_cost_func_comps_log_fold0 SUCCESS!\n",
      "S7_client_local_cost_func_comps_log_fold0 SUCCESS!\n",
      "S8_client_local_cost_func_comps_log_fold0 SUCCESS!\n",
      "S9_client_local_cost_func_comps_log_fold0 SUCCESS!\n"
     ]
    }
   ],
   "source": [
    "#def load_final_model_performances(cv_results_path, filename, type=None, num_clients=14, num_folds=7, verbose=False):\n",
    "#def load_final_model_performances(\n",
    "\n",
    "#cv_results_path = r'C:\\Users\\kdmen\\Desktop\\Research\\personalization-privacy-risk\\PythonVersion\\PythonSimsRevamp\\results\\FinalSimRes\\10-05_14-13_PFAFO_Intra5'\n",
    "#filename = 'GDLS_PFAFO_KFold'\n",
    "\n",
    "cv_results_path = r'C:\\Users\\kdmen\\Desktop\\Research\\personalization-privacy-risk\\PythonVersion\\PythonSimsRevamp\\results\\FinalSimRes\\10-05_13-44_NOFL_Intra'\n",
    "filename = 'FULLSCIPYMIN_NOFL_KFold'\n",
    "\n",
    "#cv_results_path = r'C:\\Users\\kdmen\\Desktop\\Research\\personalization-privacy-risk\\PythonVersion\\PythonSimsRevamp\\results\\FinalSimRes\\10-05_14-13_PFAFO_Intra5'\n",
    "#filename = 'GDLS_PFAFO_KFold'\n",
    "\n",
    "type=None\n",
    "num_clients=14\n",
    "num_folds= 1 #7\n",
    "verbose=False\n",
    "\n",
    "\n",
    "extraction_dict = dict()\n",
    "for i in range(num_folds):\n",
    "    h5_path = os.path.join(cv_results_path, filename+f\"{i}.h5\")\n",
    "    #print(h5_path)\n",
    "    \n",
    "    # Load data from HDF5 file\n",
    "    with h5py.File(h5_path, 'r') as f:\n",
    "        #print(f.keys())\n",
    "        a_group_key = list(f.keys())\n",
    "        for key in a_group_key:\n",
    "            #print(key)\n",
    "    \n",
    "            if key==\"client_global_cost_func_comps_log\" or key==\"client_local_cost_func_comps_log\":\n",
    "                client_keys = list(f[key])\n",
    "                print(\"key {key}; client keys:\")\n",
    "                print(client_keys)\n",
    "                for ck in client_keys:\n",
    "                    ed_key = f\"{ck}_fold{i}\"  # Does this never update from or something...\n",
    "                    #print(f\"Key: {key}, Client: {ck}, Fold: {i}\")\n",
    "\n",
    "                    # So this doenst have any knoledge of the fold number???\n",
    "                    if len(list(f[key][ck]))==0:\n",
    "                        val = list(f[key][ck])\n",
    "                        print(f\"{ed_key} SKIPPED!\")\n",
    "                        pass\n",
    "                    else:\n",
    "                        print(f\"{ed_key} SUCCESS!\")\n",
    "                        extraction_dict[ed_key] = list(f[key][ck])\n",
    "            else:\n",
    "                pass\n",
    "        #print()\n",
    "\n",
    "\n"
   ]
  },
  {
   "cell_type": "code",
   "execution_count": null,
   "id": "3f22e3ab-cb42-4498-a578-a26a7c053670",
   "metadata": {},
   "outputs": [],
   "source": []
  },
  {
   "cell_type": "code",
   "execution_count": 69,
   "id": "0982ea8b-3564-4cb4-9f80-f599d96c582e",
   "metadata": {},
   "outputs": [
    {
     "data": {
      "text/plain": [
       "['client_local_cost_func_comps_log',\n",
       " 'client_local_model_log',\n",
       " 'client_local_test_log',\n",
       " 'gradient_norm_lists_by_client',\n",
       " 'local_test_error_log',\n",
       " 'local_train_error_log']"
      ]
     },
     "execution_count": 69,
     "metadata": {},
     "output_type": "execute_result"
    }
   ],
   "source": [
    "a_group_key"
   ]
  },
  {
   "cell_type": "code",
   "execution_count": 70,
   "id": "a5696c03-7fd4-49db-b77c-2f2bd602850c",
   "metadata": {},
   "outputs": [
    {
     "data": {
      "text/plain": [
       "dict_keys(['S0_client_local_cost_func_comps_log_fold0', 'S10_client_local_cost_func_comps_log_fold0', 'S11_client_local_cost_func_comps_log_fold0', 'S12_client_local_cost_func_comps_log_fold0', 'S13_client_local_cost_func_comps_log_fold0', 'S1_client_local_cost_func_comps_log_fold0', 'S2_client_local_cost_func_comps_log_fold0', 'S3_client_local_cost_func_comps_log_fold0', 'S4_client_local_cost_func_comps_log_fold0', 'S5_client_local_cost_func_comps_log_fold0', 'S6_client_local_cost_func_comps_log_fold0', 'S7_client_local_cost_func_comps_log_fold0', 'S8_client_local_cost_func_comps_log_fold0', 'S9_client_local_cost_func_comps_log_fold0'])"
      ]
     },
     "execution_count": 70,
     "metadata": {},
     "output_type": "execute_result"
    }
   ],
   "source": [
    "extraction_dict.keys()"
   ]
  },
  {
   "cell_type": "code",
   "execution_count": 73,
   "id": "99a0f825-a544-4a7b-b883-2d70b9b6ed1f",
   "metadata": {},
   "outputs": [
    {
     "data": {
      "text/plain": [
       "0"
      ]
     },
     "execution_count": 73,
     "metadata": {},
     "output_type": "execute_result"
    }
   ],
   "source": [
    "cli_loc_cfc_idx = list(extraction_dict.keys()).index('S0_client_local_cost_func_comps_log_fold0')\n",
    "cli_loc_cfc_idx"
   ]
  },
  {
   "cell_type": "code",
   "execution_count": 74,
   "id": "2d97fd12-9948-4f07-a45f-07ed24fb62a5",
   "metadata": {},
   "outputs": [
    {
     "name": "stdout",
     "output_type": "stream",
     "text": [
      "S0_client_local_cost_func_comps_log_fold0\n"
     ]
    }
   ],
   "source": [
    "key0 = list(extraction_dict.keys())[cli_loc_cfc_idx]\n",
    "print(key0)\n",
    "\n",
    "val0 = extraction_dict[key0]\n",
    "\n",
    "\n",
    "\n",
    "# Performance\n",
    "#term1 = alphaE*(np.linalg.norm((D@F - Vplus))**2)\n",
    "# D Norm (Decoder Effort)\n",
    "#term2 = alphaD*(np.linalg.norm(D)**2)\n",
    "# F Norm (User Effort)\n",
    "#term3 = alphaF*(np.linalg.norm(F)**2)\n",
    "#if return_cost_func_comps:\n",
    "#    return (term1 + term2), term1, term2\n",
    "#test_loss, vel_error, dec_error = cost_l2(self.F_test, model, V_test, alphaE=self.alphaE, alphaD=self.alphaD, Ne=self.PCA_comps, return_cost_func_comps=return_cost_func_comps)\n",
    "#vel_error = vel_error * batch_samples\n",
    "#dec_error = dec_error * batch_samples\n",
    "#normalized_test_loss = test_loss / total_samples  # Normalize by the number of samples\n",
    "#if return_cost_func_comps:\n",
    "#    normalized_vel_error = vel_error / total_samples\n",
    "#    normalized_dec_error = dec_error / total_samples\n",
    "#cost_func_comps_log.append((normalized_test_loss, normalized_vel_error, normalized_dec_error))\n",
    "test_loss_log = [val[0] for val in val0]\n",
    "tracking_error_log = [val[1] for val in val0]\n",
    "dec_penalty_log = [val[2] for val in val0]\n"
   ]
  },
  {
   "cell_type": "code",
   "execution_count": 75,
   "id": "db21f9a1-8fb5-4154-bc3a-ce439c62a82f",
   "metadata": {},
   "outputs": [
    {
     "data": {
      "text/plain": [
       "[<matplotlib.lines.Line2D at 0x2ecbc088d60>]"
      ]
     },
     "execution_count": 75,
     "metadata": {},
     "output_type": "execute_result"
    },
    {
     "data": {
      "image/png": "[encoded data removed]",
      "text/plain": [
       "<Figure size 640x480 with 1 Axes>"
      ]
     },
     "metadata": {},
     "output_type": "display_data"
    }
   ],
   "source": [
    "plt.plot(test_loss_log)"
   ]
  },
  {
   "cell_type": "code",
   "execution_count": 76,
   "id": "5e5a3ea7-9329-4699-8fb7-65784cebfe72",
   "metadata": {},
   "outputs": [
    {
     "data": {
      "text/plain": [
       "[<matplotlib.lines.Line2D at 0x2ecbc0e86a0>]"
      ]
     },
     "execution_count": 76,
     "metadata": {},
     "output_type": "execute_result"
    },
    {
     "data": {
      "image/png": "[encoded data removed]",
      "text/plain": [
       "<Figure size 640x480 with 1 Axes>"
      ]
     },
     "metadata": {},
     "output_type": "display_data"
    }
   ],
   "source": [
    "plt.plot(tracking_error_log)"
   ]
  },
  {
   "cell_type": "code",
   "execution_count": 77,
   "id": "2b88c7af-283c-4a08-92bc-176ea5b0c0d2",
   "metadata": {},
   "outputs": [
    {
     "data": {
      "text/plain": [
       "[<matplotlib.lines.Line2D at 0x2ecbc13b3a0>]"
      ]
     },
     "execution_count": 77,
     "metadata": {},
     "output_type": "execute_result"
    },
    {
     "data": {
      "image/png": "[encoded data removed]",
      "text/plain": [
       "<Figure size 640x480 with 1 Axes>"
      ]
     },
     "metadata": {},
     "output_type": "display_data"
    }
   ],
   "source": [
    "plt.plot(dec_penalty_log)"
   ]
  },
  {
   "cell_type": "code",
   "execution_count": 78,
   "id": "b23e96bd-9f66-4544-a648-c03de0ecb785",
   "metadata": {},
   "outputs": [],
   "source": [
    "t1_plus_t2 = np.array(tracking_error_log)+np.array(dec_penalty_log)\n",
    "plt.plot(t1_plus_t2)"
   ]
  },
  {
   "cell_type": "code",
   "execution_count": 80,
   "id": "10bc6307-f527-46f3-911b-af443770b7e3",
   "metadata": {},
   "outputs": [
    {
     "data": {
      "text/plain": [
       "[<matplotlib.lines.Line2D at 0x2ecbd1ef6a0>]"
      ]
     },
     "execution_count": 80,
     "metadata": {},
     "output_type": "execute_result"
    },
    {
     "data": {
      "image/png": "[encoded data removed]",
      "text/plain": [
       "<Figure size 640x480 with 1 Axes>"
      ]
     },
     "metadata": {},
     "output_type": "display_data"
    }
   ],
   "source": [
    "SCALED_t1_plus_t2 = (1e-6*np.array(tracking_error_log) + 1e-4*np.array(dec_penalty_log))\n",
    "plt.plot(SCALED_t1_plus_t2)"
   ]
  },
  {
   "cell_type": "code",
   "execution_count": null,
   "id": "1cefcf0c-015f-463e-8780-721d0d438b34",
   "metadata": {},
   "outputs": [],
   "source": []
  },
  {
   "cell_type": "code",
   "execution_count": null,
   "id": "86e10629-bf82-46a8-a164-dea317b56a35",
   "metadata": {},
   "outputs": [],
   "source": []
  },
  {
   "cell_type": "code",
   "execution_count": null,
   "id": "e06a0f7f-b042-4e14-bd61-c21804d39cc0",
   "metadata": {},
   "outputs": [],
   "source": []
  },
  {
   "cell_type": "code",
   "execution_count": null,
   "id": "bdb2c592-7c29-4176-ae76-7aee84fb905d",
   "metadata": {},
   "outputs": [],
   "source": []
  },
  {
   "cell_type": "code",
   "execution_count": null,
   "id": "be358bac-05c5-4848-b68e-6719c4f91789",
   "metadata": {},
   "outputs": [],
   "source": []
  },
  {
   "cell_type": "code",
   "execution_count": null,
   "id": "83a17363-c09a-4249-82c4-8b361475bb50",
   "metadata": {},
   "outputs": [],
   "source": []
  },
  {
   "cell_type": "code",
   "execution_count": null,
   "id": "2ade4937-3538-4684-bb38-bd1cc4f2b5c3",
   "metadata": {},
   "outputs": [],
   "source": []
  },
  {
   "cell_type": "code",
   "execution_count": null,
   "id": "719087e7-b912-4067-8f21-211a901d23e5",
   "metadata": {},
   "outputs": [],
   "source": []
  },
  {
   "cell_type": "code",
   "execution_count": null,
   "id": "7c3f8047-f17e-4594-a0d1-ab59141fb38a",
   "metadata": {},
   "outputs": [],
   "source": []
  },
  {
   "cell_type": "code",
   "execution_count": null,
   "id": "afec7c5a-7d37-438a-9857-b5bea553737b",
   "metadata": {},
   "outputs": [],
   "source": []
  },
  {
   "cell_type": "code",
   "execution_count": null,
   "id": "03a83ad5-dc8c-4ea6-8130-c3f087a1e72d",
   "metadata": {},
   "outputs": [],
   "source": [
    "# So now that all that is extracted and saved to the dict, iterate through the dict and... average by client?\n",
    "client_logs = {f'S{i}_client_local_test_log': [] for i in range(num_clients)}  # S0 to S13\n",
    "global_test_log = []\n",
    "local_test_log = []\n",
    "for fold in range(num_folds):\n",
    "    for i in range(num_clients):\n",
    "        # Access client local test logs for each fold\n",
    "        client_key = f'S{i}_client_local_test_log_fold{fold}'\n",
    "        try:\n",
    "            client_data = np.array(extraction_dict[client_key])\n",
    "            #print(f\"{client_key}: {client_data.shape}\") --> It doesnt get to here if it fails!\n",
    "\n",
    "            if len(client_logs[f'S{i}_client_local_test_log']) == 0:\n",
    "                client_logs[f'S{i}_client_local_test_log'] = client_data\n",
    "            else:\n",
    "                client_logs[f'S{i}_client_local_test_log'] += client_data\n",
    "                \n",
    "            #print(f\"{client_key} SUCCESS!\")\n",
    "        except KeyError:\n",
    "            # It was a testing client and thus not saved, so just skip to the next iter\n",
    "            #print(f\"{client_key} FAILED!\")\n",
    "            pass\n",
    "\n",
    "    #print(filename)\n",
    "    if \"NOFL\" in filename:\n",
    "        pass\n",
    "    else: \n",
    "        # Access global and local test logs for each fold\n",
    "        global_key = f'global_test_error_log_fold{fold}'\n",
    "        #print(extraction_dict.keys())\n",
    "        global_data = extraction_dict[global_key][:]\n",
    "        if len(global_test_log) == 0:\n",
    "            global_test_log = np.array(global_data)\n",
    "        else:\n",
    "            global_test_log += np.array(global_data)\n",
    "    \n",
    "    local_key = f'local_test_error_log_fold{fold}'\n",
    "    local_data = extraction_dict[local_key][:]\n",
    "    if len(local_test_log) == 0:\n",
    "        local_test_log = np.array(local_data)\n",
    "    else:\n",
    "        local_test_log += np.array(local_data)\n",
    "\n",
    "# Average the client test logs and the global/local test errors\n",
    "## In the cross scenario, it should divide client_logs by 6, not 7, since each client is withheld once\n",
    "averaged_client_logs = {client: np.array(client_logs[client]) / num_folds for client in client_logs}\n",
    "if \"NOFL\" in filename:\n",
    "    averaged_global_test_log = None\n",
    "else:    \n",
    "    averaged_global_test_log = np.array(global_test_log) / num_folds\n",
    "averaged_local_test_log = np.array(local_test_log) / num_folds\n",
    "\n",
    "# Return the results\n",
    "#return averaged_client_logs, averaged_global_test_log, averaged_local_test_log"
   ]
  },
  {
   "cell_type": "code",
   "execution_count": null,
   "id": "8a95757c-eb87-46ae-add9-b136f368e388",
   "metadata": {},
   "outputs": [],
   "source": []
  },
  {
   "cell_type": "code",
   "execution_count": null,
   "id": "3aba8fc0-f1c3-4f21-9348-5f78d66329c5",
   "metadata": {},
   "outputs": [],
   "source": []
  },
  {
   "cell_type": "code",
   "execution_count": null,
   "id": "3f24b1d8-a759-4a2a-ba93-12e786e3f8e4",
   "metadata": {},
   "outputs": [],
   "source": []
  },
  {
   "cell_type": "code",
   "execution_count": null,
   "id": "a78a77ff-3870-4d0b-bda5-4f52050f6fbe",
   "metadata": {},
   "outputs": [],
   "source": []
  },
  {
   "cell_type": "code",
   "execution_count": null,
   "id": "6d00e0f3-747e-45b5-8cf6-c068c0245f82",
   "metadata": {},
   "outputs": [],
   "source": []
  },
  {
   "cell_type": "code",
   "execution_count": null,
   "id": "06451d65-0e1c-4c2c-84cd-e7eee2b84b16",
   "metadata": {},
   "outputs": [],
   "source": []
  },
  {
   "cell_type": "code",
   "execution_count": null,
   "id": "1f2f8324-64ed-4aee-ae72-6651e3b3d09f",
   "metadata": {},
   "outputs": [],
   "source": []
  },
  {
   "cell_type": "code",
   "execution_count": null,
   "id": "7b44fc91-0062-4d8a-808a-7384f5a0c6b8",
   "metadata": {},
   "outputs": [],
   "source": []
  },
  {
   "cell_type": "code",
   "execution_count": null,
   "id": "02dbc92b-ef5a-4868-a038-1f719e833c9a",
   "metadata": {},
   "outputs": [],
   "source": []
  },
  {
   "cell_type": "code",
   "execution_count": null,
   "id": "ce60ec6c-c02e-4a8f-96b1-d29523cc1221",
   "metadata": {},
   "outputs": [],
   "source": []
  },
  {
   "cell_type": "code",
   "execution_count": null,
   "id": "d3925cc8-0948-4152-b87a-9f0d2c5be7ee",
   "metadata": {},
   "outputs": [],
   "source": []
  },
  {
   "cell_type": "code",
   "execution_count": null,
   "id": "5eeca730-89b0-4163-bde6-a458528638fe",
   "metadata": {},
   "outputs": [],
   "source": []
  },
  {
   "cell_type": "code",
   "execution_count": null,
   "id": "804fea18-6afe-43b5-95cb-3b4553ebcaaa",
   "metadata": {},
   "outputs": [],
   "source": []
  },
  {
   "cell_type": "code",
   "execution_count": null,
   "id": "fba62081-ea15-4214-828d-29a2c1527154",
   "metadata": {},
   "outputs": [],
   "source": []
  },
  {
   "cell_type": "code",
   "execution_count": null,
   "id": "25a6dde6-b9aa-488b-8c12-f119d6426c1e",
   "metadata": {},
   "outputs": [],
   "source": []
  },
  {
   "cell_type": "code",
   "execution_count": null,
   "id": "ec406116-8288-4de0-816c-7d29aab95a0f",
   "metadata": {},
   "outputs": [],
   "source": []
  },
  {
   "cell_type": "code",
   "execution_count": 30,
   "id": "cc3044fc-6f2b-4a1b-b050-d45f0ae99cef",
   "metadata": {},
   "outputs": [
    {
     "name": "stdout",
     "output_type": "stream",
     "text": [
      "<KeysViewHDF5 ['client_global_cost_func_comps_log', 'client_local_cost_func_comps_log', 'client_local_model_log', 'client_local_test_log', 'global_dec_log', 'global_test_error_log', 'global_train_error_log', 'gradient_norm_lists_by_client', 'local_test_error_log', 'local_train_error_log']>\n",
      "key {key}; client keys:\n",
      "['S0_client_global_cost_func_comps_log', 'S10_client_global_cost_func_comps_log', 'S11_client_global_cost_func_comps_log', 'S12_client_global_cost_func_comps_log', 'S13_client_global_cost_func_comps_log', 'S1_client_global_cost_func_comps_log', 'S2_client_global_cost_func_comps_log', 'S3_client_global_cost_func_comps_log', 'S4_client_global_cost_func_comps_log', 'S5_client_global_cost_func_comps_log', 'S6_client_global_cost_func_comps_log', 'S7_client_global_cost_func_comps_log', 'S8_client_global_cost_func_comps_log', 'S9_client_global_cost_func_comps_log']\n",
      "S0_client_global_cost_func_comps_log_fold0 SUCCESS!\n",
      "S10_client_global_cost_func_comps_log_fold0 SUCCESS!\n",
      "S11_client_global_cost_func_comps_log_fold0 SUCCESS!\n",
      "S12_client_global_cost_func_comps_log_fold0 SUCCESS!\n",
      "S13_client_global_cost_func_comps_log_fold0 SUCCESS!\n",
      "S1_client_global_cost_func_comps_log_fold0 SUCCESS!\n",
      "S2_client_global_cost_func_comps_log_fold0 SUCCESS!\n",
      "S3_client_global_cost_func_comps_log_fold0 SUCCESS!\n",
      "S4_client_global_cost_func_comps_log_fold0 SUCCESS!\n",
      "S5_client_global_cost_func_comps_log_fold0 SUCCESS!\n",
      "S6_client_global_cost_func_comps_log_fold0 SUCCESS!\n",
      "S7_client_global_cost_func_comps_log_fold0 SUCCESS!\n",
      "S8_client_global_cost_func_comps_log_fold0 SUCCESS!\n",
      "S9_client_global_cost_func_comps_log_fold0 SUCCESS!\n",
      "key client_local_cost_func_comps_log NOT ADDED\n",
      "key client_local_model_log NOT ADDED\n",
      "key client_local_test_log NOT ADDED\n",
      "key global_dec_log NOT ADDED\n",
      "global_test_error_log_fold0\n",
      "key global_train_error_log NOT ADDED\n",
      "key gradient_norm_lists_by_client NOT ADDED\n",
      "local_test_error_log_fold0\n",
      "key local_train_error_log NOT ADDED\n"
     ]
    },
    {
     "ename": "NameError",
     "evalue": "name 'client_logs' is not defined",
     "output_type": "error",
     "traceback": [
      "\u001b[1;31m---------------------------------------------------------------------------\u001b[0m",
      "\u001b[1;31mNameError\u001b[0m                                 Traceback (most recent call last)",
      "Cell \u001b[1;32mIn[30], line 58\u001b[0m\n\u001b[0;32m     54\u001b[0m                 \u001b[38;5;28;01mpass\u001b[39;00m\n\u001b[0;32m     56\u001b[0m \u001b[38;5;66;03m# Average the client test logs and the global/local test errors\u001b[39;00m\n\u001b[0;32m     57\u001b[0m \u001b[38;5;66;03m## In the cross scenario, it should divide client_logs by 6, not 7, since each client is withheld once\u001b[39;00m\n\u001b[1;32m---> 58\u001b[0m averaged_client_logs \u001b[38;5;241m=\u001b[39m {client: np\u001b[38;5;241m.\u001b[39marray(client_logs[client]) \u001b[38;5;241m/\u001b[39m num_folds \u001b[38;5;28;01mfor\u001b[39;00m client \u001b[38;5;129;01min\u001b[39;00m \u001b[43mclient_logs\u001b[49m}\n\u001b[0;32m     59\u001b[0m \u001b[38;5;28;01mif\u001b[39;00m \u001b[38;5;124m\"\u001b[39m\u001b[38;5;124mNOFL\u001b[39m\u001b[38;5;124m\"\u001b[39m \u001b[38;5;129;01min\u001b[39;00m filename:\n\u001b[0;32m     60\u001b[0m     averaged_global_test_log \u001b[38;5;241m=\u001b[39m \u001b[38;5;28;01mNone\u001b[39;00m\n",
      "\u001b[1;31mNameError\u001b[0m: name 'client_logs' is not defined"
     ]
    }
   ],
   "source": [
    "import os\n",
    "\n",
    "#def load_final_model_performances(cv_results_path, filename, type=None, num_clients=14, num_folds=7, verbose=False):\n",
    "#def load_final_model_performances(\n",
    "cv_results_path = r'C:\\Users\\kdmen\\Desktop\\Research\\personalization-privacy-risk\\PythonVersion\\PythonSimsRevamp\\results\\FinalSimRes\\10-05_14-13_PFAFO_Intra5'\n",
    "filename = 'GDLS_PFAFO_KFold'\n",
    "type=None\n",
    "num_clients=14\n",
    "num_folds= 1 #7\n",
    "verbose=False\n",
    "\n",
    "extraction_dict = dict()\n",
    "for i in range(num_folds):\n",
    "    h5_path = os.path.join(cv_results_path, filename+f\"{i}.h5\")\n",
    "    #print(h5_path)\n",
    "    \n",
    "    # Load data from HDF5 file\n",
    "    with h5py.File(h5_path, 'r') as f:\n",
    "        print(f.keys())\n",
    "        a_group_key = list(f.keys())\n",
    "        for key in a_group_key:\n",
    "            #print(key)\n",
    "    \n",
    "            if key==\"client_global_cost_func_comps_log\": #client_local_cost_func_comps_log\n",
    "                client_keys = list(f[key])\n",
    "                print(\"key {key}; client keys:\")\n",
    "                print(client_keys)\n",
    "                for ck in client_keys:\n",
    "                    ed_key = f\"{ck}_fold{i}\"  # Does this never update from or something...\n",
    "                    #print(f\"Key: {key}, Client: {ck}, Fold: {i}\")\n",
    "\n",
    "                    # So this doenst have any knoledge of the fold number???\n",
    "                    if len(list(f[key][ck]))==0:\n",
    "                        val = list(f[key][ck])\n",
    "                        print(f\"{ed_key} SKIPPED!\")\n",
    "                        pass\n",
    "                    else:\n",
    "                        print(f\"{ed_key} SUCCESS!\")\n",
    "                        extraction_dict[ed_key] = list(f[key][ck])\n",
    "            elif key==\"global_test_error_log\" and \"NOFL\" not in filename:\n",
    "                # Do I need to turn this off for NoFL? Or will it just be empty and append something empty...\n",
    "                ed_key = f\"{key}_fold{i}\"\n",
    "                print(ed_key)\n",
    "                extraction_dict[ed_key] = list(f[key])\n",
    "            elif key==\"local_test_error_log\":\n",
    "                # Genuinely have no idea what this is... is it client_local_test_log but already averaged out?? No clue\n",
    "                ed_key = f\"{key}_fold{i}\"\n",
    "                print(ed_key)\n",
    "                extraction_dict[ed_key] = list(f[key])\n",
    "            else:\n",
    "                print(f\"key {key} NOT ADDED\")\n",
    "                pass\n",
    "\n",
    "# Average the client test logs and the global/local test errors\n",
    "## In the cross scenario, it should divide client_logs by 6, not 7, since each client is withheld once\n",
    "averaged_client_logs = {client: np.array(client_logs[client]) / num_folds for client in client_logs}\n",
    "if \"NOFL\" in filename:\n",
    "    averaged_global_test_log = None\n",
    "else:    \n",
    "    averaged_global_test_log = np.array(global_test_log) / num_folds\n",
    "averaged_local_test_log = np.array(local_test_log) / num_folds\n",
    "\n",
    "# Return the results\n",
    "#return averaged_client_logs, averaged_global_test_log, averaged_local_test_log\n"
   ]
  },
  {
   "cell_type": "code",
   "execution_count": null,
   "id": "cd54be58-8b02-409a-bfc4-3e031feb243a",
   "metadata": {},
   "outputs": [],
   "source": [
    "# Now write some extraction code\n",
    "#normalized_test_loss, normalized_vel_error, normalized_dec_error\n",
    "\n",
    "# Extract the 2nd (eg index 1) ele from each tuple of the list"
   ]
  },
  {
   "cell_type": "code",
   "execution_count": 17,
   "id": "cb98b5e2-ff30-4fb3-b254-61030773ac88",
   "metadata": {},
   "outputs": [
    {
     "data": {
      "text/plain": [
       "dict_keys(['S10_client_global_cost_func_comps_log_fold0', 'S11_client_global_cost_func_comps_log_fold0', 'S12_client_global_cost_func_comps_log_fold0', 'S13_client_global_cost_func_comps_log_fold0', 'S2_client_global_cost_func_comps_log_fold0', 'S3_client_global_cost_func_comps_log_fold0', 'S4_client_global_cost_func_comps_log_fold0', 'S5_client_global_cost_func_comps_log_fold0', 'S6_client_global_cost_func_comps_log_fold0', 'S7_client_global_cost_func_comps_log_fold0', 'S8_client_global_cost_func_comps_log_fold0', 'S9_client_global_cost_func_comps_log_fold0', 'global_test_error_log_fold0', 'local_test_error_log_fold0'])"
      ]
     },
     "execution_count": 17,
     "metadata": {},
     "output_type": "execute_result"
    }
   ],
   "source": [
    "extraction_dict.keys()"
   ]
  },
  {
   "cell_type": "code",
   "execution_count": 18,
   "id": "da1de9f7-0f3d-450d-a0ca-f8027c0b67be",
   "metadata": {},
   "outputs": [],
   "source": [
    "client_perf_error_dict = {}\n",
    "for key in list(extraction_dict.keys()):\n",
    "    # Wrap this in for fold in range(num_folds):\n",
    "    if 'global_cost_func_comps_log' in key:\n",
    "        list_of_tuples = extraction_dict[key]\n",
    "        if len(list_of_tuples)!=0:\n",
    "            perf_error_lst = [ele[1] for ele in list_of_tuples]\n",
    "            client_perf_error_dict[key] = perf_error_lst\n",
    "        else:\n",
    "            # Else it was a testing client\n",
    "            pass\n",
    "\n",
    "\n",
    "\n",
    "    "
   ]
  },
  {
   "cell_type": "code",
   "execution_count": 21,
   "id": "094c489b-5bf4-44c3-b923-1595065de919",
   "metadata": {},
   "outputs": [
    {
     "name": "stdout",
     "output_type": "stream",
     "text": [
      "S10_client_global_cost_func_comps_log_fold0\n",
      "0.2984378080670399\n",
      "0.0017210877290154002\n",
      "\n",
      "S11_client_global_cost_func_comps_log_fold0\n",
      "0.2984378080670399\n",
      "0.0017210877290154002\n",
      "\n",
      "S12_client_global_cost_func_comps_log_fold0\n",
      "0.2984378080670399\n",
      "0.0017210877290154002\n",
      "\n",
      "S13_client_global_cost_func_comps_log_fold0\n",
      "0.2984378080670399\n",
      "0.0017210877290154002\n",
      "\n",
      "S2_client_global_cost_func_comps_log_fold0\n",
      "0.2984378080670399\n",
      "0.0017210877290154002\n",
      "\n",
      "S3_client_global_cost_func_comps_log_fold0\n",
      "0.2984378080670399\n",
      "0.0017210877290154002\n",
      "\n",
      "S4_client_global_cost_func_comps_log_fold0\n",
      "0.2984378080670399\n",
      "0.0017210877290154002\n",
      "\n",
      "S5_client_global_cost_func_comps_log_fold0\n",
      "0.2984378080670399\n",
      "0.0017210877290154002\n",
      "\n",
      "S6_client_global_cost_func_comps_log_fold0\n",
      "0.2984378080670399\n",
      "0.0017210877290154002\n",
      "\n",
      "S7_client_global_cost_func_comps_log_fold0\n",
      "0.2984378080670399\n",
      "0.0017210877290154002\n",
      "\n",
      "S8_client_global_cost_func_comps_log_fold0\n",
      "0.2984378080670399\n",
      "0.0017210877290154002\n",
      "\n",
      "S9_client_global_cost_func_comps_log_fold0\n",
      "0.2984378080670399\n",
      "0.0017210877290154002\n",
      "\n"
     ]
    }
   ],
   "source": [
    "for key in list(client_perf_error_dict.keys()):\n",
    "    print(key)\n",
    "    print(np.mean(client_perf_error_dict[key][:10]))\n",
    "    print(np.mean(client_perf_error_dict[key][-10:]))\n",
    "    print()\n",
    "\n",
    "    # I need to like average this by client"
   ]
  },
  {
   "cell_type": "code",
   "execution_count": null,
   "id": "74a8a799-53c1-46fa-8914-e90683113155",
   "metadata": {},
   "outputs": [],
   "source": []
  },
  {
   "cell_type": "code",
   "execution_count": null,
   "id": "b77f4fcf-fc35-47b3-aba0-e5cc86d273e1",
   "metadata": {},
   "outputs": [],
   "source": []
  },
  {
   "cell_type": "code",
   "execution_count": null,
   "id": "e746a1c4-1663-41a6-ba3f-2b729ac4e671",
   "metadata": {},
   "outputs": [],
   "source": []
  },
  {
   "cell_type": "code",
   "execution_count": null,
   "id": "f0a7141f-b464-40e8-a750-f18cad1ecd2b",
   "metadata": {},
   "outputs": [],
   "source": []
  },
  {
   "cell_type": "code",
   "execution_count": null,
   "id": "3a98cab4-4692-4669-a7a8-4f3cc48f5a95",
   "metadata": {},
   "outputs": [],
   "source": []
  },
  {
   "cell_type": "code",
   "execution_count": null,
   "id": "077d099e-0d14-40ee-b410-192d54712cd4",
   "metadata": {},
   "outputs": [],
   "source": [
    "# Set seaborn style for better aesthetics\n",
    "sns.set(style=\"whitegrid\")\n",
    "\n",
    "# Set up the figure and two subplots (without shared x-axis)\n",
    "fig, (ax1, ax2) = plt.subplots(2, 1, figsize=(5, 6))\n",
    "\n",
    "# Define x-tick labels\n",
    "x_labels_intra = ['Local', 'FedAvg', 'PerFedAvg']\n",
    "x_labels_cross = ['Local', 'FedAvg', 'PerFedAvg']\n",
    "\n",
    "# Positions for the local and global data points\n",
    "positions_intra = np.arange(len(x_labels_intra))\n",
    "positions_cross = np.arange(len(x_labels_cross))\n",
    "\n",
    "# BOX PLOTS\n",
    "box_width = 0.4  # Reduce the box plot width\n",
    "# Intra-subject (first subplot)\n",
    "all_trials_intra = all_trials_lst[:3]\n",
    "boxplot_elements1 = ax1.boxplot(all_trials_intra, positions=positions_intra, widths=box_width, patch_artist=True, zorder=0)\n",
    "# Cross-subject (second subplot)\n",
    "all_trials_cross = all_trials_lst[3:]\n",
    "boxplot_elements2 = ax2.boxplot(all_trials_cross, positions=positions_cross, widths=box_width, patch_artist=True, zorder=0)\n",
    "\n",
    "# Colors and adjustments\n",
    "light_blue = 'lightblue'\n",
    "dark_blue = 'darkblue'\n",
    "light_grey = 'lightgrey'\n",
    "dark_grey = 'dimgrey'\n",
    "offset = 0.3\n",
    "global_model_marker = 's'  # square marker for global model\n",
    "\n",
    "# Customize boxplot colors (set somewhat transparent boxes)\n",
    "for box in boxplot_elements1['boxes'] + boxplot_elements2['boxes']:\n",
    "    box.set_facecolor(light_blue)\n",
    "    box.set_edgecolor(dark_blue)\n",
    "    box.set_alpha(0.3)  # Adjust transparency to see scatter points more clearly\n",
    "\n",
    "# Set median color to a darker shade of blue\n",
    "for median in boxplot_elements1['medians'] + boxplot_elements2['medians']:\n",
    "    median.set_color(dark_blue)\n",
    "\n",
    "# Scatter plots for local points (full opacity, no alpha)\n",
    "for i in range(len(all_trials_lst)):\n",
    "    if i < 3:  # Intra-subject case (first subplot)\n",
    "        ax1.scatter([i] * len(all_trials_lst[i]), all_trials_lst[i], color=dark_blue, zorder=1, label='Local model performance')\n",
    "    else:  # Cross-subject case (second subplot)\n",
    "        ax2.scatter([i - 3] * len(all_trials_lst[i]), all_trials_lst[i], color=dark_blue, zorder=1, label='Local model performance')\n",
    "\n",
    "# Scatter plots for global model points (light grey, offset on x-axis, full opacity)\n",
    "global_model_data = [ifa_final_global_loss, ipfa_final_global_loss, cfa_final_global_loss, cpfa_final_global_loss]\n",
    "\n",
    "for i, global_loss in enumerate(global_model_data[:2]):\n",
    "    ax1.scatter([i+1 + offset], global_loss, color=dark_grey, zorder=2, marker=global_model_marker, label='Global model performance')\n",
    "\n",
    "for i, global_loss in enumerate(global_model_data[2:], start=3):\n",
    "    ax2.scatter([i+1 - 3 + offset], global_loss, color=dark_grey, zorder=2, marker=global_model_marker, label='Global model performance')\n",
    "\n",
    "# Set consistent font sizes for both plots\n",
    "for ax in [ax1, ax2]:\n",
    "    ax.set_ylabel(\"Test Loss\", fontsize=14, weight='bold')\n",
    "    ax.spines['top'].set_visible(False)\n",
    "    ax.spines['right'].set_visible(False)\n",
    "\n",
    "# Set x-tick labels individually for each plot\n",
    "ax1.set_xticks(positions_intra)\n",
    "ax1.set_xticklabels(x_labels_intra, fontsize=12)\n",
    "\n",
    "ax2.set_xticks(positions_cross)\n",
    "ax2.set_xticklabels(x_labels_cross, fontsize=12)\n",
    "ax2.ticklabel_format(style='scientific', axis='y', scilimits=(0, 0))\n",
    "\n",
    "# After plotting points and boxplots in ax1 and ax2\n",
    "handles_ax1, labels_ax1 = ax1.get_legend_handles_labels()\n",
    "unique_ax1 = dict(zip(labels_ax1, handles_ax1))  # Removes duplicates\n",
    "#\n",
    "handles_ax2, labels_ax2 = ax2.get_legend_handles_labels()\n",
    "unique_ax2 = dict(zip(labels_ax2, handles_ax2))  # Removes duplicates\n",
    "#\n",
    "# Set legends with unique labels for both subplots\n",
    "ax1.legend(unique_ax1.values(), unique_ax1.keys(), loc='upper right', fontsize=10)\n",
    "ax2.legend(unique_ax2.values(), unique_ax2.keys(), loc='upper right', fontsize=10)\n",
    "\n",
    "ax1.grid(False)\n",
    "ax2.grid(False)\n",
    "\n",
    "plt.tight_layout()\n",
    "\n",
    "# Save and show the figure\n",
    "plt.savefig('SimsResults_OffsetGlobal.jpg', dpi=500)\n",
    "plt.show()\n"
   ]
  },
  {
   "cell_type": "code",
   "execution_count": null,
   "id": "7fcb27ed-581d-4941-936b-29d452734bc4",
   "metadata": {},
   "outputs": [],
   "source": []
  },
  {
   "cell_type": "code",
   "execution_count": null,
   "id": "40720e84-b32f-4f38-bf1b-bd546440e36f",
   "metadata": {},
   "outputs": [],
   "source": []
  },
  {
   "cell_type": "code",
   "execution_count": null,
   "id": "44769fd2-972d-4a28-9fd5-b5572fd655c6",
   "metadata": {},
   "outputs": [],
   "source": []
  },
  {
   "cell_type": "code",
   "execution_count": null,
   "id": "e62d19c4-65bb-4a2f-9188-7f48b1140263",
   "metadata": {},
   "outputs": [],
   "source": []
  },
  {
   "cell_type": "code",
   "execution_count": null,
   "id": "f3ac4059-9784-494c-bd6d-2f122af7eebb",
   "metadata": {},
   "outputs": [],
   "source": []
  },
  {
   "cell_type": "code",
   "execution_count": null,
   "id": "1677842e-f6bd-4fbf-8bae-ff4034ce6b80",
   "metadata": {},
   "outputs": [],
   "source": []
  },
  {
   "cell_type": "code",
   "execution_count": null,
   "id": "9139b9f3-72fb-42d6-9d6f-c7727189c234",
   "metadata": {},
   "outputs": [],
   "source": []
  },
  {
   "cell_type": "code",
   "execution_count": null,
   "id": "cc2abe2f-413a-49b8-b105-c39dbb609f0c",
   "metadata": {},
   "outputs": [],
   "source": []
  },
  {
   "cell_type": "code",
   "execution_count": null,
   "id": "479e75d5-c70e-493a-8481-85e6919ab467",
   "metadata": {},
   "outputs": [],
   "source": []
  }
 ],
 "metadata": {
  "kernelspec": {
   "display_name": "Python 3 (ipykernel)",
   "language": "python",
   "name": "python3"
  },
  "language_info": {
   "codemirror_mode": {
    "name": "ipython",
    "version": 3
   },
   "file_extension": ".py",
   "mimetype": "text/x-python",
   "name": "python",
   "nbconvert_exporter": "python",
   "pygments_lexer": "ipython3",
   "version": "3.10.12"
  }
 },
 "nbformat": 4,
 "nbformat_minor": 5
}
