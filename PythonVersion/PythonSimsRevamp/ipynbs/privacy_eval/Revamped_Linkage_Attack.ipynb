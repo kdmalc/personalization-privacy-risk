{
 "cells": [
  {
   "cell_type": "markdown",
   "id": "d17f193d",
   "metadata": {},
   "source": [
    "> __Purpose:__ This NB takes forever to run. The functionality of this ended up being to create and plot the results, and then I saved the results so that I could use them in a fresh new NB without all this code and crazy run times."
   ]
  },
  {
   "cell_type": "code",
   "execution_count": 26,
   "id": "a61b3128",
   "metadata": {},
   "outputs": [],
   "source": [
    "import numpy as np\n",
    "import matplotlib.pyplot as plt\n",
    "import time\n",
    "import pandas as pd\n",
    "import pickle\n",
    "import random\n",
    "import os\n",
    "import h5py\n",
    "import copy\n",
    "import statistics\n",
    "\n",
    "import seaborn as sns\n",
    "\n",
    "# Machine learning\n",
    "from sklearn.model_selection import train_test_split\n",
    "from sklearn import model_selection, tree, preprocessing, metrics, linear_model\n",
    "\n",
    "from sklearn.svm import LinearSVC\n",
    "from sklearn.ensemble import GradientBoostingClassifier\n",
    "from sklearn.neighbors import KNeighborsClassifier\n",
    "#from sklearn.naive_bayes import GaussianNB\n",
    "#from sklearn.linear_model import LogisticRegression, SGDClassifier\n",
    "from sklearn.tree import DecisionTreeClassifier\n",
    "\n",
    "import re\n",
    "from sklearn.model_selection import StratifiedKFold, cross_val_score, KFold\n",
    "from sklearn.metrics import accuracy_score\n",
    "\n",
    "#import warnings\n",
    "#warnings.filterwarnings(\"ignore\")\n",
    "\n",
    "random.seed(a=1)"
   ]
  },
  {
   "cell_type": "code",
   "execution_count": 2,
   "id": "8f2109c5",
   "metadata": {},
   "outputs": [],
   "source": [
    "final_update = 16"
   ]
  },
  {
   "cell_type": "markdown",
   "id": "d6d2b58b",
   "metadata": {},
   "source": [
    "## Load Data"
   ]
  },
  {
   "cell_type": "code",
   "execution_count": 3,
   "id": "fbd4ad29-e853-472c-a0b2-6a661ffc2178",
   "metadata": {},
   "outputs": [],
   "source": [
    "def load_final_model_performances(cv_results_path, filename, num_clients=14, num_folds=7, verbose=False):\n",
    "    extraction_dict = dict()\n",
    "    for i in range(num_folds):\n",
    "        h5_path = os.path.join(cv_results_path, filename+f\"{i}.h5\")\n",
    "        #print(h5_path)\n",
    "        \n",
    "        # Load data from HDF5 file\n",
    "        with h5py.File(h5_path, 'r') as f:\n",
    "            a_group_key = list(f.keys())\n",
    "            #if i==0:\n",
    "            #    print(a_group_key)\n",
    "            for key in a_group_key:\n",
    "                #print(key)\n",
    "        \n",
    "                if key==\"client_local_model_log\":\n",
    "                    client_keys = list(f[key])\n",
    "                    #print(client_keys)\n",
    "                    for ck in client_keys:\n",
    "                        ed_key = f\"{ck}_fold{i}\"  # Does this never update from or something...\n",
    "                        #print(f\"Key: {key}, Client: {ck}, Fold: {i}\")\n",
    "    \n",
    "                        # So this doenst have any knoledge of the fold number???\n",
    "                        if len(list(f[key][ck]))==0:\n",
    "                            #print(f\"{ed_key} SKIPPED!\")\n",
    "                            pass\n",
    "                        else:\n",
    "                            #print(f\"{ed_key} SUCCESS!\")\n",
    "                            extraction_dict[ed_key] = list(f[key][ck])\n",
    "                elif key==\"global_model_log\" and \"NOFL\" not in filename:\n",
    "                    # Do I need to turn this off for NoFL? Or will it just be empty and append something empty...\n",
    "                    ed_key = f\"{key}_fold{i}\"\n",
    "                    #print(ed_key)\n",
    "                    extraction_dict[ed_key] = list(f[key])\n",
    "                else:\n",
    "                    pass\n",
    "\n",
    "    return extraction_dict\n"
   ]
  },
  {
   "cell_type": "code",
   "execution_count": 4,
   "id": "59f33a4f-ccfb-42df-a59f-8dbd6b20cef9",
   "metadata": {},
   "outputs": [],
   "source": [
    "NUM_PLOTTED_CONDITIONS = 6\n",
    "NUM_PLOTTED_CONDITIONS_WITH_GLOBAL = 10\n",
    "NUM_CLIENTS = 14\n",
    "NUM_FOLDS = 5\n",
    "\n",
    "results_path = r'C:\\Users\\kdmen\\Desktop\\Research\\personalization-privacy-risk\\PythonVersion\\PythonSimsRevamp\\results'\n",
    "current_directory = r'\\FinalSims'\n",
    "base_path = results_path + current_directory\n",
    "\n",
    "# CROSS\n",
    "cpfa_model_dict = load_final_model_performances(base_path+r'\\09-19_23-07_PFAFO_GDLS', 'GDLS_PFAFO_GDLS_KFold')\n",
    "cfa_model_dict = load_final_model_performances(base_path+r'\\09-19_23-25_FEDAVG', 'GDLS_FEDAVG_KFold')\n",
    "cnofl_model_dict = load_final_model_performances(base_path+r'\\09-19_23-30_NOFL', 'FULLSCIPYMIN_NOFL_KFold')\n",
    "# INTRA\n",
    "ipfa_model_dict = load_final_model_performances(base_path+r'\\09-19_23-05_PFAFO_GDLS', 'GDLS_PFAFO_GDLS_KFold')\n",
    "ifa_model_dict = load_final_model_performances(base_path+r'\\09-19_23-04_FEDAVG', 'GDLS_FEDAVG_KFold')\n",
    "inofl_model_dict = load_final_model_performances(base_path+r'\\09-19_22-56_NOFL', 'FULLSCIPYMIN_NOFL_KFold')\n"
   ]
  },
  {
   "cell_type": "markdown",
   "id": "a850bb15",
   "metadata": {},
   "source": [
    "# Adversarial Modeling"
   ]
  },
  {
   "cell_type": "code",
   "execution_count": 7,
   "id": "9d9d6712-6436-4246-a1d7-1cb744d22c30",
   "metadata": {},
   "outputs": [],
   "source": [
    "# LinearSVC() --> Was failling to converge..."
   ]
  },
  {
   "cell_type": "code",
   "execution_count": 121,
   "id": "93c51767-ff92-447d-ae7f-00fabe75c9c8",
   "metadata": {},
   "outputs": [],
   "source": [
    "def execute_linkage_attack(extractration_dict, num_kfolds=7, stratification=False, i_modulus=3, i_lt_or_eq='eq', \n",
    "                           my_metrics_columns=['Algorithm', 'Update Number', 'CV Acc', 'Test Acc'], \n",
    "                           my_models_list=[KNeighborsClassifier(), DecisionTreeClassifier(), GradientBoostingClassifier()], \n",
    "                           make_df=True, full_test_df=pd.DataFrame(), min_n_samples=10):\n",
    "\n",
    "    keys = extractration_dict.keys()\n",
    "    num_updates_lst = []\n",
    "    for key in keys:\n",
    "        num_updates_lst.append(len(extractration_dict[key]))\n",
    "        # ORIGINAL CODE:\n",
    "        #num_updates_lst.append(len(extractration_dict[list(extractration_dict.keys())[0]]))\n",
    "    mode_update = statistics.mode(num_updates_lst)\n",
    "    max_update = max(num_updates_lst)\n",
    "    if max_update == mode_update:  # Eg this is a poor man's proxy for if this is the NOFL case\n",
    "        num_updates = mode_update\n",
    "    else:\n",
    "        num_updates = min(max_update, int(statistics.mean(num_updates_lst) + statistics.stdev(num_updates_lst)))  # int() rounds down\n",
    "    print(f\"{num_updates} unique models\")\n",
    "    \n",
    "    # Initialize a list of empty DataFrames for each user group\n",
    "    dec_flattened_list = [pd.DataFrame(columns=['Subject', 'Fold', 'Update Number', 'Flattened Dec']) for _ in range(num_updates)]\n",
    "    \n",
    "    # Regular expression pattern to extract subject and fold\n",
    "    #pattern = r\"S(\\d+)_client_local_model_log_fold(\\d+)\"\n",
    "    pattern = r\"(S\\d+)_client_local_model_log_fold(\\d+)\"\n",
    "    \n",
    "    # Loop through keys and updates to populate the DataFrames\n",
    "    for key_idx, key in enumerate(keys):\n",
    "        key_len = len(extractration_dict[key])\n",
    "        match = re.search(pattern, key)  # Extract the subject and fold using regex\n",
    "        if match:\n",
    "            #subject = int(match.group(1))  # e.g., '0', '1', '10'\n",
    "            subject = match.group(1)  # e.g., 'S0', 'S1', 'S10'\n",
    "            fold = int(match.group(2))  # e.g., '0', '1', '2'\n",
    "            for update_number in range(num_updates): \n",
    "                if update_number >= key_len:\n",
    "                    continue\n",
    "                else:\n",
    "                    user_data = np.ravel(extractration_dict[key][update_number])\n",
    "                    dec_flattened_list[update_number].loc[len(dec_flattened_list[update_number])] = [subject, fold, update_number, user_data]\n",
    "    \n",
    "    # Concat all the dfs into a single training input dataframe\n",
    "    dec_flattened = pd.concat(dec_flattened_list, ignore_index=True, axis=0)\n",
    "    flattened_input_df = dec_flattened.join(dec_flattened['Flattened Dec'].apply(pd.Series)).drop('Flattened Dec', axis=1)\n",
    "    #print(expanded_dec_df.shape)\n",
    "    #expanded_dec_df.head()\n",
    "    \n",
    "    full_test_res_df = pd.DataFrame(columns=my_metrics_columns)\n",
    "    \n",
    "    # Adjust stop index to prevent overflow\n",
    "    n_start_stop=(0, num_updates)\n",
    "    n_stop = n_start_stop[1] - 1\n",
    "    print(f\"num_updates {num_updates}; n_start_stop {n_start_stop}; new n_stop {n_stop}\")\n",
    "    \n",
    "    for i in range(n_start_stop[0], n_stop + 1):\n",
    "        #print(f\"Round i={i} of stop={n_start_stop[1]}\")\n",
    "    \n",
    "        if make_df:\n",
    "            #print(\"Making custom test set, NOT USING PASSED IN full_test_df\")\n",
    "    \n",
    "            if i%i_modulus==0:\n",
    "                print(f\"Round i={i} of stop={n_start_stop[1]}\")\n",
    "                \n",
    "                # Filter the dataframe to use data from updates <= i\n",
    "                # TODO: DECIDE ON USING <, <=, OR BOTH!\n",
    "                if i_lt_or_eq == 'lt':\n",
    "                    train_df = flattened_input_df[flattened_input_df['Update Number'] <= i]\n",
    "                elif i_lt_or_eq == 'eq':\n",
    "                    train_df = flattened_input_df[flattened_input_df['Update Number'] == i]\n",
    "                test_df = flattened_input_df[flattened_input_df['Update Number'] == n_stop]  # Hold out the last update for testing\n",
    "            else:\n",
    "                # SKIP THE ENTIRE LOOP\n",
    "                #print(f\"{i} skipped for speed!\")\n",
    "                continue\n",
    "        else:\n",
    "            raise ValueError('Need to set train_df somehow...: for now, only use make_df=True')\n",
    "            test_df = full_test_df  \n",
    "    \n",
    "        X_train = train_df.drop(columns=['Subject', 'Fold', 'Update Number'])\n",
    "        y_train = train_df['Subject']\n",
    "        \n",
    "        X_test = test_df.drop(columns=['Subject', 'Fold', 'Update Number'])\n",
    "        y_test = test_df['Subject']\n",
    "    \n",
    "        # Explicitly use the 'Fold' column for cross-validation\n",
    "        for model in my_models_list:\n",
    "            cv_scores = []\n",
    "            for fold_num in range(num_kfolds):\n",
    "                #print(f\"Fold {fold_num}\")\n",
    "                train_fold = train_df[train_df['Fold'] != fold_num]\n",
    "                val_fold = train_df[train_df['Fold'] == fold_num]\n",
    "    \n",
    "                if train_fold.shape[0] < min_n_samples:\n",
    "                    # if model is KNN and num_train_samples < model.n_neighbors\n",
    "                    # Adjust n_neighbors if necessary\n",
    "                    #print(f\"Adjusting n_neighbors to {num_train_samples} since it's smaller than n_neighbors.\")\n",
    "                    #model.set_params(n_neighbors=num_train_samples) \n",
    "                    \n",
    "                    print(f\"Not enough samples! Skipping this ruond\")\n",
    "                    continue\n",
    "                elif val_fold.shape[0]==0:\n",
    "                    print(\"Val fold empty! Skipping!\")\n",
    "                    # Clients are trained a different number of rounds, so the max may be much higher than the average\n",
    "                    # Thus resulting in upper rounds not containing any instances of a specific fold (eg can't train the model the way it is expected here)\n",
    "                    continue\n",
    "\n",
    "                X_train_fold = train_fold.drop(columns=['Subject', 'Fold', 'Update Number']).reset_index(drop=True)\n",
    "                y_train_fold = train_fold['Subject'].reset_index(drop=True)\n",
    "    \n",
    "                X_val_fold = val_fold.drop(columns=['Subject', 'Fold', 'Update Number'])\n",
    "                y_val_fold = val_fold['Subject']\n",
    "    \n",
    "                # Fit model on the current training fold\n",
    "                model.fit(X_train_fold, y_train_fold)\n",
    "    \n",
    "                # Evaluate on the validation fold\n",
    "                score = model.score(X_val_fold, y_val_fold)\n",
    "                cv_scores.append(score)\n",
    "    \n",
    "            # After evaluating all folds, calculate the average cross-validation score\n",
    "            cv_avg_score = sum(cv_scores) / len(cv_scores)\n",
    "    \n",
    "            # Calculate the test accuracy on the hold-out test set\n",
    "            test_acc = model.score(X_test, y_test)\n",
    "    \n",
    "            # Save the results to the full_test_res_df DataFrame\n",
    "            new_row = pd.DataFrame({\n",
    "                'Algorithm': [type(model).__name__],\n",
    "                'Update Number': [i],\n",
    "                'CV Acc': [cv_avg_score],\n",
    "                'Test Acc': [test_acc]\n",
    "            })\n",
    "            full_test_res_df = pd.concat([full_test_res_df, new_row], ignore_index=True)\n",
    "    \n",
    "    return full_test_res_df\n"
   ]
  },
  {
   "cell_type": "code",
   "execution_count": 122,
   "id": "e74fba3e-43cd-4647-9036-b01bcc93b6fb",
   "metadata": {},
   "outputs": [],
   "source": [
    "i_nofl = 5\n",
    "i_fl = 50"
   ]
  },
  {
   "cell_type": "code",
   "execution_count": 123,
   "id": "fb6ccd10-0df5-42c0-9d55-c6e4feae075c",
   "metadata": {},
   "outputs": [
    {
     "name": "stdout",
     "output_type": "stream",
     "text": [
      "127 unique models\n",
      "num_updates 127; n_start_stop (0, 127); new n_stop 126\n",
      "Round i=0 of stop=127\n",
      "Round i=50 of stop=127\n",
      "Round i=100 of stop=127\n"
     ]
    }
   ],
   "source": [
    "cpfa_res_df = execute_linkage_attack(cpfa_model_dict, i_modulus=i_fl)\n"
   ]
  },
  {
   "cell_type": "code",
   "execution_count": 124,
   "id": "05e893a0-7ecb-49b2-9e2f-c72dd516e63c",
   "metadata": {},
   "outputs": [
    {
     "name": "stdout",
     "output_type": "stream",
     "text": [
      "(9, 4)\n"
     ]
    },
    {
     "data": {
      "text/html": [
       "<div>\n",
       "<style scoped>\n",
       "    .dataframe tbody tr th:only-of-type {\n",
       "        vertical-align: middle;\n",
       "    }\n",
       "\n",
       "    .dataframe tbody tr th {\n",
       "        vertical-align: top;\n",
       "    }\n",
       "\n",
       "    .dataframe thead th {\n",
       "        text-align: right;\n",
       "    }\n",
       "</style>\n",
       "<table border=\"1\" class=\"dataframe\">\n",
       "  <thead>\n",
       "    <tr style=\"text-align: right;\">\n",
       "      <th></th>\n",
       "      <th>Algorithm</th>\n",
       "      <th>Update Number</th>\n",
       "      <th>CV Acc</th>\n",
       "      <th>Test Acc</th>\n",
       "    </tr>\n",
       "  </thead>\n",
       "  <tbody>\n",
       "    <tr>\n",
       "      <th>0</th>\n",
       "      <td>KNeighborsClassifier</td>\n",
       "      <td>0</td>\n",
       "      <td>0.071429</td>\n",
       "      <td>0.0</td>\n",
       "    </tr>\n",
       "    <tr>\n",
       "      <th>1</th>\n",
       "      <td>DecisionTreeClassifier</td>\n",
       "      <td>0</td>\n",
       "      <td>0.071429</td>\n",
       "      <td>0.0</td>\n",
       "    </tr>\n",
       "    <tr>\n",
       "      <th>2</th>\n",
       "      <td>GradientBoostingClassifier</td>\n",
       "      <td>0</td>\n",
       "      <td>0.071429</td>\n",
       "      <td>0.0</td>\n",
       "    </tr>\n",
       "    <tr>\n",
       "      <th>3</th>\n",
       "      <td>KNeighborsClassifier</td>\n",
       "      <td>50</td>\n",
       "      <td>0.440476</td>\n",
       "      <td>0.0</td>\n",
       "    </tr>\n",
       "    <tr>\n",
       "      <th>4</th>\n",
       "      <td>DecisionTreeClassifier</td>\n",
       "      <td>50</td>\n",
       "      <td>0.559524</td>\n",
       "      <td>0.0</td>\n",
       "    </tr>\n",
       "  </tbody>\n",
       "</table>\n",
       "</div>"
      ],
      "text/plain": [
       "                    Algorithm Update Number    CV Acc  Test Acc\n",
       "0        KNeighborsClassifier             0  0.071429       0.0\n",
       "1      DecisionTreeClassifier             0  0.071429       0.0\n",
       "2  GradientBoostingClassifier             0  0.071429       0.0\n",
       "3        KNeighborsClassifier            50  0.440476       0.0\n",
       "4      DecisionTreeClassifier            50  0.559524       0.0"
      ]
     },
     "execution_count": 124,
     "metadata": {},
     "output_type": "execute_result"
    }
   ],
   "source": [
    "print(cpfa_res_df.shape)\n",
    "cpfa_res_df.head()"
   ]
  },
  {
   "cell_type": "code",
   "execution_count": 125,
   "id": "6f0196a0-2b82-468a-ad69-73a3135f2589",
   "metadata": {},
   "outputs": [
    {
     "data": {
      "image/png": "[encoded data removed]",
      "text/plain": [
       "<Figure size 900x700 with 1 Axes>"
      ]
     },
     "metadata": {},
     "output_type": "display_data"
    }
   ],
   "source": [
    "full_test_res_df = cpfa_res_df\n",
    "\n",
    "knn_df = full_test_res_df[full_test_res_df['Algorithm']=='KNeighborsClassifier']\n",
    "#svc_df = full_test_res_df[full_test_res_df['Algorithm']=='LinearSVC']\n",
    "dt_df = full_test_res_df[full_test_res_df['Algorithm']=='DecisionTreeClassifier']\n",
    "gbt_df = full_test_res_df[full_test_res_df['Algorithm']=='GradientBoostingClassifier']\n",
    "\n",
    "plt.figure(figsize=(9,7))\n",
    "plt.plot(knn_df['Update Number'], knn_df['Test Acc']*100, label='KNN')\n",
    "plt.plot(dt_df['Update Number'], dt_df['Test Acc']*100, label='DTree')\n",
    "plt.plot(gbt_df['Update Number'], gbt_df['Test Acc']*100, label='GBC')\n",
    "#plt.xticks(np.arange(0, num_updates, 1.0))\n",
    "plt.yticks(np.arange(0, 120, 20.0))\n",
    "plt.grid(axis='y')\n",
    "plt.xlabel('Update Number')\n",
    "plt.ylabel('Testing Accuracy')\n",
    "plt.title('Model Accuracy as a function of NoFL Decoder Update')\n",
    "plt.legend(loc='best')\n",
    "plt.show()"
   ]
  },
  {
   "cell_type": "code",
   "execution_count": null,
   "id": "aaeeee9d-dc65-4c80-8ec4-4900f5c9006b",
   "metadata": {},
   "outputs": [],
   "source": []
  },
  {
   "cell_type": "code",
   "execution_count": null,
   "id": "cce13601-8b3e-4a5d-bfde-b15c64cdf884",
   "metadata": {},
   "outputs": [],
   "source": []
  },
  {
   "cell_type": "code",
   "execution_count": null,
   "id": "cccfdb3a-c0d5-4ad2-b802-a0c6b70c23b7",
   "metadata": {},
   "outputs": [],
   "source": []
  },
  {
   "cell_type": "code",
   "execution_count": null,
   "id": "036ba82d-23d1-43bc-bb15-022b355e5f98",
   "metadata": {},
   "outputs": [],
   "source": []
  },
  {
   "cell_type": "code",
   "execution_count": null,
   "id": "d4159e7c-c853-43fc-9c27-a77a0955a01c",
   "metadata": {},
   "outputs": [],
   "source": []
  },
  {
   "cell_type": "code",
   "execution_count": null,
   "id": "7e36bff6-5dfb-49e1-9846-2d2595296c59",
   "metadata": {},
   "outputs": [],
   "source": []
  },
  {
   "cell_type": "code",
   "execution_count": null,
   "id": "6b8a2bdc-cff3-4a42-ae0f-78ed6742a49e",
   "metadata": {},
   "outputs": [],
   "source": []
  },
  {
   "cell_type": "code",
   "execution_count": null,
   "id": "41f8d1a9-460e-44ad-a5a7-22ca0f463d40",
   "metadata": {},
   "outputs": [],
   "source": []
  },
  {
   "cell_type": "code",
   "execution_count": 114,
   "id": "43255b2a-ea29-43ca-a8be-14b03af13227",
   "metadata": {},
   "outputs": [
    {
     "name": "stdout",
     "output_type": "stream",
     "text": [
      "127 unique models\n",
      "num_updates 127; n_start_stop (0, 127); new n_stop 126\n",
      "Round i=0 of stop=127\n",
      "Round i=50 of stop=127\n",
      "Round i=100 of stop=127\n",
      "127 unique models\n",
      "num_updates 127; n_start_stop (0, 127); new n_stop 126\n",
      "Round i=0 of stop=127\n",
      "Round i=50 of stop=127\n",
      "Round i=100 of stop=127\n",
      "13 unique models\n",
      "num_updates 13; n_start_stop (0, 13); new n_stop 12\n",
      "Round i=0 of stop=13\n",
      "Round i=5 of stop=13\n",
      "Round i=10 of stop=13\n",
      "98 unique models\n",
      "num_updates 98; n_start_stop (0, 98); new n_stop 97\n",
      "Round i=0 of stop=98\n",
      "Round i=50 of stop=98\n",
      "98 unique models\n",
      "num_updates 98; n_start_stop (0, 98); new n_stop 97\n",
      "Round i=0 of stop=98\n",
      "Round i=50 of stop=98\n",
      "13 unique models\n",
      "num_updates 13; n_start_stop (0, 13); new n_stop 12\n",
      "Round i=0 of stop=13\n",
      "Round i=5 of stop=13\n",
      "Round i=10 of stop=13\n"
     ]
    }
   ],
   "source": [
    "i_nofl = 5\n",
    "i_fl = 50\n",
    "\n",
    "cpfa_res_df = execute_linkage_attack(cpfa_model_dict, i_modulus=i_fl)\n",
    "cfa_res_df = execute_linkage_attack(cfa_model_dict, i_modulus=i_fl)\n",
    "cnofl_res_df = execute_linkage_attack(cnofl_model_dict, i_modulus=i_nofl)\n",
    "ipfa_res_df = execute_linkage_attack(ipfa_model_dict, i_modulus=i_fl)\n",
    "ifa_res_df = execute_linkage_attack(ifa_model_dict, i_modulus=i_fl)\n",
    "inofl_res_df = execute_linkage_attack(inofl_model_dict, i_modulus=i_nofl)"
   ]
  },
  {
   "cell_type": "code",
   "execution_count": 119,
   "id": "3292e0ce-8a90-4f8e-8a3f-886f6356deeb",
   "metadata": {},
   "outputs": [
    {
     "data": {
      "image/png": "[encoded data removed]",
      "text/plain": [
       "<Figure size 900x700 with 1 Axes>"
      ]
     },
     "metadata": {},
     "output_type": "display_data"
    }
   ],
   "source": [
    "full_test_res_df = cpfa_res_df\n",
    "\n",
    "knn_df = full_test_res_df[full_test_res_df['Algorithm']=='KNeighborsClassifier']\n",
    "#svc_df = full_test_res_df[full_test_res_df['Algorithm']=='LinearSVC']\n",
    "dt_df = full_test_res_df[full_test_res_df['Algorithm']=='DecisionTreeClassifier']\n",
    "gbt_df = full_test_res_df[full_test_res_df['Algorithm']=='GradientBoostingClassifier']\n",
    "\n",
    "plt.figure(figsize=(9,7))\n",
    "plt.plot(knn_df['Update Number'], knn_df['Test Acc']*100, label='KNN')\n",
    "plt.plot(dt_df['Update Number'], dt_df['Test Acc']*100, label='DTree')\n",
    "plt.plot(gbt_df['Update Number'], gbt_df['Test Acc']*100, label='GBC')\n",
    "#plt.xticks(np.arange(0, num_updates, 1.0))\n",
    "plt.yticks(np.arange(0, 120, 20.0))\n",
    "plt.grid(axis='y')\n",
    "plt.xlabel('Update Number')\n",
    "plt.ylabel('Testing Accuracy')\n",
    "plt.title('Model Accuracy as a function of NoFL Decoder Update')\n",
    "plt.legend(loc='best')\n",
    "plt.show()"
   ]
  },
  {
   "cell_type": "code",
   "execution_count": null,
   "id": "078c0bff-6fc4-43e5-a7c2-6bd94f8a2fbc",
   "metadata": {},
   "outputs": [],
   "source": []
  },
  {
   "cell_type": "code",
   "execution_count": null,
   "id": "9df5f229-ad05-48c9-a126-be62863f1f84",
   "metadata": {},
   "outputs": [],
   "source": []
  },
  {
   "cell_type": "code",
   "execution_count": null,
   "id": "6b92e2a5-8b21-4003-b425-1f9fe7044ac1",
   "metadata": {},
   "outputs": [],
   "source": []
  },
  {
   "cell_type": "code",
   "execution_count": null,
   "id": "bb1b1a35-3f0a-4384-aa7a-2492b81f27ed",
   "metadata": {},
   "outputs": [],
   "source": []
  },
  {
   "cell_type": "code",
   "execution_count": 116,
   "id": "46bb5313-57d3-4c79-8a4e-10fee5949117",
   "metadata": {},
   "outputs": [
    {
     "data": {
      "image/png": "[encoded data removed]",
      "text/plain": [
       "<Figure size 900x700 with 1 Axes>"
      ]
     },
     "metadata": {},
     "output_type": "display_data"
    }
   ],
   "source": [
    "\n",
    "trial_dfs = [cpfa_res_df, cfa_res_df, cnofl_res_df, ipfa_res_df, ifa_res_df, inofl_res_df]  # Replace these with your actual dataframes\n",
    "\n",
    "# Model names and corresponding colors\n",
    "models = ['KNeighborsClassifier', 'DecisionTreeClassifier', 'GradientBoostingClassifier']\n",
    "colors = ['blue', 'green', 'red']  # Colors for KNN, DTree, GBC respectively\n",
    "labels = ['Cross PFA', 'Cross FA', 'Cross NOFL', 'Intra PFA', 'Intra FA', 'Intra NOFL']\n",
    "\n",
    "plt.figure(figsize=(9, 7))\n",
    "\n",
    "# Loop through each trial dataframe and model to plot all curves\n",
    "for i, trial_df in enumerate(trial_dfs):\n",
    "    for color_idx, color in enumerate(colors):\n",
    "        # Filter the dataframe for each model (Algorithm)\n",
    "        model_df = trial_df[trial_df['Algorithm'] == model]\n",
    "        \n",
    "        # Plot the curve for this trial and model\n",
    "        plt.plot(\n",
    "            model_df['Update Number'], \n",
    "            model_df['Test Acc'], \n",
    "            label=f'{labels[i]}', \n",
    "            color=colors[color_idx],\n",
    "            linestyle='-',  # Solid lines for consistency\n",
    "            linewidth=1.5\n",
    "        )\n",
    "\n",
    "# Customize plot appearance\n",
    "plt.yticks(np.arange(0, 120, 20.0))\n",
    "plt.grid(axis='y')\n",
    "plt.xlabel('Update Number')\n",
    "plt.ylabel('Testing Accuracy (%)')\n",
    "plt.title('Model Accuracy as a Function of NoFL Decoder Update')\n",
    "plt.legend(loc='best')  # , ncol=2 Adjust the number of columns to avoid overlapping labels\n",
    "plt.show()\n"
   ]
  },
  {
   "cell_type": "code",
   "execution_count": null,
   "id": "796a8cf5-4cab-407d-8e65-61921401ed1e",
   "metadata": {},
   "outputs": [],
   "source": []
  },
  {
   "cell_type": "code",
   "execution_count": null,
   "id": "f3326fb1-825c-405e-b376-f7b0e3ad1772",
   "metadata": {},
   "outputs": [],
   "source": []
  },
  {
   "cell_type": "code",
   "execution_count": null,
   "id": "4727e114-342d-43a4-ba13-347fe7dc6596",
   "metadata": {},
   "outputs": [],
   "source": []
  },
  {
   "cell_type": "code",
   "execution_count": null,
   "id": "9500ddc9-44c0-4b3b-8e63-eb6f393d1171",
   "metadata": {},
   "outputs": [],
   "source": []
  },
  {
   "cell_type": "code",
   "execution_count": null,
   "id": "07570636-08e6-4781-bbb3-2c22fe577a3a",
   "metadata": {},
   "outputs": [],
   "source": []
  },
  {
   "cell_type": "code",
   "execution_count": null,
   "id": "f01e2673-303d-4b87-9c6a-a6f41e649864",
   "metadata": {},
   "outputs": [],
   "source": []
  },
  {
   "cell_type": "code",
   "execution_count": null,
   "id": "90949f4f-e55e-4af3-b5b1-fc9474d75667",
   "metadata": {},
   "outputs": [],
   "source": []
  },
  {
   "cell_type": "code",
   "execution_count": null,
   "id": "7fbdc906-c83b-46fe-89a6-e7e61e3268b5",
   "metadata": {},
   "outputs": [],
   "source": []
  },
  {
   "cell_type": "code",
   "execution_count": null,
   "id": "c972b007-3d3e-4ccf-9f2d-96ecde279efd",
   "metadata": {},
   "outputs": [],
   "source": []
  },
  {
   "cell_type": "code",
   "execution_count": null,
   "id": "070fd45a-ac99-4a16-97de-7e280fd0bf04",
   "metadata": {},
   "outputs": [],
   "source": []
  },
  {
   "cell_type": "code",
   "execution_count": null,
   "id": "c1db72bc-6aa5-4b18-99e7-63abdbb773c1",
   "metadata": {},
   "outputs": [],
   "source": []
  },
  {
   "cell_type": "code",
   "execution_count": null,
   "id": "dfeb8b67-f360-4b6b-bced-f9d1eb04bf53",
   "metadata": {},
   "outputs": [],
   "source": []
  },
  {
   "cell_type": "code",
   "execution_count": null,
   "id": "c9b6503f-d7c6-43df-8cc6-07eee488265b",
   "metadata": {},
   "outputs": [],
   "source": []
  },
  {
   "cell_type": "code",
   "execution_count": null,
   "id": "950b7f12-655f-4b00-be84-892fda83a663",
   "metadata": {},
   "outputs": [],
   "source": []
  },
  {
   "cell_type": "code",
   "execution_count": null,
   "id": "3ac55e1b-63a4-485b-9f0b-d4b810262811",
   "metadata": {},
   "outputs": [],
   "source": []
  },
  {
   "cell_type": "code",
   "execution_count": null,
   "id": "98027bc2-1a67-4db1-9363-c3568e2148d1",
   "metadata": {},
   "outputs": [],
   "source": []
  },
  {
   "cell_type": "code",
   "execution_count": null,
   "id": "d224935b-f300-4a8e-b5af-8502d7b81b51",
   "metadata": {},
   "outputs": [],
   "source": []
  },
  {
   "cell_type": "code",
   "execution_count": null,
   "id": "3bf0205f-0133-4838-925f-da7d5c89cf44",
   "metadata": {},
   "outputs": [],
   "source": []
  },
  {
   "cell_type": "code",
   "execution_count": null,
   "id": "fc9b6e42-d1a0-4c4c-b76c-ae10023601ff",
   "metadata": {},
   "outputs": [],
   "source": []
  },
  {
   "cell_type": "code",
   "execution_count": null,
   "id": "b0578b3c-2a05-4203-994a-d52de70650cb",
   "metadata": {},
   "outputs": [],
   "source": []
  },
  {
   "cell_type": "code",
   "execution_count": null,
   "id": "6999930e-f198-497b-9d33-27cd334717b7",
   "metadata": {},
   "outputs": [],
   "source": []
  },
  {
   "cell_type": "code",
   "execution_count": null,
   "id": "82cdecc5-dcd6-4279-9383-b1049244d79d",
   "metadata": {},
   "outputs": [],
   "source": []
  },
  {
   "cell_type": "code",
   "execution_count": null,
   "id": "5817597e-dd4d-4c09-a4e7-a22dc640f03c",
   "metadata": {},
   "outputs": [],
   "source": []
  },
  {
   "cell_type": "code",
   "execution_count": null,
   "id": "b83c9595-4752-4391-8ccb-95343bab74b2",
   "metadata": {},
   "outputs": [],
   "source": []
  },
  {
   "cell_type": "code",
   "execution_count": null,
   "id": "fef8c01b-c665-495e-8fce-53bafe886b7b",
   "metadata": {},
   "outputs": [],
   "source": []
  },
  {
   "cell_type": "code",
   "execution_count": null,
   "id": "77a144a0-0b1e-484f-8ccc-4ea11745479a",
   "metadata": {},
   "outputs": [],
   "source": []
  },
  {
   "cell_type": "code",
   "execution_count": null,
   "id": "ec5c0f1c-2930-4d7f-a3c3-7e611d7a37f3",
   "metadata": {},
   "outputs": [],
   "source": []
  },
  {
   "cell_type": "code",
   "execution_count": null,
   "id": "23fdf524-2639-4e25-abb6-d57b08596a65",
   "metadata": {},
   "outputs": [],
   "source": []
  },
  {
   "cell_type": "code",
   "execution_count": 13,
   "id": "dccb782c-2333-415c-9a5e-7b61e61c4f16",
   "metadata": {},
   "outputs": [
    {
     "name": "stdout",
     "output_type": "stream",
     "text": [
      "Round i=0 of stop=13\n",
      "Round i=1 of stop=13\n",
      "1 skipped for speed!\n",
      "Round i=2 of stop=13\n",
      "2 skipped for speed!\n",
      "Round i=3 of stop=13\n",
      "Round i=4 of stop=13\n",
      "4 skipped for speed!\n",
      "Round i=5 of stop=13\n",
      "5 skipped for speed!\n",
      "Round i=6 of stop=13\n",
      "Round i=7 of stop=13\n",
      "7 skipped for speed!\n",
      "Round i=8 of stop=13\n",
      "8 skipped for speed!\n",
      "Round i=9 of stop=13\n",
      "Round i=10 of stop=13\n",
      "10 skipped for speed!\n",
      "Round i=11 of stop=13\n",
      "11 skipped for speed!\n",
      "Round i=12 of stop=13\n"
     ]
    }
   ],
   "source": [
    "# THESE ARE CREATED ABOVE!\n",
    "# CROSS\n",
    "#cpfa_model_dict = load_final_model_performances(base_path+r'\\09-19_23-07_PFAFO_GDLS', 'GDLS_PFAFO_GDLS_KFold')\n",
    "#cfa_model_dict = load_final_model_performances(base_path+r'\\09-19_23-25_FEDAVG', 'GDLS_FEDAVG_KFold')\n",
    "#cnofl_model_dict = load_final_model_performances(base_path+r'\\09-19_23-30_NOFL', 'FULLSCIPYMIN_NOFL_KFold')\n",
    "# INTRA\n",
    "#ipfa_model_dict = load_final_model_performances(base_path+r'\\09-19_23-05_PFAFO_GDLS', 'GDLS_PFAFO_GDLS_KFold')\n",
    "#ifa_model_dict = load_final_model_performances(base_path+r'\\09-19_23-04_FEDAVG', 'GDLS_FEDAVG_KFold')\n",
    "#inofl_model_dict = load_final_model_performances(base_path+r'\\09-19_22-56_NOFL', 'FULLSCIPYMIN_NOFL_KFold')\n",
    "\n",
    "i_nofl = 2\n",
    "i_fl = 10\n",
    "\n",
    "full_test_res_df = execute_linkage_attack(cpfa_model_dict, i_modulus=i_fl)\n",
    "full_test_res_df = execute_linkage_attack(cfa_model_dict, i_modulus=i_fl)\n",
    "full_test_res_df = execute_linkage_attack(cnofl_model_dict, i_modulus=i_nofl)\n",
    "full_test_res_df = execute_linkage_attack(ipfa_model_dict, i_modulus=i_fl)\n",
    "full_test_res_df = execute_linkage_attack(ifa_model_dict, i_modulus=i_fl)\n",
    "full_test_res_df = execute_linkage_attack(inofl_model_dict, i_modulus=i_nofl)\n",
    "\n"
   ]
  },
  {
   "cell_type": "code",
   "execution_count": 14,
   "id": "8a946a49-e5a4-45f4-9447-67a282912285",
   "metadata": {},
   "outputs": [
    {
     "data": {
      "text/html": [
       "<div>\n",
       "<style scoped>\n",
       "    .dataframe tbody tr th:only-of-type {\n",
       "        vertical-align: middle;\n",
       "    }\n",
       "\n",
       "    .dataframe tbody tr th {\n",
       "        vertical-align: top;\n",
       "    }\n",
       "\n",
       "    .dataframe thead th {\n",
       "        text-align: right;\n",
       "    }\n",
       "</style>\n",
       "<table border=\"1\" class=\"dataframe\">\n",
       "  <thead>\n",
       "    <tr style=\"text-align: right;\">\n",
       "      <th></th>\n",
       "      <th>Algorithm</th>\n",
       "      <th>Update Number</th>\n",
       "      <th>CV Acc</th>\n",
       "      <th>Test Acc</th>\n",
       "    </tr>\n",
       "  </thead>\n",
       "  <tbody>\n",
       "    <tr>\n",
       "      <th>0</th>\n",
       "      <td>KNeighborsClassifier</td>\n",
       "      <td>0</td>\n",
       "      <td>0.071429</td>\n",
       "      <td>0.071429</td>\n",
       "    </tr>\n",
       "    <tr>\n",
       "      <th>1</th>\n",
       "      <td>DecisionTreeClassifier</td>\n",
       "      <td>0</td>\n",
       "      <td>0.071429</td>\n",
       "      <td>0.071429</td>\n",
       "    </tr>\n",
       "    <tr>\n",
       "      <th>2</th>\n",
       "      <td>GradientBoostingClassifier</td>\n",
       "      <td>0</td>\n",
       "      <td>0.071429</td>\n",
       "      <td>0.071429</td>\n",
       "    </tr>\n",
       "    <tr>\n",
       "      <th>3</th>\n",
       "      <td>KNeighborsClassifier</td>\n",
       "      <td>3</td>\n",
       "      <td>1.000000</td>\n",
       "      <td>0.081633</td>\n",
       "    </tr>\n",
       "    <tr>\n",
       "      <th>4</th>\n",
       "      <td>DecisionTreeClassifier</td>\n",
       "      <td>3</td>\n",
       "      <td>0.928571</td>\n",
       "      <td>0.081633</td>\n",
       "    </tr>\n",
       "    <tr>\n",
       "      <th>5</th>\n",
       "      <td>GradientBoostingClassifier</td>\n",
       "      <td>3</td>\n",
       "      <td>0.989796</td>\n",
       "      <td>0.071429</td>\n",
       "    </tr>\n",
       "    <tr>\n",
       "      <th>6</th>\n",
       "      <td>KNeighborsClassifier</td>\n",
       "      <td>6</td>\n",
       "      <td>1.000000</td>\n",
       "      <td>0.346939</td>\n",
       "    </tr>\n",
       "    <tr>\n",
       "      <th>7</th>\n",
       "      <td>DecisionTreeClassifier</td>\n",
       "      <td>6</td>\n",
       "      <td>0.918367</td>\n",
       "      <td>0.071429</td>\n",
       "    </tr>\n",
       "    <tr>\n",
       "      <th>8</th>\n",
       "      <td>GradientBoostingClassifier</td>\n",
       "      <td>6</td>\n",
       "      <td>0.979592</td>\n",
       "      <td>0.071429</td>\n",
       "    </tr>\n",
       "    <tr>\n",
       "      <th>9</th>\n",
       "      <td>KNeighborsClassifier</td>\n",
       "      <td>9</td>\n",
       "      <td>0.969388</td>\n",
       "      <td>0.959184</td>\n",
       "    </tr>\n",
       "    <tr>\n",
       "      <th>10</th>\n",
       "      <td>DecisionTreeClassifier</td>\n",
       "      <td>9</td>\n",
       "      <td>0.846939</td>\n",
       "      <td>0.224490</td>\n",
       "    </tr>\n",
       "    <tr>\n",
       "      <th>11</th>\n",
       "      <td>GradientBoostingClassifier</td>\n",
       "      <td>9</td>\n",
       "      <td>0.959184</td>\n",
       "      <td>0.602041</td>\n",
       "    </tr>\n",
       "    <tr>\n",
       "      <th>12</th>\n",
       "      <td>KNeighborsClassifier</td>\n",
       "      <td>12</td>\n",
       "      <td>0.959184</td>\n",
       "      <td>0.959184</td>\n",
       "    </tr>\n",
       "    <tr>\n",
       "      <th>13</th>\n",
       "      <td>DecisionTreeClassifier</td>\n",
       "      <td>12</td>\n",
       "      <td>0.887755</td>\n",
       "      <td>0.897959</td>\n",
       "    </tr>\n",
       "    <tr>\n",
       "      <th>14</th>\n",
       "      <td>GradientBoostingClassifier</td>\n",
       "      <td>12</td>\n",
       "      <td>0.938776</td>\n",
       "      <td>0.938776</td>\n",
       "    </tr>\n",
       "  </tbody>\n",
       "</table>\n",
       "</div>"
      ],
      "text/plain": [
       "                     Algorithm Update Number    CV Acc  Test Acc\n",
       "0         KNeighborsClassifier             0  0.071429  0.071429\n",
       "1       DecisionTreeClassifier             0  0.071429  0.071429\n",
       "2   GradientBoostingClassifier             0  0.071429  0.071429\n",
       "3         KNeighborsClassifier             3  1.000000  0.081633\n",
       "4       DecisionTreeClassifier             3  0.928571  0.081633\n",
       "5   GradientBoostingClassifier             3  0.989796  0.071429\n",
       "6         KNeighborsClassifier             6  1.000000  0.346939\n",
       "7       DecisionTreeClassifier             6  0.918367  0.071429\n",
       "8   GradientBoostingClassifier             6  0.979592  0.071429\n",
       "9         KNeighborsClassifier             9  0.969388  0.959184\n",
       "10      DecisionTreeClassifier             9  0.846939  0.224490\n",
       "11  GradientBoostingClassifier             9  0.959184  0.602041\n",
       "12        KNeighborsClassifier            12  0.959184  0.959184\n",
       "13      DecisionTreeClassifier            12  0.887755  0.897959\n",
       "14  GradientBoostingClassifier            12  0.938776  0.938776"
      ]
     },
     "execution_count": 14,
     "metadata": {},
     "output_type": "execute_result"
    }
   ],
   "source": [
    "full_test_res_df"
   ]
  },
  {
   "cell_type": "code",
   "execution_count": 15,
   "id": "163ed956-da48-4794-a45d-49a25bb5b2b4",
   "metadata": {},
   "outputs": [],
   "source": [
    "knn_df = full_test_res_df[full_test_res_df['Algorithm']=='KNeighborsClassifier']\n",
    "#svc_df = full_test_res_df[full_test_res_df['Algorithm']=='LinearSVC']\n",
    "dt_df = full_test_res_df[full_test_res_df['Algorithm']=='DecisionTreeClassifier']\n",
    "gbt_df = full_test_res_df[full_test_res_df['Algorithm']=='GradientBoostingClassifier']"
   ]
  },
  {
   "cell_type": "code",
   "execution_count": 16,
   "id": "cab4fab5-d201-444f-8379-38d9ed48e69d",
   "metadata": {},
   "outputs": [
    {
     "name": "stdout",
     "output_type": "stream",
     "text": [
      "(5, 4)\n"
     ]
    },
    {
     "data": {
      "text/html": [
       "<div>\n",
       "<style scoped>\n",
       "    .dataframe tbody tr th:only-of-type {\n",
       "        vertical-align: middle;\n",
       "    }\n",
       "\n",
       "    .dataframe tbody tr th {\n",
       "        vertical-align: top;\n",
       "    }\n",
       "\n",
       "    .dataframe thead th {\n",
       "        text-align: right;\n",
       "    }\n",
       "</style>\n",
       "<table border=\"1\" class=\"dataframe\">\n",
       "  <thead>\n",
       "    <tr style=\"text-align: right;\">\n",
       "      <th></th>\n",
       "      <th>Algorithm</th>\n",
       "      <th>Update Number</th>\n",
       "      <th>CV Acc</th>\n",
       "      <th>Test Acc</th>\n",
       "    </tr>\n",
       "  </thead>\n",
       "  <tbody>\n",
       "    <tr>\n",
       "      <th>0</th>\n",
       "      <td>KNeighborsClassifier</td>\n",
       "      <td>0</td>\n",
       "      <td>0.071429</td>\n",
       "      <td>0.071429</td>\n",
       "    </tr>\n",
       "    <tr>\n",
       "      <th>3</th>\n",
       "      <td>KNeighborsClassifier</td>\n",
       "      <td>3</td>\n",
       "      <td>1.000000</td>\n",
       "      <td>0.081633</td>\n",
       "    </tr>\n",
       "    <tr>\n",
       "      <th>6</th>\n",
       "      <td>KNeighborsClassifier</td>\n",
       "      <td>6</td>\n",
       "      <td>1.000000</td>\n",
       "      <td>0.346939</td>\n",
       "    </tr>\n",
       "    <tr>\n",
       "      <th>9</th>\n",
       "      <td>KNeighborsClassifier</td>\n",
       "      <td>9</td>\n",
       "      <td>0.969388</td>\n",
       "      <td>0.959184</td>\n",
       "    </tr>\n",
       "    <tr>\n",
       "      <th>12</th>\n",
       "      <td>KNeighborsClassifier</td>\n",
       "      <td>12</td>\n",
       "      <td>0.959184</td>\n",
       "      <td>0.959184</td>\n",
       "    </tr>\n",
       "  </tbody>\n",
       "</table>\n",
       "</div>"
      ],
      "text/plain": [
       "               Algorithm Update Number    CV Acc  Test Acc\n",
       "0   KNeighborsClassifier             0  0.071429  0.071429\n",
       "3   KNeighborsClassifier             3  1.000000  0.081633\n",
       "6   KNeighborsClassifier             6  1.000000  0.346939\n",
       "9   KNeighborsClassifier             9  0.969388  0.959184\n",
       "12  KNeighborsClassifier            12  0.959184  0.959184"
      ]
     },
     "execution_count": 16,
     "metadata": {},
     "output_type": "execute_result"
    }
   ],
   "source": [
    "print(knn_df.shape)\n",
    "knn_df.head()"
   ]
  },
  {
   "cell_type": "code",
   "execution_count": 17,
   "id": "d86856c6-d25b-4fbc-a9c6-ef18f279b173",
   "metadata": {},
   "outputs": [
    {
     "data": {
      "image/png": "[encoded data removed]",
      "text/plain": [
       "<Figure size 900x700 with 1 Axes>"
      ]
     },
     "metadata": {},
     "output_type": "display_data"
    }
   ],
   "source": [
    "col_num = 1\n",
    "my_x_updates = list(range(17))\n",
    "\n",
    "plt.figure(figsize=(9,7))\n",
    "plt.plot(knn_df['Update Number'], knn_df['Test Acc']*100, label='KNN')\n",
    "plt.plot(dt_df['Update Number'], dt_df['Test Acc']*100, label='DTree')\n",
    "plt.plot(gbt_df['Update Number'], gbt_df['Test Acc']*100, label='GBC')\n",
    "plt.xticks(np.arange(0, num_updates, 1.0))\n",
    "plt.yticks(np.arange(0, 120, 20.0))\n",
    "plt.grid(axis='y')\n",
    "plt.xlabel('Update Number')\n",
    "plt.ylabel('Testing Accuracy')\n",
    "plt.title('Model Accuracy as a function of NoFL Decoder Update')\n",
    "plt.legend(loc='best')\n",
    "plt.show()"
   ]
  },
  {
   "cell_type": "code",
   "execution_count": null,
   "id": "8d14b5c0-f674-4564-9cc9-0d3fe1d60265",
   "metadata": {},
   "outputs": [],
   "source": []
  },
  {
   "cell_type": "code",
   "execution_count": null,
   "id": "2ca9cf69-5dfc-42e3-935e-46793b2c91c1",
   "metadata": {},
   "outputs": [],
   "source": []
  },
  {
   "cell_type": "code",
   "execution_count": null,
   "id": "08286c32-af7c-4c68-bf27-c255f0696e63",
   "metadata": {},
   "outputs": [],
   "source": []
  },
  {
   "cell_type": "code",
   "execution_count": null,
   "id": "7c7c773d-ee54-4a7f-abcf-4774ad6e6694",
   "metadata": {},
   "outputs": [],
   "source": []
  },
  {
   "cell_type": "code",
   "execution_count": null,
   "id": "11b8e34b-31a5-4c9e-8555-238518118ed8",
   "metadata": {},
   "outputs": [],
   "source": []
  },
  {
   "cell_type": "code",
   "execution_count": null,
   "id": "9b4dc3d3-bd26-4647-8ea6-1f565799a22a",
   "metadata": {},
   "outputs": [],
   "source": [
    "assert(False)"
   ]
  },
  {
   "cell_type": "code",
   "execution_count": null,
   "id": "94c4c863",
   "metadata": {},
   "outputs": [],
   "source": [
    "# RENAME / REWORK THESE!\n",
    "\n",
    "#global_lr_df_1ss = global_full_test_df_1ss[global_full_test_df_1ss['Algorithm']=='LogisticRegression()']\n",
    "global_knn_df_1ss = global_full_test_df_1ss[global_full_test_df_1ss['Algorithm']=='KNeighborsClassifier()']\n",
    "#global_svc_df_1ss = global_full_test_df_1ss[global_full_test_df_1ss['Algorithm']=='LinearSVC()']\n",
    "global_dt_df_1ss = global_full_test_df_1ss[global_full_test_df_1ss['Algorithm']=='DecisionTreeClassifier()']\n",
    "global_gbt_df_1ss = global_full_test_df_1ss[global_full_test_df_1ss['Algorithm']=='GradientBoostingClassifier()']"
   ]
  },
  {
   "cell_type": "code",
   "execution_count": null,
   "id": "4b0b54b2",
   "metadata": {},
   "outputs": [],
   "source": []
  }
 ],
 "metadata": {
  "kernelspec": {
   "display_name": "Python 3 (ipykernel)",
   "language": "python",
   "name": "python3"
  },
  "language_info": {
   "codemirror_mode": {
    "name": "ipython",
    "version": 3
   },
   "file_extension": ".py",
   "mimetype": "text/x-python",
   "name": "python",
   "nbconvert_exporter": "python",
   "pygments_lexer": "ipython3",
   "version": "3.10.12"
  }
 },
 "nbformat": 4,
 "nbformat_minor": 5
}
