{
 "cells": [
  {
   "cell_type": "markdown",
   "id": "d17f193d",
   "metadata": {},
   "source": [
    "> __Purpose:__ This NB takes forever to run. The functionality of this ended up being to create and plot the results, and then I saved the results so that I could use them in a fresh new NB without all this code and crazy run times."
   ]
  },
  {
   "cell_type": "code",
   "execution_count": 1,
   "id": "a61b3128",
   "metadata": {},
   "outputs": [
    {
     "ename": "ModuleNotFoundError",
     "evalue": "No module named 'h5py'",
     "output_type": "error",
     "traceback": [
      "\u001b[1;31m---------------------------------------------------------------------------\u001b[0m",
      "\u001b[1;31mModuleNotFoundError\u001b[0m                       Traceback (most recent call last)",
      "\u001b[1;32m~\\AppData\\Local\\Temp\\ipykernel_11444\\1684067401.py\u001b[0m in \u001b[0;36m<cell line: 8>\u001b[1;34m()\u001b[0m\n\u001b[0;32m      6\u001b[0m \u001b[1;32mimport\u001b[0m \u001b[0mrandom\u001b[0m\u001b[1;33m\u001b[0m\u001b[1;33m\u001b[0m\u001b[0m\n\u001b[0;32m      7\u001b[0m \u001b[1;32mimport\u001b[0m \u001b[0mos\u001b[0m\u001b[1;33m\u001b[0m\u001b[1;33m\u001b[0m\u001b[0m\n\u001b[1;32m----> 8\u001b[1;33m \u001b[1;32mimport\u001b[0m \u001b[0mh5py\u001b[0m\u001b[1;33m\u001b[0m\u001b[1;33m\u001b[0m\u001b[0m\n\u001b[0m\u001b[0;32m      9\u001b[0m \u001b[1;32mimport\u001b[0m \u001b[0mcopy\u001b[0m\u001b[1;33m\u001b[0m\u001b[1;33m\u001b[0m\u001b[0m\n\u001b[0;32m     10\u001b[0m \u001b[1;33m\u001b[0m\u001b[0m\n",
      "\u001b[1;31mModuleNotFoundError\u001b[0m: No module named 'h5py'"
     ]
    }
   ],
   "source": [
    "import numpy as np\n",
    "import matplotlib.pyplot as plt\n",
    "import time\n",
    "import pandas as pd\n",
    "import pickle\n",
    "import random\n",
    "import os\n",
    "import h5py\n",
    "import copy\n",
    "\n",
    "import seaborn as sns\n",
    "\n",
    "# Machine learning\n",
    "from sklearn.model_selection import train_test_split\n",
    "from sklearn import model_selection, tree, preprocessing, metrics, linear_model\n",
    "\n",
    "from sklearn.svm import LinearSVC\n",
    "from sklearn.ensemble import GradientBoostingClassifier\n",
    "from sklearn.neighbors import KNeighborsClassifier\n",
    "#from sklearn.naive_bayes import GaussianNB\n",
    "#from sklearn.linear_model import LogisticRegression, SGDClassifier\n",
    "from sklearn.tree import DecisionTreeClassifier\n",
    "\n",
    "import re\n",
    "from sklearn.model_selection import StratifiedKFold, cross_val_score, KFold\n",
    "from sklearn.metrics import accuracy_score\n",
    "\n",
    "#import warnings\n",
    "#warnings.filterwarnings(\"ignore\")\n",
    "\n",
    "random.seed(a=1)"
   ]
  },
  {
   "cell_type": "code",
   "execution_count": null,
   "id": "d67d30e0-f3b7-42ca-bd72-1454e007ac70",
   "metadata": {},
   "outputs": [],
   "source": [
    "#import sys\n",
    "\n",
    "# Add grandparent directory to the system path\n",
    "#grandparent_dir = os.path.abspath(os.path.join(os.getcwd(), os.pardir, os.pardir))\n",
    "#print(grandparent_dir)\n",
    "#sys.path.append(grandparent_dir)\n",
    "\n",
    "# Import the modules\n",
    "#from fl_sim_client import *\n",
    "#from fl_sim_server import *\n",
    "#from presentation_sns_config import *\n"
   ]
  },
  {
   "cell_type": "code",
   "execution_count": null,
   "id": "8f2109c5",
   "metadata": {},
   "outputs": [],
   "source": [
    "final_update = 16"
   ]
  },
  {
   "cell_type": "markdown",
   "id": "d6d2b58b",
   "metadata": {},
   "source": [
    "## Load Data"
   ]
  },
  {
   "cell_type": "code",
   "execution_count": null,
   "id": "fbd4ad29-e853-472c-a0b2-6a661ffc2178",
   "metadata": {},
   "outputs": [],
   "source": [
    "def load_final_model_performances(cv_results_path, filename, num_clients=14, num_folds=7, verbose=False):\n",
    "    extraction_dict = dict()\n",
    "    for i in range(num_folds):\n",
    "        h5_path = os.path.join(cv_results_path, filename+f\"{i}.h5\")\n",
    "        #print(h5_path)\n",
    "        \n",
    "        # Load data from HDF5 file\n",
    "        with h5py.File(h5_path, 'r') as f:\n",
    "            a_group_key = list(f.keys())\n",
    "            #if i==0:\n",
    "            #    print(a_group_key)\n",
    "            for key in a_group_key:\n",
    "                #print(key)\n",
    "        \n",
    "                if key==\"client_local_model_log\":\n",
    "                    client_keys = list(f[key])\n",
    "                    #print(client_keys)\n",
    "                    for ck in client_keys:\n",
    "                        ed_key = f\"{ck}_fold{i}\"  # Does this never update from or something...\n",
    "                        #print(f\"Key: {key}, Client: {ck}, Fold: {i}\")\n",
    "    \n",
    "                        # So this doenst have any knoledge of the fold number???\n",
    "                        if len(list(f[key][ck]))==0:\n",
    "                            #print(f\"{ed_key} SKIPPED!\")\n",
    "                            pass\n",
    "                        else:\n",
    "                            #print(f\"{ed_key} SUCCESS!\")\n",
    "                            extraction_dict[ed_key] = list(f[key][ck])\n",
    "                elif key==\"global_model_log\" and \"NOFL\" not in filename:\n",
    "                    # Do I need to turn this off for NoFL? Or will it just be empty and append something empty...\n",
    "                    ed_key = f\"{key}_fold{i}\"\n",
    "                    #print(ed_key)\n",
    "                    extraction_dict[ed_key] = list(f[key])\n",
    "                else:\n",
    "                    pass\n",
    "\n",
    "    return extraction_dict\n"
   ]
  },
  {
   "cell_type": "code",
   "execution_count": null,
   "id": "59f33a4f-ccfb-42df-a59f-8dbd6b20cef9",
   "metadata": {},
   "outputs": [],
   "source": [
    "NUM_PLOTTED_CONDITIONS = 6\n",
    "NUM_PLOTTED_CONDITIONS_WITH_GLOBAL = 10\n",
    "NUM_CLIENTS = 14\n",
    "NUM_FOLDS = 5\n",
    "\n",
    "results_path = r'C:\\Users\\kdmen\\Desktop\\Research\\personalization-privacy-risk\\PythonVersion\\PythonSimsRevamp\\results'\n",
    "current_directory = r'\\FinalSims'\n",
    "base_path = results_path + current_directory\n",
    "\n",
    "# CROSS\n",
    "cpfa_model_dict = load_final_model_performances(base_path+r'\\09-19_23-07_PFAFO_GDLS', 'GDLS_PFAFO_GDLS_KFold')\n",
    "cfa_model_dict = load_final_model_performances(base_path+r'\\09-19_23-25_FEDAVG', 'GDLS_FEDAVG_KFold')\n",
    "cnofl_model_dict = load_final_model_performances(base_path+r'\\09-19_23-30_NOFL', 'FULLSCIPYMIN_NOFL_KFold')\n",
    "# INTRA\n",
    "ipfa_model_dict = load_final_model_performances(base_path+r'\\09-19_23-05_PFAFO_GDLS', 'GDLS_PFAFO_GDLS_KFold')\n",
    "ifa_model_dict = load_final_model_performances(base_path+r'\\09-19_23-04_FEDAVG', 'GDLS_FEDAVG_KFold')\n",
    "inofl_model_dict = load_final_model_performances(base_path+r'\\09-19_22-56_NOFL', 'FULLSCIPYMIN_NOFL_KFold')\n"
   ]
  },
  {
   "cell_type": "code",
   "execution_count": null,
   "id": "b4f2d51f-cfe8-4041-85ab-877a3c5b2aaf",
   "metadata": {},
   "outputs": [],
   "source": [
    "cpfa_model_dict.keys()"
   ]
  },
  {
   "cell_type": "markdown",
   "id": "dbfdb3db",
   "metadata": {},
   "source": [
    "## No-FL Case"
   ]
  },
  {
   "cell_type": "code",
   "execution_count": null,
   "id": "b30c62ab-7e80-4234-9626-9ba7b148bf26",
   "metadata": {},
   "outputs": [],
   "source": [
    "extractration_dict = copy.deepcopy(inofl_model_dict)\n",
    "keys = extractration_dict.keys()\n",
    "num_updates = len(extractration_dict[list(extractration_dict.keys())[0]])\n",
    "print(f\"{num_updates} unique models\")\n",
    "\n",
    "# Initialize a list of empty DataFrames for each user group\n",
    "dec_flattened_list = [pd.DataFrame(columns=['Subject', 'Fold', 'Update Number', 'Flattened Dec']) for _ in range(num_updates)]\n",
    "\n",
    "# Regular expression pattern to extract subject and fold\n",
    "#pattern = r\"S(\\d+)_client_local_model_log_fold(\\d+)\"\n",
    "pattern = r\"(S\\d+)_client_local_model_log_fold(\\d+)\"\n",
    "\n",
    "# Loop through keys and updates to populate the DataFrames\n",
    "for key_idx, key in enumerate(keys):\n",
    "    match = re.search(pattern, key)  # Extract the subject and fold using regex\n",
    "    if match:\n",
    "        #subject = int(match.group(1))  # e.g., '0', '1', '10'\n",
    "        subject = match.group(1)  # e.g., 'S0', 'S1', 'S10'\n",
    "        fold = int(match.group(2))  # e.g., '0', '1', '2'\n",
    "        \n",
    "        for update_number in range(num_updates): \n",
    "            #for i in range(NUM_CLIENTS):  # Loop through all users\n",
    "            user_data = np.ravel(extractration_dict[key][update_number])\n",
    "            dec_flattened_list[update_number].loc[len(dec_flattened_list[update_number])] = [subject, fold, update_number, user_data]\n",
    "\n",
    "# Concat all the dfs into a single training input dataframe\n",
    "dec_flattened = pd.concat(dec_flattened_list, ignore_index=True, axis=0)\n",
    "\n",
    "# Expand the 'Flattened Dec' column into individual columns\n",
    "expanded_dec_df = dec_flattened.join(dec_flattened['Flattened Dec'].apply(pd.Series)).drop('Flattened Dec', axis=1)\n",
    "\n",
    "# Display the shape and a preview of the expanded dataframe\n",
    "print(expanded_dec_df.shape)\n",
    "expanded_dec_df.head()\n"
   ]
  },
  {
   "cell_type": "markdown",
   "id": "a850bb15",
   "metadata": {},
   "source": [
    "# Adversarial Modeling"
   ]
  },
  {
   "cell_type": "code",
   "execution_count": null,
   "id": "9d9d6712-6436-4246-a1d7-1cb744d22c30",
   "metadata": {},
   "outputs": [],
   "source": [
    "# LinearSVC() --> Was failling to converge..."
   ]
  },
  {
   "cell_type": "code",
   "execution_count": null,
   "id": "adf6b04c-18bf-461e-87b6-4a40296de118",
   "metadata": {},
   "outputs": [],
   "source": [
    "def make_all_update_models(flattened_input_df, n_start_stop, num_kfolds=7, stratification=False, i_modulus=3, i_lt_or_eq='eq', \n",
    "                           my_metrics_columns=['Algorithm', 'Update Number', 'CV Acc', 'Test Acc'], \n",
    "                           my_models_list=[KNeighborsClassifier(), DecisionTreeClassifier(), GradientBoostingClassifier()], \n",
    "                           make_df=True, full_test_df=pd.DataFrame()):\n",
    "\n",
    "    full_test_res_df = pd.DataFrame(columns=my_metrics_columns)\n",
    "\n",
    "    # Adjust stop index to prevent overflow\n",
    "    n_stop = n_start_stop[1] - 1\n",
    "\n",
    "    for i in range(n_start_stop[0], n_stop + 1):\n",
    "        print(f\"Round i={i} of stop={n_start_stop[1]}\")\n",
    "\n",
    "        if make_df:\n",
    "            #print(\"Making custom test set, NOT USING PASSED IN full_test_df\")\n",
    "\n",
    "            if i%i_modulus==0:\n",
    "                # Filter the dataframe to use data from updates <= i\n",
    "                # TODO: DECIDE ON USING <, <=, OR BOTH!\n",
    "                if i_gt_or_eq == 'lt':\n",
    "                    train_df = flattened_input_df[flattened_input_df['Update Number'] <= i]\n",
    "                elif i_gt_or_eq == 'eq':\n",
    "                    train_df = flattened_input_df[flattened_input_df['Update Number'] == i]\n",
    "                test_df = flattened_input_df[flattened_input_df['Update Number'] == n_stop]  # Hold out the last update for testing\n",
    "            else:\n",
    "                # SKIP THE ENTIRE LOOP\n",
    "                print(f\"{i} skipped for speed!\")\n",
    "                continue\n",
    "        else:\n",
    "            raise ValueError('Need to set train_df somehow...: for now, only use make_df=True')\n",
    "            test_df = full_test_df  \n",
    "\n",
    "        X_train = train_df.drop(columns=['Subject', 'Fold', 'Update Number'])\n",
    "        y_train = train_df['Subject']\n",
    "        \n",
    "        X_test = test_df.drop(columns=['Subject', 'Fold', 'Update Number'])\n",
    "        y_test = test_df['Subject']\n",
    "\n",
    "        # Explicitly use the 'Fold' column for cross-validation\n",
    "        for model in my_models_list:\n",
    "            cv_scores = []\n",
    "            for fold_num in range(num_kfolds):\n",
    "                #print(f\"Fold {fold_num}\")\n",
    "                train_fold = train_df[train_df['Fold'] != fold_num]\n",
    "                val_fold = train_df[train_df['Fold'] == fold_num]\n",
    "\n",
    "                X_train_fold = train_fold.drop(columns=['Subject', 'Fold', 'Update Number']).reset_index(drop=True)\n",
    "                y_train_fold = train_fold['Subject'].reset_index(drop=True)\n",
    "                #print(f\"y_train_fold: {y_train_fold.unique()}\")\n",
    "                #print(y_train_fold)\n",
    "                #print(type(y_train_fold))\n",
    "                #print(type(y_train_fold.iloc[0]))\n",
    "\n",
    "                X_val_fold = val_fold.drop(columns=['Subject', 'Fold', 'Update Number'])\n",
    "                y_val_fold = val_fold['Subject']\n",
    "\n",
    "                #print(f\"X_val_fold.shape: {X_val_fold.shape}\")\n",
    "                #print(f\"y_val_fold.shape: {y_val_fold.shape}\")\n",
    "                #print('y_val_fold')\n",
    "                #for value, count in y_val_fold.value_counts().items():\n",
    "                #    print(f\"{value}: {count}\")\n",
    "                #print()\n",
    "\n",
    "                # Fit model on the current training fold\n",
    "                model.fit(X_train_fold, y_train_fold)\n",
    "\n",
    "                # Evaluate on the validation fold\n",
    "                score = model.score(X_val_fold, y_val_fold)\n",
    "                cv_scores.append(score)\n",
    "\n",
    "            # After evaluating all folds, calculate the average cross-validation score\n",
    "            cv_avg_score = sum(cv_scores) / len(cv_scores)\n",
    "\n",
    "            # Calculate the test accuracy on the hold-out test set\n",
    "            test_acc = model.score(X_test, y_test)\n",
    "\n",
    "            # Save the results to the full_test_res_df DataFrame\n",
    "            new_row = pd.DataFrame({\n",
    "                'Algorithm': [type(model).__name__],\n",
    "                'Update Number': [i],\n",
    "                'CV Acc': [cv_avg_score],\n",
    "                'Test Acc': [test_acc]\n",
    "            })\n",
    "            full_test_res_df = pd.concat([full_test_res_df, new_row], ignore_index=True)\n",
    "\n",
    "    return full_test_res_df\n"
   ]
  },
  {
   "cell_type": "code",
   "execution_count": null,
   "id": "dccb782c-2333-415c-9a5e-7b61e61c4f16",
   "metadata": {},
   "outputs": [],
   "source": [
    "full_test_res_df = make_all_update_models(expanded_dec_df, n_start_stop=(0, num_updates))\n"
   ]
  },
  {
   "cell_type": "code",
   "execution_count": null,
   "id": "8a946a49-e5a4-45f4-9447-67a282912285",
   "metadata": {},
   "outputs": [],
   "source": [
    "full_test_res_df"
   ]
  },
  {
   "cell_type": "code",
   "execution_count": null,
   "id": "163ed956-da48-4794-a45d-49a25bb5b2b4",
   "metadata": {},
   "outputs": [],
   "source": [
    "knn_df = full_test_res_df[full_test_res_df['Algorithm']=='KNeighborsClassifier']\n",
    "#svc_df = full_test_res_df[full_test_res_df['Algorithm']=='LinearSVC']\n",
    "dt_df = full_test_res_df[full_test_res_df['Algorithm']=='DecisionTreeClassifier']\n",
    "gbt_df = full_test_res_df[full_test_res_df['Algorithm']=='GradientBoostingClassifier']"
   ]
  },
  {
   "cell_type": "code",
   "execution_count": 2,
   "id": "cab4fab5-d201-444f-8379-38d9ed48e69d",
   "metadata": {},
   "outputs": [
    {
     "ename": "NameError",
     "evalue": "name 'knn_df' is not defined",
     "output_type": "error",
     "traceback": [
      "\u001b[1;31m---------------------------------------------------------------------------\u001b[0m",
      "\u001b[1;31mNameError\u001b[0m                                 Traceback (most recent call last)",
      "\u001b[1;32m~\\AppData\\Local\\Temp\\ipykernel_11444\\1339227165.py\u001b[0m in \u001b[0;36m<cell line: 1>\u001b[1;34m()\u001b[0m\n\u001b[1;32m----> 1\u001b[1;33m \u001b[0mprint\u001b[0m\u001b[1;33m(\u001b[0m\u001b[0mknn_df\u001b[0m\u001b[1;33m.\u001b[0m\u001b[0mshape\u001b[0m\u001b[1;33m)\u001b[0m\u001b[1;33m\u001b[0m\u001b[1;33m\u001b[0m\u001b[0m\n\u001b[0m\u001b[0;32m      2\u001b[0m \u001b[0mknn_df\u001b[0m\u001b[1;33m.\u001b[0m\u001b[0mhead\u001b[0m\u001b[1;33m(\u001b[0m\u001b[1;33m)\u001b[0m\u001b[1;33m\u001b[0m\u001b[1;33m\u001b[0m\u001b[0m\n",
      "\u001b[1;31mNameError\u001b[0m: name 'knn_df' is not defined"
     ]
    }
   ],
   "source": [
    "print(knn_df.shape)\n",
    "knn_df.head()"
   ]
  },
  {
   "cell_type": "code",
   "execution_count": 3,
   "id": "d86856c6-d25b-4fbc-a9c6-ef18f279b173",
   "metadata": {},
   "outputs": [
    {
     "ename": "NameError",
     "evalue": "name 'knn_df' is not defined",
     "output_type": "error",
     "traceback": [
      "\u001b[1;31m---------------------------------------------------------------------------\u001b[0m",
      "\u001b[1;31mNameError\u001b[0m                                 Traceback (most recent call last)",
      "\u001b[1;32m~\\AppData\\Local\\Temp\\ipykernel_11444\\209923071.py\u001b[0m in \u001b[0;36m<cell line: 5>\u001b[1;34m()\u001b[0m\n\u001b[0;32m      3\u001b[0m \u001b[1;33m\u001b[0m\u001b[0m\n\u001b[0;32m      4\u001b[0m \u001b[0mplt\u001b[0m\u001b[1;33m.\u001b[0m\u001b[0mfigure\u001b[0m\u001b[1;33m(\u001b[0m\u001b[0mfigsize\u001b[0m\u001b[1;33m=\u001b[0m\u001b[1;33m(\u001b[0m\u001b[1;36m9\u001b[0m\u001b[1;33m,\u001b[0m\u001b[1;36m7\u001b[0m\u001b[1;33m)\u001b[0m\u001b[1;33m)\u001b[0m\u001b[1;33m\u001b[0m\u001b[1;33m\u001b[0m\u001b[0m\n\u001b[1;32m----> 5\u001b[1;33m \u001b[0mplt\u001b[0m\u001b[1;33m.\u001b[0m\u001b[0mplot\u001b[0m\u001b[1;33m(\u001b[0m\u001b[0mknn_df\u001b[0m\u001b[1;33m[\u001b[0m\u001b[1;34m'Update Number'\u001b[0m\u001b[1;33m]\u001b[0m\u001b[1;33m,\u001b[0m \u001b[0mknn_df\u001b[0m\u001b[1;33m[\u001b[0m\u001b[1;34m'Test Acc'\u001b[0m\u001b[1;33m]\u001b[0m\u001b[1;33m*\u001b[0m\u001b[1;36m100\u001b[0m\u001b[1;33m,\u001b[0m \u001b[0mlabel\u001b[0m\u001b[1;33m=\u001b[0m\u001b[1;34m'KNN'\u001b[0m\u001b[1;33m)\u001b[0m\u001b[1;33m\u001b[0m\u001b[1;33m\u001b[0m\u001b[0m\n\u001b[0m\u001b[0;32m      6\u001b[0m \u001b[0mplt\u001b[0m\u001b[1;33m.\u001b[0m\u001b[0mplot\u001b[0m\u001b[1;33m(\u001b[0m\u001b[0mdt_df\u001b[0m\u001b[1;33m[\u001b[0m\u001b[1;34m'Update Number'\u001b[0m\u001b[1;33m]\u001b[0m\u001b[1;33m,\u001b[0m \u001b[0mdt_df\u001b[0m\u001b[1;33m[\u001b[0m\u001b[1;34m'Test Acc'\u001b[0m\u001b[1;33m]\u001b[0m\u001b[1;33m*\u001b[0m\u001b[1;36m100\u001b[0m\u001b[1;33m,\u001b[0m \u001b[0mlabel\u001b[0m\u001b[1;33m=\u001b[0m\u001b[1;34m'DTree'\u001b[0m\u001b[1;33m)\u001b[0m\u001b[1;33m\u001b[0m\u001b[1;33m\u001b[0m\u001b[0m\n\u001b[0;32m      7\u001b[0m \u001b[0mplt\u001b[0m\u001b[1;33m.\u001b[0m\u001b[0mplot\u001b[0m\u001b[1;33m(\u001b[0m\u001b[0mgbt_df\u001b[0m\u001b[1;33m[\u001b[0m\u001b[1;34m'Update Number'\u001b[0m\u001b[1;33m]\u001b[0m\u001b[1;33m,\u001b[0m \u001b[0mgbt_df\u001b[0m\u001b[1;33m[\u001b[0m\u001b[1;34m'Test Acc'\u001b[0m\u001b[1;33m]\u001b[0m\u001b[1;33m*\u001b[0m\u001b[1;36m100\u001b[0m\u001b[1;33m,\u001b[0m \u001b[0mlabel\u001b[0m\u001b[1;33m=\u001b[0m\u001b[1;34m'GBC'\u001b[0m\u001b[1;33m)\u001b[0m\u001b[1;33m\u001b[0m\u001b[1;33m\u001b[0m\u001b[0m\n",
      "\u001b[1;31mNameError\u001b[0m: name 'knn_df' is not defined"
     ]
    },
    {
     "data": {
      "text/plain": [
       "<Figure size 900x700 with 0 Axes>"
      ]
     },
     "metadata": {},
     "output_type": "display_data"
    }
   ],
   "source": [
    "col_num = 1\n",
    "my_x_updates = list(range(17))\n",
    "\n",
    "plt.figure(figsize=(9,7))\n",
    "plt.plot(knn_df['Update Number'], knn_df['Test Acc']*100, label='KNN')\n",
    "plt.plot(dt_df['Update Number'], dt_df['Test Acc']*100, label='DTree')\n",
    "plt.plot(gbt_df['Update Number'], gbt_df['Test Acc']*100, label='GBC')\n",
    "plt.xticks(np.arange(0, num_updates, 1.0))\n",
    "plt.yticks(np.arange(0, 120, 20.0))\n",
    "plt.grid(axis='y')\n",
    "plt.xlabel('Update Number')\n",
    "plt.ylabel('Testing Accuracy')\n",
    "plt.title('Model Accuracy as a function of NoFL Decoder Update')\n",
    "plt.legend(loc='best')\n",
    "plt.show()"
   ]
  },
  {
   "cell_type": "code",
   "execution_count": null,
   "id": "8d14b5c0-f674-4564-9cc9-0d3fe1d60265",
   "metadata": {},
   "outputs": [],
   "source": []
  },
  {
   "cell_type": "code",
   "execution_count": null,
   "id": "2ca9cf69-5dfc-42e3-935e-46793b2c91c1",
   "metadata": {},
   "outputs": [],
   "source": []
  },
  {
   "cell_type": "code",
   "execution_count": null,
   "id": "08286c32-af7c-4c68-bf27-c255f0696e63",
   "metadata": {},
   "outputs": [],
   "source": []
  },
  {
   "cell_type": "code",
   "execution_count": null,
   "id": "7c7c773d-ee54-4a7f-abcf-4774ad6e6694",
   "metadata": {},
   "outputs": [],
   "source": []
  },
  {
   "cell_type": "code",
   "execution_count": null,
   "id": "11b8e34b-31a5-4c9e-8555-238518118ed8",
   "metadata": {},
   "outputs": [],
   "source": []
  },
  {
   "cell_type": "code",
   "execution_count": null,
   "id": "9b4dc3d3-bd26-4647-8ea6-1f565799a22a",
   "metadata": {},
   "outputs": [],
   "source": [
    "assert(False)"
   ]
  },
  {
   "cell_type": "code",
   "execution_count": null,
   "id": "94c4c863",
   "metadata": {},
   "outputs": [],
   "source": [
    "# RENAME / REWORK THESE!\n",
    "\n",
    "#global_lr_df_1ss = global_full_test_df_1ss[global_full_test_df_1ss['Algorithm']=='LogisticRegression()']\n",
    "global_knn_df_1ss = global_full_test_df_1ss[global_full_test_df_1ss['Algorithm']=='KNeighborsClassifier()']\n",
    "#global_svc_df_1ss = global_full_test_df_1ss[global_full_test_df_1ss['Algorithm']=='LinearSVC()']\n",
    "global_dt_df_1ss = global_full_test_df_1ss[global_full_test_df_1ss['Algorithm']=='DecisionTreeClassifier()']\n",
    "global_gbt_df_1ss = global_full_test_df_1ss[global_full_test_df_1ss['Algorithm']=='GradientBoostingClassifier()']"
   ]
  },
  {
   "cell_type": "code",
   "execution_count": null,
   "id": "4b0b54b2",
   "metadata": {},
   "outputs": [],
   "source": []
  }
 ],
 "metadata": {
  "kernelspec": {
   "display_name": "Python 3 (ipykernel)",
   "language": "python",
   "name": "python3"
  },
  "language_info": {
   "codemirror_mode": {
    "name": "ipython",
    "version": 3
   },
   "file_extension": ".py",
   "mimetype": "text/x-python",
   "name": "python",
   "nbconvert_exporter": "python",
   "pygments_lexer": "ipython3",
   "version": "3.9.16"
  }
 },
 "nbformat": 4,
 "nbformat_minor": 5
}
