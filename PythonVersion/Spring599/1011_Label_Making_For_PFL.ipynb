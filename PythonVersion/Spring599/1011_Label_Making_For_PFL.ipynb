{
 "cells": [
  {
   "cell_type": "markdown",
   "id": "d17f193d",
   "metadata": {},
   "source": [
    "> __Purpose:__ Create a couple of dataframes containing relevant information (eg one for EMG training data with EMG vectors, condition number, and update number), and then save them for later use so each subsequent NB doesn't have to go through this process."
   ]
  },
  {
   "cell_type": "code",
   "execution_count": 1,
   "id": "a61b3128",
   "metadata": {},
   "outputs": [],
   "source": [
    "import numpy as np\n",
    "import time\n",
    "import os\n",
    "import pandas as pd\n",
    "import pickle\n",
    "from experiment_params import *"
   ]
  },
  {
   "cell_type": "markdown",
   "id": "a850bb15",
   "metadata": {},
   "source": [
    "# Load In Data"
   ]
  },
  {
   "cell_type": "code",
   "execution_count": 2,
   "id": "f141f3e9",
   "metadata": {},
   "outputs": [],
   "source": [
    "with open('..\\Data\\continuous_full_data_block1.pickle', 'rb') as handle:\n",
    "    #refs_block1, poss_block1, dec_vels_block1, int_vel_block1, emgs_block1, Ws_block1, Hs_block1, alphas_block1, pDs_block1, times_block1, conditions_block1 = pickle.load(handle)\n",
    "    refs_block1, _, _, _, emgs_block1, _, _, _, _, times_block1, _ = pickle.load(handle)\n",
    "\n",
    "with open('..\\Data\\continuous_full_data_block2.pickle', 'rb') as handle:\n",
    "    #refs_block2, poss_block2, dec_vels_block2, int_vel_block2, emgs_block2, Ws_block2, Hs_block2, alphas_block2, pDs_block2, times_block2, conditions_block2 = pickle.load(handle)\n",
    "    refs_block2, _, _, _, emgs_block2, _, _, _, _, times_block2, _ = pickle.load(handle)"
   ]
  },
  {
   "cell_type": "markdown",
   "id": "5ee6826b",
   "metadata": {},
   "source": [
    "# Make Input and Label DFs"
   ]
  },
  {
   "cell_type": "code",
   "execution_count": 3,
   "id": "0ab83301",
   "metadata": {},
   "outputs": [
    {
     "name": "stdout",
     "output_type": "stream",
     "text": [
      "The subject keys are the labels\n",
      "['METACPHS_S106', 'METACPHS_S107', 'METACPHS_S108', 'METACPHS_S109', 'METACPHS_S110', 'METACPHS_S111', 'METACPHS_S112', 'METACPHS_S113', 'METACPHS_S114', 'METACPHS_S115', 'METACPHS_S116', 'METACPHS_S117', 'METACPHS_S118', 'METACPHS_S119']\n"
     ]
    }
   ],
   "source": [
    "print(\"The subject keys are the labels\")\n",
    "print(keys)"
   ]
  },
  {
   "cell_type": "code",
   "execution_count": 4,
   "id": "9581db6d",
   "metadata": {},
   "outputs": [
    {
     "name": "stdout",
     "output_type": "stream",
     "text": [
      "Processed EMG Data:\n",
      "(number of conditions, all data points, number of channels)\n",
      "(8, 20770, 64)\n"
     ]
    }
   ],
   "source": [
    "print(\"Processed EMG Data:\")\n",
    "print(\"(number of conditions, all data points, number of channels)\")\n",
    "print(emgs_block1[keys[0]].shape)"
   ]
  },
  {
   "cell_type": "code",
   "execution_count": 5,
   "id": "dde7768a",
   "metadata": {},
   "outputs": [
    {
     "name": "stdout",
     "output_type": "stream",
     "text": [
      "Corresponding Velocity Labels:\n",
      "(number of conditions, all data points, xy)\n",
      "(8, 20770, 2)\n"
     ]
    }
   ],
   "source": [
    "print(\"Corresponding Velocity Labels:\")\n",
    "print(\"(number of conditions, all data points, xy)\")\n",
    "print(refs_block1[keys[0]].shape)"
   ]
  },
  {
   "cell_type": "code",
   "execution_count": null,
   "id": "db9b3565",
   "metadata": {},
   "outputs": [],
   "source": []
  },
  {
   "cell_type": "code",
   "execution_count": 6,
   "id": "e5d7e03b",
   "metadata": {},
   "outputs": [],
   "source": [
    "subj_array_list = [(emgs_block1[key], refs_block1[key]) for key in keys]"
   ]
  },
  {
   "cell_type": "code",
   "execution_count": 7,
   "id": "a72e4ae1",
   "metadata": {},
   "outputs": [
    {
     "data": {
      "text/plain": [
       "14"
      ]
     },
     "execution_count": 7,
     "metadata": {},
     "output_type": "execute_result"
    }
   ],
   "source": [
    "len(subj_array_list)"
   ]
  },
  {
   "cell_type": "code",
   "execution_count": 8,
   "id": "9652e638",
   "metadata": {},
   "outputs": [
    {
     "name": "stdout",
     "output_type": "stream",
     "text": [
      "2\n",
      "(8, 20770, 64)\n",
      "(8, 20770, 2)\n"
     ]
    }
   ],
   "source": [
    "print(len(subj_array_list[-1]))\n",
    "print(subj_array_list[-1][0].shape)\n",
    "print(subj_array_list[-1][1].shape)"
   ]
  },
  {
   "cell_type": "code",
   "execution_count": 9,
   "id": "090d8e60",
   "metadata": {},
   "outputs": [
    {
     "name": "stdout",
     "output_type": "stream",
     "text": [
      "Shape of the emg_block1 df from 101_ NB: (7168, 20770)\n",
      "7168 / 8 conditions / 64 channels = (14.0) --> AKA 14 participants\n"
     ]
    }
   ],
   "source": [
    "print(f\"Shape of the emg_block1 df from 101_ NB: {7168, 20770}\")\n",
    "print(f\"7168 / 8 conditions / 64 channels = ({7168/8/64}) --> AKA 14 participants\")"
   ]
  },
  {
   "cell_type": "code",
   "execution_count": 10,
   "id": "a23ed446",
   "metadata": {},
   "outputs": [],
   "source": [
    "for idx, subj_array in enumerate(subj_array_list):\n",
    "    traindata_csv_name = \"..\\\\Data\\\\Client_Specific_Files\\\\\" + \"UserID\" + str(idx) + \"_TrainData_8by20770by64\"\n",
    "    labels_csv_name = \"..\\\\Data\\\\Client_Specific_Files\\\\\" + \"UserID\" + str(idx) + \"_Labels_8by20770by2\"\n",
    "    np.save(traindata_csv_name, subj_array[0])\n",
    "    np.save(labels_csv_name, subj_array[1])\n",
    "\n",
    "#loaded_array = np.load(\"sample.npy\")"
   ]
  },
  {
   "cell_type": "code",
   "execution_count": 11,
   "id": "4607eab7",
   "metadata": {},
   "outputs": [],
   "source": [
    "#t0 = time.time()\n",
    "#\n",
    "#for key in keys:\n",
    "#    subj_emgs = emgs_block1[key]\n",
    "#    \n",
    "#    for my_cond in range(num_conds):\n",
    "#        for my_channel in range(num_channels):\n",
    "#            emg_labels_df1.loc[len(emg_labels_df1)] = [key, my_cond, my_channel]\n",
    "#            # Ought to make sure all of these are the same length...\n",
    "#            emg_data_df1 = pd.concat([emg_data_df1, pd.DataFrame(subj_emgs[my_cond, :, my_channel]).transpose()], ignore_index=True)\n",
    "#            \n",
    "#t1 = time.time()\n",
    "#total = t1-t0  \n",
    "#print(total)"
   ]
  },
  {
   "cell_type": "markdown",
   "id": "b81abf54",
   "metadata": {},
   "source": [
    "## Repeat for Block2"
   ]
  },
  {
   "cell_type": "code",
   "execution_count": 11,
   "id": "2847ff4d",
   "metadata": {},
   "outputs": [
    {
     "data": {
      "text/plain": [
       "Ellipsis"
      ]
     },
     "execution_count": 11,
     "metadata": {},
     "output_type": "execute_result"
    }
   ],
   "source": [
    "..."
   ]
  },
  {
   "cell_type": "markdown",
   "id": "57ccd019",
   "metadata": {},
   "source": [
    "## Save Data"
   ]
  },
  {
   "cell_type": "code",
   "execution_count": 15,
   "id": "172b121a",
   "metadata": {},
   "outputs": [],
   "source": [
    "#emg_data_df1.to_csv(\"..\\Data\\emg_full_data1.csv\")\n",
    "#emg_labels_df1.to_csv(\"..\\Data\\emg_full_labels1.csv\")"
   ]
  },
  {
   "cell_type": "code",
   "execution_count": null,
   "id": "c485bc46",
   "metadata": {},
   "outputs": [],
   "source": []
  }
 ],
 "metadata": {
  "kernelspec": {
   "display_name": "Python 3 (ipykernel)",
   "language": "python",
   "name": "python3"
  },
  "language_info": {
   "codemirror_mode": {
    "name": "ipython",
    "version": 3
   },
   "file_extension": ".py",
   "mimetype": "text/x-python",
   "name": "python",
   "nbconvert_exporter": "python",
   "pygments_lexer": "ipython3",
   "version": "3.10.10"
  }
 },
 "nbformat": 4,
 "nbformat_minor": 5
}
